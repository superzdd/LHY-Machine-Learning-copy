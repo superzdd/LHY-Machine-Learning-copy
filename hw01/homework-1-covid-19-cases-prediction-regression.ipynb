{
 "cells": [
  {
   "cell_type": "markdown",
   "metadata": {
    "id": "guE34D3Fj2R9"
   },
   "source": [
    "# **Homework 1: COVID-19 Cases Prediction (Regression)**"
   ]
  },
  {
   "cell_type": "markdown",
   "metadata": {
    "id": "ZFBEcm88x2UT"
   },
   "source": [
    "### [作业辅导](https://www.youtube.com/watch?v=iMzxjBDMvac)"
   ]
  },
  {
   "cell_type": "markdown",
   "metadata": {
    "id": "V57zhcTp1Xxb"
   },
   "source": [
    "Objectives:\n",
    "* Solve a regression problem with deep neural networks (DNN).\n",
    "* Understand basic DNN training tips.\n",
    "* Familiarize yourself with PyTorch.\n",
    "\n",
    "If you have any questions, please contact the TAs via TA hours, NTU COOL, or email to mlta-2023-spring@googlegroups.com"
   ]
  },
  {
   "cell_type": "code",
   "execution_count": 1,
   "metadata": {
    "id": "GUATI4ONArv_",
    "outputId": "c5cb18a6-2221-411e-e8ee-b3d574930b3f",
    "tags": []
   },
   "outputs": [
    {
     "name": "stdout",
     "output_type": "stream",
     "text": [
      "Fri Nov 10 22:58:46 2023       \n",
      "+---------------------------------------------------------------------------------------+\n",
      "| NVIDIA-SMI 537.13                 Driver Version: 537.13       CUDA Version: 12.2     |\n",
      "|-----------------------------------------+----------------------+----------------------+\n",
      "| GPU  Name                     TCC/WDDM  | Bus-Id        Disp.A | Volatile Uncorr. ECC |\n",
      "| Fan  Temp   Perf          Pwr:Usage/Cap |         Memory-Usage | GPU-Util  Compute M. |\n",
      "|                                         |                      |               MIG M. |\n",
      "|=========================================+======================+======================|\n",
      "|   0  NVIDIA GeForce RTX 4060 ...  WDDM  | 00000000:01:00.0  On |                  N/A |\n",
      "| N/A   38C    P8               2W /  93W |     94MiB /  8188MiB |      0%      Default |\n",
      "|                                         |                      |                  N/A |\n",
      "+-----------------------------------------+----------------------+----------------------+\n",
      "                                                                                         \n",
      "+---------------------------------------------------------------------------------------+\n",
      "| Processes:                                                                            |\n",
      "|  GPU   GI   CI        PID   Type   Process name                            GPU Memory |\n",
      "|        ID   ID                                                             Usage      |\n",
      "|=======================================================================================|\n",
      "|    0   N/A  N/A     22028    C+G   ...ns\\Software\\Current\\LogiOverlay.exe    N/A      |\n",
      "+---------------------------------------------------------------------------------------+\n"
     ]
    }
   ],
   "source": [
    "# check gpu type\n",
    "!nvidia-smi"
   ]
  },
  {
   "cell_type": "markdown",
   "metadata": {
    "id": "igqIMEgu64-F"
   },
   "source": [
    "# Import packages"
   ]
  },
  {
   "cell_type": "code",
   "execution_count": 2,
   "metadata": {
    "id": "xybQNYCXYu13",
    "tags": []
   },
   "outputs": [],
   "source": [
    "# Numerical Operations\n",
    "import math\n",
    "import numpy as np\n",
    "\n",
    "# Reading/Writing Data\n",
    "import pandas as pd\n",
    "import os\n",
    "import csv\n",
    "\n",
    "# Feature selecting\n",
    "import sklearn\n",
    "from sklearn.feature_selection import SelectKBest,f_regression\n",
    "\n",
    "# For Progress Bar\n",
    "from tqdm import tqdm\n",
    "\n",
    "# Pytorch\n",
    "import torch\n",
    "import torch.nn as nn\n",
    "from torch.utils.data import Dataset, DataLoader, random_split\n",
    "\n",
    "# For plotting learning curve\n",
    "from torch.utils.tensorboard import SummaryWriter"
   ]
  },
  {
   "cell_type": "code",
   "execution_count": 3,
   "metadata": {
    "id": "5hHv5NavqNjt",
    "tags": []
   },
   "outputs": [],
   "source": [
    "# playground\n",
    "# dir方法会返回类中所有的公共方法\n",
    "# dir(torch)\n",
    "# dir(torch.cuda.is_available)\n",
    "# help(torch.cuda.is_available)"
   ]
  },
  {
   "cell_type": "markdown",
   "metadata": {
    "id": "Tm2aXcb-j9Fc"
   },
   "source": [
    "# Download data\n",
    "If the Google Drive links below do not work, you can use the dropbox link below or download data from [Kaggle](https://www.kaggle.com/competitions/ml2023spring-hw1/overview), and upload data manually to the workspace."
   ]
  },
  {
   "cell_type": "code",
   "execution_count": 4,
   "metadata": {
    "id": "YPmfl-awlKZA",
    "tags": []
   },
   "outputs": [],
   "source": [
    "# google drive link\n",
    "# !gdown --id '1BjXalPZxq9mybPKNjF3h5L3NcF7XKTS-' --output covid_train.csv\n",
    "# !gdown --id '1B55t74Jg2E5FCsKCsUEkPKIuqaY7UIi1' --output covid_test.csv\n",
    "\n",
    "# dropbox link\n",
    "# wget方法会报错，经查资料这个wget是linux系统上的方法，由于现在电脑是windows无法调用，后续在mac电脑上尝试\n",
    "# 在colab上可以执行\n",
    "# !wget -O covid_train.csv https://www.dropbox.com/s/lmy1riadzoy0ahw/covid.train.csv?dl=0\n",
    "# !wget -O covid_test.csv https://www.dropbox.com/s/zalbw42lu4nmhr2/covid.test.csv?dl=0\n",
    "# /kaggle/input/hw1-covid-19\n",
    "\n",
    "File_Path_Train = './covid_train.csv'\n",
    "File_Path_Test = './covid_test.csv'\n",
    "\n",
    "# Kaggle\n",
    "# File_Path_Train = '/kaggle/input/hw1-covid-19/covid_train.csv'\n",
    "# File_Path_Test = '/kaggle/input/hw1-covid-19/covid_test.csv'\n",
    "\n",
    "# Common\n",
    "ds_train = pd.read_csv(File_Path_Train)\n",
    "ds_test = pd.read_csv(File_Path_Train)"
   ]
  },
  {
   "cell_type": "markdown",
   "metadata": {
    "id": "Y3vANJd1qNju"
   },
   "source": [
    "### Data checking\n",
    "先检查一遍数据，按照作业要求，基础数据中，应该包含了美国35个州过去3天的感染人数数据：\n",
    "\n",
    "- 先尝试看懂数据\n",
    "- 如果有数据需要padding，先做padding"
   ]
  },
  {
   "cell_type": "code",
   "execution_count": 5,
   "metadata": {
    "id": "uVV5OxXCqNju",
    "tags": []
   },
   "outputs": [],
   "source": [
    "# ds_train.head()"
   ]
  },
  {
   "cell_type": "code",
   "execution_count": 6,
   "metadata": {
    "id": "8TUYSGrXqNju",
    "tags": []
   },
   "outputs": [],
   "source": [
    "# ds_train.describe()"
   ]
  },
  {
   "cell_type": "code",
   "execution_count": 7,
   "metadata": {
    "id": "Ewb6w88qqNjv",
    "tags": []
   },
   "outputs": [],
   "source": [
    "# 查看所有列\n",
    "# for idx,name in enumerate(ds_train.columns):\n",
    "#   print(idx,name)"
   ]
  },
  {
   "cell_type": "code",
   "execution_count": 8,
   "metadata": {
    "id": "Hkkp67JuvXrb",
    "tags": []
   },
   "outputs": [],
   "source": [
    "# ds_train.shape[0]"
   ]
  },
  {
   "cell_type": "code",
   "execution_count": 9,
   "metadata": {
    "id": "-OBB-6r1qNjv",
    "tags": []
   },
   "outputs": [],
   "source": [
    "# print('--------------------------- STATE ----------------------------------')\n",
    "# print('id:',ds_train.columns.get_loc('id'))\n",
    "# print('AL:',ds_train.columns.get_loc('AL'))\n",
    "# print('WI:',ds_train.columns.get_loc('WI'))\n",
    "# print('--------------------------- DAY 1 ----------------------------------')\n",
    "# print('cli:',ds_train.columns.get_loc('cli'))\n",
    "# print('tested_positive:',ds_train.columns.get_loc('tested_positive'))\n",
    "# print('--------------------------- DAY 2 ----------------------------------')\n",
    "# print('cli.1:',ds_train.columns.get_loc('cli.1'))\n",
    "# print('tested_positive.1:',ds_train.columns.get_loc('tested_positive.1'))\n",
    "# print('--------------------------- DAY 3 ----------------------------------')\n",
    "# print('cli.2:',ds_train.columns.get_loc('cli.2'))\n",
    "# print('tested_positive.2:',ds_train.columns.get_loc('tested_positive.2'))"
   ]
  },
  {
   "cell_type": "markdown",
   "metadata": {
    "id": "rOtgfk5xqNjv"
   },
   "source": [
    "#### 检查是否包含35个州?\n",
    "不是35个州，一共34个州。从col[1]到col[34]，AL->WI，\n",
    "> PS: 美国一共50个州 https://zh.wikipedia.org/zh-hans/%E7%BE%8E%E5%9B%BD%E5%B7%9E%E4%BB%BD\n",
    "\n",
    "#### 检查是否包含3天的数据?\n",
    "有三天的数据，每一天有18列数据\n",
    "- 第一天的数据从col[35]到col[52],从cli到tested_positive\n",
    "- 第二天有.1的尾缀，从col[53]到col[70],从cli.1到tested_positive.1\n",
    "- 第三天有.2的尾缀，从col[71]到col[88],从cli.2到tested_positive.2\n",
    "\n",
    "#### 列名分类\n",
    "|no|col name|remark|\n",
    "|-----------|-----------|-----------|\n",
    "|1|COVID-like illness|冠状病毒样疾病|\n",
    "|2|Behavior indicators|行为指标|\n",
    "|3|Belief indicators|信念指标|\n",
    "|4|Mental indicator|心理指标|\n",
    "|5|Enviromental indicator|环境指标|\n",
    "|6|Tested Positive Cases|检测呈阳性的病例|\n",
    "\n",
    "- ![col-feature-desc](./hw-col-feature-desc.jpg)\n",
    "- ![col-feature-desc-2](./hw-col-feature-desc-2.jpg)\n",
    "- ![col-feature-desc-3](./hw-col-feature-desc-3.jpg)\n",
    "\n",
    "#### 列名解释\n",
    "由于所有列都为缩写，看起来很费劲，这里找到了一份调查，其中有对应翻译其内容：\n",
    "https://cmu-delphi.github.io/delphi-epidata/api/covidcast-signals/fb-survey.html\n",
    "\n",
    "第一个字母为*w*的，代表百分比，否则代表数量\n",
    "\n",
    "简要摘录内容如下:\n",
    "\n",
    "|no|col name|desc|Chinese desc|Classification|\n",
    "|-----------|-----------|-----------|-----------|-----------|\n",
    "|1|cli|COVID-like illness|COVID-like illness新冠疾病|COVID-like illness|\n",
    "|2|ili|influenza-like illness|流感样疾病|COVID-like illness|\n",
    "|3|wnohh_cmnty_cli|not including household community COVID-like illness|社区中非家庭中统计到的cli比例|COVID-like illness|\n",
    "|4|wbelief_masking_effective||相信戴口罩是有效的预防手段|Belief indicators|\n",
    "|5|wbelief_distancing_effective||相信远距离是有效的预防手段|Belief indicators|\n",
    "|6|wcovid_vaccinated_friends||他们的大多数朋友和家人都接种了新冠肺炎疫苗|Behavior indicators|\n",
    "|7|wlarge_event_indoors||参与过大于10人活动的百分比|Behavior indicators|\n",
    "|8|wothers_masked_public||受访者表示除他之外 ，大多数人或所有人在公共场合都戴口罩的估计百分比|Enviromental indicator|\n",
    "|9|wothers_distanced_public||受访者表示除他之外 ，大多数人或所有人在公共场所与他们保持至少为6英尺（1.8米）的估计百分比|Enviromental indicator|\n",
    "|10|wshop_indoors||去过室内市场、杂货店或药店的受访者的估计百分比|Behavior indicators|\n",
    "|11|wrestaurant_indoors||去过室内“酒吧、餐厅或咖啡馆”的受访者的估计百分比|Behavior indicators|\n",
    "|12|wworried_catch_covid||对新冠肺炎感到非常或适度担忧的受访者的估计百分比|Mental indicator|\n",
    "|13|hh_cmnty_cli||在当地社区报告新冠的人数包括他们的家人|COVID-like illness|\n",
    "|14|nohh_cmnty_cli||在当地社区报告新冠的人数，不包括他们的家人|COVID-like illness|\n",
    "|15|wearing_mask_7d||过去7天内大部分或所有时间在公共场合戴口罩的人|Enviromental indicator|\n",
    "|16|public_transit||使用公共交通|Behavior indicators|\n",
    "|17|worried_finances||表示非常担心或有点担心下个月家庭财务状况的受访者|Mental indicator|\n",
    "|18|tested_positive||检测呈阳性的病例|Tested Positive Cases|"
   ]
  },
  {
   "cell_type": "code",
   "execution_count": 10,
   "metadata": {
    "id": "HAvuF-1JqNjv",
    "tags": []
   },
   "outputs": [],
   "source": [
    "# print('--------------------------- COVID-like illness ----------------------------------')\n",
    "# print(ds_train.loc[:0,['id','cli','ili','wnohh_cmnty_cli','hh_cmnty_cli','nohh_cmnty_cli']])\n",
    "# print('--------------------------- Behavior indicators ----------------------------------')\n",
    "# print(ds_train.loc[:0,['id','wcovid_vaccinated_friends','wlarge_event_indoors','wshop_indoors','wrestaurant_indoors','public_transit']])\n",
    "# print('--------------------------- Belief indicators ----------------------------------')\n",
    "# print(ds_train.loc[:0,['id','wbelief_masking_effective','wbelief_distancing_effective']])\n",
    "# print('--------------------------- Mental indicator ----------------------------------')\n",
    "# print(ds_train.loc[:0,['id','wworried_catch_covid','worried_finances']])\n",
    "# print('--------------------------- Enviromental indicator ----------------------------------')\n",
    "# print(ds_train.loc[:0,['id','wothers_masked_public','wothers_distanced_public','wearing_mask_7d']])\n",
    "# print('--------------------------- Tested Positive Cases ----------------------------------')\n",
    "# print(ds_train.loc[:0,['id','tested_positive',]])"
   ]
  },
  {
   "cell_type": "markdown",
   "metadata": {
    "id": "0pgkOh2e9UjE"
   },
   "source": [
    "# Configurations\n",
    "`config` contains hyper-parameters for training and the path to save your model."
   ]
  },
  {
   "cell_type": "code",
   "execution_count": 11,
   "metadata": {
    "id": "QoWPUahCtoT6",
    "tags": []
   },
   "outputs": [],
   "source": [
    "device = 'cuda' if torch.cuda.is_available() else 'cpu'\n",
    "\n",
    "# 'select_features': np.r_[1:34,35:37,40:45,47:50,52,53:55,58:63,65:68,70,71:73,76:81,83:86], # Select columns with out id, Mental indicator\n",
    "config = {\n",
    "    'model_use_business': False,# 设计模型的时候，神经元数量的确实方式是按照feature数量来，还是按照2的N次方来\n",
    "    'seed': 19871201,      # Your seed number, you can pick your lucky number. :)\n",
    "    'select_all': False,   # Whether to use all features.\n",
    "    'select_features': [35,36,37,47,48,52,53,54,55,65,66,70,71,72,73,83,84],\n",
    "    'valid_ratio': 0.2,   # validation_size = train_size * valid_ratio\n",
    "    'n_epochs': 5000,     # Number of epochs.\n",
    "    'batch_size': 256,\n",
    "    'learning_rate': 1e-3,\n",
    "    'early_stop': 600,    # If model has not improved for this many consecutive epochs, stop training.\n",
    "    'weight_decay': 1e-6,\n",
    "    'save_path': './models/model.ckpt'  # Your model will be saved here.\n",
    "}"
   ]
  },
  {
   "cell_type": "markdown",
   "metadata": {
    "id": "cXNTj0qDWtK8"
   },
   "source": [
    "## 记录一些实验结果"
   ]
  },
  {
   "cell_type": "markdown",
   "metadata": {
    "id": "7NE3w7dODLK9"
   },
   "source": [
    "### Epoch [1000/1000]: Train loss: 0.8504, Valid loss: 0.8970\n",
    "将model的layer改为2的n次方，感觉效果一般\n",
    "```python\n",
    "# 将神经元得与业务解耦，将业务体现在input_dim,也就是feature_select上。\n",
    "# 下方linear的神经元数量修改为2的n次方\n",
    "layer_1_nodes = 64\n",
    "layer_2_nodes = 32\n",
    "layer_3_nodes = 16\n",
    "\n",
    "class My_Model(nn.Module):\n",
    "    def __init__(self, input_dim):\n",
    "        super(My_Model, self).__init__()\n",
    "        # TODO: modify model's structure, be aware of dimensions.\n",
    "        self.layers = nn.Sequential(\n",
    "            nn.Linear(input_dim, layer_1_nodes),\n",
    "            nn.ReLU(),\n",
    "            nn.Linear(layer_1_nodes, layer_2_nodes),\n",
    "            nn.ReLU(),\n",
    "            nn.Linear(layer_2_nodes, layer_3_nodes),\n",
    "            nn.ReLU(),\n",
    "            nn.Linear(layer_3_nodes, 1) # 最后归为一个阳性的数量\n",
    "        )\n",
    "\n",
    "    def forward(self, x):\n",
    "        x = self.layers(x)\n",
    "        x = x.squeeze(1) # (B, 1) -> (B)\n",
    "        return x\n",
    "```"
   ]
  },
  {
   "cell_type": "markdown",
   "metadata": {
    "id": "fXWwTo8L-1f7"
   },
   "source": [
    "### Epoch [1000/1000]: Train loss: 0.8320, Valid loss: 0.8807\n",
    "\n",
    "选feature时，更新了feature的筛选，将beilf和mental都去掉。同时，将feature放入config，这需要修改train时的代码\n",
    "```python\n",
    "config = {\n",
    "    'seed': 19871201,      # Your seed number, you can pick your lucky number. :)\n",
    "    'select_all': False,   # Whether to use all features.\n",
    "    'select_features': np.r_[1:34,35:37,40:45,47:50,52,53:55,58:63,65:68,70,71:73,76:81,83:86], # Select columns with out id, Mental indicator\n",
    "    'valid_ratio': 0.2,   # validation_size = train_size * valid_ratio\n",
    "    'n_epochs': 1000,     # Number of epochs.\n",
    "    'batch_size': 34*10,\n",
    "    'learning_rate': 1e-3,\n",
    "    'early_stop': 600,    # If model has not improved for this many consecutive epochs, stop training.\n",
    "    'weight_decay': 1e-6,\n",
    "    'save_path': './models/model.ckpt'  # Your model will be saved here.\n",
    "}\n",
    "\n",
    "x_train, x_valid, x_test, y_train, y_valid = select_feat(train_data, valid_data, test_data, config['select_all'], config['select_features'])\n",
    "```\n",
    "\n",
    "optimizer使用了Adam方法，并进行L2 Regularzation\n",
    "```python\n",
    "optimizer = torch.optim.Adam(model.parameters(), lr=config['learning_rate'], betas=(0.9, 0.999), eps=1e-08, weight_decay=config['weight_decay'], amsgrad=False)\n",
    "```"
   ]
  },
  {
   "cell_type": "markdown",
   "metadata": {
    "id": "MrtnC_rAX__s"
   },
   "source": [
    "### Epoch [1000/1000]: Train loss: 1.1560, Valid loss: 1.3151\n",
    "\n",
    "```python\n",
    "# define feature\n",
    "state_count = 34\n",
    "feature_count = 15\n",
    "feature_type_count = 4 # 去掉了一个心理因素\n",
    "neuron_nodes = state_count + feature_count*3 # 34个州，一共有15列有用特征*3天\n",
    "\n",
    "nn.Sequential(\n",
    "    nn.Linear(input_dim, neuron_nodes),\n",
    "    nn.ReLU(),\n",
    "    nn.Linear(neuron_nodes, feature_count),\n",
    "    nn.ReLU(),\n",
    "    nn.Linear(feature_count, feature_type_count),\n",
    "    nn.ReLU(),\n",
    "    nn.Linear(feature_type_count, 1) # 最后归为一个阳性的数量\n",
    ")\n",
    "\n",
    "feat_idx = np.r_[1:34,35:45,47:50,52,53:63,65:68,70,71:81,83:86] # Select columns with out id, Mental indicator\n",
    "```"
   ]
  },
  {
   "cell_type": "markdown",
   "metadata": {
    "id": "xfJ2XuRitJ7n"
   },
   "source": [
    "### Epoch [1000/1000]: Train loss: 4.8335, Valid loss: 3.4793\n",
    "\n",
    "```python\n",
    "class My_Model(nn.Module):\n",
    "    def __init__(self, input_dim):\n",
    "        super(My_Model, self).__init__()\n",
    "        # TODO: modify model's structure, be aware of dimensions.\n",
    "        self.layers = nn.Sequential(\n",
    "            nn.Linear(input_dim, 17),\n",
    "            nn.ReLU(),\n",
    "            nn.ReLU(),\n",
    "            nn.Linear(17, 5),\n",
    "            nn.ReLU(),\n",
    "            nn.ReLU(),\n",
    "            nn.Linear(5, 1)\n",
    "        )\n",
    "\n",
    "    def forward(self, x):\n",
    "        x = self.layers(x)\n",
    "        x = x.squeeze(1) # (B, 1) -> (B)\n",
    "        return x\n",
    "\n",
    "```"
   ]
  },
  {
   "cell_type": "markdown",
   "metadata": {
    "id": "HXjnXc7Ck-9N"
   },
   "source": [
    "### 下面这个原生网络的结果\n",
    "修改batch之后：\n",
    "\n",
    "\n",
    "Epoch [1000/1000]: Train loss: 5.5759, Valid loss: 2.4200\n",
    "\n",
    "Epoch [4569/5000]: Train loss: 1.2975, Valid loss: 1.9382\n",
    "\n",
    "``` python\n",
    "class My_Model(nn.Module):\n",
    "    def __init__(self, input_dim):\n",
    "        super(My_Model, self).__init__()\n",
    "        # TODO: modify model's structure, be aware of dimensions.\n",
    "        self.layers = nn.Sequential(\n",
    "            nn.Linear(input_dim, 16),\n",
    "            nn.ReLU(),\n",
    "            nn.Linear(16, 8),\n",
    "            nn.ReLU(),\n",
    "            nn.Linear(8, 1)\n",
    "        )\n",
    "\n",
    "    def forward(self, x):\n",
    "        x = self.layers(x)\n",
    "        x = x.squeeze(1) # (B, 1) -> (B)\n",
    "        return x\n",
    "```"
   ]
  },
  {
   "cell_type": "markdown",
   "metadata": {
    "id": "fTAVqRfc2KK3"
   },
   "source": [
    "# Some Utility Functions\n",
    "\n",
    "You do not need to modify this part."
   ]
  },
  {
   "cell_type": "code",
   "execution_count": 12,
   "metadata": {
    "id": "RbrcpfYN2I-H",
    "tags": []
   },
   "outputs": [],
   "source": [
    "def same_seed(seed):\n",
    "    '''Fixes random number generator seeds for reproducibility.'''\n",
    "    torch.backends.cudnn.deterministic = True\n",
    "    torch.backends.cudnn.benchmark = False\n",
    "    np.random.seed(seed)\n",
    "    torch.manual_seed(seed)\n",
    "    if torch.cuda.is_available():\n",
    "        torch.cuda.manual_seed_all(seed)\n",
    "\n",
    "def train_valid_split(data_set, valid_ratio, seed):\n",
    "    '''Split provided training data into training set and validation set'''\n",
    "    valid_set_size = int(valid_ratio * len(data_set))\n",
    "    train_set_size = len(data_set) - valid_set_size\n",
    "    train_set, valid_set = random_split(data_set, [train_set_size, valid_set_size], generator=torch.Generator().manual_seed(seed))\n",
    "    return np.array(train_set), np.array(valid_set)\n",
    "\n",
    "def predict(test_loader, model, device):\n",
    "    model.eval() # Set your model to evaluation mode.切换模型状态，后面还有model.train()，要来回切换使用，挺麻烦的\n",
    "    preds = []\n",
    "    for x in tqdm(test_loader):\n",
    "        x = x.to(device)\n",
    "        with torch.no_grad():\n",
    "            pred = model(x)\n",
    "            preds.append(pred.detach().cpu())\n",
    "    preds = torch.cat(preds, dim=0).numpy()\n",
    "    return preds"
   ]
  },
  {
   "cell_type": "markdown",
   "metadata": {
    "id": "IqO3lTm78nNO"
   },
   "source": [
    "# Dataset"
   ]
  },
  {
   "cell_type": "code",
   "execution_count": 13,
   "metadata": {
    "id": "-mjaJM0wprMs",
    "tags": []
   },
   "outputs": [],
   "source": [
    "class COVID19Dataset(Dataset):\n",
    "    '''\n",
    "    x: Features.\n",
    "    y: Targets, if none, do prediction.\n",
    "    '''\n",
    "    def __init__(self, x, y=None):\n",
    "        if y is None:\n",
    "            self.y = y\n",
    "        else:\n",
    "            self.y = torch.FloatTensor(y)\n",
    "        self.x = torch.FloatTensor(x)\n",
    "\n",
    "    def __getitem__(self, idx):\n",
    "        if self.y is None:\n",
    "            return self.x[idx]\n",
    "        else:\n",
    "            return self.x[idx], self.y[idx]\n",
    "\n",
    "    def __len__(self):\n",
    "        return len(self.x)"
   ]
  },
  {
   "cell_type": "markdown",
   "metadata": {
    "id": "m73ooU75CL_j"
   },
   "source": [
    "# Neural Network Model\n",
    "Try out different model architectures by modifying the class below."
   ]
  },
  {
   "cell_type": "code",
   "execution_count": 14,
   "metadata": {
    "id": "Qn97_WvvrEkG",
    "tags": []
   },
   "outputs": [],
   "source": [
    "# @title\n",
    "# 定义nn(nerual network) 一般需要重写init和forward方法\n",
    "# forward是前馈网络的意思\n",
    "\n",
    "# 将神经元得与业务解耦，将业务体现在input_dim,也就是feature_select上\n",
    "# 下方linear的神经元数量修改为2的n次方\n",
    "layer_1_nodes = 16\n",
    "layer_2_nodes = 8\n",
    "layer_3_nodes = 4\n",
    "\n",
    "if config['model_use_business']:\n",
    "  # define feature\n",
    "  state_count = 34\n",
    "  previous_count = 2\n",
    "  feature_count = 13\n",
    "  feature_type_count = 3 # 去掉了心理因素，相信因素\n",
    "  neuron_nodes = feature_count*3 # 34个州，一共有15列有用特征*3天\n",
    "\n",
    "  layer_1_nodes = neuron_nodes + previous_count\n",
    "  layer_2_nodes = feature_count+1 + previous_count\n",
    "  layer_3_nodes = feature_type_count+ previous_count\n",
    "\n",
    "class My_Model(nn.Module):\n",
    "    def __init__(self, input_dim):\n",
    "        super(My_Model, self).__init__()\n",
    "        # TODO: modify model's structure, be aware of dimensions.\n",
    "        self.layers = nn.Sequential(\n",
    "            nn.Linear(input_dim, layer_1_nodes),\n",
    "            nn.ReLU(),\n",
    "            nn.Linear(layer_1_nodes, layer_2_nodes),\n",
    "            nn.ReLU(),\n",
    "            nn.Linear(layer_2_nodes, layer_3_nodes),\n",
    "            nn.ReLU(),\n",
    "            nn.Linear(layer_3_nodes, 1) # 最后归为一个阳性的数量\n",
    "        )\n",
    "\n",
    "    def forward(self, x):\n",
    "        x = self.layers(x)\n",
    "        x = x.squeeze(1) # (B, 1) -> (B)\n",
    "        return x"
   ]
  },
  {
   "cell_type": "markdown",
   "metadata": {
    "id": "x5-LKF6R8xeq"
   },
   "source": [
    "# Feature Selection\n",
    "Choose features you deem useful by modifying the function below."
   ]
  },
  {
   "cell_type": "code",
   "execution_count": 15,
   "metadata": {
    "id": "fcfFEL0knEqi",
    "outputId": "b30d0628-9a8e-4075-cec3-f46bf1916251",
    "tags": []
   },
   "outputs": [
    {
     "name": "stdout",
     "output_type": "stream",
     "text": [
      "[35 36 37 47 48 52 53 54 55 65 66 70 71 72 73 83 84]\n"
     ]
    }
   ],
   "source": [
    "# np.r_[35:37,40:45,47:50,52,53:55,58:63,65:68,70,71:73,76:81,83:86], # 往期自定义的结果\n",
    "\n",
    "\n",
    "train_data_for_select = pd.read_csv(File_Path_Train).values\n",
    "# train_data_for_select, valid_data = train_valid_split(train_data_for_select, config['valid_ratio'], config['seed'])\n",
    "train_data_for_select_X,train_data_for_select_Y = train_data_for_select[:,:-1],train_data_for_select[:,-1]\n",
    "\n",
    "\n",
    "# k设置为17，其预估是将前两天的阳性人数和3天中相关度比较的因素取前5，最终返回的列如下：\n",
    "# cli   ili   wnohh_cmnty_cli   hh_cmnty_cli   nohh_cmnty_cli   tested_positive\n",
    "# cli.1 ili.1 wnohh_cmnty_cli.1 hh_cmnty_cli.1 nohh_cmnty_cli.1 tested_positive.1\n",
    "# cli.2 ili.2 wnohh_cmnty_cli.2 hh_cmnty_cli.2 nohh_cmnty_cli.2\n",
    "\n",
    "# k设置为2，只取两个因素，其方法返回的值为：\n",
    "# tested_positive，tested_positive.1\n",
    "\n",
    "# 从结果上看，返回的内容很不错\n",
    "\n",
    "def select_feat_sklearn(x,y):\n",
    " k=17\n",
    " x_new = SelectKBest(score_func=f_regression,k=k).fit(x,y)\n",
    " return x_new\n",
    "\n",
    "# print(train_data_for_select_X[:1,:])\n",
    "# train_data_for_select_X.shape\n",
    "# train_data_for_select_Y.shape\n",
    "# print(train_data_for_select_Y)\n",
    "\n",
    "features = select_feat_sklearn(train_data_for_select_X,train_data_for_select_Y)\n",
    "array = features.get_feature_names_out()\n",
    "for idx,name in enumerate(array):\n",
    " array[idx] = int(array[idx][1:])\n",
    "\n",
    "# [35 36 37 47 48 52 53 54 55 65 66 70 71 72 73 83 84]\n",
    "    \n",
    "print(array)\n",
    "# idx = np.argsort(features.scores_)[::1]\n",
    "# print(features[:3])\n"
   ]
  },
  {
   "cell_type": "code",
   "execution_count": 16,
   "metadata": {
    "id": "0FEnKRaIIeKp",
    "tags": []
   },
   "outputs": [],
   "source": [
    "# 参数select_all默认为True，代表默认会将所有列作为feature加入计算\n",
    "# 如果在训练过程中，有发现某几列可能关联性不大，可以排除出来，那要将select_all改为false，并手工导入列数\n",
    "def select_feat(train_data, valid_data, test_data, select_all=True, select_features=[]):\n",
    "    '''Selects useful features to perform regression'''\n",
    "    y_train, y_valid = train_data[:,-1], valid_data[:,-1]\n",
    "    raw_x_train, raw_x_valid, raw_x_test = train_data[:,:-1], valid_data[:,:-1], test_data\n",
    "\n",
    "    if select_all:\n",
    "        feat_idx = list(range(raw_x_train.shape[1]))\n",
    "    else:\n",
    "        feat_idx = select_features\n",
    "\n",
    "    return raw_x_train[:,feat_idx], raw_x_valid[:,feat_idx], raw_x_test[:,feat_idx], y_train, y_valid"
   ]
  },
  {
   "cell_type": "markdown",
   "metadata": {
    "id": "kADIPNQ2Ih5X"
   },
   "source": [
    "# Training Loop"
   ]
  },
  {
   "cell_type": "code",
   "execution_count": 17,
   "metadata": {
    "id": "2jc7ZfDot2t9",
    "outputId": "cade8a91-2559-4146-e5dd-4fb9e717a260",
    "tags": []
   },
   "outputs": [
    {
     "name": "stdout",
     "output_type": "stream",
     "text": [
      "train_data size: (2408, 89)\n",
      "valid_data size: (601, 89)\n",
      "test_data size: (997, 88)\n",
      "x_train\n",
      "[[ 1.3138593  1.2748362 15.7057702 ... 15.8342843 22.0118552 16.1409036]\n",
      " [ 1.6800285  1.7248551 16.6408925 ... 16.2795037 21.1383018 16.1498569]\n",
      " [ 0.8818757  0.9345295  9.7551765 ...  8.7525655 12.8101195  8.8501928]\n",
      " ...\n",
      " [ 1.0946756  1.1118771 11.7432324 ... 12.0424304 15.3299617 10.9991829]\n",
      " [ 3.6352241  3.7769054 26.5714705 ... 23.7412583 32.9247972 25.8964017]\n",
      " [ 3.6850859  3.7616652 33.6158757 ... 31.6886024 37.331582  31.3212202]]\n",
      "number of features: 17\n"
     ]
    }
   ],
   "source": [
    "same_seed(config['seed'])\n",
    "\n",
    "train_data, test_data = pd.read_csv(File_Path_Train).values, pd.read_csv(File_Path_Test).values\n",
    "train_data, valid_data = train_valid_split(train_data, config['valid_ratio'], config['seed'])\n",
    "\n",
    "# Print out the data size.\n",
    "print(f\"\"\"train_data size: {train_data.shape}\n",
    "valid_data size: {valid_data.shape}\n",
    "test_data size: {test_data.shape}\"\"\")\n",
    "\n",
    "# Select features\n",
    "x_train, x_valid, x_test, y_train, y_valid = select_feat(train_data, valid_data, test_data, config['select_all'], config['select_features'])\n",
    "\n",
    "print('x_train')\n",
    "print(x_train)\n",
    "\n",
    "# Print out the number of features.\n",
    "print(f'number of features: {x_train.shape[1]}')\n",
    "\n",
    "train_dataset, valid_dataset, test_dataset = COVID19Dataset(x_train, y_train), \\\n",
    "                                            COVID19Dataset(x_valid, y_valid), \\\n",
    "                                            COVID19Dataset(x_test)\n",
    "\n",
    "# Pytorch data loader loads pytorch dataset into batches.\n",
    "train_loader = DataLoader(train_dataset, batch_size=config['batch_size'], shuffle=True, pin_memory=True)\n",
    "valid_loader = DataLoader(valid_dataset, batch_size=config['batch_size'], shuffle=True, pin_memory=True)\n",
    "test_loader = DataLoader(test_dataset, batch_size=config['batch_size'], shuffle=False, pin_memory=True)"
   ]
  },
  {
   "cell_type": "code",
   "execution_count": 21,
   "metadata": {
    "id": "k4Rq8_TztAhq",
    "tags": []
   },
   "outputs": [],
   "source": [
    "def trainer(train_loader, valid_loader, model, config, device):\n",
    "\n",
    "    criterion = nn.MSELoss(reduction='mean') # Define your loss function, do not modify this.\n",
    "\n",
    "    # Define your optimization algorithm.\n",
    "    # TODO: Please check https://pytorch.org/docs/stable/optim.html to get more available algorithms.\n",
    "    # TODO: L2 regularization (optimizer(weight decay...) or implement by your self).\n",
    "    # optimizer = torch.optim.SGD(model.parameters(), lr=config['learning_rate'], momentum=0.9)\n",
    "    optimizer = torch.optim.Adam(model.parameters(), lr=config['learning_rate'], betas=(0.9, 0.999), eps=1e-08, weight_decay=config['weight_decay'], amsgrad=False)\n",
    "    writer = SummaryWriter() # Writer of tensoboard.\n",
    "\n",
    "    if not os.path.isdir('./models'):\n",
    "        os.mkdir('./models') # Create directory of saving models.\n",
    "\n",
    "    n_epochs, best_loss, step, early_stop_count = config['n_epochs'], math.inf, 0, 0\n",
    "\n",
    "    for epoch in range(n_epochs):\n",
    "        model.train() # Set your model to train mode.\n",
    "        loss_record = []\n",
    "\n",
    "        # tqdm is a package to visualize your training progress.\n",
    "        train_pbar = tqdm(train_loader, position=0, leave=True)\n",
    "\n",
    "        for x, y in train_pbar:\n",
    "            optimizer.zero_grad()               # Set gradient to zero.\n",
    "            x, y = x.to(device), y.to(device)   # Move your data to device.\n",
    "            pred = model(x)\n",
    "            loss = criterion(pred, y)\n",
    "            loss.backward()                     # Compute gradient(backpropagation).\n",
    "            optimizer.step()                    # Update parameters.\n",
    "            step += 1\n",
    "            loss_record.append(loss.detach().item())\n",
    "\n",
    "            # Display current epoch number and loss on tqdm progress bar.\n",
    "            train_pbar.set_description(f'Epoch [{epoch+1}/{n_epochs}]')\n",
    "            train_pbar.set_postfix({'loss': loss.detach().item()})\n",
    "\n",
    "        mean_train_loss = sum(loss_record)/len(loss_record)\n",
    "        # writer.add_scalar('Loss/train', mean_train_loss, step)\n",
    "\n",
    "        model.eval() # Set your model to evaluation mode.\n",
    "        loss_record = []\n",
    "        for x, y in valid_loader:\n",
    "            x, y = x.to(device), y.to(device)\n",
    "            with torch.no_grad():\n",
    "                pred = model(x)\n",
    "                loss = criterion(pred, y)\n",
    "\n",
    "            loss_record.append(loss.item())\n",
    "\n",
    "        mean_valid_loss = sum(loss_record)/len(loss_record)\n",
    "        if(epoch%100 == 0):\n",
    "            print(f'Epoch [{epoch+1}/{n_epochs}]: Train loss: {mean_train_loss:.4f}, Valid loss: {mean_valid_loss:.4f}')\n",
    "        # writer.add_scalar('Loss/valid', mean_valid_loss, step)\n",
    "\n",
    "        if mean_valid_loss < best_loss:\n",
    "            best_loss = mean_valid_loss\n",
    "            torch.save(model.state_dict(), config['save_path'] + str(best_loss)) # Save your best model\n",
    "            print('Saving model with loss {:.3f}...'.format(best_loss))\n",
    "            early_stop_count = 0\n",
    "        else:\n",
    "            early_stop_count += 1\n",
    "\n",
    "        if early_stop_count >= config['early_stop']:\n",
    "            print('\\nModel is not improving, so we halt the training session.')\n",
    "            print('Model current loss {:.3f}'.format(best_loss))\n",
    "            return"
   ]
  },
  {
   "cell_type": "markdown",
   "metadata": {
    "id": "lrS-aJJh9XkW"
   },
   "source": [
    "# Dataloader\n",
    "Read data from files and set up training, validation, and testing sets. You do not need to modify this part."
   ]
  },
  {
   "cell_type": "markdown",
   "metadata": {
    "id": "0OBYgjCA-YwD"
   },
   "source": [
    "# Start training!"
   ]
  },
  {
   "cell_type": "code",
   "execution_count": 22,
   "metadata": {
    "id": "YdttVRkAfu2t",
    "outputId": "df986cc1-27a0-41f4-c7ce-4c808c41d533",
    "tags": []
   },
   "outputs": [
    {
     "name": "stderr",
     "output_type": "stream",
     "text": [
      "Epoch [1/5000]: 100%|██████████| 10/10 [00:00<00:00, 187.58it/s, loss=357]\n"
     ]
    },
    {
     "name": "stdout",
     "output_type": "stream",
     "text": [
      "Epoch [1/5000]: Train loss: 358.7049, Valid loss: 336.1781\n",
      "Saving model with loss 336.178...\n"
     ]
    },
    {
     "name": "stderr",
     "output_type": "stream",
     "text": [
      "Epoch [2/5000]: 100%|██████████| 10/10 [00:00<00:00, 239.50it/s, loss=246]\n"
     ]
    },
    {
     "name": "stdout",
     "output_type": "stream",
     "text": [
      "Saving model with loss 275.893...\n"
     ]
    },
    {
     "name": "stderr",
     "output_type": "stream",
     "text": [
      "Epoch [3/5000]: 100%|██████████| 10/10 [00:00<00:00, 192.65it/s, loss=195]\n"
     ]
    },
    {
     "name": "stdout",
     "output_type": "stream",
     "text": [
      "Saving model with loss 221.584...\n"
     ]
    },
    {
     "name": "stderr",
     "output_type": "stream",
     "text": [
      "Epoch [4/5000]: 100%|██████████| 10/10 [00:00<00:00, 143.75it/s, loss=151]\n"
     ]
    },
    {
     "name": "stdout",
     "output_type": "stream",
     "text": [
      "Saving model with loss 137.585...\n"
     ]
    },
    {
     "name": "stderr",
     "output_type": "stream",
     "text": [
      "Epoch [5/5000]: 100%|██████████| 10/10 [00:00<00:00, 262.48it/s, loss=110]\n"
     ]
    },
    {
     "name": "stdout",
     "output_type": "stream",
     "text": [
      "Saving model with loss 71.013...\n"
     ]
    },
    {
     "name": "stderr",
     "output_type": "stream",
     "text": [
      "Epoch [6/5000]: 100%|██████████| 10/10 [00:00<00:00, 215.24it/s, loss=26.4]"
     ]
    },
    {
     "name": "stdout",
     "output_type": "stream",
     "text": [
      "Saving model with loss 23.814...\n"
     ]
    },
    {
     "name": "stderr",
     "output_type": "stream",
     "text": [
      "\n",
      "Epoch [7/5000]: 100%|██████████| 10/10 [00:00<00:00, 254.36it/s, loss=16]\n"
     ]
    },
    {
     "name": "stdout",
     "output_type": "stream",
     "text": [
      "Saving model with loss 13.466...\n"
     ]
    },
    {
     "name": "stderr",
     "output_type": "stream",
     "text": [
      "Epoch [8/5000]: 100%|██████████| 10/10 [00:00<00:00, 204.93it/s, loss=15.4]\n",
      "Epoch [9/5000]: 100%|██████████| 10/10 [00:00<00:00, 259.65it/s, loss=13.5]\n",
      "Epoch [10/5000]: 100%|██████████| 10/10 [00:00<00:00, 258.69it/s, loss=17.5]\n"
     ]
    },
    {
     "name": "stdout",
     "output_type": "stream",
     "text": [
      "Saving model with loss 13.265...\n"
     ]
    },
    {
     "name": "stderr",
     "output_type": "stream",
     "text": [
      "Epoch [11/5000]: 100%|██████████| 10/10 [00:00<00:00, 224.82it/s, loss=13]\n"
     ]
    },
    {
     "name": "stdout",
     "output_type": "stream",
     "text": [
      "Saving model with loss 12.812...\n"
     ]
    },
    {
     "name": "stderr",
     "output_type": "stream",
     "text": [
      "Epoch [12/5000]: 100%|██████████| 10/10 [00:00<00:00, 269.87it/s, loss=14]\n",
      "Epoch [13/5000]: 100%|██████████| 10/10 [00:00<00:00, 249.24it/s, loss=13.6]\n"
     ]
    },
    {
     "name": "stdout",
     "output_type": "stream",
     "text": [
      "Saving model with loss 12.201...\n"
     ]
    },
    {
     "name": "stderr",
     "output_type": "stream",
     "text": [
      "Epoch [14/5000]: 100%|██████████| 10/10 [00:00<00:00, 281.75it/s, loss=15.4]\n",
      "Epoch [15/5000]: 100%|██████████| 10/10 [00:00<00:00, 226.11it/s, loss=14.1]\n",
      "Epoch [16/5000]: 100%|██████████| 10/10 [00:00<00:00, 247.44it/s, loss=9.38]\n",
      "Epoch [17/5000]: 100%|██████████| 10/10 [00:00<00:00, 273.70it/s, loss=11.5]\n",
      "Epoch [18/5000]: 100%|██████████| 10/10 [00:00<00:00, 276.24it/s, loss=12.9]\n"
     ]
    },
    {
     "name": "stdout",
     "output_type": "stream",
     "text": [
      "Saving model with loss 11.739...\n"
     ]
    },
    {
     "name": "stderr",
     "output_type": "stream",
     "text": [
      "Epoch [19/5000]: 100%|██████████| 10/10 [00:00<00:00, 271.69it/s, loss=13.3]\n"
     ]
    },
    {
     "name": "stdout",
     "output_type": "stream",
     "text": [
      "Saving model with loss 11.450...\n"
     ]
    },
    {
     "name": "stderr",
     "output_type": "stream",
     "text": [
      "Epoch [20/5000]: 100%|██████████| 10/10 [00:00<00:00, 237.35it/s, loss=10.7]\n",
      "Epoch [21/5000]: 100%|██████████| 10/10 [00:00<00:00, 291.31it/s, loss=11.2]\n"
     ]
    },
    {
     "name": "stdout",
     "output_type": "stream",
     "text": [
      "Saving model with loss 11.380...\n"
     ]
    },
    {
     "name": "stderr",
     "output_type": "stream",
     "text": [
      "Epoch [22/5000]: 100%|██████████| 10/10 [00:00<00:00, 259.88it/s, loss=13]\n"
     ]
    },
    {
     "name": "stdout",
     "output_type": "stream",
     "text": [
      "Saving model with loss 10.661...\n"
     ]
    },
    {
     "name": "stderr",
     "output_type": "stream",
     "text": [
      "Epoch [23/5000]: 100%|██████████| 10/10 [00:00<00:00, 241.20it/s, loss=10.5]\n"
     ]
    },
    {
     "name": "stdout",
     "output_type": "stream",
     "text": [
      "Saving model with loss 10.374...\n"
     ]
    },
    {
     "name": "stderr",
     "output_type": "stream",
     "text": [
      "Epoch [24/5000]: 100%|██████████| 10/10 [00:00<00:00, 265.58it/s, loss=16.4]\n",
      "Epoch [25/5000]: 100%|██████████| 10/10 [00:00<00:00, 290.95it/s, loss=11.4]"
     ]
    },
    {
     "name": "stdout",
     "output_type": "stream",
     "text": [
      "Saving model with loss 10.153...\n"
     ]
    },
    {
     "name": "stderr",
     "output_type": "stream",
     "text": [
      "\n",
      "Epoch [26/5000]: 100%|██████████| 10/10 [00:00<00:00, 289.33it/s, loss=9.55]\n"
     ]
    },
    {
     "name": "stdout",
     "output_type": "stream",
     "text": [
      "Saving model with loss 10.111...\n"
     ]
    },
    {
     "name": "stderr",
     "output_type": "stream",
     "text": [
      "Epoch [27/5000]: 100%|██████████| 10/10 [00:00<00:00, 296.37it/s, loss=8.74]\n"
     ]
    },
    {
     "name": "stdout",
     "output_type": "stream",
     "text": [
      "Saving model with loss 9.900...\n"
     ]
    },
    {
     "name": "stderr",
     "output_type": "stream",
     "text": [
      "Epoch [28/5000]: 100%|██████████| 10/10 [00:00<00:00, 251.37it/s, loss=12.1]\n"
     ]
    },
    {
     "name": "stdout",
     "output_type": "stream",
     "text": [
      "Saving model with loss 9.681...\n"
     ]
    },
    {
     "name": "stderr",
     "output_type": "stream",
     "text": [
      "Epoch [29/5000]: 100%|██████████| 10/10 [00:00<00:00, 241.65it/s, loss=11.5]\n"
     ]
    },
    {
     "name": "stdout",
     "output_type": "stream",
     "text": [
      "Saving model with loss 9.236...\n"
     ]
    },
    {
     "name": "stderr",
     "output_type": "stream",
     "text": [
      "Epoch [30/5000]: 100%|██████████| 10/10 [00:00<00:00, 203.22it/s, loss=9.12]\n"
     ]
    },
    {
     "name": "stdout",
     "output_type": "stream",
     "text": [
      "Saving model with loss 8.675...\n"
     ]
    },
    {
     "name": "stderr",
     "output_type": "stream",
     "text": [
      "Epoch [31/5000]: 100%|██████████| 10/10 [00:00<00:00, 281.79it/s, loss=9.12]\n",
      "Epoch [32/5000]: 100%|██████████| 10/10 [00:00<00:00, 307.35it/s, loss=6.92]\n"
     ]
    },
    {
     "name": "stdout",
     "output_type": "stream",
     "text": [
      "Saving model with loss 7.615...\n"
     ]
    },
    {
     "name": "stderr",
     "output_type": "stream",
     "text": [
      "Epoch [33/5000]: 100%|██████████| 10/10 [00:00<00:00, 249.79it/s, loss=7.83]\n"
     ]
    },
    {
     "name": "stdout",
     "output_type": "stream",
     "text": [
      "Saving model with loss 7.085...\n"
     ]
    },
    {
     "name": "stderr",
     "output_type": "stream",
     "text": [
      "Epoch [34/5000]: 100%|██████████| 10/10 [00:00<00:00, 272.41it/s, loss=6.45]\n",
      "Epoch [35/5000]: 100%|██████████| 10/10 [00:00<00:00, 289.35it/s, loss=6.47]\n"
     ]
    },
    {
     "name": "stdout",
     "output_type": "stream",
     "text": [
      "Saving model with loss 6.603...\n"
     ]
    },
    {
     "name": "stderr",
     "output_type": "stream",
     "text": [
      "Epoch [36/5000]: 100%|██████████| 10/10 [00:00<00:00, 222.67it/s, loss=6.89]\n"
     ]
    },
    {
     "name": "stdout",
     "output_type": "stream",
     "text": [
      "Saving model with loss 6.248...\n"
     ]
    },
    {
     "name": "stderr",
     "output_type": "stream",
     "text": [
      "Epoch [37/5000]: 100%|██████████| 10/10 [00:00<00:00, 229.15it/s, loss=6.63]\n"
     ]
    },
    {
     "name": "stdout",
     "output_type": "stream",
     "text": [
      "Saving model with loss 5.901...\n"
     ]
    },
    {
     "name": "stderr",
     "output_type": "stream",
     "text": [
      "Epoch [38/5000]: 100%|██████████| 10/10 [00:00<00:00, 223.56it/s, loss=6.18]\n"
     ]
    },
    {
     "name": "stdout",
     "output_type": "stream",
     "text": [
      "Saving model with loss 5.207...\n"
     ]
    },
    {
     "name": "stderr",
     "output_type": "stream",
     "text": [
      "Epoch [39/5000]: 100%|██████████| 10/10 [00:00<00:00, 243.77it/s, loss=4.5]\n"
     ]
    },
    {
     "name": "stdout",
     "output_type": "stream",
     "text": [
      "Saving model with loss 4.898...\n"
     ]
    },
    {
     "name": "stderr",
     "output_type": "stream",
     "text": [
      "Epoch [40/5000]: 100%|██████████| 10/10 [00:00<00:00, 231.38it/s, loss=4.51]\n"
     ]
    },
    {
     "name": "stdout",
     "output_type": "stream",
     "text": [
      "Saving model with loss 4.842...\n"
     ]
    },
    {
     "name": "stderr",
     "output_type": "stream",
     "text": [
      "Epoch [41/5000]: 100%|██████████| 10/10 [00:00<00:00, 299.99it/s, loss=4.07]\n"
     ]
    },
    {
     "name": "stdout",
     "output_type": "stream",
     "text": [
      "Saving model with loss 4.282...\n"
     ]
    },
    {
     "name": "stderr",
     "output_type": "stream",
     "text": [
      "Epoch [42/5000]: 100%|██████████| 10/10 [00:00<00:00, 307.60it/s, loss=4.52]\n"
     ]
    },
    {
     "name": "stdout",
     "output_type": "stream",
     "text": [
      "Saving model with loss 3.981...\n"
     ]
    },
    {
     "name": "stderr",
     "output_type": "stream",
     "text": [
      "Epoch [43/5000]: 100%|██████████| 10/10 [00:00<00:00, 296.18it/s, loss=4.29]\n"
     ]
    },
    {
     "name": "stdout",
     "output_type": "stream",
     "text": [
      "Saving model with loss 3.632...\n"
     ]
    },
    {
     "name": "stderr",
     "output_type": "stream",
     "text": [
      "Epoch [44/5000]: 100%|██████████| 10/10 [00:00<00:00, 244.76it/s, loss=3.55]\n"
     ]
    },
    {
     "name": "stdout",
     "output_type": "stream",
     "text": [
      "Saving model with loss 3.181...\n"
     ]
    },
    {
     "name": "stderr",
     "output_type": "stream",
     "text": [
      "Epoch [45/5000]: 100%|██████████| 10/10 [00:00<00:00, 272.80it/s, loss=3.62]\n"
     ]
    },
    {
     "name": "stdout",
     "output_type": "stream",
     "text": [
      "Saving model with loss 2.885...\n"
     ]
    },
    {
     "name": "stderr",
     "output_type": "stream",
     "text": [
      "Epoch [46/5000]: 100%|██████████| 10/10 [00:00<00:00, 294.63it/s, loss=2.41]\n"
     ]
    },
    {
     "name": "stdout",
     "output_type": "stream",
     "text": [
      "Saving model with loss 2.594...\n"
     ]
    },
    {
     "name": "stderr",
     "output_type": "stream",
     "text": [
      "Epoch [47/5000]: 100%|██████████| 10/10 [00:00<00:00, 295.83it/s, loss=2.94]\n"
     ]
    },
    {
     "name": "stdout",
     "output_type": "stream",
     "text": [
      "Saving model with loss 2.209...\n"
     ]
    },
    {
     "name": "stderr",
     "output_type": "stream",
     "text": [
      "Epoch [48/5000]: 100%|██████████| 10/10 [00:00<00:00, 288.30it/s, loss=2.12]\n"
     ]
    },
    {
     "name": "stdout",
     "output_type": "stream",
     "text": [
      "Saving model with loss 2.021...\n"
     ]
    },
    {
     "name": "stderr",
     "output_type": "stream",
     "text": [
      "Epoch [49/5000]: 100%|██████████| 10/10 [00:00<00:00, 312.23it/s, loss=2.14]\n"
     ]
    },
    {
     "name": "stdout",
     "output_type": "stream",
     "text": [
      "Saving model with loss 1.727...\n"
     ]
    },
    {
     "name": "stderr",
     "output_type": "stream",
     "text": [
      "Epoch [50/5000]: 100%|██████████| 10/10 [00:00<00:00, 273.15it/s, loss=1.95]\n"
     ]
    },
    {
     "name": "stdout",
     "output_type": "stream",
     "text": [
      "Saving model with loss 1.723...\n"
     ]
    },
    {
     "name": "stderr",
     "output_type": "stream",
     "text": [
      "Epoch [51/5000]: 100%|██████████| 10/10 [00:00<00:00, 290.04it/s, loss=1.65]\n"
     ]
    },
    {
     "name": "stdout",
     "output_type": "stream",
     "text": [
      "Saving model with loss 1.512...\n"
     ]
    },
    {
     "name": "stderr",
     "output_type": "stream",
     "text": [
      "Epoch [52/5000]: 100%|██████████| 10/10 [00:00<00:00, 257.16it/s, loss=1.81]\n"
     ]
    },
    {
     "name": "stdout",
     "output_type": "stream",
     "text": [
      "Saving model with loss 1.479...\n"
     ]
    },
    {
     "name": "stderr",
     "output_type": "stream",
     "text": [
      "Epoch [53/5000]: 100%|██████████| 10/10 [00:00<00:00, 250.07it/s, loss=0.967]\n"
     ]
    },
    {
     "name": "stdout",
     "output_type": "stream",
     "text": [
      "Saving model with loss 1.398...\n"
     ]
    },
    {
     "name": "stderr",
     "output_type": "stream",
     "text": [
      "Epoch [54/5000]: 100%|██████████| 10/10 [00:00<00:00, 237.69it/s, loss=1.37]\n",
      "Epoch [55/5000]: 100%|██████████| 10/10 [00:00<00:00, 236.19it/s, loss=1.33]\n"
     ]
    },
    {
     "name": "stdout",
     "output_type": "stream",
     "text": [
      "Saving model with loss 1.335...\n"
     ]
    },
    {
     "name": "stderr",
     "output_type": "stream",
     "text": [
      "Epoch [56/5000]: 100%|██████████| 10/10 [00:00<00:00, 258.54it/s, loss=1.24]\n"
     ]
    },
    {
     "name": "stdout",
     "output_type": "stream",
     "text": [
      "Saving model with loss 1.294...\n"
     ]
    },
    {
     "name": "stderr",
     "output_type": "stream",
     "text": [
      "Epoch [57/5000]: 100%|██████████| 10/10 [00:00<00:00, 294.35it/s, loss=0.981]\n",
      "Epoch [58/5000]: 100%|██████████| 10/10 [00:00<00:00, 278.87it/s, loss=1.86]\n",
      "Epoch [59/5000]: 100%|██████████| 10/10 [00:00<00:00, 243.64it/s, loss=1.18]\n"
     ]
    },
    {
     "name": "stdout",
     "output_type": "stream",
     "text": [
      "Saving model with loss 1.237...\n"
     ]
    },
    {
     "name": "stderr",
     "output_type": "stream",
     "text": [
      "Epoch [60/5000]: 100%|██████████| 10/10 [00:00<00:00, 248.03it/s, loss=1.64]\n",
      "Epoch [61/5000]: 100%|██████████| 10/10 [00:00<00:00, 298.66it/s, loss=0.991]\n",
      "Epoch [62/5000]: 100%|██████████| 10/10 [00:00<00:00, 316.40it/s, loss=1.16]\n",
      "Epoch [63/5000]: 100%|██████████| 10/10 [00:00<00:00, 249.13it/s, loss=1.18]\n"
     ]
    },
    {
     "name": "stdout",
     "output_type": "stream",
     "text": [
      "Saving model with loss 1.236...\n"
     ]
    },
    {
     "name": "stderr",
     "output_type": "stream",
     "text": [
      "Epoch [64/5000]: 100%|██████████| 10/10 [00:00<00:00, 244.59it/s, loss=1.27]\n",
      "Epoch [65/5000]: 100%|██████████| 10/10 [00:00<00:00, 276.95it/s, loss=1.51]\n"
     ]
    },
    {
     "name": "stdout",
     "output_type": "stream",
     "text": [
      "Saving model with loss 1.229...\n"
     ]
    },
    {
     "name": "stderr",
     "output_type": "stream",
     "text": [
      "Epoch [66/5000]: 100%|██████████| 10/10 [00:00<00:00, 262.59it/s, loss=1.34]\n",
      "Epoch [67/5000]: 100%|██████████| 10/10 [00:00<00:00, 261.50it/s, loss=1.41]\n",
      "Epoch [68/5000]: 100%|██████████| 10/10 [00:00<00:00, 286.16it/s, loss=1.34]\n",
      "Epoch [69/5000]: 100%|██████████| 10/10 [00:00<00:00, 285.63it/s, loss=1.24]\n",
      "Epoch [70/5000]: 100%|██████████| 10/10 [00:00<00:00, 246.16it/s, loss=1.3]\n",
      "Epoch [71/5000]: 100%|██████████| 10/10 [00:00<00:00, 285.79it/s, loss=0.792]\n",
      "Epoch [72/5000]: 100%|██████████| 10/10 [00:00<00:00, 272.50it/s, loss=1.33]\n",
      "Epoch [73/5000]: 100%|██████████| 10/10 [00:00<00:00, 255.53it/s, loss=0.987]\n",
      "Epoch [74/5000]: 100%|██████████| 10/10 [00:00<00:00, 64.59it/s, loss=1.31]\n",
      "Epoch [75/5000]: 100%|██████████| 10/10 [00:00<00:00, 270.29it/s, loss=0.967]\n",
      "Epoch [76/5000]: 100%|██████████| 10/10 [00:00<00:00, 307.03it/s, loss=1.22]\n",
      "Epoch [77/5000]: 100%|██████████| 10/10 [00:00<00:00, 277.66it/s, loss=1.3]\n",
      "Epoch [78/5000]: 100%|██████████| 10/10 [00:00<00:00, 251.46it/s, loss=1.46]\n",
      "Epoch [79/5000]: 100%|██████████| 10/10 [00:00<00:00, 297.18it/s, loss=0.93]\n",
      "Epoch [80/5000]: 100%|██████████| 10/10 [00:00<00:00, 269.95it/s, loss=0.886]\n",
      "Epoch [81/5000]: 100%|██████████| 10/10 [00:00<00:00, 284.14it/s, loss=0.788]\n",
      "Epoch [82/5000]: 100%|██████████| 10/10 [00:00<00:00, 298.60it/s, loss=1.44]\n",
      "Epoch [83/5000]: 100%|██████████| 10/10 [00:00<00:00, 259.71it/s, loss=0.907]\n",
      "Epoch [84/5000]: 100%|██████████| 10/10 [00:00<00:00, 281.17it/s, loss=1.16]\n"
     ]
    },
    {
     "name": "stdout",
     "output_type": "stream",
     "text": [
      "Saving model with loss 1.213...\n"
     ]
    },
    {
     "name": "stderr",
     "output_type": "stream",
     "text": [
      "Epoch [85/5000]: 100%|██████████| 10/10 [00:00<00:00, 272.70it/s, loss=1.28]\n"
     ]
    },
    {
     "name": "stdout",
     "output_type": "stream",
     "text": [
      "Saving model with loss 1.199...\n"
     ]
    },
    {
     "name": "stderr",
     "output_type": "stream",
     "text": [
      "Epoch [86/5000]: 100%|██████████| 10/10 [00:00<00:00, 306.59it/s, loss=1.17]\n",
      "Epoch [87/5000]: 100%|██████████| 10/10 [00:00<00:00, 307.46it/s, loss=1.4]\n",
      "Epoch [88/5000]: 100%|██████████| 10/10 [00:00<00:00, 293.58it/s, loss=1.39]\n",
      "Epoch [89/5000]: 100%|██████████| 10/10 [00:00<00:00, 293.35it/s, loss=1.43]\n",
      "Epoch [90/5000]: 100%|██████████| 10/10 [00:00<00:00, 293.14it/s, loss=0.984]\n",
      "Epoch [91/5000]: 100%|██████████| 10/10 [00:00<00:00, 329.40it/s, loss=1.1]\n"
     ]
    },
    {
     "name": "stdout",
     "output_type": "stream",
     "text": [
      "Saving model with loss 1.173...\n"
     ]
    },
    {
     "name": "stderr",
     "output_type": "stream",
     "text": [
      "Epoch [92/5000]: 100%|██████████| 10/10 [00:00<00:00, 338.08it/s, loss=1.01]\n",
      "Epoch [93/5000]: 100%|██████████| 10/10 [00:00<00:00, 296.76it/s, loss=1.1]\n",
      "Epoch [94/5000]: 100%|██████████| 10/10 [00:00<00:00, 330.41it/s, loss=1.41]\n",
      "Epoch [95/5000]: 100%|██████████| 10/10 [00:00<00:00, 357.80it/s, loss=1.53]\n",
      "Epoch [96/5000]: 100%|██████████| 10/10 [00:00<00:00, 299.73it/s, loss=0.902]\n",
      "Epoch [97/5000]: 100%|██████████| 10/10 [00:00<00:00, 365.35it/s, loss=1.56]\n",
      "Epoch [98/5000]: 100%|██████████| 10/10 [00:00<00:00, 337.15it/s, loss=1.08]\n",
      "Epoch [99/5000]: 100%|██████████| 10/10 [00:00<00:00, 314.27it/s, loss=1.22]\n"
     ]
    },
    {
     "name": "stdout",
     "output_type": "stream",
     "text": [
      "Saving model with loss 1.152...\n"
     ]
    },
    {
     "name": "stderr",
     "output_type": "stream",
     "text": [
      "Epoch [100/5000]: 100%|██████████| 10/10 [00:00<00:00, 283.27it/s, loss=1.68]\n",
      "Epoch [101/5000]: 100%|██████████| 10/10 [00:00<00:00, 323.90it/s, loss=1.53]\n"
     ]
    },
    {
     "name": "stdout",
     "output_type": "stream",
     "text": [
      "Epoch [101/5000]: Train loss: 1.2081, Valid loss: 1.1942\n"
     ]
    },
    {
     "name": "stderr",
     "output_type": "stream",
     "text": [
      "Epoch [102/5000]: 100%|██████████| 10/10 [00:00<00:00, 298.09it/s, loss=1.24]\n",
      "Epoch [103/5000]: 100%|██████████| 10/10 [00:00<00:00, 284.40it/s, loss=0.986]\n",
      "Epoch [104/5000]: 100%|██████████| 10/10 [00:00<00:00, 251.24it/s, loss=0.992]\n",
      "Epoch [105/5000]: 100%|██████████| 10/10 [00:00<00:00, 315.44it/s, loss=1.06]\n",
      "Epoch [106/5000]: 100%|██████████| 10/10 [00:00<00:00, 321.13it/s, loss=1.28]\n",
      "Epoch [107/5000]: 100%|██████████| 10/10 [00:00<00:00, 304.56it/s, loss=1.23]\n",
      "Epoch [108/5000]: 100%|██████████| 10/10 [00:00<00:00, 307.39it/s, loss=1.18]\n",
      "Epoch [109/5000]: 100%|██████████| 10/10 [00:00<00:00, 309.08it/s, loss=0.889]\n",
      "Epoch [110/5000]: 100%|██████████| 10/10 [00:00<00:00, 300.71it/s, loss=1.06]\n"
     ]
    },
    {
     "name": "stdout",
     "output_type": "stream",
     "text": [
      "Saving model with loss 1.136...\n"
     ]
    },
    {
     "name": "stderr",
     "output_type": "stream",
     "text": [
      "Epoch [111/5000]: 100%|██████████| 10/10 [00:00<00:00, 309.05it/s, loss=1.12]\n",
      "Epoch [112/5000]: 100%|██████████| 10/10 [00:00<00:00, 340.34it/s, loss=1.28]\n",
      "Epoch [113/5000]: 100%|██████████| 10/10 [00:00<00:00, 306.68it/s, loss=1.13]\n",
      "Epoch [114/5000]: 100%|██████████| 10/10 [00:00<00:00, 328.33it/s, loss=1.12]\n",
      "Epoch [115/5000]: 100%|██████████| 10/10 [00:00<00:00, 301.93it/s, loss=0.951]\n",
      "Epoch [116/5000]: 100%|██████████| 10/10 [00:00<00:00, 331.48it/s, loss=1.12]\n",
      "Epoch [117/5000]: 100%|██████████| 10/10 [00:00<00:00, 344.04it/s, loss=1.06]\n",
      "Epoch [118/5000]: 100%|██████████| 10/10 [00:00<00:00, 321.55it/s, loss=1.24]\n",
      "Epoch [119/5000]: 100%|██████████| 10/10 [00:00<00:00, 320.74it/s, loss=1.2]\n",
      "Epoch [120/5000]: 100%|██████████| 10/10 [00:00<00:00, 334.72it/s, loss=1.48]\n",
      "Epoch [121/5000]: 100%|██████████| 10/10 [00:00<00:00, 294.85it/s, loss=1.17]\n",
      "Epoch [122/5000]: 100%|██████████| 10/10 [00:00<00:00, 305.07it/s, loss=0.893]\n",
      "Epoch [123/5000]: 100%|██████████| 10/10 [00:00<00:00, 330.08it/s, loss=1.06]\n",
      "Epoch [124/5000]: 100%|██████████| 10/10 [00:00<00:00, 275.88it/s, loss=1.03]\n",
      "Epoch [125/5000]: 100%|██████████| 10/10 [00:00<00:00, 278.23it/s, loss=1.27]\n",
      "Epoch [126/5000]: 100%|██████████| 10/10 [00:00<00:00, 331.00it/s, loss=0.826]\n",
      "Epoch [127/5000]: 100%|██████████| 10/10 [00:00<00:00, 306.23it/s, loss=1.08]\n",
      "Epoch [128/5000]: 100%|██████████| 10/10 [00:00<00:00, 308.12it/s, loss=1.08]\n",
      "Epoch [129/5000]: 100%|██████████| 10/10 [00:00<00:00, 313.52it/s, loss=1.16]\n",
      "Epoch [130/5000]: 100%|██████████| 10/10 [00:00<00:00, 293.89it/s, loss=1.01]\n",
      "Epoch [131/5000]: 100%|██████████| 10/10 [00:00<00:00, 271.25it/s, loss=1.59]\n",
      "Epoch [132/5000]: 100%|██████████| 10/10 [00:00<00:00, 267.29it/s, loss=1.15]\n",
      "Epoch [133/5000]: 100%|██████████| 10/10 [00:00<00:00, 294.13it/s, loss=1.12]\n",
      "Epoch [134/5000]: 100%|██████████| 10/10 [00:00<00:00, 320.30it/s, loss=0.966]\n",
      "Epoch [135/5000]: 100%|██████████| 10/10 [00:00<00:00, 295.50it/s, loss=1.29]\n",
      "Epoch [136/5000]: 100%|██████████| 10/10 [00:00<00:00, 342.43it/s, loss=1.12]\n",
      "Epoch [137/5000]: 100%|██████████| 10/10 [00:00<00:00, 322.16it/s, loss=0.834]\n",
      "Epoch [138/5000]: 100%|██████████| 10/10 [00:00<00:00, 303.35it/s, loss=1.12]\n",
      "Epoch [139/5000]: 100%|██████████| 10/10 [00:00<00:00, 330.25it/s, loss=1.45]\n",
      "Epoch [140/5000]: 100%|██████████| 10/10 [00:00<00:00, 322.53it/s, loss=1.13]\n",
      "Epoch [141/5000]: 100%|██████████| 10/10 [00:00<00:00, 327.31it/s, loss=1.11]\n"
     ]
    },
    {
     "name": "stdout",
     "output_type": "stream",
     "text": [
      "Saving model with loss 1.100...\n"
     ]
    },
    {
     "name": "stderr",
     "output_type": "stream",
     "text": [
      "Epoch [142/5000]: 100%|██████████| 10/10 [00:00<00:00, 306.62it/s, loss=1.04]\n",
      "Epoch [143/5000]: 100%|██████████| 10/10 [00:00<00:00, 334.19it/s, loss=1.02]\n",
      "Epoch [144/5000]: 100%|██████████| 10/10 [00:00<00:00, 312.83it/s, loss=0.965]\n",
      "Epoch [145/5000]: 100%|██████████| 10/10 [00:00<00:00, 342.64it/s, loss=0.941]\n",
      "Epoch [146/5000]: 100%|██████████| 10/10 [00:00<00:00, 343.82it/s, loss=0.931]\n",
      "Epoch [147/5000]: 100%|██████████| 10/10 [00:00<00:00, 314.47it/s, loss=1.16]\n",
      "Epoch [148/5000]: 100%|██████████| 10/10 [00:00<00:00, 333.03it/s, loss=1.1]\n",
      "Epoch [149/5000]: 100%|██████████| 10/10 [00:00<00:00, 206.35it/s, loss=0.899]\n",
      "Epoch [150/5000]: 100%|██████████| 10/10 [00:00<00:00, 278.31it/s, loss=1.16]\n",
      "Epoch [151/5000]: 100%|██████████| 10/10 [00:00<00:00, 289.35it/s, loss=1.02]\n",
      "Epoch [152/5000]: 100%|██████████| 10/10 [00:00<00:00, 257.57it/s, loss=1.22]\n",
      "Epoch [153/5000]: 100%|██████████| 10/10 [00:00<00:00, 280.54it/s, loss=0.804]\n",
      "Epoch [154/5000]: 100%|██████████| 10/10 [00:00<00:00, 295.27it/s, loss=1.58]\n",
      "Epoch [155/5000]: 100%|██████████| 10/10 [00:00<00:00, 322.65it/s, loss=1.05]\n",
      "Epoch [156/5000]: 100%|██████████| 10/10 [00:00<00:00, 326.86it/s, loss=0.957]\n",
      "Epoch [157/5000]: 100%|██████████| 10/10 [00:00<00:00, 313.47it/s, loss=1.06]\n",
      "Epoch [158/5000]: 100%|██████████| 10/10 [00:00<00:00, 338.05it/s, loss=0.895]\n",
      "Epoch [159/5000]: 100%|██████████| 10/10 [00:00<00:00, 346.02it/s, loss=0.971]\n",
      "Epoch [160/5000]: 100%|██████████| 10/10 [00:00<00:00, 85.88it/s, loss=0.851]\n",
      "Epoch [161/5000]: 100%|██████████| 10/10 [00:00<00:00, 303.32it/s, loss=0.938]\n",
      "Epoch [162/5000]: 100%|██████████| 10/10 [00:00<00:00, 281.15it/s, loss=0.7]\n",
      "Epoch [163/5000]: 100%|██████████| 10/10 [00:00<00:00, 295.05it/s, loss=1.02]\n",
      "Epoch [164/5000]: 100%|██████████| 10/10 [00:00<00:00, 288.12it/s, loss=1.04]\n",
      "Epoch [165/5000]: 100%|██████████| 10/10 [00:00<00:00, 278.72it/s, loss=1.09]\n",
      "Epoch [166/5000]: 100%|██████████| 10/10 [00:00<00:00, 303.12it/s, loss=1.3]\n",
      "Epoch [167/5000]: 100%|██████████| 10/10 [00:00<00:00, 307.00it/s, loss=0.919]\n"
     ]
    },
    {
     "name": "stdout",
     "output_type": "stream",
     "text": [
      "Saving model with loss 1.079...\n"
     ]
    },
    {
     "name": "stderr",
     "output_type": "stream",
     "text": [
      "Epoch [168/5000]: 100%|██████████| 10/10 [00:00<00:00, 345.97it/s, loss=1.02]\n",
      "Epoch [169/5000]: 100%|██████████| 10/10 [00:00<00:00, 305.75it/s, loss=1.04]\n",
      "Epoch [170/5000]: 100%|██████████| 10/10 [00:00<00:00, 346.04it/s, loss=0.989]\n",
      "Epoch [171/5000]: 100%|██████████| 10/10 [00:00<00:00, 334.55it/s, loss=1.16]\n",
      "Epoch [172/5000]: 100%|██████████| 10/10 [00:00<00:00, 297.07it/s, loss=0.927]\n",
      "Epoch [173/5000]: 100%|██████████| 10/10 [00:00<00:00, 370.53it/s, loss=0.774]\n",
      "Epoch [174/5000]: 100%|██████████| 10/10 [00:00<00:00, 313.50it/s, loss=0.861]\n"
     ]
    },
    {
     "name": "stdout",
     "output_type": "stream",
     "text": [
      "Saving model with loss 1.070...\n"
     ]
    },
    {
     "name": "stderr",
     "output_type": "stream",
     "text": [
      "Epoch [175/5000]: 100%|██████████| 10/10 [00:00<00:00, 297.02it/s, loss=0.863]\n",
      "Epoch [176/5000]: 100%|██████████| 10/10 [00:00<00:00, 323.55it/s, loss=1.03]\n",
      "Epoch [177/5000]: 100%|██████████| 10/10 [00:00<00:00, 322.85it/s, loss=1.12]\n",
      "Epoch [178/5000]: 100%|██████████| 10/10 [00:00<00:00, 306.75it/s, loss=1.24]\n",
      "Epoch [179/5000]: 100%|██████████| 10/10 [00:00<00:00, 333.31it/s, loss=0.939]\n",
      "Epoch [180/5000]: 100%|██████████| 10/10 [00:00<00:00, 308.50it/s, loss=0.911]\n",
      "Epoch [181/5000]: 100%|██████████| 10/10 [00:00<00:00, 323.63it/s, loss=0.921]\n",
      "Epoch [182/5000]: 100%|██████████| 10/10 [00:00<00:00, 323.95it/s, loss=0.841]\n"
     ]
    },
    {
     "name": "stdout",
     "output_type": "stream",
     "text": [
      "Saving model with loss 1.054...\n"
     ]
    },
    {
     "name": "stderr",
     "output_type": "stream",
     "text": [
      "Epoch [183/5000]: 100%|██████████| 10/10 [00:00<00:00, 280.97it/s, loss=0.959]\n",
      "Epoch [184/5000]: 100%|██████████| 10/10 [00:00<00:00, 345.90it/s, loss=0.99]\n",
      "Epoch [185/5000]: 100%|██████████| 10/10 [00:00<00:00, 323.69it/s, loss=0.953]\n",
      "Epoch [186/5000]: 100%|██████████| 10/10 [00:00<00:00, 297.80it/s, loss=1.01]\n",
      "Epoch [187/5000]: 100%|██████████| 10/10 [00:00<00:00, 286.67it/s, loss=1.35]\n",
      "Epoch [188/5000]: 100%|██████████| 10/10 [00:00<00:00, 265.66it/s, loss=1.62]\n",
      "Epoch [189/5000]: 100%|██████████| 10/10 [00:00<00:00, 257.58it/s, loss=0.753]\n"
     ]
    },
    {
     "name": "stdout",
     "output_type": "stream",
     "text": [
      "Saving model with loss 1.046...\n"
     ]
    },
    {
     "name": "stderr",
     "output_type": "stream",
     "text": [
      "Epoch [190/5000]: 100%|██████████| 10/10 [00:00<00:00, 263.41it/s, loss=1.04]\n",
      "Epoch [191/5000]: 100%|██████████| 10/10 [00:00<00:00, 281.22it/s, loss=1.19]\n",
      "Epoch [192/5000]: 100%|██████████| 10/10 [00:00<00:00, 323.95it/s, loss=1.03]\n",
      "Epoch [193/5000]: 100%|██████████| 10/10 [00:00<00:00, 306.21it/s, loss=1.28]\n",
      "Epoch [194/5000]: 100%|██████████| 10/10 [00:00<00:00, 334.38it/s, loss=1.26]\n",
      "Epoch [195/5000]: 100%|██████████| 10/10 [00:00<00:00, 334.42it/s, loss=0.994]\n",
      "Epoch [196/5000]: 100%|██████████| 10/10 [00:00<00:00, 296.90it/s, loss=1.13]\n",
      "Epoch [197/5000]: 100%|██████████| 10/10 [00:00<00:00, 303.70it/s, loss=1.09]\n",
      "Epoch [198/5000]: 100%|██████████| 10/10 [00:00<00:00, 322.93it/s, loss=1.01]\n",
      "Epoch [199/5000]: 100%|██████████| 10/10 [00:00<00:00, 289.16it/s, loss=0.814]\n",
      "Epoch [200/5000]: 100%|██████████| 10/10 [00:00<00:00, 323.86it/s, loss=1.16]\n",
      "Epoch [201/5000]: 100%|██████████| 10/10 [00:00<00:00, 322.72it/s, loss=1]\n"
     ]
    },
    {
     "name": "stdout",
     "output_type": "stream",
     "text": [
      "Epoch [201/5000]: Train loss: 1.0748, Valid loss: 1.0669\n"
     ]
    },
    {
     "name": "stderr",
     "output_type": "stream",
     "text": [
      "Epoch [202/5000]: 100%|██████████| 10/10 [00:00<00:00, 278.79it/s, loss=0.881]\n",
      "Epoch [203/5000]: 100%|██████████| 10/10 [00:00<00:00, 278.69it/s, loss=0.963]\n",
      "Epoch [204/5000]: 100%|██████████| 10/10 [00:00<00:00, 375.95it/s, loss=1.5]\n",
      "Epoch [205/5000]: 100%|██████████| 10/10 [00:00<00:00, 323.59it/s, loss=1.03]\n",
      "Epoch [206/5000]: 100%|██████████| 10/10 [00:00<00:00, 302.46it/s, loss=1.07]\n",
      "Epoch [207/5000]: 100%|██████████| 10/10 [00:00<00:00, 316.05it/s, loss=1.09]\n",
      "Epoch [208/5000]: 100%|██████████| 10/10 [00:00<00:00, 295.44it/s, loss=0.987]\n",
      "Epoch [209/5000]: 100%|██████████| 10/10 [00:00<00:00, 280.50it/s, loss=1.56]\n",
      "Epoch [210/5000]: 100%|██████████| 10/10 [00:00<00:00, 313.64it/s, loss=0.979]\n",
      "Epoch [211/5000]: 100%|██████████| 10/10 [00:00<00:00, 346.01it/s, loss=1.1]\n",
      "Epoch [212/5000]: 100%|██████████| 10/10 [00:00<00:00, 296.91it/s, loss=1.08]\n",
      "Epoch [213/5000]: 100%|██████████| 10/10 [00:00<00:00, 263.74it/s, loss=1.06]\n",
      "Epoch [214/5000]: 100%|██████████| 10/10 [00:00<00:00, 246.10it/s, loss=1.02]\n",
      "Epoch [215/5000]: 100%|██████████| 10/10 [00:00<00:00, 271.18it/s, loss=1.08]\n",
      "Epoch [216/5000]: 100%|██████████| 10/10 [00:00<00:00, 312.63it/s, loss=1.01]\n",
      "Epoch [217/5000]: 100%|██████████| 10/10 [00:00<00:00, 297.83it/s, loss=0.917]\n",
      "Epoch [218/5000]: 100%|██████████| 10/10 [00:00<00:00, 286.61it/s, loss=1.16]\n",
      "Epoch [219/5000]: 100%|██████████| 10/10 [00:00<00:00, 325.82it/s, loss=0.908]\n",
      "Epoch [220/5000]: 100%|██████████| 10/10 [00:00<00:00, 334.32it/s, loss=1.04]\n",
      "Epoch [221/5000]: 100%|██████████| 10/10 [00:00<00:00, 295.11it/s, loss=1.06]\n",
      "Epoch [222/5000]: 100%|██████████| 10/10 [00:00<00:00, 326.01it/s, loss=1.01]\n",
      "Epoch [223/5000]: 100%|██████████| 10/10 [00:00<00:00, 323.48it/s, loss=0.893]\n",
      "Epoch [224/5000]: 100%|██████████| 10/10 [00:00<00:00, 304.00it/s, loss=1.25]\n",
      "Epoch [225/5000]: 100%|██████████| 10/10 [00:00<00:00, 316.71it/s, loss=1.09]\n"
     ]
    },
    {
     "name": "stdout",
     "output_type": "stream",
     "text": [
      "Saving model with loss 1.046...\n"
     ]
    },
    {
     "name": "stderr",
     "output_type": "stream",
     "text": [
      "Epoch [226/5000]: 100%|██████████| 10/10 [00:00<00:00, 313.53it/s, loss=1.03]\n"
     ]
    },
    {
     "name": "stdout",
     "output_type": "stream",
     "text": [
      "Saving model with loss 1.039...\n"
     ]
    },
    {
     "name": "stderr",
     "output_type": "stream",
     "text": [
      "Epoch [227/5000]: 100%|██████████| 10/10 [00:00<00:00, 280.34it/s, loss=1.27]\n"
     ]
    },
    {
     "name": "stdout",
     "output_type": "stream",
     "text": [
      "Saving model with loss 1.026...\n"
     ]
    },
    {
     "name": "stderr",
     "output_type": "stream",
     "text": [
      "Epoch [228/5000]: 100%|██████████| 10/10 [00:00<00:00, 334.38it/s, loss=0.896]\n",
      "Epoch [229/5000]: 100%|██████████| 10/10 [00:00<00:00, 324.14it/s, loss=1.56]\n",
      "Epoch [230/5000]: 100%|██████████| 10/10 [00:00<00:00, 297.44it/s, loss=0.744]\n",
      "Epoch [231/5000]: 100%|██████████| 10/10 [00:00<00:00, 286.67it/s, loss=1.31]\n",
      "Epoch [232/5000]: 100%|██████████| 10/10 [00:00<00:00, 313.01it/s, loss=0.837]\n",
      "Epoch [233/5000]: 100%|██████████| 10/10 [00:00<00:00, 337.58it/s, loss=1.21]\n",
      "Epoch [234/5000]: 100%|██████████| 10/10 [00:00<00:00, 323.66it/s, loss=1.11]\n",
      "Epoch [235/5000]: 100%|██████████| 10/10 [00:00<00:00, 260.84it/s, loss=0.94]\n",
      "Epoch [236/5000]: 100%|██████████| 10/10 [00:00<00:00, 278.71it/s, loss=1.02]\n",
      "Epoch [237/5000]: 100%|██████████| 10/10 [00:00<00:00, 320.33it/s, loss=0.885]\n",
      "Epoch [238/5000]: 100%|██████████| 10/10 [00:00<00:00, 325.96it/s, loss=1.18]\n",
      "Epoch [239/5000]: 100%|██████████| 10/10 [00:00<00:00, 355.68it/s, loss=0.941]\n",
      "Epoch [240/5000]: 100%|██████████| 10/10 [00:00<00:00, 268.16it/s, loss=1.31]\n",
      "Epoch [241/5000]: 100%|██████████| 10/10 [00:00<00:00, 304.34it/s, loss=1.52]\n",
      "Epoch [242/5000]: 100%|██████████| 10/10 [00:00<00:00, 323.75it/s, loss=0.828]\n",
      "Epoch [243/5000]: 100%|██████████| 10/10 [00:00<00:00, 296.84it/s, loss=1.25]\n",
      "Epoch [244/5000]: 100%|██████████| 10/10 [00:00<00:00, 323.67it/s, loss=1.28]\n",
      "Epoch [245/5000]: 100%|██████████| 10/10 [00:00<00:00, 334.41it/s, loss=1.12]\n",
      "Epoch [246/5000]: 100%|██████████| 10/10 [00:00<00:00, 84.63it/s, loss=1.04]\n",
      "Epoch [247/5000]: 100%|██████████| 10/10 [00:00<00:00, 278.72it/s, loss=0.876]\n",
      "Epoch [248/5000]: 100%|██████████| 10/10 [00:00<00:00, 313.52it/s, loss=0.815]\n",
      "Epoch [249/5000]: 100%|██████████| 10/10 [00:00<00:00, 272.81it/s, loss=1.03]\n",
      "Epoch [250/5000]: 100%|██████████| 10/10 [00:00<00:00, 357.87it/s, loss=0.947]\n"
     ]
    },
    {
     "name": "stdout",
     "output_type": "stream",
     "text": [
      "Saving model with loss 0.986...\n"
     ]
    },
    {
     "name": "stderr",
     "output_type": "stream",
     "text": [
      "Epoch [251/5000]: 100%|██████████| 10/10 [00:00<00:00, 303.19it/s, loss=1.08]\n",
      "Epoch [252/5000]: 100%|██████████| 10/10 [00:00<00:00, 288.97it/s, loss=1.07]\n",
      "Epoch [253/5000]: 100%|██████████| 10/10 [00:00<00:00, 323.70it/s, loss=0.767]\n",
      "Epoch [254/5000]: 100%|██████████| 10/10 [00:00<00:00, 315.64it/s, loss=0.971]\n",
      "Epoch [255/5000]: 100%|██████████| 10/10 [00:00<00:00, 313.57it/s, loss=1.01]\n",
      "Epoch [256/5000]: 100%|██████████| 10/10 [00:00<00:00, 346.05it/s, loss=0.816]\n",
      "Epoch [257/5000]: 100%|██████████| 10/10 [00:00<00:00, 325.95it/s, loss=1.36]\n",
      "Epoch [258/5000]: 100%|██████████| 10/10 [00:00<00:00, 304.03it/s, loss=1.18]\n",
      "Epoch [259/5000]: 100%|██████████| 10/10 [00:00<00:00, 312.81it/s, loss=0.657]\n",
      "Epoch [260/5000]: 100%|██████████| 10/10 [00:00<00:00, 306.54it/s, loss=0.974]\n",
      "Epoch [261/5000]: 100%|██████████| 10/10 [00:00<00:00, 304.05it/s, loss=0.966]\n",
      "Epoch [262/5000]: 100%|██████████| 10/10 [00:00<00:00, 333.28it/s, loss=0.915]\n",
      "Epoch [263/5000]: 100%|██████████| 10/10 [00:00<00:00, 316.55it/s, loss=0.956]\n",
      "Epoch [264/5000]: 100%|██████████| 10/10 [00:00<00:00, 313.56it/s, loss=0.958]\n",
      "Epoch [265/5000]: 100%|██████████| 10/10 [00:00<00:00, 325.96it/s, loss=1.01]\n",
      "Epoch [266/5000]: 100%|██████████| 10/10 [00:00<00:00, 323.72it/s, loss=0.976]\n",
      "Epoch [267/5000]: 100%|██████████| 10/10 [00:00<00:00, 334.38it/s, loss=0.846]\n",
      "Epoch [268/5000]: 100%|██████████| 10/10 [00:00<00:00, 337.15it/s, loss=0.982]\n",
      "Epoch [269/5000]: 100%|██████████| 10/10 [00:00<00:00, 345.92it/s, loss=0.814]\n",
      "Epoch [270/5000]: 100%|██████████| 10/10 [00:00<00:00, 334.52it/s, loss=1.12]\n",
      "Epoch [271/5000]: 100%|██████████| 10/10 [00:00<00:00, 316.45it/s, loss=1.15]\n",
      "Epoch [272/5000]: 100%|██████████| 10/10 [00:00<00:00, 334.53it/s, loss=1.29]\n",
      "Epoch [273/5000]: 100%|██████████| 10/10 [00:00<00:00, 312.54it/s, loss=1.13]\n",
      "Epoch [274/5000]: 100%|██████████| 10/10 [00:00<00:00, 338.12it/s, loss=0.734]\n",
      "Epoch [275/5000]: 100%|██████████| 10/10 [00:00<00:00, 334.38it/s, loss=0.906]\n",
      "Epoch [276/5000]: 100%|██████████| 10/10 [00:00<00:00, 272.63it/s, loss=0.964]\n",
      "Epoch [277/5000]: 100%|██████████| 10/10 [00:00<00:00, 303.99it/s, loss=1.04]\n"
     ]
    },
    {
     "name": "stdout",
     "output_type": "stream",
     "text": [
      "Saving model with loss 0.973...\n"
     ]
    },
    {
     "name": "stderr",
     "output_type": "stream",
     "text": [
      "Epoch [278/5000]: 100%|██████████| 10/10 [00:00<00:00, 285.43it/s, loss=0.919]\n",
      "Epoch [279/5000]: 100%|██████████| 10/10 [00:00<00:00, 281.17it/s, loss=1.03]\n",
      "Epoch [280/5000]: 100%|██████████| 10/10 [00:00<00:00, 191.74it/s, loss=0.945]\n",
      "Epoch [281/5000]: 100%|██████████| 10/10 [00:00<00:00, 289.44it/s, loss=0.714]\n",
      "Epoch [282/5000]: 100%|██████████| 10/10 [00:00<00:00, 323.56it/s, loss=1.22]\n",
      "Epoch [283/5000]: 100%|██████████| 10/10 [00:00<00:00, 333.37it/s, loss=1.18]\n",
      "Epoch [284/5000]: 100%|██████████| 10/10 [00:00<00:00, 333.87it/s, loss=1.07]\n",
      "Epoch [285/5000]: 100%|██████████| 10/10 [00:00<00:00, 345.87it/s, loss=1.06]\n",
      "Epoch [286/5000]: 100%|██████████| 10/10 [00:00<00:00, 288.16it/s, loss=1.29]\n",
      "Epoch [287/5000]: 100%|██████████| 10/10 [00:00<00:00, 324.02it/s, loss=0.989]\n",
      "Epoch [288/5000]: 100%|██████████| 10/10 [00:00<00:00, 313.54it/s, loss=0.945]\n",
      "Epoch [289/5000]: 100%|██████████| 10/10 [00:00<00:00, 350.30it/s, loss=0.856]\n",
      "Epoch [290/5000]: 100%|██████████| 10/10 [00:00<00:00, 323.72it/s, loss=0.858]\n",
      "Epoch [291/5000]: 100%|██████████| 10/10 [00:00<00:00, 256.70it/s, loss=1.08]\n",
      "Epoch [292/5000]: 100%|██████████| 10/10 [00:00<00:00, 317.13it/s, loss=1.12]\n",
      "Epoch [293/5000]: 100%|██████████| 10/10 [00:00<00:00, 278.92it/s, loss=1.46]\n",
      "Epoch [294/5000]: 100%|██████████| 10/10 [00:00<00:00, 326.41it/s, loss=0.961]\n"
     ]
    },
    {
     "name": "stdout",
     "output_type": "stream",
     "text": [
      "Saving model with loss 0.964...\n"
     ]
    },
    {
     "name": "stderr",
     "output_type": "stream",
     "text": [
      "Epoch [295/5000]: 100%|██████████| 10/10 [00:00<00:00, 323.73it/s, loss=0.931]\n",
      "Epoch [296/5000]: 100%|██████████| 10/10 [00:00<00:00, 277.81it/s, loss=1.45]\n",
      "Epoch [297/5000]: 100%|██████████| 10/10 [00:00<00:00, 337.46it/s, loss=0.81]\n",
      "Epoch [298/5000]: 100%|██████████| 10/10 [00:00<00:00, 334.32it/s, loss=1.02]\n",
      "Epoch [299/5000]: 100%|██████████| 10/10 [00:00<00:00, 286.16it/s, loss=1.15]\n",
      "Epoch [300/5000]: 100%|██████████| 10/10 [00:00<00:00, 312.63it/s, loss=1.24]\n",
      "Epoch [301/5000]: 100%|██████████| 10/10 [00:00<00:00, 323.73it/s, loss=1.1]\n"
     ]
    },
    {
     "name": "stdout",
     "output_type": "stream",
     "text": [
      "Epoch [301/5000]: Train loss: 0.9954, Valid loss: 1.0490\n"
     ]
    },
    {
     "name": "stderr",
     "output_type": "stream",
     "text": [
      "Epoch [302/5000]: 100%|██████████| 10/10 [00:00<00:00, 315.72it/s, loss=0.819]\n",
      "Epoch [303/5000]: 100%|██████████| 10/10 [00:00<00:00, 334.51it/s, loss=1.04]\n",
      "Epoch [304/5000]: 100%|██████████| 10/10 [00:00<00:00, 345.96it/s, loss=0.895]\n",
      "Epoch [305/5000]: 100%|██████████| 10/10 [00:00<00:00, 336.77it/s, loss=1.11]\n",
      "Epoch [306/5000]: 100%|██████████| 10/10 [00:00<00:00, 323.71it/s, loss=0.996]\n",
      "Epoch [307/5000]: 100%|██████████| 10/10 [00:00<00:00, 286.24it/s, loss=1.04]\n",
      "Epoch [308/5000]: 100%|██████████| 10/10 [00:00<00:00, 327.01it/s, loss=1.12]\n",
      "Epoch [309/5000]: 100%|██████████| 10/10 [00:00<00:00, 334.46it/s, loss=0.764]\n",
      "Epoch [310/5000]: 100%|██████████| 10/10 [00:00<00:00, 312.58it/s, loss=0.804]\n"
     ]
    },
    {
     "name": "stdout",
     "output_type": "stream",
     "text": [
      "Saving model with loss 0.956...\n"
     ]
    },
    {
     "name": "stderr",
     "output_type": "stream",
     "text": [
      "Epoch [311/5000]: 100%|██████████| 10/10 [00:00<00:00, 345.87it/s, loss=0.935]\n",
      "Epoch [312/5000]: 100%|██████████| 10/10 [00:00<00:00, 346.12it/s, loss=1.14]\n",
      "Epoch [313/5000]: 100%|██████████| 10/10 [00:00<00:00, 288.40it/s, loss=1.19]\n",
      "Epoch [314/5000]: 100%|██████████| 10/10 [00:00<00:00, 284.01it/s, loss=0.951]\n",
      "Epoch [315/5000]: 100%|██████████| 10/10 [00:00<00:00, 303.60it/s, loss=0.823]\n",
      "Epoch [316/5000]: 100%|██████████| 10/10 [00:00<00:00, 281.87it/s, loss=0.83]\n",
      "Epoch [317/5000]: 100%|██████████| 10/10 [00:00<00:00, 271.17it/s, loss=0.694]\n"
     ]
    },
    {
     "name": "stdout",
     "output_type": "stream",
     "text": [
      "Saving model with loss 0.938...\n"
     ]
    },
    {
     "name": "stderr",
     "output_type": "stream",
     "text": [
      "Epoch [318/5000]: 100%|██████████| 10/10 [00:00<00:00, 272.77it/s, loss=0.927]\n",
      "Epoch [319/5000]: 100%|██████████| 10/10 [00:00<00:00, 278.66it/s, loss=0.948]\n",
      "Epoch [320/5000]: 100%|██████████| 10/10 [00:00<00:00, 312.52it/s, loss=0.69]\n",
      "Epoch [321/5000]: 100%|██████████| 10/10 [00:00<00:00, 313.52it/s, loss=0.928]\n",
      "Epoch [322/5000]: 100%|██████████| 10/10 [00:00<00:00, 304.06it/s, loss=0.826]\n",
      "Epoch [323/5000]: 100%|██████████| 10/10 [00:00<00:00, 337.43it/s, loss=0.823]\n",
      "Epoch [324/5000]: 100%|██████████| 10/10 [00:00<00:00, 372.00it/s, loss=0.672]\n"
     ]
    },
    {
     "name": "stdout",
     "output_type": "stream",
     "text": [
      "Saving model with loss 0.927...\n"
     ]
    },
    {
     "name": "stderr",
     "output_type": "stream",
     "text": [
      "Epoch [325/5000]: 100%|██████████| 10/10 [00:00<00:00, 279.08it/s, loss=0.842]\n",
      "Epoch [326/5000]: 100%|██████████| 10/10 [00:00<00:00, 308.23it/s, loss=1.02]\n",
      "Epoch [327/5000]: 100%|██████████| 10/10 [00:00<00:00, 323.66it/s, loss=1.16]\n",
      "Epoch [328/5000]: 100%|██████████| 10/10 [00:00<00:00, 278.68it/s, loss=1.07]\n",
      "Epoch [329/5000]: 100%|██████████| 10/10 [00:00<00:00, 308.60it/s, loss=0.868]\n",
      "Epoch [330/5000]: 100%|██████████| 10/10 [00:00<00:00, 278.44it/s, loss=0.889]\n",
      "Epoch [331/5000]: 100%|██████████| 10/10 [00:00<00:00, 288.57it/s, loss=1.02]\n",
      "Epoch [332/5000]: 100%|██████████| 10/10 [00:00<00:00, 335.10it/s, loss=0.917]\n",
      "Epoch [333/5000]: 100%|██████████| 10/10 [00:00<00:00, 286.58it/s, loss=1.32]\n",
      "Epoch [334/5000]: 100%|██████████| 10/10 [00:00<00:00, 315.86it/s, loss=1.35]\n",
      "Epoch [335/5000]: 100%|██████████| 10/10 [00:00<00:00, 334.48it/s, loss=0.789]\n",
      "Epoch [336/5000]: 100%|██████████| 10/10 [00:00<00:00, 295.14it/s, loss=0.884]\n",
      "Epoch [337/5000]: 100%|██████████| 10/10 [00:00<00:00, 307.71it/s, loss=0.811]\n",
      "Epoch [338/5000]: 100%|██████████| 10/10 [00:00<00:00, 323.68it/s, loss=0.977]\n",
      "Epoch [339/5000]: 100%|██████████| 10/10 [00:00<00:00, 285.92it/s, loss=0.886]\n",
      "Epoch [340/5000]: 100%|██████████| 10/10 [00:00<00:00, 323.62it/s, loss=0.929]\n",
      "Epoch [341/5000]: 100%|██████████| 10/10 [00:00<00:00, 313.33it/s, loss=1.03]\n",
      "Epoch [342/5000]: 100%|██████████| 10/10 [00:00<00:00, 303.24it/s, loss=0.913]\n",
      "Epoch [343/5000]: 100%|██████████| 10/10 [00:00<00:00, 346.04it/s, loss=1.06]\n",
      "Epoch [344/5000]: 100%|██████████| 10/10 [00:00<00:00, 334.37it/s, loss=1.09]\n",
      "Epoch [345/5000]: 100%|██████████| 10/10 [00:00<00:00, 315.80it/s, loss=1.06]\n",
      "Epoch [346/5000]: 100%|██████████| 10/10 [00:00<00:00, 323.76it/s, loss=0.886]\n",
      "Epoch [347/5000]: 100%|██████████| 10/10 [00:00<00:00, 334.39it/s, loss=0.845]\n",
      "Epoch [348/5000]: 100%|██████████| 10/10 [00:00<00:00, 306.23it/s, loss=1.22]\n",
      "Epoch [349/5000]: 100%|██████████| 10/10 [00:00<00:00, 323.83it/s, loss=0.797]\n",
      "Epoch [350/5000]: 100%|██████████| 10/10 [00:00<00:00, 322.83it/s, loss=0.994]\n",
      "Epoch [351/5000]: 100%|██████████| 10/10 [00:00<00:00, 306.74it/s, loss=0.71]\n",
      "Epoch [352/5000]: 100%|██████████| 10/10 [00:00<00:00, 334.56it/s, loss=0.725]\n",
      "Epoch [353/5000]: 100%|██████████| 10/10 [00:00<00:00, 272.50it/s, loss=1.1]\n",
      "Epoch [354/5000]: 100%|██████████| 10/10 [00:00<00:00, 304.14it/s, loss=1.69]\n",
      "Epoch [355/5000]: 100%|██████████| 10/10 [00:00<00:00, 345.91it/s, loss=1.36]\n",
      "Epoch [356/5000]: 100%|██████████| 10/10 [00:00<00:00, 215.49it/s, loss=0.926]\n",
      "Epoch [357/5000]: 100%|██████████| 10/10 [00:00<00:00, 312.70it/s, loss=0.863]\n",
      "Epoch [358/5000]: 100%|██████████| 10/10 [00:00<00:00, 315.52it/s, loss=0.88]\n",
      "Epoch [359/5000]: 100%|██████████| 10/10 [00:00<00:00, 303.99it/s, loss=1.26]\n",
      "Epoch [360/5000]: 100%|██████████| 10/10 [00:00<00:00, 346.03it/s, loss=1.05]\n",
      "Epoch [361/5000]: 100%|██████████| 10/10 [00:00<00:00, 315.96it/s, loss=1.07]\n",
      "Epoch [362/5000]: 100%|██████████| 10/10 [00:00<00:00, 303.39it/s, loss=0.842]\n",
      "Epoch [363/5000]: 100%|██████████| 10/10 [00:00<00:00, 312.41it/s, loss=0.767]\n",
      "Epoch [364/5000]: 100%|██████████| 10/10 [00:00<00:00, 326.49it/s, loss=0.919]\n",
      "Epoch [365/5000]: 100%|██████████| 10/10 [00:00<00:00, 286.65it/s, loss=0.666]\n",
      "Epoch [366/5000]: 100%|██████████| 10/10 [00:00<00:00, 333.56it/s, loss=0.788]\n",
      "Epoch [367/5000]: 100%|██████████| 10/10 [00:00<00:00, 313.60it/s, loss=1.07]\n",
      "Epoch [368/5000]: 100%|██████████| 10/10 [00:00<00:00, 346.06it/s, loss=1.37]\n",
      "Epoch [369/5000]: 100%|██████████| 10/10 [00:00<00:00, 326.16it/s, loss=0.934]\n",
      "Epoch [370/5000]: 100%|██████████| 10/10 [00:00<00:00, 334.98it/s, loss=0.941]\n",
      "Epoch [371/5000]: 100%|██████████| 10/10 [00:00<00:00, 313.98it/s, loss=0.84]\n",
      "Epoch [372/5000]: 100%|██████████| 10/10 [00:00<00:00, 348.45it/s, loss=0.981]\n"
     ]
    },
    {
     "name": "stdout",
     "output_type": "stream",
     "text": [
      "Saving model with loss 0.921...\n"
     ]
    },
    {
     "name": "stderr",
     "output_type": "stream",
     "text": [
      "Epoch [373/5000]: 100%|██████████| 10/10 [00:00<00:00, 303.95it/s, loss=0.805]\n",
      "Epoch [374/5000]: 100%|██████████| 10/10 [00:00<00:00, 344.79it/s, loss=1.43]\n",
      "Epoch [375/5000]: 100%|██████████| 10/10 [00:00<00:00, 326.73it/s, loss=0.993]\n",
      "Epoch [376/5000]: 100%|██████████| 10/10 [00:00<00:00, 313.24it/s, loss=0.941]\n",
      "Epoch [377/5000]: 100%|██████████| 10/10 [00:00<00:00, 333.55it/s, loss=0.862]\n",
      "Epoch [378/5000]: 100%|██████████| 10/10 [00:00<00:00, 338.11it/s, loss=0.894]\n",
      "Epoch [379/5000]: 100%|██████████| 10/10 [00:00<00:00, 313.47it/s, loss=0.843]\n",
      "Epoch [380/5000]: 100%|██████████| 10/10 [00:00<00:00, 344.87it/s, loss=1.15]\n",
      "Epoch [381/5000]: 100%|██████████| 10/10 [00:00<00:00, 333.52it/s, loss=0.833]\n",
      "Epoch [382/5000]: 100%|██████████| 10/10 [00:00<00:00, 334.83it/s, loss=1.06]\n",
      "Epoch [383/5000]: 100%|██████████| 10/10 [00:00<00:00, 337.55it/s, loss=0.922]\n",
      "Epoch [384/5000]: 100%|██████████| 10/10 [00:00<00:00, 358.37it/s, loss=1.32]\n"
     ]
    },
    {
     "name": "stdout",
     "output_type": "stream",
     "text": [
      "Saving model with loss 0.907...\n"
     ]
    },
    {
     "name": "stderr",
     "output_type": "stream",
     "text": [
      "Epoch [385/5000]: 100%|██████████| 10/10 [00:00<00:00, 295.06it/s, loss=0.977]\n",
      "Epoch [386/5000]: 100%|██████████| 10/10 [00:00<00:00, 349.20it/s, loss=0.885]\n",
      "Epoch [387/5000]: 100%|██████████| 10/10 [00:00<00:00, 346.13it/s, loss=1.11]\n",
      "Epoch [388/5000]: 100%|██████████| 10/10 [00:00<00:00, 334.35it/s, loss=0.92]\n",
      "Epoch [389/5000]: 100%|██████████| 10/10 [00:00<00:00, 348.49it/s, loss=1.04]\n",
      "Epoch [390/5000]: 100%|██████████| 10/10 [00:00<00:00, 358.27it/s, loss=1.07]\n",
      "Epoch [391/5000]: 100%|██████████| 10/10 [00:00<00:00, 345.83it/s, loss=1.03]\n",
      "Epoch [392/5000]: 100%|██████████| 10/10 [00:00<00:00, 315.83it/s, loss=1.06]\n",
      "Epoch [393/5000]: 100%|██████████| 10/10 [00:00<00:00, 346.00it/s, loss=0.853]\n",
      "Epoch [394/5000]: 100%|██████████| 10/10 [00:00<00:00, 346.12it/s, loss=1.09]\n",
      "Epoch [395/5000]: 100%|██████████| 10/10 [00:00<00:00, 326.97it/s, loss=0.835]\n",
      "Epoch [396/5000]: 100%|██████████| 10/10 [00:00<00:00, 346.01it/s, loss=0.946]\n",
      "Epoch [397/5000]: 100%|██████████| 10/10 [00:00<00:00, 333.47it/s, loss=1.04]\n",
      "Epoch [398/5000]: 100%|██████████| 10/10 [00:00<00:00, 338.03it/s, loss=0.823]\n",
      "Epoch [399/5000]: 100%|██████████| 10/10 [00:00<00:00, 323.93it/s, loss=0.914]\n",
      "Epoch [400/5000]: 100%|██████████| 10/10 [00:00<00:00, 312.76it/s, loss=1.19]\n",
      "Epoch [401/5000]: 100%|██████████| 10/10 [00:00<00:00, 259.75it/s, loss=0.788]\n"
     ]
    },
    {
     "name": "stdout",
     "output_type": "stream",
     "text": [
      "Epoch [401/5000]: Train loss: 0.9383, Valid loss: 1.0006\n"
     ]
    },
    {
     "name": "stderr",
     "output_type": "stream",
     "text": [
      "Epoch [402/5000]: 100%|██████████| 10/10 [00:00<00:00, 257.63it/s, loss=0.936]\n"
     ]
    },
    {
     "name": "stdout",
     "output_type": "stream",
     "text": [
      "Saving model with loss 0.903...\n"
     ]
    },
    {
     "name": "stderr",
     "output_type": "stream",
     "text": [
      "Epoch [403/5000]: 100%|██████████| 10/10 [00:00<00:00, 281.16it/s, loss=0.993]\n",
      "Epoch [404/5000]: 100%|██████████| 10/10 [00:00<00:00, 282.18it/s, loss=1.1]\n",
      "Epoch [405/5000]: 100%|██████████| 10/10 [00:00<00:00, 280.59it/s, loss=0.853]\n",
      "Epoch [406/5000]: 100%|██████████| 10/10 [00:00<00:00, 324.02it/s, loss=0.927]\n",
      "Epoch [407/5000]: 100%|██████████| 10/10 [00:00<00:00, 345.90it/s, loss=0.745]\n",
      "Epoch [408/5000]: 100%|██████████| 10/10 [00:00<00:00, 297.08it/s, loss=1]\n",
      "Epoch [409/5000]: 100%|██████████| 10/10 [00:00<00:00, 334.54it/s, loss=1.17]\n",
      "Epoch [410/5000]: 100%|██████████| 10/10 [00:00<00:00, 346.54it/s, loss=0.864]\n",
      "Epoch [411/5000]: 100%|██████████| 10/10 [00:00<00:00, 297.48it/s, loss=0.941]\n",
      "Epoch [412/5000]: 100%|██████████| 10/10 [00:00<00:00, 334.18it/s, loss=0.895]\n"
     ]
    },
    {
     "name": "stdout",
     "output_type": "stream",
     "text": [
      "Saving model with loss 0.890...\n"
     ]
    },
    {
     "name": "stderr",
     "output_type": "stream",
     "text": [
      "Epoch [413/5000]: 100%|██████████| 10/10 [00:00<00:00, 294.28it/s, loss=0.845]\n",
      "Epoch [414/5000]: 100%|██████████| 10/10 [00:00<00:00, 286.60it/s, loss=1.09]\n",
      "Epoch [415/5000]: 100%|██████████| 10/10 [00:00<00:00, 295.12it/s, loss=0.949]\n",
      "Epoch [416/5000]: 100%|██████████| 10/10 [00:00<00:00, 306.19it/s, loss=1.09]\n",
      "Epoch [417/5000]: 100%|██████████| 10/10 [00:00<00:00, 286.69it/s, loss=0.691]\n",
      "Epoch [418/5000]: 100%|██████████| 10/10 [00:00<00:00, 322.62it/s, loss=0.718]\n",
      "Epoch [419/5000]: 100%|██████████| 10/10 [00:00<00:00, 84.69it/s, loss=1.31]\n"
     ]
    },
    {
     "name": "stdout",
     "output_type": "stream",
     "text": [
      "Saving model with loss 0.885...\n"
     ]
    },
    {
     "name": "stderr",
     "output_type": "stream",
     "text": [
      "Epoch [420/5000]: 100%|██████████| 10/10 [00:00<00:00, 323.72it/s, loss=0.994]\n",
      "Epoch [421/5000]: 100%|██████████| 10/10 [00:00<00:00, 303.19it/s, loss=0.751]\n",
      "Epoch [422/5000]: 100%|██████████| 10/10 [00:00<00:00, 349.76it/s, loss=1.22]\n",
      "Epoch [423/5000]: 100%|██████████| 10/10 [00:00<00:00, 346.02it/s, loss=0.733]\n",
      "Epoch [424/5000]: 100%|██████████| 10/10 [00:00<00:00, 312.77it/s, loss=0.772]\n",
      "Epoch [425/5000]: 100%|██████████| 10/10 [00:00<00:00, 303.58it/s, loss=0.958]\n",
      "Epoch [426/5000]: 100%|██████████| 10/10 [00:00<00:00, 303.69it/s, loss=0.915]\n",
      "Epoch [427/5000]: 100%|██████████| 10/10 [00:00<00:00, 315.64it/s, loss=0.964]\n",
      "Epoch [428/5000]: 100%|██████████| 10/10 [00:00<00:00, 323.67it/s, loss=1.02]\n",
      "Epoch [429/5000]: 100%|██████████| 10/10 [00:00<00:00, 334.59it/s, loss=0.995]\n",
      "Epoch [430/5000]: 100%|██████████| 10/10 [00:00<00:00, 338.24it/s, loss=0.989]\n",
      "Epoch [431/5000]: 100%|██████████| 10/10 [00:00<00:00, 334.42it/s, loss=1.3]\n",
      "Epoch [432/5000]: 100%|██████████| 10/10 [00:00<00:00, 313.62it/s, loss=0.741]\n",
      "Epoch [433/5000]: 100%|██████████| 10/10 [00:00<00:00, 337.81it/s, loss=1.18]\n",
      "Epoch [434/5000]: 100%|██████████| 10/10 [00:00<00:00, 346.01it/s, loss=0.965]\n",
      "Epoch [435/5000]: 100%|██████████| 10/10 [00:00<00:00, 303.19it/s, loss=0.828]\n",
      "Epoch [436/5000]: 100%|██████████| 10/10 [00:00<00:00, 349.59it/s, loss=0.929]\n",
      "Epoch [437/5000]: 100%|██████████| 10/10 [00:00<00:00, 334.36it/s, loss=0.923]\n",
      "Epoch [438/5000]: 100%|██████████| 10/10 [00:00<00:00, 312.79it/s, loss=0.78]\n",
      "Epoch [439/5000]: 100%|██████████| 10/10 [00:00<00:00, 349.71it/s, loss=0.584]\n",
      "Epoch [440/5000]: 100%|██████████| 10/10 [00:00<00:00, 334.42it/s, loss=0.918]\n",
      "Epoch [441/5000]: 100%|██████████| 10/10 [00:00<00:00, 306.95it/s, loss=0.96]\n",
      "Epoch [442/5000]: 100%|██████████| 10/10 [00:00<00:00, 346.23it/s, loss=0.736]\n",
      "Epoch [443/5000]: 100%|██████████| 10/10 [00:00<00:00, 358.36it/s, loss=1.22]\n",
      "Epoch [444/5000]: 100%|██████████| 10/10 [00:00<00:00, 296.85it/s, loss=0.953]\n",
      "Epoch [445/5000]: 100%|██████████| 10/10 [00:00<00:00, 346.07it/s, loss=0.973]\n",
      "Epoch [446/5000]: 100%|██████████| 10/10 [00:00<00:00, 346.13it/s, loss=0.821]\n",
      "Epoch [447/5000]: 100%|██████████| 10/10 [00:00<00:00, 306.42it/s, loss=0.778]\n",
      "Epoch [448/5000]: 100%|██████████| 10/10 [00:00<00:00, 323.55it/s, loss=0.997]\n",
      "Epoch [449/5000]: 100%|██████████| 10/10 [00:00<00:00, 358.44it/s, loss=0.792]\n",
      "Epoch [450/5000]: 100%|██████████| 10/10 [00:00<00:00, 326.12it/s, loss=0.779]\n",
      "Epoch [451/5000]: 100%|██████████| 10/10 [00:00<00:00, 346.03it/s, loss=0.862]\n",
      "Epoch [452/5000]: 100%|██████████| 10/10 [00:00<00:00, 345.94it/s, loss=0.969]\n",
      "Epoch [453/5000]: 100%|██████████| 10/10 [00:00<00:00, 297.87it/s, loss=1.11]\n",
      "Epoch [454/5000]: 100%|██████████| 10/10 [00:00<00:00, 346.00it/s, loss=0.901]\n",
      "Epoch [455/5000]: 100%|██████████| 10/10 [00:00<00:00, 356.91it/s, loss=0.959]\n",
      "Epoch [456/5000]: 100%|██████████| 10/10 [00:00<00:00, 307.69it/s, loss=1.12]\n",
      "Epoch [457/5000]: 100%|██████████| 10/10 [00:00<00:00, 358.35it/s, loss=0.737]\n",
      "Epoch [458/5000]: 100%|██████████| 10/10 [00:00<00:00, 333.41it/s, loss=1.03]\n",
      "Epoch [459/5000]: 100%|██████████| 10/10 [00:00<00:00, 306.94it/s, loss=0.897]\n",
      "Epoch [460/5000]: 100%|██████████| 10/10 [00:00<00:00, 304.48it/s, loss=0.974]\n",
      "Epoch [461/5000]: 100%|██████████| 10/10 [00:00<00:00, 252.48it/s, loss=1.09]\n",
      "Epoch [462/5000]: 100%|██████████| 10/10 [00:00<00:00, 345.84it/s, loss=1.54]\n",
      "Epoch [463/5000]: 100%|██████████| 10/10 [00:00<00:00, 323.68it/s, loss=1.22]\n",
      "Epoch [464/5000]: 100%|██████████| 10/10 [00:00<00:00, 297.23it/s, loss=0.937]\n",
      "Epoch [465/5000]: 100%|██████████| 10/10 [00:00<00:00, 358.25it/s, loss=0.751]\n",
      "Epoch [466/5000]: 100%|██████████| 10/10 [00:00<00:00, 344.92it/s, loss=0.723]\n",
      "Epoch [467/5000]: 100%|██████████| 10/10 [00:00<00:00, 316.36it/s, loss=0.85]\n",
      "Epoch [468/5000]: 100%|██████████| 10/10 [00:00<00:00, 303.88it/s, loss=1.18]\n",
      "Epoch [469/5000]: 100%|██████████| 10/10 [00:00<00:00, 288.78it/s, loss=0.815]\n",
      "Epoch [470/5000]: 100%|██████████| 10/10 [00:00<00:00, 257.35it/s, loss=0.919]\n",
      "Epoch [471/5000]: 100%|██████████| 10/10 [00:00<00:00, 294.51it/s, loss=0.99]\n",
      "Epoch [472/5000]: 100%|██████████| 10/10 [00:00<00:00, 297.69it/s, loss=1.04]\n",
      "Epoch [473/5000]: 100%|██████████| 10/10 [00:00<00:00, 304.09it/s, loss=0.742]\n",
      "Epoch [474/5000]: 100%|██████████| 10/10 [00:00<00:00, 288.69it/s, loss=0.891]\n",
      "Epoch [475/5000]: 100%|██████████| 10/10 [00:00<00:00, 313.53it/s, loss=0.852]\n",
      "Epoch [476/5000]: 100%|██████████| 10/10 [00:00<00:00, 313.60it/s, loss=0.608]\n",
      "Epoch [477/5000]: 100%|██████████| 10/10 [00:00<00:00, 326.34it/s, loss=0.987]\n",
      "Epoch [478/5000]: 100%|██████████| 10/10 [00:00<00:00, 334.47it/s, loss=1.19]\n",
      "Epoch [479/5000]: 100%|██████████| 10/10 [00:00<00:00, 334.47it/s, loss=0.795]\n",
      "Epoch [480/5000]: 100%|██████████| 10/10 [00:00<00:00, 326.99it/s, loss=1.3]\n",
      "Epoch [481/5000]: 100%|██████████| 10/10 [00:00<00:00, 304.04it/s, loss=1.13]\n",
      "Epoch [482/5000]: 100%|██████████| 10/10 [00:00<00:00, 344.42it/s, loss=0.947]\n",
      "Epoch [483/5000]: 100%|██████████| 10/10 [00:00<00:00, 338.02it/s, loss=1.12]\n",
      "Epoch [484/5000]: 100%|██████████| 10/10 [00:00<00:00, 334.77it/s, loss=0.821]\n",
      "Epoch [485/5000]: 100%|██████████| 10/10 [00:00<00:00, 306.23it/s, loss=0.932]\n",
      "Epoch [486/5000]: 100%|██████████| 10/10 [00:00<00:00, 334.50it/s, loss=0.766]\n",
      "Epoch [487/5000]: 100%|██████████| 10/10 [00:00<00:00, 295.12it/s, loss=0.771]\n",
      "Epoch [488/5000]: 100%|██████████| 10/10 [00:00<00:00, 265.55it/s, loss=0.771]\n",
      "Epoch [489/5000]: 100%|██████████| 10/10 [00:00<00:00, 313.50it/s, loss=0.958]\n",
      "Epoch [490/5000]: 100%|██████████| 10/10 [00:00<00:00, 344.98it/s, loss=0.914]\n",
      "Epoch [491/5000]: 100%|██████████| 10/10 [00:00<00:00, 327.36it/s, loss=0.783]\n"
     ]
    },
    {
     "name": "stdout",
     "output_type": "stream",
     "text": [
      "Saving model with loss 0.869...\n"
     ]
    },
    {
     "name": "stderr",
     "output_type": "stream",
     "text": [
      "Epoch [492/5000]: 100%|██████████| 10/10 [00:00<00:00, 295.12it/s, loss=1.22]\n",
      "Epoch [493/5000]: 100%|██████████| 10/10 [00:00<00:00, 345.00it/s, loss=0.733]\n"
     ]
    },
    {
     "name": "stdout",
     "output_type": "stream",
     "text": [
      "Saving model with loss 0.864...\n"
     ]
    },
    {
     "name": "stderr",
     "output_type": "stream",
     "text": [
      "Epoch [494/5000]: 100%|██████████| 10/10 [00:00<00:00, 346.09it/s, loss=0.91]\n",
      "Epoch [495/5000]: 100%|██████████| 10/10 [00:00<00:00, 286.80it/s, loss=0.968]\n",
      "Epoch [496/5000]: 100%|██████████| 10/10 [00:00<00:00, 361.03it/s, loss=1.01]\n",
      "Epoch [497/5000]: 100%|██████████| 10/10 [00:00<00:00, 345.93it/s, loss=0.792]\n",
      "Epoch [498/5000]: 100%|██████████| 10/10 [00:00<00:00, 303.98it/s, loss=0.643]\n",
      "Epoch [499/5000]: 100%|██████████| 10/10 [00:00<00:00, 325.93it/s, loss=0.806]\n",
      "Epoch [500/5000]: 100%|██████████| 10/10 [00:00<00:00, 334.32it/s, loss=0.876]\n",
      "Epoch [501/5000]: 100%|██████████| 10/10 [00:00<00:00, 312.51it/s, loss=0.882]\n"
     ]
    },
    {
     "name": "stdout",
     "output_type": "stream",
     "text": [
      "Epoch [501/5000]: Train loss: 0.9368, Valid loss: 0.9285\n"
     ]
    },
    {
     "name": "stderr",
     "output_type": "stream",
     "text": [
      "Epoch [502/5000]: 100%|██████████| 10/10 [00:00<00:00, 349.81it/s, loss=0.893]\n",
      "Epoch [503/5000]: 100%|██████████| 10/10 [00:00<00:00, 323.62it/s, loss=0.846]\n",
      "Epoch [504/5000]: 100%|██████████| 10/10 [00:00<00:00, 286.40it/s, loss=0.946]\n",
      "Epoch [505/5000]: 100%|██████████| 10/10 [00:00<00:00, 80.15it/s, loss=0.845]\n",
      "Epoch [506/5000]: 100%|██████████| 10/10 [00:00<00:00, 322.18it/s, loss=1.11]\n",
      "Epoch [507/5000]: 100%|██████████| 10/10 [00:00<00:00, 312.50it/s, loss=1.13]\n",
      "Epoch [508/5000]: 100%|██████████| 10/10 [00:00<00:00, 348.90it/s, loss=0.758]\n",
      "Epoch [509/5000]: 100%|██████████| 10/10 [00:00<00:00, 334.47it/s, loss=1.16]\n",
      "Epoch [510/5000]: 100%|██████████| 10/10 [00:00<00:00, 306.81it/s, loss=1.16]\n",
      "Epoch [511/5000]: 100%|██████████| 10/10 [00:00<00:00, 359.06it/s, loss=1.26]\n",
      "Epoch [512/5000]: 100%|██████████| 10/10 [00:00<00:00, 323.77it/s, loss=0.667]\n",
      "Epoch [513/5000]: 100%|██████████| 10/10 [00:00<00:00, 296.72it/s, loss=0.922]\n",
      "Epoch [514/5000]: 100%|██████████| 10/10 [00:00<00:00, 334.42it/s, loss=0.858]\n",
      "Epoch [515/5000]: 100%|██████████| 10/10 [00:00<00:00, 333.97it/s, loss=0.721]\n",
      "Epoch [516/5000]: 100%|██████████| 10/10 [00:00<00:00, 316.14it/s, loss=0.685]\n",
      "Epoch [517/5000]: 100%|██████████| 10/10 [00:00<00:00, 345.98it/s, loss=0.99]\n",
      "Epoch [518/5000]: 100%|██████████| 10/10 [00:00<00:00, 345.88it/s, loss=0.838]\n",
      "Epoch [519/5000]: 100%|██████████| 10/10 [00:00<00:00, 315.64it/s, loss=0.902]\n"
     ]
    },
    {
     "name": "stdout",
     "output_type": "stream",
     "text": [
      "Saving model with loss 0.855...\n"
     ]
    },
    {
     "name": "stderr",
     "output_type": "stream",
     "text": [
      "Epoch [520/5000]: 100%|██████████| 10/10 [00:00<00:00, 346.27it/s, loss=1.27]\n",
      "Epoch [521/5000]: 100%|██████████| 10/10 [00:00<00:00, 333.35it/s, loss=0.991]\n",
      "Epoch [522/5000]: 100%|██████████| 10/10 [00:00<00:00, 306.67it/s, loss=1.25]\n",
      "Epoch [523/5000]: 100%|██████████| 10/10 [00:00<00:00, 284.18it/s, loss=0.896]\n",
      "Epoch [524/5000]: 100%|██████████| 10/10 [00:00<00:00, 316.15it/s, loss=0.968]\n",
      "Epoch [525/5000]: 100%|██████████| 10/10 [00:00<00:00, 313.51it/s, loss=0.703]\n",
      "Epoch [526/5000]: 100%|██████████| 10/10 [00:00<00:00, 334.63it/s, loss=0.672]\n",
      "Epoch [527/5000]: 100%|██████████| 10/10 [00:00<00:00, 326.11it/s, loss=0.99]\n",
      "Epoch [528/5000]: 100%|██████████| 10/10 [00:00<00:00, 313.27it/s, loss=0.917]\n",
      "Epoch [529/5000]: 100%|██████████| 10/10 [00:00<00:00, 312.59it/s, loss=1.39]\n",
      "Epoch [530/5000]: 100%|██████████| 10/10 [00:00<00:00, 247.64it/s, loss=1.1]\n",
      "Epoch [531/5000]: 100%|██████████| 10/10 [00:00<00:00, 278.46it/s, loss=1.16]\n",
      "Epoch [532/5000]: 100%|██████████| 10/10 [00:00<00:00, 288.55it/s, loss=0.968]\n",
      "Epoch [533/5000]: 100%|██████████| 10/10 [00:00<00:00, 264.16it/s, loss=0.948]\n",
      "Epoch [534/5000]: 100%|██████████| 10/10 [00:00<00:00, 270.54it/s, loss=0.82]\n",
      "Epoch [535/5000]: 100%|██████████| 10/10 [00:00<00:00, 257.35it/s, loss=0.911]\n",
      "Epoch [536/5000]: 100%|██████████| 10/10 [00:00<00:00, 286.60it/s, loss=0.887]\n",
      "Epoch [537/5000]: 100%|██████████| 10/10 [00:00<00:00, 269.26it/s, loss=0.761]\n",
      "Epoch [538/5000]: 100%|██████████| 10/10 [00:00<00:00, 304.01it/s, loss=0.803]\n"
     ]
    },
    {
     "name": "stdout",
     "output_type": "stream",
     "text": [
      "Saving model with loss 0.854...\n"
     ]
    },
    {
     "name": "stderr",
     "output_type": "stream",
     "text": [
      "Epoch [539/5000]: 100%|██████████| 10/10 [00:00<00:00, 280.16it/s, loss=0.889]\n",
      "Epoch [540/5000]: 100%|██████████| 10/10 [00:00<00:00, 323.64it/s, loss=1.17]\n",
      "Epoch [541/5000]: 100%|██████████| 10/10 [00:00<00:00, 278.54it/s, loss=0.827]\n",
      "Epoch [542/5000]: 100%|██████████| 10/10 [00:00<00:00, 298.97it/s, loss=0.927]\n",
      "Epoch [543/5000]: 100%|██████████| 10/10 [00:00<00:00, 334.90it/s, loss=0.724]\n",
      "Epoch [544/5000]: 100%|██████████| 10/10 [00:00<00:00, 294.02it/s, loss=0.596]\n",
      "Epoch [545/5000]: 100%|██████████| 10/10 [00:00<00:00, 316.51it/s, loss=0.771]\n",
      "Epoch [546/5000]: 100%|██████████| 10/10 [00:00<00:00, 278.83it/s, loss=0.84]\n",
      "Epoch [547/5000]: 100%|██████████| 10/10 [00:00<00:00, 281.20it/s, loss=1.04]\n",
      "Epoch [548/5000]: 100%|██████████| 10/10 [00:00<00:00, 322.90it/s, loss=1.04]\n",
      "Epoch [549/5000]: 100%|██████████| 10/10 [00:00<00:00, 298.65it/s, loss=0.822]\n",
      "Epoch [550/5000]: 100%|██████████| 10/10 [00:00<00:00, 289.45it/s, loss=0.826]\n",
      "Epoch [551/5000]: 100%|██████████| 10/10 [00:00<00:00, 257.27it/s, loss=0.922]\n"
     ]
    },
    {
     "name": "stdout",
     "output_type": "stream",
     "text": [
      "Saving model with loss 0.848...\n"
     ]
    },
    {
     "name": "stderr",
     "output_type": "stream",
     "text": [
      "Epoch [552/5000]: 100%|██████████| 10/10 [00:00<00:00, 348.70it/s, loss=0.946]\n",
      "Epoch [553/5000]: 100%|██████████| 10/10 [00:00<00:00, 346.32it/s, loss=1.14]\n",
      "Epoch [554/5000]: 100%|██████████| 10/10 [00:00<00:00, 313.53it/s, loss=1.05]\n",
      "Epoch [555/5000]: 100%|██████████| 10/10 [00:00<00:00, 336.81it/s, loss=1.04]\n",
      "Epoch [556/5000]: 100%|██████████| 10/10 [00:00<00:00, 334.44it/s, loss=0.745]\n",
      "Epoch [557/5000]: 100%|██████████| 10/10 [00:00<00:00, 303.85it/s, loss=1.1]\n",
      "Epoch [558/5000]: 100%|██████████| 10/10 [00:00<00:00, 338.01it/s, loss=0.959]\n",
      "Epoch [559/5000]: 100%|██████████| 10/10 [00:00<00:00, 346.23it/s, loss=0.587]\n",
      "Epoch [560/5000]: 100%|██████████| 10/10 [00:00<00:00, 303.09it/s, loss=0.807]\n",
      "Epoch [561/5000]: 100%|██████████| 10/10 [00:00<00:00, 337.41it/s, loss=0.814]\n",
      "Epoch [562/5000]: 100%|██████████| 10/10 [00:00<00:00, 346.47it/s, loss=1.05]\n",
      "Epoch [563/5000]: 100%|██████████| 10/10 [00:00<00:00, 286.64it/s, loss=0.813]\n",
      "Epoch [564/5000]: 100%|██████████| 10/10 [00:00<00:00, 346.01it/s, loss=0.818]\n"
     ]
    },
    {
     "name": "stdout",
     "output_type": "stream",
     "text": [
      "Saving model with loss 0.845...\n"
     ]
    },
    {
     "name": "stderr",
     "output_type": "stream",
     "text": [
      "Epoch [565/5000]: 100%|██████████| 10/10 [00:00<00:00, 334.50it/s, loss=0.99]\n",
      "Epoch [566/5000]: 100%|██████████| 10/10 [00:00<00:00, 307.97it/s, loss=0.931]\n",
      "Epoch [567/5000]: 100%|██████████| 10/10 [00:00<00:00, 334.42it/s, loss=0.999]\n",
      "Epoch [568/5000]: 100%|██████████| 10/10 [00:00<00:00, 323.85it/s, loss=0.915]\n",
      "Epoch [569/5000]: 100%|██████████| 10/10 [00:00<00:00, 326.09it/s, loss=0.704]\n",
      "Epoch [570/5000]: 100%|██████████| 10/10 [00:00<00:00, 323.68it/s, loss=0.959]\n",
      "Epoch [571/5000]: 100%|██████████| 10/10 [00:00<00:00, 345.92it/s, loss=1.24]\n",
      "Epoch [572/5000]: 100%|██████████| 10/10 [00:00<00:00, 306.22it/s, loss=0.759]\n",
      "Epoch [573/5000]: 100%|██████████| 10/10 [00:00<00:00, 345.92it/s, loss=1.08]\n",
      "Epoch [574/5000]: 100%|██████████| 10/10 [00:00<00:00, 346.07it/s, loss=0.812]\n",
      "Epoch [575/5000]: 100%|██████████| 10/10 [00:00<00:00, 307.05it/s, loss=1.01]\n",
      "Epoch [576/5000]: 100%|██████████| 10/10 [00:00<00:00, 334.46it/s, loss=0.788]\n",
      "Epoch [577/5000]: 100%|██████████| 10/10 [00:00<00:00, 322.37it/s, loss=0.596]\n",
      "Epoch [578/5000]: 100%|██████████| 10/10 [00:00<00:00, 316.82it/s, loss=0.666]\n",
      "Epoch [579/5000]: 100%|██████████| 10/10 [00:00<00:00, 313.59it/s, loss=1.04]\n",
      "Epoch [580/5000]: 100%|██████████| 10/10 [00:00<00:00, 357.18it/s, loss=0.957]\n",
      "Epoch [581/5000]: 100%|██████████| 10/10 [00:00<00:00, 297.93it/s, loss=0.738]\n",
      "Epoch [582/5000]: 100%|██████████| 10/10 [00:00<00:00, 313.54it/s, loss=0.939]\n",
      "Epoch [583/5000]: 100%|██████████| 10/10 [00:00<00:00, 348.60it/s, loss=0.952]\n",
      "Epoch [584/5000]: 100%|██████████| 10/10 [00:00<00:00, 295.11it/s, loss=0.768]\n",
      "Epoch [585/5000]: 100%|██████████| 10/10 [00:00<00:00, 334.54it/s, loss=0.678]\n",
      "Epoch [586/5000]: 100%|██████████| 10/10 [00:00<00:00, 315.57it/s, loss=0.92]\n",
      "Epoch [587/5000]: 100%|██████████| 10/10 [00:00<00:00, 304.07it/s, loss=0.853]\n"
     ]
    },
    {
     "name": "stdout",
     "output_type": "stream",
     "text": [
      "Saving model with loss 0.827...\n"
     ]
    },
    {
     "name": "stderr",
     "output_type": "stream",
     "text": [
      "Epoch [588/5000]: 100%|██████████| 10/10 [00:00<00:00, 344.95it/s, loss=0.755]\n",
      "Epoch [589/5000]: 100%|██████████| 10/10 [00:00<00:00, 316.71it/s, loss=0.998]\n",
      "Epoch [590/5000]: 100%|██████████| 10/10 [00:00<00:00, 278.67it/s, loss=0.716]\n",
      "Epoch [591/5000]: 100%|██████████| 10/10 [00:00<00:00, 83.00it/s, loss=0.949]\n",
      "Epoch [592/5000]: 100%|██████████| 10/10 [00:00<00:00, 297.86it/s, loss=0.782]\n",
      "Epoch [593/5000]: 100%|██████████| 10/10 [00:00<00:00, 295.08it/s, loss=1.13]\n",
      "Epoch [594/5000]: 100%|██████████| 10/10 [00:00<00:00, 337.90it/s, loss=0.631]\n",
      "Epoch [595/5000]: 100%|██████████| 10/10 [00:00<00:00, 257.25it/s, loss=0.934]\n",
      "Epoch [596/5000]: 100%|██████████| 10/10 [00:00<00:00, 255.95it/s, loss=0.848]\n",
      "Epoch [597/5000]: 100%|██████████| 10/10 [00:00<00:00, 297.62it/s, loss=0.927]\n",
      "Epoch [598/5000]: 100%|██████████| 10/10 [00:00<00:00, 323.73it/s, loss=0.784]\n",
      "Epoch [599/5000]: 100%|██████████| 10/10 [00:00<00:00, 296.71it/s, loss=0.843]\n",
      "Epoch [600/5000]: 100%|██████████| 10/10 [00:00<00:00, 334.83it/s, loss=0.855]\n",
      "Epoch [601/5000]: 100%|██████████| 10/10 [00:00<00:00, 323.70it/s, loss=0.856]\n"
     ]
    },
    {
     "name": "stdout",
     "output_type": "stream",
     "text": [
      "Epoch [601/5000]: Train loss: 0.9116, Valid loss: 0.8484\n"
     ]
    },
    {
     "name": "stderr",
     "output_type": "stream",
     "text": [
      "Epoch [602/5000]: 100%|██████████| 10/10 [00:00<00:00, 279.93it/s, loss=0.792]\n",
      "Epoch [603/5000]: 100%|██████████| 10/10 [00:00<00:00, 323.70it/s, loss=0.866]\n",
      "Epoch [604/5000]: 100%|██████████| 10/10 [00:00<00:00, 358.31it/s, loss=1.15]\n",
      "Epoch [605/5000]: 100%|██████████| 10/10 [00:00<00:00, 338.09it/s, loss=0.844]\n",
      "Epoch [606/5000]: 100%|██████████| 10/10 [00:00<00:00, 323.82it/s, loss=1.04]\n",
      "Epoch [607/5000]: 100%|██████████| 10/10 [00:00<00:00, 333.81it/s, loss=0.648]\n",
      "Epoch [608/5000]: 100%|██████████| 10/10 [00:00<00:00, 326.66it/s, loss=1.22]\n",
      "Epoch [609/5000]: 100%|██████████| 10/10 [00:00<00:00, 313.50it/s, loss=0.963]\n",
      "Epoch [610/5000]: 100%|██████████| 10/10 [00:00<00:00, 280.13it/s, loss=0.992]\n",
      "Epoch [611/5000]: 100%|██████████| 10/10 [00:00<00:00, 313.58it/s, loss=0.971]\n",
      "Epoch [612/5000]: 100%|██████████| 10/10 [00:00<00:00, 313.63it/s, loss=0.81]\n",
      "Epoch [613/5000]: 100%|██████████| 10/10 [00:00<00:00, 297.11it/s, loss=1.06]\n",
      "Epoch [614/5000]: 100%|██████████| 10/10 [00:00<00:00, 345.81it/s, loss=0.72]\n",
      "Epoch [615/5000]: 100%|██████████| 10/10 [00:00<00:00, 322.41it/s, loss=0.918]\n",
      "Epoch [616/5000]: 100%|██████████| 10/10 [00:00<00:00, 281.08it/s, loss=1.02]\n",
      "Epoch [617/5000]: 100%|██████████| 10/10 [00:00<00:00, 323.83it/s, loss=0.944]\n",
      "Epoch [618/5000]: 100%|██████████| 10/10 [00:00<00:00, 322.64it/s, loss=0.988]\n",
      "Epoch [619/5000]: 100%|██████████| 10/10 [00:00<00:00, 323.78it/s, loss=0.782]\n",
      "Epoch [620/5000]: 100%|██████████| 10/10 [00:00<00:00, 334.46it/s, loss=1.04]\n",
      "Epoch [621/5000]: 100%|██████████| 10/10 [00:00<00:00, 348.94it/s, loss=0.939]\n",
      "Epoch [622/5000]: 100%|██████████| 10/10 [00:00<00:00, 313.58it/s, loss=0.866]\n",
      "Epoch [623/5000]: 100%|██████████| 10/10 [00:00<00:00, 334.49it/s, loss=0.808]\n",
      "Epoch [624/5000]: 100%|██████████| 10/10 [00:00<00:00, 272.94it/s, loss=0.856]\n",
      "Epoch [625/5000]: 100%|██████████| 10/10 [00:00<00:00, 278.68it/s, loss=0.751]\n",
      "Epoch [626/5000]: 100%|██████████| 10/10 [00:00<00:00, 267.27it/s, loss=0.893]\n",
      "Epoch [627/5000]: 100%|██████████| 10/10 [00:00<00:00, 263.48it/s, loss=0.948]\n",
      "Epoch [628/5000]: 100%|██████████| 10/10 [00:00<00:00, 286.70it/s, loss=0.724]\n",
      "Epoch [629/5000]: 100%|██████████| 10/10 [00:00<00:00, 281.12it/s, loss=1]\n",
      "Epoch [630/5000]: 100%|██████████| 10/10 [00:00<00:00, 295.30it/s, loss=1.01]\n",
      "Epoch [631/5000]: 100%|██████████| 10/10 [00:00<00:00, 333.56it/s, loss=0.877]\n",
      "Epoch [632/5000]: 100%|██████████| 10/10 [00:00<00:00, 285.88it/s, loss=0.916]\n",
      "Epoch [633/5000]: 100%|██████████| 10/10 [00:00<00:00, 323.52it/s, loss=0.888]\n",
      "Epoch [634/5000]: 100%|██████████| 10/10 [00:00<00:00, 315.83it/s, loss=0.935]\n",
      "Epoch [635/5000]: 100%|██████████| 10/10 [00:00<00:00, 271.28it/s, loss=1.05]\n",
      "Epoch [636/5000]: 100%|██████████| 10/10 [00:00<00:00, 285.68it/s, loss=0.765]\n",
      "Epoch [637/5000]: 100%|██████████| 10/10 [00:00<00:00, 273.47it/s, loss=0.854]\n"
     ]
    },
    {
     "name": "stdout",
     "output_type": "stream",
     "text": [
      "Saving model with loss 0.814...\n"
     ]
    },
    {
     "name": "stderr",
     "output_type": "stream",
     "text": [
      "Epoch [638/5000]: 100%|██████████| 10/10 [00:00<00:00, 278.71it/s, loss=1.17]\n",
      "Epoch [639/5000]: 100%|██████████| 10/10 [00:00<00:00, 305.67it/s, loss=0.731]\n",
      "Epoch [640/5000]: 100%|██████████| 10/10 [00:00<00:00, 304.36it/s, loss=0.818]\n",
      "Epoch [641/5000]: 100%|██████████| 10/10 [00:00<00:00, 303.19it/s, loss=0.901]\n",
      "Epoch [642/5000]: 100%|██████████| 10/10 [00:00<00:00, 327.02it/s, loss=0.869]\n",
      "Epoch [643/5000]: 100%|██████████| 10/10 [00:00<00:00, 323.67it/s, loss=0.865]\n",
      "Epoch [644/5000]: 100%|██████████| 10/10 [00:00<00:00, 280.44it/s, loss=1.21]\n",
      "Epoch [645/5000]: 100%|██████████| 10/10 [00:00<00:00, 334.35it/s, loss=1.13]\n",
      "Epoch [646/5000]: 100%|██████████| 10/10 [00:00<00:00, 323.41it/s, loss=0.884]\n",
      "Epoch [647/5000]: 100%|██████████| 10/10 [00:00<00:00, 279.64it/s, loss=1.06]\n",
      "Epoch [648/5000]: 100%|██████████| 10/10 [00:00<00:00, 334.52it/s, loss=0.578]\n",
      "Epoch [649/5000]: 100%|██████████| 10/10 [00:00<00:00, 323.67it/s, loss=1.17]\n",
      "Epoch [650/5000]: 100%|██████████| 10/10 [00:00<00:00, 273.39it/s, loss=0.92]\n",
      "Epoch [651/5000]: 100%|██████████| 10/10 [00:00<00:00, 313.43it/s, loss=0.74]\n",
      "Epoch [652/5000]: 100%|██████████| 10/10 [00:00<00:00, 312.53it/s, loss=1.09]\n",
      "Epoch [653/5000]: 100%|██████████| 10/10 [00:00<00:00, 304.07it/s, loss=0.998]\n",
      "Epoch [654/5000]: 100%|██████████| 10/10 [00:00<00:00, 295.10it/s, loss=0.979]\n",
      "Epoch [655/5000]: 100%|██████████| 10/10 [00:00<00:00, 272.79it/s, loss=0.846]\n",
      "Epoch [656/5000]: 100%|██████████| 10/10 [00:00<00:00, 334.46it/s, loss=0.739]\n",
      "Epoch [657/5000]: 100%|██████████| 10/10 [00:00<00:00, 322.43it/s, loss=0.913]\n",
      "Epoch [658/5000]: 100%|██████████| 10/10 [00:00<00:00, 327.04it/s, loss=0.725]\n",
      "Epoch [659/5000]: 100%|██████████| 10/10 [00:00<00:00, 328.36it/s, loss=0.703]\n",
      "Epoch [660/5000]: 100%|██████████| 10/10 [00:00<00:00, 333.51it/s, loss=0.821]\n",
      "Epoch [661/5000]: 100%|██████████| 10/10 [00:00<00:00, 345.96it/s, loss=0.848]\n",
      "Epoch [662/5000]: 100%|██████████| 10/10 [00:00<00:00, 300.75it/s, loss=1.07]\n",
      "Epoch [663/5000]: 100%|██████████| 10/10 [00:00<00:00, 272.55it/s, loss=0.731]\n",
      "Epoch [664/5000]: 100%|██████████| 10/10 [00:00<00:00, 323.72it/s, loss=0.942]\n",
      "Epoch [665/5000]: 100%|██████████| 10/10 [00:00<00:00, 304.02it/s, loss=0.808]\n",
      "Epoch [666/5000]: 100%|██████████| 10/10 [00:00<00:00, 266.20it/s, loss=1.09]\n",
      "Epoch [667/5000]: 100%|██████████| 10/10 [00:00<00:00, 278.73it/s, loss=0.821]\n",
      "Epoch [668/5000]: 100%|██████████| 10/10 [00:00<00:00, 305.99it/s, loss=1.31]\n",
      "Epoch [669/5000]: 100%|██████████| 10/10 [00:00<00:00, 278.90it/s, loss=0.728]\n",
      "Epoch [670/5000]: 100%|██████████| 10/10 [00:00<00:00, 323.80it/s, loss=0.809]\n",
      "Epoch [671/5000]: 100%|██████████| 10/10 [00:00<00:00, 305.63it/s, loss=0.785]\n",
      "Epoch [672/5000]: 100%|██████████| 10/10 [00:00<00:00, 295.07it/s, loss=1.24]\n",
      "Epoch [673/5000]: 100%|██████████| 10/10 [00:00<00:00, 357.28it/s, loss=1.11]\n",
      "Epoch [674/5000]: 100%|██████████| 10/10 [00:00<00:00, 327.07it/s, loss=0.719]\n",
      "Epoch [675/5000]: 100%|██████████| 10/10 [00:00<00:00, 323.66it/s, loss=0.604]\n",
      "Epoch [676/5000]: 100%|██████████| 10/10 [00:00<00:00, 333.40it/s, loss=0.777]\n",
      "Epoch [677/5000]: 100%|██████████| 10/10 [00:00<00:00, 346.08it/s, loss=0.865]\n",
      "Epoch [678/5000]: 100%|██████████| 10/10 [00:00<00:00, 286.66it/s, loss=0.936]\n",
      "Epoch [679/5000]: 100%|██████████| 10/10 [00:00<00:00, 322.72it/s, loss=0.947]\n",
      "Epoch [680/5000]: 100%|██████████| 10/10 [00:00<00:00, 327.06it/s, loss=1.03]\n",
      "Epoch [681/5000]: 100%|██████████| 10/10 [00:00<00:00, 287.38it/s, loss=0.854]\n",
      "Epoch [682/5000]: 100%|██████████| 10/10 [00:00<00:00, 325.28it/s, loss=1.15]\n",
      "Epoch [683/5000]: 100%|██████████| 10/10 [00:00<00:00, 313.52it/s, loss=1.05]\n",
      "Epoch [684/5000]: 100%|██████████| 10/10 [00:00<00:00, 286.77it/s, loss=1.03]\n",
      "Epoch [685/5000]: 100%|██████████| 10/10 [00:00<00:00, 296.97it/s, loss=0.989]\n",
      "Epoch [686/5000]: 100%|██████████| 10/10 [00:00<00:00, 334.11it/s, loss=0.826]\n",
      "Epoch [687/5000]: 100%|██████████| 10/10 [00:00<00:00, 322.72it/s, loss=0.837]\n",
      "Epoch [688/5000]: 100%|██████████| 10/10 [00:00<00:00, 362.50it/s, loss=0.71]\n",
      "Epoch [689/5000]: 100%|██████████| 10/10 [00:00<00:00, 286.55it/s, loss=0.991]\n",
      "Epoch [690/5000]: 100%|██████████| 10/10 [00:00<00:00, 312.59it/s, loss=0.758]\n",
      "Epoch [691/5000]: 100%|██████████| 10/10 [00:00<00:00, 334.50it/s, loss=0.629]\n",
      "Epoch [692/5000]: 100%|██████████| 10/10 [00:00<00:00, 295.03it/s, loss=1.12]\n",
      "Epoch [693/5000]: 100%|██████████| 10/10 [00:00<00:00, 306.10it/s, loss=0.698]\n",
      "Epoch [694/5000]: 100%|██████████| 10/10 [00:00<00:00, 334.46it/s, loss=1.02]\n",
      "Epoch [695/5000]: 100%|██████████| 10/10 [00:00<00:00, 304.15it/s, loss=0.937]\n",
      "Epoch [696/5000]: 100%|██████████| 10/10 [00:00<00:00, 316.75it/s, loss=0.704]\n",
      "Epoch [697/5000]: 100%|██████████| 10/10 [00:00<00:00, 323.66it/s, loss=1.08]\n",
      "Epoch [698/5000]: 100%|██████████| 10/10 [00:00<00:00, 294.27it/s, loss=0.696]\n",
      "Epoch [699/5000]: 100%|██████████| 10/10 [00:00<00:00, 326.96it/s, loss=0.69]\n",
      "Epoch [700/5000]: 100%|██████████| 10/10 [00:00<00:00, 334.40it/s, loss=1.12]\n",
      "Epoch [701/5000]: 100%|██████████| 10/10 [00:00<00:00, 289.35it/s, loss=0.813]\n"
     ]
    },
    {
     "name": "stdout",
     "output_type": "stream",
     "text": [
      "Epoch [701/5000]: Train loss: 0.9017, Valid loss: 0.8904\n"
     ]
    },
    {
     "name": "stderr",
     "output_type": "stream",
     "text": [
      "Epoch [702/5000]: 100%|██████████| 10/10 [00:00<00:00, 313.51it/s, loss=0.936]\n",
      "Epoch [703/5000]: 100%|██████████| 10/10 [00:00<00:00, 304.05it/s, loss=0.755]\n",
      "Epoch [704/5000]: 100%|██████████| 10/10 [00:00<00:00, 280.48it/s, loss=0.68]\n",
      "Epoch [705/5000]: 100%|██████████| 10/10 [00:00<00:00, 313.49it/s, loss=1.05]\n",
      "Epoch [706/5000]: 100%|██████████| 10/10 [00:00<00:00, 294.31it/s, loss=0.665]\n",
      "Epoch [707/5000]: 100%|██████████| 10/10 [00:00<00:00, 297.86it/s, loss=0.732]\n",
      "Epoch [708/5000]: 100%|██████████| 10/10 [00:00<00:00, 313.58it/s, loss=0.609]\n",
      "Epoch [709/5000]: 100%|██████████| 10/10 [00:00<00:00, 316.48it/s, loss=0.87]\n",
      "Epoch [710/5000]: 100%|██████████| 10/10 [00:00<00:00, 323.52it/s, loss=0.999]\n",
      "Epoch [711/5000]: 100%|██████████| 10/10 [00:00<00:00, 286.73it/s, loss=0.918]\n",
      "Epoch [712/5000]: 100%|██████████| 10/10 [00:00<00:00, 297.91it/s, loss=1.06]\n",
      "Epoch [713/5000]: 100%|██████████| 10/10 [00:00<00:00, 303.97it/s, loss=0.893]\n",
      "Epoch [714/5000]: 100%|██████████| 10/10 [00:00<00:00, 280.52it/s, loss=0.924]\n",
      "Epoch [715/5000]: 100%|██████████| 10/10 [00:00<00:00, 271.15it/s, loss=1.21]\n",
      "Epoch [716/5000]: 100%|██████████| 10/10 [00:00<00:00, 304.08it/s, loss=0.768]\n",
      "Epoch [717/5000]: 100%|██████████| 10/10 [00:00<00:00, 281.10it/s, loss=0.907]\n",
      "Epoch [718/5000]: 100%|██████████| 10/10 [00:00<00:00, 323.68it/s, loss=1.02]\n",
      "Epoch [719/5000]: 100%|██████████| 10/10 [00:00<00:00, 333.40it/s, loss=1.02]\n",
      "Epoch [720/5000]: 100%|██████████| 10/10 [00:00<00:00, 345.71it/s, loss=0.866]\n",
      "Epoch [721/5000]: 100%|██████████| 10/10 [00:00<00:00, 323.53it/s, loss=0.831]\n",
      "Epoch [722/5000]: 100%|██████████| 10/10 [00:00<00:00, 315.70it/s, loss=0.777]\n",
      "Epoch [723/5000]: 100%|██████████| 10/10 [00:00<00:00, 313.48it/s, loss=1.05]\n",
      "Epoch [724/5000]: 100%|██████████| 10/10 [00:00<00:00, 237.67it/s, loss=1.34]\n",
      "Epoch [725/5000]: 100%|██████████| 10/10 [00:00<00:00, 229.86it/s, loss=0.955]\n",
      "Epoch [726/5000]: 100%|██████████| 10/10 [00:00<00:00, 313.49it/s, loss=0.833]\n",
      "Epoch [727/5000]: 100%|██████████| 10/10 [00:00<00:00, 296.60it/s, loss=0.981]\n",
      "Epoch [728/5000]: 100%|██████████| 10/10 [00:00<00:00, 295.10it/s, loss=0.643]\n",
      "Epoch [729/5000]: 100%|██████████| 10/10 [00:00<00:00, 303.26it/s, loss=0.757]\n",
      "Epoch [730/5000]: 100%|██████████| 10/10 [00:00<00:00, 297.80it/s, loss=0.858]\n",
      "Epoch [731/5000]: 100%|██████████| 10/10 [00:00<00:00, 323.63it/s, loss=1.13]\n",
      "Epoch [732/5000]: 100%|██████████| 10/10 [00:00<00:00, 338.15it/s, loss=0.91]\n",
      "Epoch [733/5000]: 100%|██████████| 10/10 [00:00<00:00, 303.99it/s, loss=0.818]\n",
      "Epoch [734/5000]: 100%|██████████| 10/10 [00:00<00:00, 334.52it/s, loss=0.744]\n",
      "Epoch [735/5000]: 100%|██████████| 10/10 [00:00<00:00, 337.01it/s, loss=0.918]\n",
      "Epoch [736/5000]: 100%|██████████| 10/10 [00:00<00:00, 304.00it/s, loss=0.892]\n",
      "Epoch [737/5000]: 100%|██████████| 10/10 [00:00<00:00, 346.03it/s, loss=0.786]\n",
      "Epoch [738/5000]: 100%|██████████| 10/10 [00:00<00:00, 315.74it/s, loss=1.08]\n",
      "Epoch [739/5000]: 100%|██████████| 10/10 [00:00<00:00, 286.68it/s, loss=0.977]\n",
      "Epoch [740/5000]: 100%|██████████| 10/10 [00:00<00:00, 345.11it/s, loss=0.894]\n",
      "Epoch [741/5000]: 100%|██████████| 10/10 [00:00<00:00, 316.69it/s, loss=0.645]\n",
      "Epoch [742/5000]: 100%|██████████| 10/10 [00:00<00:00, 295.27it/s, loss=0.689]\n",
      "Epoch [743/5000]: 100%|██████████| 10/10 [00:00<00:00, 344.90it/s, loss=1.22]\n",
      "Epoch [744/5000]: 100%|██████████| 10/10 [00:00<00:00, 334.32it/s, loss=0.799]\n",
      "Epoch [745/5000]: 100%|██████████| 10/10 [00:00<00:00, 279.36it/s, loss=1.08]\n",
      "Epoch [746/5000]: 100%|██████████| 10/10 [00:00<00:00, 328.74it/s, loss=0.893]\n",
      "Epoch [747/5000]: 100%|██████████| 10/10 [00:00<00:00, 302.71it/s, loss=1.03]\n",
      "Epoch [748/5000]: 100%|██████████| 10/10 [00:00<00:00, 303.99it/s, loss=0.876]\n",
      "Epoch [749/5000]: 100%|██████████| 10/10 [00:00<00:00, 291.34it/s, loss=0.799]\n",
      "Epoch [750/5000]: 100%|██████████| 10/10 [00:00<00:00, 294.26it/s, loss=1.04]\n",
      "Epoch [751/5000]: 100%|██████████| 10/10 [00:00<00:00, 324.98it/s, loss=0.884]\n",
      "Epoch [752/5000]: 100%|██████████| 10/10 [00:00<00:00, 323.64it/s, loss=0.737]\n",
      "Epoch [753/5000]: 100%|██████████| 10/10 [00:00<00:00, 323.69it/s, loss=0.995]\n",
      "Epoch [754/5000]: 100%|██████████| 10/10 [00:00<00:00, 335.87it/s, loss=0.973]\n",
      "Epoch [755/5000]: 100%|██████████| 10/10 [00:00<00:00, 323.73it/s, loss=0.962]\n",
      "Epoch [756/5000]: 100%|██████████| 10/10 [00:00<00:00, 285.64it/s, loss=0.899]\n",
      "Epoch [757/5000]: 100%|██████████| 10/10 [00:00<00:00, 337.19it/s, loss=1.07]\n",
      "Epoch [758/5000]: 100%|██████████| 10/10 [00:00<00:00, 345.94it/s, loss=0.565]\n",
      "Epoch [759/5000]: 100%|██████████| 10/10 [00:00<00:00, 277.64it/s, loss=0.797]\n",
      "Epoch [760/5000]: 100%|██████████| 10/10 [00:00<00:00, 278.64it/s, loss=0.88]\n",
      "Epoch [761/5000]: 100%|██████████| 10/10 [00:00<00:00, 278.61it/s, loss=0.905]\n",
      "Epoch [762/5000]: 100%|██████████| 10/10 [00:00<00:00, 280.65it/s, loss=0.814]\n",
      "Epoch [763/5000]: 100%|██████████| 10/10 [00:00<00:00, 278.63it/s, loss=1.08]\n",
      "Epoch [764/5000]: 100%|██████████| 10/10 [00:00<00:00, 71.29it/s, loss=0.912]\n",
      "Epoch [765/5000]: 100%|██████████| 10/10 [00:00<00:00, 303.84it/s, loss=1.2]\n",
      "Epoch [766/5000]: 100%|██████████| 10/10 [00:00<00:00, 304.20it/s, loss=0.89]\n",
      "Epoch [767/5000]: 100%|██████████| 10/10 [00:00<00:00, 281.93it/s, loss=0.829]\n",
      "Epoch [768/5000]: 100%|██████████| 10/10 [00:00<00:00, 271.18it/s, loss=0.836]\n",
      "Epoch [769/5000]: 100%|██████████| 10/10 [00:00<00:00, 325.59it/s, loss=0.947]\n",
      "Epoch [770/5000]: 100%|██████████| 10/10 [00:00<00:00, 278.92it/s, loss=1.2]\n",
      "Epoch [771/5000]: 100%|██████████| 10/10 [00:00<00:00, 334.45it/s, loss=0.714]\n",
      "Epoch [772/5000]: 100%|██████████| 10/10 [00:00<00:00, 297.76it/s, loss=0.755]\n",
      "Epoch [773/5000]: 100%|██████████| 10/10 [00:00<00:00, 263.96it/s, loss=1.46]\n",
      "Epoch [774/5000]: 100%|██████████| 10/10 [00:00<00:00, 327.05it/s, loss=0.799]\n",
      "Epoch [775/5000]: 100%|██████████| 10/10 [00:00<00:00, 334.29it/s, loss=0.679]\n",
      "Epoch [776/5000]: 100%|██████████| 10/10 [00:00<00:00, 346.08it/s, loss=0.628]\n",
      "Epoch [777/5000]: 100%|██████████| 10/10 [00:00<00:00, 336.85it/s, loss=0.68]\n",
      "Epoch [778/5000]: 100%|██████████| 10/10 [00:00<00:00, 313.35it/s, loss=0.867]\n",
      "Epoch [779/5000]: 100%|██████████| 10/10 [00:00<00:00, 334.85it/s, loss=0.85]\n",
      "Epoch [780/5000]: 100%|██████████| 10/10 [00:00<00:00, 336.98it/s, loss=0.867]\n",
      "Epoch [781/5000]: 100%|██████████| 10/10 [00:00<00:00, 303.93it/s, loss=0.699]\n",
      "Epoch [782/5000]: 100%|██████████| 10/10 [00:00<00:00, 334.31it/s, loss=1.09]\n",
      "Epoch [783/5000]: 100%|██████████| 10/10 [00:00<00:00, 336.74it/s, loss=0.893]\n",
      "Epoch [784/5000]: 100%|██████████| 10/10 [00:00<00:00, 278.72it/s, loss=0.815]\n",
      "Epoch [785/5000]: 100%|██████████| 10/10 [00:00<00:00, 341.76it/s, loss=0.854]\n",
      "Epoch [786/5000]: 100%|██████████| 10/10 [00:00<00:00, 326.90it/s, loss=0.821]\n",
      "Epoch [787/5000]: 100%|██████████| 10/10 [00:00<00:00, 278.71it/s, loss=0.954]\n",
      "Epoch [788/5000]: 100%|██████████| 10/10 [00:00<00:00, 333.32it/s, loss=0.941]\n",
      "Epoch [789/5000]: 100%|██████████| 10/10 [00:00<00:00, 345.81it/s, loss=0.518]\n",
      "Epoch [790/5000]: 100%|██████████| 10/10 [00:00<00:00, 294.97it/s, loss=0.738]\n",
      "Epoch [791/5000]: 100%|██████████| 10/10 [00:00<00:00, 348.52it/s, loss=1.01]\n",
      "Epoch [792/5000]: 100%|██████████| 10/10 [00:00<00:00, 323.80it/s, loss=0.842]\n",
      "Epoch [793/5000]: 100%|██████████| 10/10 [00:00<00:00, 278.48it/s, loss=0.831]\n",
      "Epoch [794/5000]: 100%|██████████| 10/10 [00:00<00:00, 336.64it/s, loss=0.669]\n",
      "Epoch [795/5000]: 100%|██████████| 10/10 [00:00<00:00, 334.48it/s, loss=0.863]\n",
      "Epoch [796/5000]: 100%|██████████| 10/10 [00:00<00:00, 277.88it/s, loss=0.64]\n",
      "Epoch [797/5000]: 100%|██████████| 10/10 [00:00<00:00, 316.43it/s, loss=0.927]\n",
      "Epoch [798/5000]: 100%|██████████| 10/10 [00:00<00:00, 346.15it/s, loss=0.689]\n",
      "Epoch [799/5000]: 100%|██████████| 10/10 [00:00<00:00, 294.14it/s, loss=0.768]\n",
      "Epoch [800/5000]: 100%|██████████| 10/10 [00:00<00:00, 334.49it/s, loss=0.64]\n",
      "Epoch [801/5000]: 100%|██████████| 10/10 [00:00<00:00, 323.66it/s, loss=0.882]\n"
     ]
    },
    {
     "name": "stdout",
     "output_type": "stream",
     "text": [
      "Epoch [801/5000]: Train loss: 0.8923, Valid loss: 0.8612\n"
     ]
    },
    {
     "name": "stderr",
     "output_type": "stream",
     "text": [
      "Epoch [802/5000]: 100%|██████████| 10/10 [00:00<00:00, 297.06it/s, loss=0.714]\n",
      "Epoch [803/5000]: 100%|██████████| 10/10 [00:00<00:00, 334.74it/s, loss=0.805]\n",
      "Epoch [804/5000]: 100%|██████████| 10/10 [00:00<00:00, 346.23it/s, loss=1.23]\n",
      "Epoch [805/5000]: 100%|██████████| 10/10 [00:00<00:00, 297.03it/s, loss=1.07]\n",
      "Epoch [806/5000]: 100%|██████████| 10/10 [00:00<00:00, 345.90it/s, loss=1.22]\n",
      "Epoch [807/5000]: 100%|██████████| 10/10 [00:00<00:00, 371.41it/s, loss=0.834]\n",
      "Epoch [808/5000]: 100%|██████████| 10/10 [00:00<00:00, 306.92it/s, loss=1.16]\n",
      "Epoch [809/5000]: 100%|██████████| 10/10 [00:00<00:00, 358.37it/s, loss=0.815]\n",
      "Epoch [810/5000]: 100%|██████████| 10/10 [00:00<00:00, 302.97it/s, loss=0.894]\n",
      "Epoch [811/5000]: 100%|██████████| 10/10 [00:00<00:00, 306.63it/s, loss=1.17]\n",
      "Epoch [812/5000]: 100%|██████████| 10/10 [00:00<00:00, 250.01it/s, loss=0.763]\n",
      "Epoch [813/5000]: 100%|██████████| 10/10 [00:00<00:00, 252.19it/s, loss=0.86]\n",
      "Epoch [814/5000]: 100%|██████████| 10/10 [00:00<00:00, 313.54it/s, loss=0.863]\n",
      "Epoch [815/5000]: 100%|██████████| 10/10 [00:00<00:00, 344.25it/s, loss=0.737]\n",
      "Epoch [816/5000]: 100%|██████████| 10/10 [00:00<00:00, 306.49it/s, loss=0.942]\n",
      "Epoch [817/5000]: 100%|██████████| 10/10 [00:00<00:00, 334.47it/s, loss=0.772]\n",
      "Epoch [818/5000]: 100%|██████████| 10/10 [00:00<00:00, 333.44it/s, loss=0.821]\n",
      "Epoch [819/5000]: 100%|██████████| 10/10 [00:00<00:00, 302.78it/s, loss=1.02]\n",
      "Epoch [820/5000]: 100%|██████████| 10/10 [00:00<00:00, 346.05it/s, loss=0.896]\n",
      "Epoch [821/5000]: 100%|██████████| 10/10 [00:00<00:00, 272.56it/s, loss=0.708]\n",
      "Epoch [822/5000]: 100%|██████████| 10/10 [00:00<00:00, 295.43it/s, loss=0.842]\n",
      "Epoch [823/5000]: 100%|██████████| 10/10 [00:00<00:00, 256.59it/s, loss=0.73]\n",
      "Epoch [824/5000]: 100%|██████████| 10/10 [00:00<00:00, 281.11it/s, loss=0.782]\n",
      "Epoch [825/5000]: 100%|██████████| 10/10 [00:00<00:00, 250.78it/s, loss=0.975]\n",
      "Epoch [826/5000]: 100%|██████████| 10/10 [00:00<00:00, 272.69it/s, loss=1.11]\n",
      "Epoch [827/5000]: 100%|██████████| 10/10 [00:00<00:00, 323.67it/s, loss=1.22]\n",
      "Epoch [828/5000]: 100%|██████████| 10/10 [00:00<00:00, 357.54it/s, loss=0.697]\n",
      "Epoch [829/5000]: 100%|██████████| 10/10 [00:00<00:00, 266.34it/s, loss=1.05]\n",
      "Epoch [830/5000]: 100%|██████████| 10/10 [00:00<00:00, 304.04it/s, loss=0.999]\n",
      "Epoch [831/5000]: 100%|██████████| 10/10 [00:00<00:00, 326.10it/s, loss=0.816]\n",
      "Epoch [832/5000]: 100%|██████████| 10/10 [00:00<00:00, 295.14it/s, loss=0.708]\n"
     ]
    },
    {
     "name": "stdout",
     "output_type": "stream",
     "text": [
      "Saving model with loss 0.811...\n"
     ]
    },
    {
     "name": "stderr",
     "output_type": "stream",
     "text": [
      "Epoch [833/5000]: 100%|██████████| 10/10 [00:00<00:00, 334.40it/s, loss=1.06]\n",
      "Epoch [834/5000]: 100%|██████████| 10/10 [00:00<00:00, 348.78it/s, loss=1.08]\n",
      "Epoch [835/5000]: 100%|██████████| 10/10 [00:00<00:00, 295.05it/s, loss=0.958]\n",
      "Epoch [836/5000]: 100%|██████████| 10/10 [00:00<00:00, 358.33it/s, loss=1.04]\n",
      "Epoch [837/5000]: 100%|██████████| 10/10 [00:00<00:00, 281.08it/s, loss=0.813]\n",
      "Epoch [838/5000]: 100%|██████████| 10/10 [00:00<00:00, 278.69it/s, loss=0.606]\n",
      "Epoch [839/5000]: 100%|██████████| 10/10 [00:00<00:00, 272.83it/s, loss=0.904]\n",
      "Epoch [840/5000]: 100%|██████████| 10/10 [00:00<00:00, 334.30it/s, loss=1.01]\n",
      "Epoch [841/5000]: 100%|██████████| 10/10 [00:00<00:00, 346.28it/s, loss=0.841]\n",
      "Epoch [842/5000]: 100%|██████████| 10/10 [00:00<00:00, 336.88it/s, loss=1.19]\n",
      "Epoch [843/5000]: 100%|██████████| 10/10 [00:00<00:00, 333.47it/s, loss=0.92]\n",
      "Epoch [844/5000]: 100%|██████████| 10/10 [00:00<00:00, 315.61it/s, loss=0.952]\n",
      "Epoch [845/5000]: 100%|██████████| 10/10 [00:00<00:00, 266.17it/s, loss=1.02]\n",
      "Epoch [846/5000]: 100%|██████████| 10/10 [00:00<00:00, 323.66it/s, loss=0.846]\n",
      "Epoch [847/5000]: 100%|██████████| 10/10 [00:00<00:00, 344.88it/s, loss=1.01]\n",
      "Epoch [848/5000]: 100%|██████████| 10/10 [00:00<00:00, 285.92it/s, loss=1.18]\n",
      "Epoch [849/5000]: 100%|██████████| 10/10 [00:00<00:00, 334.38it/s, loss=0.551]\n",
      "Epoch [850/5000]: 100%|██████████| 10/10 [00:00<00:00, 336.97it/s, loss=0.838]\n",
      "Epoch [851/5000]: 100%|██████████| 10/10 [00:00<00:00, 84.45it/s, loss=0.938]\n",
      "Epoch [852/5000]: 100%|██████████| 10/10 [00:00<00:00, 304.07it/s, loss=1.09]\n",
      "Epoch [853/5000]: 100%|██████████| 10/10 [00:00<00:00, 345.02it/s, loss=0.79]\n",
      "Epoch [854/5000]: 100%|██████████| 10/10 [00:00<00:00, 334.50it/s, loss=1.25]\n",
      "Epoch [855/5000]: 100%|██████████| 10/10 [00:00<00:00, 286.68it/s, loss=0.863]\n",
      "Epoch [856/5000]: 100%|██████████| 10/10 [00:00<00:00, 316.23it/s, loss=0.726]\n",
      "Epoch [857/5000]: 100%|██████████| 10/10 [00:00<00:00, 346.04it/s, loss=1.15]\n",
      "Epoch [858/5000]: 100%|██████████| 10/10 [00:00<00:00, 295.20it/s, loss=1.21]\n",
      "Epoch [859/5000]: 100%|██████████| 10/10 [00:00<00:00, 327.04it/s, loss=0.928]\n",
      "Epoch [860/5000]: 100%|██████████| 10/10 [00:00<00:00, 334.60it/s, loss=0.874]\n",
      "Epoch [861/5000]: 100%|██████████| 10/10 [00:00<00:00, 277.96it/s, loss=0.909]\n",
      "Epoch [862/5000]: 100%|██████████| 10/10 [00:00<00:00, 349.75it/s, loss=0.909]\n",
      "Epoch [863/5000]: 100%|██████████| 10/10 [00:00<00:00, 323.76it/s, loss=0.826]\n",
      "Epoch [864/5000]: 100%|██████████| 10/10 [00:00<00:00, 312.59it/s, loss=0.837]\n",
      "Epoch [865/5000]: 100%|██████████| 10/10 [00:00<00:00, 345.87it/s, loss=1.05]\n",
      "Epoch [866/5000]: 100%|██████████| 10/10 [00:00<00:00, 334.35it/s, loss=0.867]\n",
      "Epoch [867/5000]: 100%|██████████| 10/10 [00:00<00:00, 288.62it/s, loss=0.741]\n",
      "Epoch [868/5000]: 100%|██████████| 10/10 [00:00<00:00, 313.53it/s, loss=0.787]\n",
      "Epoch [869/5000]: 100%|██████████| 10/10 [00:00<00:00, 334.44it/s, loss=0.877]\n",
      "Epoch [870/5000]: 100%|██████████| 10/10 [00:00<00:00, 296.90it/s, loss=0.793]\n",
      "Epoch [871/5000]: 100%|██████████| 10/10 [00:00<00:00, 345.83it/s, loss=1.08]\n",
      "Epoch [872/5000]: 100%|██████████| 10/10 [00:00<00:00, 334.36it/s, loss=0.797]\n",
      "Epoch [873/5000]: 100%|██████████| 10/10 [00:00<00:00, 326.65it/s, loss=1.04]\n",
      "Epoch [874/5000]: 100%|██████████| 10/10 [00:00<00:00, 358.39it/s, loss=0.703]\n",
      "Epoch [875/5000]: 100%|██████████| 10/10 [00:00<00:00, 345.98it/s, loss=0.848]\n",
      "Epoch [876/5000]: 100%|██████████| 10/10 [00:00<00:00, 306.91it/s, loss=0.972]\n",
      "Epoch [877/5000]: 100%|██████████| 10/10 [00:00<00:00, 334.41it/s, loss=1.31]\n",
      "Epoch [878/5000]: 100%|██████████| 10/10 [00:00<00:00, 333.52it/s, loss=0.665]\n",
      "Epoch [879/5000]: 100%|██████████| 10/10 [00:00<00:00, 289.03it/s, loss=0.81]\n",
      "Epoch [880/5000]: 100%|██████████| 10/10 [00:00<00:00, 334.47it/s, loss=0.932]\n",
      "Epoch [881/5000]: 100%|██████████| 10/10 [00:00<00:00, 357.42it/s, loss=0.845]\n",
      "Epoch [882/5000]: 100%|██████████| 10/10 [00:00<00:00, 334.53it/s, loss=1.02]\n",
      "Epoch [883/5000]: 100%|██████████| 10/10 [00:00<00:00, 334.31it/s, loss=0.563]\n",
      "Epoch [884/5000]: 100%|██████████| 10/10 [00:00<00:00, 336.93it/s, loss=1.02]\n",
      "Epoch [885/5000]: 100%|██████████| 10/10 [00:00<00:00, 335.05it/s, loss=0.705]\n",
      "Epoch [886/5000]: 100%|██████████| 10/10 [00:00<00:00, 345.96it/s, loss=0.811]\n",
      "Epoch [887/5000]: 100%|██████████| 10/10 [00:00<00:00, 336.80it/s, loss=1.31]\n",
      "Epoch [888/5000]: 100%|██████████| 10/10 [00:00<00:00, 295.16it/s, loss=1.25]\n",
      "Epoch [889/5000]: 100%|██████████| 10/10 [00:00<00:00, 346.06it/s, loss=0.714]\n",
      "Epoch [890/5000]: 100%|██████████| 10/10 [00:00<00:00, 348.64it/s, loss=0.881]\n",
      "Epoch [891/5000]: 100%|██████████| 10/10 [00:00<00:00, 304.05it/s, loss=0.802]\n",
      "Epoch [892/5000]: 100%|██████████| 10/10 [00:00<00:00, 333.48it/s, loss=1.02]\n",
      "Epoch [893/5000]: 100%|██████████| 10/10 [00:00<00:00, 349.25it/s, loss=1.07]\n",
      "Epoch [894/5000]: 100%|██████████| 10/10 [00:00<00:00, 295.10it/s, loss=1.08]\n",
      "Epoch [895/5000]: 100%|██████████| 10/10 [00:00<00:00, 344.75it/s, loss=1.05]\n",
      "Epoch [896/5000]: 100%|██████████| 10/10 [00:00<00:00, 343.97it/s, loss=0.899]\n",
      "Epoch [897/5000]: 100%|██████████| 10/10 [00:00<00:00, 313.64it/s, loss=0.732]\n",
      "Epoch [898/5000]: 100%|██████████| 10/10 [00:00<00:00, 345.12it/s, loss=0.948]\n"
     ]
    },
    {
     "name": "stdout",
     "output_type": "stream",
     "text": [
      "Saving model with loss 0.811...\n"
     ]
    },
    {
     "name": "stderr",
     "output_type": "stream",
     "text": [
      "Epoch [899/5000]: 100%|██████████| 10/10 [00:00<00:00, 323.67it/s, loss=0.945]\n",
      "Epoch [900/5000]: 100%|██████████| 10/10 [00:00<00:00, 313.59it/s, loss=0.957]\n",
      "Epoch [901/5000]: 100%|██████████| 10/10 [00:00<00:00, 348.64it/s, loss=0.967]\n"
     ]
    },
    {
     "name": "stdout",
     "output_type": "stream",
     "text": [
      "Epoch [901/5000]: Train loss: 0.8964, Valid loss: 0.8583\n"
     ]
    },
    {
     "name": "stderr",
     "output_type": "stream",
     "text": [
      "Epoch [902/5000]: 100%|██████████| 10/10 [00:00<00:00, 334.43it/s, loss=1.14]\n",
      "Epoch [903/5000]: 100%|██████████| 10/10 [00:00<00:00, 323.72it/s, loss=0.821]\n",
      "Epoch [904/5000]: 100%|██████████| 10/10 [00:00<00:00, 361.27it/s, loss=0.736]\n",
      "Epoch [905/5000]: 100%|██████████| 10/10 [00:00<00:00, 345.96it/s, loss=1.06]\n",
      "Epoch [906/5000]: 100%|██████████| 10/10 [00:00<00:00, 304.06it/s, loss=1.3]\n",
      "Epoch [907/5000]: 100%|██████████| 10/10 [00:00<00:00, 315.79it/s, loss=0.892]\n",
      "Epoch [908/5000]: 100%|██████████| 10/10 [00:00<00:00, 313.51it/s, loss=1.08]\n",
      "Epoch [909/5000]: 100%|██████████| 10/10 [00:00<00:00, 277.99it/s, loss=0.852]\n",
      "Epoch [910/5000]: 100%|██████████| 10/10 [00:00<00:00, 295.03it/s, loss=0.822]\n",
      "Epoch [911/5000]: 100%|██████████| 10/10 [00:00<00:00, 286.65it/s, loss=1.1]\n",
      "Epoch [912/5000]: 100%|██████████| 10/10 [00:00<00:00, 280.15it/s, loss=0.86]\n",
      "Epoch [913/5000]: 100%|██████████| 10/10 [00:00<00:00, 304.04it/s, loss=1.34]\n",
      "Epoch [914/5000]: 100%|██████████| 10/10 [00:00<00:00, 345.04it/s, loss=0.893]\n",
      "Epoch [915/5000]: 100%|██████████| 10/10 [00:00<00:00, 297.72it/s, loss=1.06]\n",
      "Epoch [916/5000]: 100%|██████████| 10/10 [00:00<00:00, 345.96it/s, loss=1.03]\n",
      "Epoch [917/5000]: 100%|██████████| 10/10 [00:00<00:00, 322.62it/s, loss=0.981]\n",
      "Epoch [918/5000]: 100%|██████████| 10/10 [00:00<00:00, 304.01it/s, loss=1.14]\n",
      "Epoch [919/5000]: 100%|██████████| 10/10 [00:00<00:00, 346.02it/s, loss=1.27]\n",
      "Epoch [920/5000]: 100%|██████████| 10/10 [00:00<00:00, 336.68it/s, loss=1.35]\n",
      "Epoch [921/5000]: 100%|██████████| 10/10 [00:00<00:00, 304.08it/s, loss=0.76]\n",
      "Epoch [922/5000]: 100%|██████████| 10/10 [00:00<00:00, 313.59it/s, loss=0.682]\n",
      "Epoch [923/5000]: 100%|██████████| 10/10 [00:00<00:00, 337.14it/s, loss=1.06]\n",
      "Epoch [924/5000]: 100%|██████████| 10/10 [00:00<00:00, 295.03it/s, loss=1.12]\n",
      "Epoch [925/5000]: 100%|██████████| 10/10 [00:00<00:00, 209.85it/s, loss=0.853]\n",
      "Epoch [926/5000]: 100%|██████████| 10/10 [00:00<00:00, 345.95it/s, loss=0.729]\n",
      "Epoch [927/5000]: 100%|██████████| 10/10 [00:00<00:00, 346.02it/s, loss=1.12]\n",
      "Epoch [928/5000]: 100%|██████████| 10/10 [00:00<00:00, 335.92it/s, loss=0.903]\n",
      "Epoch [929/5000]: 100%|██████████| 10/10 [00:00<00:00, 313.53it/s, loss=0.827]\n",
      "Epoch [930/5000]: 100%|██████████| 10/10 [00:00<00:00, 334.45it/s, loss=0.691]\n",
      "Epoch [931/5000]: 100%|██████████| 10/10 [00:00<00:00, 335.73it/s, loss=1.14]\n",
      "Epoch [932/5000]: 100%|██████████| 10/10 [00:00<00:00, 303.99it/s, loss=1]\n",
      "Epoch [933/5000]: 100%|██████████| 10/10 [00:00<00:00, 323.87it/s, loss=0.854]\n",
      "Epoch [934/5000]: 100%|██████████| 10/10 [00:00<00:00, 326.27it/s, loss=0.955]\n",
      "Epoch [935/5000]: 100%|██████████| 10/10 [00:00<00:00, 313.64it/s, loss=0.932]\n",
      "Epoch [936/5000]: 100%|██████████| 10/10 [00:00<00:00, 322.25it/s, loss=1.34]\n",
      "Epoch [937/5000]: 100%|██████████| 10/10 [00:00<00:00, 337.32it/s, loss=0.885]\n",
      "Epoch [938/5000]: 100%|██████████| 10/10 [00:00<00:00, 304.10it/s, loss=0.817]\n",
      "Epoch [939/5000]: 100%|██████████| 10/10 [00:00<00:00, 346.07it/s, loss=0.596]\n",
      "Epoch [940/5000]: 100%|██████████| 10/10 [00:00<00:00, 315.70it/s, loss=0.775]\n",
      "Epoch [941/5000]: 100%|██████████| 10/10 [00:00<00:00, 264.10it/s, loss=1.39]\n",
      "Epoch [942/5000]: 100%|██████████| 10/10 [00:00<00:00, 312.47it/s, loss=0.918]\n",
      "Epoch [943/5000]: 100%|██████████| 10/10 [00:00<00:00, 313.55it/s, loss=1.03]\n",
      "Epoch [944/5000]: 100%|██████████| 10/10 [00:00<00:00, 286.51it/s, loss=0.551]\n",
      "Epoch [945/5000]: 100%|██████████| 10/10 [00:00<00:00, 258.17it/s, loss=0.848]\n",
      "Epoch [946/5000]: 100%|██████████| 10/10 [00:00<00:00, 271.38it/s, loss=0.602]\n",
      "Epoch [947/5000]: 100%|██████████| 10/10 [00:00<00:00, 280.38it/s, loss=1.25]\n",
      "Epoch [948/5000]: 100%|██████████| 10/10 [00:00<00:00, 271.24it/s, loss=1.37]\n",
      "Epoch [949/5000]: 100%|██████████| 10/10 [00:00<00:00, 244.21it/s, loss=1.18]\n",
      "Epoch [950/5000]: 100%|██████████| 10/10 [00:00<00:00, 306.74it/s, loss=0.632]\n",
      "Epoch [951/5000]: 100%|██████████| 10/10 [00:00<00:00, 334.62it/s, loss=1.03]\n",
      "Epoch [952/5000]: 100%|██████████| 10/10 [00:00<00:00, 297.07it/s, loss=0.822]\n",
      "Epoch [953/5000]: 100%|██████████| 10/10 [00:00<00:00, 323.27it/s, loss=0.844]\n",
      "Epoch [954/5000]: 100%|██████████| 10/10 [00:00<00:00, 323.97it/s, loss=0.649]\n",
      "Epoch [955/5000]: 100%|██████████| 10/10 [00:00<00:00, 305.77it/s, loss=1.06]\n",
      "Epoch [956/5000]: 100%|██████████| 10/10 [00:00<00:00, 323.73it/s, loss=0.891]\n",
      "Epoch [957/5000]: 100%|██████████| 10/10 [00:00<00:00, 312.77it/s, loss=1.11]\n",
      "Epoch [958/5000]: 100%|██████████| 10/10 [00:00<00:00, 280.94it/s, loss=1.55]\n"
     ]
    },
    {
     "name": "stdout",
     "output_type": "stream",
     "text": [
      "Saving model with loss 0.784...\n"
     ]
    },
    {
     "name": "stderr",
     "output_type": "stream",
     "text": [
      "Epoch [959/5000]: 100%|██████████| 10/10 [00:00<00:00, 304.01it/s, loss=0.725]\n",
      "Epoch [960/5000]: 100%|██████████| 10/10 [00:00<00:00, 288.42it/s, loss=0.73]\n",
      "Epoch [961/5000]: 100%|██████████| 10/10 [00:00<00:00, 270.96it/s, loss=0.863]\n",
      "Epoch [962/5000]: 100%|██████████| 10/10 [00:00<00:00, 294.51it/s, loss=0.958]\n",
      "Epoch [963/5000]: 100%|██████████| 10/10 [00:00<00:00, 316.48it/s, loss=0.868]\n",
      "Epoch [964/5000]: 100%|██████████| 10/10 [00:00<00:00, 334.50it/s, loss=0.794]\n",
      "Epoch [965/5000]: 100%|██████████| 10/10 [00:00<00:00, 280.41it/s, loss=0.905]\n",
      "Epoch [966/5000]: 100%|██████████| 10/10 [00:00<00:00, 295.18it/s, loss=0.801]\n",
      "Epoch [967/5000]: 100%|██████████| 10/10 [00:00<00:00, 291.60it/s, loss=0.742]\n",
      "Epoch [968/5000]: 100%|██████████| 10/10 [00:00<00:00, 252.40it/s, loss=0.956]\n",
      "Epoch [969/5000]: 100%|██████████| 10/10 [00:00<00:00, 294.76it/s, loss=0.631]\n",
      "Epoch [970/5000]: 100%|██████████| 10/10 [00:00<00:00, 347.13it/s, loss=0.981]\n",
      "Epoch [971/5000]: 100%|██████████| 10/10 [00:00<00:00, 358.38it/s, loss=0.935]\n",
      "Epoch [972/5000]: 100%|██████████| 10/10 [00:00<00:00, 323.99it/s, loss=0.693]\n",
      "Epoch [973/5000]: 100%|██████████| 10/10 [00:00<00:00, 336.73it/s, loss=0.905]\n",
      "Epoch [974/5000]: 100%|██████████| 10/10 [00:00<00:00, 303.97it/s, loss=1.2]\n",
      "Epoch [975/5000]: 100%|██████████| 10/10 [00:00<00:00, 313.04it/s, loss=0.876]\n",
      "Epoch [976/5000]: 100%|██████████| 10/10 [00:00<00:00, 327.08it/s, loss=0.887]\n",
      "Epoch [977/5000]: 100%|██████████| 10/10 [00:00<00:00, 323.71it/s, loss=0.655]\n",
      "Epoch [978/5000]: 100%|██████████| 10/10 [00:00<00:00, 344.77it/s, loss=1.13]\n",
      "Epoch [979/5000]: 100%|██████████| 10/10 [00:00<00:00, 306.86it/s, loss=0.925]\n",
      "Epoch [980/5000]: 100%|██████████| 10/10 [00:00<00:00, 323.99it/s, loss=0.889]\n",
      "Epoch [981/5000]: 100%|██████████| 10/10 [00:00<00:00, 338.06it/s, loss=0.709]\n",
      "Epoch [982/5000]: 100%|██████████| 10/10 [00:00<00:00, 295.16it/s, loss=0.731]\n",
      "Epoch [983/5000]: 100%|██████████| 10/10 [00:00<00:00, 323.77it/s, loss=1.07]\n",
      "Epoch [984/5000]: 100%|██████████| 10/10 [00:00<00:00, 325.90it/s, loss=0.888]\n",
      "Epoch [985/5000]: 100%|██████████| 10/10 [00:00<00:00, 295.09it/s, loss=0.662]\n",
      "Epoch [986/5000]: 100%|██████████| 10/10 [00:00<00:00, 323.78it/s, loss=0.967]\n",
      "Epoch [987/5000]: 100%|██████████| 10/10 [00:00<00:00, 326.96it/s, loss=0.881]\n",
      "Epoch [988/5000]: 100%|██████████| 10/10 [00:00<00:00, 295.31it/s, loss=1]\n",
      "Epoch [989/5000]: 100%|██████████| 10/10 [00:00<00:00, 322.70it/s, loss=0.989]\n",
      "Epoch [990/5000]: 100%|██████████| 10/10 [00:00<00:00, 326.99it/s, loss=0.951]\n",
      "Epoch [991/5000]: 100%|██████████| 10/10 [00:00<00:00, 304.11it/s, loss=0.995]\n",
      "Epoch [992/5000]: 100%|██████████| 10/10 [00:00<00:00, 305.97it/s, loss=0.684]\n"
     ]
    },
    {
     "name": "stdout",
     "output_type": "stream",
     "text": [
      "Saving model with loss 0.775...\n"
     ]
    },
    {
     "name": "stderr",
     "output_type": "stream",
     "text": [
      "Epoch [993/5000]: 100%|██████████| 10/10 [00:00<00:00, 323.60it/s, loss=0.728]\n",
      "Epoch [994/5000]: 100%|██████████| 10/10 [00:00<00:00, 271.23it/s, loss=1.52]\n",
      "Epoch [995/5000]: 100%|██████████| 10/10 [00:00<00:00, 281.09it/s, loss=1.06]\n",
      "Epoch [996/5000]: 100%|██████████| 10/10 [00:00<00:00, 278.70it/s, loss=1.15]\n",
      "Epoch [997/5000]: 100%|██████████| 10/10 [00:00<00:00, 280.42it/s, loss=1.12]\n",
      "Epoch [998/5000]: 100%|██████████| 10/10 [00:00<00:00, 278.60it/s, loss=0.991]\n",
      "Epoch [999/5000]: 100%|██████████| 10/10 [00:00<00:00, 285.98it/s, loss=0.95]\n",
      "Epoch [1000/5000]: 100%|██████████| 10/10 [00:00<00:00, 281.19it/s, loss=0.735]\n",
      "Epoch [1001/5000]: 100%|██████████| 10/10 [00:00<00:00, 295.11it/s, loss=1.15]\n"
     ]
    },
    {
     "name": "stdout",
     "output_type": "stream",
     "text": [
      "Epoch [1001/5000]: Train loss: 0.9413, Valid loss: 0.8132\n"
     ]
    },
    {
     "name": "stderr",
     "output_type": "stream",
     "text": [
      "Epoch [1002/5000]: 100%|██████████| 10/10 [00:00<00:00, 348.73it/s, loss=0.729]\n",
      "Epoch [1003/5000]: 100%|██████████| 10/10 [00:00<00:00, 304.01it/s, loss=1.09]\n",
      "Epoch [1004/5000]: 100%|██████████| 10/10 [00:00<00:00, 313.56it/s, loss=0.788]\n",
      "Epoch [1005/5000]: 100%|██████████| 10/10 [00:00<00:00, 326.89it/s, loss=0.819]\n",
      "Epoch [1006/5000]: 100%|██████████| 10/10 [00:00<00:00, 238.90it/s, loss=0.539]\n",
      "Epoch [1007/5000]: 100%|██████████| 10/10 [00:00<00:00, 305.93it/s, loss=0.872]\n",
      "Epoch [1008/5000]: 100%|██████████| 10/10 [00:00<00:00, 313.57it/s, loss=1.03]\n",
      "Epoch [1009/5000]: 100%|██████████| 10/10 [00:00<00:00, 323.48it/s, loss=0.64]\n",
      "Epoch [1010/5000]: 100%|██████████| 10/10 [00:00<00:00, 315.38it/s, loss=1.07]\n",
      "Epoch [1011/5000]: 100%|██████████| 10/10 [00:00<00:00, 264.03it/s, loss=0.933]\n",
      "Epoch [1012/5000]: 100%|██████████| 10/10 [00:00<00:00, 322.74it/s, loss=1.04]\n",
      "Epoch [1013/5000]: 100%|██████████| 10/10 [00:00<00:00, 306.94it/s, loss=0.819]\n",
      "Epoch [1014/5000]: 100%|██████████| 10/10 [00:00<00:00, 334.29it/s, loss=0.784]\n",
      "Epoch [1015/5000]: 100%|██████████| 10/10 [00:00<00:00, 326.92it/s, loss=0.974]\n",
      "Epoch [1016/5000]: 100%|██████████| 10/10 [00:00<00:00, 271.16it/s, loss=0.951]\n",
      "Epoch [1017/5000]: 100%|██████████| 10/10 [00:00<00:00, 323.58it/s, loss=0.847]\n",
      "Epoch [1018/5000]: 100%|██████████| 10/10 [00:00<00:00, 326.01it/s, loss=0.828]\n",
      "Epoch [1019/5000]: 100%|██████████| 10/10 [00:00<00:00, 295.13it/s, loss=0.863]\n",
      "Epoch [1020/5000]: 100%|██████████| 10/10 [00:00<00:00, 312.92it/s, loss=0.818]\n",
      "Epoch [1021/5000]: 100%|██████████| 10/10 [00:00<00:00, 326.92it/s, loss=0.823]\n",
      "Epoch [1022/5000]: 100%|██████████| 10/10 [00:00<00:00, 295.12it/s, loss=0.708]\n",
      "Epoch [1023/5000]: 100%|██████████| 10/10 [00:00<00:00, 333.91it/s, loss=0.804]\n",
      "Epoch [1024/5000]: 100%|██████████| 10/10 [00:00<00:00, 323.66it/s, loss=0.987]\n",
      "Epoch [1025/5000]: 100%|██████████| 10/10 [00:00<00:00, 264.46it/s, loss=1.01]\n",
      "Epoch [1026/5000]: 100%|██████████| 10/10 [00:00<00:00, 78.15it/s, loss=0.76]\n",
      "Epoch [1027/5000]: 100%|██████████| 10/10 [00:00<00:00, 346.16it/s, loss=0.87]\n",
      "Epoch [1028/5000]: 100%|██████████| 10/10 [00:00<00:00, 285.96it/s, loss=0.944]\n",
      "Epoch [1029/5000]: 100%|██████████| 10/10 [00:00<00:00, 327.04it/s, loss=0.899]\n",
      "Epoch [1030/5000]: 100%|██████████| 10/10 [00:00<00:00, 323.68it/s, loss=0.951]\n",
      "Epoch [1031/5000]: 100%|██████████| 10/10 [00:00<00:00, 285.82it/s, loss=0.843]\n",
      "Epoch [1032/5000]: 100%|██████████| 10/10 [00:00<00:00, 313.51it/s, loss=0.867]\n",
      "Epoch [1033/5000]: 100%|██████████| 10/10 [00:00<00:00, 346.12it/s, loss=0.994]\n",
      "Epoch [1034/5000]: 100%|██████████| 10/10 [00:00<00:00, 265.58it/s, loss=0.679]\n",
      "Epoch [1035/5000]: 100%|██████████| 10/10 [00:00<00:00, 304.03it/s, loss=0.669]\n",
      "Epoch [1036/5000]: 100%|██████████| 10/10 [00:00<00:00, 278.09it/s, loss=0.759]\n",
      "Epoch [1037/5000]: 100%|██████████| 10/10 [00:00<00:00, 337.62it/s, loss=0.971]\n",
      "Epoch [1038/5000]: 100%|██████████| 10/10 [00:00<00:00, 334.59it/s, loss=0.796]\n",
      "Epoch [1039/5000]: 100%|██████████| 10/10 [00:00<00:00, 285.84it/s, loss=0.839]\n",
      "Epoch [1040/5000]: 100%|██████████| 10/10 [00:00<00:00, 346.07it/s, loss=1.03]\n",
      "Epoch [1041/5000]: 100%|██████████| 10/10 [00:00<00:00, 323.75it/s, loss=0.628]\n",
      "Epoch [1042/5000]: 100%|██████████| 10/10 [00:00<00:00, 288.21it/s, loss=0.947]\n",
      "Epoch [1043/5000]: 100%|██████████| 10/10 [00:00<00:00, 334.34it/s, loss=1.05]\n",
      "Epoch [1044/5000]: 100%|██████████| 10/10 [00:00<00:00, 358.29it/s, loss=0.646]\n",
      "Epoch [1045/5000]: 100%|██████████| 10/10 [00:00<00:00, 305.96it/s, loss=0.727]\n",
      "Epoch [1046/5000]: 100%|██████████| 10/10 [00:00<00:00, 334.50it/s, loss=0.608]\n",
      "Epoch [1047/5000]: 100%|██████████| 10/10 [00:00<00:00, 345.96it/s, loss=0.892]\n",
      "Epoch [1048/5000]: 100%|██████████| 10/10 [00:00<00:00, 307.00it/s, loss=0.643]\n",
      "Epoch [1049/5000]: 100%|██████████| 10/10 [00:00<00:00, 333.52it/s, loss=0.676]\n",
      "Epoch [1050/5000]: 100%|██████████| 10/10 [00:00<00:00, 322.85it/s, loss=0.727]\n",
      "Epoch [1051/5000]: 100%|██████████| 10/10 [00:00<00:00, 281.29it/s, loss=0.855]\n",
      "Epoch [1052/5000]: 100%|██████████| 10/10 [00:00<00:00, 323.57it/s, loss=0.918]\n",
      "Epoch [1053/5000]: 100%|██████████| 10/10 [00:00<00:00, 338.06it/s, loss=0.787]\n",
      "Epoch [1054/5000]: 100%|██████████| 10/10 [00:00<00:00, 286.62it/s, loss=0.659]\n",
      "Epoch [1055/5000]: 100%|██████████| 10/10 [00:00<00:00, 334.58it/s, loss=0.929]\n",
      "Epoch [1056/5000]: 100%|██████████| 10/10 [00:00<00:00, 336.72it/s, loss=0.84]\n",
      "Epoch [1057/5000]: 100%|██████████| 10/10 [00:00<00:00, 286.99it/s, loss=0.99]\n",
      "Epoch [1058/5000]: 100%|██████████| 10/10 [00:00<00:00, 303.12it/s, loss=0.89]\n",
      "Epoch [1059/5000]: 100%|██████████| 10/10 [00:00<00:00, 316.72it/s, loss=0.84]\n",
      "Epoch [1060/5000]: 100%|██████████| 10/10 [00:00<00:00, 286.70it/s, loss=1.11]\n",
      "Epoch [1061/5000]: 100%|██████████| 10/10 [00:00<00:00, 322.75it/s, loss=0.767]\n",
      "Epoch [1062/5000]: 100%|██████████| 10/10 [00:00<00:00, 334.46it/s, loss=0.689]\n",
      "Epoch [1063/5000]: 100%|██████████| 10/10 [00:00<00:00, 295.11it/s, loss=1.08]\n",
      "Epoch [1064/5000]: 100%|██████████| 10/10 [00:00<00:00, 326.28it/s, loss=0.727]\n",
      "Epoch [1065/5000]: 100%|██████████| 10/10 [00:00<00:00, 329.48it/s, loss=0.886]\n",
      "Epoch [1066/5000]: 100%|██████████| 10/10 [00:00<00:00, 295.01it/s, loss=0.82]\n",
      "Epoch [1067/5000]: 100%|██████████| 10/10 [00:00<00:00, 337.84it/s, loss=0.855]\n",
      "Epoch [1068/5000]: 100%|██████████| 10/10 [00:00<00:00, 334.42it/s, loss=1.07]\n",
      "Epoch [1069/5000]: 100%|██████████| 10/10 [00:00<00:00, 312.43it/s, loss=0.841]\n",
      "Epoch [1070/5000]: 100%|██████████| 10/10 [00:00<00:00, 326.90it/s, loss=0.789]\n",
      "Epoch [1071/5000]: 100%|██████████| 10/10 [00:00<00:00, 313.59it/s, loss=0.939]\n",
      "Epoch [1072/5000]: 100%|██████████| 10/10 [00:00<00:00, 306.88it/s, loss=0.997]\n",
      "Epoch [1073/5000]: 100%|██████████| 10/10 [00:00<00:00, 323.65it/s, loss=0.734]\n",
      "Epoch [1074/5000]: 100%|██████████| 10/10 [00:00<00:00, 286.62it/s, loss=1.01]\n",
      "Epoch [1075/5000]: 100%|██████████| 10/10 [00:00<00:00, 336.94it/s, loss=1]\n",
      "Epoch [1076/5000]: 100%|██████████| 10/10 [00:00<00:00, 313.64it/s, loss=1.04]\n",
      "Epoch [1077/5000]: 100%|██████████| 10/10 [00:00<00:00, 312.05it/s, loss=1.04]\n",
      "Epoch [1078/5000]: 100%|██████████| 10/10 [00:00<00:00, 316.71it/s, loss=0.806]\n",
      "Epoch [1079/5000]: 100%|██████████| 10/10 [00:00<00:00, 346.03it/s, loss=1.04]\n",
      "Epoch [1080/5000]: 100%|██████████| 10/10 [00:00<00:00, 302.99it/s, loss=1]\n",
      "Epoch [1081/5000]: 100%|██████████| 10/10 [00:00<00:00, 312.74it/s, loss=0.793]\n",
      "Epoch [1082/5000]: 100%|██████████| 10/10 [00:00<00:00, 304.88it/s, loss=0.86]\n",
      "Epoch [1083/5000]: 100%|██████████| 10/10 [00:00<00:00, 288.52it/s, loss=0.813]\n",
      "Epoch [1084/5000]: 100%|██████████| 10/10 [00:00<00:00, 334.64it/s, loss=0.723]\n",
      "Epoch [1085/5000]: 100%|██████████| 10/10 [00:00<00:00, 358.40it/s, loss=0.763]\n",
      "Epoch [1086/5000]: 100%|██████████| 10/10 [00:00<00:00, 280.73it/s, loss=0.973]\n",
      "Epoch [1087/5000]: 100%|██████████| 10/10 [00:00<00:00, 323.76it/s, loss=1.01]\n",
      "Epoch [1088/5000]: 100%|██████████| 10/10 [00:00<00:00, 333.47it/s, loss=0.864]\n",
      "Epoch [1089/5000]: 100%|██████████| 10/10 [00:00<00:00, 281.36it/s, loss=0.895]\n",
      "Epoch [1090/5000]: 100%|██████████| 10/10 [00:00<00:00, 323.73it/s, loss=0.922]\n",
      "Epoch [1091/5000]: 100%|██████████| 10/10 [00:00<00:00, 322.76it/s, loss=1.12]\n",
      "Epoch [1092/5000]: 100%|██████████| 10/10 [00:00<00:00, 286.78it/s, loss=0.765]\n",
      "Epoch [1093/5000]: 100%|██████████| 10/10 [00:00<00:00, 323.63it/s, loss=0.813]\n",
      "Epoch [1094/5000]: 100%|██████████| 10/10 [00:00<00:00, 336.79it/s, loss=0.93]\n",
      "Epoch [1095/5000]: 100%|██████████| 10/10 [00:00<00:00, 278.88it/s, loss=1.1]\n",
      "Epoch [1096/5000]: 100%|██████████| 10/10 [00:00<00:00, 358.25it/s, loss=0.669]\n",
      "Epoch [1097/5000]: 100%|██████████| 10/10 [00:00<00:00, 297.79it/s, loss=0.873]\n",
      "Epoch [1098/5000]: 100%|██████████| 10/10 [00:00<00:00, 304.18it/s, loss=0.792]\n",
      "Epoch [1099/5000]: 100%|██████████| 10/10 [00:00<00:00, 344.42it/s, loss=1.14]\n",
      "Epoch [1100/5000]: 100%|██████████| 10/10 [00:00<00:00, 327.02it/s, loss=0.922]\n",
      "Epoch [1101/5000]: 100%|██████████| 10/10 [00:00<00:00, 295.05it/s, loss=0.93]\n"
     ]
    },
    {
     "name": "stdout",
     "output_type": "stream",
     "text": [
      "Epoch [1101/5000]: Train loss: 0.8905, Valid loss: 0.8122\n"
     ]
    },
    {
     "name": "stderr",
     "output_type": "stream",
     "text": [
      "Epoch [1102/5000]: 100%|██████████| 10/10 [00:00<00:00, 348.42it/s, loss=0.729]\n",
      "Epoch [1103/5000]: 100%|██████████| 10/10 [00:00<00:00, 304.07it/s, loss=0.871]\n",
      "Epoch [1104/5000]: 100%|██████████| 10/10 [00:00<00:00, 304.33it/s, loss=1.3]\n",
      "Epoch [1105/5000]: 100%|██████████| 10/10 [00:00<00:00, 315.75it/s, loss=0.663]\n",
      "Epoch [1106/5000]: 100%|██████████| 10/10 [00:00<00:00, 286.64it/s, loss=0.89]\n",
      "Epoch [1107/5000]: 100%|██████████| 10/10 [00:00<00:00, 344.83it/s, loss=0.792]\n",
      "Epoch [1108/5000]: 100%|██████████| 10/10 [00:00<00:00, 337.69it/s, loss=0.904]\n",
      "Epoch [1109/5000]: 100%|██████████| 10/10 [00:00<00:00, 286.65it/s, loss=0.837]\n",
      "Epoch [1110/5000]: 100%|██████████| 10/10 [00:00<00:00, 333.39it/s, loss=0.724]\n",
      "Epoch [1111/5000]: 100%|██████████| 10/10 [00:00<00:00, 313.53it/s, loss=1.07]\n",
      "Epoch [1112/5000]: 100%|██████████| 10/10 [00:00<00:00, 271.06it/s, loss=0.992]\n",
      "Epoch [1113/5000]: 100%|██████████| 10/10 [00:00<00:00, 67.53it/s, loss=0.705]\n",
      "Epoch [1114/5000]: 100%|██████████| 10/10 [00:00<00:00, 271.36it/s, loss=0.966]\n",
      "Epoch [1115/5000]: 100%|██████████| 10/10 [00:00<00:00, 258.76it/s, loss=0.934]\n",
      "Epoch [1116/5000]: 100%|██████████| 10/10 [00:00<00:00, 286.71it/s, loss=0.748]\n",
      "Epoch [1117/5000]: 100%|██████████| 10/10 [00:00<00:00, 312.64it/s, loss=0.78]\n",
      "Epoch [1118/5000]: 100%|██████████| 10/10 [00:00<00:00, 306.96it/s, loss=0.74]\n",
      "Epoch [1119/5000]: 100%|██████████| 10/10 [00:00<00:00, 346.05it/s, loss=0.786]\n",
      "Epoch [1120/5000]: 100%|██████████| 10/10 [00:00<00:00, 326.00it/s, loss=1.34]\n",
      "Epoch [1121/5000]: 100%|██████████| 10/10 [00:00<00:00, 271.27it/s, loss=0.534]\n",
      "Epoch [1122/5000]: 100%|██████████| 10/10 [00:00<00:00, 203.67it/s, loss=1.09]\n",
      "Epoch [1123/5000]: 100%|██████████| 10/10 [00:00<00:00, 286.88it/s, loss=0.748]\n",
      "Epoch [1124/5000]: 100%|██████████| 10/10 [00:00<00:00, 313.65it/s, loss=1]\n",
      "Epoch [1125/5000]: 100%|██████████| 10/10 [00:00<00:00, 325.87it/s, loss=0.714]\n",
      "Epoch [1126/5000]: 100%|██████████| 10/10 [00:00<00:00, 257.26it/s, loss=0.974]\n",
      "Epoch [1127/5000]: 100%|██████████| 10/10 [00:00<00:00, 278.02it/s, loss=0.802]\n",
      "Epoch [1128/5000]: 100%|██████████| 10/10 [00:00<00:00, 278.02it/s, loss=0.882]\n",
      "Epoch [1129/5000]: 100%|██████████| 10/10 [00:00<00:00, 323.81it/s, loss=0.939]\n",
      "Epoch [1130/5000]: 100%|██████████| 10/10 [00:00<00:00, 336.56it/s, loss=0.718]\n",
      "Epoch [1131/5000]: 100%|██████████| 10/10 [00:00<00:00, 286.68it/s, loss=0.806]\n",
      "Epoch [1132/5000]: 100%|██████████| 10/10 [00:00<00:00, 323.91it/s, loss=0.911]\n",
      "Epoch [1133/5000]: 100%|██████████| 10/10 [00:00<00:00, 316.18it/s, loss=0.952]\n",
      "Epoch [1134/5000]: 100%|██████████| 10/10 [00:00<00:00, 278.84it/s, loss=0.764]\n",
      "Epoch [1135/5000]: 100%|██████████| 10/10 [00:00<00:00, 322.55it/s, loss=0.829]\n",
      "Epoch [1136/5000]: 100%|██████████| 10/10 [00:00<00:00, 323.45it/s, loss=0.871]\n",
      "Epoch [1137/5000]: 100%|██████████| 10/10 [00:00<00:00, 295.09it/s, loss=1]\n",
      "Epoch [1138/5000]: 100%|██████████| 10/10 [00:00<00:00, 297.11it/s, loss=0.948]\n",
      "Epoch [1139/5000]: 100%|██████████| 10/10 [00:00<00:00, 313.56it/s, loss=0.766]\n",
      "Epoch [1140/5000]: 100%|██████████| 10/10 [00:00<00:00, 286.02it/s, loss=0.683]\n",
      "Epoch [1141/5000]: 100%|██████████| 10/10 [00:00<00:00, 338.22it/s, loss=1.01]\n",
      "Epoch [1142/5000]: 100%|██████████| 10/10 [00:00<00:00, 278.76it/s, loss=0.741]\n",
      "Epoch [1143/5000]: 100%|██████████| 10/10 [00:00<00:00, 322.44it/s, loss=1.14]\n",
      "Epoch [1144/5000]: 100%|██████████| 10/10 [00:00<00:00, 295.11it/s, loss=1.2]\n",
      "Epoch [1145/5000]: 100%|██████████| 10/10 [00:00<00:00, 295.06it/s, loss=0.639]\n",
      "Epoch [1146/5000]: 100%|██████████| 10/10 [00:00<00:00, 305.24it/s, loss=1.07]\n",
      "Epoch [1147/5000]: 100%|██████████| 10/10 [00:00<00:00, 313.53it/s, loss=0.801]\n",
      "Epoch [1148/5000]: 100%|██████████| 10/10 [00:00<00:00, 263.02it/s, loss=0.99]\n",
      "Epoch [1149/5000]: 100%|██████████| 10/10 [00:00<00:00, 326.16it/s, loss=0.902]\n",
      "Epoch [1150/5000]: 100%|██████████| 10/10 [00:00<00:00, 323.64it/s, loss=0.823]\n",
      "Epoch [1151/5000]: 100%|██████████| 10/10 [00:00<00:00, 297.33it/s, loss=1.23]\n",
      "Epoch [1152/5000]: 100%|██████████| 10/10 [00:00<00:00, 323.66it/s, loss=1.02]\n",
      "Epoch [1153/5000]: 100%|██████████| 10/10 [00:00<00:00, 334.51it/s, loss=1.09]\n",
      "Epoch [1154/5000]: 100%|██████████| 10/10 [00:00<00:00, 305.30it/s, loss=1.02]\n",
      "Epoch [1155/5000]: 100%|██████████| 10/10 [00:00<00:00, 334.39it/s, loss=0.763]\n",
      "Epoch [1156/5000]: 100%|██████████| 10/10 [00:00<00:00, 334.50it/s, loss=0.979]\n",
      "Epoch [1157/5000]: 100%|██████████| 10/10 [00:00<00:00, 296.00it/s, loss=0.988]\n",
      "Epoch [1158/5000]: 100%|██████████| 10/10 [00:00<00:00, 313.58it/s, loss=1.04]\n",
      "Epoch [1159/5000]: 100%|██████████| 10/10 [00:00<00:00, 312.32it/s, loss=0.897]\n",
      "Epoch [1160/5000]: 100%|██████████| 10/10 [00:00<00:00, 288.54it/s, loss=1.04]\n",
      "Epoch [1161/5000]: 100%|██████████| 10/10 [00:00<00:00, 287.81it/s, loss=1.17]\n",
      "Epoch [1162/5000]: 100%|██████████| 10/10 [00:00<00:00, 318.04it/s, loss=0.914]\n",
      "Epoch [1163/5000]: 100%|██████████| 10/10 [00:00<00:00, 323.57it/s, loss=0.881]\n",
      "Epoch [1164/5000]: 100%|██████████| 10/10 [00:00<00:00, 323.66it/s, loss=1]\n",
      "Epoch [1165/5000]: 100%|██████████| 10/10 [00:00<00:00, 273.70it/s, loss=0.873]\n",
      "Epoch [1166/5000]: 100%|██████████| 10/10 [00:00<00:00, 313.50it/s, loss=0.95]\n",
      "Epoch [1167/5000]: 100%|██████████| 10/10 [00:00<00:00, 333.03it/s, loss=1.24]\n",
      "Epoch [1168/5000]: 100%|██████████| 10/10 [00:00<00:00, 277.89it/s, loss=0.606]\n",
      "Epoch [1169/5000]: 100%|██████████| 10/10 [00:00<00:00, 313.57it/s, loss=0.853]\n",
      "Epoch [1170/5000]: 100%|██████████| 10/10 [00:00<00:00, 315.58it/s, loss=0.819]\n",
      "Epoch [1171/5000]: 100%|██████████| 10/10 [00:00<00:00, 286.62it/s, loss=0.67]\n",
      "Epoch [1172/5000]: 100%|██████████| 10/10 [00:00<00:00, 323.79it/s, loss=0.895]\n",
      "Epoch [1173/5000]: 100%|██████████| 10/10 [00:00<00:00, 316.60it/s, loss=0.765]\n",
      "Epoch [1174/5000]: 100%|██████████| 10/10 [00:00<00:00, 278.58it/s, loss=0.905]\n",
      "Epoch [1175/5000]: 100%|██████████| 10/10 [00:00<00:00, 294.47it/s, loss=1.06]\n",
      "Epoch [1176/5000]: 100%|██████████| 10/10 [00:00<00:00, 334.40it/s, loss=0.909]\n",
      "Epoch [1177/5000]: 100%|██████████| 10/10 [00:00<00:00, 271.09it/s, loss=0.976]\n",
      "Epoch [1178/5000]: 100%|██████████| 10/10 [00:00<00:00, 348.57it/s, loss=0.931]\n",
      "Epoch [1179/5000]: 100%|██████████| 10/10 [00:00<00:00, 264.05it/s, loss=0.677]\n",
      "Epoch [1180/5000]: 100%|██████████| 10/10 [00:00<00:00, 333.59it/s, loss=0.735]\n",
      "Epoch [1181/5000]: 100%|██████████| 10/10 [00:00<00:00, 326.94it/s, loss=0.827]\n",
      "Epoch [1182/5000]: 100%|██████████| 10/10 [00:00<00:00, 295.07it/s, loss=0.797]\n",
      "Epoch [1183/5000]: 100%|██████████| 10/10 [00:00<00:00, 333.51it/s, loss=0.935]\n",
      "Epoch [1184/5000]: 100%|██████████| 10/10 [00:00<00:00, 345.95it/s, loss=0.877]\n",
      "Epoch [1185/5000]: 100%|██████████| 10/10 [00:00<00:00, 304.11it/s, loss=0.858]\n",
      "Epoch [1186/5000]: 100%|██████████| 10/10 [00:00<00:00, 280.58it/s, loss=1.36]\n",
      "Epoch [1187/5000]: 100%|██████████| 10/10 [00:00<00:00, 264.03it/s, loss=0.752]\n",
      "Epoch [1188/5000]: 100%|██████████| 10/10 [00:00<00:00, 165.38it/s, loss=1.03]\n",
      "Epoch [1189/5000]: 100%|██████████| 10/10 [00:00<00:00, 250.21it/s, loss=0.865]\n",
      "Epoch [1190/5000]: 100%|██████████| 10/10 [00:00<00:00, 265.22it/s, loss=0.695]\n",
      "Epoch [1191/5000]: 100%|██████████| 10/10 [00:00<00:00, 295.29it/s, loss=0.722]\n",
      "Epoch [1192/5000]: 100%|██████████| 10/10 [00:00<00:00, 277.91it/s, loss=1.13]\n",
      "Epoch [1193/5000]: 100%|██████████| 10/10 [00:00<00:00, 252.71it/s, loss=0.771]\n",
      "Epoch [1194/5000]: 100%|██████████| 10/10 [00:00<00:00, 271.26it/s, loss=0.827]\n",
      "Epoch [1195/5000]: 100%|██████████| 10/10 [00:00<00:00, 297.88it/s, loss=0.864]\n",
      "Epoch [1196/5000]: 100%|██████████| 10/10 [00:00<00:00, 323.70it/s, loss=0.902]\n",
      "Epoch [1197/5000]: 100%|██████████| 10/10 [00:00<00:00, 285.87it/s, loss=0.721]\n",
      "Epoch [1198/5000]: 100%|██████████| 10/10 [00:00<00:00, 327.15it/s, loss=0.925]\n",
      "Epoch [1199/5000]: 100%|██████████| 10/10 [00:00<00:00, 323.77it/s, loss=0.807]\n",
      "Epoch [1200/5000]: 100%|██████████| 10/10 [00:00<00:00, 288.65it/s, loss=1]\n",
      "Epoch [1201/5000]: 100%|██████████| 10/10 [00:00<00:00, 80.41it/s, loss=0.946]\n"
     ]
    },
    {
     "name": "stdout",
     "output_type": "stream",
     "text": [
      "Epoch [1201/5000]: Train loss: 0.9020, Valid loss: 0.8732\n"
     ]
    },
    {
     "name": "stderr",
     "output_type": "stream",
     "text": [
      "Epoch [1202/5000]: 100%|██████████| 10/10 [00:00<00:00, 286.60it/s, loss=0.836]\n",
      "Epoch [1203/5000]: 100%|██████████| 10/10 [00:00<00:00, 306.54it/s, loss=1.04]\n",
      "Epoch [1204/5000]: 100%|██████████| 10/10 [00:00<00:00, 313.42it/s, loss=0.929]\n",
      "Epoch [1205/5000]: 100%|██████████| 10/10 [00:00<00:00, 295.05it/s, loss=0.776]\n",
      "Epoch [1206/5000]: 100%|██████████| 10/10 [00:00<00:00, 337.66it/s, loss=0.959]\n",
      "Epoch [1207/5000]: 100%|██████████| 10/10 [00:00<00:00, 345.81it/s, loss=0.906]\n",
      "Epoch [1208/5000]: 100%|██████████| 10/10 [00:00<00:00, 312.51it/s, loss=0.794]\n",
      "Epoch [1209/5000]: 100%|██████████| 10/10 [00:00<00:00, 297.87it/s, loss=0.873]\n",
      "Epoch [1210/5000]: 100%|██████████| 10/10 [00:00<00:00, 304.18it/s, loss=0.633]\n",
      "Epoch [1211/5000]: 100%|██████████| 10/10 [00:00<00:00, 265.50it/s, loss=0.818]\n",
      "Epoch [1212/5000]: 100%|██████████| 10/10 [00:00<00:00, 303.97it/s, loss=0.826]\n",
      "Epoch [1213/5000]: 100%|██████████| 10/10 [00:00<00:00, 295.08it/s, loss=0.777]\n",
      "Epoch [1214/5000]: 100%|██████████| 10/10 [00:00<00:00, 266.35it/s, loss=1.26]\n",
      "Epoch [1215/5000]: 100%|██████████| 10/10 [00:00<00:00, 295.07it/s, loss=0.897]\n",
      "Epoch [1216/5000]: 100%|██████████| 10/10 [00:00<00:00, 280.43it/s, loss=1.58]\n",
      "Epoch [1217/5000]: 100%|██████████| 10/10 [00:00<00:00, 286.73it/s, loss=0.885]\n",
      "Epoch [1218/5000]: 100%|██████████| 10/10 [00:00<00:00, 294.41it/s, loss=0.827]\n",
      "Epoch [1219/5000]: 100%|██████████| 10/10 [00:00<00:00, 273.64it/s, loss=0.76]\n",
      "Epoch [1220/5000]: 100%|██████████| 10/10 [00:00<00:00, 286.68it/s, loss=0.86]\n",
      "Epoch [1221/5000]: 100%|██████████| 10/10 [00:00<00:00, 258.80it/s, loss=1.1]\n",
      "Epoch [1222/5000]: 100%|██████████| 10/10 [00:00<00:00, 323.70it/s, loss=1.01]\n",
      "Epoch [1223/5000]: 100%|██████████| 10/10 [00:00<00:00, 303.25it/s, loss=1.43]\n",
      "Epoch [1224/5000]: 100%|██████████| 10/10 [00:00<00:00, 289.37it/s, loss=0.71]\n",
      "Epoch [1225/5000]: 100%|██████████| 10/10 [00:00<00:00, 313.52it/s, loss=0.85]\n",
      "Epoch [1226/5000]: 100%|██████████| 10/10 [00:00<00:00, 322.84it/s, loss=1.33]\n",
      "Epoch [1227/5000]: 100%|██████████| 10/10 [00:00<00:00, 295.13it/s, loss=0.743]\n",
      "Epoch [1228/5000]: 100%|██████████| 10/10 [00:00<00:00, 346.08it/s, loss=0.712]\n",
      "Epoch [1229/5000]: 100%|██████████| 10/10 [00:00<00:00, 326.10it/s, loss=1.04]\n",
      "Epoch [1230/5000]: 100%|██████████| 10/10 [00:00<00:00, 304.22it/s, loss=1.05]\n",
      "Epoch [1231/5000]: 100%|██████████| 10/10 [00:00<00:00, 334.47it/s, loss=0.725]\n",
      "Epoch [1232/5000]: 100%|██████████| 10/10 [00:00<00:00, 337.01it/s, loss=0.739]\n",
      "Epoch [1233/5000]: 100%|██████████| 10/10 [00:00<00:00, 313.72it/s, loss=0.999]\n",
      "Epoch [1234/5000]: 100%|██████████| 10/10 [00:00<00:00, 345.96it/s, loss=1.29]\n",
      "Epoch [1235/5000]: 100%|██████████| 10/10 [00:00<00:00, 337.92it/s, loss=0.742]\n",
      "Epoch [1236/5000]: 100%|██████████| 10/10 [00:00<00:00, 295.07it/s, loss=0.787]\n",
      "Epoch [1237/5000]: 100%|██████████| 10/10 [00:00<00:00, 344.82it/s, loss=0.866]\n",
      "Epoch [1238/5000]: 100%|██████████| 10/10 [00:00<00:00, 349.36it/s, loss=0.837]\n",
      "Epoch [1239/5000]: 100%|██████████| 10/10 [00:00<00:00, 295.07it/s, loss=0.781]\n",
      "Epoch [1240/5000]: 100%|██████████| 10/10 [00:00<00:00, 322.70it/s, loss=1.02]\n",
      "Epoch [1241/5000]: 100%|██████████| 10/10 [00:00<00:00, 334.52it/s, loss=0.909]\n",
      "Epoch [1242/5000]: 100%|██████████| 10/10 [00:00<00:00, 295.11it/s, loss=0.781]\n",
      "Epoch [1243/5000]: 100%|██████████| 10/10 [00:00<00:00, 336.66it/s, loss=1.04]\n",
      "Epoch [1244/5000]: 100%|██████████| 10/10 [00:00<00:00, 334.53it/s, loss=0.838]\n",
      "Epoch [1245/5000]: 100%|██████████| 10/10 [00:00<00:00, 313.19it/s, loss=1.05]\n",
      "Epoch [1246/5000]: 100%|██████████| 10/10 [00:00<00:00, 336.91it/s, loss=1.28]\n",
      "Epoch [1247/5000]: 100%|██████████| 10/10 [00:00<00:00, 334.29it/s, loss=1.09]\n",
      "Epoch [1248/5000]: 100%|██████████| 10/10 [00:00<00:00, 295.29it/s, loss=0.699]\n",
      "Epoch [1249/5000]: 100%|██████████| 10/10 [00:00<00:00, 326.75it/s, loss=0.715]\n",
      "Epoch [1250/5000]: 100%|██████████| 10/10 [00:00<00:00, 358.41it/s, loss=0.542]\n",
      "Epoch [1251/5000]: 100%|██████████| 10/10 [00:00<00:00, 277.96it/s, loss=1.28]\n",
      "Epoch [1252/5000]: 100%|██████████| 10/10 [00:00<00:00, 326.67it/s, loss=0.865]\n",
      "Epoch [1253/5000]: 100%|██████████| 10/10 [00:00<00:00, 303.92it/s, loss=0.83]\n",
      "Epoch [1254/5000]: 100%|██████████| 10/10 [00:00<00:00, 326.87it/s, loss=0.959]\n",
      "Epoch [1255/5000]: 100%|██████████| 10/10 [00:00<00:00, 345.96it/s, loss=1.16]\n",
      "Epoch [1256/5000]: 100%|██████████| 10/10 [00:00<00:00, 345.91it/s, loss=0.929]\n",
      "Epoch [1257/5000]: 100%|██████████| 10/10 [00:00<00:00, 296.99it/s, loss=1.19]\n",
      "Epoch [1258/5000]: 100%|██████████| 10/10 [00:00<00:00, 345.90it/s, loss=0.673]\n",
      "Epoch [1259/5000]: 100%|██████████| 10/10 [00:00<00:00, 323.71it/s, loss=0.945]\n",
      "Epoch [1260/5000]: 100%|██████████| 10/10 [00:00<00:00, 297.08it/s, loss=0.978]\n",
      "Epoch [1261/5000]: 100%|██████████| 10/10 [00:00<00:00, 323.71it/s, loss=1.06]\n",
      "Epoch [1262/5000]: 100%|██████████| 10/10 [00:00<00:00, 345.93it/s, loss=0.893]\n",
      "Epoch [1263/5000]: 100%|██████████| 10/10 [00:00<00:00, 297.86it/s, loss=0.98]\n",
      "Epoch [1264/5000]: 100%|██████████| 10/10 [00:00<00:00, 358.23it/s, loss=1.07]\n",
      "Epoch [1265/5000]: 100%|██████████| 10/10 [00:00<00:00, 344.96it/s, loss=0.931]\n",
      "Epoch [1266/5000]: 100%|██████████| 10/10 [00:00<00:00, 315.62it/s, loss=0.897]\n",
      "Epoch [1267/5000]: 100%|██████████| 10/10 [00:00<00:00, 345.92it/s, loss=1.06]\n",
      "Epoch [1268/5000]: 100%|██████████| 10/10 [00:00<00:00, 303.20it/s, loss=0.867]\n",
      "Epoch [1269/5000]: 100%|██████████| 10/10 [00:00<00:00, 322.75it/s, loss=0.954]\n",
      "Epoch [1270/5000]: 100%|██████████| 10/10 [00:00<00:00, 334.61it/s, loss=1.02]\n",
      "Epoch [1271/5000]: 100%|██████████| 10/10 [00:00<00:00, 349.73it/s, loss=1.1]\n",
      "Epoch [1272/5000]: 100%|██████████| 10/10 [00:00<00:00, 237.96it/s, loss=0.901]\n",
      "Epoch [1273/5000]: 100%|██████████| 10/10 [00:00<00:00, 285.38it/s, loss=1.05]\n",
      "Epoch [1274/5000]: 100%|██████████| 10/10 [00:00<00:00, 326.89it/s, loss=0.863]\n",
      "Epoch [1275/5000]: 100%|██████████| 10/10 [00:00<00:00, 313.64it/s, loss=0.695]\n",
      "Epoch [1276/5000]: 100%|██████████| 10/10 [00:00<00:00, 345.00it/s, loss=1.14]\n",
      "Epoch [1277/5000]: 100%|██████████| 10/10 [00:00<00:00, 281.21it/s, loss=0.696]\n",
      "Epoch [1278/5000]: 100%|██████████| 10/10 [00:00<00:00, 323.65it/s, loss=0.831]\n",
      "Epoch [1279/5000]: 100%|██████████| 10/10 [00:00<00:00, 336.81it/s, loss=0.883]\n",
      "Epoch [1280/5000]: 100%|██████████| 10/10 [00:00<00:00, 304.24it/s, loss=0.987]\n",
      "Epoch [1281/5000]: 100%|██████████| 10/10 [00:00<00:00, 346.18it/s, loss=1.06]\n",
      "Epoch [1282/5000]: 100%|██████████| 10/10 [00:00<00:00, 348.56it/s, loss=0.903]\n",
      "Epoch [1283/5000]: 100%|██████████| 10/10 [00:00<00:00, 304.25it/s, loss=1.17]\n",
      "Epoch [1284/5000]: 100%|██████████| 10/10 [00:00<00:00, 334.18it/s, loss=1]\n",
      "Epoch [1285/5000]: 100%|██████████| 10/10 [00:00<00:00, 326.80it/s, loss=1.02]\n",
      "Epoch [1286/5000]: 100%|██████████| 10/10 [00:00<00:00, 304.11it/s, loss=0.695]\n",
      "Epoch [1287/5000]: 100%|██████████| 10/10 [00:00<00:00, 345.04it/s, loss=0.764]\n",
      "Epoch [1288/5000]: 100%|██████████| 10/10 [00:00<00:00, 85.41it/s, loss=0.766]\n",
      "Epoch [1289/5000]: 100%|██████████| 10/10 [00:00<00:00, 346.26it/s, loss=1.06]\n",
      "Epoch [1290/5000]: 100%|██████████| 10/10 [00:00<00:00, 304.03it/s, loss=1.15]\n",
      "Epoch [1291/5000]: 100%|██████████| 10/10 [00:00<00:00, 349.88it/s, loss=0.871]\n",
      "Epoch [1292/5000]: 100%|██████████| 10/10 [00:00<00:00, 334.44it/s, loss=0.84]\n",
      "Epoch [1293/5000]: 100%|██████████| 10/10 [00:00<00:00, 334.42it/s, loss=1.05]\n",
      "Epoch [1294/5000]: 100%|██████████| 10/10 [00:00<00:00, 338.06it/s, loss=0.821]\n",
      "Epoch [1295/5000]: 100%|██████████| 10/10 [00:00<00:00, 358.55it/s, loss=0.702]\n",
      "Epoch [1296/5000]: 100%|██████████| 10/10 [00:00<00:00, 294.36it/s, loss=0.863]\n",
      "Epoch [1297/5000]: 100%|██████████| 10/10 [00:00<00:00, 362.30it/s, loss=0.746]\n",
      "Epoch [1298/5000]: 100%|██████████| 10/10 [00:00<00:00, 334.28it/s, loss=0.753]\n",
      "Epoch [1299/5000]: 100%|██████████| 10/10 [00:00<00:00, 303.32it/s, loss=0.91]\n",
      "Epoch [1300/5000]: 100%|██████████| 10/10 [00:00<00:00, 278.04it/s, loss=0.705]\n",
      "Epoch [1301/5000]: 100%|██████████| 10/10 [00:00<00:00, 345.90it/s, loss=0.993]\n"
     ]
    },
    {
     "name": "stdout",
     "output_type": "stream",
     "text": [
      "Epoch [1301/5000]: Train loss: 0.9019, Valid loss: 0.8789\n"
     ]
    },
    {
     "name": "stderr",
     "output_type": "stream",
     "text": [
      "Epoch [1302/5000]: 100%|██████████| 10/10 [00:00<00:00, 326.17it/s, loss=0.994]\n",
      "Epoch [1303/5000]: 100%|██████████| 10/10 [00:00<00:00, 313.63it/s, loss=0.842]\n",
      "Epoch [1304/5000]: 100%|██████████| 10/10 [00:00<00:00, 323.44it/s, loss=1.13]\n",
      "Epoch [1305/5000]: 100%|██████████| 10/10 [00:00<00:00, 337.48it/s, loss=0.826]\n",
      "Epoch [1306/5000]: 100%|██████████| 10/10 [00:00<00:00, 334.35it/s, loss=1.06]\n",
      "Epoch [1307/5000]: 100%|██████████| 10/10 [00:00<00:00, 294.14it/s, loss=0.746]\n",
      "Epoch [1308/5000]: 100%|██████████| 10/10 [00:00<00:00, 349.50it/s, loss=0.863]\n",
      "Epoch [1309/5000]: 100%|██████████| 10/10 [00:00<00:00, 334.52it/s, loss=1.16]\n",
      "Epoch [1310/5000]: 100%|██████████| 10/10 [00:00<00:00, 312.65it/s, loss=0.64]\n",
      "Epoch [1311/5000]: 100%|██████████| 10/10 [00:00<00:00, 333.39it/s, loss=0.725]\n",
      "Epoch [1312/5000]: 100%|██████████| 10/10 [00:00<00:00, 345.84it/s, loss=0.833]\n",
      "Epoch [1313/5000]: 100%|██████████| 10/10 [00:00<00:00, 333.23it/s, loss=1.04]\n",
      "Epoch [1314/5000]: 100%|██████████| 10/10 [00:00<00:00, 323.81it/s, loss=0.861]\n",
      "Epoch [1315/5000]: 100%|██████████| 10/10 [00:00<00:00, 323.33it/s, loss=0.94]\n",
      "Epoch [1316/5000]: 100%|██████████| 10/10 [00:00<00:00, 306.06it/s, loss=1.3]\n",
      "Epoch [1317/5000]: 100%|██████████| 10/10 [00:00<00:00, 345.96it/s, loss=1.01]\n",
      "Epoch [1318/5000]: 100%|██████████| 10/10 [00:00<00:00, 304.04it/s, loss=0.936]\n",
      "Epoch [1319/5000]: 100%|██████████| 10/10 [00:00<00:00, 288.50it/s, loss=0.856]\n",
      "Epoch [1320/5000]: 100%|██████████| 10/10 [00:00<00:00, 304.02it/s, loss=1.16]\n",
      "Epoch [1321/5000]: 100%|██████████| 10/10 [00:00<00:00, 294.61it/s, loss=0.804]\n",
      "Epoch [1322/5000]: 100%|██████████| 10/10 [00:00<00:00, 286.66it/s, loss=1.17]\n",
      "Epoch [1323/5000]: 100%|██████████| 10/10 [00:00<00:00, 286.65it/s, loss=0.912]\n",
      "Epoch [1324/5000]: 100%|██████████| 10/10 [00:00<00:00, 280.50it/s, loss=1.23]\n",
      "Epoch [1325/5000]: 100%|██████████| 10/10 [00:00<00:00, 271.12it/s, loss=0.911]\n",
      "Epoch [1326/5000]: 100%|██████████| 10/10 [00:00<00:00, 312.56it/s, loss=0.505]\n",
      "Epoch [1327/5000]: 100%|██████████| 10/10 [00:00<00:00, 271.22it/s, loss=0.909]\n",
      "Epoch [1328/5000]: 100%|██████████| 10/10 [00:00<00:00, 284.21it/s, loss=0.824]\n",
      "Epoch [1329/5000]: 100%|██████████| 10/10 [00:00<00:00, 337.95it/s, loss=1.04]\n",
      "Epoch [1330/5000]: 100%|██████████| 10/10 [00:00<00:00, 313.62it/s, loss=0.897]\n",
      "Epoch [1331/5000]: 100%|██████████| 10/10 [00:00<00:00, 277.94it/s, loss=0.781]\n",
      "Epoch [1332/5000]: 100%|██████████| 10/10 [00:00<00:00, 338.01it/s, loss=0.947]\n",
      "Epoch [1333/5000]: 100%|██████████| 10/10 [00:00<00:00, 345.75it/s, loss=0.809]\n",
      "Epoch [1334/5000]: 100%|██████████| 10/10 [00:00<00:00, 297.87it/s, loss=0.805]\n",
      "Epoch [1335/5000]: 100%|██████████| 10/10 [00:00<00:00, 313.58it/s, loss=1.03]\n",
      "Epoch [1336/5000]: 100%|██████████| 10/10 [00:00<00:00, 323.68it/s, loss=0.969]\n",
      "Epoch [1337/5000]: 100%|██████████| 10/10 [00:00<00:00, 272.84it/s, loss=1.01]\n",
      "Epoch [1338/5000]: 100%|██████████| 10/10 [00:00<00:00, 278.69it/s, loss=1.09]\n",
      "Epoch [1339/5000]: 100%|██████████| 10/10 [00:00<00:00, 303.51it/s, loss=0.85]\n",
      "Epoch [1340/5000]: 100%|██████████| 10/10 [00:00<00:00, 289.34it/s, loss=0.812]\n",
      "Epoch [1341/5000]: 100%|██████████| 10/10 [00:00<00:00, 271.22it/s, loss=0.685]\n",
      "Epoch [1342/5000]: 100%|██████████| 10/10 [00:00<00:00, 297.00it/s, loss=0.862]\n",
      "Epoch [1343/5000]: 100%|██████████| 10/10 [00:00<00:00, 303.89it/s, loss=0.804]\n",
      "Epoch [1344/5000]: 100%|██████████| 10/10 [00:00<00:00, 303.41it/s, loss=0.934]\n",
      "Epoch [1345/5000]: 100%|██████████| 10/10 [00:00<00:00, 281.26it/s, loss=0.736]\n",
      "Epoch [1346/5000]: 100%|██████████| 10/10 [00:00<00:00, 313.66it/s, loss=0.678]\n",
      "Epoch [1347/5000]: 100%|██████████| 10/10 [00:00<00:00, 315.58it/s, loss=1.08]\n",
      "Epoch [1348/5000]: 100%|██████████| 10/10 [00:00<00:00, 304.27it/s, loss=0.806]\n",
      "Epoch [1349/5000]: 100%|██████████| 10/10 [00:00<00:00, 334.60it/s, loss=1.09]\n",
      "Epoch [1350/5000]: 100%|██████████| 10/10 [00:00<00:00, 336.94it/s, loss=0.78]\n",
      "Epoch [1351/5000]: 100%|██████████| 10/10 [00:00<00:00, 294.95it/s, loss=0.735]\n",
      "Epoch [1352/5000]: 100%|██████████| 10/10 [00:00<00:00, 333.44it/s, loss=1.02]\n",
      "Epoch [1353/5000]: 100%|██████████| 10/10 [00:00<00:00, 337.94it/s, loss=0.644]\n",
      "Epoch [1354/5000]: 100%|██████████| 10/10 [00:00<00:00, 278.37it/s, loss=0.967]\n",
      "Epoch [1355/5000]: 100%|██████████| 10/10 [00:00<00:00, 312.63it/s, loss=0.866]\n",
      "Epoch [1356/5000]: 100%|██████████| 10/10 [00:00<00:00, 313.51it/s, loss=0.801]\n",
      "Epoch [1357/5000]: 100%|██████████| 10/10 [00:00<00:00, 295.16it/s, loss=0.84]\n",
      "Epoch [1358/5000]: 100%|██████████| 10/10 [00:00<00:00, 288.49it/s, loss=1.15]\n",
      "Epoch [1359/5000]: 100%|██████████| 10/10 [00:00<00:00, 278.72it/s, loss=0.716]\n",
      "Epoch [1360/5000]: 100%|██████████| 10/10 [00:00<00:00, 333.37it/s, loss=0.776]\n",
      "Epoch [1361/5000]: 100%|██████████| 10/10 [00:00<00:00, 316.55it/s, loss=0.651]\n",
      "Epoch [1362/5000]: 100%|██████████| 10/10 [00:00<00:00, 334.48it/s, loss=0.724]\n",
      "Epoch [1363/5000]: 100%|██████████| 10/10 [00:00<00:00, 326.72it/s, loss=1.14]\n",
      "Epoch [1364/5000]: 100%|██████████| 10/10 [00:00<00:00, 295.10it/s, loss=1.14]\n",
      "Epoch [1365/5000]: 100%|██████████| 10/10 [00:00<00:00, 334.39it/s, loss=1.05]\n",
      "Epoch [1366/5000]: 100%|██████████| 10/10 [00:00<00:00, 305.98it/s, loss=1.09]\n",
      "Epoch [1367/5000]: 100%|██████████| 10/10 [00:00<00:00, 278.50it/s, loss=1.13]\n",
      "Epoch [1368/5000]: 100%|██████████| 10/10 [00:00<00:00, 256.60it/s, loss=0.929]\n",
      "Epoch [1369/5000]: 100%|██████████| 10/10 [00:00<00:00, 278.81it/s, loss=0.904]\n",
      "Epoch [1370/5000]: 100%|██████████| 10/10 [00:00<00:00, 232.86it/s, loss=0.891]\n",
      "Epoch [1371/5000]: 100%|██████████| 10/10 [00:00<00:00, 273.50it/s, loss=1.22]\n",
      "Epoch [1372/5000]: 100%|██████████| 10/10 [00:00<00:00, 286.65it/s, loss=0.609]\n",
      "Epoch [1373/5000]: 100%|██████████| 10/10 [00:00<00:00, 315.61it/s, loss=0.885]\n",
      "Epoch [1374/5000]: 100%|██████████| 10/10 [00:00<00:00, 80.41it/s, loss=1.22]\n",
      "Epoch [1375/5000]: 100%|██████████| 10/10 [00:00<00:00, 323.72it/s, loss=0.835]\n",
      "Epoch [1376/5000]: 100%|██████████| 10/10 [00:00<00:00, 316.54it/s, loss=0.711]\n",
      "Epoch [1377/5000]: 100%|██████████| 10/10 [00:00<00:00, 271.17it/s, loss=1.02]\n",
      "Epoch [1378/5000]: 100%|██████████| 10/10 [00:00<00:00, 333.43it/s, loss=0.775]\n",
      "Epoch [1379/5000]: 100%|██████████| 10/10 [00:00<00:00, 297.65it/s, loss=0.851]\n",
      "Epoch [1380/5000]: 100%|██████████| 10/10 [00:00<00:00, 200.13it/s, loss=0.835]\n",
      "Epoch [1381/5000]: 100%|██████████| 10/10 [00:00<00:00, 219.93it/s, loss=0.871]\n",
      "Epoch [1382/5000]: 100%|██████████| 10/10 [00:00<00:00, 219.63it/s, loss=1.35]\n",
      "Epoch [1383/5000]: 100%|██████████| 10/10 [00:00<00:00, 322.33it/s, loss=0.674]\n",
      "Epoch [1384/5000]: 100%|██████████| 10/10 [00:00<00:00, 295.13it/s, loss=0.788]\n",
      "Epoch [1385/5000]: 100%|██████████| 10/10 [00:00<00:00, 325.02it/s, loss=0.944]\n",
      "Epoch [1386/5000]: 100%|██████████| 10/10 [00:00<00:00, 313.72it/s, loss=1.24]\n",
      "Epoch [1387/5000]: 100%|██████████| 10/10 [00:00<00:00, 304.02it/s, loss=1.02]\n",
      "Epoch [1388/5000]: 100%|██████████| 10/10 [00:00<00:00, 347.66it/s, loss=0.652]\n",
      "Epoch [1389/5000]: 100%|██████████| 10/10 [00:00<00:00, 346.00it/s, loss=1.13]\n",
      "Epoch [1390/5000]: 100%|██████████| 10/10 [00:00<00:00, 285.59it/s, loss=0.951]\n",
      "Epoch [1391/5000]: 100%|██████████| 10/10 [00:00<00:00, 337.37it/s, loss=0.816]\n",
      "Epoch [1392/5000]: 100%|██████████| 10/10 [00:00<00:00, 334.45it/s, loss=0.732]\n",
      "Epoch [1393/5000]: 100%|██████████| 10/10 [00:00<00:00, 294.09it/s, loss=1.16]\n",
      "Epoch [1394/5000]: 100%|██████████| 10/10 [00:00<00:00, 306.42it/s, loss=0.73]\n",
      "Epoch [1395/5000]: 100%|██████████| 10/10 [00:00<00:00, 323.89it/s, loss=0.711]\n",
      "Epoch [1396/5000]: 100%|██████████| 10/10 [00:00<00:00, 296.45it/s, loss=0.695]\n",
      "Epoch [1397/5000]: 100%|██████████| 10/10 [00:00<00:00, 346.02it/s, loss=0.89]\n",
      "Epoch [1398/5000]: 100%|██████████| 10/10 [00:00<00:00, 334.52it/s, loss=0.644]\n",
      "Epoch [1399/5000]: 100%|██████████| 10/10 [00:00<00:00, 306.22it/s, loss=0.722]\n",
      "Epoch [1400/5000]: 100%|██████████| 10/10 [00:00<00:00, 334.43it/s, loss=0.633]\n",
      "Epoch [1401/5000]: 100%|██████████| 10/10 [00:00<00:00, 346.14it/s, loss=0.935]\n"
     ]
    },
    {
     "name": "stdout",
     "output_type": "stream",
     "text": [
      "Epoch [1401/5000]: Train loss: 0.8830, Valid loss: 0.8552\n"
     ]
    },
    {
     "name": "stderr",
     "output_type": "stream",
     "text": [
      "Epoch [1402/5000]: 100%|██████████| 10/10 [00:00<00:00, 315.56it/s, loss=1.11]\n",
      "Epoch [1403/5000]: 100%|██████████| 10/10 [00:00<00:00, 346.02it/s, loss=1.04]\n",
      "Epoch [1404/5000]: 100%|██████████| 10/10 [00:00<00:00, 312.76it/s, loss=0.684]\n",
      "Epoch [1405/5000]: 100%|██████████| 10/10 [00:00<00:00, 297.86it/s, loss=0.603]\n",
      "Epoch [1406/5000]: 100%|██████████| 10/10 [00:00<00:00, 358.29it/s, loss=0.789]\n",
      "Epoch [1407/5000]: 100%|██████████| 10/10 [00:00<00:00, 312.55it/s, loss=0.71]\n",
      "Epoch [1408/5000]: 100%|██████████| 10/10 [00:00<00:00, 280.92it/s, loss=1.28]\n",
      "Epoch [1409/5000]: 100%|██████████| 10/10 [00:00<00:00, 323.79it/s, loss=0.715]\n",
      "Epoch [1410/5000]: 100%|██████████| 10/10 [00:00<00:00, 325.84it/s, loss=0.722]\n",
      "Epoch [1411/5000]: 100%|██████████| 10/10 [00:00<00:00, 304.05it/s, loss=0.57]\n",
      "Epoch [1412/5000]: 100%|██████████| 10/10 [00:00<00:00, 323.62it/s, loss=0.824]\n",
      "Epoch [1413/5000]: 100%|██████████| 10/10 [00:00<00:00, 348.81it/s, loss=0.785]\n",
      "Epoch [1414/5000]: 100%|██████████| 10/10 [00:00<00:00, 313.50it/s, loss=1.27]\n",
      "Epoch [1415/5000]: 100%|██████████| 10/10 [00:00<00:00, 333.58it/s, loss=1.01]\n",
      "Epoch [1416/5000]: 100%|██████████| 10/10 [00:00<00:00, 361.71it/s, loss=0.963]\n",
      "Epoch [1417/5000]: 100%|██████████| 10/10 [00:00<00:00, 323.64it/s, loss=0.505]\n",
      "Epoch [1418/5000]: 100%|██████████| 10/10 [00:00<00:00, 333.17it/s, loss=0.867]\n",
      "Epoch [1419/5000]: 100%|██████████| 10/10 [00:00<00:00, 348.97it/s, loss=0.868]\n",
      "Epoch [1420/5000]: 100%|██████████| 10/10 [00:00<00:00, 286.62it/s, loss=0.871]\n",
      "Epoch [1421/5000]: 100%|██████████| 10/10 [00:00<00:00, 326.27it/s, loss=0.844]\n",
      "Epoch [1422/5000]: 100%|██████████| 10/10 [00:00<00:00, 346.04it/s, loss=0.872]\n",
      "Epoch [1423/5000]: 100%|██████████| 10/10 [00:00<00:00, 304.25it/s, loss=0.931]\n",
      "Epoch [1424/5000]: 100%|██████████| 10/10 [00:00<00:00, 324.85it/s, loss=0.873]\n",
      "Epoch [1425/5000]: 100%|██████████| 10/10 [00:00<00:00, 345.91it/s, loss=0.646]\n",
      "Epoch [1426/5000]: 100%|██████████| 10/10 [00:00<00:00, 313.64it/s, loss=1.21]\n",
      "Epoch [1427/5000]: 100%|██████████| 10/10 [00:00<00:00, 347.54it/s, loss=0.801]\n",
      "Epoch [1428/5000]: 100%|██████████| 10/10 [00:00<00:00, 346.03it/s, loss=0.965]\n",
      "Epoch [1429/5000]: 100%|██████████| 10/10 [00:00<00:00, 313.55it/s, loss=0.794]\n",
      "Epoch [1430/5000]: 100%|██████████| 10/10 [00:00<00:00, 375.02it/s, loss=0.867]\n",
      "Epoch [1431/5000]: 100%|██████████| 10/10 [00:00<00:00, 278.64it/s, loss=0.905]\n",
      "Epoch [1432/5000]: 100%|██████████| 10/10 [00:00<00:00, 293.91it/s, loss=0.773]\n",
      "Epoch [1433/5000]: 100%|██████████| 10/10 [00:00<00:00, 263.89it/s, loss=0.727]\n",
      "Epoch [1434/5000]: 100%|██████████| 10/10 [00:00<00:00, 238.28it/s, loss=1.03]\n",
      "Epoch [1435/5000]: 100%|██████████| 10/10 [00:00<00:00, 252.57it/s, loss=0.976]\n",
      "Epoch [1436/5000]: 100%|██████████| 10/10 [00:00<00:00, 278.74it/s, loss=0.744]\n",
      "Epoch [1437/5000]: 100%|██████████| 10/10 [00:00<00:00, 258.80it/s, loss=0.879]\n",
      "Epoch [1438/5000]: 100%|██████████| 10/10 [00:00<00:00, 271.18it/s, loss=0.563]\n",
      "Epoch [1439/5000]: 100%|██████████| 10/10 [00:00<00:00, 294.26it/s, loss=0.749]\n",
      "Epoch [1440/5000]: 100%|██████████| 10/10 [00:00<00:00, 278.57it/s, loss=0.853]\n",
      "Epoch [1441/5000]: 100%|██████████| 10/10 [00:00<00:00, 358.16it/s, loss=0.522]\n",
      "Epoch [1442/5000]: 100%|██████████| 10/10 [00:00<00:00, 349.12it/s, loss=1.22]\n",
      "Epoch [1443/5000]: 100%|██████████| 10/10 [00:00<00:00, 346.06it/s, loss=1.07]\n",
      "Epoch [1444/5000]: 100%|██████████| 10/10 [00:00<00:00, 323.70it/s, loss=0.67]\n",
      "Epoch [1445/5000]: 100%|██████████| 10/10 [00:00<00:00, 348.80it/s, loss=0.644]\n",
      "Epoch [1446/5000]: 100%|██████████| 10/10 [00:00<00:00, 334.38it/s, loss=0.922]\n",
      "Epoch [1447/5000]: 100%|██████████| 10/10 [00:00<00:00, 313.48it/s, loss=0.743]\n",
      "Epoch [1448/5000]: 100%|██████████| 10/10 [00:00<00:00, 337.89it/s, loss=0.723]\n",
      "Epoch [1449/5000]: 100%|██████████| 10/10 [00:00<00:00, 294.95it/s, loss=0.833]\n",
      "Epoch [1450/5000]: 100%|██████████| 10/10 [00:00<00:00, 270.34it/s, loss=0.661]\n",
      "Epoch [1451/5000]: 100%|██████████| 10/10 [00:00<00:00, 326.96it/s, loss=0.711]\n",
      "Epoch [1452/5000]: 100%|██████████| 10/10 [00:00<00:00, 304.01it/s, loss=0.86]\n",
      "Epoch [1453/5000]: 100%|██████████| 10/10 [00:00<00:00, 348.50it/s, loss=0.734]\n",
      "Epoch [1454/5000]: 100%|██████████| 10/10 [00:00<00:00, 334.42it/s, loss=0.802]\n",
      "Epoch [1455/5000]: 100%|██████████| 10/10 [00:00<00:00, 345.85it/s, loss=0.701]\n",
      "Epoch [1456/5000]: 100%|██████████| 10/10 [00:00<00:00, 348.73it/s, loss=0.714]\n",
      "Epoch [1457/5000]: 100%|██████████| 10/10 [00:00<00:00, 346.04it/s, loss=0.779]\n",
      "Epoch [1458/5000]: 100%|██████████| 10/10 [00:00<00:00, 304.05it/s, loss=0.918]\n",
      "Epoch [1459/5000]: 100%|██████████| 10/10 [00:00<00:00, 348.84it/s, loss=0.866]\n",
      "Epoch [1460/5000]: 100%|██████████| 10/10 [00:00<00:00, 255.88it/s, loss=0.985]\n",
      "Epoch [1461/5000]: 100%|██████████| 10/10 [00:00<00:00, 294.15it/s, loss=0.724]\n",
      "Epoch [1462/5000]: 100%|██████████| 10/10 [00:00<00:00, 349.89it/s, loss=0.838]\n",
      "Epoch [1463/5000]: 100%|██████████| 10/10 [00:00<00:00, 334.49it/s, loss=0.881]\n",
      "Epoch [1464/5000]: 100%|██████████| 10/10 [00:00<00:00, 303.10it/s, loss=0.877]\n",
      "Epoch [1465/5000]: 100%|██████████| 10/10 [00:00<00:00, 349.58it/s, loss=0.844]\n",
      "Epoch [1466/5000]: 100%|██████████| 10/10 [00:00<00:00, 346.07it/s, loss=1.24]\n",
      "Epoch [1467/5000]: 100%|██████████| 10/10 [00:00<00:00, 322.48it/s, loss=1.12]\n",
      "Epoch [1468/5000]: 100%|██████████| 10/10 [00:00<00:00, 358.48it/s, loss=0.731]\n",
      "Epoch [1469/5000]: 100%|██████████| 10/10 [00:00<00:00, 345.75it/s, loss=0.856]\n",
      "Epoch [1470/5000]: 100%|██████████| 10/10 [00:00<00:00, 296.94it/s, loss=1.06]\n",
      "Epoch [1471/5000]: 100%|██████████| 10/10 [00:00<00:00, 358.41it/s, loss=0.806]\n",
      "Epoch [1472/5000]: 100%|██████████| 10/10 [00:00<00:00, 345.98it/s, loss=1.01]\n",
      "Epoch [1473/5000]: 100%|██████████| 10/10 [00:00<00:00, 288.55it/s, loss=1.07]\n",
      "Epoch [1474/5000]: 100%|██████████| 10/10 [00:00<00:00, 345.91it/s, loss=0.842]\n",
      "Epoch [1475/5000]: 100%|██████████| 10/10 [00:00<00:00, 335.10it/s, loss=0.854]\n",
      "Epoch [1476/5000]: 100%|██████████| 10/10 [00:00<00:00, 288.47it/s, loss=1.21]\n",
      "Epoch [1477/5000]: 100%|██████████| 10/10 [00:00<00:00, 358.25it/s, loss=0.796]\n",
      "Epoch [1478/5000]: 100%|██████████| 10/10 [00:00<00:00, 345.88it/s, loss=0.912]\n",
      "Epoch [1479/5000]: 100%|██████████| 10/10 [00:00<00:00, 316.74it/s, loss=0.796]\n",
      "Epoch [1480/5000]: 100%|██████████| 10/10 [00:00<00:00, 346.26it/s, loss=0.789]\n",
      "Epoch [1481/5000]: 100%|██████████| 10/10 [00:00<00:00, 357.16it/s, loss=0.976]\n",
      "Epoch [1482/5000]: 100%|██████████| 10/10 [00:00<00:00, 297.70it/s, loss=0.94]\n",
      "Epoch [1483/5000]: 100%|██████████| 10/10 [00:00<00:00, 358.24it/s, loss=0.752]\n",
      "Epoch [1484/5000]: 100%|██████████| 10/10 [00:00<00:00, 357.33it/s, loss=1.08]\n",
      "Epoch [1485/5000]: 100%|██████████| 10/10 [00:00<00:00, 297.91it/s, loss=1.01]\n",
      "Epoch [1486/5000]: 100%|██████████| 10/10 [00:00<00:00, 346.02it/s, loss=0.954]\n",
      "Epoch [1487/5000]: 100%|██████████| 10/10 [00:00<00:00, 333.46it/s, loss=0.856]\n",
      "Epoch [1488/5000]: 100%|██████████| 10/10 [00:00<00:00, 295.00it/s, loss=0.935]\n",
      "Epoch [1489/5000]: 100%|██████████| 10/10 [00:00<00:00, 334.46it/s, loss=1.08]\n",
      "Epoch [1490/5000]: 100%|██████████| 10/10 [00:00<00:00, 348.66it/s, loss=0.967]\n",
      "Epoch [1491/5000]: 100%|██████████| 10/10 [00:00<00:00, 294.96it/s, loss=0.761]\n",
      "Epoch [1492/5000]: 100%|██████████| 10/10 [00:00<00:00, 313.74it/s, loss=0.552]\n",
      "Epoch [1493/5000]: 100%|██████████| 10/10 [00:00<00:00, 348.57it/s, loss=1.15]\n",
      "Epoch [1494/5000]: 100%|██████████| 10/10 [00:00<00:00, 313.52it/s, loss=1.1]\n",
      "Epoch [1495/5000]: 100%|██████████| 10/10 [00:00<00:00, 345.93it/s, loss=0.817]\n",
      "Epoch [1496/5000]: 100%|██████████| 10/10 [00:00<00:00, 281.19it/s, loss=0.757]\n",
      "Epoch [1497/5000]: 100%|██████████| 10/10 [00:00<00:00, 264.09it/s, loss=0.96]\n",
      "Epoch [1498/5000]: 100%|██████████| 10/10 [00:00<00:00, 280.28it/s, loss=0.614]\n",
      "Epoch [1499/5000]: 100%|██████████| 10/10 [00:00<00:00, 278.66it/s, loss=0.74]\n",
      "Epoch [1500/5000]: 100%|██████████| 10/10 [00:00<00:00, 249.75it/s, loss=1.22]\n",
      "Epoch [1501/5000]: 100%|██████████| 10/10 [00:00<00:00, 252.72it/s, loss=0.785]\n"
     ]
    },
    {
     "name": "stdout",
     "output_type": "stream",
     "text": [
      "Epoch [1501/5000]: Train loss: 0.8867, Valid loss: 0.8703\n"
     ]
    },
    {
     "name": "stderr",
     "output_type": "stream",
     "text": [
      "Epoch [1502/5000]: 100%|██████████| 10/10 [00:00<00:00, 286.62it/s, loss=1.03]\n",
      "Epoch [1503/5000]: 100%|██████████| 10/10 [00:00<00:00, 265.95it/s, loss=1.21]\n",
      "Epoch [1504/5000]: 100%|██████████| 10/10 [00:00<00:00, 286.73it/s, loss=0.999]\n",
      "Epoch [1505/5000]: 100%|██████████| 10/10 [00:00<00:00, 273.13it/s, loss=0.973]\n",
      "Epoch [1506/5000]: 100%|██████████| 10/10 [00:00<00:00, 345.99it/s, loss=0.994]\n",
      "Epoch [1507/5000]: 100%|██████████| 10/10 [00:00<00:00, 358.43it/s, loss=0.774]\n",
      "Epoch [1508/5000]: 100%|██████████| 10/10 [00:00<00:00, 315.39it/s, loss=0.931]\n",
      "Epoch [1509/5000]: 100%|██████████| 10/10 [00:00<00:00, 346.04it/s, loss=1.25]\n",
      "Epoch [1510/5000]: 100%|██████████| 10/10 [00:00<00:00, 358.47it/s, loss=0.893]\n",
      "Epoch [1511/5000]: 100%|██████████| 10/10 [00:00<00:00, 297.08it/s, loss=0.92]\n",
      "Epoch [1512/5000]: 100%|██████████| 10/10 [00:00<00:00, 323.79it/s, loss=0.949]\n",
      "Epoch [1513/5000]: 100%|██████████| 10/10 [00:00<00:00, 345.97it/s, loss=1]\n",
      "Epoch [1514/5000]: 100%|██████████| 10/10 [00:00<00:00, 297.81it/s, loss=0.835]\n",
      "Epoch [1515/5000]: 100%|██████████| 10/10 [00:00<00:00, 304.12it/s, loss=0.996]\n",
      "Epoch [1516/5000]: 100%|██████████| 10/10 [00:00<00:00, 280.40it/s, loss=1.08]\n",
      "Epoch [1517/5000]: 100%|██████████| 10/10 [00:00<00:00, 345.98it/s, loss=0.842]\n",
      "Epoch [1518/5000]: 100%|██████████| 10/10 [00:00<00:00, 334.57it/s, loss=0.931]\n",
      "Epoch [1519/5000]: 100%|██████████| 10/10 [00:00<00:00, 288.12it/s, loss=0.805]\n",
      "Epoch [1520/5000]: 100%|██████████| 10/10 [00:00<00:00, 334.48it/s, loss=1.09]\n",
      "Epoch [1521/5000]: 100%|██████████| 10/10 [00:00<00:00, 358.29it/s, loss=0.704]\n",
      "Epoch [1522/5000]: 100%|██████████| 10/10 [00:00<00:00, 305.83it/s, loss=1.2]\n",
      "Epoch [1523/5000]: 100%|██████████| 10/10 [00:00<00:00, 345.90it/s, loss=1.09]\n",
      "Epoch [1524/5000]: 100%|██████████| 10/10 [00:00<00:00, 345.99it/s, loss=0.998]\n",
      "Epoch [1525/5000]: 100%|██████████| 10/10 [00:00<00:00, 306.48it/s, loss=0.985]\n",
      "Epoch [1526/5000]: 100%|██████████| 10/10 [00:00<00:00, 323.74it/s, loss=0.904]\n",
      "Epoch [1527/5000]: 100%|██████████| 10/10 [00:00<00:00, 357.12it/s, loss=0.821]\n",
      "Epoch [1528/5000]: 100%|██████████| 10/10 [00:00<00:00, 272.92it/s, loss=0.817]\n",
      "Epoch [1529/5000]: 100%|██████████| 10/10 [00:00<00:00, 323.71it/s, loss=0.846]\n",
      "Epoch [1530/5000]: 100%|██████████| 10/10 [00:00<00:00, 315.57it/s, loss=0.606]\n",
      "Epoch [1531/5000]: 100%|██████████| 10/10 [00:00<00:00, 278.63it/s, loss=0.924]\n",
      "Epoch [1532/5000]: 100%|██████████| 10/10 [00:00<00:00, 334.39it/s, loss=1.1]\n",
      "Epoch [1533/5000]: 100%|██████████| 10/10 [00:00<00:00, 315.78it/s, loss=1.05]\n",
      "Epoch [1534/5000]: 100%|██████████| 10/10 [00:00<00:00, 323.71it/s, loss=1.38]\n",
      "Epoch [1535/5000]: 100%|██████████| 10/10 [00:00<00:00, 346.08it/s, loss=0.671]\n",
      "Epoch [1536/5000]: 100%|██████████| 10/10 [00:00<00:00, 348.82it/s, loss=0.763]\n",
      "Epoch [1537/5000]: 100%|██████████| 10/10 [00:00<00:00, 295.09it/s, loss=0.868]\n",
      "Epoch [1538/5000]: 100%|██████████| 10/10 [00:00<00:00, 294.39it/s, loss=0.785]\n",
      "Epoch [1539/5000]: 100%|██████████| 10/10 [00:00<00:00, 285.88it/s, loss=0.903]\n",
      "Epoch [1540/5000]: 100%|██████████| 10/10 [00:00<00:00, 334.46it/s, loss=1.23]\n",
      "Epoch [1541/5000]: 100%|██████████| 10/10 [00:00<00:00, 315.89it/s, loss=0.749]\n",
      "Epoch [1542/5000]: 100%|██████████| 10/10 [00:00<00:00, 303.54it/s, loss=1.01]\n",
      "Epoch [1543/5000]: 100%|██████████| 10/10 [00:00<00:00, 313.55it/s, loss=0.777]\n",
      "Epoch [1544/5000]: 100%|██████████| 10/10 [00:00<00:00, 316.31it/s, loss=0.602]\n",
      "Epoch [1545/5000]: 100%|██████████| 10/10 [00:00<00:00, 294.82it/s, loss=0.682]\n",
      "Epoch [1546/5000]: 100%|██████████| 10/10 [00:00<00:00, 312.73it/s, loss=0.992]\n",
      "Epoch [1547/5000]: 100%|██████████| 10/10 [00:00<00:00, 222.83it/s, loss=0.741]\n",
      "Epoch [1548/5000]: 100%|██████████| 10/10 [00:00<00:00, 81.40it/s, loss=1.1] \n",
      "Epoch [1549/5000]: 100%|██████████| 10/10 [00:00<00:00, 336.72it/s, loss=1.24]\n",
      "Epoch [1550/5000]: 100%|██████████| 10/10 [00:00<00:00, 313.69it/s, loss=1.31]\n",
      "Epoch [1551/5000]: 100%|██████████| 10/10 [00:00<00:00, 294.36it/s, loss=0.986]\n",
      "Epoch [1552/5000]: 100%|██████████| 10/10 [00:00<00:00, 316.56it/s, loss=0.711]\n",
      "Epoch [1553/5000]: 100%|██████████| 10/10 [00:00<00:00, 313.58it/s, loss=0.74]\n",
      "Epoch [1554/5000]: 100%|██████████| 10/10 [00:00<00:00, 316.48it/s, loss=1.01]\n",
      "Epoch [1555/5000]: 100%|██████████| 10/10 [00:00<00:00, 304.08it/s, loss=1.45]\n",
      "Epoch [1556/5000]: 100%|██████████| 10/10 [00:00<00:00, 286.66it/s, loss=0.495]\n",
      "Epoch [1557/5000]: 100%|██████████| 10/10 [00:00<00:00, 315.69it/s, loss=0.903]\n",
      "Epoch [1558/5000]: 100%|██████████| 10/10 [00:00<00:00, 345.97it/s, loss=0.738]\n",
      "Epoch [1559/5000]: 100%|██████████| 10/10 [00:00<00:00, 303.25it/s, loss=0.971]\n",
      "Epoch [1560/5000]: 100%|██████████| 10/10 [00:00<00:00, 338.00it/s, loss=0.851]\n",
      "Epoch [1561/5000]: 100%|██████████| 10/10 [00:00<00:00, 334.34it/s, loss=0.906]\n",
      "Epoch [1562/5000]: 100%|██████████| 10/10 [00:00<00:00, 344.75it/s, loss=0.908]\n",
      "Epoch [1563/5000]: 100%|██████████| 10/10 [00:00<00:00, 306.97it/s, loss=0.729]\n",
      "Epoch [1564/5000]: 100%|██████████| 10/10 [00:00<00:00, 313.56it/s, loss=0.923]\n",
      "Epoch [1565/5000]: 100%|██████████| 10/10 [00:00<00:00, 291.22it/s, loss=1.01]\n",
      "Epoch [1566/5000]: 100%|██████████| 10/10 [00:00<00:00, 303.63it/s, loss=0.944]\n",
      "Epoch [1567/5000]: 100%|██████████| 10/10 [00:00<00:00, 313.38it/s, loss=1.1]\n",
      "Epoch [1568/5000]: 100%|██████████| 10/10 [00:00<00:00, 297.00it/s, loss=0.943]\n",
      "Epoch [1569/5000]: 100%|██████████| 10/10 [00:00<00:00, 323.42it/s, loss=0.748]\n",
      "Epoch [1570/5000]: 100%|██████████| 10/10 [00:00<00:00, 357.35it/s, loss=1.1]\n",
      "Epoch [1571/5000]: 100%|██████████| 10/10 [00:00<00:00, 297.80it/s, loss=0.991]\n",
      "Epoch [1572/5000]: 100%|██████████| 10/10 [00:00<00:00, 358.27it/s, loss=1.03]\n",
      "Epoch [1573/5000]: 100%|██████████| 10/10 [00:00<00:00, 303.30it/s, loss=0.709]\n",
      "Epoch [1574/5000]: 100%|██████████| 10/10 [00:00<00:00, 289.04it/s, loss=0.817]\n",
      "Epoch [1575/5000]: 100%|██████████| 10/10 [00:00<00:00, 334.48it/s, loss=0.878]\n",
      "Epoch [1576/5000]: 100%|██████████| 10/10 [00:00<00:00, 349.43it/s, loss=0.815]\n",
      "Epoch [1577/5000]: 100%|██████████| 10/10 [00:00<00:00, 323.80it/s, loss=0.837]\n",
      "Epoch [1578/5000]: 100%|██████████| 10/10 [00:00<00:00, 304.40it/s, loss=0.979]\n",
      "Epoch [1579/5000]: 100%|██████████| 10/10 [00:00<00:00, 342.50it/s, loss=0.972]\n",
      "Epoch [1580/5000]: 100%|██████████| 10/10 [00:00<00:00, 295.11it/s, loss=0.801]\n",
      "Epoch [1581/5000]: 100%|██████████| 10/10 [00:00<00:00, 323.66it/s, loss=0.772]\n",
      "Epoch [1582/5000]: 100%|██████████| 10/10 [00:00<00:00, 327.32it/s, loss=0.709]\n",
      "Epoch [1583/5000]: 100%|██████████| 10/10 [00:00<00:00, 313.51it/s, loss=1.04]\n",
      "Epoch [1584/5000]: 100%|██████████| 10/10 [00:00<00:00, 356.87it/s, loss=1.08]\n",
      "Epoch [1585/5000]: 100%|██████████| 10/10 [00:00<00:00, 348.87it/s, loss=1.14]\n",
      "Epoch [1586/5000]: 100%|██████████| 10/10 [00:00<00:00, 286.78it/s, loss=0.609]\n",
      "Epoch [1587/5000]: 100%|██████████| 10/10 [00:00<00:00, 356.88it/s, loss=1.18]\n",
      "Epoch [1588/5000]: 100%|██████████| 10/10 [00:00<00:00, 337.67it/s, loss=1.15]\n",
      "Epoch [1589/5000]: 100%|██████████| 10/10 [00:00<00:00, 278.58it/s, loss=0.955]\n",
      "Epoch [1590/5000]: 100%|██████████| 10/10 [00:00<00:00, 336.10it/s, loss=0.871]\n",
      "Epoch [1591/5000]: 100%|██████████| 10/10 [00:00<00:00, 358.29it/s, loss=0.68]\n",
      "Epoch [1592/5000]: 100%|██████████| 10/10 [00:00<00:00, 263.91it/s, loss=1.21]"
     ]
    },
    {
     "name": "stdout",
     "output_type": "stream",
     "text": [
      "\n",
      "Model is not improving, so we halt the training session.\n",
      "Model current loss 0.775\n"
     ]
    },
    {
     "name": "stderr",
     "output_type": "stream",
     "text": [
      "\n"
     ]
    }
   ],
   "source": [
    "model = My_Model(input_dim=x_train.shape[1]).to(device) # put your model and data on the same computation device.\n",
    "trainer(train_loader, valid_loader, model, config, device)"
   ]
  },
  {
   "cell_type": "markdown",
   "metadata": {},
   "source": [
    "### 验证模型结果\n",
    "模型是loss在0.77左右存档的，用该模型重新对验证集(valid)进行验证，观察loss是否仍然是0.77"
   ]
  },
  {
   "cell_type": "code",
   "execution_count": 24,
   "metadata": {
    "tags": []
   },
   "outputs": [
    {
     "name": "stdout",
     "output_type": "stream",
     "text": [
      "0.8618664741516113\n"
     ]
    }
   ],
   "source": [
    "same_seed(config['seed'])\n",
    "train_data, test_data = pd.read_csv(File_Path_Train).values, pd.read_csv(File_Path_Test).values\n",
    "train_data, valid_data = train_valid_split(train_data, config['valid_ratio'], config['seed'])\n",
    "\n",
    "# # Select features\n",
    "x_train, x_valid, x_test, y_train, y_valid = select_feat(train_data, valid_data, test_data, config['select_all'], config['select_features'])\n",
    "\n",
    "valid_loader = DataLoader(valid_dataset, batch_size=config['batch_size'], shuffle=True, pin_memory=True)\n",
    "\n",
    "criterion = nn.MSELoss(reduction='mean')\n",
    "\n",
    "model = My_Model(input_dim=x_train.shape[1]).to(device)\n",
    "model.load_state_dict(torch.load(config['save_path']))\n",
    "loss_record = []\n",
    "for x, y in valid_loader:\n",
    "    x, y = x.to(device), y.to(device)\n",
    "    with torch.no_grad():\n",
    "        pred = model(x)\n",
    "        loss = criterion(pred, y)\n",
    "\n",
    "    loss_record.append(loss.item())\n",
    "\n",
    "mean_valid_loss = sum(loss_record)/len(loss_record)\n",
    "print(mean_valid_loss)"
   ]
  },
  {
   "cell_type": "markdown",
   "metadata": {
    "id": "Ik09KPqU-di-"
   },
   "source": [
    "# Plot learning curves with `tensorboard` (optional)\n",
    "\n",
    "`tensorboard` is a tool that allows you to visualize your training progress.\n",
    "\n",
    "If this block does not display your learning curve, please wait for few minutes, and re-run this block. It might take some time to load your logging information."
   ]
  },
  {
   "cell_type": "code",
   "execution_count": null,
   "metadata": {
    "id": "loA4nKmLGQ-n",
    "outputId": "50d663b9-6dd8-466c-a762-9e585bb8da93",
    "tags": []
   },
   "outputs": [],
   "source": [
    "%reload_ext tensorboard\n",
    "%tensorboard --logdir=./runs/"
   ]
  },
  {
   "cell_type": "markdown",
   "metadata": {
    "id": "yhAHGqC9-woK"
   },
   "source": [
    "# Testing\n",
    "The predictions of your model on testing set will be stored at `pred.csv`."
   ]
  },
  {
   "cell_type": "code",
   "execution_count": null,
   "metadata": {
    "id": "Q5eVdpbvAlAe",
    "outputId": "163c0b7b-afe3-4637-fed0-a1abb632c463",
    "tags": []
   },
   "outputs": [],
   "source": [
    "def save_pred(preds, file):\n",
    "    ''' Save predictions to specified file '''\n",
    "    with open(file, 'w') as fp:\n",
    "        writer = csv.writer(fp)\n",
    "        writer.writerow(['id', 'tested_positive'])\n",
    "        for i, p in enumerate(preds):\n",
    "            writer.writerow([i, p])\n",
    "\n",
    "model = My_Model(input_dim=x_train.shape[1]).to(device)\n",
    "model.load_state_dict(torch.load(config['save_path']))\n",
    "preds = predict(test_loader, model, device)\n",
    "save_pred(preds, 'pred.csv')"
   ]
  },
  {
   "cell_type": "markdown",
   "metadata": {
    "id": "T_N-wBvVahc7"
   },
   "source": [
    "# Download\n",
    "\n",
    "Run this block to download the `pred.csv` automatically."
   ]
  },
  {
   "cell_type": "code",
   "execution_count": null,
   "metadata": {
    "id": "PmMnwrHeavJv",
    "outputId": "9c292652-6c3d-49b1-f4a0-7d9b01fb302d",
    "tags": []
   },
   "outputs": [],
   "source": [
    "# from google.colab import files\n",
    "# files.download('pred.csv')"
   ]
  },
  {
   "cell_type": "markdown",
   "metadata": {
    "id": "IJ_k5rY0GvSV"
   },
   "source": [
    "# Reference\n",
    "This notebook uses code written by Heng-Jui Chang @ NTUEE (https://github.com/ga642381/ML2021-Spring/blob/main/HW01/HW01.ipynb)"
   ]
  }
 ],
 "metadata": {
  "kernelspec": {
   "display_name": "Python 3 (ipykernel)",
   "language": "python",
   "name": "python3"
  },
  "language_info": {
   "codemirror_mode": {
    "name": "ipython",
    "version": 3
   },
   "file_extension": ".py",
   "mimetype": "text/x-python",
   "name": "python",
   "nbconvert_exporter": "python",
   "pygments_lexer": "ipython3",
   "version": "3.11.5"
  }
 },
 "nbformat": 4,
 "nbformat_minor": 4
}
