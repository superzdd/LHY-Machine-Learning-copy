{
 "cells": [
  {
   "cell_type": "markdown",
   "metadata": {
    "id": "guE34D3Fj2R9"
   },
   "source": [
    "# **Homework 1: COVID-19 Cases Prediction (Regression)**"
   ]
  },
  {
   "cell_type": "markdown",
   "metadata": {
    "id": "ZFBEcm88x2UT"
   },
   "source": [
    "### [作业辅导](https://www.youtube.com/watch?v=iMzxjBDMvac)"
   ]
  },
  {
   "cell_type": "markdown",
   "metadata": {
    "id": "V57zhcTp1Xxb"
   },
   "source": [
    "Objectives:\n",
    "* Solve a regression problem with deep neural networks (DNN).\n",
    "* Understand basic DNN training tips.\n",
    "* Familiarize yourself with PyTorch.\n",
    "\n",
    "If you have any questions, please contact the TAs via TA hours, NTU COOL, or email to mlta-2023-spring@googlegroups.com"
   ]
  },
  {
   "cell_type": "code",
   "execution_count": 1,
   "metadata": {
    "id": "GUATI4ONArv_",
    "outputId": "c5cb18a6-2221-411e-e8ee-b3d574930b3f",
    "tags": []
   },
   "outputs": [
    {
     "name": "stdout",
     "output_type": "stream",
     "text": [
      "Fri Nov 10 22:58:46 2023       \n",
      "+---------------------------------------------------------------------------------------+\n",
      "| NVIDIA-SMI 537.13                 Driver Version: 537.13       CUDA Version: 12.2     |\n",
      "|-----------------------------------------+----------------------+----------------------+\n",
      "| GPU  Name                     TCC/WDDM  | Bus-Id        Disp.A | Volatile Uncorr. ECC |\n",
      "| Fan  Temp   Perf          Pwr:Usage/Cap |         Memory-Usage | GPU-Util  Compute M. |\n",
      "|                                         |                      |               MIG M. |\n",
      "|=========================================+======================+======================|\n",
      "|   0  NVIDIA GeForce RTX 4060 ...  WDDM  | 00000000:01:00.0  On |                  N/A |\n",
      "| N/A   38C    P8               2W /  93W |     94MiB /  8188MiB |      0%      Default |\n",
      "|                                         |                      |                  N/A |\n",
      "+-----------------------------------------+----------------------+----------------------+\n",
      "                                                                                         \n",
      "+---------------------------------------------------------------------------------------+\n",
      "| Processes:                                                                            |\n",
      "|  GPU   GI   CI        PID   Type   Process name                            GPU Memory |\n",
      "|        ID   ID                                                             Usage      |\n",
      "|=======================================================================================|\n",
      "|    0   N/A  N/A     22028    C+G   ...ns\\Software\\Current\\LogiOverlay.exe    N/A      |\n",
      "+---------------------------------------------------------------------------------------+\n"
     ]
    }
   ],
   "source": [
    "# check gpu type\n",
    "!nvidia-smi"
   ]
  },
  {
   "cell_type": "markdown",
   "metadata": {
    "id": "igqIMEgu64-F"
   },
   "source": [
    "# Import packages"
   ]
  },
  {
   "cell_type": "code",
   "execution_count": 2,
   "metadata": {
    "id": "xybQNYCXYu13",
    "tags": []
   },
   "outputs": [],
   "source": [
    "# Numerical Operations\n",
    "import math\n",
    "import numpy as np\n",
    "\n",
    "# Reading/Writing Data\n",
    "import pandas as pd\n",
    "import os\n",
    "import csv\n",
    "\n",
    "# Feature selecting\n",
    "import sklearn\n",
    "from sklearn.feature_selection import SelectKBest,f_regression\n",
    "\n",
    "# For Progress Bar\n",
    "from tqdm import tqdm\n",
    "\n",
    "# Pytorch\n",
    "import torch\n",
    "import torch.nn as nn\n",
    "from torch.utils.data import Dataset, DataLoader, random_split\n",
    "\n",
    "# For plotting learning curve\n",
    "from torch.utils.tensorboard import SummaryWriter"
   ]
  },
  {
   "cell_type": "code",
   "execution_count": 3,
   "metadata": {
    "id": "5hHv5NavqNjt",
    "tags": []
   },
   "outputs": [],
   "source": [
    "# playground\n",
    "# dir方法会返回类中所有的公共方法\n",
    "# dir(torch)\n",
    "# dir(torch.cuda.is_available)\n",
    "# help(torch.cuda.is_available)"
   ]
  },
  {
   "cell_type": "markdown",
   "metadata": {
    "id": "Tm2aXcb-j9Fc"
   },
   "source": [
    "# Download data\n",
    "If the Google Drive links below do not work, you can use the dropbox link below or download data from [Kaggle](https://www.kaggle.com/competitions/ml2023spring-hw1/overview), and upload data manually to the workspace."
   ]
  },
  {
   "cell_type": "code",
   "execution_count": 4,
   "metadata": {
    "id": "YPmfl-awlKZA",
    "tags": []
   },
   "outputs": [],
   "source": [
    "# google drive link\n",
    "# !gdown --id '1BjXalPZxq9mybPKNjF3h5L3NcF7XKTS-' --output covid_train.csv\n",
    "# !gdown --id '1B55t74Jg2E5FCsKCsUEkPKIuqaY7UIi1' --output covid_test.csv\n",
    "\n",
    "# dropbox link\n",
    "# wget方法会报错，经查资料这个wget是linux系统上的方法，由于现在电脑是windows无法调用，后续在mac电脑上尝试\n",
    "# 在colab上可以执行\n",
    "# !wget -O covid_train.csv https://www.dropbox.com/s/lmy1riadzoy0ahw/covid.train.csv?dl=0\n",
    "# !wget -O covid_test.csv https://www.dropbox.com/s/zalbw42lu4nmhr2/covid.test.csv?dl=0\n",
    "# /kaggle/input/hw1-covid-19\n",
    "\n",
    "File_Path_Train = './covid_train.csv'\n",
    "File_Path_Test = './covid_test.csv'\n",
    "\n",
    "# Kaggle\n",
    "# File_Path_Train = '/kaggle/input/hw1-covid-19/covid_train.csv'\n",
    "# File_Path_Test = '/kaggle/input/hw1-covid-19/covid_test.csv'\n",
    "\n",
    "# Common\n",
    "ds_train = pd.read_csv(File_Path_Train)\n",
    "ds_test = pd.read_csv(File_Path_Train)"
   ]
  },
  {
   "cell_type": "markdown",
   "metadata": {
    "id": "Y3vANJd1qNju"
   },
   "source": [
    "### Data checking\n",
    "先检查一遍数据，按照作业要求，基础数据中，应该包含了美国35个州过去3天的感染人数数据：\n",
    "\n",
    "- 先尝试看懂数据\n",
    "- 如果有数据需要padding，先做padding"
   ]
  },
  {
   "cell_type": "code",
   "execution_count": 5,
   "metadata": {
    "id": "uVV5OxXCqNju",
    "tags": []
   },
   "outputs": [],
   "source": [
    "# ds_train.head()"
   ]
  },
  {
   "cell_type": "code",
   "execution_count": 6,
   "metadata": {
    "id": "8TUYSGrXqNju",
    "tags": []
   },
   "outputs": [],
   "source": [
    "# ds_train.describe()"
   ]
  },
  {
   "cell_type": "code",
   "execution_count": 7,
   "metadata": {
    "id": "Ewb6w88qqNjv",
    "tags": []
   },
   "outputs": [],
   "source": [
    "# 查看所有列\n",
    "# for idx,name in enumerate(ds_train.columns):\n",
    "#   print(idx,name)"
   ]
  },
  {
   "cell_type": "code",
   "execution_count": 8,
   "metadata": {
    "id": "Hkkp67JuvXrb",
    "tags": []
   },
   "outputs": [],
   "source": [
    "# ds_train.shape[0]"
   ]
  },
  {
   "cell_type": "code",
   "execution_count": 9,
   "metadata": {
    "id": "-OBB-6r1qNjv",
    "tags": []
   },
   "outputs": [],
   "source": [
    "# print('--------------------------- STATE ----------------------------------')\n",
    "# print('id:',ds_train.columns.get_loc('id'))\n",
    "# print('AL:',ds_train.columns.get_loc('AL'))\n",
    "# print('WI:',ds_train.columns.get_loc('WI'))\n",
    "# print('--------------------------- DAY 1 ----------------------------------')\n",
    "# print('cli:',ds_train.columns.get_loc('cli'))\n",
    "# print('tested_positive:',ds_train.columns.get_loc('tested_positive'))\n",
    "# print('--------------------------- DAY 2 ----------------------------------')\n",
    "# print('cli.1:',ds_train.columns.get_loc('cli.1'))\n",
    "# print('tested_positive.1:',ds_train.columns.get_loc('tested_positive.1'))\n",
    "# print('--------------------------- DAY 3 ----------------------------------')\n",
    "# print('cli.2:',ds_train.columns.get_loc('cli.2'))\n",
    "# print('tested_positive.2:',ds_train.columns.get_loc('tested_positive.2'))"
   ]
  },
  {
   "cell_type": "markdown",
   "metadata": {
    "id": "rOtgfk5xqNjv"
   },
   "source": [
    "#### 检查是否包含35个州?\n",
    "不是35个州，一共34个州。从col[1]到col[34]，AL->WI，\n",
    "> PS: 美国一共50个州 https://zh.wikipedia.org/zh-hans/%E7%BE%8E%E5%9B%BD%E5%B7%9E%E4%BB%BD\n",
    "\n",
    "#### 检查是否包含3天的数据?\n",
    "有三天的数据，每一天有18列数据\n",
    "- 第一天的数据从col[35]到col[52],从cli到tested_positive\n",
    "- 第二天有.1的尾缀，从col[53]到col[70],从cli.1到tested_positive.1\n",
    "- 第三天有.2的尾缀，从col[71]到col[88],从cli.2到tested_positive.2\n",
    "\n",
    "#### 列名分类\n",
    "|no|col name|remark|\n",
    "|-----------|-----------|-----------|\n",
    "|1|COVID-like illness|冠状病毒样疾病|\n",
    "|2|Behavior indicators|行为指标|\n",
    "|3|Belief indicators|信念指标|\n",
    "|4|Mental indicator|心理指标|\n",
    "|5|Enviromental indicator|环境指标|\n",
    "|6|Tested Positive Cases|检测呈阳性的病例|\n",
    "\n",
    "- ![col-feature-desc](./hw-col-feature-desc.jpg)\n",
    "- ![col-feature-desc-2](./hw-col-feature-desc-2.jpg)\n",
    "- ![col-feature-desc-3](./hw-col-feature-desc-3.jpg)\n",
    "\n",
    "#### 列名解释\n",
    "由于所有列都为缩写，看起来很费劲，这里找到了一份调查，其中有对应翻译其内容：\n",
    "https://cmu-delphi.github.io/delphi-epidata/api/covidcast-signals/fb-survey.html\n",
    "\n",
    "第一个字母为*w*的，代表百分比，否则代表数量\n",
    "\n",
    "简要摘录内容如下:\n",
    "\n",
    "|no|col name|desc|Chinese desc|Classification|\n",
    "|-----------|-----------|-----------|-----------|-----------|\n",
    "|1|cli|COVID-like illness|COVID-like illness新冠疾病|COVID-like illness|\n",
    "|2|ili|influenza-like illness|流感样疾病|COVID-like illness|\n",
    "|3|wnohh_cmnty_cli|not including household community COVID-like illness|社区中非家庭中统计到的cli比例|COVID-like illness|\n",
    "|4|wbelief_masking_effective||相信戴口罩是有效的预防手段|Belief indicators|\n",
    "|5|wbelief_distancing_effective||相信远距离是有效的预防手段|Belief indicators|\n",
    "|6|wcovid_vaccinated_friends||他们的大多数朋友和家人都接种了新冠肺炎疫苗|Behavior indicators|\n",
    "|7|wlarge_event_indoors||参与过大于10人活动的百分比|Behavior indicators|\n",
    "|8|wothers_masked_public||受访者表示除他之外 ，大多数人或所有人在公共场合都戴口罩的估计百分比|Enviromental indicator|\n",
    "|9|wothers_distanced_public||受访者表示除他之外 ，大多数人或所有人在公共场所与他们保持至少为6英尺（1.8米）的估计百分比|Enviromental indicator|\n",
    "|10|wshop_indoors||去过室内市场、杂货店或药店的受访者的估计百分比|Behavior indicators|\n",
    "|11|wrestaurant_indoors||去过室内“酒吧、餐厅或咖啡馆”的受访者的估计百分比|Behavior indicators|\n",
    "|12|wworried_catch_covid||对新冠肺炎感到非常或适度担忧的受访者的估计百分比|Mental indicator|\n",
    "|13|hh_cmnty_cli||在当地社区报告新冠的人数包括他们的家人|COVID-like illness|\n",
    "|14|nohh_cmnty_cli||在当地社区报告新冠的人数，不包括他们的家人|COVID-like illness|\n",
    "|15|wearing_mask_7d||过去7天内大部分或所有时间在公共场合戴口罩的人|Enviromental indicator|\n",
    "|16|public_transit||使用公共交通|Behavior indicators|\n",
    "|17|worried_finances||表示非常担心或有点担心下个月家庭财务状况的受访者|Mental indicator|\n",
    "|18|tested_positive||检测呈阳性的病例|Tested Positive Cases|"
   ]
  },
  {
   "cell_type": "code",
   "execution_count": 10,
   "metadata": {
    "id": "HAvuF-1JqNjv",
    "tags": []
   },
   "outputs": [],
   "source": [
    "# print('--------------------------- COVID-like illness ----------------------------------')\n",
    "# print(ds_train.loc[:0,['id','cli','ili','wnohh_cmnty_cli','hh_cmnty_cli','nohh_cmnty_cli']])\n",
    "# print('--------------------------- Behavior indicators ----------------------------------')\n",
    "# print(ds_train.loc[:0,['id','wcovid_vaccinated_friends','wlarge_event_indoors','wshop_indoors','wrestaurant_indoors','public_transit']])\n",
    "# print('--------------------------- Belief indicators ----------------------------------')\n",
    "# print(ds_train.loc[:0,['id','wbelief_masking_effective','wbelief_distancing_effective']])\n",
    "# print('--------------------------- Mental indicator ----------------------------------')\n",
    "# print(ds_train.loc[:0,['id','wworried_catch_covid','worried_finances']])\n",
    "# print('--------------------------- Enviromental indicator ----------------------------------')\n",
    "# print(ds_train.loc[:0,['id','wothers_masked_public','wothers_distanced_public','wearing_mask_7d']])\n",
    "# print('--------------------------- Tested Positive Cases ----------------------------------')\n",
    "# print(ds_train.loc[:0,['id','tested_positive',]])"
   ]
  },
  {
   "cell_type": "markdown",
   "metadata": {
    "id": "0pgkOh2e9UjE"
   },
   "source": [
    "# Configurations\n",
    "`config` contains hyper-parameters for training and the path to save your model."
   ]
  },
  {
   "cell_type": "code",
   "execution_count": 11,
   "metadata": {
    "id": "QoWPUahCtoT6",
    "tags": []
   },
   "outputs": [],
   "source": [
    "device = 'cuda' if torch.cuda.is_available() else 'cpu'\n",
    "\n",
    "# 'select_features': np.r_[1:34,35:37,40:45,47:50,52,53:55,58:63,65:68,70,71:73,76:81,83:86], # Select columns with out id, Mental indicator\n",
    "config = {\n",
    "    'model_use_business': False,# 设计模型的时候，神经元数量的确实方式是按照feature数量来，还是按照2的N次方来\n",
    "    'seed': 19871201,      # Your seed number, you can pick your lucky number. :)\n",
    "    'select_all': False,   # Whether to use all features.\n",
    "    'select_features': [35,36,37,47,48,52,53,54,55,65,66,70,71,72,73,83,84],\n",
    "    'valid_ratio': 0.2,   # validation_size = train_size * valid_ratio\n",
    "    'n_epochs': 5000,     # Number of epochs.\n",
    "    'batch_size': 256,\n",
    "    'learning_rate': 1e-3,\n",
    "    'early_stop': 600,    # If model has not improved for this many consecutive epochs, stop training.\n",
    "    'weight_decay': 1e-6,\n",
    "    'save_path': './models/model.ckpt'  # Your model will be saved here.\n",
    "}"
   ]
  },
  {
   "cell_type": "markdown",
   "metadata": {
    "id": "cXNTj0qDWtK8"
   },
   "source": [
    "## 记录一些实验结果"
   ]
  },
  {
   "cell_type": "markdown",
   "metadata": {
    "id": "7NE3w7dODLK9"
   },
   "source": [
    "### Epoch [1000/1000]: Train loss: 0.8504, Valid loss: 0.8970\n",
    "将model的layer改为2的n次方，感觉效果一般\n",
    "```python\n",
    "# 将神经元得与业务解耦，将业务体现在input_dim,也就是feature_select上。\n",
    "# 下方linear的神经元数量修改为2的n次方\n",
    "layer_1_nodes = 64\n",
    "layer_2_nodes = 32\n",
    "layer_3_nodes = 16\n",
    "\n",
    "class My_Model(nn.Module):\n",
    "    def __init__(self, input_dim):\n",
    "        super(My_Model, self).__init__()\n",
    "        # TODO: modify model's structure, be aware of dimensions.\n",
    "        self.layers = nn.Sequential(\n",
    "            nn.Linear(input_dim, layer_1_nodes),\n",
    "            nn.ReLU(),\n",
    "            nn.Linear(layer_1_nodes, layer_2_nodes),\n",
    "            nn.ReLU(),\n",
    "            nn.Linear(layer_2_nodes, layer_3_nodes),\n",
    "            nn.ReLU(),\n",
    "            nn.Linear(layer_3_nodes, 1) # 最后归为一个阳性的数量\n",
    "        )\n",
    "\n",
    "    def forward(self, x):\n",
    "        x = self.layers(x)\n",
    "        x = x.squeeze(1) # (B, 1) -> (B)\n",
    "        return x\n",
    "```"
   ]
  },
  {
   "cell_type": "markdown",
   "metadata": {
    "id": "fXWwTo8L-1f7"
   },
   "source": [
    "### Epoch [1000/1000]: Train loss: 0.8320, Valid loss: 0.8807\n",
    "\n",
    "选feature时，更新了feature的筛选，将beilf和mental都去掉。同时，将feature放入config，这需要修改train时的代码\n",
    "```python\n",
    "config = {\n",
    "    'seed': 19871201,      # Your seed number, you can pick your lucky number. :)\n",
    "    'select_all': False,   # Whether to use all features.\n",
    "    'select_features': np.r_[1:34,35:37,40:45,47:50,52,53:55,58:63,65:68,70,71:73,76:81,83:86], # Select columns with out id, Mental indicator\n",
    "    'valid_ratio': 0.2,   # validation_size = train_size * valid_ratio\n",
    "    'n_epochs': 1000,     # Number of epochs.\n",
    "    'batch_size': 34*10,\n",
    "    'learning_rate': 1e-3,\n",
    "    'early_stop': 600,    # If model has not improved for this many consecutive epochs, stop training.\n",
    "    'weight_decay': 1e-6,\n",
    "    'save_path': './models/model.ckpt'  # Your model will be saved here.\n",
    "}\n",
    "\n",
    "x_train, x_valid, x_test, y_train, y_valid = select_feat(train_data, valid_data, test_data, config['select_all'], config['select_features'])\n",
    "```\n",
    "\n",
    "optimizer使用了Adam方法，并进行L2 Regularzation\n",
    "```python\n",
    "optimizer = torch.optim.Adam(model.parameters(), lr=config['learning_rate'], betas=(0.9, 0.999), eps=1e-08, weight_decay=config['weight_decay'], amsgrad=False)\n",
    "```"
   ]
  },
  {
   "cell_type": "markdown",
   "metadata": {
    "id": "MrtnC_rAX__s"
   },
   "source": [
    "### Epoch [1000/1000]: Train loss: 1.1560, Valid loss: 1.3151\n",
    "\n",
    "```python\n",
    "# define feature\n",
    "state_count = 34\n",
    "feature_count = 15\n",
    "feature_type_count = 4 # 去掉了一个心理因素\n",
    "neuron_nodes = state_count + feature_count*3 # 34个州，一共有15列有用特征*3天\n",
    "\n",
    "nn.Sequential(\n",
    "    nn.Linear(input_dim, neuron_nodes),\n",
    "    nn.ReLU(),\n",
    "    nn.Linear(neuron_nodes, feature_count),\n",
    "    nn.ReLU(),\n",
    "    nn.Linear(feature_count, feature_type_count),\n",
    "    nn.ReLU(),\n",
    "    nn.Linear(feature_type_count, 1) # 最后归为一个阳性的数量\n",
    ")\n",
    "\n",
    "feat_idx = np.r_[1:34,35:45,47:50,52,53:63,65:68,70,71:81,83:86] # Select columns with out id, Mental indicator\n",
    "```"
   ]
  },
  {
   "cell_type": "markdown",
   "metadata": {
    "id": "xfJ2XuRitJ7n"
   },
   "source": [
    "### Epoch [1000/1000]: Train loss: 4.8335, Valid loss: 3.4793\n",
    "\n",
    "```python\n",
    "class My_Model(nn.Module):\n",
    "    def __init__(self, input_dim):\n",
    "        super(My_Model, self).__init__()\n",
    "        # TODO: modify model's structure, be aware of dimensions.\n",
    "        self.layers = nn.Sequential(\n",
    "            nn.Linear(input_dim, 17),\n",
    "            nn.ReLU(),\n",
    "            nn.ReLU(),\n",
    "            nn.Linear(17, 5),\n",
    "            nn.ReLU(),\n",
    "            nn.ReLU(),\n",
    "            nn.Linear(5, 1)\n",
    "        )\n",
    "\n",
    "    def forward(self, x):\n",
    "        x = self.layers(x)\n",
    "        x = x.squeeze(1) # (B, 1) -> (B)\n",
    "        return x\n",
    "\n",
    "```"
   ]
  },
  {
   "cell_type": "markdown",
   "metadata": {
    "id": "HXjnXc7Ck-9N"
   },
   "source": [
    "### 下面这个原生网络的结果\n",
    "修改batch之后：\n",
    "\n",
    "\n",
    "Epoch [1000/1000]: Train loss: 5.5759, Valid loss: 2.4200\n",
    "\n",
    "Epoch [4569/5000]: Train loss: 1.2975, Valid loss: 1.9382\n",
    "\n",
    "``` python\n",
    "class My_Model(nn.Module):\n",
    "    def __init__(self, input_dim):\n",
    "        super(My_Model, self).__init__()\n",
    "        # TODO: modify model's structure, be aware of dimensions.\n",
    "        self.layers = nn.Sequential(\n",
    "            nn.Linear(input_dim, 16),\n",
    "            nn.ReLU(),\n",
    "            nn.Linear(16, 8),\n",
    "            nn.ReLU(),\n",
    "            nn.Linear(8, 1)\n",
    "        )\n",
    "\n",
    "    def forward(self, x):\n",
    "        x = self.layers(x)\n",
    "        x = x.squeeze(1) # (B, 1) -> (B)\n",
    "        return x\n",
    "```"
   ]
  },
  {
   "cell_type": "markdown",
   "metadata": {
    "id": "fTAVqRfc2KK3"
   },
   "source": [
    "# Some Utility Functions\n",
    "\n",
    "You do not need to modify this part."
   ]
  },
  {
   "cell_type": "code",
   "execution_count": 12,
   "metadata": {
    "id": "RbrcpfYN2I-H",
    "tags": []
   },
   "outputs": [],
   "source": [
    "def same_seed(seed):\n",
    "    '''Fixes random number generator seeds for reproducibility.'''\n",
    "    torch.backends.cudnn.deterministic = True\n",
    "    torch.backends.cudnn.benchmark = False\n",
    "    np.random.seed(seed)\n",
    "    torch.manual_seed(seed)\n",
    "    if torch.cuda.is_available():\n",
    "        torch.cuda.manual_seed_all(seed)\n",
    "\n",
    "def train_valid_split(data_set, valid_ratio, seed):\n",
    "    '''Split provided training data into training set and validation set'''\n",
    "    valid_set_size = int(valid_ratio * len(data_set))\n",
    "    train_set_size = len(data_set) - valid_set_size\n",
    "    train_set, valid_set = random_split(data_set, [train_set_size, valid_set_size], generator=torch.Generator().manual_seed(seed))\n",
    "    return np.array(train_set), np.array(valid_set)\n",
    "\n",
    "def predict(test_loader, model, device):\n",
    "    model.eval() # Set your model to evaluation mode.切换模型状态，后面还有model.train()，要来回切换使用，挺麻烦的\n",
    "    preds = []\n",
    "    for x in tqdm(test_loader):\n",
    "        x = x.to(device)\n",
    "        with torch.no_grad():\n",
    "            pred = model(x)\n",
    "            preds.append(pred.detach().cpu())\n",
    "    preds = torch.cat(preds, dim=0).numpy()\n",
    "    return preds"
   ]
  },
  {
   "cell_type": "markdown",
   "metadata": {
    "id": "IqO3lTm78nNO"
   },
   "source": [
    "# Dataset"
   ]
  },
  {
   "cell_type": "code",
   "execution_count": 13,
   "metadata": {
    "id": "-mjaJM0wprMs",
    "tags": []
   },
   "outputs": [],
   "source": [
    "class COVID19Dataset(Dataset):\n",
    "    '''\n",
    "    x: Features.\n",
    "    y: Targets, if none, do prediction.\n",
    "    '''\n",
    "    def __init__(self, x, y=None):\n",
    "        if y is None:\n",
    "            self.y = y\n",
    "        else:\n",
    "            self.y = torch.FloatTensor(y)\n",
    "        self.x = torch.FloatTensor(x)\n",
    "\n",
    "    def __getitem__(self, idx):\n",
    "        if self.y is None:\n",
    "            return self.x[idx]\n",
    "        else:\n",
    "            return self.x[idx], self.y[idx]\n",
    "\n",
    "    def __len__(self):\n",
    "        return len(self.x)"
   ]
  },
  {
   "cell_type": "markdown",
   "metadata": {
    "id": "m73ooU75CL_j"
   },
   "source": [
    "# Neural Network Model\n",
    "Try out different model architectures by modifying the class below."
   ]
  },
  {
   "cell_type": "code",
   "execution_count": 14,
   "metadata": {
    "id": "Qn97_WvvrEkG",
    "tags": []
   },
   "outputs": [],
   "source": [
    "# @title\n",
    "# 定义nn(nerual network) 一般需要重写init和forward方法\n",
    "# forward是前馈网络的意思\n",
    "\n",
    "# 将神经元得与业务解耦，将业务体现在input_dim,也就是feature_select上\n",
    "# 下方linear的神经元数量修改为2的n次方\n",
    "layer_1_nodes = 16\n",
    "layer_2_nodes = 8\n",
    "layer_3_nodes = 4\n",
    "\n",
    "if config['model_use_business']:\n",
    "  # define feature\n",
    "  state_count = 34\n",
    "  previous_count = 2\n",
    "  feature_count = 13\n",
    "  feature_type_count = 3 # 去掉了心理因素，相信因素\n",
    "  neuron_nodes = feature_count*3 # 34个州，一共有15列有用特征*3天\n",
    "\n",
    "  layer_1_nodes = neuron_nodes + previous_count\n",
    "  layer_2_nodes = feature_count+1 + previous_count\n",
    "  layer_3_nodes = feature_type_count+ previous_count\n",
    "\n",
    "class My_Model(nn.Module):\n",
    "    def __init__(self, input_dim):\n",
    "        super(My_Model, self).__init__()\n",
    "        # TODO: modify model's structure, be aware of dimensions.\n",
    "        self.layers = nn.Sequential(\n",
    "            nn.Linear(input_dim, layer_1_nodes),\n",
    "            nn.ReLU(),\n",
    "            nn.Linear(layer_1_nodes, layer_2_nodes),\n",
    "            nn.ReLU(),\n",
    "            nn.Linear(layer_2_nodes, layer_3_nodes),\n",
    "            nn.ReLU(),\n",
    "            nn.Linear(layer_3_nodes, 1) # 最后归为一个阳性的数量\n",
    "        )\n",
    "\n",
    "    def forward(self, x):\n",
    "        x = self.layers(x)\n",
    "        x = x.squeeze(1) # (B, 1) -> (B)\n",
    "        return x"
   ]
  },
  {
   "cell_type": "markdown",
   "metadata": {
    "id": "x5-LKF6R8xeq"
   },
   "source": [
    "# Feature Selection\n",
    "Choose features you deem useful by modifying the function below."
   ]
  },
  {
   "cell_type": "code",
   "execution_count": 15,
   "metadata": {
    "id": "fcfFEL0knEqi",
    "outputId": "b30d0628-9a8e-4075-cec3-f46bf1916251",
    "tags": []
   },
   "outputs": [
    {
     "name": "stdout",
     "output_type": "stream",
     "text": [
      "[35 36 37 47 48 52 53 54 55 65 66 70 71 72 73 83 84]\n"
     ]
    }
   ],
   "source": [
    "# np.r_[35:37,40:45,47:50,52,53:55,58:63,65:68,70,71:73,76:81,83:86], # 往期自定义的结果\n",
    "\n",
    "\n",
    "train_data_for_select = pd.read_csv(File_Path_Train).values\n",
    "# train_data_for_select, valid_data = train_valid_split(train_data_for_select, config['valid_ratio'], config['seed'])\n",
    "train_data_for_select_X,train_data_for_select_Y = train_data_for_select[:,:-1],train_data_for_select[:,-1]\n",
    "\n",
    "\n",
    "# k设置为17，其预估是将前两天的阳性人数和3天中相关度比较的因素取前5，最终返回的列如下：\n",
    "# cli   ili   wnohh_cmnty_cli   hh_cmnty_cli   nohh_cmnty_cli   tested_positive\n",
    "# cli.1 ili.1 wnohh_cmnty_cli.1 hh_cmnty_cli.1 nohh_cmnty_cli.1 tested_positive.1\n",
    "# cli.2 ili.2 wnohh_cmnty_cli.2 hh_cmnty_cli.2 nohh_cmnty_cli.2\n",
    "\n",
    "# k设置为2，只取两个因素，其方法返回的值为：\n",
    "# tested_positive，tested_positive.1\n",
    "\n",
    "# 从结果上看，返回的内容很不错\n",
    "\n",
    "def select_feat_sklearn(x,y):\n",
    " k=17\n",
    " x_new = SelectKBest(score_func=f_regression,k=k).fit(x,y)\n",
    " return x_new\n",
    "\n",
    "# print(train_data_for_select_X[:1,:])\n",
    "# train_data_for_select_X.shape\n",
    "# train_data_for_select_Y.shape\n",
    "# print(train_data_for_select_Y)\n",
    "\n",
    "features = select_feat_sklearn(train_data_for_select_X,train_data_for_select_Y)\n",
    "array = features.get_feature_names_out()\n",
    "for idx,name in enumerate(array):\n",
    " array[idx] = int(array[idx][1:])\n",
    "\n",
    "# [35 36 37 47 48 52 53 54 55 65 66 70 71 72 73 83 84]\n",
    "    \n",
    "print(array)\n",
    "# idx = np.argsort(features.scores_)[::1]\n",
    "# print(features[:3])\n"
   ]
  },
  {
   "cell_type": "code",
   "execution_count": 16,
   "metadata": {
    "id": "0FEnKRaIIeKp",
    "tags": []
   },
   "outputs": [],
   "source": [
    "# 参数select_all默认为True，代表默认会将所有列作为feature加入计算\n",
    "# 如果在训练过程中，有发现某几列可能关联性不大，可以排除出来，那要将select_all改为false，并手工导入列数\n",
    "def select_feat(train_data, valid_data, test_data, select_all=True, select_features=[]):\n",
    "    '''Selects useful features to perform regression'''\n",
    "    y_train, y_valid = train_data[:,-1], valid_data[:,-1]\n",
    "    raw_x_train, raw_x_valid, raw_x_test = train_data[:,:-1], valid_data[:,:-1], test_data\n",
    "\n",
    "    if select_all:\n",
    "        feat_idx = list(range(raw_x_train.shape[1]))\n",
    "    else:\n",
    "        feat_idx = select_features\n",
    "\n",
    "    return raw_x_train[:,feat_idx], raw_x_valid[:,feat_idx], raw_x_test[:,feat_idx], y_train, y_valid"
   ]
  },
  {
   "cell_type": "markdown",
   "metadata": {
    "id": "kADIPNQ2Ih5X"
   },
   "source": [
    "# Training Loop"
   ]
  },
  {
   "cell_type": "code",
   "execution_count": 17,
   "metadata": {
    "id": "2jc7ZfDot2t9",
    "outputId": "cade8a91-2559-4146-e5dd-4fb9e717a260",
    "tags": []
   },
   "outputs": [
    {
     "name": "stdout",
     "output_type": "stream",
     "text": [
      "train_data size: (2408, 89)\n",
      "valid_data size: (601, 89)\n",
      "test_data size: (997, 88)\n",
      "x_train\n",
      "[[ 1.3138593  1.2748362 15.7057702 ... 15.8342843 22.0118552 16.1409036]\n",
      " [ 1.6800285  1.7248551 16.6408925 ... 16.2795037 21.1383018 16.1498569]\n",
      " [ 0.8818757  0.9345295  9.7551765 ...  8.7525655 12.8101195  8.8501928]\n",
      " ...\n",
      " [ 1.0946756  1.1118771 11.7432324 ... 12.0424304 15.3299617 10.9991829]\n",
      " [ 3.6352241  3.7769054 26.5714705 ... 23.7412583 32.9247972 25.8964017]\n",
      " [ 3.6850859  3.7616652 33.6158757 ... 31.6886024 37.331582  31.3212202]]\n",
      "number of features: 17\n"
     ]
    }
   ],
   "source": [
    "same_seed(config['seed'])\n",
    "\n",
    "train_data, test_data = pd.read_csv(File_Path_Train).values, pd.read_csv(File_Path_Test).values\n",
    "train_data, valid_data = train_valid_split(train_data, config['valid_ratio'], config['seed'])\n",
    "\n",
    "# Print out the data size.\n",
    "print(f\"\"\"train_data size: {train_data.shape}\n",
    "valid_data size: {valid_data.shape}\n",
    "test_data size: {test_data.shape}\"\"\")\n",
    "\n",
    "# Select features\n",
    "x_train, x_valid, x_test, y_train, y_valid = select_feat(train_data, valid_data, test_data, config['select_all'], config['select_features'])\n",
    "\n",
    "print('x_train')\n",
    "print(x_train)\n",
    "\n",
    "# Print out the number of features.\n",
    "print(f'number of features: {x_train.shape[1]}')\n",
    "\n",
    "train_dataset, valid_dataset, test_dataset = COVID19Dataset(x_train, y_train), \\\n",
    "                                            COVID19Dataset(x_valid, y_valid), \\\n",
    "                                            COVID19Dataset(x_test)\n",
    "\n",
    "# Pytorch data loader loads pytorch dataset into batches.\n",
    "train_loader = DataLoader(train_dataset, batch_size=config['batch_size'], shuffle=True, pin_memory=True)\n",
    "valid_loader = DataLoader(valid_dataset, batch_size=config['batch_size'], shuffle=True, pin_memory=True)\n",
    "test_loader = DataLoader(test_dataset, batch_size=config['batch_size'], shuffle=False, pin_memory=True)"
   ]
  },
  {
   "cell_type": "code",
   "execution_count": 18,
   "metadata": {
    "id": "k4Rq8_TztAhq",
    "tags": []
   },
   "outputs": [],
   "source": [
    "def trainer(train_loader, valid_loader, model, config, device):\n",
    "\n",
    "    criterion = nn.MSELoss(reduction='mean') # Define your loss function, do not modify this.\n",
    "\n",
    "    # Define your optimization algorithm.\n",
    "    # TODO: Please check https://pytorch.org/docs/stable/optim.html to get more available algorithms.\n",
    "    # TODO: L2 regularization (optimizer(weight decay...) or implement by your self).\n",
    "    # optimizer = torch.optim.SGD(model.parameters(), lr=config['learning_rate'], momentum=0.9)\n",
    "    optimizer = torch.optim.Adam(model.parameters(), lr=config['learning_rate'], betas=(0.9, 0.999), eps=1e-08, weight_decay=config['weight_decay'], amsgrad=False)\n",
    "    writer = SummaryWriter() # Writer of tensoboard.\n",
    "\n",
    "    if not os.path.isdir('./models'):\n",
    "        os.mkdir('./models') # Create directory of saving models.\n",
    "\n",
    "    n_epochs, best_loss, step, early_stop_count = config['n_epochs'], math.inf, 0, 0\n",
    "\n",
    "    for epoch in range(n_epochs):\n",
    "        model.train() # Set your model to train mode.\n",
    "        loss_record = []\n",
    "\n",
    "        # tqdm is a package to visualize your training progress.\n",
    "        train_pbar = tqdm(train_loader, position=0, leave=True)\n",
    "\n",
    "        for x, y in train_pbar:\n",
    "            optimizer.zero_grad()               # Set gradient to zero.\n",
    "            x, y = x.to(device), y.to(device)   # Move your data to device.\n",
    "            pred = model(x)\n",
    "            loss = criterion(pred, y)\n",
    "            loss.backward()                     # Compute gradient(backpropagation).\n",
    "            optimizer.step()                    # Update parameters.\n",
    "            step += 1\n",
    "            loss_record.append(loss.detach().item())\n",
    "\n",
    "            # Display current epoch number and loss on tqdm progress bar.\n",
    "            train_pbar.set_description(f'Epoch [{epoch+1}/{n_epochs}]')\n",
    "            train_pbar.set_postfix({'loss': loss.detach().item()})\n",
    "\n",
    "        mean_train_loss = sum(loss_record)/len(loss_record)\n",
    "        # writer.add_scalar('Loss/train', mean_train_loss, step)\n",
    "\n",
    "        model.eval() # Set your model to evaluation mode.\n",
    "        loss_record = []\n",
    "        for x, y in valid_loader:\n",
    "            x, y = x.to(device), y.to(device)\n",
    "            with torch.no_grad():\n",
    "                pred = model(x)\n",
    "                loss = criterion(pred, y)\n",
    "\n",
    "            loss_record.append(loss.item())\n",
    "\n",
    "        mean_valid_loss = sum(loss_record)/len(loss_record)\n",
    "        if(epoch%100 == 0):\n",
    "            print(f'Epoch [{epoch+1}/{n_epochs}]: Train loss: {mean_train_loss:.4f}, Valid loss: {mean_valid_loss:.4f}')\n",
    "        # writer.add_scalar('Loss/valid', mean_valid_loss, step)\n",
    "\n",
    "        if mean_valid_loss < best_loss:\n",
    "            best_loss = mean_valid_loss\n",
    "            torch.save(model.state_dict(), config['save_path'] + str(best_loss)) # Save your best model\n",
    "            print('Saving model with loss {:.3f}...'.format(best_loss))\n",
    "            early_stop_count = 0\n",
    "        else:\n",
    "            early_stop_count += 1\n",
    "\n",
    "        if early_stop_count >= config['early_stop']:\n",
    "            print('\\nModel is not improving, so we halt the training session.')\n",
    "            print('Model current loss {:.3f}'.format(best_loss))\n",
    "            return"
   ]
  },
  {
   "cell_type": "markdown",
   "metadata": {
    "id": "lrS-aJJh9XkW"
   },
   "source": [
    "# Dataloader\n",
    "Read data from files and set up training, validation, and testing sets. You do not need to modify this part."
   ]
  },
  {
   "cell_type": "markdown",
   "metadata": {
    "id": "0OBYgjCA-YwD"
   },
   "source": [
    "# Start training!"
   ]
  },
  {
   "cell_type": "code",
   "execution_count": null,
   "metadata": {
    "id": "YdttVRkAfu2t",
    "outputId": "df986cc1-27a0-41f4-c7ce-4c808c41d533",
    "tags": []
   },
   "outputs": [
    {
     "name": "stderr",
     "output_type": "stream",
     "text": [
      "Epoch [1/5000]: 100%|██████████| 10/10 [00:03<00:00,  2.67it/s, loss=312]\n"
     ]
    },
    {
     "name": "stdout",
     "output_type": "stream",
     "text": [
      "Epoch [1/5000]: Train loss: 383.3497, Valid loss: 376.6558\n",
      "Saving model with loss 376.656...\n"
     ]
    },
    {
     "name": "stderr",
     "output_type": "stream",
     "text": [
      "Epoch [2/5000]: 100%|██████████| 10/10 [00:00<00:00, 263.02it/s, loss=317]\n"
     ]
    },
    {
     "name": "stdout",
     "output_type": "stream",
     "text": [
      "Epoch [2/5000]: Train loss: 383.2822, Valid loss: 399.6446\n"
     ]
    },
    {
     "name": "stderr",
     "output_type": "stream",
     "text": [
      "Epoch [3/5000]: 100%|██████████| 10/10 [00:00<00:00, 284.02it/s, loss=458]\n"
     ]
    },
    {
     "name": "stdout",
     "output_type": "stream",
     "text": [
      "Epoch [3/5000]: Train loss: 391.3567, Valid loss: 389.9184\n"
     ]
    },
    {
     "name": "stderr",
     "output_type": "stream",
     "text": [
      "Epoch [4/5000]: 100%|██████████| 10/10 [00:00<00:00, 282.06it/s, loss=381]\n"
     ]
    },
    {
     "name": "stdout",
     "output_type": "stream",
     "text": [
      "Epoch [4/5000]: Train loss: 386.4864, Valid loss: 402.2886\n"
     ]
    },
    {
     "name": "stderr",
     "output_type": "stream",
     "text": [
      "Epoch [5/5000]: 100%|██████████| 10/10 [00:00<00:00, 212.91it/s, loss=384]\n"
     ]
    },
    {
     "name": "stdout",
     "output_type": "stream",
     "text": [
      "Epoch [5/5000]: Train loss: 386.3413, Valid loss: 384.9726\n"
     ]
    },
    {
     "name": "stderr",
     "output_type": "stream",
     "text": [
      "Epoch [6/5000]: 100%|██████████| 10/10 [00:00<00:00, 292.76it/s, loss=393]\n"
     ]
    },
    {
     "name": "stdout",
     "output_type": "stream",
     "text": [
      "Epoch [6/5000]: Train loss: 386.5272, Valid loss: 394.2755\n"
     ]
    },
    {
     "name": "stderr",
     "output_type": "stream",
     "text": [
      "Epoch [7/5000]: 100%|██████████| 10/10 [00:00<00:00, 215.44it/s, loss=458]\n"
     ]
    },
    {
     "name": "stdout",
     "output_type": "stream",
     "text": [
      "Epoch [7/5000]: Train loss: 390.0890, Valid loss: 393.4238\n"
     ]
    },
    {
     "name": "stderr",
     "output_type": "stream",
     "text": [
      "Epoch [8/5000]: 100%|██████████| 10/10 [00:00<00:00, 300.29it/s, loss=384]\n"
     ]
    },
    {
     "name": "stdout",
     "output_type": "stream",
     "text": [
      "Epoch [8/5000]: Train loss: 385.3380, Valid loss: 389.9320\n"
     ]
    },
    {
     "name": "stderr",
     "output_type": "stream",
     "text": [
      "Epoch [9/5000]: 100%|██████████| 10/10 [00:00<00:00, 297.63it/s, loss=426]\n"
     ]
    },
    {
     "name": "stdout",
     "output_type": "stream",
     "text": [
      "Epoch [9/5000]: Train loss: 387.5667, Valid loss: 380.7877\n"
     ]
    },
    {
     "name": "stderr",
     "output_type": "stream",
     "text": [
      "Epoch [10/5000]: 100%|██████████| 10/10 [00:00<00:00, 202.17it/s, loss=390]\n"
     ]
    },
    {
     "name": "stdout",
     "output_type": "stream",
     "text": [
      "Epoch [10/5000]: Train loss: 385.0837, Valid loss: 397.5418\n"
     ]
    },
    {
     "name": "stderr",
     "output_type": "stream",
     "text": [
      "Epoch [11/5000]: 100%|██████████| 10/10 [00:00<00:00, 295.03it/s, loss=429]\n"
     ]
    },
    {
     "name": "stdout",
     "output_type": "stream",
     "text": [
      "Epoch [11/5000]: Train loss: 387.1082, Valid loss: 373.2898\n",
      "Saving model with loss 373.290...\n"
     ]
    },
    {
     "name": "stderr",
     "output_type": "stream",
     "text": [
      "Epoch [12/5000]: 100%|██████████| 10/10 [00:00<00:00, 323.59it/s, loss=389]\n"
     ]
    },
    {
     "name": "stdout",
     "output_type": "stream",
     "text": [
      "Epoch [12/5000]: Train loss: 384.3653, Valid loss: 378.9699\n"
     ]
    },
    {
     "name": "stderr",
     "output_type": "stream",
     "text": [
      "Epoch [13/5000]: 100%|██████████| 10/10 [00:00<00:00, 302.16it/s, loss=427]\n"
     ]
    },
    {
     "name": "stdout",
     "output_type": "stream",
     "text": [
      "Epoch [13/5000]: Train loss: 386.3131, Valid loss: 382.5679\n"
     ]
    },
    {
     "name": "stderr",
     "output_type": "stream",
     "text": [
      "Epoch [14/5000]: 100%|██████████| 10/10 [00:00<00:00, 262.61it/s, loss=449]\n"
     ]
    },
    {
     "name": "stdout",
     "output_type": "stream",
     "text": [
      "Epoch [14/5000]: Train loss: 387.2889, Valid loss: 389.3155\n"
     ]
    },
    {
     "name": "stderr",
     "output_type": "stream",
     "text": [
      "Epoch [15/5000]: 100%|██████████| 10/10 [00:00<00:00, 312.93it/s, loss=324]\n"
     ]
    },
    {
     "name": "stdout",
     "output_type": "stream",
     "text": [
      "Epoch [15/5000]: Train loss: 379.6003, Valid loss: 382.7310\n"
     ]
    },
    {
     "name": "stderr",
     "output_type": "stream",
     "text": [
      "Epoch [16/5000]: 100%|██████████| 10/10 [00:00<00:00, 299.71it/s, loss=355]\n"
     ]
    },
    {
     "name": "stdout",
     "output_type": "stream",
     "text": [
      "Epoch [16/5000]: Train loss: 381.0709, Valid loss: 388.1866\n"
     ]
    },
    {
     "name": "stderr",
     "output_type": "stream",
     "text": [
      "Epoch [17/5000]: 100%|██████████| 10/10 [00:00<00:00, 304.10it/s, loss=304]\n"
     ]
    },
    {
     "name": "stdout",
     "output_type": "stream",
     "text": [
      "Epoch [17/5000]: Train loss: 377.7501, Valid loss: 381.4165\n"
     ]
    },
    {
     "name": "stderr",
     "output_type": "stream",
     "text": [
      "Epoch [18/5000]: 100%|██████████| 10/10 [00:00<00:00, 277.11it/s, loss=367]\n"
     ]
    },
    {
     "name": "stdout",
     "output_type": "stream",
     "text": [
      "Epoch [18/5000]: Train loss: 381.1838, Valid loss: 396.6018\n"
     ]
    },
    {
     "name": "stderr",
     "output_type": "stream",
     "text": [
      "Epoch [19/5000]: 100%|██████████| 10/10 [00:00<00:00, 308.34it/s, loss=296]\n"
     ]
    },
    {
     "name": "stdout",
     "output_type": "stream",
     "text": [
      "Epoch [19/5000]: Train loss: 376.6424, Valid loss: 384.2643\n"
     ]
    },
    {
     "name": "stderr",
     "output_type": "stream",
     "text": [
      "Epoch [20/5000]: 100%|██████████| 10/10 [00:00<00:00, 315.04it/s, loss=420]\n"
     ]
    },
    {
     "name": "stdout",
     "output_type": "stream",
     "text": [
      "Epoch [20/5000]: Train loss: 383.7232, Valid loss: 382.7307\n"
     ]
    },
    {
     "name": "stderr",
     "output_type": "stream",
     "text": [
      "Epoch [21/5000]: 100%|██████████| 10/10 [00:00<00:00, 299.60it/s, loss=374]\n"
     ]
    },
    {
     "name": "stdout",
     "output_type": "stream",
     "text": [
      "Epoch [21/5000]: Train loss: 380.6776, Valid loss: 383.9329\n"
     ]
    },
    {
     "name": "stderr",
     "output_type": "stream",
     "text": [
      "Epoch [22/5000]: 100%|██████████| 10/10 [00:00<00:00, 263.82it/s, loss=418]\n"
     ]
    },
    {
     "name": "stdout",
     "output_type": "stream",
     "text": [
      "Epoch [22/5000]: Train loss: 382.9220, Valid loss: 366.5770\n",
      "Saving model with loss 366.577...\n"
     ]
    },
    {
     "name": "stderr",
     "output_type": "stream",
     "text": [
      "Epoch [23/5000]: 100%|██████████| 10/10 [00:00<00:00, 252.20it/s, loss=367]\n"
     ]
    },
    {
     "name": "stdout",
     "output_type": "stream",
     "text": [
      "Epoch [23/5000]: Train loss: 379.6095, Valid loss: 370.2920\n"
     ]
    },
    {
     "name": "stderr",
     "output_type": "stream",
     "text": [
      "Epoch [24/5000]: 100%|██████████| 10/10 [00:00<00:00, 249.36it/s, loss=386]\n"
     ]
    },
    {
     "name": "stdout",
     "output_type": "stream",
     "text": [
      "Epoch [24/5000]: Train loss: 380.4464, Valid loss: 383.8401\n"
     ]
    },
    {
     "name": "stderr",
     "output_type": "stream",
     "text": [
      "Epoch [25/5000]: 100%|██████████| 10/10 [00:00<00:00, 245.88it/s, loss=365]\n"
     ]
    },
    {
     "name": "stdout",
     "output_type": "stream",
     "text": [
      "Epoch [25/5000]: Train loss: 378.8775, Valid loss: 380.5204\n"
     ]
    },
    {
     "name": "stderr",
     "output_type": "stream",
     "text": [
      "Epoch [26/5000]: 100%|██████████| 10/10 [00:00<00:00, 244.72it/s, loss=320]\n"
     ]
    },
    {
     "name": "stdout",
     "output_type": "stream",
     "text": [
      "Epoch [26/5000]: Train loss: 375.8696, Valid loss: 388.5535\n"
     ]
    },
    {
     "name": "stderr",
     "output_type": "stream",
     "text": [
      "Epoch [27/5000]: 100%|██████████| 10/10 [00:00<00:00, 259.35it/s, loss=381]\n"
     ]
    },
    {
     "name": "stdout",
     "output_type": "stream",
     "text": [
      "Epoch [27/5000]: Train loss: 379.2037, Valid loss: 374.0441\n"
     ]
    },
    {
     "name": "stderr",
     "output_type": "stream",
     "text": [
      "Epoch [28/5000]: 100%|██████████| 10/10 [00:00<00:00, 275.48it/s, loss=407]\n"
     ]
    },
    {
     "name": "stdout",
     "output_type": "stream",
     "text": [
      "Epoch [28/5000]: Train loss: 380.3872, Valid loss: 381.8938\n"
     ]
    },
    {
     "name": "stderr",
     "output_type": "stream",
     "text": [
      "Epoch [29/5000]: 100%|██████████| 10/10 [00:00<00:00, 237.34it/s, loss=490]\n"
     ]
    },
    {
     "name": "stdout",
     "output_type": "stream",
     "text": [
      "Epoch [29/5000]: Train loss: 385.0009, Valid loss: 373.4389\n"
     ]
    },
    {
     "name": "stderr",
     "output_type": "stream",
     "text": [
      "Epoch [30/5000]: 100%|██████████| 10/10 [00:00<00:00, 185.59it/s, loss=402]\n"
     ]
    },
    {
     "name": "stdout",
     "output_type": "stream",
     "text": [
      "Epoch [30/5000]: Train loss: 379.4925, Valid loss: 379.4751\n"
     ]
    },
    {
     "name": "stderr",
     "output_type": "stream",
     "text": [
      "Epoch [31/5000]: 100%|██████████| 10/10 [00:00<00:00, 300.92it/s, loss=375]\n"
     ]
    },
    {
     "name": "stdout",
     "output_type": "stream",
     "text": [
      "Epoch [31/5000]: Train loss: 377.5716, Valid loss: 361.4354\n",
      "Saving model with loss 361.435...\n"
     ]
    },
    {
     "name": "stderr",
     "output_type": "stream",
     "text": [
      "Epoch [32/5000]: 100%|██████████| 10/10 [00:00<00:00, 295.21it/s, loss=461]\n"
     ]
    },
    {
     "name": "stdout",
     "output_type": "stream",
     "text": [
      "Epoch [32/5000]: Train loss: 382.3510, Valid loss: 368.5357\n"
     ]
    },
    {
     "name": "stderr",
     "output_type": "stream",
     "text": [
      "Epoch [33/5000]: 100%|██████████| 10/10 [00:00<00:00, 266.64it/s, loss=407]\n"
     ]
    },
    {
     "name": "stdout",
     "output_type": "stream",
     "text": [
      "Epoch [33/5000]: Train loss: 378.8229, Valid loss: 389.5262\n"
     ]
    },
    {
     "name": "stderr",
     "output_type": "stream",
     "text": [
      "Epoch [34/5000]: 100%|██████████| 10/10 [00:00<00:00, 70.32it/s, loss=403]\n"
     ]
    },
    {
     "name": "stdout",
     "output_type": "stream",
     "text": [
      "Epoch [34/5000]: Train loss: 378.3030, Valid loss: 388.3046\n"
     ]
    },
    {
     "name": "stderr",
     "output_type": "stream",
     "text": [
      "Epoch [35/5000]: 100%|██████████| 10/10 [00:00<00:00, 301.35it/s, loss=262]\n"
     ]
    },
    {
     "name": "stdout",
     "output_type": "stream",
     "text": [
      "Epoch [35/5000]: Train loss: 369.6217, Valid loss: 389.6921\n"
     ]
    },
    {
     "name": "stderr",
     "output_type": "stream",
     "text": [
      "Epoch [36/5000]: 100%|██████████| 10/10 [00:00<00:00, 291.38it/s, loss=393]\n"
     ]
    },
    {
     "name": "stdout",
     "output_type": "stream",
     "text": [
      "Epoch [36/5000]: Train loss: 377.0825, Valid loss: 372.1512\n"
     ]
    },
    {
     "name": "stderr",
     "output_type": "stream",
     "text": [
      "Epoch [37/5000]: 100%|██████████| 10/10 [00:00<00:00, 319.68it/s, loss=336]\n"
     ]
    },
    {
     "name": "stdout",
     "output_type": "stream",
     "text": [
      "Epoch [37/5000]: Train loss: 373.4066, Valid loss: 376.4251\n"
     ]
    },
    {
     "name": "stderr",
     "output_type": "stream",
     "text": [
      "Epoch [38/5000]: 100%|██████████| 10/10 [00:00<00:00, 300.81it/s, loss=390]\n"
     ]
    },
    {
     "name": "stdout",
     "output_type": "stream",
     "text": [
      "Epoch [38/5000]: Train loss: 376.2586, Valid loss: 377.5220\n"
     ]
    },
    {
     "name": "stderr",
     "output_type": "stream",
     "text": [
      "Epoch [39/5000]: 100%|██████████| 10/10 [00:00<00:00, 255.70it/s, loss=441]\n"
     ]
    },
    {
     "name": "stdout",
     "output_type": "stream",
     "text": [
      "Epoch [39/5000]: Train loss: 378.9932, Valid loss: 379.9924\n"
     ]
    },
    {
     "name": "stderr",
     "output_type": "stream",
     "text": [
      "Epoch [40/5000]: 100%|██████████| 10/10 [00:00<00:00, 292.66it/s, loss=330]\n"
     ]
    },
    {
     "name": "stdout",
     "output_type": "stream",
     "text": [
      "Epoch [40/5000]: Train loss: 372.0816, Valid loss: 392.2930\n"
     ]
    },
    {
     "name": "stderr",
     "output_type": "stream",
     "text": [
      "Epoch [41/5000]: 100%|██████████| 10/10 [00:00<00:00, 299.38it/s, loss=407]\n"
     ]
    },
    {
     "name": "stdout",
     "output_type": "stream",
     "text": [
      "Epoch [41/5000]: Train loss: 376.3860, Valid loss: 369.2705\n"
     ]
    },
    {
     "name": "stderr",
     "output_type": "stream",
     "text": [
      "Epoch [42/5000]: 100%|██████████| 10/10 [00:00<00:00, 272.22it/s, loss=435]\n"
     ]
    },
    {
     "name": "stdout",
     "output_type": "stream",
     "text": [
      "Epoch [42/5000]: Train loss: 377.6968, Valid loss: 393.6333\n"
     ]
    },
    {
     "name": "stderr",
     "output_type": "stream",
     "text": [
      "Epoch [43/5000]: 100%|██████████| 10/10 [00:00<00:00, 303.70it/s, loss=313]\n"
     ]
    },
    {
     "name": "stdout",
     "output_type": "stream",
     "text": [
      "Epoch [43/5000]: Train loss: 370.1356, Valid loss: 389.1812\n"
     ]
    },
    {
     "name": "stderr",
     "output_type": "stream",
     "text": [
      "Epoch [44/5000]: 100%|██████████| 10/10 [00:00<00:00, 283.51it/s, loss=452]\n"
     ]
    },
    {
     "name": "stdout",
     "output_type": "stream",
     "text": [
      "Epoch [44/5000]: Train loss: 378.1296, Valid loss: 368.0308\n"
     ]
    },
    {
     "name": "stderr",
     "output_type": "stream",
     "text": [
      "Epoch [45/5000]: 100%|██████████| 10/10 [00:00<00:00, 295.18it/s, loss=363]\n"
     ]
    },
    {
     "name": "stdout",
     "output_type": "stream",
     "text": [
      "Epoch [45/5000]: Train loss: 372.4947, Valid loss: 392.4685\n"
     ]
    },
    {
     "name": "stderr",
     "output_type": "stream",
     "text": [
      "Epoch [46/5000]: 100%|██████████| 10/10 [00:00<00:00, 241.74it/s, loss=356]\n"
     ]
    },
    {
     "name": "stdout",
     "output_type": "stream",
     "text": [
      "Epoch [46/5000]: Train loss: 371.7697, Valid loss: 392.3937\n"
     ]
    },
    {
     "name": "stderr",
     "output_type": "stream",
     "text": [
      "Epoch [47/5000]: 100%|██████████| 10/10 [00:00<00:00, 264.11it/s, loss=421]\n"
     ]
    },
    {
     "name": "stdout",
     "output_type": "stream",
     "text": [
      "Epoch [47/5000]: Train loss: 375.3687, Valid loss: 386.0233\n"
     ]
    },
    {
     "name": "stderr",
     "output_type": "stream",
     "text": [
      "Epoch [48/5000]: 100%|██████████| 10/10 [00:00<00:00, 276.01it/s, loss=344]\n"
     ]
    },
    {
     "name": "stdout",
     "output_type": "stream",
     "text": [
      "Epoch [48/5000]: Train loss: 370.4892, Valid loss: 369.0329\n"
     ]
    },
    {
     "name": "stderr",
     "output_type": "stream",
     "text": [
      "Epoch [49/5000]: 100%|██████████| 10/10 [00:00<00:00, 261.79it/s, loss=349]\n"
     ]
    },
    {
     "name": "stdout",
     "output_type": "stream",
     "text": [
      "Epoch [49/5000]: Train loss: 370.4634, Valid loss: 375.3754\n"
     ]
    },
    {
     "name": "stderr",
     "output_type": "stream",
     "text": [
      "Epoch [50/5000]: 100%|██████████| 10/10 [00:00<00:00, 299.35it/s, loss=349]\n"
     ]
    },
    {
     "name": "stdout",
     "output_type": "stream",
     "text": [
      "Epoch [50/5000]: Train loss: 370.1350, Valid loss: 387.2258\n"
     ]
    },
    {
     "name": "stderr",
     "output_type": "stream",
     "text": [
      "Epoch [51/5000]: 100%|██████████| 10/10 [00:00<00:00, 334.44it/s, loss=389]\n"
     ]
    },
    {
     "name": "stdout",
     "output_type": "stream",
     "text": [
      "Epoch [51/5000]: Train loss: 372.2363, Valid loss: 378.1797\n"
     ]
    },
    {
     "name": "stderr",
     "output_type": "stream",
     "text": [
      "Epoch [52/5000]: 100%|██████████| 10/10 [00:00<00:00, 358.20it/s, loss=382]\n"
     ]
    },
    {
     "name": "stdout",
     "output_type": "stream",
     "text": [
      "Epoch [52/5000]: Train loss: 371.5001, Valid loss: 373.4012\n"
     ]
    },
    {
     "name": "stderr",
     "output_type": "stream",
     "text": [
      "Epoch [53/5000]: 100%|██████████| 10/10 [00:00<00:00, 338.64it/s, loss=342]\n"
     ]
    },
    {
     "name": "stdout",
     "output_type": "stream",
     "text": [
      "Epoch [53/5000]: Train loss: 368.8315, Valid loss: 362.1770\n"
     ]
    },
    {
     "name": "stderr",
     "output_type": "stream",
     "text": [
      "Epoch [54/5000]: 100%|██████████| 10/10 [00:00<00:00, 334.27it/s, loss=328]\n"
     ]
    },
    {
     "name": "stdout",
     "output_type": "stream",
     "text": [
      "Epoch [54/5000]: Train loss: 367.6565, Valid loss: 390.7021\n"
     ]
    },
    {
     "name": "stderr",
     "output_type": "stream",
     "text": [
      "Epoch [55/5000]: 100%|██████████| 10/10 [00:00<00:00, 346.12it/s, loss=363]\n"
     ]
    },
    {
     "name": "stdout",
     "output_type": "stream",
     "text": [
      "Epoch [55/5000]: Train loss: 369.4151, Valid loss: 363.6025\n"
     ]
    },
    {
     "name": "stderr",
     "output_type": "stream",
     "text": [
      "Epoch [56/5000]: 100%|██████████| 10/10 [00:00<00:00, 345.41it/s, loss=386]\n"
     ]
    },
    {
     "name": "stdout",
     "output_type": "stream",
     "text": [
      "Epoch [56/5000]: Train loss: 370.4853, Valid loss: 359.1085\n",
      "Saving model with loss 359.109...\n"
     ]
    },
    {
     "name": "stderr",
     "output_type": "stream",
     "text": [
      "Epoch [57/5000]: 100%|██████████| 10/10 [00:00<00:00, 358.32it/s, loss=447]\n"
     ]
    },
    {
     "name": "stdout",
     "output_type": "stream",
     "text": [
      "Epoch [57/5000]: Train loss: 373.8257, Valid loss: 374.5177\n"
     ]
    },
    {
     "name": "stderr",
     "output_type": "stream",
     "text": [
      "Epoch [58/5000]: 100%|██████████| 10/10 [00:00<00:00, 323.77it/s, loss=479]\n"
     ]
    },
    {
     "name": "stdout",
     "output_type": "stream",
     "text": [
      "Epoch [58/5000]: Train loss: 375.4138, Valid loss: 379.5147\n"
     ]
    },
    {
     "name": "stderr",
     "output_type": "stream",
     "text": [
      "Epoch [59/5000]: 100%|██████████| 10/10 [00:00<00:00, 324.14it/s, loss=341]\n"
     ]
    },
    {
     "name": "stdout",
     "output_type": "stream",
     "text": [
      "Epoch [59/5000]: Train loss: 366.9044, Valid loss: 394.5166\n"
     ]
    },
    {
     "name": "stderr",
     "output_type": "stream",
     "text": [
      "Epoch [60/5000]: 100%|██████████| 10/10 [00:00<00:00, 354.79it/s, loss=311]\n"
     ]
    },
    {
     "name": "stdout",
     "output_type": "stream",
     "text": [
      "Epoch [60/5000]: Train loss: 364.8379, Valid loss: 369.0917\n"
     ]
    },
    {
     "name": "stderr",
     "output_type": "stream",
     "text": [
      "Epoch [61/5000]: 100%|██████████| 10/10 [00:00<00:00, 337.60it/s, loss=280]\n"
     ]
    },
    {
     "name": "stdout",
     "output_type": "stream",
     "text": [
      "Epoch [61/5000]: Train loss: 362.6979, Valid loss: 371.5320\n"
     ]
    },
    {
     "name": "stderr",
     "output_type": "stream",
     "text": [
      "Epoch [62/5000]: 100%|██████████| 10/10 [00:00<00:00, 305.24it/s, loss=374]\n"
     ]
    },
    {
     "name": "stdout",
     "output_type": "stream",
     "text": [
      "Epoch [62/5000]: Train loss: 367.9672, Valid loss: 360.2490\n"
     ]
    },
    {
     "name": "stderr",
     "output_type": "stream",
     "text": [
      "Epoch [63/5000]: 100%|██████████| 10/10 [00:00<00:00, 297.53it/s, loss=374]\n"
     ]
    },
    {
     "name": "stdout",
     "output_type": "stream",
     "text": [
      "Epoch [63/5000]: Train loss: 367.6545, Valid loss: 373.1875\n"
     ]
    },
    {
     "name": "stderr",
     "output_type": "stream",
     "text": [
      "Epoch [64/5000]: 100%|██████████| 10/10 [00:00<00:00, 303.84it/s, loss=409]\n"
     ]
    },
    {
     "name": "stdout",
     "output_type": "stream",
     "text": [
      "Epoch [64/5000]: Train loss: 369.4506, Valid loss: 372.8156\n"
     ]
    },
    {
     "name": "stderr",
     "output_type": "stream",
     "text": [
      "Epoch [65/5000]: 100%|██████████| 10/10 [00:00<00:00, 271.18it/s, loss=338]\n"
     ]
    },
    {
     "name": "stdout",
     "output_type": "stream",
     "text": [
      "Epoch [65/5000]: Train loss: 364.8899, Valid loss: 377.0067\n"
     ]
    },
    {
     "name": "stderr",
     "output_type": "stream",
     "text": [
      "Epoch [66/5000]: 100%|██████████| 10/10 [00:00<00:00, 261.02it/s, loss=361]\n"
     ]
    },
    {
     "name": "stdout",
     "output_type": "stream",
     "text": [
      "Epoch [66/5000]: Train loss: 365.9787, Valid loss: 364.0429\n"
     ]
    },
    {
     "name": "stderr",
     "output_type": "stream",
     "text": [
      "Epoch [67/5000]: 100%|██████████| 10/10 [00:00<00:00, 285.40it/s, loss=458]\n"
     ]
    },
    {
     "name": "stdout",
     "output_type": "stream",
     "text": [
      "Epoch [67/5000]: Train loss: 371.4257, Valid loss: 372.3297\n"
     ]
    },
    {
     "name": "stderr",
     "output_type": "stream",
     "text": [
      "Epoch [68/5000]: 100%|██████████| 10/10 [00:00<00:00, 291.24it/s, loss=336]\n"
     ]
    },
    {
     "name": "stdout",
     "output_type": "stream",
     "text": [
      "Epoch [68/5000]: Train loss: 363.8857, Valid loss: 380.3225\n"
     ]
    },
    {
     "name": "stderr",
     "output_type": "stream",
     "text": [
      "Epoch [69/5000]: 100%|██████████| 10/10 [00:00<00:00, 294.64it/s, loss=414]\n"
     ]
    },
    {
     "name": "stdout",
     "output_type": "stream",
     "text": [
      "Epoch [69/5000]: Train loss: 368.2327, Valid loss: 356.0246\n",
      "Saving model with loss 356.025...\n"
     ]
    },
    {
     "name": "stderr",
     "output_type": "stream",
     "text": [
      "Epoch [70/5000]: 100%|██████████| 10/10 [00:00<00:00, 278.79it/s, loss=334]\n"
     ]
    },
    {
     "name": "stdout",
     "output_type": "stream",
     "text": [
      "Epoch [70/5000]: Train loss: 363.1904, Valid loss: 359.3259\n"
     ]
    },
    {
     "name": "stderr",
     "output_type": "stream",
     "text": [
      "Epoch [71/5000]: 100%|██████████| 10/10 [00:00<00:00, 264.26it/s, loss=341]\n"
     ]
    },
    {
     "name": "stdout",
     "output_type": "stream",
     "text": [
      "Epoch [71/5000]: Train loss: 363.2686, Valid loss: 367.1188\n"
     ]
    },
    {
     "name": "stderr",
     "output_type": "stream",
     "text": [
      "Epoch [72/5000]: 100%|██████████| 10/10 [00:00<00:00, 260.55it/s, loss=396]\n"
     ]
    },
    {
     "name": "stdout",
     "output_type": "stream",
     "text": [
      "Epoch [72/5000]: Train loss: 366.2377, Valid loss: 363.1954\n"
     ]
    },
    {
     "name": "stderr",
     "output_type": "stream",
     "text": [
      "Epoch [73/5000]: 100%|██████████| 10/10 [00:00<00:00, 257.29it/s, loss=391]\n"
     ]
    },
    {
     "name": "stdout",
     "output_type": "stream",
     "text": [
      "Epoch [73/5000]: Train loss: 365.6274, Valid loss: 360.2153\n"
     ]
    },
    {
     "name": "stderr",
     "output_type": "stream",
     "text": [
      "Epoch [74/5000]: 100%|██████████| 10/10 [00:00<00:00, 224.44it/s, loss=415]\n"
     ]
    },
    {
     "name": "stdout",
     "output_type": "stream",
     "text": [
      "Epoch [74/5000]: Train loss: 366.7405, Valid loss: 362.0332\n"
     ]
    },
    {
     "name": "stderr",
     "output_type": "stream",
     "text": [
      "Epoch [75/5000]: 100%|██████████| 10/10 [00:00<00:00, 231.01it/s, loss=309]\n"
     ]
    },
    {
     "name": "stdout",
     "output_type": "stream",
     "text": [
      "Epoch [75/5000]: Train loss: 360.1852, Valid loss: 383.3637\n"
     ]
    },
    {
     "name": "stderr",
     "output_type": "stream",
     "text": [
      "Epoch [76/5000]: 100%|██████████| 10/10 [00:00<00:00, 299.35it/s, loss=407]\n"
     ]
    },
    {
     "name": "stdout",
     "output_type": "stream",
     "text": [
      "Epoch [76/5000]: Train loss: 365.7134, Valid loss: 358.9988\n"
     ]
    },
    {
     "name": "stderr",
     "output_type": "stream",
     "text": [
      "Epoch [77/5000]: 100%|██████████| 10/10 [00:00<00:00, 281.99it/s, loss=390]\n"
     ]
    },
    {
     "name": "stdout",
     "output_type": "stream",
     "text": [
      "Epoch [77/5000]: Train loss: 364.3681, Valid loss: 350.6112\n",
      "Saving model with loss 350.611...\n"
     ]
    },
    {
     "name": "stderr",
     "output_type": "stream",
     "text": [
      "Epoch [78/5000]: 100%|██████████| 10/10 [00:00<00:00, 282.42it/s, loss=364]\n"
     ]
    },
    {
     "name": "stdout",
     "output_type": "stream",
     "text": [
      "Epoch [78/5000]: Train loss: 362.5625, Valid loss: 366.9027\n"
     ]
    },
    {
     "name": "stderr",
     "output_type": "stream",
     "text": [
      "Epoch [79/5000]: 100%|██████████| 10/10 [00:00<00:00, 233.78it/s, loss=419]\n"
     ]
    },
    {
     "name": "stdout",
     "output_type": "stream",
     "text": [
      "Epoch [79/5000]: Train loss: 365.4772, Valid loss: 368.2704\n"
     ]
    },
    {
     "name": "stderr",
     "output_type": "stream",
     "text": [
      "Epoch [80/5000]: 100%|██████████| 10/10 [00:00<00:00, 286.99it/s, loss=334]\n"
     ]
    },
    {
     "name": "stdout",
     "output_type": "stream",
     "text": [
      "Epoch [80/5000]: Train loss: 360.1698, Valid loss: 361.9412\n"
     ]
    },
    {
     "name": "stderr",
     "output_type": "stream",
     "text": [
      "Epoch [81/5000]: 100%|██████████| 10/10 [00:00<00:00, 303.67it/s, loss=345]\n"
     ]
    },
    {
     "name": "stdout",
     "output_type": "stream",
     "text": [
      "Epoch [81/5000]: Train loss: 360.4972, Valid loss: 363.8802\n"
     ]
    },
    {
     "name": "stderr",
     "output_type": "stream",
     "text": [
      "Epoch [82/5000]: 100%|██████████| 10/10 [00:00<00:00, 282.24it/s, loss=377]\n"
     ]
    },
    {
     "name": "stdout",
     "output_type": "stream",
     "text": [
      "Epoch [82/5000]: Train loss: 362.1040, Valid loss: 372.7327\n"
     ]
    },
    {
     "name": "stderr",
     "output_type": "stream",
     "text": [
      "Epoch [83/5000]: 100%|██████████| 10/10 [00:00<00:00, 241.63it/s, loss=338]\n"
     ]
    },
    {
     "name": "stdout",
     "output_type": "stream",
     "text": [
      "Epoch [83/5000]: Train loss: 359.4860, Valid loss: 363.8286\n"
     ]
    },
    {
     "name": "stderr",
     "output_type": "stream",
     "text": [
      "Epoch [84/5000]: 100%|██████████| 10/10 [00:00<00:00, 249.84it/s, loss=464]\n"
     ]
    },
    {
     "name": "stdout",
     "output_type": "stream",
     "text": [
      "Epoch [84/5000]: Train loss: 366.6888, Valid loss: 360.9469\n"
     ]
    },
    {
     "name": "stderr",
     "output_type": "stream",
     "text": [
      "Epoch [85/5000]: 100%|██████████| 10/10 [00:00<00:00, 263.67it/s, loss=354]\n"
     ]
    },
    {
     "name": "stdout",
     "output_type": "stream",
     "text": [
      "Epoch [85/5000]: Train loss: 359.8693, Valid loss: 353.4858\n"
     ]
    },
    {
     "name": "stderr",
     "output_type": "stream",
     "text": [
      "Epoch [86/5000]: 100%|██████████| 10/10 [00:00<00:00, 298.20it/s, loss=327]\n"
     ]
    },
    {
     "name": "stdout",
     "output_type": "stream",
     "text": [
      "Epoch [86/5000]: Train loss: 357.9309, Valid loss: 360.5047\n"
     ]
    },
    {
     "name": "stderr",
     "output_type": "stream",
     "text": [
      "Epoch [87/5000]: 100%|██████████| 10/10 [00:00<00:00, 304.02it/s, loss=340]\n"
     ]
    },
    {
     "name": "stdout",
     "output_type": "stream",
     "text": [
      "Epoch [87/5000]: Train loss: 358.4066, Valid loss: 351.5207\n"
     ]
    },
    {
     "name": "stderr",
     "output_type": "stream",
     "text": [
      "Epoch [88/5000]: 100%|██████████| 10/10 [00:00<00:00, 290.74it/s, loss=370]\n"
     ]
    },
    {
     "name": "stdout",
     "output_type": "stream",
     "text": [
      "Epoch [88/5000]: Train loss: 359.8790, Valid loss: 365.2755\n"
     ]
    },
    {
     "name": "stderr",
     "output_type": "stream",
     "text": [
      "Epoch [89/5000]: 100%|██████████| 10/10 [00:00<00:00, 323.66it/s, loss=407]\n"
     ]
    },
    {
     "name": "stdout",
     "output_type": "stream",
     "text": [
      "Epoch [89/5000]: Train loss: 361.7916, Valid loss: 366.8937\n"
     ]
    },
    {
     "name": "stderr",
     "output_type": "stream",
     "text": [
      "Epoch [90/5000]: 100%|██████████| 10/10 [00:00<00:00, 345.62it/s, loss=317]\n"
     ]
    },
    {
     "name": "stdout",
     "output_type": "stream",
     "text": [
      "Epoch [90/5000]: Train loss: 356.1542, Valid loss: 373.2526\n"
     ]
    },
    {
     "name": "stderr",
     "output_type": "stream",
     "text": [
      "Epoch [91/5000]: 100%|██████████| 10/10 [00:00<00:00, 371.61it/s, loss=362]\n"
     ]
    },
    {
     "name": "stdout",
     "output_type": "stream",
     "text": [
      "Epoch [91/5000]: Train loss: 358.5424, Valid loss: 358.5810\n"
     ]
    },
    {
     "name": "stderr",
     "output_type": "stream",
     "text": [
      "Epoch [92/5000]: 100%|██████████| 10/10 [00:00<00:00, 358.30it/s, loss=344]\n"
     ]
    },
    {
     "name": "stdout",
     "output_type": "stream",
     "text": [
      "Epoch [92/5000]: Train loss: 357.1877, Valid loss: 343.7834\n",
      "Saving model with loss 343.783...\n"
     ]
    },
    {
     "name": "stderr",
     "output_type": "stream",
     "text": [
      "Epoch [93/5000]: 100%|██████████| 10/10 [00:00<00:00, 358.32it/s, loss=323]\n"
     ]
    },
    {
     "name": "stdout",
     "output_type": "stream",
     "text": [
      "Epoch [93/5000]: Train loss: 355.6307, Valid loss: 352.7290\n"
     ]
    },
    {
     "name": "stderr",
     "output_type": "stream",
     "text": [
      "Epoch [94/5000]: 100%|██████████| 10/10 [00:00<00:00, 385.62it/s, loss=430]\n"
     ]
    },
    {
     "name": "stdout",
     "output_type": "stream",
     "text": [
      "Epoch [94/5000]: Train loss: 361.7033, Valid loss: 356.7037\n"
     ]
    },
    {
     "name": "stderr",
     "output_type": "stream",
     "text": [
      "Epoch [95/5000]: 100%|██████████| 10/10 [00:00<00:00, 313.52it/s, loss=347]\n"
     ]
    },
    {
     "name": "stdout",
     "output_type": "stream",
     "text": [
      "Epoch [95/5000]: Train loss: 356.4485, Valid loss: 355.2186\n"
     ]
    },
    {
     "name": "stderr",
     "output_type": "stream",
     "text": [
      "Epoch [96/5000]: 100%|██████████| 10/10 [00:00<00:00, 329.28it/s, loss=389]\n"
     ]
    },
    {
     "name": "stdout",
     "output_type": "stream",
     "text": [
      "Epoch [96/5000]: Train loss: 358.6484, Valid loss: 369.4070\n"
     ]
    },
    {
     "name": "stderr",
     "output_type": "stream",
     "text": [
      "Epoch [97/5000]: 100%|██████████| 10/10 [00:00<00:00, 283.58it/s, loss=340]"
     ]
    },
    {
     "name": "stdout",
     "output_type": "stream",
     "text": [
      "Epoch [97/5000]: Train loss: 355.4351, Valid loss: 363.8490\n"
     ]
    },
    {
     "name": "stderr",
     "output_type": "stream",
     "text": [
      "\n",
      "Epoch [98/5000]: 100%|██████████| 10/10 [00:00<00:00, 371.46it/s, loss=349]\n"
     ]
    },
    {
     "name": "stdout",
     "output_type": "stream",
     "text": [
      "Epoch [98/5000]: Train loss: 355.6876, Valid loss: 380.7497\n"
     ]
    },
    {
     "name": "stderr",
     "output_type": "stream",
     "text": [
      "Epoch [99/5000]: 100%|██████████| 10/10 [00:00<00:00, 340.11it/s, loss=459]\n"
     ]
    },
    {
     "name": "stdout",
     "output_type": "stream",
     "text": [
      "Epoch [99/5000]: Train loss: 361.9194, Valid loss: 351.3710\n"
     ]
    },
    {
     "name": "stderr",
     "output_type": "stream",
     "text": [
      "Epoch [100/5000]: 100%|██████████| 10/10 [00:00<00:00, 371.51it/s, loss=395]\n"
     ]
    },
    {
     "name": "stdout",
     "output_type": "stream",
     "text": [
      "Epoch [100/5000]: Train loss: 357.8051, Valid loss: 358.0236\n"
     ]
    },
    {
     "name": "stderr",
     "output_type": "stream",
     "text": [
      "Epoch [101/5000]: 100%|██████████| 10/10 [00:00<00:00, 340.06it/s, loss=367]\n"
     ]
    },
    {
     "name": "stdout",
     "output_type": "stream",
     "text": [
      "Epoch [101/5000]: Train loss: 355.8606, Valid loss: 356.5120\n"
     ]
    },
    {
     "name": "stderr",
     "output_type": "stream",
     "text": [
      "Epoch [102/5000]: 100%|██████████| 10/10 [00:00<00:00, 343.24it/s, loss=343]\n"
     ]
    },
    {
     "name": "stdout",
     "output_type": "stream",
     "text": [
      "Epoch [102/5000]: Train loss: 354.1784, Valid loss: 360.7235\n"
     ]
    },
    {
     "name": "stderr",
     "output_type": "stream",
     "text": [
      "Epoch [103/5000]: 100%|██████████| 10/10 [00:00<00:00, 334.57it/s, loss=411]\n"
     ]
    },
    {
     "name": "stdout",
     "output_type": "stream",
     "text": [
      "Epoch [103/5000]: Train loss: 357.9055, Valid loss: 346.5036\n"
     ]
    },
    {
     "name": "stderr",
     "output_type": "stream",
     "text": [
      "Epoch [104/5000]: 100%|██████████| 10/10 [00:00<00:00, 358.28it/s, loss=359]\n"
     ]
    },
    {
     "name": "stdout",
     "output_type": "stream",
     "text": [
      "Epoch [104/5000]: Train loss: 354.5340, Valid loss: 362.8422\n"
     ]
    },
    {
     "name": "stderr",
     "output_type": "stream",
     "text": [
      "Epoch [105/5000]: 100%|██████████| 10/10 [00:00<00:00, 347.22it/s, loss=338]\n"
     ]
    },
    {
     "name": "stdout",
     "output_type": "stream",
     "text": [
      "Epoch [105/5000]: Train loss: 352.9837, Valid loss: 362.4549\n"
     ]
    },
    {
     "name": "stderr",
     "output_type": "stream",
     "text": [
      "Epoch [106/5000]: 100%|██████████| 10/10 [00:00<00:00, 358.23it/s, loss=401]\n"
     ]
    },
    {
     "name": "stdout",
     "output_type": "stream",
     "text": [
      "Epoch [106/5000]: Train loss: 356.4221, Valid loss: 361.8116\n"
     ]
    },
    {
     "name": "stderr",
     "output_type": "stream",
     "text": [
      "Epoch [107/5000]: 100%|██████████| 10/10 [00:00<00:00, 371.75it/s, loss=379]\n"
     ]
    },
    {
     "name": "stdout",
     "output_type": "stream",
     "text": [
      "Epoch [107/5000]: Train loss: 354.8262, Valid loss: 355.4485\n"
     ]
    },
    {
     "name": "stderr",
     "output_type": "stream",
     "text": [
      "Epoch [108/5000]: 100%|██████████| 10/10 [00:00<00:00, 348.92it/s, loss=373]\n"
     ]
    },
    {
     "name": "stdout",
     "output_type": "stream",
     "text": [
      "Epoch [108/5000]: Train loss: 354.1892, Valid loss: 342.4162\n",
      "Saving model with loss 342.416...\n"
     ]
    },
    {
     "name": "stderr",
     "output_type": "stream",
     "text": [
      "Epoch [109/5000]: 100%|██████████| 10/10 [00:00<00:00, 334.41it/s, loss=274]\n"
     ]
    },
    {
     "name": "stdout",
     "output_type": "stream",
     "text": [
      "Epoch [109/5000]: Train loss: 348.0193, Valid loss: 360.3957\n"
     ]
    },
    {
     "name": "stderr",
     "output_type": "stream",
     "text": [
      "Epoch [110/5000]: 100%|██████████| 10/10 [00:00<00:00, 335.76it/s, loss=364]\n"
     ]
    },
    {
     "name": "stdout",
     "output_type": "stream",
     "text": [
      "Epoch [110/5000]: Train loss: 353.0559, Valid loss: 343.2833\n"
     ]
    },
    {
     "name": "stderr",
     "output_type": "stream",
     "text": [
      "Epoch [111/5000]: 100%|██████████| 10/10 [00:00<00:00, 351.66it/s, loss=339]\n"
     ]
    },
    {
     "name": "stdout",
     "output_type": "stream",
     "text": [
      "Epoch [111/5000]: Train loss: 351.2851, Valid loss: 352.6570\n"
     ]
    },
    {
     "name": "stderr",
     "output_type": "stream",
     "text": [
      "Epoch [112/5000]: 100%|██████████| 10/10 [00:00<00:00, 358.30it/s, loss=339]\n"
     ]
    },
    {
     "name": "stdout",
     "output_type": "stream",
     "text": [
      "Epoch [112/5000]: Train loss: 350.9842, Valid loss: 359.9644\n"
     ]
    },
    {
     "name": "stderr",
     "output_type": "stream",
     "text": [
      "Epoch [113/5000]: 100%|██████████| 10/10 [00:00<00:00, 346.10it/s, loss=400]\n"
     ]
    },
    {
     "name": "stdout",
     "output_type": "stream",
     "text": [
      "Epoch [113/5000]: Train loss: 354.2943, Valid loss: 340.4182\n",
      "Saving model with loss 340.418...\n"
     ]
    },
    {
     "name": "stderr",
     "output_type": "stream",
     "text": [
      "Epoch [114/5000]: 100%|██████████| 10/10 [00:00<00:00, 340.11it/s, loss=314]\n"
     ]
    },
    {
     "name": "stdout",
     "output_type": "stream",
     "text": [
      "Epoch [114/5000]: Train loss: 348.9216, Valid loss: 347.3161\n"
     ]
    },
    {
     "name": "stderr",
     "output_type": "stream",
     "text": [
      "Epoch [115/5000]: 100%|██████████| 10/10 [00:00<00:00, 323.92it/s, loss=342]\n"
     ]
    },
    {
     "name": "stdout",
     "output_type": "stream",
     "text": [
      "Epoch [115/5000]: Train loss: 350.3103, Valid loss: 354.6696\n"
     ]
    },
    {
     "name": "stderr",
     "output_type": "stream",
     "text": [
      "Epoch [116/5000]: 100%|██████████| 10/10 [00:00<00:00, 323.71it/s, loss=432]\n"
     ]
    },
    {
     "name": "stdout",
     "output_type": "stream",
     "text": [
      "Epoch [116/5000]: Train loss: 355.3236, Valid loss: 368.0235\n"
     ]
    },
    {
     "name": "stderr",
     "output_type": "stream",
     "text": [
      "Epoch [117/5000]: 100%|██████████| 10/10 [00:00<00:00, 351.94it/s, loss=346]\n"
     ]
    },
    {
     "name": "stdout",
     "output_type": "stream",
     "text": [
      "Epoch [117/5000]: Train loss: 349.9610, Valid loss: 361.5738\n"
     ]
    },
    {
     "name": "stderr",
     "output_type": "stream",
     "text": [
      "Epoch [118/5000]: 100%|██████████| 10/10 [00:00<00:00, 346.12it/s, loss=318]\n"
     ]
    },
    {
     "name": "stdout",
     "output_type": "stream",
     "text": [
      "Epoch [118/5000]: Train loss: 347.9878, Valid loss: 346.8391\n"
     ]
    },
    {
     "name": "stderr",
     "output_type": "stream",
     "text": [
      "Epoch [119/5000]: 100%|██████████| 10/10 [00:00<00:00, 334.56it/s, loss=287]\n"
     ]
    },
    {
     "name": "stdout",
     "output_type": "stream",
     "text": [
      "Epoch [119/5000]: Train loss: 345.8632, Valid loss: 352.8250\n"
     ]
    },
    {
     "name": "stderr",
     "output_type": "stream",
     "text": [
      "Epoch [120/5000]: 100%|██████████| 10/10 [00:00<00:00, 88.08it/s, loss=352]\n"
     ]
    },
    {
     "name": "stdout",
     "output_type": "stream",
     "text": [
      "Epoch [120/5000]: Train loss: 349.4621, Valid loss: 349.1163\n"
     ]
    },
    {
     "name": "stderr",
     "output_type": "stream",
     "text": [
      "Epoch [121/5000]: 100%|██████████| 10/10 [00:00<00:00, 313.54it/s, loss=334]\n"
     ]
    },
    {
     "name": "stdout",
     "output_type": "stream",
     "text": [
      "Epoch [121/5000]: Train loss: 348.0485, Valid loss: 354.3440\n"
     ]
    },
    {
     "name": "stderr",
     "output_type": "stream",
     "text": [
      "Epoch [122/5000]: 100%|██████████| 10/10 [00:00<00:00, 218.11it/s, loss=363]\n"
     ]
    },
    {
     "name": "stdout",
     "output_type": "stream",
     "text": [
      "Epoch [122/5000]: Train loss: 349.5247, Valid loss: 353.2297\n"
     ]
    },
    {
     "name": "stderr",
     "output_type": "stream",
     "text": [
      "Epoch [123/5000]: 100%|██████████| 10/10 [00:00<00:00, 303.98it/s, loss=325]\n"
     ]
    },
    {
     "name": "stdout",
     "output_type": "stream",
     "text": [
      "Epoch [123/5000]: Train loss: 346.9353, Valid loss: 349.5632\n"
     ]
    },
    {
     "name": "stderr",
     "output_type": "stream",
     "text": [
      "Epoch [124/5000]: 100%|██████████| 10/10 [00:00<00:00, 346.12it/s, loss=362]\n"
     ]
    },
    {
     "name": "stdout",
     "output_type": "stream",
     "text": [
      "Epoch [124/5000]: Train loss: 348.8406, Valid loss: 360.0482\n"
     ]
    },
    {
     "name": "stderr",
     "output_type": "stream",
     "text": [
      "Epoch [125/5000]: 100%|██████████| 10/10 [00:00<00:00, 351.70it/s, loss=303]\n"
     ]
    },
    {
     "name": "stdout",
     "output_type": "stream",
     "text": [
      "Epoch [125/5000]: Train loss: 345.0790, Valid loss: 356.1332\n"
     ]
    },
    {
     "name": "stderr",
     "output_type": "stream",
     "text": [
      "Epoch [126/5000]: 100%|██████████| 10/10 [00:00<00:00, 313.65it/s, loss=398]\n"
     ]
    },
    {
     "name": "stdout",
     "output_type": "stream",
     "text": [
      "Epoch [126/5000]: Train loss: 350.4457, Valid loss: 343.7810\n"
     ]
    },
    {
     "name": "stderr",
     "output_type": "stream",
     "text": [
      "Epoch [127/5000]: 100%|██████████| 10/10 [00:00<00:00, 343.68it/s, loss=356]\n"
     ]
    },
    {
     "name": "stdout",
     "output_type": "stream",
     "text": [
      "Epoch [127/5000]: Train loss: 347.6714, Valid loss: 352.6531\n"
     ]
    },
    {
     "name": "stderr",
     "output_type": "stream",
     "text": [
      "Epoch [128/5000]: 100%|██████████| 10/10 [00:00<00:00, 364.38it/s, loss=356]\n"
     ]
    },
    {
     "name": "stdout",
     "output_type": "stream",
     "text": [
      "Epoch [128/5000]: Train loss: 347.3406, Valid loss: 347.7947\n"
     ]
    },
    {
     "name": "stderr",
     "output_type": "stream",
     "text": [
      "Epoch [129/5000]: 100%|██████████| 10/10 [00:00<00:00, 348.99it/s, loss=392]\n"
     ]
    },
    {
     "name": "stdout",
     "output_type": "stream",
     "text": [
      "Epoch [129/5000]: Train loss: 349.2336, Valid loss: 354.0813\n"
     ]
    },
    {
     "name": "stderr",
     "output_type": "stream",
     "text": [
      "Epoch [130/5000]: 100%|██████████| 10/10 [00:00<00:00, 334.44it/s, loss=358]\n"
     ]
    },
    {
     "name": "stdout",
     "output_type": "stream",
     "text": [
      "Epoch [130/5000]: Train loss: 346.9218, Valid loss: 343.6390\n"
     ]
    },
    {
     "name": "stderr",
     "output_type": "stream",
     "text": [
      "Epoch [131/5000]: 100%|██████████| 10/10 [00:00<00:00, 355.87it/s, loss=354]\n"
     ]
    },
    {
     "name": "stdout",
     "output_type": "stream",
     "text": [
      "Epoch [131/5000]: Train loss: 346.3627, Valid loss: 344.9606\n"
     ]
    },
    {
     "name": "stderr",
     "output_type": "stream",
     "text": [
      "Epoch [132/5000]: 100%|██████████| 10/10 [00:00<00:00, 327.53it/s, loss=367]\n"
     ]
    },
    {
     "name": "stdout",
     "output_type": "stream",
     "text": [
      "Epoch [132/5000]: Train loss: 346.8549, Valid loss: 351.8972\n"
     ]
    },
    {
     "name": "stderr",
     "output_type": "stream",
     "text": [
      "Epoch [133/5000]: 100%|██████████| 10/10 [00:00<00:00, 337.48it/s, loss=320]\n"
     ]
    },
    {
     "name": "stdout",
     "output_type": "stream",
     "text": [
      "Epoch [133/5000]: Train loss: 343.8109, Valid loss: 335.9709\n",
      "Saving model with loss 335.971...\n"
     ]
    },
    {
     "name": "stderr",
     "output_type": "stream",
     "text": [
      "Epoch [134/5000]: 100%|██████████| 10/10 [00:00<00:00, 333.93it/s, loss=353]\n"
     ]
    },
    {
     "name": "stdout",
     "output_type": "stream",
     "text": [
      "Epoch [134/5000]: Train loss: 345.4393, Valid loss: 357.3481\n"
     ]
    },
    {
     "name": "stderr",
     "output_type": "stream",
     "text": [
      "Epoch [135/5000]: 100%|██████████| 10/10 [00:00<00:00, 304.10it/s, loss=281]\n"
     ]
    },
    {
     "name": "stdout",
     "output_type": "stream",
     "text": [
      "Epoch [135/5000]: Train loss: 340.8859, Valid loss: 336.1461\n"
     ]
    },
    {
     "name": "stderr",
     "output_type": "stream",
     "text": [
      "Epoch [136/5000]: 100%|██████████| 10/10 [00:00<00:00, 334.35it/s, loss=348]\n"
     ]
    },
    {
     "name": "stdout",
     "output_type": "stream",
     "text": [
      "Epoch [136/5000]: Train loss: 344.5965, Valid loss: 352.1670\n"
     ]
    },
    {
     "name": "stderr",
     "output_type": "stream",
     "text": [
      "Epoch [137/5000]: 100%|██████████| 10/10 [00:00<00:00, 343.67it/s, loss=350]\n"
     ]
    },
    {
     "name": "stdout",
     "output_type": "stream",
     "text": [
      "Epoch [137/5000]: Train loss: 344.4097, Valid loss: 344.1339\n"
     ]
    },
    {
     "name": "stderr",
     "output_type": "stream",
     "text": [
      "Epoch [138/5000]: 100%|██████████| 10/10 [00:00<00:00, 334.33it/s, loss=347]\n"
     ]
    },
    {
     "name": "stdout",
     "output_type": "stream",
     "text": [
      "Epoch [138/5000]: Train loss: 343.9678, Valid loss: 352.8519\n"
     ]
    },
    {
     "name": "stderr",
     "output_type": "stream",
     "text": [
      "Epoch [139/5000]: 100%|██████████| 10/10 [00:00<00:00, 345.78it/s, loss=313]\n"
     ]
    },
    {
     "name": "stdout",
     "output_type": "stream",
     "text": [
      "Epoch [139/5000]: Train loss: 341.6420, Valid loss: 337.9616\n"
     ]
    },
    {
     "name": "stderr",
     "output_type": "stream",
     "text": [
      "Epoch [140/5000]: 100%|██████████| 10/10 [00:00<00:00, 364.33it/s, loss=330]\n"
     ]
    },
    {
     "name": "stdout",
     "output_type": "stream",
     "text": [
      "Epoch [140/5000]: Train loss: 342.3677, Valid loss: 329.8398\n",
      "Saving model with loss 329.840...\n"
     ]
    },
    {
     "name": "stderr",
     "output_type": "stream",
     "text": [
      "Epoch [141/5000]: 100%|██████████| 10/10 [00:00<00:00, 358.31it/s, loss=340]\n"
     ]
    },
    {
     "name": "stdout",
     "output_type": "stream",
     "text": [
      "Epoch [141/5000]: Train loss: 342.6855, Valid loss: 353.4670\n"
     ]
    },
    {
     "name": "stderr",
     "output_type": "stream",
     "text": [
      "Epoch [142/5000]: 100%|██████████| 10/10 [00:00<00:00, 371.49it/s, loss=392]\n"
     ]
    },
    {
     "name": "stdout",
     "output_type": "stream",
     "text": [
      "Epoch [142/5000]: Train loss: 345.4865, Valid loss: 358.4775\n"
     ]
    },
    {
     "name": "stderr",
     "output_type": "stream",
     "text": [
      "Epoch [143/5000]: 100%|██████████| 10/10 [00:00<00:00, 356.71it/s, loss=386]\n"
     ]
    },
    {
     "name": "stdout",
     "output_type": "stream",
     "text": [
      "Epoch [143/5000]: Train loss: 344.8718, Valid loss: 348.2481\n"
     ]
    },
    {
     "name": "stderr",
     "output_type": "stream",
     "text": [
      "Epoch [144/5000]: 100%|██████████| 10/10 [00:00<00:00, 357.04it/s, loss=300]\n"
     ]
    },
    {
     "name": "stdout",
     "output_type": "stream",
     "text": [
      "Epoch [144/5000]: Train loss: 339.4505, Valid loss: 341.2921\n"
     ]
    },
    {
     "name": "stderr",
     "output_type": "stream",
     "text": [
      "Epoch [145/5000]: 100%|██████████| 10/10 [00:00<00:00, 323.55it/s, loss=275]\n"
     ]
    },
    {
     "name": "stdout",
     "output_type": "stream",
     "text": [
      "Epoch [145/5000]: Train loss: 337.7154, Valid loss: 350.0662\n"
     ]
    },
    {
     "name": "stderr",
     "output_type": "stream",
     "text": [
      "Epoch [146/5000]: 100%|██████████| 10/10 [00:00<00:00, 313.09it/s, loss=320]\n"
     ]
    },
    {
     "name": "stdout",
     "output_type": "stream",
     "text": [
      "Epoch [146/5000]: Train loss: 340.0871, Valid loss: 337.4432\n"
     ]
    },
    {
     "name": "stderr",
     "output_type": "stream",
     "text": [
      "Epoch [147/5000]: 100%|██████████| 10/10 [00:00<00:00, 345.88it/s, loss=334]\n"
     ]
    },
    {
     "name": "stdout",
     "output_type": "stream",
     "text": [
      "Epoch [147/5000]: Train loss: 340.6403, Valid loss: 340.0579\n"
     ]
    },
    {
     "name": "stderr",
     "output_type": "stream",
     "text": [
      "Epoch [148/5000]: 100%|██████████| 10/10 [00:00<00:00, 333.30it/s, loss=388]\n"
     ]
    },
    {
     "name": "stdout",
     "output_type": "stream",
     "text": [
      "Epoch [148/5000]: Train loss: 343.5605, Valid loss: 353.5679\n"
     ]
    },
    {
     "name": "stderr",
     "output_type": "stream",
     "text": [
      "Epoch [149/5000]: 100%|██████████| 10/10 [00:00<00:00, 286.75it/s, loss=330]\n"
     ]
    },
    {
     "name": "stdout",
     "output_type": "stream",
     "text": [
      "Epoch [149/5000]: Train loss: 339.8235, Valid loss: 340.9479\n"
     ]
    },
    {
     "name": "stderr",
     "output_type": "stream",
     "text": [
      "Epoch [150/5000]: 100%|██████████| 10/10 [00:00<00:00, 313.55it/s, loss=358]\n"
     ]
    },
    {
     "name": "stdout",
     "output_type": "stream",
     "text": [
      "Epoch [150/5000]: Train loss: 341.2092, Valid loss: 335.5438\n"
     ]
    },
    {
     "name": "stderr",
     "output_type": "stream",
     "text": [
      "Epoch [151/5000]: 100%|██████████| 10/10 [00:00<00:00, 356.83it/s, loss=295]\n"
     ]
    },
    {
     "name": "stdout",
     "output_type": "stream",
     "text": [
      "Epoch [151/5000]: Train loss: 337.1590, Valid loss: 359.8557\n"
     ]
    },
    {
     "name": "stderr",
     "output_type": "stream",
     "text": [
      "Epoch [152/5000]: 100%|██████████| 10/10 [00:00<00:00, 313.64it/s, loss=339]\n"
     ]
    },
    {
     "name": "stdout",
     "output_type": "stream",
     "text": [
      "Epoch [152/5000]: Train loss: 339.5220, Valid loss: 342.9696\n"
     ]
    },
    {
     "name": "stderr",
     "output_type": "stream",
     "text": [
      "Epoch [153/5000]: 100%|██████████| 10/10 [00:00<00:00, 313.53it/s, loss=361]\n"
     ]
    },
    {
     "name": "stdout",
     "output_type": "stream",
     "text": [
      "Epoch [153/5000]: Train loss: 340.5466, Valid loss: 340.6034\n"
     ]
    },
    {
     "name": "stderr",
     "output_type": "stream",
     "text": [
      "Epoch [154/5000]: 100%|██████████| 10/10 [00:00<00:00, 328.63it/s, loss=357]\n"
     ]
    },
    {
     "name": "stdout",
     "output_type": "stream",
     "text": [
      "Epoch [154/5000]: Train loss: 339.9992, Valid loss: 330.6166\n"
     ]
    },
    {
     "name": "stderr",
     "output_type": "stream",
     "text": [
      "Epoch [155/5000]: 100%|██████████| 10/10 [00:00<00:00, 345.84it/s, loss=332]\n"
     ]
    },
    {
     "name": "stdout",
     "output_type": "stream",
     "text": [
      "Epoch [155/5000]: Train loss: 338.2305, Valid loss: 344.9365\n"
     ]
    },
    {
     "name": "stderr",
     "output_type": "stream",
     "text": [
      "Epoch [156/5000]: 100%|██████████| 10/10 [00:00<00:00, 334.32it/s, loss=356]\n"
     ]
    },
    {
     "name": "stdout",
     "output_type": "stream",
     "text": [
      "Epoch [156/5000]: Train loss: 339.3609, Valid loss: 347.0977\n"
     ]
    },
    {
     "name": "stderr",
     "output_type": "stream",
     "text": [
      "Epoch [157/5000]: 100%|██████████| 10/10 [00:00<00:00, 334.14it/s, loss=293]\n"
     ]
    },
    {
     "name": "stdout",
     "output_type": "stream",
     "text": [
      "Epoch [157/5000]: Train loss: 335.3867, Valid loss: 337.7714\n"
     ]
    },
    {
     "name": "stderr",
     "output_type": "stream",
     "text": [
      "Epoch [158/5000]: 100%|██████████| 10/10 [00:00<00:00, 335.48it/s, loss=356]\n"
     ]
    },
    {
     "name": "stdout",
     "output_type": "stream",
     "text": [
      "Epoch [158/5000]: Train loss: 338.8131, Valid loss: 337.8035\n"
     ]
    },
    {
     "name": "stderr",
     "output_type": "stream",
     "text": [
      "Epoch [159/5000]: 100%|██████████| 10/10 [00:00<00:00, 333.39it/s, loss=324]\n"
     ]
    },
    {
     "name": "stdout",
     "output_type": "stream",
     "text": [
      "Epoch [159/5000]: Train loss: 336.6285, Valid loss: 319.5141\n",
      "Saving model with loss 319.514...\n"
     ]
    },
    {
     "name": "stderr",
     "output_type": "stream",
     "text": [
      "Epoch [160/5000]: 100%|██████████| 10/10 [00:00<00:00, 337.76it/s, loss=332]\n"
     ]
    },
    {
     "name": "stdout",
     "output_type": "stream",
     "text": [
      "Epoch [160/5000]: Train loss: 336.8236, Valid loss: 348.9071\n"
     ]
    },
    {
     "name": "stderr",
     "output_type": "stream",
     "text": [
      "Epoch [161/5000]: 100%|██████████| 10/10 [00:00<00:00, 325.09it/s, loss=379]\n"
     ]
    },
    {
     "name": "stdout",
     "output_type": "stream",
     "text": [
      "Epoch [161/5000]: Train loss: 339.3769, Valid loss: 338.6786\n"
     ]
    },
    {
     "name": "stderr",
     "output_type": "stream",
     "text": [
      "Epoch [162/5000]: 100%|██████████| 10/10 [00:00<00:00, 315.76it/s, loss=372]\n"
     ]
    },
    {
     "name": "stdout",
     "output_type": "stream",
     "text": [
      "Epoch [162/5000]: Train loss: 338.6399, Valid loss: 338.9555\n"
     ]
    },
    {
     "name": "stderr",
     "output_type": "stream",
     "text": [
      "Epoch [163/5000]: 100%|██████████| 10/10 [00:00<00:00, 333.50it/s, loss=312]\n"
     ]
    },
    {
     "name": "stdout",
     "output_type": "stream",
     "text": [
      "Epoch [163/5000]: Train loss: 334.8141, Valid loss: 327.1353\n"
     ]
    },
    {
     "name": "stderr",
     "output_type": "stream",
     "text": [
      "Epoch [164/5000]: 100%|██████████| 10/10 [00:00<00:00, 334.42it/s, loss=351]\n"
     ]
    },
    {
     "name": "stdout",
     "output_type": "stream",
     "text": [
      "Epoch [164/5000]: Train loss: 336.8339, Valid loss: 341.3180\n"
     ]
    },
    {
     "name": "stderr",
     "output_type": "stream",
     "text": [
      "Epoch [165/5000]: 100%|██████████| 10/10 [00:00<00:00, 326.96it/s, loss=320]\n"
     ]
    },
    {
     "name": "stdout",
     "output_type": "stream",
     "text": [
      "Epoch [165/5000]: Train loss: 334.7427, Valid loss: 342.9595\n"
     ]
    },
    {
     "name": "stderr",
     "output_type": "stream",
     "text": [
      "Epoch [166/5000]: 100%|██████████| 10/10 [00:00<00:00, 334.54it/s, loss=293]\n"
     ]
    },
    {
     "name": "stdout",
     "output_type": "stream",
     "text": [
      "Epoch [166/5000]: Train loss: 332.8337, Valid loss: 335.7440\n"
     ]
    },
    {
     "name": "stderr",
     "output_type": "stream",
     "text": [
      "Epoch [167/5000]: 100%|██████████| 10/10 [00:00<00:00, 323.75it/s, loss=353]\n"
     ]
    },
    {
     "name": "stdout",
     "output_type": "stream",
     "text": [
      "Epoch [167/5000]: Train loss: 336.1406, Valid loss: 354.0524\n"
     ]
    },
    {
     "name": "stderr",
     "output_type": "stream",
     "text": [
      "Epoch [168/5000]: 100%|██████████| 10/10 [00:00<00:00, 317.38it/s, loss=299]\n"
     ]
    },
    {
     "name": "stdout",
     "output_type": "stream",
     "text": [
      "Epoch [168/5000]: Train loss: 332.6575, Valid loss: 346.3041\n"
     ]
    },
    {
     "name": "stderr",
     "output_type": "stream",
     "text": [
      "Epoch [169/5000]: 100%|██████████| 10/10 [00:00<00:00, 313.47it/s, loss=395]\n"
     ]
    },
    {
     "name": "stdout",
     "output_type": "stream",
     "text": [
      "Epoch [169/5000]: Train loss: 338.0932, Valid loss: 330.3525\n"
     ]
    },
    {
     "name": "stderr",
     "output_type": "stream",
     "text": [
      "Epoch [170/5000]: 100%|██████████| 10/10 [00:00<00:00, 346.08it/s, loss=326]\n"
     ]
    },
    {
     "name": "stdout",
     "output_type": "stream",
     "text": [
      "Epoch [170/5000]: Train loss: 333.6939, Valid loss: 329.7732\n"
     ]
    },
    {
     "name": "stderr",
     "output_type": "stream",
     "text": [
      "Epoch [171/5000]: 100%|██████████| 10/10 [00:00<00:00, 309.88it/s, loss=338]\n"
     ]
    },
    {
     "name": "stdout",
     "output_type": "stream",
     "text": [
      "Epoch [171/5000]: Train loss: 334.1305, Valid loss: 322.3678\n"
     ]
    },
    {
     "name": "stderr",
     "output_type": "stream",
     "text": [
      "Epoch [172/5000]: 100%|██████████| 10/10 [00:00<00:00, 334.33it/s, loss=290]\n"
     ]
    },
    {
     "name": "stdout",
     "output_type": "stream",
     "text": [
      "Epoch [172/5000]: Train loss: 331.0184, Valid loss: 335.2805\n"
     ]
    },
    {
     "name": "stderr",
     "output_type": "stream",
     "text": [
      "Epoch [173/5000]: 100%|██████████| 10/10 [00:00<00:00, 271.18it/s, loss=363]\n"
     ]
    },
    {
     "name": "stdout",
     "output_type": "stream",
     "text": [
      "Epoch [173/5000]: Train loss: 335.0801, Valid loss: 333.0873\n"
     ]
    },
    {
     "name": "stderr",
     "output_type": "stream",
     "text": [
      "Epoch [174/5000]: 100%|██████████| 10/10 [00:00<00:00, 277.09it/s, loss=360]\n"
     ]
    },
    {
     "name": "stdout",
     "output_type": "stream",
     "text": [
      "Epoch [174/5000]: Train loss: 334.5829, Valid loss: 346.8747\n"
     ]
    },
    {
     "name": "stderr",
     "output_type": "stream",
     "text": [
      "Epoch [175/5000]: 100%|██████████| 10/10 [00:00<00:00, 295.04it/s, loss=393]\n"
     ]
    },
    {
     "name": "stdout",
     "output_type": "stream",
     "text": [
      "Epoch [175/5000]: Train loss: 336.2764, Valid loss: 344.8821\n"
     ]
    },
    {
     "name": "stderr",
     "output_type": "stream",
     "text": [
      "Epoch [176/5000]: 100%|██████████| 10/10 [00:00<00:00, 306.04it/s, loss=324]\n"
     ]
    },
    {
     "name": "stdout",
     "output_type": "stream",
     "text": [
      "Epoch [176/5000]: Train loss: 331.8924, Valid loss: 329.9054\n"
     ]
    },
    {
     "name": "stderr",
     "output_type": "stream",
     "text": [
      "Epoch [177/5000]: 100%|██████████| 10/10 [00:00<00:00, 303.98it/s, loss=382]\n"
     ]
    },
    {
     "name": "stdout",
     "output_type": "stream",
     "text": [
      "Epoch [177/5000]: Train loss: 335.0822, Valid loss: 340.6321\n"
     ]
    },
    {
     "name": "stderr",
     "output_type": "stream",
     "text": [
      "Epoch [178/5000]: 100%|██████████| 10/10 [00:00<00:00, 333.27it/s, loss=336]\n"
     ]
    },
    {
     "name": "stdout",
     "output_type": "stream",
     "text": [
      "Epoch [178/5000]: Train loss: 332.0582, Valid loss: 335.6771\n"
     ]
    },
    {
     "name": "stderr",
     "output_type": "stream",
     "text": [
      "Epoch [179/5000]: 100%|██████████| 10/10 [00:00<00:00, 298.14it/s, loss=299]\n"
     ]
    },
    {
     "name": "stdout",
     "output_type": "stream",
     "text": [
      "Epoch [179/5000]: Train loss: 329.5860, Valid loss: 330.6571\n"
     ]
    },
    {
     "name": "stderr",
     "output_type": "stream",
     "text": [
      "Epoch [180/5000]: 100%|██████████| 10/10 [00:00<00:00, 313.39it/s, loss=301]\n"
     ]
    },
    {
     "name": "stdout",
     "output_type": "stream",
     "text": [
      "Epoch [180/5000]: Train loss: 329.4463, Valid loss: 328.3264\n"
     ]
    },
    {
     "name": "stderr",
     "output_type": "stream",
     "text": [
      "Epoch [181/5000]: 100%|██████████| 10/10 [00:00<00:00, 305.64it/s, loss=311]\n"
     ]
    },
    {
     "name": "stdout",
     "output_type": "stream",
     "text": [
      "Epoch [181/5000]: Train loss: 329.7444, Valid loss: 335.0110\n"
     ]
    },
    {
     "name": "stderr",
     "output_type": "stream",
     "text": [
      "Epoch [182/5000]: 100%|██████████| 10/10 [00:00<00:00, 314.10it/s, loss=415]\n"
     ]
    },
    {
     "name": "stdout",
     "output_type": "stream",
     "text": [
      "Epoch [182/5000]: Train loss: 335.6371, Valid loss: 328.8649\n"
     ]
    },
    {
     "name": "stderr",
     "output_type": "stream",
     "text": [
      "Epoch [183/5000]: 100%|██████████| 10/10 [00:00<00:00, 333.74it/s, loss=363]\n"
     ]
    },
    {
     "name": "stdout",
     "output_type": "stream",
     "text": [
      "Epoch [183/5000]: Train loss: 332.2680, Valid loss: 341.5683\n"
     ]
    },
    {
     "name": "stderr",
     "output_type": "stream",
     "text": [
      "Epoch [184/5000]: 100%|██████████| 10/10 [00:00<00:00, 348.85it/s, loss=378]\n"
     ]
    },
    {
     "name": "stdout",
     "output_type": "stream",
     "text": [
      "Epoch [184/5000]: Train loss: 332.8920, Valid loss: 333.8140\n"
     ]
    },
    {
     "name": "stderr",
     "output_type": "stream",
     "text": [
      "Epoch [185/5000]: 100%|██████████| 10/10 [00:00<00:00, 358.48it/s, loss=397]\n"
     ]
    },
    {
     "name": "stdout",
     "output_type": "stream",
     "text": [
      "Epoch [185/5000]: Train loss: 333.7536, Valid loss: 337.9960\n"
     ]
    },
    {
     "name": "stderr",
     "output_type": "stream",
     "text": [
      "Epoch [186/5000]: 100%|██████████| 10/10 [00:00<00:00, 358.31it/s, loss=276]\n"
     ]
    },
    {
     "name": "stdout",
     "output_type": "stream",
     "text": [
      "Epoch [186/5000]: Train loss: 326.2797, Valid loss: 328.1822\n"
     ]
    },
    {
     "name": "stderr",
     "output_type": "stream",
     "text": [
      "Epoch [187/5000]: 100%|██████████| 10/10 [00:00<00:00, 349.55it/s, loss=314]\n"
     ]
    },
    {
     "name": "stdout",
     "output_type": "stream",
     "text": [
      "Epoch [187/5000]: Train loss: 328.2964, Valid loss: 346.3702\n"
     ]
    },
    {
     "name": "stderr",
     "output_type": "stream",
     "text": [
      "Epoch [188/5000]: 100%|██████████| 10/10 [00:00<00:00, 346.00it/s, loss=300]\n"
     ]
    },
    {
     "name": "stdout",
     "output_type": "stream",
     "text": [
      "Epoch [188/5000]: Train loss: 327.1829, Valid loss: 320.8061\n"
     ]
    },
    {
     "name": "stderr",
     "output_type": "stream",
     "text": [
      "Epoch [189/5000]: 100%|██████████| 10/10 [00:00<00:00, 334.44it/s, loss=307]\n"
     ]
    },
    {
     "name": "stdout",
     "output_type": "stream",
     "text": [
      "Epoch [189/5000]: Train loss: 327.3313, Valid loss: 345.6728\n"
     ]
    },
    {
     "name": "stderr",
     "output_type": "stream",
     "text": [
      "Epoch [190/5000]: 100%|██████████| 10/10 [00:00<00:00, 348.64it/s, loss=306]\n"
     ]
    },
    {
     "name": "stdout",
     "output_type": "stream",
     "text": [
      "Epoch [190/5000]: Train loss: 326.9652, Valid loss: 323.7768\n"
     ]
    },
    {
     "name": "stderr",
     "output_type": "stream",
     "text": [
      "Epoch [191/5000]: 100%|██████████| 10/10 [00:00<00:00, 334.46it/s, loss=299]\n"
     ]
    },
    {
     "name": "stdout",
     "output_type": "stream",
     "text": [
      "Epoch [191/5000]: Train loss: 326.2952, Valid loss: 325.5836\n"
     ]
    },
    {
     "name": "stderr",
     "output_type": "stream",
     "text": [
      "Epoch [192/5000]: 100%|██████████| 10/10 [00:00<00:00, 358.20it/s, loss=371]\n"
     ]
    },
    {
     "name": "stdout",
     "output_type": "stream",
     "text": [
      "Epoch [192/5000]: Train loss: 330.3103, Valid loss: 332.5745\n"
     ]
    },
    {
     "name": "stderr",
     "output_type": "stream",
     "text": [
      "Epoch [193/5000]: 100%|██████████| 10/10 [00:00<00:00, 361.33it/s, loss=314]\n"
     ]
    },
    {
     "name": "stdout",
     "output_type": "stream",
     "text": [
      "Epoch [193/5000]: Train loss: 326.6483, Valid loss: 327.4669\n"
     ]
    },
    {
     "name": "stderr",
     "output_type": "stream",
     "text": [
      "Epoch [194/5000]: 100%|██████████| 10/10 [00:00<00:00, 358.36it/s, loss=355]\n"
     ]
    },
    {
     "name": "stdout",
     "output_type": "stream",
     "text": [
      "Epoch [194/5000]: Train loss: 328.8147, Valid loss: 329.2232\n"
     ]
    },
    {
     "name": "stderr",
     "output_type": "stream",
     "text": [
      "Epoch [195/5000]: 100%|██████████| 10/10 [00:00<00:00, 358.54it/s, loss=372]\n"
     ]
    },
    {
     "name": "stdout",
     "output_type": "stream",
     "text": [
      "Epoch [195/5000]: Train loss: 329.5299, Valid loss: 333.4960\n"
     ]
    },
    {
     "name": "stderr",
     "output_type": "stream",
     "text": [
      "Epoch [196/5000]: 100%|██████████| 10/10 [00:00<00:00, 348.82it/s, loss=395]\n"
     ]
    },
    {
     "name": "stdout",
     "output_type": "stream",
     "text": [
      "Epoch [196/5000]: Train loss: 330.6118, Valid loss: 334.8170\n"
     ]
    },
    {
     "name": "stderr",
     "output_type": "stream",
     "text": [
      "Epoch [197/5000]: 100%|██████████| 10/10 [00:00<00:00, 334.02it/s, loss=283]\n"
     ]
    },
    {
     "name": "stdout",
     "output_type": "stream",
     "text": [
      "Epoch [197/5000]: Train loss: 323.7186, Valid loss: 310.8869\n",
      "Saving model with loss 310.887...\n"
     ]
    },
    {
     "name": "stderr",
     "output_type": "stream",
     "text": [
      "Epoch [198/5000]: 100%|██████████| 10/10 [00:00<00:00, 358.78it/s, loss=275]\n"
     ]
    },
    {
     "name": "stdout",
     "output_type": "stream",
     "text": [
      "Epoch [198/5000]: Train loss: 322.9728, Valid loss: 325.4134\n"
     ]
    },
    {
     "name": "stderr",
     "output_type": "stream",
     "text": [
      "Epoch [199/5000]: 100%|██████████| 10/10 [00:00<00:00, 338.08it/s, loss=411]\n"
     ]
    },
    {
     "name": "stdout",
     "output_type": "stream",
     "text": [
      "Epoch [199/5000]: Train loss: 330.7623, Valid loss: 325.2969\n"
     ]
    },
    {
     "name": "stderr",
     "output_type": "stream",
     "text": [
      "Epoch [200/5000]: 100%|██████████| 10/10 [00:00<00:00, 358.11it/s, loss=331]\n"
     ]
    },
    {
     "name": "stdout",
     "output_type": "stream",
     "text": [
      "Epoch [200/5000]: Train loss: 325.7496, Valid loss: 334.3189\n"
     ]
    },
    {
     "name": "stderr",
     "output_type": "stream",
     "text": [
      "Epoch [201/5000]: 100%|██████████| 10/10 [00:00<00:00, 345.96it/s, loss=360]\n"
     ]
    },
    {
     "name": "stdout",
     "output_type": "stream",
     "text": [
      "Epoch [201/5000]: Train loss: 327.1653, Valid loss: 343.3436\n"
     ]
    },
    {
     "name": "stderr",
     "output_type": "stream",
     "text": [
      "Epoch [202/5000]: 100%|██████████| 10/10 [00:00<00:00, 337.66it/s, loss=315]\n"
     ]
    },
    {
     "name": "stdout",
     "output_type": "stream",
     "text": [
      "Epoch [202/5000]: Train loss: 324.2146, Valid loss: 336.9509\n"
     ]
    },
    {
     "name": "stderr",
     "output_type": "stream",
     "text": [
      "Epoch [203/5000]: 100%|██████████| 10/10 [00:00<00:00, 371.61it/s, loss=317]\n"
     ]
    },
    {
     "name": "stdout",
     "output_type": "stream",
     "text": [
      "Epoch [203/5000]: Train loss: 324.0697, Valid loss: 332.3524\n"
     ]
    },
    {
     "name": "stderr",
     "output_type": "stream",
     "text": [
      "Epoch [204/5000]: 100%|██████████| 10/10 [00:00<00:00, 358.33it/s, loss=242]\n"
     ]
    },
    {
     "name": "stdout",
     "output_type": "stream",
     "text": [
      "Epoch [204/5000]: Train loss: 319.3296, Valid loss: 317.4128\n"
     ]
    },
    {
     "name": "stderr",
     "output_type": "stream",
     "text": [
      "Epoch [205/5000]: 100%|██████████| 10/10 [00:00<00:00, 339.70it/s, loss=307]\n"
     ]
    },
    {
     "name": "stdout",
     "output_type": "stream",
     "text": [
      "Epoch [205/5000]: Train loss: 322.9341, Valid loss: 308.5706\n",
      "Saving model with loss 308.571...\n"
     ]
    },
    {
     "name": "stderr",
     "output_type": "stream",
     "text": [
      "Epoch [206/5000]: 100%|██████████| 10/10 [00:00<00:00, 86.09it/s, loss=276]\n"
     ]
    },
    {
     "name": "stdout",
     "output_type": "stream",
     "text": [
      "Epoch [206/5000]: Train loss: 320.8286, Valid loss: 324.4318\n"
     ]
    },
    {
     "name": "stderr",
     "output_type": "stream",
     "text": [
      "Epoch [207/5000]: 100%|██████████| 10/10 [00:00<00:00, 313.53it/s, loss=370]\n"
     ]
    },
    {
     "name": "stdout",
     "output_type": "stream",
     "text": [
      "Epoch [207/5000]: Train loss: 326.1645, Valid loss: 325.8155\n"
     ]
    },
    {
     "name": "stderr",
     "output_type": "stream",
     "text": [
      "Epoch [208/5000]: 100%|██████████| 10/10 [00:00<00:00, 267.19it/s, loss=327]\n"
     ]
    },
    {
     "name": "stdout",
     "output_type": "stream",
     "text": [
      "Epoch [208/5000]: Train loss: 323.3044, Valid loss: 327.4812\n"
     ]
    },
    {
     "name": "stderr",
     "output_type": "stream",
     "text": [
      "Epoch [209/5000]: 100%|██████████| 10/10 [00:00<00:00, 295.19it/s, loss=262]\n"
     ]
    },
    {
     "name": "stdout",
     "output_type": "stream",
     "text": [
      "Epoch [209/5000]: Train loss: 319.2233, Valid loss: 322.1879\n"
     ]
    },
    {
     "name": "stderr",
     "output_type": "stream",
     "text": [
      "Epoch [210/5000]: 100%|██████████| 10/10 [00:00<00:00, 278.68it/s, loss=334]\n"
     ]
    },
    {
     "name": "stdout",
     "output_type": "stream",
     "text": [
      "Epoch [210/5000]: Train loss: 323.2105, Valid loss: 340.4641\n"
     ]
    },
    {
     "name": "stderr",
     "output_type": "stream",
     "text": [
      "Epoch [211/5000]: 100%|██████████| 10/10 [00:00<00:00, 278.71it/s, loss=334]\n"
     ]
    },
    {
     "name": "stdout",
     "output_type": "stream",
     "text": [
      "Epoch [211/5000]: Train loss: 322.9174, Valid loss: 310.0868\n"
     ]
    },
    {
     "name": "stderr",
     "output_type": "stream",
     "text": [
      "Epoch [212/5000]: 100%|██████████| 10/10 [00:00<00:00, 304.05it/s, loss=276]\n"
     ]
    },
    {
     "name": "stdout",
     "output_type": "stream",
     "text": [
      "Epoch [212/5000]: Train loss: 319.2092, Valid loss: 318.0659\n"
     ]
    },
    {
     "name": "stderr",
     "output_type": "stream",
     "text": [
      "Epoch [213/5000]: 100%|██████████| 10/10 [00:00<00:00, 308.08it/s, loss=333]\n"
     ]
    },
    {
     "name": "stdout",
     "output_type": "stream",
     "text": [
      "Epoch [213/5000]: Train loss: 322.3505, Valid loss: 313.0043\n"
     ]
    },
    {
     "name": "stderr",
     "output_type": "stream",
     "text": [
      "Epoch [214/5000]: 100%|██████████| 10/10 [00:00<00:00, 267.79it/s, loss=313]\n"
     ]
    },
    {
     "name": "stdout",
     "output_type": "stream",
     "text": [
      "Epoch [214/5000]: Train loss: 320.8670, Valid loss: 320.9800\n"
     ]
    },
    {
     "name": "stderr",
     "output_type": "stream",
     "text": [
      "Epoch [215/5000]: 100%|██████████| 10/10 [00:00<00:00, 304.01it/s, loss=283]\n"
     ]
    },
    {
     "name": "stdout",
     "output_type": "stream",
     "text": [
      "Epoch [215/5000]: Train loss: 318.8459, Valid loss: 332.7319\n"
     ]
    },
    {
     "name": "stderr",
     "output_type": "stream",
     "text": [
      "Epoch [216/5000]: 100%|██████████| 10/10 [00:00<00:00, 278.71it/s, loss=251]\n"
     ]
    },
    {
     "name": "stdout",
     "output_type": "stream",
     "text": [
      "Epoch [216/5000]: Train loss: 316.6625, Valid loss: 323.6412\n"
     ]
    },
    {
     "name": "stderr",
     "output_type": "stream",
     "text": [
      "Epoch [217/5000]: 100%|██████████| 10/10 [00:00<00:00, 295.02it/s, loss=335]\n"
     ]
    },
    {
     "name": "stdout",
     "output_type": "stream",
     "text": [
      "Epoch [217/5000]: Train loss: 321.3661, Valid loss: 322.9315\n"
     ]
    },
    {
     "name": "stderr",
     "output_type": "stream",
     "text": [
      "Epoch [218/5000]: 100%|██████████| 10/10 [00:00<00:00, 290.44it/s, loss=271]\n"
     ]
    },
    {
     "name": "stdout",
     "output_type": "stream",
     "text": [
      "Epoch [218/5000]: Train loss: 317.3004, Valid loss: 329.0780\n"
     ]
    },
    {
     "name": "stderr",
     "output_type": "stream",
     "text": [
      "Epoch [219/5000]: 100%|██████████| 10/10 [00:00<00:00, 304.04it/s, loss=374]\n"
     ]
    },
    {
     "name": "stdout",
     "output_type": "stream",
     "text": [
      "Epoch [219/5000]: Train loss: 323.1739, Valid loss: 323.0629\n"
     ]
    },
    {
     "name": "stderr",
     "output_type": "stream",
     "text": [
      "Epoch [220/5000]: 100%|██████████| 10/10 [00:00<00:00, 334.36it/s, loss=314]\n"
     ]
    },
    {
     "name": "stdout",
     "output_type": "stream",
     "text": [
      "Epoch [220/5000]: Train loss: 319.3416, Valid loss: 323.8104\n"
     ]
    },
    {
     "name": "stderr",
     "output_type": "stream",
     "text": [
      "Epoch [221/5000]: 100%|██████████| 10/10 [00:00<00:00, 250.04it/s, loss=317]\n"
     ]
    },
    {
     "name": "stdout",
     "output_type": "stream",
     "text": [
      "Epoch [221/5000]: Train loss: 319.2268, Valid loss: 315.6566\n"
     ]
    },
    {
     "name": "stderr",
     "output_type": "stream",
     "text": [
      "Epoch [222/5000]: 100%|██████████| 10/10 [00:00<00:00, 304.05it/s, loss=342]\n"
     ]
    },
    {
     "name": "stdout",
     "output_type": "stream",
     "text": [
      "Epoch [222/5000]: Train loss: 320.4452, Valid loss: 352.3267\n"
     ]
    },
    {
     "name": "stderr",
     "output_type": "stream",
     "text": [
      "Epoch [223/5000]: 100%|██████████| 10/10 [00:00<00:00, 273.71it/s, loss=331]\n"
     ]
    },
    {
     "name": "stdout",
     "output_type": "stream",
     "text": [
      "Epoch [223/5000]: Train loss: 319.5507, Valid loss: 311.3776\n"
     ]
    },
    {
     "name": "stderr",
     "output_type": "stream",
     "text": [
      "Epoch [224/5000]: 100%|██████████| 10/10 [00:00<00:00, 313.46it/s, loss=338]\n"
     ]
    },
    {
     "name": "stdout",
     "output_type": "stream",
     "text": [
      "Epoch [224/5000]: Train loss: 319.7081, Valid loss: 322.2794\n"
     ]
    },
    {
     "name": "stderr",
     "output_type": "stream",
     "text": [
      "Epoch [225/5000]: 100%|██████████| 10/10 [00:00<00:00, 286.60it/s, loss=308]\n"
     ]
    },
    {
     "name": "stdout",
     "output_type": "stream",
     "text": [
      "Epoch [225/5000]: Train loss: 317.6158, Valid loss: 327.5812\n"
     ]
    },
    {
     "name": "stderr",
     "output_type": "stream",
     "text": [
      "Epoch [226/5000]: 100%|██████████| 10/10 [00:00<00:00, 313.55it/s, loss=347]\n"
     ]
    },
    {
     "name": "stdout",
     "output_type": "stream",
     "text": [
      "Epoch [226/5000]: Train loss: 319.7116, Valid loss: 325.5103\n"
     ]
    },
    {
     "name": "stderr",
     "output_type": "stream",
     "text": [
      "Epoch [227/5000]: 100%|██████████| 10/10 [00:00<00:00, 286.69it/s, loss=353]\n"
     ]
    },
    {
     "name": "stdout",
     "output_type": "stream",
     "text": [
      "Epoch [227/5000]: Train loss: 319.7622, Valid loss: 327.1315\n"
     ]
    },
    {
     "name": "stderr",
     "output_type": "stream",
     "text": [
      "Epoch [228/5000]: 100%|██████████| 10/10 [00:00<00:00, 267.29it/s, loss=317]\n"
     ]
    },
    {
     "name": "stdout",
     "output_type": "stream",
     "text": [
      "Epoch [228/5000]: Train loss: 317.4025, Valid loss: 327.7579\n"
     ]
    },
    {
     "name": "stderr",
     "output_type": "stream",
     "text": [
      "Epoch [229/5000]: 100%|██████████| 10/10 [00:00<00:00, 268.17it/s, loss=325]\n"
     ]
    },
    {
     "name": "stdout",
     "output_type": "stream",
     "text": [
      "Epoch [229/5000]: Train loss: 317.5616, Valid loss: 305.8078\n",
      "Saving model with loss 305.808...\n"
     ]
    },
    {
     "name": "stderr",
     "output_type": "stream",
     "text": [
      "Epoch [230/5000]: 100%|██████████| 10/10 [00:00<00:00, 274.03it/s, loss=302]\n"
     ]
    },
    {
     "name": "stdout",
     "output_type": "stream",
     "text": [
      "Epoch [230/5000]: Train loss: 315.9706, Valid loss: 306.9286\n"
     ]
    },
    {
     "name": "stderr",
     "output_type": "stream",
     "text": [
      "Epoch [231/5000]: 100%|██████████| 10/10 [00:00<00:00, 264.04it/s, loss=334]\n"
     ]
    },
    {
     "name": "stdout",
     "output_type": "stream",
     "text": [
      "Epoch [231/5000]: Train loss: 317.5768, Valid loss: 310.6856\n"
     ]
    },
    {
     "name": "stderr",
     "output_type": "stream",
     "text": [
      "Epoch [232/5000]: 100%|██████████| 10/10 [00:00<00:00, 257.13it/s, loss=240]\n"
     ]
    },
    {
     "name": "stdout",
     "output_type": "stream",
     "text": [
      "Epoch [232/5000]: Train loss: 311.7152, Valid loss: 320.1844\n"
     ]
    },
    {
     "name": "stderr",
     "output_type": "stream",
     "text": [
      "Epoch [233/5000]: 100%|██████████| 10/10 [00:00<00:00, 278.63it/s, loss=320]\n"
     ]
    },
    {
     "name": "stdout",
     "output_type": "stream",
     "text": [
      "Epoch [233/5000]: Train loss: 316.2123, Valid loss: 321.5645\n"
     ]
    },
    {
     "name": "stderr",
     "output_type": "stream",
     "text": [
      "Epoch [234/5000]: 100%|██████████| 10/10 [00:00<00:00, 286.65it/s, loss=280]\n"
     ]
    },
    {
     "name": "stdout",
     "output_type": "stream",
     "text": [
      "Epoch [234/5000]: Train loss: 313.6003, Valid loss: 322.8732\n"
     ]
    },
    {
     "name": "stderr",
     "output_type": "stream",
     "text": [
      "Epoch [235/5000]: 100%|██████████| 10/10 [00:00<00:00, 290.36it/s, loss=371]\n"
     ]
    },
    {
     "name": "stdout",
     "output_type": "stream",
     "text": [
      "Epoch [235/5000]: Train loss: 318.7374, Valid loss: 317.3734\n"
     ]
    },
    {
     "name": "stderr",
     "output_type": "stream",
     "text": [
      "Epoch [236/5000]: 100%|██████████| 10/10 [00:00<00:00, 271.10it/s, loss=319]\n"
     ]
    },
    {
     "name": "stdout",
     "output_type": "stream",
     "text": [
      "Epoch [236/5000]: Train loss: 315.3651, Valid loss: 316.7733\n"
     ]
    },
    {
     "name": "stderr",
     "output_type": "stream",
     "text": [
      "Epoch [237/5000]: 100%|██████████| 10/10 [00:00<00:00, 274.59it/s, loss=303]\n"
     ]
    },
    {
     "name": "stdout",
     "output_type": "stream",
     "text": [
      "Epoch [237/5000]: Train loss: 314.1517, Valid loss: 315.9869\n"
     ]
    },
    {
     "name": "stderr",
     "output_type": "stream",
     "text": [
      "Epoch [238/5000]: 100%|██████████| 10/10 [00:00<00:00, 264.04it/s, loss=342]\n"
     ]
    },
    {
     "name": "stdout",
     "output_type": "stream",
     "text": [
      "Epoch [238/5000]: Train loss: 316.1828, Valid loss: 303.3604\n",
      "Saving model with loss 303.360...\n"
     ]
    },
    {
     "name": "stderr",
     "output_type": "stream",
     "text": [
      "Epoch [239/5000]: 100%|██████████| 10/10 [00:00<00:00, 244.61it/s, loss=347]\n"
     ]
    },
    {
     "name": "stdout",
     "output_type": "stream",
     "text": [
      "Epoch [239/5000]: Train loss: 316.2294, Valid loss: 315.2527\n"
     ]
    },
    {
     "name": "stderr",
     "output_type": "stream",
     "text": [
      "Epoch [240/5000]: 100%|██████████| 10/10 [00:00<00:00, 266.53it/s, loss=287]\n"
     ]
    },
    {
     "name": "stdout",
     "output_type": "stream",
     "text": [
      "Epoch [240/5000]: Train loss: 312.3854, Valid loss: 322.6056\n"
     ]
    },
    {
     "name": "stderr",
     "output_type": "stream",
     "text": [
      "Epoch [241/5000]: 100%|██████████| 10/10 [00:00<00:00, 313.88it/s, loss=280]\n"
     ]
    },
    {
     "name": "stdout",
     "output_type": "stream",
     "text": [
      "Epoch [241/5000]: Train loss: 311.7375, Valid loss: 319.1156\n"
     ]
    },
    {
     "name": "stderr",
     "output_type": "stream",
     "text": [
      "Epoch [242/5000]: 100%|██████████| 10/10 [00:00<00:00, 306.14it/s, loss=322]\n"
     ]
    },
    {
     "name": "stdout",
     "output_type": "stream",
     "text": [
      "Epoch [242/5000]: Train loss: 313.9485, Valid loss: 313.1327\n"
     ]
    },
    {
     "name": "stderr",
     "output_type": "stream",
     "text": [
      "Epoch [243/5000]: 100%|██████████| 10/10 [00:00<00:00, 232.09it/s, loss=348]\n"
     ]
    },
    {
     "name": "stdout",
     "output_type": "stream",
     "text": [
      "Epoch [243/5000]: Train loss: 315.2218, Valid loss: 307.2828\n"
     ]
    },
    {
     "name": "stderr",
     "output_type": "stream",
     "text": [
      "Epoch [244/5000]: 100%|██████████| 10/10 [00:00<00:00, 312.41it/s, loss=258]\n"
     ]
    },
    {
     "name": "stdout",
     "output_type": "stream",
     "text": [
      "Epoch [244/5000]: Train loss: 309.6664, Valid loss: 320.4822\n"
     ]
    },
    {
     "name": "stderr",
     "output_type": "stream",
     "text": [
      "Epoch [245/5000]: 100%|██████████| 10/10 [00:00<00:00, 278.78it/s, loss=232]\n"
     ]
    },
    {
     "name": "stdout",
     "output_type": "stream",
     "text": [
      "Epoch [245/5000]: Train loss: 307.8215, Valid loss: 325.0313\n"
     ]
    },
    {
     "name": "stderr",
     "output_type": "stream",
     "text": [
      "Epoch [246/5000]: 100%|██████████| 10/10 [00:00<00:00, 264.31it/s, loss=331]\n"
     ]
    },
    {
     "name": "stdout",
     "output_type": "stream",
     "text": [
      "Epoch [246/5000]: Train loss: 313.4293, Valid loss: 298.5134\n",
      "Saving model with loss 298.513...\n"
     ]
    },
    {
     "name": "stderr",
     "output_type": "stream",
     "text": [
      "Epoch [247/5000]: 100%|██████████| 10/10 [00:00<00:00, 289.63it/s, loss=319]\n"
     ]
    },
    {
     "name": "stdout",
     "output_type": "stream",
     "text": [
      "Epoch [247/5000]: Train loss: 312.4911, Valid loss: 315.4267\n"
     ]
    },
    {
     "name": "stderr",
     "output_type": "stream",
     "text": [
      "Epoch [248/5000]: 100%|██████████| 10/10 [00:00<00:00, 271.75it/s, loss=332]\n"
     ]
    },
    {
     "name": "stdout",
     "output_type": "stream",
     "text": [
      "Epoch [248/5000]: Train loss: 312.9605, Valid loss: 310.8431\n"
     ]
    },
    {
     "name": "stderr",
     "output_type": "stream",
     "text": [
      "Epoch [249/5000]: 100%|██████████| 10/10 [00:00<00:00, 273.15it/s, loss=262]\n"
     ]
    },
    {
     "name": "stdout",
     "output_type": "stream",
     "text": [
      "Epoch [249/5000]: Train loss: 308.5575, Valid loss: 309.8115\n"
     ]
    },
    {
     "name": "stderr",
     "output_type": "stream",
     "text": [
      "Epoch [250/5000]: 100%|██████████| 10/10 [00:00<00:00, 313.54it/s, loss=333]\n"
     ]
    },
    {
     "name": "stdout",
     "output_type": "stream",
     "text": [
      "Epoch [250/5000]: Train loss: 312.5416, Valid loss: 294.7376\n",
      "Saving model with loss 294.738...\n"
     ]
    },
    {
     "name": "stderr",
     "output_type": "stream",
     "text": [
      "Epoch [251/5000]: 100%|██████████| 10/10 [00:00<00:00, 278.24it/s, loss=287]\n"
     ]
    },
    {
     "name": "stdout",
     "output_type": "stream",
     "text": [
      "Epoch [251/5000]: Train loss: 309.5327, Valid loss: 303.2691\n"
     ]
    },
    {
     "name": "stderr",
     "output_type": "stream",
     "text": [
      "Epoch [252/5000]: 100%|██████████| 10/10 [00:00<00:00, 316.21it/s, loss=276]\n"
     ]
    },
    {
     "name": "stdout",
     "output_type": "stream",
     "text": [
      "Epoch [252/5000]: Train loss: 308.6388, Valid loss: 316.0752\n"
     ]
    },
    {
     "name": "stderr",
     "output_type": "stream",
     "text": [
      "Epoch [253/5000]: 100%|██████████| 10/10 [00:00<00:00, 287.02it/s, loss=327]\n"
     ]
    },
    {
     "name": "stdout",
     "output_type": "stream",
     "text": [
      "Epoch [253/5000]: Train loss: 311.3652, Valid loss: 311.7107\n"
     ]
    },
    {
     "name": "stderr",
     "output_type": "stream",
     "text": [
      "Epoch [254/5000]: 100%|██████████| 10/10 [00:00<00:00, 280.30it/s, loss=298]\n"
     ]
    },
    {
     "name": "stdout",
     "output_type": "stream",
     "text": [
      "Epoch [254/5000]: Train loss: 309.3895, Valid loss: 314.6273\n"
     ]
    },
    {
     "name": "stderr",
     "output_type": "stream",
     "text": [
      "Epoch [255/5000]: 100%|██████████| 10/10 [00:00<00:00, 278.80it/s, loss=323]\n"
     ]
    },
    {
     "name": "stdout",
     "output_type": "stream",
     "text": [
      "Epoch [255/5000]: Train loss: 310.6374, Valid loss: 320.9039\n"
     ]
    },
    {
     "name": "stderr",
     "output_type": "stream",
     "text": [
      "Epoch [256/5000]: 100%|██████████| 10/10 [00:00<00:00, 258.62it/s, loss=270]\n"
     ]
    },
    {
     "name": "stdout",
     "output_type": "stream",
     "text": [
      "Epoch [256/5000]: Train loss: 307.2346, Valid loss: 320.3586\n"
     ]
    },
    {
     "name": "stderr",
     "output_type": "stream",
     "text": [
      "Epoch [257/5000]: 100%|██████████| 10/10 [00:00<00:00, 264.03it/s, loss=353]\n"
     ]
    },
    {
     "name": "stdout",
     "output_type": "stream",
     "text": [
      "Epoch [257/5000]: Train loss: 311.8831, Valid loss: 310.2250\n"
     ]
    },
    {
     "name": "stderr",
     "output_type": "stream",
     "text": [
      "Epoch [258/5000]: 100%|██████████| 10/10 [00:00<00:00, 323.91it/s, loss=316]\n"
     ]
    },
    {
     "name": "stdout",
     "output_type": "stream",
     "text": [
      "Epoch [258/5000]: Train loss: 309.4359, Valid loss: 311.7204\n"
     ]
    },
    {
     "name": "stderr",
     "output_type": "stream",
     "text": [
      "Epoch [259/5000]: 100%|██████████| 10/10 [00:00<00:00, 326.77it/s, loss=296]\n"
     ]
    },
    {
     "name": "stdout",
     "output_type": "stream",
     "text": [
      "Epoch [259/5000]: Train loss: 307.9927, Valid loss: 309.7307\n"
     ]
    },
    {
     "name": "stderr",
     "output_type": "stream",
     "text": [
      "Epoch [260/5000]: 100%|██████████| 10/10 [00:00<00:00, 271.01it/s, loss=274]\n"
     ]
    },
    {
     "name": "stdout",
     "output_type": "stream",
     "text": [
      "Epoch [260/5000]: Train loss: 306.4295, Valid loss: 327.6260\n"
     ]
    },
    {
     "name": "stderr",
     "output_type": "stream",
     "text": [
      "Epoch [261/5000]: 100%|██████████| 10/10 [00:00<00:00, 272.71it/s, loss=365]\n"
     ]
    },
    {
     "name": "stdout",
     "output_type": "stream",
     "text": [
      "Epoch [261/5000]: Train loss: 311.5619, Valid loss: 299.5292\n"
     ]
    },
    {
     "name": "stderr",
     "output_type": "stream",
     "text": [
      "Epoch [262/5000]: 100%|██████████| 10/10 [00:00<00:00, 271.22it/s, loss=228]\n"
     ]
    },
    {
     "name": "stdout",
     "output_type": "stream",
     "text": [
      "Epoch [262/5000]: Train loss: 303.1439, Valid loss: 310.5898\n"
     ]
    },
    {
     "name": "stderr",
     "output_type": "stream",
     "text": [
      "Epoch [263/5000]: 100%|██████████| 10/10 [00:00<00:00, 270.52it/s, loss=302]\n"
     ]
    },
    {
     "name": "stdout",
     "output_type": "stream",
     "text": [
      "Epoch [263/5000]: Train loss: 307.3030, Valid loss: 319.1591\n"
     ]
    },
    {
     "name": "stderr",
     "output_type": "stream",
     "text": [
      "Epoch [264/5000]: 100%|██████████| 10/10 [00:00<00:00, 289.19it/s, loss=280]\n"
     ]
    },
    {
     "name": "stdout",
     "output_type": "stream",
     "text": [
      "Epoch [264/5000]: Train loss: 305.7488, Valid loss: 308.4283\n"
     ]
    },
    {
     "name": "stderr",
     "output_type": "stream",
     "text": [
      "Epoch [265/5000]: 100%|██████████| 10/10 [00:00<00:00, 323.66it/s, loss=319]\n"
     ]
    },
    {
     "name": "stdout",
     "output_type": "stream",
     "text": [
      "Epoch [265/5000]: Train loss: 307.8151, Valid loss: 301.8065\n"
     ]
    },
    {
     "name": "stderr",
     "output_type": "stream",
     "text": [
      "Epoch [266/5000]: 100%|██████████| 10/10 [00:00<00:00, 288.57it/s, loss=335]\n"
     ]
    },
    {
     "name": "stdout",
     "output_type": "stream",
     "text": [
      "Epoch [266/5000]: Train loss: 308.4638, Valid loss: 305.9397\n"
     ]
    },
    {
     "name": "stderr",
     "output_type": "stream",
     "text": [
      "Epoch [267/5000]: 100%|██████████| 10/10 [00:00<00:00, 304.16it/s, loss=316]\n"
     ]
    },
    {
     "name": "stdout",
     "output_type": "stream",
     "text": [
      "Epoch [267/5000]: Train loss: 307.1319, Valid loss: 315.8419\n"
     ]
    },
    {
     "name": "stderr",
     "output_type": "stream",
     "text": [
      "Epoch [268/5000]: 100%|██████████| 10/10 [00:00<00:00, 271.23it/s, loss=333]\n"
     ]
    },
    {
     "name": "stdout",
     "output_type": "stream",
     "text": [
      "Epoch [268/5000]: Train loss: 307.8322, Valid loss: 300.5474\n"
     ]
    },
    {
     "name": "stderr",
     "output_type": "stream",
     "text": [
      "Epoch [269/5000]: 100%|██████████| 10/10 [00:00<00:00, 252.91it/s, loss=305]\n"
     ]
    },
    {
     "name": "stdout",
     "output_type": "stream",
     "text": [
      "Epoch [269/5000]: Train loss: 305.9504, Valid loss: 307.9128\n"
     ]
    },
    {
     "name": "stderr",
     "output_type": "stream",
     "text": [
      "Epoch [270/5000]: 100%|██████████| 10/10 [00:00<00:00, 278.77it/s, loss=330]\n"
     ]
    },
    {
     "name": "stdout",
     "output_type": "stream",
     "text": [
      "Epoch [270/5000]: Train loss: 307.1561, Valid loss: 324.6633\n"
     ]
    },
    {
     "name": "stderr",
     "output_type": "stream",
     "text": [
      "Epoch [271/5000]: 100%|██████████| 10/10 [00:00<00:00, 315.18it/s, loss=323]\n"
     ]
    },
    {
     "name": "stdout",
     "output_type": "stream",
     "text": [
      "Epoch [271/5000]: Train loss: 306.5095, Valid loss: 310.9797\n"
     ]
    },
    {
     "name": "stderr",
     "output_type": "stream",
     "text": [
      "Epoch [272/5000]: 100%|██████████| 10/10 [00:00<00:00, 334.47it/s, loss=337]\n"
     ]
    },
    {
     "name": "stdout",
     "output_type": "stream",
     "text": [
      "Epoch [272/5000]: Train loss: 307.0696, Valid loss: 320.9130\n"
     ]
    },
    {
     "name": "stderr",
     "output_type": "stream",
     "text": [
      "Epoch [273/5000]: 100%|██████████| 10/10 [00:00<00:00, 298.55it/s, loss=358]\n"
     ]
    },
    {
     "name": "stdout",
     "output_type": "stream",
     "text": [
      "Epoch [273/5000]: Train loss: 308.0520, Valid loss: 316.9168\n"
     ]
    },
    {
     "name": "stderr",
     "output_type": "stream",
     "text": [
      "Epoch [274/5000]: 100%|██████████| 10/10 [00:00<00:00, 252.90it/s, loss=310]\n"
     ]
    },
    {
     "name": "stdout",
     "output_type": "stream",
     "text": [
      "Epoch [274/5000]: Train loss: 304.9461, Valid loss: 314.2672\n"
     ]
    },
    {
     "name": "stderr",
     "output_type": "stream",
     "text": [
      "Epoch [275/5000]: 100%|██████████| 10/10 [00:00<00:00, 286.68it/s, loss=320]\n"
     ]
    },
    {
     "name": "stdout",
     "output_type": "stream",
     "text": [
      "Epoch [275/5000]: Train loss: 305.2645, Valid loss: 305.7164\n"
     ]
    },
    {
     "name": "stderr",
     "output_type": "stream",
     "text": [
      "Epoch [276/5000]: 100%|██████████| 10/10 [00:00<00:00, 252.21it/s, loss=304]\n"
     ]
    },
    {
     "name": "stdout",
     "output_type": "stream",
     "text": [
      "Epoch [276/5000]: Train loss: 304.0802, Valid loss: 305.8494\n"
     ]
    },
    {
     "name": "stderr",
     "output_type": "stream",
     "text": [
      "Epoch [277/5000]: 100%|██████████| 10/10 [00:00<00:00, 286.73it/s, loss=298]\n"
     ]
    },
    {
     "name": "stdout",
     "output_type": "stream",
     "text": [
      "Epoch [277/5000]: Train loss: 303.4369, Valid loss: 294.0483\n",
      "Saving model with loss 294.048...\n"
     ]
    },
    {
     "name": "stderr",
     "output_type": "stream",
     "text": [
      "Epoch [278/5000]: 100%|██████████| 10/10 [00:00<00:00, 286.05it/s, loss=359]\n"
     ]
    },
    {
     "name": "stdout",
     "output_type": "stream",
     "text": [
      "Epoch [278/5000]: Train loss: 306.8397, Valid loss: 296.4722\n"
     ]
    },
    {
     "name": "stderr",
     "output_type": "stream",
     "text": [
      "Epoch [279/5000]: 100%|██████████| 10/10 [00:00<00:00, 313.46it/s, loss=383]\n"
     ]
    },
    {
     "name": "stdout",
     "output_type": "stream",
     "text": [
      "Epoch [279/5000]: Train loss: 308.0021, Valid loss: 305.4527\n"
     ]
    },
    {
     "name": "stderr",
     "output_type": "stream",
     "text": [
      "Epoch [280/5000]: 100%|██████████| 10/10 [00:00<00:00, 304.09it/s, loss=294]\n"
     ]
    },
    {
     "name": "stdout",
     "output_type": "stream",
     "text": [
      "Epoch [280/5000]: Train loss: 302.4716, Valid loss: 284.5960\n",
      "Saving model with loss 284.596...\n"
     ]
    },
    {
     "name": "stderr",
     "output_type": "stream",
     "text": [
      "Epoch [281/5000]: 100%|██████████| 10/10 [00:00<00:00, 296.87it/s, loss=343]\n"
     ]
    },
    {
     "name": "stdout",
     "output_type": "stream",
     "text": [
      "Epoch [281/5000]: Train loss: 305.0787, Valid loss: 303.9294\n"
     ]
    },
    {
     "name": "stderr",
     "output_type": "stream",
     "text": [
      "Epoch [282/5000]: 100%|██████████| 10/10 [00:00<00:00, 264.10it/s, loss=375]\n"
     ]
    },
    {
     "name": "stdout",
     "output_type": "stream",
     "text": [
      "Epoch [282/5000]: Train loss: 306.7694, Valid loss: 288.8377\n"
     ]
    },
    {
     "name": "stderr",
     "output_type": "stream",
     "text": [
      "Epoch [283/5000]: 100%|██████████| 10/10 [00:00<00:00, 277.91it/s, loss=346]\n"
     ]
    },
    {
     "name": "stdout",
     "output_type": "stream",
     "text": [
      "Epoch [283/5000]: Train loss: 304.7571, Valid loss: 315.8541\n"
     ]
    },
    {
     "name": "stderr",
     "output_type": "stream",
     "text": [
      "Epoch [284/5000]: 100%|██████████| 10/10 [00:00<00:00, 313.41it/s, loss=317]\n"
     ]
    },
    {
     "name": "stdout",
     "output_type": "stream",
     "text": [
      "Epoch [284/5000]: Train loss: 302.7740, Valid loss: 303.8396\n"
     ]
    },
    {
     "name": "stderr",
     "output_type": "stream",
     "text": [
      "Epoch [285/5000]: 100%|██████████| 10/10 [00:00<00:00, 323.71it/s, loss=280]\n"
     ]
    },
    {
     "name": "stdout",
     "output_type": "stream",
     "text": [
      "Epoch [285/5000]: Train loss: 300.3493, Valid loss: 301.6301\n"
     ]
    },
    {
     "name": "stderr",
     "output_type": "stream",
     "text": [
      "Epoch [286/5000]: 100%|██████████| 10/10 [00:00<00:00, 280.87it/s, loss=343]\n"
     ]
    },
    {
     "name": "stdout",
     "output_type": "stream",
     "text": [
      "Epoch [286/5000]: Train loss: 303.8152, Valid loss: 299.3451\n"
     ]
    },
    {
     "name": "stderr",
     "output_type": "stream",
     "text": [
      "Epoch [287/5000]: 100%|██████████| 10/10 [00:00<00:00, 304.55it/s, loss=311]\n"
     ]
    },
    {
     "name": "stdout",
     "output_type": "stream",
     "text": [
      "Epoch [287/5000]: Train loss: 301.6747, Valid loss: 305.0469\n"
     ]
    },
    {
     "name": "stderr",
     "output_type": "stream",
     "text": [
      "Epoch [288/5000]: 100%|██████████| 10/10 [00:00<00:00, 323.25it/s, loss=250]\n"
     ]
    },
    {
     "name": "stdout",
     "output_type": "stream",
     "text": [
      "Epoch [288/5000]: Train loss: 297.7809, Valid loss: 296.2563\n"
     ]
    },
    {
     "name": "stderr",
     "output_type": "stream",
     "text": [
      "Epoch [289/5000]: 100%|██████████| 10/10 [00:00<00:00, 273.48it/s, loss=296]\n"
     ]
    },
    {
     "name": "stdout",
     "output_type": "stream",
     "text": [
      "Epoch [289/5000]: Train loss: 300.2569, Valid loss: 298.2811\n"
     ]
    },
    {
     "name": "stderr",
     "output_type": "stream",
     "text": [
      "Epoch [290/5000]: 100%|██████████| 10/10 [00:00<00:00, 257.20it/s, loss=327]\n"
     ]
    },
    {
     "name": "stdout",
     "output_type": "stream",
     "text": [
      "Epoch [290/5000]: Train loss: 301.8493, Valid loss: 295.5561\n"
     ]
    },
    {
     "name": "stderr",
     "output_type": "stream",
     "text": [
      "Epoch [291/5000]: 100%|██████████| 10/10 [00:00<00:00, 273.44it/s, loss=313]\n"
     ]
    },
    {
     "name": "stdout",
     "output_type": "stream",
     "text": [
      "Epoch [291/5000]: Train loss: 300.7507, Valid loss: 302.1255\n"
     ]
    },
    {
     "name": "stderr",
     "output_type": "stream",
     "text": [
      "Epoch [292/5000]: 100%|██████████| 10/10 [00:00<00:00, 304.14it/s, loss=315]\n"
     ]
    },
    {
     "name": "stdout",
     "output_type": "stream",
     "text": [
      "Epoch [292/5000]: Train loss: 300.6534, Valid loss: 306.6256\n"
     ]
    },
    {
     "name": "stderr",
     "output_type": "stream",
     "text": [
      "Epoch [293/5000]: 100%|██████████| 10/10 [00:00<00:00, 285.95it/s, loss=263]\n"
     ]
    },
    {
     "name": "stdout",
     "output_type": "stream",
     "text": [
      "Epoch [293/5000]: Train loss: 297.3001, Valid loss: 319.9355\n"
     ]
    },
    {
     "name": "stderr",
     "output_type": "stream",
     "text": [
      "Epoch [294/5000]: 100%|██████████| 10/10 [00:00<00:00, 224.73it/s, loss=252]\n"
     ]
    },
    {
     "name": "stdout",
     "output_type": "stream",
     "text": [
      "Epoch [294/5000]: Train loss: 296.3699, Valid loss: 294.9963\n"
     ]
    },
    {
     "name": "stderr",
     "output_type": "stream",
     "text": [
      "Epoch [295/5000]: 100%|██████████| 10/10 [00:00<00:00, 257.28it/s, loss=265]\n"
     ]
    },
    {
     "name": "stdout",
     "output_type": "stream",
     "text": [
      "Epoch [295/5000]: Train loss: 296.9284, Valid loss: 314.9796\n"
     ]
    },
    {
     "name": "stderr",
     "output_type": "stream",
     "text": [
      "Epoch [296/5000]: 100%|██████████| 10/10 [00:00<00:00, 273.51it/s, loss=362]\n"
     ]
    },
    {
     "name": "stdout",
     "output_type": "stream",
     "text": [
      "Epoch [296/5000]: Train loss: 302.4099, Valid loss: 301.7891\n"
     ]
    },
    {
     "name": "stderr",
     "output_type": "stream",
     "text": [
      "Epoch [297/5000]: 100%|██████████| 10/10 [00:00<00:00, 270.85it/s, loss=311]\n"
     ]
    },
    {
     "name": "stdout",
     "output_type": "stream",
     "text": [
      "Epoch [297/5000]: Train loss: 299.1635, Valid loss: 299.2718\n"
     ]
    },
    {
     "name": "stderr",
     "output_type": "stream",
     "text": [
      "Epoch [298/5000]: 100%|██████████| 10/10 [00:00<00:00, 280.37it/s, loss=324]\n"
     ]
    },
    {
     "name": "stdout",
     "output_type": "stream",
     "text": [
      "Epoch [298/5000]: Train loss: 299.6761, Valid loss: 294.5987\n"
     ]
    },
    {
     "name": "stderr",
     "output_type": "stream",
     "text": [
      "Epoch [299/5000]: 100%|██████████| 10/10 [00:00<00:00, 278.61it/s, loss=345]\n"
     ]
    },
    {
     "name": "stdout",
     "output_type": "stream",
     "text": [
      "Epoch [299/5000]: Train loss: 300.6816, Valid loss: 301.1112\n"
     ]
    },
    {
     "name": "stderr",
     "output_type": "stream",
     "text": [
      "Epoch [300/5000]: 100%|██████████| 10/10 [00:00<00:00, 303.21it/s, loss=279]\n"
     ]
    },
    {
     "name": "stdout",
     "output_type": "stream",
     "text": [
      "Epoch [300/5000]: Train loss: 296.5031, Valid loss: 307.0847\n"
     ]
    },
    {
     "name": "stderr",
     "output_type": "stream",
     "text": [
      "Epoch [301/5000]: 100%|██████████| 10/10 [00:00<00:00, 316.83it/s, loss=352]\n"
     ]
    },
    {
     "name": "stdout",
     "output_type": "stream",
     "text": [
      "Epoch [301/5000]: Train loss: 300.5612, Valid loss: 291.6136\n"
     ]
    },
    {
     "name": "stderr",
     "output_type": "stream",
     "text": [
      "Epoch [302/5000]: 100%|██████████| 10/10 [00:00<00:00, 304.08it/s, loss=327]\n"
     ]
    },
    {
     "name": "stdout",
     "output_type": "stream",
     "text": [
      "Epoch [302/5000]: Train loss: 298.8112, Valid loss: 300.0263\n"
     ]
    },
    {
     "name": "stderr",
     "output_type": "stream",
     "text": [
      "Epoch [303/5000]: 100%|██████████| 10/10 [00:00<00:00, 315.06it/s, loss=227]\n"
     ]
    },
    {
     "name": "stdout",
     "output_type": "stream",
     "text": [
      "Epoch [303/5000]: Train loss: 292.6409, Valid loss: 295.6272\n"
     ]
    },
    {
     "name": "stderr",
     "output_type": "stream",
     "text": [
      "Epoch [304/5000]: 100%|██████████| 10/10 [00:00<00:00, 271.19it/s, loss=254]\n"
     ]
    },
    {
     "name": "stdout",
     "output_type": "stream",
     "text": [
      "Epoch [304/5000]: Train loss: 294.0140, Valid loss: 306.9301\n"
     ]
    },
    {
     "name": "stderr",
     "output_type": "stream",
     "text": [
      "Epoch [305/5000]: 100%|██████████| 10/10 [00:00<00:00, 313.59it/s, loss=279]\n"
     ]
    },
    {
     "name": "stdout",
     "output_type": "stream",
     "text": [
      "Epoch [305/5000]: Train loss: 295.2283, Valid loss: 305.8347\n"
     ]
    },
    {
     "name": "stderr",
     "output_type": "stream",
     "text": [
      "Epoch [306/5000]: 100%|██████████| 10/10 [00:00<00:00, 316.62it/s, loss=264]\n"
     ]
    },
    {
     "name": "stdout",
     "output_type": "stream",
     "text": [
      "Epoch [306/5000]: Train loss: 294.0710, Valid loss: 316.5207\n"
     ]
    },
    {
     "name": "stderr",
     "output_type": "stream",
     "text": [
      "Epoch [307/5000]: 100%|██████████| 10/10 [00:00<00:00, 271.13it/s, loss=287]\n"
     ]
    },
    {
     "name": "stdout",
     "output_type": "stream",
     "text": [
      "Epoch [307/5000]: Train loss: 295.2139, Valid loss: 298.2373\n"
     ]
    },
    {
     "name": "stderr",
     "output_type": "stream",
     "text": [
      "Epoch [308/5000]: 100%|██████████| 10/10 [00:00<00:00, 322.62it/s, loss=276]\n"
     ]
    },
    {
     "name": "stdout",
     "output_type": "stream",
     "text": [
      "Epoch [308/5000]: Train loss: 294.2992, Valid loss: 309.9677\n"
     ]
    },
    {
     "name": "stderr",
     "output_type": "stream",
     "text": [
      "Epoch [309/5000]: 100%|██████████| 10/10 [00:00<00:00, 313.55it/s, loss=278]\n"
     ]
    },
    {
     "name": "stdout",
     "output_type": "stream",
     "text": [
      "Epoch [309/5000]: Train loss: 294.1574, Valid loss: 295.2441\n"
     ]
    },
    {
     "name": "stderr",
     "output_type": "stream",
     "text": [
      "Epoch [310/5000]: 100%|██████████| 10/10 [00:00<00:00, 313.63it/s, loss=279]\n"
     ]
    },
    {
     "name": "stdout",
     "output_type": "stream",
     "text": [
      "Epoch [310/5000]: Train loss: 292.8770, Valid loss: 289.1947\n"
     ]
    },
    {
     "name": "stderr",
     "output_type": "stream",
     "text": [
      "Epoch [311/5000]: 100%|██████████| 10/10 [00:00<00:00, 306.13it/s, loss=292]\n"
     ]
    },
    {
     "name": "stdout",
     "output_type": "stream",
     "text": [
      "Epoch [311/5000]: Train loss: 277.0659, Valid loss: 239.9378\n",
      "Saving model with loss 239.938...\n"
     ]
    },
    {
     "name": "stderr",
     "output_type": "stream",
     "text": [
      "Epoch [312/5000]: 100%|██████████| 10/10 [00:00<00:00, 295.28it/s, loss=102]\n"
     ]
    },
    {
     "name": "stdout",
     "output_type": "stream",
     "text": [
      "Epoch [312/5000]: Train loss: 182.5812, Valid loss: 88.3758\n",
      "Saving model with loss 88.376...\n"
     ]
    },
    {
     "name": "stderr",
     "output_type": "stream",
     "text": [
      "Epoch [313/5000]: 100%|██████████| 10/10 [00:00<00:00, 294.45it/s, loss=33.7]\n"
     ]
    },
    {
     "name": "stdout",
     "output_type": "stream",
     "text": [
      "Epoch [313/5000]: Train loss: 38.6676, Valid loss: 38.3030\n",
      "Saving model with loss 38.303...\n"
     ]
    },
    {
     "name": "stderr",
     "output_type": "stream",
     "text": [
      "Epoch [314/5000]: 100%|██████████| 10/10 [00:00<00:00, 281.66it/s, loss=17.4]\n"
     ]
    },
    {
     "name": "stdout",
     "output_type": "stream",
     "text": [
      "Epoch [314/5000]: Train loss: 30.4800, Valid loss: 17.2119\n",
      "Saving model with loss 17.212...\n"
     ]
    },
    {
     "name": "stderr",
     "output_type": "stream",
     "text": [
      "Epoch [315/5000]: 100%|██████████| 10/10 [00:00<00:00, 313.67it/s, loss=21.2]\n"
     ]
    },
    {
     "name": "stdout",
     "output_type": "stream",
     "text": [
      "Epoch [315/5000]: Train loss: 19.9576, Valid loss: 21.4435\n"
     ]
    },
    {
     "name": "stderr",
     "output_type": "stream",
     "text": [
      "Epoch [316/5000]: 100%|██████████| 10/10 [00:00<00:00, 315.71it/s, loss=19.6]\n"
     ]
    },
    {
     "name": "stdout",
     "output_type": "stream",
     "text": [
      "Epoch [316/5000]: Train loss: 18.2491, Valid loss: 16.7151\n",
      "Saving model with loss 16.715...\n"
     ]
    },
    {
     "name": "stderr",
     "output_type": "stream",
     "text": [
      "Epoch [317/5000]: 100%|██████████| 10/10 [00:00<00:00, 278.71it/s, loss=15.9]\n"
     ]
    },
    {
     "name": "stdout",
     "output_type": "stream",
     "text": [
      "Epoch [317/5000]: Train loss: 17.2788, Valid loss: 16.6117\n",
      "Saving model with loss 16.612...\n"
     ]
    },
    {
     "name": "stderr",
     "output_type": "stream",
     "text": [
      "Epoch [318/5000]: 100%|██████████| 10/10 [00:00<00:00, 286.03it/s, loss=15.9]\n"
     ]
    },
    {
     "name": "stdout",
     "output_type": "stream",
     "text": [
      "Epoch [318/5000]: Train loss: 16.6741, Valid loss: 16.6918\n"
     ]
    },
    {
     "name": "stderr",
     "output_type": "stream",
     "text": [
      "Epoch [319/5000]: 100%|██████████| 10/10 [00:00<00:00, 323.59it/s, loss=14.3]\n"
     ]
    },
    {
     "name": "stdout",
     "output_type": "stream",
     "text": [
      "Epoch [319/5000]: Train loss: 16.4465, Valid loss: 16.6968\n"
     ]
    },
    {
     "name": "stderr",
     "output_type": "stream",
     "text": [
      "Epoch [320/5000]: 100%|██████████| 10/10 [00:00<00:00, 304.09it/s, loss=15.4]\n"
     ]
    },
    {
     "name": "stdout",
     "output_type": "stream",
     "text": [
      "Epoch [320/5000]: Train loss: 16.3021, Valid loss: 15.7380\n",
      "Saving model with loss 15.738...\n"
     ]
    },
    {
     "name": "stderr",
     "output_type": "stream",
     "text": [
      "Epoch [321/5000]: 100%|██████████| 10/10 [00:00<00:00, 325.83it/s, loss=11.7]\n"
     ]
    },
    {
     "name": "stdout",
     "output_type": "stream",
     "text": [
      "Epoch [321/5000]: Train loss: 15.9305, Valid loss: 15.8413\n"
     ]
    },
    {
     "name": "stderr",
     "output_type": "stream",
     "text": [
      "Epoch [322/5000]: 100%|██████████| 10/10 [00:00<00:00, 286.77it/s, loss=14.9]\n"
     ]
    },
    {
     "name": "stdout",
     "output_type": "stream",
     "text": [
      "Epoch [322/5000]: Train loss: 15.9663, Valid loss: 16.0177\n"
     ]
    },
    {
     "name": "stderr",
     "output_type": "stream",
     "text": [
      "Epoch [323/5000]: 100%|██████████| 10/10 [00:00<00:00, 322.71it/s, loss=14.4]\n"
     ]
    },
    {
     "name": "stdout",
     "output_type": "stream",
     "text": [
      "Epoch [323/5000]: Train loss: 15.7775, Valid loss: 15.7713\n"
     ]
    },
    {
     "name": "stderr",
     "output_type": "stream",
     "text": [
      "Epoch [324/5000]: 100%|██████████| 10/10 [00:00<00:00, 327.17it/s, loss=14.8]\n"
     ]
    },
    {
     "name": "stdout",
     "output_type": "stream",
     "text": [
      "Epoch [324/5000]: Train loss: 15.6527, Valid loss: 15.5182\n",
      "Saving model with loss 15.518...\n"
     ]
    },
    {
     "name": "stderr",
     "output_type": "stream",
     "text": [
      "Epoch [325/5000]: 100%|██████████| 10/10 [00:00<00:00, 278.38it/s, loss=15.5]\n"
     ]
    },
    {
     "name": "stdout",
     "output_type": "stream",
     "text": [
      "Epoch [325/5000]: Train loss: 15.5537, Valid loss: 15.2677\n",
      "Saving model with loss 15.268...\n"
     ]
    },
    {
     "name": "stderr",
     "output_type": "stream",
     "text": [
      "Epoch [326/5000]: 100%|██████████| 10/10 [00:00<00:00, 288.46it/s, loss=15.7]\n"
     ]
    },
    {
     "name": "stdout",
     "output_type": "stream",
     "text": [
      "Epoch [326/5000]: Train loss: 15.4044, Valid loss: 15.2143\n",
      "Saving model with loss 15.214...\n"
     ]
    },
    {
     "name": "stderr",
     "output_type": "stream",
     "text": [
      "Epoch [327/5000]: 100%|██████████| 10/10 [00:00<00:00, 313.49it/s, loss=17.8]\n"
     ]
    },
    {
     "name": "stdout",
     "output_type": "stream",
     "text": [
      "Epoch [327/5000]: Train loss: 15.3871, Valid loss: 14.4604\n",
      "Saving model with loss 14.460...\n"
     ]
    },
    {
     "name": "stderr",
     "output_type": "stream",
     "text": [
      "Epoch [328/5000]: 100%|██████████| 10/10 [00:00<00:00, 294.42it/s, loss=15.7]\n"
     ]
    },
    {
     "name": "stdout",
     "output_type": "stream",
     "text": [
      "Epoch [328/5000]: Train loss: 15.1093, Valid loss: 15.2861\n"
     ]
    },
    {
     "name": "stderr",
     "output_type": "stream",
     "text": [
      "Epoch [329/5000]: 100%|██████████| 10/10 [00:00<00:00, 327.08it/s, loss=18]\n"
     ]
    },
    {
     "name": "stdout",
     "output_type": "stream",
     "text": [
      "Epoch [329/5000]: Train loss: 15.0894, Valid loss: 15.0778\n"
     ]
    },
    {
     "name": "stderr",
     "output_type": "stream",
     "text": [
      "Epoch [330/5000]: 100%|██████████| 10/10 [00:00<00:00, 313.56it/s, loss=15.4]\n"
     ]
    },
    {
     "name": "stdout",
     "output_type": "stream",
     "text": [
      "Epoch [330/5000]: Train loss: 14.7894, Valid loss: 14.9235\n"
     ]
    },
    {
     "name": "stderr",
     "output_type": "stream",
     "text": [
      "Epoch [331/5000]: 100%|██████████| 10/10 [00:00<00:00, 303.30it/s, loss=14.7]\n"
     ]
    },
    {
     "name": "stdout",
     "output_type": "stream",
     "text": [
      "Epoch [331/5000]: Train loss: 14.5916, Valid loss: 14.7112\n"
     ]
    },
    {
     "name": "stderr",
     "output_type": "stream",
     "text": [
      "Epoch [332/5000]: 100%|██████████| 10/10 [00:00<00:00, 323.73it/s, loss=11.8]\n"
     ]
    },
    {
     "name": "stdout",
     "output_type": "stream",
     "text": [
      "Epoch [332/5000]: Train loss: 14.2732, Valid loss: 13.9879\n",
      "Saving model with loss 13.988...\n"
     ]
    },
    {
     "name": "stderr",
     "output_type": "stream",
     "text": [
      "Epoch [333/5000]: 100%|██████████| 10/10 [00:00<00:00, 294.36it/s, loss=12.9]\n"
     ]
    },
    {
     "name": "stdout",
     "output_type": "stream",
     "text": [
      "Epoch [333/5000]: Train loss: 14.1875, Valid loss: 13.5220\n",
      "Saving model with loss 13.522...\n"
     ]
    },
    {
     "name": "stderr",
     "output_type": "stream",
     "text": [
      "Epoch [334/5000]: 100%|██████████| 10/10 [00:00<00:00, 298.33it/s, loss=14.8]\n"
     ]
    },
    {
     "name": "stdout",
     "output_type": "stream",
     "text": [
      "Epoch [334/5000]: Train loss: 14.1330, Valid loss: 13.7263\n"
     ]
    },
    {
     "name": "stderr",
     "output_type": "stream",
     "text": [
      "Epoch [335/5000]: 100%|██████████| 10/10 [00:00<00:00, 274.40it/s, loss=13]\n"
     ]
    },
    {
     "name": "stdout",
     "output_type": "stream",
     "text": [
      "Epoch [335/5000]: Train loss: 13.8013, Valid loss: 13.5241\n"
     ]
    },
    {
     "name": "stderr",
     "output_type": "stream",
     "text": [
      "Epoch [336/5000]: 100%|██████████| 10/10 [00:00<00:00, 294.33it/s, loss=14.2]\n"
     ]
    },
    {
     "name": "stdout",
     "output_type": "stream",
     "text": [
      "Epoch [336/5000]: Train loss: 13.5711, Valid loss: 13.5742\n"
     ]
    },
    {
     "name": "stderr",
     "output_type": "stream",
     "text": [
      "Epoch [337/5000]: 100%|██████████| 10/10 [00:00<00:00, 292.71it/s, loss=13.2]\n"
     ]
    },
    {
     "name": "stdout",
     "output_type": "stream",
     "text": [
      "Epoch [337/5000]: Train loss: 13.1476, Valid loss: 12.9402\n",
      "Saving model with loss 12.940...\n"
     ]
    },
    {
     "name": "stderr",
     "output_type": "stream",
     "text": [
      "Epoch [338/5000]: 100%|██████████| 10/10 [00:00<00:00, 303.94it/s, loss=12.5]\n"
     ]
    },
    {
     "name": "stdout",
     "output_type": "stream",
     "text": [
      "Epoch [338/5000]: Train loss: 12.7245, Valid loss: 12.4726\n",
      "Saving model with loss 12.473...\n"
     ]
    },
    {
     "name": "stderr",
     "output_type": "stream",
     "text": [
      "Epoch [339/5000]: 100%|██████████| 10/10 [00:00<00:00, 253.88it/s, loss=13.6]\n"
     ]
    },
    {
     "name": "stdout",
     "output_type": "stream",
     "text": [
      "Epoch [339/5000]: Train loss: 12.3504, Valid loss: 11.5957\n",
      "Saving model with loss 11.596...\n"
     ]
    },
    {
     "name": "stderr",
     "output_type": "stream",
     "text": [
      "Epoch [340/5000]: 100%|██████████| 10/10 [00:00<00:00, 264.04it/s, loss=14.3]\n"
     ]
    },
    {
     "name": "stdout",
     "output_type": "stream",
     "text": [
      "Epoch [340/5000]: Train loss: 11.8939, Valid loss: 10.8841\n",
      "Saving model with loss 10.884...\n"
     ]
    },
    {
     "name": "stderr",
     "output_type": "stream",
     "text": [
      "Epoch [341/5000]: 100%|██████████| 10/10 [00:00<00:00, 318.47it/s, loss=9.04]\n"
     ]
    },
    {
     "name": "stdout",
     "output_type": "stream",
     "text": [
      "Epoch [341/5000]: Train loss: 11.1100, Valid loss: 11.1812\n"
     ]
    },
    {
     "name": "stderr",
     "output_type": "stream",
     "text": [
      "Epoch [342/5000]: 100%|██████████| 10/10 [00:00<00:00, 257.27it/s, loss=10.8]\n"
     ]
    },
    {
     "name": "stdout",
     "output_type": "stream",
     "text": [
      "Epoch [342/5000]: Train loss: 10.6866, Valid loss: 10.2825\n",
      "Saving model with loss 10.283...\n"
     ]
    },
    {
     "name": "stderr",
     "output_type": "stream",
     "text": [
      "Epoch [343/5000]: 100%|██████████| 10/10 [00:00<00:00, 229.72it/s, loss=8.16]\n"
     ]
    },
    {
     "name": "stdout",
     "output_type": "stream",
     "text": [
      "Epoch [343/5000]: Train loss: 9.9857, Valid loss: 9.6564\n",
      "Saving model with loss 9.656...\n"
     ]
    },
    {
     "name": "stderr",
     "output_type": "stream",
     "text": [
      "Epoch [344/5000]: 100%|██████████| 10/10 [00:00<00:00, 250.61it/s, loss=8.33]\n"
     ]
    },
    {
     "name": "stdout",
     "output_type": "stream",
     "text": [
      "Epoch [344/5000]: Train loss: 9.4508, Valid loss: 9.1042\n",
      "Saving model with loss 9.104...\n"
     ]
    },
    {
     "name": "stderr",
     "output_type": "stream",
     "text": [
      "Epoch [345/5000]: 100%|██████████| 10/10 [00:00<00:00, 238.28it/s, loss=9.94]\n"
     ]
    },
    {
     "name": "stdout",
     "output_type": "stream",
     "text": [
      "Epoch [345/5000]: Train loss: 9.0401, Valid loss: 8.7225\n",
      "Saving model with loss 8.722...\n"
     ]
    },
    {
     "name": "stderr",
     "output_type": "stream",
     "text": [
      "Epoch [346/5000]: 100%|██████████| 10/10 [00:00<00:00, 271.32it/s, loss=7.84]\n"
     ]
    },
    {
     "name": "stdout",
     "output_type": "stream",
     "text": [
      "Epoch [346/5000]: Train loss: 8.3842, Valid loss: 8.1610\n",
      "Saving model with loss 8.161...\n"
     ]
    },
    {
     "name": "stderr",
     "output_type": "stream",
     "text": [
      "Epoch [347/5000]: 100%|██████████| 10/10 [00:00<00:00, 270.56it/s, loss=7.9]\n"
     ]
    },
    {
     "name": "stdout",
     "output_type": "stream",
     "text": [
      "Epoch [347/5000]: Train loss: 7.8332, Valid loss: 7.6274\n",
      "Saving model with loss 7.627...\n"
     ]
    },
    {
     "name": "stderr",
     "output_type": "stream",
     "text": [
      "Epoch [348/5000]: 100%|██████████| 10/10 [00:00<00:00, 238.44it/s, loss=7.1]\n"
     ]
    },
    {
     "name": "stdout",
     "output_type": "stream",
     "text": [
      "Epoch [348/5000]: Train loss: 7.2596, Valid loss: 7.0602\n",
      "Saving model with loss 7.060...\n"
     ]
    },
    {
     "name": "stderr",
     "output_type": "stream",
     "text": [
      "Epoch [349/5000]: 100%|██████████| 10/10 [00:00<00:00, 248.69it/s, loss=8.16]\n"
     ]
    },
    {
     "name": "stdout",
     "output_type": "stream",
     "text": [
      "Epoch [349/5000]: Train loss: 6.8024, Valid loss: 6.5465\n",
      "Saving model with loss 6.547...\n"
     ]
    },
    {
     "name": "stderr",
     "output_type": "stream",
     "text": [
      "Epoch [350/5000]: 100%|██████████| 10/10 [00:00<00:00, 225.26it/s, loss=6.52]\n"
     ]
    },
    {
     "name": "stdout",
     "output_type": "stream",
     "text": [
      "Epoch [350/5000]: Train loss: 6.2145, Valid loss: 5.9752\n",
      "Saving model with loss 5.975...\n"
     ]
    },
    {
     "name": "stderr",
     "output_type": "stream",
     "text": [
      "Epoch [351/5000]: 100%|██████████| 10/10 [00:00<00:00, 250.27it/s, loss=6.55]\n"
     ]
    },
    {
     "name": "stdout",
     "output_type": "stream",
     "text": [
      "Epoch [351/5000]: Train loss: 5.7356, Valid loss: 5.5057\n",
      "Saving model with loss 5.506...\n"
     ]
    },
    {
     "name": "stderr",
     "output_type": "stream",
     "text": [
      "Epoch [352/5000]: 100%|██████████| 10/10 [00:00<00:00, 224.98it/s, loss=5.29]\n"
     ]
    },
    {
     "name": "stdout",
     "output_type": "stream",
     "text": [
      "Epoch [352/5000]: Train loss: 5.2047, Valid loss: 4.9505\n",
      "Saving model with loss 4.951...\n"
     ]
    },
    {
     "name": "stderr",
     "output_type": "stream",
     "text": [
      "Epoch [353/5000]: 100%|██████████| 10/10 [00:00<00:00, 257.06it/s, loss=4.15]\n"
     ]
    },
    {
     "name": "stdout",
     "output_type": "stream",
     "text": [
      "Epoch [353/5000]: Train loss: 4.7216, Valid loss: 4.2835\n",
      "Saving model with loss 4.283...\n"
     ]
    },
    {
     "name": "stderr",
     "output_type": "stream",
     "text": [
      "Epoch [354/5000]: 100%|██████████| 10/10 [00:00<00:00, 235.26it/s, loss=4.43]\n"
     ]
    },
    {
     "name": "stdout",
     "output_type": "stream",
     "text": [
      "Epoch [354/5000]: Train loss: 4.3598, Valid loss: 4.3328\n"
     ]
    },
    {
     "name": "stderr",
     "output_type": "stream",
     "text": [
      "Epoch [355/5000]: 100%|██████████| 10/10 [00:00<00:00, 271.11it/s, loss=4.27]\n"
     ]
    },
    {
     "name": "stdout",
     "output_type": "stream",
     "text": [
      "Epoch [355/5000]: Train loss: 4.0153, Valid loss: 4.1028\n",
      "Saving model with loss 4.103...\n"
     ]
    },
    {
     "name": "stderr",
     "output_type": "stream",
     "text": [
      "Epoch [356/5000]: 100%|██████████| 10/10 [00:00<00:00, 266.57it/s, loss=3.36]\n"
     ]
    },
    {
     "name": "stdout",
     "output_type": "stream",
     "text": [
      "Epoch [356/5000]: Train loss: 3.6693, Valid loss: 3.5938\n",
      "Saving model with loss 3.594...\n"
     ]
    },
    {
     "name": "stderr",
     "output_type": "stream",
     "text": [
      "Epoch [357/5000]: 100%|██████████| 10/10 [00:00<00:00, 233.34it/s, loss=3.31]\n"
     ]
    },
    {
     "name": "stdout",
     "output_type": "stream",
     "text": [
      "Epoch [357/5000]: Train loss: 3.4126, Valid loss: 3.4099\n",
      "Saving model with loss 3.410...\n"
     ]
    },
    {
     "name": "stderr",
     "output_type": "stream",
     "text": [
      "Epoch [358/5000]: 100%|██████████| 10/10 [00:00<00:00, 258.80it/s, loss=3.33]\n"
     ]
    },
    {
     "name": "stdout",
     "output_type": "stream",
     "text": [
      "Epoch [358/5000]: Train loss: 3.2011, Valid loss: 3.1698\n",
      "Saving model with loss 3.170...\n"
     ]
    },
    {
     "name": "stderr",
     "output_type": "stream",
     "text": [
      "Epoch [359/5000]: 100%|██████████| 10/10 [00:00<00:00, 257.39it/s, loss=3.42]\n"
     ]
    },
    {
     "name": "stdout",
     "output_type": "stream",
     "text": [
      "Epoch [359/5000]: Train loss: 3.0393, Valid loss: 3.1787\n"
     ]
    },
    {
     "name": "stderr",
     "output_type": "stream",
     "text": [
      "Epoch [360/5000]: 100%|██████████| 10/10 [00:00<00:00, 252.77it/s, loss=3.01]\n"
     ]
    },
    {
     "name": "stdout",
     "output_type": "stream",
     "text": [
      "Epoch [360/5000]: Train loss: 2.8635, Valid loss: 3.0370\n",
      "Saving model with loss 3.037...\n"
     ]
    },
    {
     "name": "stderr",
     "output_type": "stream",
     "text": [
      "Epoch [361/5000]: 100%|██████████| 10/10 [00:00<00:00, 264.08it/s, loss=2.77]\n"
     ]
    },
    {
     "name": "stdout",
     "output_type": "stream",
     "text": [
      "Epoch [361/5000]: Train loss: 2.7397, Valid loss: 2.8428\n",
      "Saving model with loss 2.843...\n"
     ]
    },
    {
     "name": "stderr",
     "output_type": "stream",
     "text": [
      "Epoch [362/5000]: 100%|██████████| 10/10 [00:00<00:00, 258.66it/s, loss=2.62]\n"
     ]
    },
    {
     "name": "stdout",
     "output_type": "stream",
     "text": [
      "Epoch [362/5000]: Train loss: 2.6366, Valid loss: 2.7608\n",
      "Saving model with loss 2.761...\n"
     ]
    },
    {
     "name": "stderr",
     "output_type": "stream",
     "text": [
      "Epoch [363/5000]: 100%|██████████| 10/10 [00:00<00:00, 251.10it/s, loss=2.75]\n"
     ]
    },
    {
     "name": "stdout",
     "output_type": "stream",
     "text": [
      "Epoch [363/5000]: Train loss: 2.5711, Valid loss: 2.7866\n"
     ]
    },
    {
     "name": "stderr",
     "output_type": "stream",
     "text": [
      "Epoch [364/5000]: 100%|██████████| 10/10 [00:00<00:00, 241.09it/s, loss=2.27]\n"
     ]
    },
    {
     "name": "stdout",
     "output_type": "stream",
     "text": [
      "Epoch [364/5000]: Train loss: 2.4928, Valid loss: 2.6608\n",
      "Saving model with loss 2.661...\n"
     ]
    },
    {
     "name": "stderr",
     "output_type": "stream",
     "text": [
      "Epoch [365/5000]: 100%|██████████| 10/10 [00:00<00:00, 256.98it/s, loss=2.23]\n"
     ]
    },
    {
     "name": "stdout",
     "output_type": "stream",
     "text": [
      "Epoch [365/5000]: Train loss: 2.4240, Valid loss: 2.6756\n"
     ]
    },
    {
     "name": "stderr",
     "output_type": "stream",
     "text": [
      "Epoch [366/5000]: 100%|██████████| 10/10 [00:00<00:00, 214.49it/s, loss=2.68]\n"
     ]
    },
    {
     "name": "stdout",
     "output_type": "stream",
     "text": [
      "Epoch [366/5000]: Train loss: 2.4029, Valid loss: 2.4224\n",
      "Saving model with loss 2.422...\n"
     ]
    },
    {
     "name": "stderr",
     "output_type": "stream",
     "text": [
      "Epoch [367/5000]: 100%|██████████| 10/10 [00:00<00:00, 192.97it/s, loss=1.85]\n"
     ]
    },
    {
     "name": "stdout",
     "output_type": "stream",
     "text": [
      "Epoch [367/5000]: Train loss: 2.3184, Valid loss: 2.5763\n"
     ]
    },
    {
     "name": "stderr",
     "output_type": "stream",
     "text": [
      "Epoch [368/5000]: 100%|██████████| 10/10 [00:00<00:00, 183.11it/s, loss=2.7]\n"
     ]
    },
    {
     "name": "stdout",
     "output_type": "stream",
     "text": [
      "Epoch [368/5000]: Train loss: 2.3412, Valid loss: 2.4643\n"
     ]
    },
    {
     "name": "stderr",
     "output_type": "stream",
     "text": [
      "Epoch [369/5000]: 100%|██████████| 10/10 [00:00<00:00, 196.42it/s, loss=2.73]\n"
     ]
    },
    {
     "name": "stdout",
     "output_type": "stream",
     "text": [
      "Epoch [369/5000]: Train loss: 2.3183, Valid loss: 2.5105\n"
     ]
    },
    {
     "name": "stderr",
     "output_type": "stream",
     "text": [
      "Epoch [370/5000]: 100%|██████████| 10/10 [00:00<00:00, 256.96it/s, loss=2.02]\n"
     ]
    },
    {
     "name": "stdout",
     "output_type": "stream",
     "text": [
      "Epoch [370/5000]: Train loss: 2.2481, Valid loss: 2.2726\n",
      "Saving model with loss 2.273...\n"
     ]
    },
    {
     "name": "stderr",
     "output_type": "stream",
     "text": [
      "Epoch [371/5000]: 100%|██████████| 10/10 [00:00<00:00, 208.54it/s, loss=2.41]\n"
     ]
    },
    {
     "name": "stdout",
     "output_type": "stream",
     "text": [
      "Epoch [371/5000]: Train loss: 2.2403, Valid loss: 2.4181\n"
     ]
    },
    {
     "name": "stderr",
     "output_type": "stream",
     "text": [
      "Epoch [372/5000]: 100%|██████████| 10/10 [00:00<00:00, 233.48it/s, loss=1.84]\n"
     ]
    },
    {
     "name": "stdout",
     "output_type": "stream",
     "text": [
      "Epoch [372/5000]: Train loss: 2.1861, Valid loss: 2.5049\n"
     ]
    },
    {
     "name": "stderr",
     "output_type": "stream",
     "text": [
      "Epoch [373/5000]: 100%|██████████| 10/10 [00:00<00:00, 209.89it/s, loss=1.86]\n"
     ]
    },
    {
     "name": "stdout",
     "output_type": "stream",
     "text": [
      "Epoch [373/5000]: Train loss: 2.1641, Valid loss: 2.3236\n"
     ]
    },
    {
     "name": "stderr",
     "output_type": "stream",
     "text": [
      "Epoch [374/5000]: 100%|██████████| 10/10 [00:00<00:00, 222.88it/s, loss=1.98]\n"
     ]
    },
    {
     "name": "stdout",
     "output_type": "stream",
     "text": [
      "Epoch [374/5000]: Train loss: 2.1496, Valid loss: 2.5340\n"
     ]
    },
    {
     "name": "stderr",
     "output_type": "stream",
     "text": [
      "Epoch [375/5000]: 100%|██████████| 10/10 [00:00<00:00, 285.83it/s, loss=1.86]\n"
     ]
    },
    {
     "name": "stdout",
     "output_type": "stream",
     "text": [
      "Epoch [375/5000]: Train loss: 2.1235, Valid loss: 2.3995\n"
     ]
    },
    {
     "name": "stderr",
     "output_type": "stream",
     "text": [
      "Epoch [376/5000]: 100%|██████████| 10/10 [00:00<00:00, 271.39it/s, loss=2.34]\n"
     ]
    },
    {
     "name": "stdout",
     "output_type": "stream",
     "text": [
      "Epoch [376/5000]: Train loss: 2.1197, Valid loss: 2.3528\n"
     ]
    },
    {
     "name": "stderr",
     "output_type": "stream",
     "text": [
      "Epoch [377/5000]: 100%|██████████| 10/10 [00:00<00:00, 256.16it/s, loss=2.27]\n"
     ]
    },
    {
     "name": "stdout",
     "output_type": "stream",
     "text": [
      "Epoch [377/5000]: Train loss: 2.0942, Valid loss: 2.3641\n"
     ]
    },
    {
     "name": "stderr",
     "output_type": "stream",
     "text": [
      "Epoch [378/5000]: 100%|██████████| 10/10 [00:00<00:00, 244.21it/s, loss=2.13]\n"
     ]
    },
    {
     "name": "stdout",
     "output_type": "stream",
     "text": [
      "Epoch [378/5000]: Train loss: 2.0673, Valid loss: 2.1710\n",
      "Saving model with loss 2.171...\n"
     ]
    },
    {
     "name": "stderr",
     "output_type": "stream",
     "text": [
      "Epoch [379/5000]: 100%|██████████| 10/10 [00:00<00:00, 64.09it/s, loss=1.65]\n"
     ]
    },
    {
     "name": "stdout",
     "output_type": "stream",
     "text": [
      "Epoch [379/5000]: Train loss: 2.0188, Valid loss: 2.2637\n"
     ]
    },
    {
     "name": "stderr",
     "output_type": "stream",
     "text": [
      "Epoch [380/5000]: 100%|██████████| 10/10 [00:00<00:00, 233.28it/s, loss=2.04]\n"
     ]
    },
    {
     "name": "stdout",
     "output_type": "stream",
     "text": [
      "Epoch [380/5000]: Train loss: 2.0343, Valid loss: 2.2288\n"
     ]
    },
    {
     "name": "stderr",
     "output_type": "stream",
     "text": [
      "Epoch [381/5000]: 100%|██████████| 10/10 [00:00<00:00, 234.53it/s, loss=1.91]\n"
     ]
    },
    {
     "name": "stdout",
     "output_type": "stream",
     "text": [
      "Epoch [381/5000]: Train loss: 2.0072, Valid loss: 2.4093\n"
     ]
    },
    {
     "name": "stderr",
     "output_type": "stream",
     "text": [
      "Epoch [382/5000]: 100%|██████████| 10/10 [00:00<00:00, 204.77it/s, loss=1.99]\n"
     ]
    },
    {
     "name": "stdout",
     "output_type": "stream",
     "text": [
      "Epoch [382/5000]: Train loss: 1.9944, Valid loss: 2.1461\n",
      "Saving model with loss 2.146...\n"
     ]
    },
    {
     "name": "stderr",
     "output_type": "stream",
     "text": [
      "Epoch [383/5000]: 100%|██████████| 10/10 [00:00<00:00, 235.78it/s, loss=2.21]\n"
     ]
    },
    {
     "name": "stdout",
     "output_type": "stream",
     "text": [
      "Epoch [383/5000]: Train loss: 1.9911, Valid loss: 2.2399\n"
     ]
    },
    {
     "name": "stderr",
     "output_type": "stream",
     "text": [
      "Epoch [384/5000]: 100%|██████████| 10/10 [00:00<00:00, 278.72it/s, loss=1.82]\n"
     ]
    },
    {
     "name": "stdout",
     "output_type": "stream",
     "text": [
      "Epoch [384/5000]: Train loss: 1.9567, Valid loss: 2.1991\n"
     ]
    },
    {
     "name": "stderr",
     "output_type": "stream",
     "text": [
      "Epoch [385/5000]: 100%|██████████| 10/10 [00:00<00:00, 299.03it/s, loss=1.83]\n"
     ]
    },
    {
     "name": "stdout",
     "output_type": "stream",
     "text": [
      "Epoch [385/5000]: Train loss: 1.9536, Valid loss: 2.1404\n",
      "Saving model with loss 2.140...\n"
     ]
    },
    {
     "name": "stderr",
     "output_type": "stream",
     "text": [
      "Epoch [386/5000]: 100%|██████████| 10/10 [00:00<00:00, 218.12it/s, loss=2.05]\n"
     ]
    },
    {
     "name": "stdout",
     "output_type": "stream",
     "text": [
      "Epoch [386/5000]: Train loss: 1.9346, Valid loss: 2.0298\n",
      "Saving model with loss 2.030...\n"
     ]
    },
    {
     "name": "stderr",
     "output_type": "stream",
     "text": [
      "Epoch [387/5000]: 100%|██████████| 10/10 [00:00<00:00, 274.49it/s, loss=1.95]\n"
     ]
    },
    {
     "name": "stdout",
     "output_type": "stream",
     "text": [
      "Epoch [387/5000]: Train loss: 1.9098, Valid loss: 2.1450\n"
     ]
    },
    {
     "name": "stderr",
     "output_type": "stream",
     "text": [
      "Epoch [388/5000]: 100%|██████████| 10/10 [00:00<00:00, 250.84it/s, loss=1.95]\n"
     ]
    },
    {
     "name": "stdout",
     "output_type": "stream",
     "text": [
      "Epoch [388/5000]: Train loss: 1.8947, Valid loss: 1.9888\n",
      "Saving model with loss 1.989...\n"
     ]
    },
    {
     "name": "stderr",
     "output_type": "stream",
     "text": [
      "Epoch [389/5000]: 100%|██████████| 10/10 [00:00<00:00, 206.83it/s, loss=1.55]\n"
     ]
    },
    {
     "name": "stdout",
     "output_type": "stream",
     "text": [
      "Epoch [389/5000]: Train loss: 1.8623, Valid loss: 2.0158\n"
     ]
    },
    {
     "name": "stderr",
     "output_type": "stream",
     "text": [
      "Epoch [390/5000]: 100%|██████████| 10/10 [00:00<00:00, 204.73it/s, loss=1.65]\n"
     ]
    },
    {
     "name": "stdout",
     "output_type": "stream",
     "text": [
      "Epoch [390/5000]: Train loss: 1.8512, Valid loss: 2.0621\n"
     ]
    },
    {
     "name": "stderr",
     "output_type": "stream",
     "text": [
      "Epoch [391/5000]: 100%|██████████| 10/10 [00:00<00:00, 210.97it/s, loss=2]\n"
     ]
    },
    {
     "name": "stdout",
     "output_type": "stream",
     "text": [
      "Epoch [391/5000]: Train loss: 1.8607, Valid loss: 1.9849\n",
      "Saving model with loss 1.985...\n"
     ]
    },
    {
     "name": "stderr",
     "output_type": "stream",
     "text": [
      "Epoch [392/5000]: 100%|██████████| 10/10 [00:00<00:00, 263.97it/s, loss=2.26]\n"
     ]
    },
    {
     "name": "stdout",
     "output_type": "stream",
     "text": [
      "Epoch [392/5000]: Train loss: 1.8603, Valid loss: 2.0290\n"
     ]
    },
    {
     "name": "stderr",
     "output_type": "stream",
     "text": [
      "Epoch [393/5000]: 100%|██████████| 10/10 [00:00<00:00, 225.17it/s, loss=1.66]\n"
     ]
    },
    {
     "name": "stdout",
     "output_type": "stream",
     "text": [
      "Epoch [393/5000]: Train loss: 1.8263, Valid loss: 2.0372\n"
     ]
    },
    {
     "name": "stderr",
     "output_type": "stream",
     "text": [
      "Epoch [394/5000]: 100%|██████████| 10/10 [00:00<00:00, 257.27it/s, loss=1.84]\n"
     ]
    },
    {
     "name": "stdout",
     "output_type": "stream",
     "text": [
      "Epoch [394/5000]: Train loss: 1.8283, Valid loss: 1.9395\n",
      "Saving model with loss 1.940...\n"
     ]
    },
    {
     "name": "stderr",
     "output_type": "stream",
     "text": [
      "Epoch [395/5000]: 100%|██████████| 10/10 [00:00<00:00, 282.21it/s, loss=2]\n"
     ]
    },
    {
     "name": "stdout",
     "output_type": "stream",
     "text": [
      "Epoch [395/5000]: Train loss: 1.8169, Valid loss: 2.0047\n"
     ]
    },
    {
     "name": "stderr",
     "output_type": "stream",
     "text": [
      "Epoch [396/5000]: 100%|██████████| 10/10 [00:00<00:00, 270.41it/s, loss=2.06]\n"
     ]
    },
    {
     "name": "stdout",
     "output_type": "stream",
     "text": [
      "Epoch [396/5000]: Train loss: 1.8082, Valid loss: 2.0932\n"
     ]
    },
    {
     "name": "stderr",
     "output_type": "stream",
     "text": [
      "Epoch [397/5000]: 100%|██████████| 10/10 [00:00<00:00, 256.56it/s, loss=1.76]\n"
     ]
    },
    {
     "name": "stdout",
     "output_type": "stream",
     "text": [
      "Epoch [397/5000]: Train loss: 1.7726, Valid loss: 1.9219\n",
      "Saving model with loss 1.922...\n"
     ]
    },
    {
     "name": "stderr",
     "output_type": "stream",
     "text": [
      "Epoch [398/5000]: 100%|██████████| 10/10 [00:00<00:00, 244.89it/s, loss=1.8]\n"
     ]
    },
    {
     "name": "stdout",
     "output_type": "stream",
     "text": [
      "Epoch [398/5000]: Train loss: 1.7695, Valid loss: 1.8650\n",
      "Saving model with loss 1.865...\n"
     ]
    },
    {
     "name": "stderr",
     "output_type": "stream",
     "text": [
      "Epoch [399/5000]: 100%|██████████| 10/10 [00:00<00:00, 209.99it/s, loss=2]\n"
     ]
    },
    {
     "name": "stdout",
     "output_type": "stream",
     "text": [
      "Epoch [399/5000]: Train loss: 1.7672, Valid loss: 1.9245\n"
     ]
    },
    {
     "name": "stderr",
     "output_type": "stream",
     "text": [
      "Epoch [400/5000]: 100%|██████████| 10/10 [00:00<00:00, 250.79it/s, loss=1.94]\n"
     ]
    },
    {
     "name": "stdout",
     "output_type": "stream",
     "text": [
      "Epoch [400/5000]: Train loss: 1.7561, Valid loss: 1.8272\n",
      "Saving model with loss 1.827...\n"
     ]
    },
    {
     "name": "stderr",
     "output_type": "stream",
     "text": [
      "Epoch [401/5000]: 100%|██████████| 10/10 [00:00<00:00, 286.04it/s, loss=1.83]\n"
     ]
    },
    {
     "name": "stdout",
     "output_type": "stream",
     "text": [
      "Epoch [401/5000]: Train loss: 1.7571, Valid loss: 1.8828\n"
     ]
    },
    {
     "name": "stderr",
     "output_type": "stream",
     "text": [
      "Epoch [402/5000]: 100%|██████████| 10/10 [00:00<00:00, 232.25it/s, loss=1.78]\n"
     ]
    },
    {
     "name": "stdout",
     "output_type": "stream",
     "text": [
      "Epoch [402/5000]: Train loss: 1.7306, Valid loss: 1.8882\n"
     ]
    },
    {
     "name": "stderr",
     "output_type": "stream",
     "text": [
      "Epoch [403/5000]: 100%|██████████| 10/10 [00:00<00:00, 217.80it/s, loss=1.87]\n"
     ]
    },
    {
     "name": "stdout",
     "output_type": "stream",
     "text": [
      "Epoch [403/5000]: Train loss: 1.7243, Valid loss: 1.8477\n"
     ]
    },
    {
     "name": "stderr",
     "output_type": "stream",
     "text": [
      "Epoch [404/5000]: 100%|██████████| 10/10 [00:00<00:00, 277.04it/s, loss=1.5]\n"
     ]
    },
    {
     "name": "stdout",
     "output_type": "stream",
     "text": [
      "Epoch [404/5000]: Train loss: 1.6898, Valid loss: 1.7721\n",
      "Saving model with loss 1.772...\n"
     ]
    },
    {
     "name": "stderr",
     "output_type": "stream",
     "text": [
      "Epoch [405/5000]: 100%|██████████| 10/10 [00:00<00:00, 286.90it/s, loss=2]\n"
     ]
    },
    {
     "name": "stdout",
     "output_type": "stream",
     "text": [
      "Epoch [405/5000]: Train loss: 1.7101, Valid loss: 1.8896\n"
     ]
    },
    {
     "name": "stderr",
     "output_type": "stream",
     "text": [
      "Epoch [406/5000]: 100%|██████████| 10/10 [00:00<00:00, 259.74it/s, loss=1.79]\n"
     ]
    },
    {
     "name": "stdout",
     "output_type": "stream",
     "text": [
      "Epoch [406/5000]: Train loss: 1.6913, Valid loss: 1.9171\n"
     ]
    },
    {
     "name": "stderr",
     "output_type": "stream",
     "text": [
      "Epoch [407/5000]: 100%|██████████| 10/10 [00:00<00:00, 294.94it/s, loss=1.86]\n"
     ]
    },
    {
     "name": "stdout",
     "output_type": "stream",
     "text": [
      "Epoch [407/5000]: Train loss: 1.6858, Valid loss: 1.8529\n"
     ]
    },
    {
     "name": "stderr",
     "output_type": "stream",
     "text": [
      "Epoch [408/5000]: 100%|██████████| 10/10 [00:00<00:00, 273.32it/s, loss=1.27]\n"
     ]
    },
    {
     "name": "stdout",
     "output_type": "stream",
     "text": [
      "Epoch [408/5000]: Train loss: 1.6564, Valid loss: 1.9166\n"
     ]
    },
    {
     "name": "stderr",
     "output_type": "stream",
     "text": [
      "Epoch [409/5000]: 100%|██████████| 10/10 [00:00<00:00, 264.04it/s, loss=1.47]\n"
     ]
    },
    {
     "name": "stdout",
     "output_type": "stream",
     "text": [
      "Epoch [409/5000]: Train loss: 1.6481, Valid loss: 1.8771\n"
     ]
    },
    {
     "name": "stderr",
     "output_type": "stream",
     "text": [
      "Epoch [410/5000]: 100%|██████████| 10/10 [00:00<00:00, 288.54it/s, loss=2.01]\n"
     ]
    },
    {
     "name": "stdout",
     "output_type": "stream",
     "text": [
      "Epoch [410/5000]: Train loss: 1.6728, Valid loss: 1.8428\n"
     ]
    },
    {
     "name": "stderr",
     "output_type": "stream",
     "text": [
      "Epoch [411/5000]: 100%|██████████| 10/10 [00:00<00:00, 278.71it/s, loss=2.07]\n"
     ]
    },
    {
     "name": "stdout",
     "output_type": "stream",
     "text": [
      "Epoch [411/5000]: Train loss: 1.6776, Valid loss: 1.9310\n"
     ]
    },
    {
     "name": "stderr",
     "output_type": "stream",
     "text": [
      "Epoch [412/5000]: 100%|██████████| 10/10 [00:00<00:00, 285.98it/s, loss=1.58]\n"
     ]
    },
    {
     "name": "stdout",
     "output_type": "stream",
     "text": [
      "Epoch [412/5000]: Train loss: 1.6298, Valid loss: 1.7559\n",
      "Saving model with loss 1.756...\n"
     ]
    },
    {
     "name": "stderr",
     "output_type": "stream",
     "text": [
      "Epoch [413/5000]: 100%|██████████| 10/10 [00:00<00:00, 297.90it/s, loss=1.91]\n"
     ]
    },
    {
     "name": "stdout",
     "output_type": "stream",
     "text": [
      "Epoch [413/5000]: Train loss: 1.6448, Valid loss: 1.7353\n",
      "Saving model with loss 1.735...\n"
     ]
    },
    {
     "name": "stderr",
     "output_type": "stream",
     "text": [
      "Epoch [414/5000]: 100%|██████████| 10/10 [00:00<00:00, 278.74it/s, loss=2.05]\n"
     ]
    },
    {
     "name": "stdout",
     "output_type": "stream",
     "text": [
      "Epoch [414/5000]: Train loss: 1.6416, Valid loss: 1.8435\n"
     ]
    },
    {
     "name": "stderr",
     "output_type": "stream",
     "text": [
      "Epoch [415/5000]: 100%|██████████| 10/10 [00:00<00:00, 296.89it/s, loss=2.11]\n"
     ]
    },
    {
     "name": "stdout",
     "output_type": "stream",
     "text": [
      "Epoch [415/5000]: Train loss: 1.6388, Valid loss: 1.8382\n"
     ]
    },
    {
     "name": "stderr",
     "output_type": "stream",
     "text": [
      "Epoch [416/5000]: 100%|██████████| 10/10 [00:00<00:00, 295.14it/s, loss=1.66]\n"
     ]
    },
    {
     "name": "stdout",
     "output_type": "stream",
     "text": [
      "Epoch [416/5000]: Train loss: 1.6024, Valid loss: 1.8415\n"
     ]
    },
    {
     "name": "stderr",
     "output_type": "stream",
     "text": [
      "Epoch [417/5000]: 100%|██████████| 10/10 [00:00<00:00, 285.93it/s, loss=1.6]\n"
     ]
    },
    {
     "name": "stdout",
     "output_type": "stream",
     "text": [
      "Epoch [417/5000]: Train loss: 1.5937, Valid loss: 1.6510\n",
      "Saving model with loss 1.651...\n"
     ]
    },
    {
     "name": "stderr",
     "output_type": "stream",
     "text": [
      "Epoch [418/5000]: 100%|██████████| 10/10 [00:00<00:00, 267.85it/s, loss=1.89]\n"
     ]
    },
    {
     "name": "stdout",
     "output_type": "stream",
     "text": [
      "Epoch [418/5000]: Train loss: 1.6050, Valid loss: 1.6853\n"
     ]
    },
    {
     "name": "stderr",
     "output_type": "stream",
     "text": [
      "Epoch [419/5000]: 100%|██████████| 10/10 [00:00<00:00, 212.88it/s, loss=1.72]\n"
     ]
    },
    {
     "name": "stdout",
     "output_type": "stream",
     "text": [
      "Epoch [419/5000]: Train loss: 1.5966, Valid loss: 1.6729\n"
     ]
    },
    {
     "name": "stderr",
     "output_type": "stream",
     "text": [
      "Epoch [420/5000]: 100%|██████████| 10/10 [00:00<00:00, 209.08it/s, loss=1.47]\n"
     ]
    },
    {
     "name": "stdout",
     "output_type": "stream",
     "text": [
      "Epoch [420/5000]: Train loss: 1.5682, Valid loss: 1.7481\n"
     ]
    },
    {
     "name": "stderr",
     "output_type": "stream",
     "text": [
      "Epoch [421/5000]: 100%|██████████| 10/10 [00:00<00:00, 214.40it/s, loss=1.36]\n"
     ]
    },
    {
     "name": "stdout",
     "output_type": "stream",
     "text": [
      "Epoch [421/5000]: Train loss: 1.5529, Valid loss: 1.7626\n"
     ]
    },
    {
     "name": "stderr",
     "output_type": "stream",
     "text": [
      "Epoch [422/5000]: 100%|██████████| 10/10 [00:00<00:00, 200.96it/s, loss=1.19]\n"
     ]
    },
    {
     "name": "stdout",
     "output_type": "stream",
     "text": [
      "Epoch [422/5000]: Train loss: 1.5454, Valid loss: 1.6791\n"
     ]
    },
    {
     "name": "stderr",
     "output_type": "stream",
     "text": [
      "Epoch [423/5000]: 100%|██████████| 10/10 [00:00<00:00, 218.93it/s, loss=1.5]\n"
     ]
    },
    {
     "name": "stdout",
     "output_type": "stream",
     "text": [
      "Epoch [423/5000]: Train loss: 1.5626, Valid loss: 1.6353\n",
      "Saving model with loss 1.635...\n"
     ]
    },
    {
     "name": "stderr",
     "output_type": "stream",
     "text": [
      "Epoch [424/5000]: 100%|██████████| 10/10 [00:00<00:00, 233.40it/s, loss=1.46]\n"
     ]
    },
    {
     "name": "stdout",
     "output_type": "stream",
     "text": [
      "Epoch [424/5000]: Train loss: 1.5449, Valid loss: 1.7554\n"
     ]
    },
    {
     "name": "stderr",
     "output_type": "stream",
     "text": [
      "Epoch [425/5000]: 100%|██████████| 10/10 [00:00<00:00, 239.99it/s, loss=1.4]\n"
     ]
    },
    {
     "name": "stdout",
     "output_type": "stream",
     "text": [
      "Epoch [425/5000]: Train loss: 1.5320, Valid loss: 1.7260\n"
     ]
    },
    {
     "name": "stderr",
     "output_type": "stream",
     "text": [
      "Epoch [426/5000]: 100%|██████████| 10/10 [00:00<00:00, 278.73it/s, loss=1.77]\n"
     ]
    },
    {
     "name": "stdout",
     "output_type": "stream",
     "text": [
      "Epoch [426/5000]: Train loss: 1.5478, Valid loss: 1.6192\n",
      "Saving model with loss 1.619...\n"
     ]
    },
    {
     "name": "stderr",
     "output_type": "stream",
     "text": [
      "Epoch [427/5000]: 100%|██████████| 10/10 [00:00<00:00, 288.66it/s, loss=1.48]\n"
     ]
    },
    {
     "name": "stdout",
     "output_type": "stream",
     "text": [
      "Epoch [427/5000]: Train loss: 1.5429, Valid loss: 1.5923\n",
      "Saving model with loss 1.592...\n"
     ]
    },
    {
     "name": "stderr",
     "output_type": "stream",
     "text": [
      "Epoch [428/5000]: 100%|██████████| 10/10 [00:00<00:00, 271.22it/s, loss=1.52]\n"
     ]
    },
    {
     "name": "stdout",
     "output_type": "stream",
     "text": [
      "Epoch [428/5000]: Train loss: 1.5190, Valid loss: 1.6271\n"
     ]
    },
    {
     "name": "stderr",
     "output_type": "stream",
     "text": [
      "Epoch [429/5000]: 100%|██████████| 10/10 [00:00<00:00, 270.55it/s, loss=1.49]\n"
     ]
    },
    {
     "name": "stdout",
     "output_type": "stream",
     "text": [
      "Epoch [429/5000]: Train loss: 1.5260, Valid loss: 1.6008\n"
     ]
    },
    {
     "name": "stderr",
     "output_type": "stream",
     "text": [
      "Epoch [430/5000]: 100%|██████████| 10/10 [00:00<00:00, 271.23it/s, loss=1.21]\n"
     ]
    },
    {
     "name": "stdout",
     "output_type": "stream",
     "text": [
      "Epoch [430/5000]: Train loss: 1.5008, Valid loss: 1.5259\n",
      "Saving model with loss 1.526...\n"
     ]
    },
    {
     "name": "stderr",
     "output_type": "stream",
     "text": [
      "Epoch [431/5000]: 100%|██████████| 10/10 [00:00<00:00, 256.61it/s, loss=1.29]\n"
     ]
    },
    {
     "name": "stdout",
     "output_type": "stream",
     "text": [
      "Epoch [431/5000]: Train loss: 1.4977, Valid loss: 1.6206\n"
     ]
    },
    {
     "name": "stderr",
     "output_type": "stream",
     "text": [
      "Epoch [432/5000]: 100%|██████████| 10/10 [00:00<00:00, 273.43it/s, loss=1.48]\n"
     ]
    },
    {
     "name": "stdout",
     "output_type": "stream",
     "text": [
      "Epoch [432/5000]: Train loss: 1.5184, Valid loss: 1.5845\n"
     ]
    },
    {
     "name": "stderr",
     "output_type": "stream",
     "text": [
      "Epoch [433/5000]: 100%|██████████| 10/10 [00:00<00:00, 286.58it/s, loss=1.54]\n"
     ]
    },
    {
     "name": "stdout",
     "output_type": "stream",
     "text": [
      "Epoch [433/5000]: Train loss: 1.5057, Valid loss: 1.6721\n"
     ]
    },
    {
     "name": "stderr",
     "output_type": "stream",
     "text": [
      "Epoch [434/5000]: 100%|██████████| 10/10 [00:00<00:00, 281.30it/s, loss=1.38]\n"
     ]
    },
    {
     "name": "stdout",
     "output_type": "stream",
     "text": [
      "Epoch [434/5000]: Train loss: 1.4820, Valid loss: 1.6200\n"
     ]
    },
    {
     "name": "stderr",
     "output_type": "stream",
     "text": [
      "Epoch [435/5000]: 100%|██████████| 10/10 [00:00<00:00, 286.79it/s, loss=1.41]\n"
     ]
    },
    {
     "name": "stdout",
     "output_type": "stream",
     "text": [
      "Epoch [435/5000]: Train loss: 1.4828, Valid loss: 1.6225\n"
     ]
    },
    {
     "name": "stderr",
     "output_type": "stream",
     "text": [
      "Epoch [436/5000]: 100%|██████████| 10/10 [00:00<00:00, 280.43it/s, loss=1.43]\n"
     ]
    },
    {
     "name": "stdout",
     "output_type": "stream",
     "text": [
      "Epoch [436/5000]: Train loss: 1.4873, Valid loss: 1.6408\n"
     ]
    },
    {
     "name": "stderr",
     "output_type": "stream",
     "text": [
      "Epoch [437/5000]: 100%|██████████| 10/10 [00:00<00:00, 250.77it/s, loss=1.73]\n"
     ]
    },
    {
     "name": "stdout",
     "output_type": "stream",
     "text": [
      "Epoch [437/5000]: Train loss: 1.4908, Valid loss: 1.6004\n"
     ]
    },
    {
     "name": "stderr",
     "output_type": "stream",
     "text": [
      "Epoch [438/5000]: 100%|██████████| 10/10 [00:00<00:00, 252.96it/s, loss=1.22]\n"
     ]
    },
    {
     "name": "stdout",
     "output_type": "stream",
     "text": [
      "Epoch [438/5000]: Train loss: 1.4562, Valid loss: 1.4887\n",
      "Saving model with loss 1.489...\n"
     ]
    },
    {
     "name": "stderr",
     "output_type": "stream",
     "text": [
      "Epoch [439/5000]: 100%|██████████| 10/10 [00:00<00:00, 270.93it/s, loss=1.5]\n"
     ]
    },
    {
     "name": "stdout",
     "output_type": "stream",
     "text": [
      "Epoch [439/5000]: Train loss: 1.4690, Valid loss: 1.5159\n"
     ]
    },
    {
     "name": "stderr",
     "output_type": "stream",
     "text": [
      "Epoch [440/5000]: 100%|██████████| 10/10 [00:00<00:00, 250.30it/s, loss=1.4]\n"
     ]
    },
    {
     "name": "stdout",
     "output_type": "stream",
     "text": [
      "Epoch [440/5000]: Train loss: 1.4577, Valid loss: 1.5513\n"
     ]
    },
    {
     "name": "stderr",
     "output_type": "stream",
     "text": [
      "Epoch [441/5000]: 100%|██████████| 10/10 [00:00<00:00, 281.18it/s, loss=1.41]\n"
     ]
    },
    {
     "name": "stdout",
     "output_type": "stream",
     "text": [
      "Epoch [441/5000]: Train loss: 1.4551, Valid loss: 1.5102\n"
     ]
    },
    {
     "name": "stderr",
     "output_type": "stream",
     "text": [
      "Epoch [442/5000]: 100%|██████████| 10/10 [00:00<00:00, 286.65it/s, loss=1.28]\n"
     ]
    },
    {
     "name": "stdout",
     "output_type": "stream",
     "text": [
      "Epoch [442/5000]: Train loss: 1.4436, Valid loss: 1.4933\n"
     ]
    },
    {
     "name": "stderr",
     "output_type": "stream",
     "text": [
      "Epoch [443/5000]: 100%|██████████| 10/10 [00:00<00:00, 229.15it/s, loss=1.32]\n"
     ]
    },
    {
     "name": "stdout",
     "output_type": "stream",
     "text": [
      "Epoch [443/5000]: Train loss: 1.4412, Valid loss: 1.5955\n"
     ]
    },
    {
     "name": "stderr",
     "output_type": "stream",
     "text": [
      "Epoch [444/5000]: 100%|██████████| 10/10 [00:00<00:00, 278.58it/s, loss=1.62]"
     ]
    },
    {
     "name": "stdout",
     "output_type": "stream",
     "text": [
      "Epoch [444/5000]: Train loss: 1.4545, Valid loss: 1.6233\n"
     ]
    },
    {
     "name": "stderr",
     "output_type": "stream",
     "text": [
      "\n",
      "Epoch [445/5000]: 100%|██████████| 10/10 [00:00<00:00, 258.38it/s, loss=1.46]\n"
     ]
    },
    {
     "name": "stdout",
     "output_type": "stream",
     "text": [
      "Epoch [445/5000]: Train loss: 1.4439, Valid loss: 1.5774\n"
     ]
    },
    {
     "name": "stderr",
     "output_type": "stream",
     "text": [
      "Epoch [446/5000]: 100%|██████████| 10/10 [00:00<00:00, 250.94it/s, loss=1.69]\n"
     ]
    },
    {
     "name": "stdout",
     "output_type": "stream",
     "text": [
      "Epoch [446/5000]: Train loss: 1.4524, Valid loss: 1.4772\n",
      "Saving model with loss 1.477...\n"
     ]
    },
    {
     "name": "stderr",
     "output_type": "stream",
     "text": [
      "Epoch [447/5000]: 100%|██████████| 10/10 [00:00<00:00, 250.30it/s, loss=1.17]\n"
     ]
    },
    {
     "name": "stdout",
     "output_type": "stream",
     "text": [
      "Epoch [447/5000]: Train loss: 1.4177, Valid loss: 1.5330\n"
     ]
    },
    {
     "name": "stderr",
     "output_type": "stream",
     "text": [
      "Epoch [448/5000]: 100%|██████████| 10/10 [00:00<00:00, 250.82it/s, loss=1.74]\n"
     ]
    },
    {
     "name": "stdout",
     "output_type": "stream",
     "text": [
      "Epoch [448/5000]: Train loss: 1.4515, Valid loss: 1.5267\n"
     ]
    },
    {
     "name": "stderr",
     "output_type": "stream",
     "text": [
      "Epoch [449/5000]: 100%|██████████| 10/10 [00:00<00:00, 250.21it/s, loss=1.6]\n"
     ]
    },
    {
     "name": "stdout",
     "output_type": "stream",
     "text": [
      "Epoch [449/5000]: Train loss: 1.4338, Valid loss: 1.5073\n"
     ]
    },
    {
     "name": "stderr",
     "output_type": "stream",
     "text": [
      "Epoch [450/5000]: 100%|██████████| 10/10 [00:00<00:00, 224.49it/s, loss=1.8]\n"
     ]
    },
    {
     "name": "stdout",
     "output_type": "stream",
     "text": [
      "Epoch [450/5000]: Train loss: 1.4495, Valid loss: 1.5850\n"
     ]
    },
    {
     "name": "stderr",
     "output_type": "stream",
     "text": [
      "Epoch [451/5000]: 100%|██████████| 10/10 [00:00<00:00, 256.64it/s, loss=1.19]\n"
     ]
    },
    {
     "name": "stdout",
     "output_type": "stream",
     "text": [
      "Epoch [451/5000]: Train loss: 1.4190, Valid loss: 1.5178\n"
     ]
    },
    {
     "name": "stderr",
     "output_type": "stream",
     "text": [
      "Epoch [452/5000]: 100%|██████████| 10/10 [00:00<00:00, 252.64it/s, loss=1.8]\n"
     ]
    },
    {
     "name": "stdout",
     "output_type": "stream",
     "text": [
      "Epoch [452/5000]: Train loss: 1.4529, Valid loss: 1.4988\n"
     ]
    },
    {
     "name": "stderr",
     "output_type": "stream",
     "text": [
      "Epoch [453/5000]: 100%|██████████| 10/10 [00:00<00:00, 271.32it/s, loss=1.15]\n"
     ]
    },
    {
     "name": "stdout",
     "output_type": "stream",
     "text": [
      "Epoch [453/5000]: Train loss: 1.4258, Valid loss: 1.6344\n"
     ]
    },
    {
     "name": "stderr",
     "output_type": "stream",
     "text": [
      "Epoch [454/5000]: 100%|██████████| 10/10 [00:00<00:00, 273.69it/s, loss=1.15]\n"
     ]
    },
    {
     "name": "stdout",
     "output_type": "stream",
     "text": [
      "Epoch [454/5000]: Train loss: 1.4013, Valid loss: 1.5358\n"
     ]
    },
    {
     "name": "stderr",
     "output_type": "stream",
     "text": [
      "Epoch [455/5000]: 100%|██████████| 10/10 [00:00<00:00, 278.76it/s, loss=1.68]\n"
     ]
    },
    {
     "name": "stdout",
     "output_type": "stream",
     "text": [
      "Epoch [455/5000]: Train loss: 1.4195, Valid loss: 1.4958\n"
     ]
    },
    {
     "name": "stderr",
     "output_type": "stream",
     "text": [
      "Epoch [456/5000]: 100%|██████████| 10/10 [00:00<00:00, 217.28it/s, loss=1.27]\n"
     ]
    },
    {
     "name": "stdout",
     "output_type": "stream",
     "text": [
      "Epoch [456/5000]: Train loss: 1.3905, Valid loss: 1.5008\n"
     ]
    },
    {
     "name": "stderr",
     "output_type": "stream",
     "text": [
      "Epoch [457/5000]: 100%|██████████| 10/10 [00:00<00:00, 244.74it/s, loss=1.48]\n"
     ]
    },
    {
     "name": "stdout",
     "output_type": "stream",
     "text": [
      "Epoch [457/5000]: Train loss: 1.3997, Valid loss: 1.4660\n",
      "Saving model with loss 1.466...\n"
     ]
    },
    {
     "name": "stderr",
     "output_type": "stream",
     "text": [
      "Epoch [458/5000]: 100%|██████████| 10/10 [00:00<00:00, 229.04it/s, loss=1.42]\n"
     ]
    },
    {
     "name": "stdout",
     "output_type": "stream",
     "text": [
      "Epoch [458/5000]: Train loss: 1.3920, Valid loss: 1.5582\n"
     ]
    },
    {
     "name": "stderr",
     "output_type": "stream",
     "text": [
      "Epoch [459/5000]: 100%|██████████| 10/10 [00:00<00:00, 244.74it/s, loss=1.76]\n"
     ]
    },
    {
     "name": "stdout",
     "output_type": "stream",
     "text": [
      "Epoch [459/5000]: Train loss: 1.4103, Valid loss: 1.4452\n",
      "Saving model with loss 1.445...\n"
     ]
    },
    {
     "name": "stderr",
     "output_type": "stream",
     "text": [
      "Epoch [460/5000]: 100%|██████████| 10/10 [00:00<00:00, 272.52it/s, loss=1.44]\n"
     ]
    },
    {
     "name": "stdout",
     "output_type": "stream",
     "text": [
      "Epoch [460/5000]: Train loss: 1.3910, Valid loss: 1.5181\n"
     ]
    },
    {
     "name": "stderr",
     "output_type": "stream",
     "text": [
      "Epoch [461/5000]: 100%|██████████| 10/10 [00:00<00:00, 295.02it/s, loss=1.24]\n"
     ]
    },
    {
     "name": "stdout",
     "output_type": "stream",
     "text": [
      "Epoch [461/5000]: Train loss: 1.4019, Valid loss: 1.5576\n"
     ]
    },
    {
     "name": "stderr",
     "output_type": "stream",
     "text": [
      "Epoch [462/5000]: 100%|██████████| 10/10 [00:00<00:00, 263.33it/s, loss=1.72]\n"
     ]
    },
    {
     "name": "stdout",
     "output_type": "stream",
     "text": [
      "Epoch [462/5000]: Train loss: 1.4111, Valid loss: 1.5106\n"
     ]
    },
    {
     "name": "stderr",
     "output_type": "stream",
     "text": [
      "Epoch [463/5000]: 100%|██████████| 10/10 [00:00<00:00, 303.22it/s, loss=1.15]\n"
     ]
    },
    {
     "name": "stdout",
     "output_type": "stream",
     "text": [
      "Epoch [463/5000]: Train loss: 1.3878, Valid loss: 1.5638\n"
     ]
    },
    {
     "name": "stderr",
     "output_type": "stream",
     "text": [
      "Epoch [464/5000]: 100%|██████████| 10/10 [00:00<00:00, 238.35it/s, loss=1.56]\n"
     ]
    },
    {
     "name": "stdout",
     "output_type": "stream",
     "text": [
      "Epoch [464/5000]: Train loss: 1.3890, Valid loss: 1.4294\n",
      "Saving model with loss 1.429...\n"
     ]
    },
    {
     "name": "stderr",
     "output_type": "stream",
     "text": [
      "Epoch [465/5000]: 100%|██████████| 10/10 [00:00<00:00, 62.92it/s, loss=1.44]\n"
     ]
    },
    {
     "name": "stdout",
     "output_type": "stream",
     "text": [
      "Epoch [465/5000]: Train loss: 1.3756, Valid loss: 1.4723\n"
     ]
    },
    {
     "name": "stderr",
     "output_type": "stream",
     "text": [
      "Epoch [466/5000]: 100%|██████████| 10/10 [00:00<00:00, 245.95it/s, loss=1.2]\n"
     ]
    },
    {
     "name": "stdout",
     "output_type": "stream",
     "text": [
      "Epoch [466/5000]: Train loss: 1.3627, Valid loss: 1.4173\n",
      "Saving model with loss 1.417...\n"
     ]
    },
    {
     "name": "stderr",
     "output_type": "stream",
     "text": [
      "Epoch [467/5000]: 100%|██████████| 10/10 [00:00<00:00, 223.19it/s, loss=1.25]\n"
     ]
    },
    {
     "name": "stdout",
     "output_type": "stream",
     "text": [
      "Epoch [467/5000]: Train loss: 1.3526, Valid loss: 1.4895\n"
     ]
    },
    {
     "name": "stderr",
     "output_type": "stream",
     "text": [
      "Epoch [468/5000]: 100%|██████████| 10/10 [00:00<00:00, 224.46it/s, loss=1.46]\n"
     ]
    },
    {
     "name": "stdout",
     "output_type": "stream",
     "text": [
      "Epoch [468/5000]: Train loss: 1.3903, Valid loss: 1.5226\n"
     ]
    },
    {
     "name": "stderr",
     "output_type": "stream",
     "text": [
      "Epoch [469/5000]: 100%|██████████| 10/10 [00:00<00:00, 238.91it/s, loss=1.43]\n"
     ]
    },
    {
     "name": "stdout",
     "output_type": "stream",
     "text": [
      "Epoch [469/5000]: Train loss: 1.3682, Valid loss: 1.3877\n",
      "Saving model with loss 1.388...\n"
     ]
    },
    {
     "name": "stderr",
     "output_type": "stream",
     "text": [
      "Epoch [470/5000]: 100%|██████████| 10/10 [00:00<00:00, 240.68it/s, loss=1.23]\n"
     ]
    },
    {
     "name": "stdout",
     "output_type": "stream",
     "text": [
      "Epoch [470/5000]: Train loss: 1.3536, Valid loss: 1.4630\n"
     ]
    },
    {
     "name": "stderr",
     "output_type": "stream",
     "text": [
      "Epoch [471/5000]: 100%|██████████| 10/10 [00:00<00:00, 218.09it/s, loss=1.41]\n"
     ]
    },
    {
     "name": "stdout",
     "output_type": "stream",
     "text": [
      "Epoch [471/5000]: Train loss: 1.3747, Valid loss: 1.4226\n"
     ]
    },
    {
     "name": "stderr",
     "output_type": "stream",
     "text": [
      "Epoch [472/5000]: 100%|██████████| 10/10 [00:00<00:00, 297.11it/s, loss=1.32]\n"
     ]
    },
    {
     "name": "stdout",
     "output_type": "stream",
     "text": [
      "Epoch [472/5000]: Train loss: 1.3458, Valid loss: 1.3465\n",
      "Saving model with loss 1.347...\n"
     ]
    },
    {
     "name": "stderr",
     "output_type": "stream",
     "text": [
      "Epoch [473/5000]: 100%|██████████| 10/10 [00:00<00:00, 264.06it/s, loss=1.23]\n"
     ]
    },
    {
     "name": "stdout",
     "output_type": "stream",
     "text": [
      "Epoch [473/5000]: Train loss: 1.3362, Valid loss: 1.4130\n"
     ]
    },
    {
     "name": "stderr",
     "output_type": "stream",
     "text": [
      "Epoch [474/5000]: 100%|██████████| 10/10 [00:00<00:00, 265.93it/s, loss=1.35]\n"
     ]
    },
    {
     "name": "stdout",
     "output_type": "stream",
     "text": [
      "Epoch [474/5000]: Train loss: 1.3440, Valid loss: 1.4392\n"
     ]
    },
    {
     "name": "stderr",
     "output_type": "stream",
     "text": [
      "Epoch [475/5000]: 100%|██████████| 10/10 [00:00<00:00, 222.97it/s, loss=1.23]\n"
     ]
    },
    {
     "name": "stdout",
     "output_type": "stream",
     "text": [
      "Epoch [475/5000]: Train loss: 1.3433, Valid loss: 1.3861\n"
     ]
    },
    {
     "name": "stderr",
     "output_type": "stream",
     "text": [
      "Epoch [476/5000]: 100%|██████████| 10/10 [00:00<00:00, 234.29it/s, loss=1.68]"
     ]
    },
    {
     "name": "stdout",
     "output_type": "stream",
     "text": [
      "Epoch [476/5000]: Train loss: 1.3570, Valid loss: 1.4248\n"
     ]
    },
    {
     "name": "stderr",
     "output_type": "stream",
     "text": [
      "\n",
      "Epoch [477/5000]: 100%|██████████| 10/10 [00:00<00:00, 213.36it/s, loss=1.65]\n"
     ]
    },
    {
     "name": "stdout",
     "output_type": "stream",
     "text": [
      "Epoch [477/5000]: Train loss: 1.3505, Valid loss: 1.3846\n"
     ]
    },
    {
     "name": "stderr",
     "output_type": "stream",
     "text": [
      "Epoch [478/5000]: 100%|██████████| 10/10 [00:00<00:00, 229.13it/s, loss=1.58]\n"
     ]
    },
    {
     "name": "stdout",
     "output_type": "stream",
     "text": [
      "Epoch [478/5000]: Train loss: 1.3458, Valid loss: 1.3940\n"
     ]
    },
    {
     "name": "stderr",
     "output_type": "stream",
     "text": [
      "Epoch [479/5000]: 100%|██████████| 10/10 [00:00<00:00, 278.72it/s, loss=1.49]\n"
     ]
    },
    {
     "name": "stdout",
     "output_type": "stream",
     "text": [
      "Epoch [479/5000]: Train loss: 1.3426, Valid loss: 1.3567\n"
     ]
    },
    {
     "name": "stderr",
     "output_type": "stream",
     "text": [
      "Epoch [480/5000]: 100%|██████████| 10/10 [00:00<00:00, 270.46it/s, loss=1.31]\n"
     ]
    },
    {
     "name": "stdout",
     "output_type": "stream",
     "text": [
      "Epoch [480/5000]: Train loss: 1.3235, Valid loss: 1.3553\n"
     ]
    },
    {
     "name": "stderr",
     "output_type": "stream",
     "text": [
      "Epoch [481/5000]: 100%|██████████| 10/10 [00:00<00:00, 279.11it/s, loss=1.18]\n"
     ]
    },
    {
     "name": "stdout",
     "output_type": "stream",
     "text": [
      "Epoch [481/5000]: Train loss: 1.3131, Valid loss: 1.4671\n"
     ]
    },
    {
     "name": "stderr",
     "output_type": "stream",
     "text": [
      "Epoch [482/5000]: 100%|██████████| 10/10 [00:00<00:00, 200.08it/s, loss=1.27]"
     ]
    },
    {
     "name": "stdout",
     "output_type": "stream",
     "text": [
      "Epoch [482/5000]: Train loss: 1.3257, Valid loss: 1.3927\n"
     ]
    },
    {
     "name": "stderr",
     "output_type": "stream",
     "text": [
      "\n",
      "Epoch [483/5000]: 100%|██████████| 10/10 [00:00<00:00, 200.83it/s, loss=1.17]\n"
     ]
    },
    {
     "name": "stdout",
     "output_type": "stream",
     "text": [
      "Epoch [483/5000]: Train loss: 1.3102, Valid loss: 1.3603\n"
     ]
    },
    {
     "name": "stderr",
     "output_type": "stream",
     "text": [
      "Epoch [484/5000]: 100%|██████████| 10/10 [00:00<00:00, 210.03it/s, loss=1.22]\n"
     ]
    },
    {
     "name": "stdout",
     "output_type": "stream",
     "text": [
      "Epoch [484/5000]: Train loss: 1.3081, Valid loss: 1.3701\n"
     ]
    },
    {
     "name": "stderr",
     "output_type": "stream",
     "text": [
      "Epoch [485/5000]: 100%|██████████| 10/10 [00:00<00:00, 271.12it/s, loss=1.15]\n"
     ]
    },
    {
     "name": "stdout",
     "output_type": "stream",
     "text": [
      "Epoch [485/5000]: Train loss: 1.3028, Valid loss: 1.4811\n"
     ]
    },
    {
     "name": "stderr",
     "output_type": "stream",
     "text": [
      "Epoch [486/5000]: 100%|██████████| 10/10 [00:00<00:00, 265.48it/s, loss=1.1]\n"
     ]
    },
    {
     "name": "stdout",
     "output_type": "stream",
     "text": [
      "Epoch [486/5000]: Train loss: 1.2980, Valid loss: 1.3148\n",
      "Saving model with loss 1.315...\n"
     ]
    },
    {
     "name": "stderr",
     "output_type": "stream",
     "text": [
      "Epoch [487/5000]: 100%|██████████| 10/10 [00:00<00:00, 233.20it/s, loss=1.09]\n"
     ]
    },
    {
     "name": "stdout",
     "output_type": "stream",
     "text": [
      "Epoch [487/5000]: Train loss: 1.2960, Valid loss: 1.3448\n"
     ]
    },
    {
     "name": "stderr",
     "output_type": "stream",
     "text": [
      "Epoch [488/5000]: 100%|██████████| 10/10 [00:00<00:00, 219.20it/s, loss=1.23]\n"
     ]
    },
    {
     "name": "stdout",
     "output_type": "stream",
     "text": [
      "Epoch [488/5000]: Train loss: 1.3071, Valid loss: 1.3913\n"
     ]
    },
    {
     "name": "stderr",
     "output_type": "stream",
     "text": [
      "Epoch [489/5000]: 100%|██████████| 10/10 [00:00<00:00, 213.50it/s, loss=1.25]\n"
     ]
    },
    {
     "name": "stdout",
     "output_type": "stream",
     "text": [
      "Epoch [489/5000]: Train loss: 1.3052, Valid loss: 1.3049\n",
      "Saving model with loss 1.305...\n"
     ]
    },
    {
     "name": "stderr",
     "output_type": "stream",
     "text": [
      "Epoch [490/5000]: 100%|██████████| 10/10 [00:00<00:00, 190.48it/s, loss=1.54]\n"
     ]
    },
    {
     "name": "stdout",
     "output_type": "stream",
     "text": [
      "Epoch [490/5000]: Train loss: 1.3205, Valid loss: 1.4145\n"
     ]
    },
    {
     "name": "stderr",
     "output_type": "stream",
     "text": [
      "Epoch [491/5000]: 100%|██████████| 10/10 [00:00<00:00, 250.95it/s, loss=1.25]\n"
     ]
    },
    {
     "name": "stdout",
     "output_type": "stream",
     "text": [
      "Epoch [491/5000]: Train loss: 1.2993, Valid loss: 1.4578\n"
     ]
    },
    {
     "name": "stderr",
     "output_type": "stream",
     "text": [
      "Epoch [492/5000]: 100%|██████████| 10/10 [00:00<00:00, 280.54it/s, loss=1.21]\n"
     ]
    },
    {
     "name": "stdout",
     "output_type": "stream",
     "text": [
      "Epoch [492/5000]: Train loss: 1.2899, Valid loss: 1.3383\n"
     ]
    },
    {
     "name": "stderr",
     "output_type": "stream",
     "text": [
      "Epoch [493/5000]: 100%|██████████| 10/10 [00:00<00:00, 250.82it/s, loss=1.64]\n"
     ]
    },
    {
     "name": "stdout",
     "output_type": "stream",
     "text": [
      "Epoch [493/5000]: Train loss: 1.3293, Valid loss: 1.4531\n"
     ]
    },
    {
     "name": "stderr",
     "output_type": "stream",
     "text": [
      "Epoch [494/5000]: 100%|██████████| 10/10 [00:00<00:00, 259.04it/s, loss=1.65]\n"
     ]
    },
    {
     "name": "stdout",
     "output_type": "stream",
     "text": [
      "Epoch [494/5000]: Train loss: 1.3229, Valid loss: 1.3030\n",
      "Saving model with loss 1.303...\n"
     ]
    },
    {
     "name": "stderr",
     "output_type": "stream",
     "text": [
      "Epoch [495/5000]: 100%|██████████| 10/10 [00:00<00:00, 238.98it/s, loss=1.5]\n"
     ]
    },
    {
     "name": "stdout",
     "output_type": "stream",
     "text": [
      "Epoch [495/5000]: Train loss: 1.3037, Valid loss: 1.4788\n"
     ]
    },
    {
     "name": "stderr",
     "output_type": "stream",
     "text": [
      "Epoch [496/5000]: 100%|██████████| 10/10 [00:00<00:00, 224.47it/s, loss=1.89]\n"
     ]
    },
    {
     "name": "stdout",
     "output_type": "stream",
     "text": [
      "Epoch [496/5000]: Train loss: 1.3248, Valid loss: 1.3048\n"
     ]
    },
    {
     "name": "stderr",
     "output_type": "stream",
     "text": [
      "Epoch [497/5000]: 100%|██████████| 10/10 [00:00<00:00, 233.66it/s, loss=1.32]\n"
     ]
    },
    {
     "name": "stdout",
     "output_type": "stream",
     "text": [
      "Epoch [497/5000]: Train loss: 1.2937, Valid loss: 1.3191\n"
     ]
    },
    {
     "name": "stderr",
     "output_type": "stream",
     "text": [
      "Epoch [498/5000]: 100%|██████████| 10/10 [00:00<00:00, 252.06it/s, loss=1.37]\n"
     ]
    },
    {
     "name": "stdout",
     "output_type": "stream",
     "text": [
      "Epoch [498/5000]: Train loss: 1.2941, Valid loss: 1.3676\n"
     ]
    },
    {
     "name": "stderr",
     "output_type": "stream",
     "text": [
      "Epoch [499/5000]: 100%|██████████| 10/10 [00:00<00:00, 247.91it/s, loss=1.16]\n"
     ]
    },
    {
     "name": "stdout",
     "output_type": "stream",
     "text": [
      "Epoch [499/5000]: Train loss: 1.2768, Valid loss: 1.2830\n",
      "Saving model with loss 1.283...\n"
     ]
    },
    {
     "name": "stderr",
     "output_type": "stream",
     "text": [
      "Epoch [500/5000]: 100%|██████████| 10/10 [00:00<00:00, 263.33it/s, loss=1.4]\n"
     ]
    },
    {
     "name": "stdout",
     "output_type": "stream",
     "text": [
      "Epoch [500/5000]: Train loss: 1.2963, Valid loss: 1.3030\n"
     ]
    },
    {
     "name": "stderr",
     "output_type": "stream",
     "text": [
      "Epoch [501/5000]: 100%|██████████| 10/10 [00:00<00:00, 263.90it/s, loss=1.23]\n"
     ]
    },
    {
     "name": "stdout",
     "output_type": "stream",
     "text": [
      "Epoch [501/5000]: Train loss: 1.2726, Valid loss: 1.3205\n"
     ]
    },
    {
     "name": "stderr",
     "output_type": "stream",
     "text": [
      "Epoch [502/5000]: 100%|██████████| 10/10 [00:00<00:00, 285.96it/s, loss=1.3]\n"
     ]
    },
    {
     "name": "stdout",
     "output_type": "stream",
     "text": [
      "Epoch [502/5000]: Train loss: 1.2760, Valid loss: 1.3278\n"
     ]
    },
    {
     "name": "stderr",
     "output_type": "stream",
     "text": [
      "Epoch [503/5000]: 100%|██████████| 10/10 [00:00<00:00, 264.12it/s, loss=1.29]\n"
     ]
    },
    {
     "name": "stdout",
     "output_type": "stream",
     "text": [
      "Epoch [503/5000]: Train loss: 1.2749, Valid loss: 1.4106\n"
     ]
    },
    {
     "name": "stderr",
     "output_type": "stream",
     "text": [
      "Epoch [504/5000]: 100%|██████████| 10/10 [00:00<00:00, 256.59it/s, loss=1.13]\n"
     ]
    },
    {
     "name": "stdout",
     "output_type": "stream",
     "text": [
      "Epoch [504/5000]: Train loss: 1.2624, Valid loss: 1.2668\n",
      "Saving model with loss 1.267...\n"
     ]
    },
    {
     "name": "stderr",
     "output_type": "stream",
     "text": [
      "Epoch [505/5000]: 100%|██████████| 10/10 [00:00<00:00, 298.68it/s, loss=1.24]\n"
     ]
    },
    {
     "name": "stdout",
     "output_type": "stream",
     "text": [
      "Epoch [505/5000]: Train loss: 1.2703, Valid loss: 1.3675\n"
     ]
    },
    {
     "name": "stderr",
     "output_type": "stream",
     "text": [
      "Epoch [506/5000]: 100%|██████████| 10/10 [00:00<00:00, 244.75it/s, loss=1.48]\n"
     ]
    },
    {
     "name": "stdout",
     "output_type": "stream",
     "text": [
      "Epoch [506/5000]: Train loss: 1.2824, Valid loss: 1.3451\n"
     ]
    },
    {
     "name": "stderr",
     "output_type": "stream",
     "text": [
      "Epoch [507/5000]: 100%|██████████| 10/10 [00:00<00:00, 280.39it/s, loss=1.19]\n"
     ]
    },
    {
     "name": "stdout",
     "output_type": "stream",
     "text": [
      "Epoch [507/5000]: Train loss: 1.2612, Valid loss: 1.3399\n"
     ]
    },
    {
     "name": "stderr",
     "output_type": "stream",
     "text": [
      "Epoch [508/5000]: 100%|██████████| 10/10 [00:00<00:00, 284.94it/s, loss=1.76]\n"
     ]
    },
    {
     "name": "stdout",
     "output_type": "stream",
     "text": [
      "Epoch [508/5000]: Train loss: 1.3030, Valid loss: 1.3524\n"
     ]
    },
    {
     "name": "stderr",
     "output_type": "stream",
     "text": [
      "Epoch [509/5000]: 100%|██████████| 10/10 [00:00<00:00, 273.01it/s, loss=1.08]\n"
     ]
    },
    {
     "name": "stdout",
     "output_type": "stream",
     "text": [
      "Epoch [509/5000]: Train loss: 1.2550, Valid loss: 1.3083\n"
     ]
    },
    {
     "name": "stderr",
     "output_type": "stream",
     "text": [
      "Epoch [510/5000]: 100%|██████████| 10/10 [00:00<00:00, 238.91it/s, loss=1.09]\n"
     ]
    },
    {
     "name": "stdout",
     "output_type": "stream",
     "text": [
      "Epoch [510/5000]: Train loss: 1.2501, Valid loss: 1.3044\n"
     ]
    },
    {
     "name": "stderr",
     "output_type": "stream",
     "text": [
      "Epoch [511/5000]: 100%|██████████| 10/10 [00:00<00:00, 244.29it/s, loss=1.15]\n"
     ]
    },
    {
     "name": "stdout",
     "output_type": "stream",
     "text": [
      "Epoch [511/5000]: Train loss: 1.2505, Valid loss: 1.3756\n"
     ]
    },
    {
     "name": "stderr",
     "output_type": "stream",
     "text": [
      "Epoch [512/5000]: 100%|██████████| 10/10 [00:00<00:00, 264.00it/s, loss=1.61]\n"
     ]
    },
    {
     "name": "stdout",
     "output_type": "stream",
     "text": [
      "Epoch [512/5000]: Train loss: 1.2805, Valid loss: 1.3727\n"
     ]
    },
    {
     "name": "stderr",
     "output_type": "stream",
     "text": [
      "Epoch [513/5000]: 100%|██████████| 10/10 [00:00<00:00, 294.36it/s, loss=1.05]\n"
     ]
    },
    {
     "name": "stdout",
     "output_type": "stream",
     "text": [
      "Epoch [513/5000]: Train loss: 1.2407, Valid loss: 1.4008\n"
     ]
    },
    {
     "name": "stderr",
     "output_type": "stream",
     "text": [
      "Epoch [514/5000]: 100%|██████████| 10/10 [00:00<00:00, 259.14it/s, loss=1.58]\n"
     ]
    },
    {
     "name": "stdout",
     "output_type": "stream",
     "text": [
      "Epoch [514/5000]: Train loss: 1.2836, Valid loss: 1.3261\n"
     ]
    },
    {
     "name": "stderr",
     "output_type": "stream",
     "text": [
      "Epoch [515/5000]: 100%|██████████| 10/10 [00:00<00:00, 257.27it/s, loss=1.57]\n"
     ]
    },
    {
     "name": "stdout",
     "output_type": "stream",
     "text": [
      "Epoch [515/5000]: Train loss: 1.2686, Valid loss: 1.3198\n"
     ]
    },
    {
     "name": "stderr",
     "output_type": "stream",
     "text": [
      "Epoch [516/5000]: 100%|██████████| 10/10 [00:00<00:00, 252.82it/s, loss=1.06]\n"
     ]
    },
    {
     "name": "stdout",
     "output_type": "stream",
     "text": [
      "Epoch [516/5000]: Train loss: 1.2377, Valid loss: 1.2947\n"
     ]
    },
    {
     "name": "stderr",
     "output_type": "stream",
     "text": [
      "Epoch [517/5000]: 100%|██████████| 10/10 [00:00<00:00, 264.02it/s, loss=1.33]\n"
     ]
    },
    {
     "name": "stdout",
     "output_type": "stream",
     "text": [
      "Epoch [517/5000]: Train loss: 1.2557, Valid loss: 1.3014\n"
     ]
    },
    {
     "name": "stderr",
     "output_type": "stream",
     "text": [
      "Epoch [518/5000]: 100%|██████████| 10/10 [00:00<00:00, 297.03it/s, loss=0.925]\n"
     ]
    },
    {
     "name": "stdout",
     "output_type": "stream",
     "text": [
      "Epoch [518/5000]: Train loss: 1.2298, Valid loss: 1.2715\n"
     ]
    },
    {
     "name": "stderr",
     "output_type": "stream",
     "text": [
      "Epoch [519/5000]: 100%|██████████| 10/10 [00:00<00:00, 286.65it/s, loss=1.46]\n"
     ]
    },
    {
     "name": "stdout",
     "output_type": "stream",
     "text": [
      "Epoch [519/5000]: Train loss: 1.2587, Valid loss: 1.3023\n"
     ]
    },
    {
     "name": "stderr",
     "output_type": "stream",
     "text": [
      "Epoch [520/5000]: 100%|██████████| 10/10 [00:00<00:00, 240.19it/s, loss=1.21]\n"
     ]
    },
    {
     "name": "stdout",
     "output_type": "stream",
     "text": [
      "Epoch [520/5000]: Train loss: 1.2473, Valid loss: 1.2930\n"
     ]
    },
    {
     "name": "stderr",
     "output_type": "stream",
     "text": [
      "Epoch [521/5000]: 100%|██████████| 10/10 [00:00<00:00, 257.33it/s, loss=0.822]\n"
     ]
    },
    {
     "name": "stdout",
     "output_type": "stream",
     "text": [
      "Epoch [521/5000]: Train loss: 1.2197, Valid loss: 1.2717\n"
     ]
    },
    {
     "name": "stderr",
     "output_type": "stream",
     "text": [
      "Epoch [522/5000]: 100%|██████████| 10/10 [00:00<00:00, 270.50it/s, loss=1.07]\n"
     ]
    },
    {
     "name": "stdout",
     "output_type": "stream",
     "text": [
      "Epoch [522/5000]: Train loss: 1.2351, Valid loss: 1.2960\n"
     ]
    },
    {
     "name": "stderr",
     "output_type": "stream",
     "text": [
      "Epoch [523/5000]: 100%|██████████| 10/10 [00:00<00:00, 285.99it/s, loss=1.17]\n"
     ]
    },
    {
     "name": "stdout",
     "output_type": "stream",
     "text": [
      "Epoch [523/5000]: Train loss: 1.2347, Valid loss: 1.2350\n",
      "Saving model with loss 1.235...\n"
     ]
    },
    {
     "name": "stderr",
     "output_type": "stream",
     "text": [
      "Epoch [524/5000]: 100%|██████████| 10/10 [00:00<00:00, 257.24it/s, loss=1.03]\n"
     ]
    },
    {
     "name": "stdout",
     "output_type": "stream",
     "text": [
      "Epoch [524/5000]: Train loss: 1.2260, Valid loss: 1.3081\n"
     ]
    },
    {
     "name": "stderr",
     "output_type": "stream",
     "text": [
      "Epoch [525/5000]: 100%|██████████| 10/10 [00:00<00:00, 229.65it/s, loss=1.24]\n"
     ]
    },
    {
     "name": "stdout",
     "output_type": "stream",
     "text": [
      "Epoch [525/5000]: Train loss: 1.2388, Valid loss: 1.2983\n"
     ]
    },
    {
     "name": "stderr",
     "output_type": "stream",
     "text": [
      "Epoch [526/5000]: 100%|██████████| 10/10 [00:00<00:00, 257.38it/s, loss=1.01]\n"
     ]
    },
    {
     "name": "stdout",
     "output_type": "stream",
     "text": [
      "Epoch [526/5000]: Train loss: 1.2204, Valid loss: 1.3229\n"
     ]
    },
    {
     "name": "stderr",
     "output_type": "stream",
     "text": [
      "Epoch [527/5000]: 100%|██████████| 10/10 [00:00<00:00, 259.69it/s, loss=1.51]\n"
     ]
    },
    {
     "name": "stdout",
     "output_type": "stream",
     "text": [
      "Epoch [527/5000]: Train loss: 1.2522, Valid loss: 1.3111\n"
     ]
    },
    {
     "name": "stderr",
     "output_type": "stream",
     "text": [
      "Epoch [528/5000]: 100%|██████████| 10/10 [00:00<00:00, 257.29it/s, loss=1.26]\n"
     ]
    },
    {
     "name": "stdout",
     "output_type": "stream",
     "text": [
      "Epoch [528/5000]: Train loss: 1.2339, Valid loss: 1.2261\n",
      "Saving model with loss 1.226...\n"
     ]
    },
    {
     "name": "stderr",
     "output_type": "stream",
     "text": [
      "Epoch [529/5000]: 100%|██████████| 10/10 [00:00<00:00, 265.57it/s, loss=1.64]\n"
     ]
    },
    {
     "name": "stdout",
     "output_type": "stream",
     "text": [
      "Epoch [529/5000]: Train loss: 1.2513, Valid loss: 1.2710\n"
     ]
    },
    {
     "name": "stderr",
     "output_type": "stream",
     "text": [
      "Epoch [530/5000]: 100%|██████████| 10/10 [00:00<00:00, 287.38it/s, loss=1.11]\n"
     ]
    },
    {
     "name": "stdout",
     "output_type": "stream",
     "text": [
      "Epoch [530/5000]: Train loss: 1.2180, Valid loss: 1.2593\n"
     ]
    },
    {
     "name": "stderr",
     "output_type": "stream",
     "text": [
      "Epoch [531/5000]: 100%|██████████| 10/10 [00:00<00:00, 284.71it/s, loss=1.06]\n"
     ]
    },
    {
     "name": "stdout",
     "output_type": "stream",
     "text": [
      "Epoch [531/5000]: Train loss: 1.2126, Valid loss: 1.2933\n"
     ]
    },
    {
     "name": "stderr",
     "output_type": "stream",
     "text": [
      "Epoch [532/5000]: 100%|██████████| 10/10 [00:00<00:00, 271.22it/s, loss=1.05]\n"
     ]
    },
    {
     "name": "stdout",
     "output_type": "stream",
     "text": [
      "Epoch [532/5000]: Train loss: 1.2137, Valid loss: 1.3040\n"
     ]
    },
    {
     "name": "stderr",
     "output_type": "stream",
     "text": [
      "Epoch [533/5000]: 100%|██████████| 10/10 [00:00<00:00, 303.50it/s, loss=1.35]\n"
     ]
    },
    {
     "name": "stdout",
     "output_type": "stream",
     "text": [
      "Epoch [533/5000]: Train loss: 1.2285, Valid loss: 1.2862\n"
     ]
    },
    {
     "name": "stderr",
     "output_type": "stream",
     "text": [
      "Epoch [534/5000]: 100%|██████████| 10/10 [00:00<00:00, 273.17it/s, loss=1.29]\n"
     ]
    },
    {
     "name": "stdout",
     "output_type": "stream",
     "text": [
      "Epoch [534/5000]: Train loss: 1.2259, Valid loss: 1.1916\n",
      "Saving model with loss 1.192...\n"
     ]
    },
    {
     "name": "stderr",
     "output_type": "stream",
     "text": [
      "Epoch [535/5000]: 100%|██████████| 10/10 [00:00<00:00, 303.92it/s, loss=1.34]\n"
     ]
    },
    {
     "name": "stdout",
     "output_type": "stream",
     "text": [
      "Epoch [535/5000]: Train loss: 1.2276, Valid loss: 1.1955\n"
     ]
    },
    {
     "name": "stderr",
     "output_type": "stream",
     "text": [
      "Epoch [536/5000]: 100%|██████████| 10/10 [00:00<00:00, 296.88it/s, loss=1.14]\n"
     ]
    },
    {
     "name": "stdout",
     "output_type": "stream",
     "text": [
      "Epoch [536/5000]: Train loss: 1.2213, Valid loss: 1.3177\n"
     ]
    },
    {
     "name": "stderr",
     "output_type": "stream",
     "text": [
      "Epoch [537/5000]: 100%|██████████| 10/10 [00:00<00:00, 228.07it/s, loss=0.888]\n"
     ]
    },
    {
     "name": "stdout",
     "output_type": "stream",
     "text": [
      "Epoch [537/5000]: Train loss: 1.2133, Valid loss: 1.1664\n",
      "Saving model with loss 1.166...\n"
     ]
    },
    {
     "name": "stderr",
     "output_type": "stream",
     "text": [
      "Epoch [538/5000]: 100%|██████████| 10/10 [00:00<00:00, 277.98it/s, loss=1.47]\n"
     ]
    },
    {
     "name": "stdout",
     "output_type": "stream",
     "text": [
      "Epoch [538/5000]: Train loss: 1.2321, Valid loss: 1.2400\n"
     ]
    },
    {
     "name": "stderr",
     "output_type": "stream",
     "text": [
      "Epoch [539/5000]: 100%|██████████| 10/10 [00:00<00:00, 271.11it/s, loss=1.16]\n"
     ]
    },
    {
     "name": "stdout",
     "output_type": "stream",
     "text": [
      "Epoch [539/5000]: Train loss: 1.2178, Valid loss: 1.2606\n"
     ]
    },
    {
     "name": "stderr",
     "output_type": "stream",
     "text": [
      "Epoch [540/5000]: 100%|██████████| 10/10 [00:00<00:00, 278.88it/s, loss=1.77]\n"
     ]
    },
    {
     "name": "stdout",
     "output_type": "stream",
     "text": [
      "Epoch [540/5000]: Train loss: 1.2429, Valid loss: 1.2918\n"
     ]
    },
    {
     "name": "stderr",
     "output_type": "stream",
     "text": [
      "Epoch [541/5000]: 100%|██████████| 10/10 [00:00<00:00, 266.15it/s, loss=1.36]\n"
     ]
    },
    {
     "name": "stdout",
     "output_type": "stream",
     "text": [
      "Epoch [541/5000]: Train loss: 1.2179, Valid loss: 1.2815\n"
     ]
    },
    {
     "name": "stderr",
     "output_type": "stream",
     "text": [
      "Epoch [542/5000]: 100%|██████████| 10/10 [00:00<00:00, 287.02it/s, loss=1.08]\n"
     ]
    },
    {
     "name": "stdout",
     "output_type": "stream",
     "text": [
      "Epoch [542/5000]: Train loss: 1.2061, Valid loss: 1.2395\n"
     ]
    },
    {
     "name": "stderr",
     "output_type": "stream",
     "text": [
      "Epoch [543/5000]: 100%|██████████| 10/10 [00:00<00:00, 297.03it/s, loss=1.52]\n"
     ]
    },
    {
     "name": "stdout",
     "output_type": "stream",
     "text": [
      "Epoch [543/5000]: Train loss: 1.2240, Valid loss: 1.2205\n"
     ]
    },
    {
     "name": "stderr",
     "output_type": "stream",
     "text": [
      "Epoch [544/5000]: 100%|██████████| 10/10 [00:00<00:00, 264.06it/s, loss=0.97]\n"
     ]
    },
    {
     "name": "stdout",
     "output_type": "stream",
     "text": [
      "Epoch [544/5000]: Train loss: 1.1954, Valid loss: 1.2726\n"
     ]
    },
    {
     "name": "stderr",
     "output_type": "stream",
     "text": [
      "Epoch [545/5000]: 100%|██████████| 10/10 [00:00<00:00, 265.98it/s, loss=1.68]\n"
     ]
    },
    {
     "name": "stdout",
     "output_type": "stream",
     "text": [
      "Epoch [545/5000]: Train loss: 1.2307, Valid loss: 1.2401\n"
     ]
    },
    {
     "name": "stderr",
     "output_type": "stream",
     "text": [
      "Epoch [546/5000]: 100%|██████████| 10/10 [00:00<00:00, 304.11it/s, loss=0.881]\n"
     ]
    },
    {
     "name": "stdout",
     "output_type": "stream",
     "text": [
      "Epoch [546/5000]: Train loss: 1.1832, Valid loss: 1.1816\n"
     ]
    },
    {
     "name": "stderr",
     "output_type": "stream",
     "text": [
      "Epoch [547/5000]: 100%|██████████| 10/10 [00:00<00:00, 303.92it/s, loss=1.29]\n"
     ]
    },
    {
     "name": "stdout",
     "output_type": "stream",
     "text": [
      "Epoch [547/5000]: Train loss: 1.2118, Valid loss: 1.2043\n"
     ]
    },
    {
     "name": "stderr",
     "output_type": "stream",
     "text": [
      "Epoch [548/5000]: 100%|██████████| 10/10 [00:00<00:00, 259.30it/s, loss=1.22]\n"
     ]
    },
    {
     "name": "stdout",
     "output_type": "stream",
     "text": [
      "Epoch [548/5000]: Train loss: 1.2140, Valid loss: 1.2612\n"
     ]
    },
    {
     "name": "stderr",
     "output_type": "stream",
     "text": [
      "Epoch [549/5000]: 100%|██████████| 10/10 [00:00<00:00, 271.22it/s, loss=1.21]\n"
     ]
    },
    {
     "name": "stdout",
     "output_type": "stream",
     "text": [
      "Epoch [549/5000]: Train loss: 1.2029, Valid loss: 1.2786\n"
     ]
    },
    {
     "name": "stderr",
     "output_type": "stream",
     "text": [
      "Epoch [550/5000]: 100%|██████████| 10/10 [00:00<00:00, 220.12it/s, loss=1.2]\n"
     ]
    },
    {
     "name": "stdout",
     "output_type": "stream",
     "text": [
      "Epoch [550/5000]: Train loss: 1.2111, Valid loss: 1.2655\n"
     ]
    },
    {
     "name": "stderr",
     "output_type": "stream",
     "text": [
      "Epoch [551/5000]: 100%|██████████| 10/10 [00:00<00:00, 69.42it/s, loss=1.28]\n"
     ]
    },
    {
     "name": "stdout",
     "output_type": "stream",
     "text": [
      "Epoch [551/5000]: Train loss: 1.1994, Valid loss: 1.2220\n"
     ]
    },
    {
     "name": "stderr",
     "output_type": "stream",
     "text": [
      "Epoch [552/5000]: 100%|██████████| 10/10 [00:00<00:00, 171.08it/s, loss=1.62]\n"
     ]
    },
    {
     "name": "stdout",
     "output_type": "stream",
     "text": [
      "Epoch [552/5000]: Train loss: 1.2204, Valid loss: 1.1965\n"
     ]
    },
    {
     "name": "stderr",
     "output_type": "stream",
     "text": [
      "Epoch [553/5000]: 100%|██████████| 10/10 [00:00<00:00, 180.31it/s, loss=1.45]\n"
     ]
    },
    {
     "name": "stdout",
     "output_type": "stream",
     "text": [
      "Epoch [553/5000]: Train loss: 1.2102, Valid loss: 1.2790\n"
     ]
    },
    {
     "name": "stderr",
     "output_type": "stream",
     "text": [
      "Epoch [554/5000]: 100%|██████████| 10/10 [00:00<00:00, 218.07it/s, loss=1.12]\n"
     ]
    },
    {
     "name": "stdout",
     "output_type": "stream",
     "text": [
      "Epoch [554/5000]: Train loss: 1.1899, Valid loss: 1.2136\n"
     ]
    },
    {
     "name": "stderr",
     "output_type": "stream",
     "text": [
      "Epoch [555/5000]: 100%|██████████| 10/10 [00:00<00:00, 219.34it/s, loss=1.5]\n"
     ]
    },
    {
     "name": "stdout",
     "output_type": "stream",
     "text": [
      "Epoch [555/5000]: Train loss: 1.2139, Valid loss: 1.2570\n"
     ]
    },
    {
     "name": "stderr",
     "output_type": "stream",
     "text": [
      "Epoch [556/5000]: 100%|██████████| 10/10 [00:00<00:00, 238.87it/s, loss=1.34]\n"
     ]
    },
    {
     "name": "stdout",
     "output_type": "stream",
     "text": [
      "Epoch [556/5000]: Train loss: 1.2095, Valid loss: 1.2840\n"
     ]
    },
    {
     "name": "stderr",
     "output_type": "stream",
     "text": [
      "Epoch [557/5000]: 100%|██████████| 10/10 [00:00<00:00, 234.48it/s, loss=1.21]\n"
     ]
    },
    {
     "name": "stdout",
     "output_type": "stream",
     "text": [
      "Epoch [557/5000]: Train loss: 1.1963, Valid loss: 1.2076\n"
     ]
    },
    {
     "name": "stderr",
     "output_type": "stream",
     "text": [
      "Epoch [558/5000]: 100%|██████████| 10/10 [00:00<00:00, 192.93it/s, loss=1.17]\n"
     ]
    },
    {
     "name": "stdout",
     "output_type": "stream",
     "text": [
      "Epoch [558/5000]: Train loss: 1.1882, Valid loss: 1.2640\n"
     ]
    },
    {
     "name": "stderr",
     "output_type": "stream",
     "text": [
      "Epoch [559/5000]: 100%|██████████| 10/10 [00:00<00:00, 162.79it/s, loss=1.23]\n"
     ]
    },
    {
     "name": "stdout",
     "output_type": "stream",
     "text": [
      "Epoch [559/5000]: Train loss: 1.1847, Valid loss: 1.2149\n"
     ]
    },
    {
     "name": "stderr",
     "output_type": "stream",
     "text": [
      "Epoch [560/5000]: 100%|██████████| 10/10 [00:00<00:00, 214.65it/s, loss=0.989]\n"
     ]
    },
    {
     "name": "stdout",
     "output_type": "stream",
     "text": [
      "Epoch [560/5000]: Train loss: 1.1692, Valid loss: 1.1813\n"
     ]
    },
    {
     "name": "stderr",
     "output_type": "stream",
     "text": [
      "Epoch [561/5000]: 100%|██████████| 10/10 [00:00<00:00, 199.24it/s, loss=1.23]\n"
     ]
    },
    {
     "name": "stdout",
     "output_type": "stream",
     "text": [
      "Epoch [561/5000]: Train loss: 1.1849, Valid loss: 1.2288\n"
     ]
    },
    {
     "name": "stderr",
     "output_type": "stream",
     "text": [
      "Epoch [562/5000]: 100%|██████████| 10/10 [00:00<00:00, 229.83it/s, loss=0.992]\n"
     ]
    },
    {
     "name": "stdout",
     "output_type": "stream",
     "text": [
      "Epoch [562/5000]: Train loss: 1.1798, Valid loss: 1.1938\n"
     ]
    },
    {
     "name": "stderr",
     "output_type": "stream",
     "text": [
      "Epoch [563/5000]: 100%|██████████| 10/10 [00:00<00:00, 189.49it/s, loss=0.994]\n"
     ]
    },
    {
     "name": "stdout",
     "output_type": "stream",
     "text": [
      "Epoch [563/5000]: Train loss: 1.1799, Valid loss: 1.1812\n"
     ]
    },
    {
     "name": "stderr",
     "output_type": "stream",
     "text": [
      "Epoch [564/5000]: 100%|██████████| 10/10 [00:00<00:00, 260.17it/s, loss=0.888]\n"
     ]
    },
    {
     "name": "stdout",
     "output_type": "stream",
     "text": [
      "Epoch [564/5000]: Train loss: 1.1608, Valid loss: 1.2172\n"
     ]
    },
    {
     "name": "stderr",
     "output_type": "stream",
     "text": [
      "Epoch [565/5000]: 100%|██████████| 10/10 [00:00<00:00, 270.86it/s, loss=1.41]\n"
     ]
    },
    {
     "name": "stdout",
     "output_type": "stream",
     "text": [
      "Epoch [565/5000]: Train loss: 1.1917, Valid loss: 1.2133\n"
     ]
    },
    {
     "name": "stderr",
     "output_type": "stream",
     "text": [
      "Epoch [566/5000]: 100%|██████████| 10/10 [00:00<00:00, 283.78it/s, loss=1.24]\n"
     ]
    },
    {
     "name": "stdout",
     "output_type": "stream",
     "text": [
      "Epoch [566/5000]: Train loss: 1.1776, Valid loss: 1.1908\n"
     ]
    },
    {
     "name": "stderr",
     "output_type": "stream",
     "text": [
      "Epoch [567/5000]: 100%|██████████| 10/10 [00:00<00:00, 218.14it/s, loss=1.04]\n"
     ]
    },
    {
     "name": "stdout",
     "output_type": "stream",
     "text": [
      "Epoch [567/5000]: Train loss: 1.1669, Valid loss: 1.2537\n"
     ]
    },
    {
     "name": "stderr",
     "output_type": "stream",
     "text": [
      "Epoch [568/5000]: 100%|██████████| 10/10 [00:00<00:00, 171.19it/s, loss=0.935]\n"
     ]
    },
    {
     "name": "stdout",
     "output_type": "stream",
     "text": [
      "Epoch [568/5000]: Train loss: 1.1600, Valid loss: 1.2038\n"
     ]
    },
    {
     "name": "stderr",
     "output_type": "stream",
     "text": [
      "Epoch [569/5000]: 100%|██████████| 10/10 [00:00<00:00, 232.99it/s, loss=1.05]\n"
     ]
    },
    {
     "name": "stdout",
     "output_type": "stream",
     "text": [
      "Epoch [569/5000]: Train loss: 1.1643, Valid loss: 1.1927\n"
     ]
    },
    {
     "name": "stderr",
     "output_type": "stream",
     "text": [
      "Epoch [570/5000]: 100%|██████████| 10/10 [00:00<00:00, 241.03it/s, loss=1.13]\n"
     ]
    },
    {
     "name": "stdout",
     "output_type": "stream",
     "text": [
      "Epoch [570/5000]: Train loss: 1.1838, Valid loss: 1.2034\n"
     ]
    },
    {
     "name": "stderr",
     "output_type": "stream",
     "text": [
      "Epoch [571/5000]: 100%|██████████| 10/10 [00:00<00:00, 218.49it/s, loss=0.822]\n"
     ]
    },
    {
     "name": "stdout",
     "output_type": "stream",
     "text": [
      "Epoch [571/5000]: Train loss: 1.1681, Valid loss: 1.1946\n"
     ]
    },
    {
     "name": "stderr",
     "output_type": "stream",
     "text": [
      "Epoch [572/5000]: 100%|██████████| 10/10 [00:00<00:00, 210.56it/s, loss=1.09]\n"
     ]
    },
    {
     "name": "stdout",
     "output_type": "stream",
     "text": [
      "Epoch [572/5000]: Train loss: 1.1710, Valid loss: 1.2561\n"
     ]
    },
    {
     "name": "stderr",
     "output_type": "stream",
     "text": [
      "Epoch [573/5000]: 100%|██████████| 10/10 [00:00<00:00, 227.09it/s, loss=1.27]\n"
     ]
    },
    {
     "name": "stdout",
     "output_type": "stream",
     "text": [
      "Epoch [573/5000]: Train loss: 1.1780, Valid loss: 1.2006\n"
     ]
    },
    {
     "name": "stderr",
     "output_type": "stream",
     "text": [
      "Epoch [574/5000]: 100%|██████████| 10/10 [00:00<00:00, 204.61it/s, loss=1.28]\n"
     ]
    },
    {
     "name": "stdout",
     "output_type": "stream",
     "text": [
      "Epoch [574/5000]: Train loss: 1.1710, Valid loss: 1.2691\n"
     ]
    },
    {
     "name": "stderr",
     "output_type": "stream",
     "text": [
      "Epoch [575/5000]: 100%|██████████| 10/10 [00:00<00:00, 214.78it/s, loss=1.29]\n"
     ]
    },
    {
     "name": "stdout",
     "output_type": "stream",
     "text": [
      "Epoch [575/5000]: Train loss: 1.2044, Valid loss: 1.2463\n"
     ]
    },
    {
     "name": "stderr",
     "output_type": "stream",
     "text": [
      "Epoch [576/5000]: 100%|██████████| 10/10 [00:00<00:00, 278.71it/s, loss=0.989]\n"
     ]
    },
    {
     "name": "stdout",
     "output_type": "stream",
     "text": [
      "Epoch [576/5000]: Train loss: 1.1592, Valid loss: 1.2095\n"
     ]
    },
    {
     "name": "stderr",
     "output_type": "stream",
     "text": [
      "Epoch [577/5000]: 100%|██████████| 10/10 [00:00<00:00, 278.77it/s, loss=1.01]\n"
     ]
    },
    {
     "name": "stdout",
     "output_type": "stream",
     "text": [
      "Epoch [577/5000]: Train loss: 1.1549, Valid loss: 1.1174\n",
      "Saving model with loss 1.117...\n"
     ]
    },
    {
     "name": "stderr",
     "output_type": "stream",
     "text": [
      "Epoch [578/5000]: 100%|██████████| 10/10 [00:00<00:00, 286.62it/s, loss=1.52]\n"
     ]
    },
    {
     "name": "stdout",
     "output_type": "stream",
     "text": [
      "Epoch [578/5000]: Train loss: 1.1829, Valid loss: 1.2662\n"
     ]
    },
    {
     "name": "stderr",
     "output_type": "stream",
     "text": [
      "Epoch [579/5000]: 100%|██████████| 10/10 [00:00<00:00, 270.78it/s, loss=1.17]\n"
     ]
    },
    {
     "name": "stdout",
     "output_type": "stream",
     "text": [
      "Epoch [579/5000]: Train loss: 1.1592, Valid loss: 1.2104\n"
     ]
    },
    {
     "name": "stderr",
     "output_type": "stream",
     "text": [
      "Epoch [580/5000]: 100%|██████████| 10/10 [00:00<00:00, 289.34it/s, loss=1.84]\n"
     ]
    },
    {
     "name": "stdout",
     "output_type": "stream",
     "text": [
      "Epoch [580/5000]: Train loss: 1.2023, Valid loss: 1.1912\n"
     ]
    },
    {
     "name": "stderr",
     "output_type": "stream",
     "text": [
      "Epoch [581/5000]: 100%|██████████| 10/10 [00:00<00:00, 257.37it/s, loss=1.16]\n"
     ]
    },
    {
     "name": "stdout",
     "output_type": "stream",
     "text": [
      "Epoch [581/5000]: Train loss: 1.1683, Valid loss: 1.0904\n",
      "Saving model with loss 1.090...\n"
     ]
    },
    {
     "name": "stderr",
     "output_type": "stream",
     "text": [
      "Epoch [582/5000]: 100%|██████████| 10/10 [00:00<00:00, 229.58it/s, loss=1.05]\n"
     ]
    },
    {
     "name": "stdout",
     "output_type": "stream",
     "text": [
      "Epoch [582/5000]: Train loss: 1.1579, Valid loss: 1.2182\n"
     ]
    },
    {
     "name": "stderr",
     "output_type": "stream",
     "text": [
      "Epoch [583/5000]: 100%|██████████| 10/10 [00:00<00:00, 278.71it/s, loss=1.28]\n"
     ]
    },
    {
     "name": "stdout",
     "output_type": "stream",
     "text": [
      "Epoch [583/5000]: Train loss: 1.1715, Valid loss: 1.1723\n"
     ]
    },
    {
     "name": "stderr",
     "output_type": "stream",
     "text": [
      "Epoch [584/5000]: 100%|██████████| 10/10 [00:00<00:00, 258.66it/s, loss=1.54]\n"
     ]
    },
    {
     "name": "stdout",
     "output_type": "stream",
     "text": [
      "Epoch [584/5000]: Train loss: 1.1784, Valid loss: 1.1218\n"
     ]
    },
    {
     "name": "stderr",
     "output_type": "stream",
     "text": [
      "Epoch [585/5000]: 100%|██████████| 10/10 [00:00<00:00, 278.69it/s, loss=1.12]\n"
     ]
    },
    {
     "name": "stdout",
     "output_type": "stream",
     "text": [
      "Epoch [585/5000]: Train loss: 1.1530, Valid loss: 1.1849\n"
     ]
    },
    {
     "name": "stderr",
     "output_type": "stream",
     "text": [
      "Epoch [586/5000]: 100%|██████████| 10/10 [00:00<00:00, 303.46it/s, loss=1.28]\n"
     ]
    },
    {
     "name": "stdout",
     "output_type": "stream",
     "text": [
      "Epoch [586/5000]: Train loss: 1.1586, Valid loss: 1.1925\n"
     ]
    },
    {
     "name": "stderr",
     "output_type": "stream",
     "text": [
      "Epoch [587/5000]: 100%|██████████| 10/10 [00:00<00:00, 286.64it/s, loss=1.01]\n"
     ]
    },
    {
     "name": "stdout",
     "output_type": "stream",
     "text": [
      "Epoch [587/5000]: Train loss: 1.1428, Valid loss: 1.1844\n"
     ]
    },
    {
     "name": "stderr",
     "output_type": "stream",
     "text": [
      "Epoch [588/5000]: 100%|██████████| 10/10 [00:00<00:00, 278.88it/s, loss=1.18]\n"
     ]
    },
    {
     "name": "stdout",
     "output_type": "stream",
     "text": [
      "Epoch [588/5000]: Train loss: 1.1539, Valid loss: 1.1831\n"
     ]
    },
    {
     "name": "stderr",
     "output_type": "stream",
     "text": [
      "Epoch [589/5000]: 100%|██████████| 10/10 [00:00<00:00, 246.52it/s, loss=0.986]\n"
     ]
    },
    {
     "name": "stdout",
     "output_type": "stream",
     "text": [
      "Epoch [589/5000]: Train loss: 1.1403, Valid loss: 1.1414\n"
     ]
    },
    {
     "name": "stderr",
     "output_type": "stream",
     "text": [
      "Epoch [590/5000]: 100%|██████████| 10/10 [00:00<00:00, 263.91it/s, loss=1.06]\n"
     ]
    },
    {
     "name": "stdout",
     "output_type": "stream",
     "text": [
      "Epoch [590/5000]: Train loss: 1.1407, Valid loss: 1.1716\n"
     ]
    },
    {
     "name": "stderr",
     "output_type": "stream",
     "text": [
      "Epoch [591/5000]: 100%|██████████| 10/10 [00:00<00:00, 219.05it/s, loss=1.18]\n"
     ]
    },
    {
     "name": "stdout",
     "output_type": "stream",
     "text": [
      "Epoch [591/5000]: Train loss: 1.1470, Valid loss: 1.1155\n"
     ]
    },
    {
     "name": "stderr",
     "output_type": "stream",
     "text": [
      "Epoch [592/5000]: 100%|██████████| 10/10 [00:00<00:00, 241.66it/s, loss=1.19]\n"
     ]
    },
    {
     "name": "stdout",
     "output_type": "stream",
     "text": [
      "Epoch [592/5000]: Train loss: 1.1455, Valid loss: 1.1908\n"
     ]
    },
    {
     "name": "stderr",
     "output_type": "stream",
     "text": [
      "Epoch [593/5000]: 100%|██████████| 10/10 [00:00<00:00, 258.90it/s, loss=0.704]\n"
     ]
    },
    {
     "name": "stdout",
     "output_type": "stream",
     "text": [
      "Epoch [593/5000]: Train loss: 1.1282, Valid loss: 1.2125\n"
     ]
    },
    {
     "name": "stderr",
     "output_type": "stream",
     "text": [
      "Epoch [594/5000]: 100%|██████████| 10/10 [00:00<00:00, 278.56it/s, loss=1.7]\n"
     ]
    },
    {
     "name": "stdout",
     "output_type": "stream",
     "text": [
      "Epoch [594/5000]: Train loss: 1.1909, Valid loss: 1.2187\n"
     ]
    },
    {
     "name": "stderr",
     "output_type": "stream",
     "text": [
      "Epoch [595/5000]: 100%|██████████| 10/10 [00:00<00:00, 246.10it/s, loss=1.19]\n"
     ]
    },
    {
     "name": "stdout",
     "output_type": "stream",
     "text": [
      "Epoch [595/5000]: Train loss: 1.1599, Valid loss: 1.3283\n"
     ]
    },
    {
     "name": "stderr",
     "output_type": "stream",
     "text": [
      "Epoch [596/5000]: 100%|██████████| 10/10 [00:00<00:00, 263.85it/s, loss=1.16]\n"
     ]
    },
    {
     "name": "stdout",
     "output_type": "stream",
     "text": [
      "Epoch [596/5000]: Train loss: 1.1678, Valid loss: 1.0851\n",
      "Saving model with loss 1.085...\n"
     ]
    },
    {
     "name": "stderr",
     "output_type": "stream",
     "text": [
      "Epoch [597/5000]: 100%|██████████| 10/10 [00:00<00:00, 265.69it/s, loss=1.03]\n"
     ]
    },
    {
     "name": "stdout",
     "output_type": "stream",
     "text": [
      "Epoch [597/5000]: Train loss: 1.1461, Valid loss: 1.1379\n"
     ]
    },
    {
     "name": "stderr",
     "output_type": "stream",
     "text": [
      "Epoch [598/5000]: 100%|██████████| 10/10 [00:00<00:00, 250.97it/s, loss=1.08]\n"
     ]
    },
    {
     "name": "stdout",
     "output_type": "stream",
     "text": [
      "Epoch [598/5000]: Train loss: 1.1399, Valid loss: 1.1861\n"
     ]
    },
    {
     "name": "stderr",
     "output_type": "stream",
     "text": [
      "Epoch [599/5000]: 100%|██████████| 10/10 [00:00<00:00, 244.05it/s, loss=1.15]\n"
     ]
    },
    {
     "name": "stdout",
     "output_type": "stream",
     "text": [
      "Epoch [599/5000]: Train loss: 1.1608, Valid loss: 1.1737\n"
     ]
    },
    {
     "name": "stderr",
     "output_type": "stream",
     "text": [
      "Epoch [600/5000]: 100%|██████████| 10/10 [00:00<00:00, 250.92it/s, loss=1.03]\n"
     ]
    },
    {
     "name": "stdout",
     "output_type": "stream",
     "text": [
      "Epoch [600/5000]: Train loss: 1.1313, Valid loss: 1.1339\n"
     ]
    },
    {
     "name": "stderr",
     "output_type": "stream",
     "text": [
      "Epoch [601/5000]: 100%|██████████| 10/10 [00:00<00:00, 270.39it/s, loss=1.06]\n"
     ]
    },
    {
     "name": "stdout",
     "output_type": "stream",
     "text": [
      "Epoch [601/5000]: Train loss: 1.1327, Valid loss: 1.1573\n"
     ]
    },
    {
     "name": "stderr",
     "output_type": "stream",
     "text": [
      "Epoch [602/5000]: 100%|██████████| 10/10 [00:00<00:00, 244.20it/s, loss=1.13]\n"
     ]
    },
    {
     "name": "stdout",
     "output_type": "stream",
     "text": [
      "Epoch [602/5000]: Train loss: 1.1354, Valid loss: 1.1050\n"
     ]
    },
    {
     "name": "stderr",
     "output_type": "stream",
     "text": [
      "Epoch [603/5000]: 100%|██████████| 10/10 [00:00<00:00, 256.54it/s, loss=1.09]\n"
     ]
    },
    {
     "name": "stdout",
     "output_type": "stream",
     "text": [
      "Epoch [603/5000]: Train loss: 1.1412, Valid loss: 1.1198\n"
     ]
    },
    {
     "name": "stderr",
     "output_type": "stream",
     "text": [
      "Epoch [604/5000]: 100%|██████████| 10/10 [00:00<00:00, 240.64it/s, loss=1.34]\n"
     ]
    },
    {
     "name": "stdout",
     "output_type": "stream",
     "text": [
      "Epoch [604/5000]: Train loss: 1.1444, Valid loss: 1.1138\n"
     ]
    },
    {
     "name": "stderr",
     "output_type": "stream",
     "text": [
      "Epoch [605/5000]: 100%|██████████| 10/10 [00:00<00:00, 223.00it/s, loss=1.38]\n"
     ]
    },
    {
     "name": "stdout",
     "output_type": "stream",
     "text": [
      "Epoch [605/5000]: Train loss: 1.1561, Valid loss: 1.1623\n"
     ]
    },
    {
     "name": "stderr",
     "output_type": "stream",
     "text": [
      "Epoch [606/5000]: 100%|██████████| 10/10 [00:00<00:00, 246.65it/s, loss=1.51]\n"
     ]
    },
    {
     "name": "stdout",
     "output_type": "stream",
     "text": [
      "Epoch [606/5000]: Train loss: 1.1541, Valid loss: 1.1999\n"
     ]
    },
    {
     "name": "stderr",
     "output_type": "stream",
     "text": [
      "Epoch [607/5000]: 100%|██████████| 10/10 [00:00<00:00, 251.00it/s, loss=0.972]\n"
     ]
    },
    {
     "name": "stdout",
     "output_type": "stream",
     "text": [
      "Epoch [607/5000]: Train loss: 1.1286, Valid loss: 1.1676\n"
     ]
    },
    {
     "name": "stderr",
     "output_type": "stream",
     "text": [
      "Epoch [608/5000]: 100%|██████████| 10/10 [00:00<00:00, 297.96it/s, loss=0.884]\n"
     ]
    },
    {
     "name": "stdout",
     "output_type": "stream",
     "text": [
      "Epoch [608/5000]: Train loss: 1.1230, Valid loss: 1.2043\n"
     ]
    },
    {
     "name": "stderr",
     "output_type": "stream",
     "text": [
      "Epoch [609/5000]: 100%|██████████| 10/10 [00:00<00:00, 295.11it/s, loss=1.05]\n"
     ]
    },
    {
     "name": "stdout",
     "output_type": "stream",
     "text": [
      "Epoch [609/5000]: Train loss: 1.1399, Valid loss: 1.1947\n"
     ]
    },
    {
     "name": "stderr",
     "output_type": "stream",
     "text": [
      "Epoch [610/5000]: 100%|██████████| 10/10 [00:00<00:00, 265.67it/s, loss=1.1]\n"
     ]
    },
    {
     "name": "stdout",
     "output_type": "stream",
     "text": [
      "Epoch [610/5000]: Train loss: 1.1264, Valid loss: 1.1000\n"
     ]
    },
    {
     "name": "stderr",
     "output_type": "stream",
     "text": [
      "Epoch [611/5000]: 100%|██████████| 10/10 [00:00<00:00, 257.26it/s, loss=0.883]\n"
     ]
    },
    {
     "name": "stdout",
     "output_type": "stream",
     "text": [
      "Epoch [611/5000]: Train loss: 1.1167, Valid loss: 1.1895\n"
     ]
    },
    {
     "name": "stderr",
     "output_type": "stream",
     "text": [
      "Epoch [612/5000]: 100%|██████████| 10/10 [00:00<00:00, 294.30it/s, loss=1.17]\n"
     ]
    },
    {
     "name": "stdout",
     "output_type": "stream",
     "text": [
      "Epoch [612/5000]: Train loss: 1.1381, Valid loss: 1.1699\n"
     ]
    },
    {
     "name": "stderr",
     "output_type": "stream",
     "text": [
      "Epoch [613/5000]: 100%|██████████| 10/10 [00:00<00:00, 281.14it/s, loss=0.976]\n"
     ]
    },
    {
     "name": "stdout",
     "output_type": "stream",
     "text": [
      "Epoch [613/5000]: Train loss: 1.1198, Valid loss: 1.1561\n"
     ]
    },
    {
     "name": "stderr",
     "output_type": "stream",
     "text": [
      "Epoch [614/5000]: 100%|██████████| 10/10 [00:00<00:00, 279.08it/s, loss=1.07]\n"
     ]
    },
    {
     "name": "stdout",
     "output_type": "stream",
     "text": [
      "Epoch [614/5000]: Train loss: 1.1280, Valid loss: 1.1912\n"
     ]
    },
    {
     "name": "stderr",
     "output_type": "stream",
     "text": [
      "Epoch [615/5000]: 100%|██████████| 10/10 [00:00<00:00, 246.24it/s, loss=1.32]\n"
     ]
    },
    {
     "name": "stdout",
     "output_type": "stream",
     "text": [
      "Epoch [615/5000]: Train loss: 1.1572, Valid loss: 1.2227\n"
     ]
    },
    {
     "name": "stderr",
     "output_type": "stream",
     "text": [
      "Epoch [616/5000]: 100%|██████████| 10/10 [00:00<00:00, 244.65it/s, loss=1.38]\n"
     ]
    },
    {
     "name": "stdout",
     "output_type": "stream",
     "text": [
      "Epoch [616/5000]: Train loss: 1.1358, Valid loss: 1.0848\n",
      "Saving model with loss 1.085...\n"
     ]
    },
    {
     "name": "stderr",
     "output_type": "stream",
     "text": [
      "Epoch [617/5000]: 100%|██████████| 10/10 [00:00<00:00, 280.39it/s, loss=1.21]\n"
     ]
    },
    {
     "name": "stdout",
     "output_type": "stream",
     "text": [
      "Epoch [617/5000]: Train loss: 1.1284, Valid loss: 1.1353\n"
     ]
    },
    {
     "name": "stderr",
     "output_type": "stream",
     "text": [
      "Epoch [618/5000]: 100%|██████████| 10/10 [00:00<00:00, 271.05it/s, loss=1.41]\n"
     ]
    },
    {
     "name": "stdout",
     "output_type": "stream",
     "text": [
      "Epoch [618/5000]: Train loss: 1.1396, Valid loss: 1.0877\n"
     ]
    },
    {
     "name": "stderr",
     "output_type": "stream",
     "text": [
      "Epoch [619/5000]: 100%|██████████| 10/10 [00:00<00:00, 272.91it/s, loss=1.57]\n"
     ]
    },
    {
     "name": "stdout",
     "output_type": "stream",
     "text": [
      "Epoch [619/5000]: Train loss: 1.1452, Valid loss: 1.1426\n"
     ]
    },
    {
     "name": "stderr",
     "output_type": "stream",
     "text": [
      "Epoch [620/5000]: 100%|██████████| 10/10 [00:00<00:00, 270.98it/s, loss=1.03]\n"
     ]
    },
    {
     "name": "stdout",
     "output_type": "stream",
     "text": [
      "Epoch [620/5000]: Train loss: 1.1121, Valid loss: 1.1264\n"
     ]
    },
    {
     "name": "stderr",
     "output_type": "stream",
     "text": [
      "Epoch [621/5000]: 100%|██████████| 10/10 [00:00<00:00, 244.26it/s, loss=1.2]\n"
     ]
    },
    {
     "name": "stdout",
     "output_type": "stream",
     "text": [
      "Epoch [621/5000]: Train loss: 1.1255, Valid loss: 1.1271\n"
     ]
    },
    {
     "name": "stderr",
     "output_type": "stream",
     "text": [
      "Epoch [622/5000]: 100%|██████████| 10/10 [00:00<00:00, 240.82it/s, loss=1.32]\n"
     ]
    },
    {
     "name": "stdout",
     "output_type": "stream",
     "text": [
      "Epoch [622/5000]: Train loss: 1.1284, Valid loss: 1.2385\n"
     ]
    },
    {
     "name": "stderr",
     "output_type": "stream",
     "text": [
      "Epoch [623/5000]: 100%|██████████| 10/10 [00:00<00:00, 294.47it/s, loss=1.16]\n"
     ]
    },
    {
     "name": "stdout",
     "output_type": "stream",
     "text": [
      "Epoch [623/5000]: Train loss: 1.1190, Valid loss: 1.1041\n"
     ]
    },
    {
     "name": "stderr",
     "output_type": "stream",
     "text": [
      "Epoch [624/5000]: 100%|██████████| 10/10 [00:00<00:00, 297.75it/s, loss=0.87]\n"
     ]
    },
    {
     "name": "stdout",
     "output_type": "stream",
     "text": [
      "Epoch [624/5000]: Train loss: 1.1033, Valid loss: 1.1518\n"
     ]
    },
    {
     "name": "stderr",
     "output_type": "stream",
     "text": [
      "Epoch [625/5000]: 100%|██████████| 10/10 [00:00<00:00, 244.70it/s, loss=0.954]\n"
     ]
    },
    {
     "name": "stdout",
     "output_type": "stream",
     "text": [
      "Epoch [625/5000]: Train loss: 1.1054, Valid loss: 1.1586\n"
     ]
    },
    {
     "name": "stderr",
     "output_type": "stream",
     "text": [
      "Epoch [626/5000]: 100%|██████████| 10/10 [00:00<00:00, 265.69it/s, loss=1.08]\n"
     ]
    },
    {
     "name": "stdout",
     "output_type": "stream",
     "text": [
      "Epoch [626/5000]: Train loss: 1.1225, Valid loss: 1.1308\n"
     ]
    },
    {
     "name": "stderr",
     "output_type": "stream",
     "text": [
      "Epoch [627/5000]: 100%|██████████| 10/10 [00:00<00:00, 264.01it/s, loss=0.92]\n"
     ]
    },
    {
     "name": "stdout",
     "output_type": "stream",
     "text": [
      "Epoch [627/5000]: Train loss: 1.0998, Valid loss: 1.1352\n"
     ]
    },
    {
     "name": "stderr",
     "output_type": "stream",
     "text": [
      "Epoch [628/5000]: 100%|██████████| 10/10 [00:00<00:00, 285.90it/s, loss=1.15]\n"
     ]
    },
    {
     "name": "stdout",
     "output_type": "stream",
     "text": [
      "Epoch [628/5000]: Train loss: 1.1140, Valid loss: 1.1869\n"
     ]
    },
    {
     "name": "stderr",
     "output_type": "stream",
     "text": [
      "Epoch [629/5000]: 100%|██████████| 10/10 [00:00<00:00, 213.44it/s, loss=0.935]\n"
     ]
    },
    {
     "name": "stdout",
     "output_type": "stream",
     "text": [
      "Epoch [629/5000]: Train loss: 1.1029, Valid loss: 1.1351\n"
     ]
    },
    {
     "name": "stderr",
     "output_type": "stream",
     "text": [
      "Epoch [630/5000]: 100%|██████████| 10/10 [00:00<00:00, 229.93it/s, loss=1.22]"
     ]
    },
    {
     "name": "stdout",
     "output_type": "stream",
     "text": [
      "Epoch [630/5000]: Train loss: 1.1291, Valid loss: 1.1829\n"
     ]
    },
    {
     "name": "stderr",
     "output_type": "stream",
     "text": [
      "\n",
      "Epoch [631/5000]: 100%|██████████| 10/10 [00:00<00:00, 295.09it/s, loss=1.01]\n"
     ]
    },
    {
     "name": "stdout",
     "output_type": "stream",
     "text": [
      "Epoch [631/5000]: Train loss: 1.1060, Valid loss: 1.1582\n"
     ]
    },
    {
     "name": "stderr",
     "output_type": "stream",
     "text": [
      "Epoch [632/5000]: 100%|██████████| 10/10 [00:00<00:00, 264.00it/s, loss=1.38]\n"
     ]
    },
    {
     "name": "stdout",
     "output_type": "stream",
     "text": [
      "Epoch [632/5000]: Train loss: 1.1361, Valid loss: 1.1995\n"
     ]
    },
    {
     "name": "stderr",
     "output_type": "stream",
     "text": [
      "Epoch [633/5000]: 100%|██████████| 10/10 [00:00<00:00, 281.22it/s, loss=1.29]\n"
     ]
    },
    {
     "name": "stdout",
     "output_type": "stream",
     "text": [
      "Epoch [633/5000]: Train loss: 1.1382, Valid loss: 1.1554\n"
     ]
    },
    {
     "name": "stderr",
     "output_type": "stream",
     "text": [
      "Epoch [634/5000]: 100%|██████████| 10/10 [00:00<00:00, 294.91it/s, loss=1.02]\n"
     ]
    },
    {
     "name": "stdout",
     "output_type": "stream",
     "text": [
      "Epoch [634/5000]: Train loss: 1.1107, Valid loss: 1.1978\n"
     ]
    },
    {
     "name": "stderr",
     "output_type": "stream",
     "text": [
      "Epoch [635/5000]: 100%|██████████| 10/10 [00:00<00:00, 265.79it/s, loss=1.25]\n"
     ]
    },
    {
     "name": "stdout",
     "output_type": "stream",
     "text": [
      "Epoch [635/5000]: Train loss: 1.1464, Valid loss: 1.1755\n"
     ]
    },
    {
     "name": "stderr",
     "output_type": "stream",
     "text": [
      "Epoch [636/5000]: 100%|██████████| 10/10 [00:00<00:00, 263.98it/s, loss=0.986]\n"
     ]
    },
    {
     "name": "stdout",
     "output_type": "stream",
     "text": [
      "Epoch [636/5000]: Train loss: 1.1227, Valid loss: 1.1598\n"
     ]
    },
    {
     "name": "stderr",
     "output_type": "stream",
     "text": [
      "Epoch [637/5000]: 100%|██████████| 10/10 [00:00<00:00, 257.23it/s, loss=1.21]\n"
     ]
    },
    {
     "name": "stdout",
     "output_type": "stream",
     "text": [
      "Epoch [637/5000]: Train loss: 1.1065, Valid loss: 1.2282\n"
     ]
    },
    {
     "name": "stderr",
     "output_type": "stream",
     "text": [
      "Epoch [638/5000]: 100%|██████████| 10/10 [00:00<00:00, 79.71it/s, loss=0.972]\n"
     ]
    },
    {
     "name": "stdout",
     "output_type": "stream",
     "text": [
      "Epoch [638/5000]: Train loss: 1.0956, Valid loss: 1.1599\n"
     ]
    },
    {
     "name": "stderr",
     "output_type": "stream",
     "text": [
      "Epoch [639/5000]: 100%|██████████| 10/10 [00:00<00:00, 244.71it/s, loss=0.656]\n"
     ]
    },
    {
     "name": "stdout",
     "output_type": "stream",
     "text": [
      "Epoch [639/5000]: Train loss: 1.0724, Valid loss: 1.0598\n",
      "Saving model with loss 1.060...\n"
     ]
    },
    {
     "name": "stderr",
     "output_type": "stream",
     "text": [
      "Epoch [640/5000]: 100%|██████████| 10/10 [00:00<00:00, 234.59it/s, loss=1.26]\n"
     ]
    },
    {
     "name": "stdout",
     "output_type": "stream",
     "text": [
      "Epoch [640/5000]: Train loss: 1.1136, Valid loss: 1.1200\n"
     ]
    },
    {
     "name": "stderr",
     "output_type": "stream",
     "text": [
      "Epoch [641/5000]: 100%|██████████| 10/10 [00:00<00:00, 233.36it/s, loss=1.11]\n"
     ]
    },
    {
     "name": "stdout",
     "output_type": "stream",
     "text": [
      "Epoch [641/5000]: Train loss: 1.1051, Valid loss: 1.1366\n"
     ]
    },
    {
     "name": "stderr",
     "output_type": "stream",
     "text": [
      "Epoch [642/5000]: 100%|██████████| 10/10 [00:00<00:00, 246.12it/s, loss=1.24]\n"
     ]
    },
    {
     "name": "stdout",
     "output_type": "stream",
     "text": [
      "Epoch [642/5000]: Train loss: 1.1070, Valid loss: 1.1362\n"
     ]
    },
    {
     "name": "stderr",
     "output_type": "stream",
     "text": [
      "Epoch [643/5000]: 100%|██████████| 10/10 [00:00<00:00, 295.11it/s, loss=1.04]\n"
     ]
    },
    {
     "name": "stdout",
     "output_type": "stream",
     "text": [
      "Epoch [643/5000]: Train loss: 1.0921, Valid loss: 1.1070\n"
     ]
    },
    {
     "name": "stderr",
     "output_type": "stream",
     "text": [
      "Epoch [644/5000]: 100%|██████████| 10/10 [00:00<00:00, 277.95it/s, loss=0.948]\n"
     ]
    },
    {
     "name": "stdout",
     "output_type": "stream",
     "text": [
      "Epoch [644/5000]: Train loss: 1.0891, Valid loss: 1.1422\n"
     ]
    },
    {
     "name": "stderr",
     "output_type": "stream",
     "text": [
      "Epoch [645/5000]: 100%|██████████| 10/10 [00:00<00:00, 263.98it/s, loss=0.937]\n"
     ]
    },
    {
     "name": "stdout",
     "output_type": "stream",
     "text": [
      "Epoch [645/5000]: Train loss: 1.0927, Valid loss: 1.1714\n"
     ]
    },
    {
     "name": "stderr",
     "output_type": "stream",
     "text": [
      "Epoch [646/5000]: 100%|██████████| 10/10 [00:00<00:00, 256.85it/s, loss=1.54]\n"
     ]
    },
    {
     "name": "stdout",
     "output_type": "stream",
     "text": [
      "Epoch [646/5000]: Train loss: 1.1252, Valid loss: 1.1633\n"
     ]
    },
    {
     "name": "stderr",
     "output_type": "stream",
     "text": [
      "Epoch [647/5000]: 100%|██████████| 10/10 [00:00<00:00, 278.79it/s, loss=1.01]\n"
     ]
    },
    {
     "name": "stdout",
     "output_type": "stream",
     "text": [
      "Epoch [647/5000]: Train loss: 1.0906, Valid loss: 1.0819\n"
     ]
    },
    {
     "name": "stderr",
     "output_type": "stream",
     "text": [
      "Epoch [648/5000]: 100%|██████████| 10/10 [00:00<00:00, 222.40it/s, loss=1.37]\n"
     ]
    },
    {
     "name": "stdout",
     "output_type": "stream",
     "text": [
      "Epoch [648/5000]: Train loss: 1.1118, Valid loss: 1.1224\n"
     ]
    },
    {
     "name": "stderr",
     "output_type": "stream",
     "text": [
      "Epoch [649/5000]: 100%|██████████| 10/10 [00:00<00:00, 224.41it/s, loss=1.5]\n"
     ]
    },
    {
     "name": "stdout",
     "output_type": "stream",
     "text": [
      "Epoch [649/5000]: Train loss: 1.1188, Valid loss: 1.1484\n"
     ]
    },
    {
     "name": "stderr",
     "output_type": "stream",
     "text": [
      "Epoch [650/5000]: 100%|██████████| 10/10 [00:00<00:00, 256.58it/s, loss=0.938]\n"
     ]
    },
    {
     "name": "stdout",
     "output_type": "stream",
     "text": [
      "Epoch [650/5000]: Train loss: 1.1043, Valid loss: 1.0841\n"
     ]
    },
    {
     "name": "stderr",
     "output_type": "stream",
     "text": [
      "Epoch [651/5000]: 100%|██████████| 10/10 [00:00<00:00, 252.71it/s, loss=0.951]\n"
     ]
    },
    {
     "name": "stdout",
     "output_type": "stream",
     "text": [
      "Epoch [651/5000]: Train loss: 1.0910, Valid loss: 1.0773\n"
     ]
    },
    {
     "name": "stderr",
     "output_type": "stream",
     "text": [
      "Epoch [652/5000]: 100%|██████████| 10/10 [00:00<00:00, 257.27it/s, loss=0.996]\n"
     ]
    },
    {
     "name": "stdout",
     "output_type": "stream",
     "text": [
      "Epoch [652/5000]: Train loss: 1.1006, Valid loss: 1.1576\n"
     ]
    },
    {
     "name": "stderr",
     "output_type": "stream",
     "text": [
      "Epoch [653/5000]: 100%|██████████| 10/10 [00:00<00:00, 280.41it/s, loss=1.11]\n"
     ]
    },
    {
     "name": "stdout",
     "output_type": "stream",
     "text": [
      "Epoch [653/5000]: Train loss: 1.0986, Valid loss: 1.0963\n"
     ]
    },
    {
     "name": "stderr",
     "output_type": "stream",
     "text": [
      "Epoch [654/5000]: 100%|██████████| 10/10 [00:00<00:00, 286.81it/s, loss=1.2]\n"
     ]
    },
    {
     "name": "stdout",
     "output_type": "stream",
     "text": [
      "Epoch [654/5000]: Train loss: 1.0997, Valid loss: 1.0756\n"
     ]
    },
    {
     "name": "stderr",
     "output_type": "stream",
     "text": [
      "Epoch [655/5000]: 100%|██████████| 10/10 [00:00<00:00, 265.60it/s, loss=0.804]\n"
     ]
    },
    {
     "name": "stdout",
     "output_type": "stream",
     "text": [
      "Epoch [655/5000]: Train loss: 1.0789, Valid loss: 1.1465\n"
     ]
    },
    {
     "name": "stderr",
     "output_type": "stream",
     "text": [
      "Epoch [656/5000]: 100%|██████████| 10/10 [00:00<00:00, 294.99it/s, loss=1.41]\n"
     ]
    },
    {
     "name": "stdout",
     "output_type": "stream",
     "text": [
      "Epoch [656/5000]: Train loss: 1.1148, Valid loss: 1.1289\n"
     ]
    },
    {
     "name": "stderr",
     "output_type": "stream",
     "text": [
      "Epoch [657/5000]: 100%|██████████| 10/10 [00:00<00:00, 263.38it/s, loss=0.937]\n"
     ]
    },
    {
     "name": "stdout",
     "output_type": "stream",
     "text": [
      "Epoch [657/5000]: Train loss: 1.0790, Valid loss: 1.0317\n",
      "Saving model with loss 1.032...\n"
     ]
    },
    {
     "name": "stderr",
     "output_type": "stream",
     "text": [
      "Epoch [658/5000]: 100%|██████████| 10/10 [00:00<00:00, 252.81it/s, loss=1.17]\n"
     ]
    },
    {
     "name": "stdout",
     "output_type": "stream",
     "text": [
      "Epoch [658/5000]: Train loss: 1.0906, Valid loss: 1.1831\n"
     ]
    },
    {
     "name": "stderr",
     "output_type": "stream",
     "text": [
      "Epoch [659/5000]: 100%|██████████| 10/10 [00:00<00:00, 271.20it/s, loss=0.949]\n"
     ]
    },
    {
     "name": "stdout",
     "output_type": "stream",
     "text": [
      "Epoch [659/5000]: Train loss: 1.0751, Valid loss: 1.0964\n"
     ]
    },
    {
     "name": "stderr",
     "output_type": "stream",
     "text": [
      "Epoch [660/5000]: 100%|██████████| 10/10 [00:00<00:00, 273.45it/s, loss=1.42]\n"
     ]
    },
    {
     "name": "stdout",
     "output_type": "stream",
     "text": [
      "Epoch [660/5000]: Train loss: 1.1041, Valid loss: 1.0970\n"
     ]
    },
    {
     "name": "stderr",
     "output_type": "stream",
     "text": [
      "Epoch [661/5000]: 100%|██████████| 10/10 [00:00<00:00, 295.12it/s, loss=1.16]"
     ]
    },
    {
     "name": "stdout",
     "output_type": "stream",
     "text": [
      "Epoch [661/5000]: Train loss: 1.0986, Valid loss: 1.1274\n"
     ]
    },
    {
     "name": "stderr",
     "output_type": "stream",
     "text": [
      "\n",
      "Epoch [662/5000]: 100%|██████████| 10/10 [00:00<00:00, 246.34it/s, loss=1.01]"
     ]
    },
    {
     "name": "stdout",
     "output_type": "stream",
     "text": [
      "Epoch [662/5000]: Train loss: 1.0871, Valid loss: 1.1146\n"
     ]
    },
    {
     "name": "stderr",
     "output_type": "stream",
     "text": [
      "\n",
      "Epoch [663/5000]: 100%|██████████| 10/10 [00:00<00:00, 265.93it/s, loss=0.801]\n"
     ]
    },
    {
     "name": "stdout",
     "output_type": "stream",
     "text": [
      "Epoch [663/5000]: Train loss: 1.0650, Valid loss: 1.0633\n"
     ]
    },
    {
     "name": "stderr",
     "output_type": "stream",
     "text": [
      "Epoch [664/5000]: 100%|██████████| 10/10 [00:00<00:00, 285.97it/s, loss=1.19]\n"
     ]
    },
    {
     "name": "stdout",
     "output_type": "stream",
     "text": [
      "Epoch [664/5000]: Train loss: 1.0915, Valid loss: 1.1780\n"
     ]
    },
    {
     "name": "stderr",
     "output_type": "stream",
     "text": [
      "Epoch [665/5000]: 100%|██████████| 10/10 [00:00<00:00, 239.00it/s, loss=0.866]\n"
     ]
    },
    {
     "name": "stdout",
     "output_type": "stream",
     "text": [
      "Epoch [665/5000]: Train loss: 1.0706, Valid loss: 1.0816\n"
     ]
    },
    {
     "name": "stderr",
     "output_type": "stream",
     "text": [
      "Epoch [666/5000]: 100%|██████████| 10/10 [00:00<00:00, 277.98it/s, loss=1.19]\n"
     ]
    },
    {
     "name": "stdout",
     "output_type": "stream",
     "text": [
      "Epoch [666/5000]: Train loss: 1.1002, Valid loss: 1.1086\n"
     ]
    },
    {
     "name": "stderr",
     "output_type": "stream",
     "text": [
      "Epoch [667/5000]: 100%|██████████| 10/10 [00:00<00:00, 273.49it/s, loss=1.01]\n"
     ]
    },
    {
     "name": "stdout",
     "output_type": "stream",
     "text": [
      "Epoch [667/5000]: Train loss: 1.0859, Valid loss: 1.0889\n"
     ]
    },
    {
     "name": "stderr",
     "output_type": "stream",
     "text": [
      "Epoch [668/5000]: 100%|██████████| 10/10 [00:00<00:00, 295.13it/s, loss=0.763]\n"
     ]
    },
    {
     "name": "stdout",
     "output_type": "stream",
     "text": [
      "Epoch [668/5000]: Train loss: 1.0681, Valid loss: 1.0990\n"
     ]
    },
    {
     "name": "stderr",
     "output_type": "stream",
     "text": [
      "Epoch [669/5000]: 100%|██████████| 10/10 [00:00<00:00, 297.01it/s, loss=1]\n"
     ]
    },
    {
     "name": "stdout",
     "output_type": "stream",
     "text": [
      "Epoch [669/5000]: Train loss: 1.0703, Valid loss: 1.1557\n"
     ]
    },
    {
     "name": "stderr",
     "output_type": "stream",
     "text": [
      "Epoch [670/5000]: 100%|██████████| 10/10 [00:00<00:00, 278.62it/s, loss=1.36]\n"
     ]
    },
    {
     "name": "stdout",
     "output_type": "stream",
     "text": [
      "Epoch [670/5000]: Train loss: 1.0929, Valid loss: 1.1170\n"
     ]
    },
    {
     "name": "stderr",
     "output_type": "stream",
     "text": [
      "Epoch [671/5000]: 100%|██████████| 10/10 [00:00<00:00, 277.81it/s, loss=1.11]\n"
     ]
    },
    {
     "name": "stdout",
     "output_type": "stream",
     "text": [
      "Epoch [671/5000]: Train loss: 1.0832, Valid loss: 1.0455\n"
     ]
    },
    {
     "name": "stderr",
     "output_type": "stream",
     "text": [
      "Epoch [672/5000]: 100%|██████████| 10/10 [00:00<00:00, 281.23it/s, loss=1.26]\n"
     ]
    },
    {
     "name": "stdout",
     "output_type": "stream",
     "text": [
      "Epoch [672/5000]: Train loss: 1.0909, Valid loss: 1.1049\n"
     ]
    },
    {
     "name": "stderr",
     "output_type": "stream",
     "text": [
      "Epoch [673/5000]: 100%|██████████| 10/10 [00:00<00:00, 278.69it/s, loss=0.868]\n"
     ]
    },
    {
     "name": "stdout",
     "output_type": "stream",
     "text": [
      "Epoch [673/5000]: Train loss: 1.0625, Valid loss: 1.0254\n",
      "Saving model with loss 1.025...\n"
     ]
    },
    {
     "name": "stderr",
     "output_type": "stream",
     "text": [
      "Epoch [674/5000]: 100%|██████████| 10/10 [00:00<00:00, 246.63it/s, loss=1.13]\n"
     ]
    },
    {
     "name": "stdout",
     "output_type": "stream",
     "text": [
      "Epoch [674/5000]: Train loss: 1.1064, Valid loss: 1.1193\n"
     ]
    },
    {
     "name": "stderr",
     "output_type": "stream",
     "text": [
      "Epoch [675/5000]: 100%|██████████| 10/10 [00:00<00:00, 257.20it/s, loss=1.13]\n"
     ]
    },
    {
     "name": "stdout",
     "output_type": "stream",
     "text": [
      "Epoch [675/5000]: Train loss: 1.1141, Valid loss: 1.0899\n"
     ]
    },
    {
     "name": "stderr",
     "output_type": "stream",
     "text": [
      "Epoch [676/5000]: 100%|██████████| 10/10 [00:00<00:00, 180.29it/s, loss=1.2]\n"
     ]
    },
    {
     "name": "stdout",
     "output_type": "stream",
     "text": [
      "Epoch [676/5000]: Train loss: 1.1083, Valid loss: 1.0830\n"
     ]
    },
    {
     "name": "stderr",
     "output_type": "stream",
     "text": [
      "Epoch [677/5000]: 100%|██████████| 10/10 [00:00<00:00, 232.10it/s, loss=1.05]\n"
     ]
    },
    {
     "name": "stdout",
     "output_type": "stream",
     "text": [
      "Epoch [677/5000]: Train loss: 1.0760, Valid loss: 1.0986\n"
     ]
    },
    {
     "name": "stderr",
     "output_type": "stream",
     "text": [
      "Epoch [678/5000]: 100%|██████████| 10/10 [00:00<00:00, 259.40it/s, loss=1.1]\n"
     ]
    },
    {
     "name": "stdout",
     "output_type": "stream",
     "text": [
      "Epoch [678/5000]: Train loss: 1.0727, Valid loss: 1.0908\n"
     ]
    },
    {
     "name": "stderr",
     "output_type": "stream",
     "text": [
      "Epoch [679/5000]: 100%|██████████| 10/10 [00:00<00:00, 303.67it/s, loss=0.88]\n"
     ]
    },
    {
     "name": "stdout",
     "output_type": "stream",
     "text": [
      "Epoch [679/5000]: Train loss: 1.0620, Valid loss: 1.0442\n"
     ]
    },
    {
     "name": "stderr",
     "output_type": "stream",
     "text": [
      "Epoch [680/5000]: 100%|██████████| 10/10 [00:00<00:00, 280.15it/s, loss=0.979]\n"
     ]
    },
    {
     "name": "stdout",
     "output_type": "stream",
     "text": [
      "Epoch [680/5000]: Train loss: 1.0683, Valid loss: 1.0529\n"
     ]
    },
    {
     "name": "stderr",
     "output_type": "stream",
     "text": [
      "Epoch [681/5000]: 100%|██████████| 10/10 [00:00<00:00, 257.22it/s, loss=1.03]\n"
     ]
    },
    {
     "name": "stdout",
     "output_type": "stream",
     "text": [
      "Epoch [681/5000]: Train loss: 1.0675, Valid loss: 1.0498\n"
     ]
    },
    {
     "name": "stderr",
     "output_type": "stream",
     "text": [
      "Epoch [682/5000]: 100%|██████████| 10/10 [00:00<00:00, 252.74it/s, loss=1.04]\n"
     ]
    },
    {
     "name": "stdout",
     "output_type": "stream",
     "text": [
      "Epoch [682/5000]: Train loss: 1.0645, Valid loss: 1.1328\n"
     ]
    },
    {
     "name": "stderr",
     "output_type": "stream",
     "text": [
      "Epoch [683/5000]: 100%|██████████| 10/10 [00:00<00:00, 295.12it/s, loss=0.888]\n"
     ]
    },
    {
     "name": "stdout",
     "output_type": "stream",
     "text": [
      "Epoch [683/5000]: Train loss: 1.0603, Valid loss: 1.0456\n"
     ]
    },
    {
     "name": "stderr",
     "output_type": "stream",
     "text": [
      "Epoch [684/5000]: 100%|██████████| 10/10 [00:00<00:00, 257.28it/s, loss=1.19]\n"
     ]
    },
    {
     "name": "stdout",
     "output_type": "stream",
     "text": [
      "Epoch [684/5000]: Train loss: 1.0730, Valid loss: 1.1271\n"
     ]
    },
    {
     "name": "stderr",
     "output_type": "stream",
     "text": [
      "Epoch [685/5000]: 100%|██████████| 10/10 [00:00<00:00, 235.03it/s, loss=0.961]\n"
     ]
    },
    {
     "name": "stdout",
     "output_type": "stream",
     "text": [
      "Epoch [685/5000]: Train loss: 1.0585, Valid loss: 1.1193\n"
     ]
    },
    {
     "name": "stderr",
     "output_type": "stream",
     "text": [
      "Epoch [686/5000]: 100%|██████████| 10/10 [00:00<00:00, 271.18it/s, loss=1.54]\n"
     ]
    },
    {
     "name": "stdout",
     "output_type": "stream",
     "text": [
      "Epoch [686/5000]: Train loss: 1.0915, Valid loss: 1.0390\n"
     ]
    },
    {
     "name": "stderr",
     "output_type": "stream",
     "text": [
      "Epoch [687/5000]: 100%|██████████| 10/10 [00:00<00:00, 258.75it/s, loss=1.24]\n"
     ]
    },
    {
     "name": "stdout",
     "output_type": "stream",
     "text": [
      "Epoch [687/5000]: Train loss: 1.0884, Valid loss: 1.0824\n"
     ]
    },
    {
     "name": "stderr",
     "output_type": "stream",
     "text": [
      "Epoch [688/5000]: 100%|██████████| 10/10 [00:00<00:00, 286.71it/s, loss=1.06]\n"
     ]
    },
    {
     "name": "stdout",
     "output_type": "stream",
     "text": [
      "Epoch [688/5000]: Train loss: 1.0703, Valid loss: 1.0859\n"
     ]
    },
    {
     "name": "stderr",
     "output_type": "stream",
     "text": [
      "Epoch [689/5000]: 100%|██████████| 10/10 [00:00<00:00, 246.02it/s, loss=0.804]\n"
     ]
    },
    {
     "name": "stdout",
     "output_type": "stream",
     "text": [
      "Epoch [689/5000]: Train loss: 1.0466, Valid loss: 1.0758\n"
     ]
    },
    {
     "name": "stderr",
     "output_type": "stream",
     "text": [
      "Epoch [690/5000]: 100%|██████████| 10/10 [00:00<00:00, 250.87it/s, loss=1.17]\n"
     ]
    },
    {
     "name": "stdout",
     "output_type": "stream",
     "text": [
      "Epoch [690/5000]: Train loss: 1.0767, Valid loss: 1.1172\n"
     ]
    },
    {
     "name": "stderr",
     "output_type": "stream",
     "text": [
      "Epoch [691/5000]: 100%|██████████| 10/10 [00:00<00:00, 265.51it/s, loss=1.55]\n"
     ]
    },
    {
     "name": "stdout",
     "output_type": "stream",
     "text": [
      "Epoch [691/5000]: Train loss: 1.0936, Valid loss: 1.0826\n"
     ]
    },
    {
     "name": "stderr",
     "output_type": "stream",
     "text": [
      "Epoch [692/5000]: 100%|██████████| 10/10 [00:00<00:00, 263.99it/s, loss=1.04]\n"
     ]
    },
    {
     "name": "stdout",
     "output_type": "stream",
     "text": [
      "Epoch [692/5000]: Train loss: 1.0647, Valid loss: 1.0795\n"
     ]
    },
    {
     "name": "stderr",
     "output_type": "stream",
     "text": [
      "Epoch [693/5000]: 100%|██████████| 10/10 [00:00<00:00, 277.64it/s, loss=0.92]\n"
     ]
    },
    {
     "name": "stdout",
     "output_type": "stream",
     "text": [
      "Epoch [693/5000]: Train loss: 1.0556, Valid loss: 1.1282\n"
     ]
    },
    {
     "name": "stderr",
     "output_type": "stream",
     "text": [
      "Epoch [694/5000]: 100%|██████████| 10/10 [00:00<00:00, 244.11it/s, loss=1.05]\n"
     ]
    },
    {
     "name": "stdout",
     "output_type": "stream",
     "text": [
      "Epoch [694/5000]: Train loss: 1.0595, Valid loss: 1.0502\n"
     ]
    },
    {
     "name": "stderr",
     "output_type": "stream",
     "text": [
      "Epoch [695/5000]: 100%|██████████| 10/10 [00:00<00:00, 250.34it/s, loss=0.89]\n"
     ]
    },
    {
     "name": "stdout",
     "output_type": "stream",
     "text": [
      "Epoch [695/5000]: Train loss: 1.0507, Valid loss: 1.1361\n"
     ]
    },
    {
     "name": "stderr",
     "output_type": "stream",
     "text": [
      "Epoch [696/5000]: 100%|██████████| 10/10 [00:00<00:00, 229.68it/s, loss=0.964]\n"
     ]
    },
    {
     "name": "stdout",
     "output_type": "stream",
     "text": [
      "Epoch [696/5000]: Train loss: 1.0571, Valid loss: 1.0738\n"
     ]
    },
    {
     "name": "stderr",
     "output_type": "stream",
     "text": [
      "Epoch [697/5000]: 100%|██████████| 10/10 [00:00<00:00, 264.07it/s, loss=0.798]\n"
     ]
    },
    {
     "name": "stdout",
     "output_type": "stream",
     "text": [
      "Epoch [697/5000]: Train loss: 1.0447, Valid loss: 1.0731\n"
     ]
    },
    {
     "name": "stderr",
     "output_type": "stream",
     "text": [
      "Epoch [698/5000]: 100%|██████████| 10/10 [00:00<00:00, 289.25it/s, loss=0.65]\n"
     ]
    },
    {
     "name": "stdout",
     "output_type": "stream",
     "text": [
      "Epoch [698/5000]: Train loss: 1.0312, Valid loss: 1.0443\n"
     ]
    },
    {
     "name": "stderr",
     "output_type": "stream",
     "text": [
      "Epoch [699/5000]: 100%|██████████| 10/10 [00:00<00:00, 264.05it/s, loss=0.949]\n"
     ]
    },
    {
     "name": "stdout",
     "output_type": "stream",
     "text": [
      "Epoch [699/5000]: Train loss: 1.0499, Valid loss: 1.0873\n"
     ]
    },
    {
     "name": "stderr",
     "output_type": "stream",
     "text": [
      "Epoch [700/5000]: 100%|██████████| 10/10 [00:00<00:00, 292.27it/s, loss=0.79]\n"
     ]
    },
    {
     "name": "stdout",
     "output_type": "stream",
     "text": [
      "Epoch [700/5000]: Train loss: 1.0379, Valid loss: 1.0625\n"
     ]
    },
    {
     "name": "stderr",
     "output_type": "stream",
     "text": [
      "Epoch [701/5000]: 100%|██████████| 10/10 [00:00<00:00, 250.88it/s, loss=1.08]\n"
     ]
    },
    {
     "name": "stdout",
     "output_type": "stream",
     "text": [
      "Epoch [701/5000]: Train loss: 1.0684, Valid loss: 1.0268\n"
     ]
    },
    {
     "name": "stderr",
     "output_type": "stream",
     "text": [
      "Epoch [702/5000]: 100%|██████████| 10/10 [00:00<00:00, 270.48it/s, loss=0.843]\n"
     ]
    },
    {
     "name": "stdout",
     "output_type": "stream",
     "text": [
      "Epoch [702/5000]: Train loss: 1.0478, Valid loss: 1.0755\n"
     ]
    },
    {
     "name": "stderr",
     "output_type": "stream",
     "text": [
      "Epoch [703/5000]: 100%|██████████| 10/10 [00:00<00:00, 286.66it/s, loss=0.839]\n"
     ]
    },
    {
     "name": "stdout",
     "output_type": "stream",
     "text": [
      "Epoch [703/5000]: Train loss: 1.0411, Valid loss: 1.1758\n"
     ]
    },
    {
     "name": "stderr",
     "output_type": "stream",
     "text": [
      "Epoch [704/5000]: 100%|██████████| 10/10 [00:00<00:00, 263.36it/s, loss=1.19]\n"
     ]
    },
    {
     "name": "stdout",
     "output_type": "stream",
     "text": [
      "Epoch [704/5000]: Train loss: 1.0628, Valid loss: 1.0813\n"
     ]
    },
    {
     "name": "stderr",
     "output_type": "stream",
     "text": [
      "Epoch [705/5000]: 100%|██████████| 10/10 [00:00<00:00, 229.71it/s, loss=1.2]\n"
     ]
    },
    {
     "name": "stdout",
     "output_type": "stream",
     "text": [
      "Epoch [705/5000]: Train loss: 1.0595, Valid loss: 1.0690\n"
     ]
    },
    {
     "name": "stderr",
     "output_type": "stream",
     "text": [
      "Epoch [706/5000]: 100%|██████████| 10/10 [00:00<00:00, 257.13it/s, loss=0.87]\n"
     ]
    },
    {
     "name": "stdout",
     "output_type": "stream",
     "text": [
      "Epoch [706/5000]: Train loss: 1.0407, Valid loss: 1.0491\n"
     ]
    },
    {
     "name": "stderr",
     "output_type": "stream",
     "text": [
      "Epoch [707/5000]: 100%|██████████| 10/10 [00:00<00:00, 281.70it/s, loss=1.14]\n"
     ]
    },
    {
     "name": "stdout",
     "output_type": "stream",
     "text": [
      "Epoch [707/5000]: Train loss: 1.0642, Valid loss: 1.0929\n"
     ]
    },
    {
     "name": "stderr",
     "output_type": "stream",
     "text": [
      "Epoch [708/5000]: 100%|██████████| 10/10 [00:00<00:00, 256.74it/s, loss=1.15]\n"
     ]
    },
    {
     "name": "stdout",
     "output_type": "stream",
     "text": [
      "Epoch [708/5000]: Train loss: 1.0581, Valid loss: 1.0133\n",
      "Saving model with loss 1.013...\n"
     ]
    },
    {
     "name": "stderr",
     "output_type": "stream",
     "text": [
      "Epoch [709/5000]: 100%|██████████| 10/10 [00:00<00:00, 265.38it/s, loss=0.907]\n"
     ]
    },
    {
     "name": "stdout",
     "output_type": "stream",
     "text": [
      "Epoch [709/5000]: Train loss: 1.0433, Valid loss: 1.0283\n"
     ]
    },
    {
     "name": "stderr",
     "output_type": "stream",
     "text": [
      "Epoch [710/5000]: 100%|██████████| 10/10 [00:00<00:00, 263.99it/s, loss=0.899]\n"
     ]
    },
    {
     "name": "stdout",
     "output_type": "stream",
     "text": [
      "Epoch [710/5000]: Train loss: 1.0421, Valid loss: 1.1194\n"
     ]
    },
    {
     "name": "stderr",
     "output_type": "stream",
     "text": [
      "Epoch [711/5000]: 100%|██████████| 10/10 [00:00<00:00, 265.65it/s, loss=0.938]\n"
     ]
    },
    {
     "name": "stdout",
     "output_type": "stream",
     "text": [
      "Epoch [711/5000]: Train loss: 1.0389, Valid loss: 1.0375\n"
     ]
    },
    {
     "name": "stderr",
     "output_type": "stream",
     "text": [
      "Epoch [712/5000]: 100%|██████████| 10/10 [00:00<00:00, 250.88it/s, loss=1.28]\n"
     ]
    },
    {
     "name": "stdout",
     "output_type": "stream",
     "text": [
      "Epoch [712/5000]: Train loss: 1.0662, Valid loss: 1.0890\n"
     ]
    },
    {
     "name": "stderr",
     "output_type": "stream",
     "text": [
      "Epoch [713/5000]: 100%|██████████| 10/10 [00:00<00:00, 263.50it/s, loss=1.36]\n"
     ]
    },
    {
     "name": "stdout",
     "output_type": "stream",
     "text": [
      "Epoch [713/5000]: Train loss: 1.0887, Valid loss: 1.0047\n",
      "Saving model with loss 1.005...\n"
     ]
    },
    {
     "name": "stderr",
     "output_type": "stream",
     "text": [
      "Epoch [714/5000]: 100%|██████████| 10/10 [00:00<00:00, 271.20it/s, loss=0.77]\n"
     ]
    },
    {
     "name": "stdout",
     "output_type": "stream",
     "text": [
      "Epoch [714/5000]: Train loss: 1.0404, Valid loss: 1.1269\n"
     ]
    },
    {
     "name": "stderr",
     "output_type": "stream",
     "text": [
      "Epoch [715/5000]: 100%|██████████| 10/10 [00:00<00:00, 257.23it/s, loss=1.01]\n"
     ]
    },
    {
     "name": "stdout",
     "output_type": "stream",
     "text": [
      "Epoch [715/5000]: Train loss: 1.0492, Valid loss: 1.0101\n"
     ]
    },
    {
     "name": "stderr",
     "output_type": "stream",
     "text": [
      "Epoch [716/5000]: 100%|██████████| 10/10 [00:00<00:00, 273.44it/s, loss=0.846]\n"
     ]
    },
    {
     "name": "stdout",
     "output_type": "stream",
     "text": [
      "Epoch [716/5000]: Train loss: 1.0330, Valid loss: 1.0985\n"
     ]
    },
    {
     "name": "stderr",
     "output_type": "stream",
     "text": [
      "Epoch [717/5000]: 100%|██████████| 10/10 [00:00<00:00, 304.05it/s, loss=1.16]\n"
     ]
    },
    {
     "name": "stdout",
     "output_type": "stream",
     "text": [
      "Epoch [717/5000]: Train loss: 1.0557, Valid loss: 1.0734\n"
     ]
    },
    {
     "name": "stderr",
     "output_type": "stream",
     "text": [
      "Epoch [718/5000]: 100%|██████████| 10/10 [00:00<00:00, 288.58it/s, loss=0.934]\n"
     ]
    },
    {
     "name": "stdout",
     "output_type": "stream",
     "text": [
      "Epoch [718/5000]: Train loss: 1.0434, Valid loss: 1.0365\n"
     ]
    },
    {
     "name": "stderr",
     "output_type": "stream",
     "text": [
      "Epoch [719/5000]: 100%|██████████| 10/10 [00:00<00:00, 257.23it/s, loss=1.04]\n"
     ]
    },
    {
     "name": "stdout",
     "output_type": "stream",
     "text": [
      "Epoch [719/5000]: Train loss: 1.0429, Valid loss: 1.0476\n"
     ]
    },
    {
     "name": "stderr",
     "output_type": "stream",
     "text": [
      "Epoch [720/5000]: 100%|██████████| 10/10 [00:00<00:00, 294.50it/s, loss=1.08]\n"
     ]
    },
    {
     "name": "stdout",
     "output_type": "stream",
     "text": [
      "Epoch [720/5000]: Train loss: 1.0439, Valid loss: 1.0299\n"
     ]
    },
    {
     "name": "stderr",
     "output_type": "stream",
     "text": [
      "Epoch [721/5000]: 100%|██████████| 10/10 [00:00<00:00, 259.42it/s, loss=1.04]\n"
     ]
    },
    {
     "name": "stdout",
     "output_type": "stream",
     "text": [
      "Epoch [721/5000]: Train loss: 1.0451, Valid loss: 1.0589\n"
     ]
    },
    {
     "name": "stderr",
     "output_type": "stream",
     "text": [
      "Epoch [722/5000]: 100%|██████████| 10/10 [00:00<00:00, 278.60it/s, loss=1.4]\n"
     ]
    },
    {
     "name": "stdout",
     "output_type": "stream",
     "text": [
      "Epoch [722/5000]: Train loss: 1.0629, Valid loss: 1.0224\n"
     ]
    },
    {
     "name": "stderr",
     "output_type": "stream",
     "text": [
      "Epoch [723/5000]: 100%|██████████| 10/10 [00:00<00:00, 259.04it/s, loss=1.03]\n"
     ]
    },
    {
     "name": "stdout",
     "output_type": "stream",
     "text": [
      "Epoch [723/5000]: Train loss: 1.0431, Valid loss: 1.0795\n"
     ]
    },
    {
     "name": "stderr",
     "output_type": "stream",
     "text": [
      "Epoch [724/5000]: 100%|██████████| 10/10 [00:00<00:00, 73.89it/s, loss=0.968]\n"
     ]
    },
    {
     "name": "stdout",
     "output_type": "stream",
     "text": [
      "Epoch [724/5000]: Train loss: 1.0431, Valid loss: 1.1366\n"
     ]
    },
    {
     "name": "stderr",
     "output_type": "stream",
     "text": [
      "Epoch [725/5000]: 100%|██████████| 10/10 [00:00<00:00, 239.88it/s, loss=0.895]\n"
     ]
    },
    {
     "name": "stdout",
     "output_type": "stream",
     "text": [
      "Epoch [725/5000]: Train loss: 1.0485, Valid loss: 1.0961\n"
     ]
    },
    {
     "name": "stderr",
     "output_type": "stream",
     "text": [
      "Epoch [726/5000]: 100%|██████████| 10/10 [00:00<00:00, 278.72it/s, loss=0.857]\n"
     ]
    },
    {
     "name": "stdout",
     "output_type": "stream",
     "text": [
      "Epoch [726/5000]: Train loss: 1.0318, Valid loss: 1.0312\n"
     ]
    },
    {
     "name": "stderr",
     "output_type": "stream",
     "text": [
      "Epoch [727/5000]: 100%|██████████| 10/10 [00:00<00:00, 277.86it/s, loss=1.16]\n"
     ]
    },
    {
     "name": "stdout",
     "output_type": "stream",
     "text": [
      "Epoch [727/5000]: Train loss: 1.0439, Valid loss: 1.1098\n"
     ]
    },
    {
     "name": "stderr",
     "output_type": "stream",
     "text": [
      "Epoch [728/5000]: 100%|██████████| 10/10 [00:00<00:00, 278.69it/s, loss=0.934]\n"
     ]
    },
    {
     "name": "stdout",
     "output_type": "stream",
     "text": [
      "Epoch [728/5000]: Train loss: 1.0356, Valid loss: 0.9930\n",
      "Saving model with loss 0.993...\n"
     ]
    },
    {
     "name": "stderr",
     "output_type": "stream",
     "text": [
      "Epoch [729/5000]: 100%|██████████| 10/10 [00:00<00:00, 286.74it/s, loss=1.06]\n"
     ]
    },
    {
     "name": "stdout",
     "output_type": "stream",
     "text": [
      "Epoch [729/5000]: Train loss: 1.0381, Valid loss: 0.9893\n",
      "Saving model with loss 0.989...\n"
     ]
    },
    {
     "name": "stderr",
     "output_type": "stream",
     "text": [
      "Epoch [730/5000]: 100%|██████████| 10/10 [00:00<00:00, 281.28it/s, loss=0.936]\n"
     ]
    },
    {
     "name": "stdout",
     "output_type": "stream",
     "text": [
      "Epoch [730/5000]: Train loss: 1.0330, Valid loss: 1.0826\n"
     ]
    },
    {
     "name": "stderr",
     "output_type": "stream",
     "text": [
      "Epoch [731/5000]: 100%|██████████| 10/10 [00:00<00:00, 222.99it/s, loss=0.948]\n"
     ]
    },
    {
     "name": "stdout",
     "output_type": "stream",
     "text": [
      "Epoch [731/5000]: Train loss: 1.0365, Valid loss: 1.0602\n"
     ]
    },
    {
     "name": "stderr",
     "output_type": "stream",
     "text": [
      "Epoch [732/5000]: 100%|██████████| 10/10 [00:00<00:00, 219.97it/s, loss=0.885]\n"
     ]
    },
    {
     "name": "stdout",
     "output_type": "stream",
     "text": [
      "Epoch [732/5000]: Train loss: 1.0288, Valid loss: 1.0177\n"
     ]
    },
    {
     "name": "stderr",
     "output_type": "stream",
     "text": [
      "Epoch [733/5000]: 100%|██████████| 10/10 [00:00<00:00, 222.46it/s, loss=1.25]\n"
     ]
    },
    {
     "name": "stdout",
     "output_type": "stream",
     "text": [
      "Epoch [733/5000]: Train loss: 1.0487, Valid loss: 1.0022\n"
     ]
    },
    {
     "name": "stderr",
     "output_type": "stream",
     "text": [
      "Epoch [734/5000]: 100%|██████████| 10/10 [00:00<00:00, 273.58it/s, loss=1.29]\n"
     ]
    },
    {
     "name": "stdout",
     "output_type": "stream",
     "text": [
      "Epoch [734/5000]: Train loss: 1.0493, Valid loss: 1.1398\n"
     ]
    },
    {
     "name": "stderr",
     "output_type": "stream",
     "text": [
      "Epoch [735/5000]: 100%|██████████| 10/10 [00:00<00:00, 278.77it/s, loss=0.943]\n"
     ]
    },
    {
     "name": "stdout",
     "output_type": "stream",
     "text": [
      "Epoch [735/5000]: Train loss: 1.0280, Valid loss: 1.0681\n"
     ]
    },
    {
     "name": "stderr",
     "output_type": "stream",
     "text": [
      "Epoch [736/5000]: 100%|██████████| 10/10 [00:00<00:00, 224.41it/s, loss=0.984]\n"
     ]
    },
    {
     "name": "stdout",
     "output_type": "stream",
     "text": [
      "Epoch [736/5000]: Train loss: 1.0376, Valid loss: 1.0671\n"
     ]
    },
    {
     "name": "stderr",
     "output_type": "stream",
     "text": [
      "Epoch [737/5000]: 100%|██████████| 10/10 [00:00<00:00, 286.70it/s, loss=1.21]\n"
     ]
    },
    {
     "name": "stdout",
     "output_type": "stream",
     "text": [
      "Epoch [737/5000]: Train loss: 1.0521, Valid loss: 1.0316\n"
     ]
    },
    {
     "name": "stderr",
     "output_type": "stream",
     "text": [
      "Epoch [738/5000]: 100%|██████████| 10/10 [00:00<00:00, 240.16it/s, loss=1.13]\n"
     ]
    },
    {
     "name": "stdout",
     "output_type": "stream",
     "text": [
      "Epoch [738/5000]: Train loss: 1.0466, Valid loss: 1.1154\n"
     ]
    },
    {
     "name": "stderr",
     "output_type": "stream",
     "text": [
      "Epoch [739/5000]: 100%|██████████| 10/10 [00:00<00:00, 286.80it/s, loss=1.17]\n"
     ]
    },
    {
     "name": "stdout",
     "output_type": "stream",
     "text": [
      "Epoch [739/5000]: Train loss: 1.0438, Valid loss: 1.0430\n"
     ]
    },
    {
     "name": "stderr",
     "output_type": "stream",
     "text": [
      "Epoch [740/5000]: 100%|██████████| 10/10 [00:00<00:00, 265.66it/s, loss=1.17]\n"
     ]
    },
    {
     "name": "stdout",
     "output_type": "stream",
     "text": [
      "Epoch [740/5000]: Train loss: 1.0394, Valid loss: 1.0008\n"
     ]
    },
    {
     "name": "stderr",
     "output_type": "stream",
     "text": [
      "Epoch [741/5000]: 100%|██████████| 10/10 [00:00<00:00, 244.40it/s, loss=0.918]\n"
     ]
    },
    {
     "name": "stdout",
     "output_type": "stream",
     "text": [
      "Epoch [741/5000]: Train loss: 1.0229, Valid loss: 1.0140\n"
     ]
    },
    {
     "name": "stderr",
     "output_type": "stream",
     "text": [
      "Epoch [742/5000]: 100%|██████████| 10/10 [00:00<00:00, 253.05it/s, loss=0.867]\n"
     ]
    },
    {
     "name": "stdout",
     "output_type": "stream",
     "text": [
      "Epoch [742/5000]: Train loss: 1.0229, Valid loss: 1.0907\n"
     ]
    },
    {
     "name": "stderr",
     "output_type": "stream",
     "text": [
      "Epoch [743/5000]: 100%|██████████| 10/10 [00:00<00:00, 218.31it/s, loss=1.13]\n"
     ]
    },
    {
     "name": "stdout",
     "output_type": "stream",
     "text": [
      "Epoch [743/5000]: Train loss: 1.0420, Valid loss: 1.0823\n"
     ]
    },
    {
     "name": "stderr",
     "output_type": "stream",
     "text": [
      "Epoch [744/5000]: 100%|██████████| 10/10 [00:00<00:00, 286.63it/s, loss=1.19]\n"
     ]
    },
    {
     "name": "stdout",
     "output_type": "stream",
     "text": [
      "Epoch [744/5000]: Train loss: 1.0513, Valid loss: 1.0228\n"
     ]
    },
    {
     "name": "stderr",
     "output_type": "stream",
     "text": [
      "Epoch [745/5000]: 100%|██████████| 10/10 [00:00<00:00, 204.73it/s, loss=1.29]\n"
     ]
    },
    {
     "name": "stdout",
     "output_type": "stream",
     "text": [
      "Epoch [745/5000]: Train loss: 1.0455, Valid loss: 0.9934\n"
     ]
    },
    {
     "name": "stderr",
     "output_type": "stream",
     "text": [
      "Epoch [746/5000]: 100%|██████████| 10/10 [00:00<00:00, 239.36it/s, loss=1.17]\n"
     ]
    },
    {
     "name": "stdout",
     "output_type": "stream",
     "text": [
      "Epoch [746/5000]: Train loss: 1.0428, Valid loss: 1.0623\n"
     ]
    },
    {
     "name": "stderr",
     "output_type": "stream",
     "text": [
      "Epoch [747/5000]: 100%|██████████| 10/10 [00:00<00:00, 251.13it/s, loss=0.99]\n"
     ]
    },
    {
     "name": "stdout",
     "output_type": "stream",
     "text": [
      "Epoch [747/5000]: Train loss: 1.0428, Valid loss: 1.0112\n"
     ]
    },
    {
     "name": "stderr",
     "output_type": "stream",
     "text": [
      "Epoch [748/5000]: 100%|██████████| 10/10 [00:00<00:00, 257.25it/s, loss=1.17]\n"
     ]
    },
    {
     "name": "stdout",
     "output_type": "stream",
     "text": [
      "Epoch [748/5000]: Train loss: 1.0528, Valid loss: 1.1411\n"
     ]
    },
    {
     "name": "stderr",
     "output_type": "stream",
     "text": [
      "Epoch [749/5000]: 100%|██████████| 10/10 [00:00<00:00, 270.85it/s, loss=1.03]\n"
     ]
    },
    {
     "name": "stdout",
     "output_type": "stream",
     "text": [
      "Epoch [749/5000]: Train loss: 1.0511, Valid loss: 1.0389\n"
     ]
    },
    {
     "name": "stderr",
     "output_type": "stream",
     "text": [
      "Epoch [750/5000]: 100%|██████████| 10/10 [00:00<00:00, 278.32it/s, loss=0.925]\n"
     ]
    },
    {
     "name": "stdout",
     "output_type": "stream",
     "text": [
      "Epoch [750/5000]: Train loss: 1.0280, Valid loss: 1.0387\n"
     ]
    },
    {
     "name": "stderr",
     "output_type": "stream",
     "text": [
      "Epoch [751/5000]: 100%|██████████| 10/10 [00:00<00:00, 289.30it/s, loss=1.2]\n"
     ]
    },
    {
     "name": "stdout",
     "output_type": "stream",
     "text": [
      "Epoch [751/5000]: Train loss: 1.0430, Valid loss: 1.0517\n"
     ]
    },
    {
     "name": "stderr",
     "output_type": "stream",
     "text": [
      "Epoch [752/5000]: 100%|██████████| 10/10 [00:00<00:00, 222.97it/s, loss=1.18]\n"
     ]
    },
    {
     "name": "stdout",
     "output_type": "stream",
     "text": [
      "Epoch [752/5000]: Train loss: 1.0355, Valid loss: 1.0287\n"
     ]
    },
    {
     "name": "stderr",
     "output_type": "stream",
     "text": [
      "Epoch [753/5000]: 100%|██████████| 10/10 [00:00<00:00, 280.81it/s, loss=0.88]\n"
     ]
    },
    {
     "name": "stdout",
     "output_type": "stream",
     "text": [
      "Epoch [753/5000]: Train loss: 1.0216, Valid loss: 1.0744\n"
     ]
    },
    {
     "name": "stderr",
     "output_type": "stream",
     "text": [
      "Epoch [754/5000]: 100%|██████████| 10/10 [00:00<00:00, 228.03it/s, loss=1.26]\n"
     ]
    },
    {
     "name": "stdout",
     "output_type": "stream",
     "text": [
      "Epoch [754/5000]: Train loss: 1.0403, Valid loss: 1.0516\n"
     ]
    },
    {
     "name": "stderr",
     "output_type": "stream",
     "text": [
      "Epoch [755/5000]: 100%|██████████| 10/10 [00:00<00:00, 265.70it/s, loss=1.05]\n"
     ]
    },
    {
     "name": "stdout",
     "output_type": "stream",
     "text": [
      "Epoch [755/5000]: Train loss: 1.0365, Valid loss: 1.0575\n"
     ]
    },
    {
     "name": "stderr",
     "output_type": "stream",
     "text": [
      "Epoch [756/5000]: 100%|██████████| 10/10 [00:00<00:00, 264.11it/s, loss=0.803]\n"
     ]
    },
    {
     "name": "stdout",
     "output_type": "stream",
     "text": [
      "Epoch [756/5000]: Train loss: 1.0179, Valid loss: 1.0496\n"
     ]
    },
    {
     "name": "stderr",
     "output_type": "stream",
     "text": [
      "Epoch [757/5000]: 100%|██████████| 10/10 [00:00<00:00, 214.52it/s, loss=0.891]\n"
     ]
    },
    {
     "name": "stdout",
     "output_type": "stream",
     "text": [
      "Epoch [757/5000]: Train loss: 1.0226, Valid loss: 0.9842\n",
      "Saving model with loss 0.984...\n"
     ]
    },
    {
     "name": "stderr",
     "output_type": "stream",
     "text": [
      "Epoch [758/5000]: 100%|██████████| 10/10 [00:00<00:00, 244.71it/s, loss=0.973]\n"
     ]
    },
    {
     "name": "stdout",
     "output_type": "stream",
     "text": [
      "Epoch [758/5000]: Train loss: 1.0234, Valid loss: 1.0002\n"
     ]
    },
    {
     "name": "stderr",
     "output_type": "stream",
     "text": [
      "Epoch [759/5000]: 100%|██████████| 10/10 [00:00<00:00, 223.92it/s, loss=1.12]\n"
     ]
    },
    {
     "name": "stdout",
     "output_type": "stream",
     "text": [
      "Epoch [759/5000]: Train loss: 1.0359, Valid loss: 1.0529\n"
     ]
    },
    {
     "name": "stderr",
     "output_type": "stream",
     "text": [
      "Epoch [760/5000]: 100%|██████████| 10/10 [00:00<00:00, 278.57it/s, loss=1.02]\n"
     ]
    },
    {
     "name": "stdout",
     "output_type": "stream",
     "text": [
      "Epoch [760/5000]: Train loss: 1.0361, Valid loss: 1.0794\n"
     ]
    },
    {
     "name": "stderr",
     "output_type": "stream",
     "text": [
      "Epoch [761/5000]: 100%|██████████| 10/10 [00:00<00:00, 229.31it/s, loss=0.97]\n"
     ]
    },
    {
     "name": "stdout",
     "output_type": "stream",
     "text": [
      "Epoch [761/5000]: Train loss: 1.0268, Valid loss: 1.0955\n"
     ]
    },
    {
     "name": "stderr",
     "output_type": "stream",
     "text": [
      "Epoch [762/5000]: 100%|██████████| 10/10 [00:00<00:00, 257.35it/s, loss=0.906]\n"
     ]
    },
    {
     "name": "stdout",
     "output_type": "stream",
     "text": [
      "Epoch [762/5000]: Train loss: 1.0492, Valid loss: 1.1537\n"
     ]
    },
    {
     "name": "stderr",
     "output_type": "stream",
     "text": [
      "Epoch [763/5000]: 100%|██████████| 10/10 [00:00<00:00, 229.48it/s, loss=0.974]\n"
     ]
    },
    {
     "name": "stdout",
     "output_type": "stream",
     "text": [
      "Epoch [763/5000]: Train loss: 1.0680, Valid loss: 1.0675\n"
     ]
    },
    {
     "name": "stderr",
     "output_type": "stream",
     "text": [
      "Epoch [764/5000]: 100%|██████████| 10/10 [00:00<00:00, 213.44it/s, loss=0.9]\n"
     ]
    },
    {
     "name": "stdout",
     "output_type": "stream",
     "text": [
      "Epoch [764/5000]: Train loss: 1.0303, Valid loss: 1.0890\n"
     ]
    },
    {
     "name": "stderr",
     "output_type": "stream",
     "text": [
      "Epoch [765/5000]: 100%|██████████| 10/10 [00:00<00:00, 272.26it/s, loss=1.04]\n"
     ]
    },
    {
     "name": "stdout",
     "output_type": "stream",
     "text": [
      "Epoch [765/5000]: Train loss: 1.0403, Valid loss: 1.0300\n"
     ]
    },
    {
     "name": "stderr",
     "output_type": "stream",
     "text": [
      "Epoch [766/5000]: 100%|██████████| 10/10 [00:00<00:00, 264.33it/s, loss=0.963]\n"
     ]
    },
    {
     "name": "stdout",
     "output_type": "stream",
     "text": [
      "Epoch [766/5000]: Train loss: 1.0177, Valid loss: 1.0795\n"
     ]
    },
    {
     "name": "stderr",
     "output_type": "stream",
     "text": [
      "Epoch [767/5000]: 100%|██████████| 10/10 [00:00<00:00, 277.83it/s, loss=1.03]\n"
     ]
    },
    {
     "name": "stdout",
     "output_type": "stream",
     "text": [
      "Epoch [767/5000]: Train loss: 1.0216, Valid loss: 0.9987\n"
     ]
    },
    {
     "name": "stderr",
     "output_type": "stream",
     "text": [
      "Epoch [768/5000]: 100%|██████████| 10/10 [00:00<00:00, 250.97it/s, loss=0.844]"
     ]
    },
    {
     "name": "stdout",
     "output_type": "stream",
     "text": [
      "Epoch [768/5000]: Train loss: 1.0060, Valid loss: 1.0385\n"
     ]
    },
    {
     "name": "stderr",
     "output_type": "stream",
     "text": [
      "\n",
      "Epoch [769/5000]: 100%|██████████| 10/10 [00:00<00:00, 244.08it/s, loss=0.888]\n"
     ]
    },
    {
     "name": "stdout",
     "output_type": "stream",
     "text": [
      "Epoch [769/5000]: Train loss: 1.0100, Valid loss: 1.0432\n"
     ]
    },
    {
     "name": "stderr",
     "output_type": "stream",
     "text": [
      "Epoch [770/5000]: 100%|██████████| 10/10 [00:00<00:00, 244.80it/s, loss=0.969]\n"
     ]
    },
    {
     "name": "stdout",
     "output_type": "stream",
     "text": [
      "Epoch [770/5000]: Train loss: 1.0120, Valid loss: 1.0187\n"
     ]
    },
    {
     "name": "stderr",
     "output_type": "stream",
     "text": [
      "Epoch [771/5000]: 100%|██████████| 10/10 [00:00<00:00, 256.59it/s, loss=1.08]\n"
     ]
    },
    {
     "name": "stdout",
     "output_type": "stream",
     "text": [
      "Epoch [771/5000]: Train loss: 1.0231, Valid loss: 1.0682\n"
     ]
    },
    {
     "name": "stderr",
     "output_type": "stream",
     "text": [
      "Epoch [772/5000]: 100%|██████████| 10/10 [00:00<00:00, 273.49it/s, loss=1.15]\n"
     ]
    },
    {
     "name": "stdout",
     "output_type": "stream",
     "text": [
      "Epoch [772/5000]: Train loss: 1.0211, Valid loss: 1.0504\n"
     ]
    },
    {
     "name": "stderr",
     "output_type": "stream",
     "text": [
      "Epoch [773/5000]: 100%|██████████| 10/10 [00:00<00:00, 271.10it/s, loss=0.934]\n"
     ]
    },
    {
     "name": "stdout",
     "output_type": "stream",
     "text": [
      "Epoch [773/5000]: Train loss: 1.0210, Valid loss: 1.0256\n"
     ]
    },
    {
     "name": "stderr",
     "output_type": "stream",
     "text": [
      "Epoch [774/5000]: 100%|██████████| 10/10 [00:00<00:00, 288.43it/s, loss=0.96]\n"
     ]
    },
    {
     "name": "stdout",
     "output_type": "stream",
     "text": [
      "Epoch [774/5000]: Train loss: 1.0234, Valid loss: 1.1563\n"
     ]
    },
    {
     "name": "stderr",
     "output_type": "stream",
     "text": [
      "Epoch [775/5000]: 100%|██████████| 10/10 [00:00<00:00, 257.58it/s, loss=0.771]\n"
     ]
    },
    {
     "name": "stdout",
     "output_type": "stream",
     "text": [
      "Epoch [775/5000]: Train loss: 1.0218, Valid loss: 1.0386\n"
     ]
    },
    {
     "name": "stderr",
     "output_type": "stream",
     "text": [
      "Epoch [776/5000]: 100%|██████████| 10/10 [00:00<00:00, 289.22it/s, loss=1.02]\n"
     ]
    },
    {
     "name": "stdout",
     "output_type": "stream",
     "text": [
      "Epoch [776/5000]: Train loss: 1.0123, Valid loss: 1.0176\n"
     ]
    },
    {
     "name": "stderr",
     "output_type": "stream",
     "text": [
      "Epoch [777/5000]: 100%|██████████| 10/10 [00:00<00:00, 235.71it/s, loss=0.738]\n"
     ]
    },
    {
     "name": "stdout",
     "output_type": "stream",
     "text": [
      "Epoch [777/5000]: Train loss: 1.0107, Valid loss: 1.0394\n"
     ]
    },
    {
     "name": "stderr",
     "output_type": "stream",
     "text": [
      "Epoch [778/5000]: 100%|██████████| 10/10 [00:00<00:00, 250.23it/s, loss=0.926]\n"
     ]
    },
    {
     "name": "stdout",
     "output_type": "stream",
     "text": [
      "Epoch [778/5000]: Train loss: 1.0339, Valid loss: 1.0087\n"
     ]
    },
    {
     "name": "stderr",
     "output_type": "stream",
     "text": [
      "Epoch [779/5000]: 100%|██████████| 10/10 [00:00<00:00, 285.90it/s, loss=0.952]\n"
     ]
    },
    {
     "name": "stdout",
     "output_type": "stream",
     "text": [
      "Epoch [779/5000]: Train loss: 1.0167, Valid loss: 1.0379\n"
     ]
    },
    {
     "name": "stderr",
     "output_type": "stream",
     "text": [
      "Epoch [780/5000]: 100%|██████████| 10/10 [00:00<00:00, 264.09it/s, loss=1.33]\n"
     ]
    },
    {
     "name": "stdout",
     "output_type": "stream",
     "text": [
      "Epoch [780/5000]: Train loss: 1.0298, Valid loss: 1.0142\n"
     ]
    },
    {
     "name": "stderr",
     "output_type": "stream",
     "text": [
      "Epoch [781/5000]: 100%|██████████| 10/10 [00:00<00:00, 298.02it/s, loss=1.27]\n"
     ]
    },
    {
     "name": "stdout",
     "output_type": "stream",
     "text": [
      "Epoch [781/5000]: Train loss: 1.0263, Valid loss: 1.0482\n"
     ]
    },
    {
     "name": "stderr",
     "output_type": "stream",
     "text": [
      "Epoch [782/5000]: 100%|██████████| 10/10 [00:00<00:00, 294.85it/s, loss=0.86]\n"
     ]
    },
    {
     "name": "stdout",
     "output_type": "stream",
     "text": [
      "Epoch [782/5000]: Train loss: 1.0068, Valid loss: 1.0316\n"
     ]
    },
    {
     "name": "stderr",
     "output_type": "stream",
     "text": [
      "Epoch [783/5000]: 100%|██████████| 10/10 [00:00<00:00, 280.31it/s, loss=1.15]\n"
     ]
    },
    {
     "name": "stdout",
     "output_type": "stream",
     "text": [
      "Epoch [783/5000]: Train loss: 1.0193, Valid loss: 1.0101\n"
     ]
    },
    {
     "name": "stderr",
     "output_type": "stream",
     "text": [
      "Epoch [784/5000]: 100%|██████████| 10/10 [00:00<00:00, 295.17it/s, loss=0.929]\n"
     ]
    },
    {
     "name": "stdout",
     "output_type": "stream",
     "text": [
      "Epoch [784/5000]: Train loss: 1.0097, Valid loss: 1.0428\n"
     ]
    },
    {
     "name": "stderr",
     "output_type": "stream",
     "text": [
      "Epoch [785/5000]: 100%|██████████| 10/10 [00:00<00:00, 250.47it/s, loss=1.1]\n"
     ]
    },
    {
     "name": "stdout",
     "output_type": "stream",
     "text": [
      "Epoch [785/5000]: Train loss: 1.0151, Valid loss: 1.0194\n"
     ]
    },
    {
     "name": "stderr",
     "output_type": "stream",
     "text": [
      "Epoch [786/5000]: 100%|██████████| 10/10 [00:00<00:00, 289.63it/s, loss=1.02]\n"
     ]
    },
    {
     "name": "stdout",
     "output_type": "stream",
     "text": [
      "Epoch [786/5000]: Train loss: 1.0099, Valid loss: 1.0212\n"
     ]
    },
    {
     "name": "stderr",
     "output_type": "stream",
     "text": [
      "Epoch [787/5000]: 100%|██████████| 10/10 [00:00<00:00, 257.35it/s, loss=0.952]\n"
     ]
    },
    {
     "name": "stdout",
     "output_type": "stream",
     "text": [
      "Epoch [787/5000]: Train loss: 1.0129, Valid loss: 1.0066\n"
     ]
    },
    {
     "name": "stderr",
     "output_type": "stream",
     "text": [
      "Epoch [788/5000]: 100%|██████████| 10/10 [00:00<00:00, 288.51it/s, loss=0.815]\n"
     ]
    },
    {
     "name": "stdout",
     "output_type": "stream",
     "text": [
      "Epoch [788/5000]: Train loss: 1.0132, Valid loss: 1.0322\n"
     ]
    },
    {
     "name": "stderr",
     "output_type": "stream",
     "text": [
      "Epoch [789/5000]: 100%|██████████| 10/10 [00:00<00:00, 264.09it/s, loss=1.18]"
     ]
    },
    {
     "name": "stdout",
     "output_type": "stream",
     "text": [
      "Epoch [789/5000]: Train loss: 1.0310, Valid loss: 1.0837\n"
     ]
    },
    {
     "name": "stderr",
     "output_type": "stream",
     "text": [
      "\n",
      "Epoch [790/5000]: 100%|██████████| 10/10 [00:00<00:00, 288.81it/s, loss=1.35]\n"
     ]
    },
    {
     "name": "stdout",
     "output_type": "stream",
     "text": [
      "Epoch [790/5000]: Train loss: 1.0384, Valid loss: 1.0342\n"
     ]
    },
    {
     "name": "stderr",
     "output_type": "stream",
     "text": [
      "Epoch [791/5000]: 100%|██████████| 10/10 [00:00<00:00, 295.06it/s, loss=0.801]\n"
     ]
    },
    {
     "name": "stdout",
     "output_type": "stream",
     "text": [
      "Epoch [791/5000]: Train loss: 1.0022, Valid loss: 1.0042\n"
     ]
    },
    {
     "name": "stderr",
     "output_type": "stream",
     "text": [
      "Epoch [792/5000]: 100%|██████████| 10/10 [00:00<00:00, 313.64it/s, loss=1.12]\n"
     ]
    },
    {
     "name": "stdout",
     "output_type": "stream",
     "text": [
      "Epoch [792/5000]: Train loss: 1.0226, Valid loss: 1.0293\n"
     ]
    },
    {
     "name": "stderr",
     "output_type": "stream",
     "text": [
      "Epoch [793/5000]: 100%|██████████| 10/10 [00:00<00:00, 297.77it/s, loss=0.944]\n"
     ]
    },
    {
     "name": "stdout",
     "output_type": "stream",
     "text": [
      "Epoch [793/5000]: Train loss: 1.0071, Valid loss: 1.0629\n"
     ]
    },
    {
     "name": "stderr",
     "output_type": "stream",
     "text": [
      "Epoch [794/5000]: 100%|██████████| 10/10 [00:00<00:00, 323.70it/s, loss=1.59]\n"
     ]
    },
    {
     "name": "stdout",
     "output_type": "stream",
     "text": [
      "Epoch [794/5000]: Train loss: 1.0442, Valid loss: 1.0195\n"
     ]
    },
    {
     "name": "stderr",
     "output_type": "stream",
     "text": [
      "Epoch [795/5000]: 100%|██████████| 10/10 [00:00<00:00, 285.58it/s, loss=0.826]\n"
     ]
    },
    {
     "name": "stdout",
     "output_type": "stream",
     "text": [
      "Epoch [795/5000]: Train loss: 1.0042, Valid loss: 0.9872\n"
     ]
    },
    {
     "name": "stderr",
     "output_type": "stream",
     "text": [
      "Epoch [796/5000]: 100%|██████████| 10/10 [00:00<00:00, 295.07it/s, loss=0.921]\n"
     ]
    },
    {
     "name": "stdout",
     "output_type": "stream",
     "text": [
      "Epoch [796/5000]: Train loss: 1.0065, Valid loss: 1.0092\n"
     ]
    },
    {
     "name": "stderr",
     "output_type": "stream",
     "text": [
      "Epoch [797/5000]: 100%|██████████| 10/10 [00:00<00:00, 313.94it/s, loss=0.978]\n"
     ]
    },
    {
     "name": "stdout",
     "output_type": "stream",
     "text": [
      "Epoch [797/5000]: Train loss: 1.0024, Valid loss: 0.9769\n",
      "Saving model with loss 0.977...\n"
     ]
    },
    {
     "name": "stderr",
     "output_type": "stream",
     "text": [
      "Epoch [798/5000]: 100%|██████████| 10/10 [00:00<00:00, 315.87it/s, loss=0.801]\n"
     ]
    },
    {
     "name": "stdout",
     "output_type": "stream",
     "text": [
      "Epoch [798/5000]: Train loss: 0.9964, Valid loss: 1.0721\n"
     ]
    },
    {
     "name": "stderr",
     "output_type": "stream",
     "text": [
      "Epoch [799/5000]: 100%|██████████| 10/10 [00:00<00:00, 295.44it/s, loss=1.21]\n"
     ]
    },
    {
     "name": "stdout",
     "output_type": "stream",
     "text": [
      "Epoch [799/5000]: Train loss: 1.0291, Valid loss: 1.0320\n"
     ]
    },
    {
     "name": "stderr",
     "output_type": "stream",
     "text": [
      "Epoch [800/5000]: 100%|██████████| 10/10 [00:00<00:00, 322.72it/s, loss=1.18]\n"
     ]
    },
    {
     "name": "stdout",
     "output_type": "stream",
     "text": [
      "Epoch [800/5000]: Train loss: 1.0213, Valid loss: 1.0430\n"
     ]
    },
    {
     "name": "stderr",
     "output_type": "stream",
     "text": [
      "Epoch [801/5000]: 100%|██████████| 10/10 [00:00<00:00, 316.58it/s, loss=0.939]\n"
     ]
    },
    {
     "name": "stdout",
     "output_type": "stream",
     "text": [
      "Epoch [801/5000]: Train loss: 1.0077, Valid loss: 1.0306\n"
     ]
    },
    {
     "name": "stderr",
     "output_type": "stream",
     "text": [
      "Epoch [802/5000]: 100%|██████████| 10/10 [00:00<00:00, 295.11it/s, loss=1.28]\n"
     ]
    },
    {
     "name": "stdout",
     "output_type": "stream",
     "text": [
      "Epoch [802/5000]: Train loss: 1.0300, Valid loss: 1.0236\n"
     ]
    },
    {
     "name": "stderr",
     "output_type": "stream",
     "text": [
      "Epoch [803/5000]: 100%|██████████| 10/10 [00:00<00:00, 306.66it/s, loss=1.09]\n"
     ]
    },
    {
     "name": "stdout",
     "output_type": "stream",
     "text": [
      "Epoch [803/5000]: Train loss: 1.0093, Valid loss: 1.0137\n"
     ]
    },
    {
     "name": "stderr",
     "output_type": "stream",
     "text": [
      "Epoch [804/5000]: 100%|██████████| 10/10 [00:00<00:00, 334.59it/s, loss=1.15]"
     ]
    },
    {
     "name": "stdout",
     "output_type": "stream",
     "text": [
      "Epoch [804/5000]: Train loss: 1.0217, Valid loss: 0.9918\n"
     ]
    },
    {
     "name": "stderr",
     "output_type": "stream",
     "text": [
      "\n",
      "Epoch [805/5000]: 100%|██████████| 10/10 [00:00<00:00, 278.74it/s, loss=0.938]\n"
     ]
    },
    {
     "name": "stdout",
     "output_type": "stream",
     "text": [
      "Epoch [805/5000]: Train loss: 1.0187, Valid loss: 1.0551\n"
     ]
    },
    {
     "name": "stderr",
     "output_type": "stream",
     "text": [
      "Epoch [806/5000]: 100%|██████████| 10/10 [00:00<00:00, 327.16it/s, loss=1.14]\n"
     ]
    },
    {
     "name": "stdout",
     "output_type": "stream",
     "text": [
      "Epoch [806/5000]: Train loss: 1.0473, Valid loss: 0.9722\n",
      "Saving model with loss 0.972...\n"
     ]
    },
    {
     "name": "stderr",
     "output_type": "stream",
     "text": [
      "Epoch [807/5000]: 100%|██████████| 10/10 [00:00<00:00, 313.54it/s, loss=0.908]\n"
     ]
    },
    {
     "name": "stdout",
     "output_type": "stream",
     "text": [
      "Epoch [807/5000]: Train loss: 1.0179, Valid loss: 0.9521\n",
      "Saving model with loss 0.952...\n"
     ]
    },
    {
     "name": "stderr",
     "output_type": "stream",
     "text": [
      "Epoch [808/5000]: 100%|██████████| 10/10 [00:00<00:00, 294.29it/s, loss=1.01]\n"
     ]
    },
    {
     "name": "stdout",
     "output_type": "stream",
     "text": [
      "Epoch [808/5000]: Train loss: 1.0228, Valid loss: 1.0203\n"
     ]
    },
    {
     "name": "stderr",
     "output_type": "stream",
     "text": [
      "Epoch [809/5000]: 100%|██████████| 10/10 [00:00<00:00, 303.97it/s, loss=0.928]\n"
     ]
    },
    {
     "name": "stdout",
     "output_type": "stream",
     "text": [
      "Epoch [809/5000]: Train loss: 1.0158, Valid loss: 1.0932\n"
     ]
    },
    {
     "name": "stderr",
     "output_type": "stream",
     "text": [
      "Epoch [810/5000]: 100%|██████████| 10/10 [00:00<00:00, 79.08it/s, loss=1.02]\n"
     ]
    },
    {
     "name": "stdout",
     "output_type": "stream",
     "text": [
      "Epoch [810/5000]: Train loss: 1.0067, Valid loss: 1.0581\n"
     ]
    },
    {
     "name": "stderr",
     "output_type": "stream",
     "text": [
      "Epoch [811/5000]: 100%|██████████| 10/10 [00:00<00:00, 288.38it/s, loss=0.853]\n"
     ]
    },
    {
     "name": "stdout",
     "output_type": "stream",
     "text": [
      "Epoch [811/5000]: Train loss: 0.9950, Valid loss: 0.9986\n"
     ]
    },
    {
     "name": "stderr",
     "output_type": "stream",
     "text": [
      "Epoch [812/5000]: 100%|██████████| 10/10 [00:00<00:00, 295.21it/s, loss=0.837]\n"
     ]
    },
    {
     "name": "stdout",
     "output_type": "stream",
     "text": [
      "Epoch [812/5000]: Train loss: 0.9855, Valid loss: 1.0046\n"
     ]
    },
    {
     "name": "stderr",
     "output_type": "stream",
     "text": [
      "Epoch [813/5000]: 100%|██████████| 10/10 [00:00<00:00, 324.12it/s, loss=1]\n"
     ]
    },
    {
     "name": "stdout",
     "output_type": "stream",
     "text": [
      "Epoch [813/5000]: Train loss: 1.0044, Valid loss: 0.9761\n"
     ]
    },
    {
     "name": "stderr",
     "output_type": "stream",
     "text": [
      "Epoch [814/5000]: 100%|██████████| 10/10 [00:00<00:00, 281.61it/s, loss=1.25]\n"
     ]
    },
    {
     "name": "stdout",
     "output_type": "stream",
     "text": [
      "Epoch [814/5000]: Train loss: 1.0177, Valid loss: 1.0659\n"
     ]
    },
    {
     "name": "stderr",
     "output_type": "stream",
     "text": [
      "Epoch [815/5000]: 100%|██████████| 10/10 [00:00<00:00, 304.09it/s, loss=1.01]\n"
     ]
    },
    {
     "name": "stdout",
     "output_type": "stream",
     "text": [
      "Epoch [815/5000]: Train loss: 1.0080, Valid loss: 0.9508\n",
      "Saving model with loss 0.951...\n"
     ]
    },
    {
     "name": "stderr",
     "output_type": "stream",
     "text": [
      "Epoch [816/5000]: 100%|██████████| 10/10 [00:00<00:00, 317.21it/s, loss=1.05]\n"
     ]
    },
    {
     "name": "stdout",
     "output_type": "stream",
     "text": [
      "Epoch [816/5000]: Train loss: 1.0140, Valid loss: 0.9797\n"
     ]
    },
    {
     "name": "stderr",
     "output_type": "stream",
     "text": [
      "Epoch [817/5000]: 100%|██████████| 10/10 [00:00<00:00, 294.86it/s, loss=0.98]\n"
     ]
    },
    {
     "name": "stdout",
     "output_type": "stream",
     "text": [
      "Epoch [817/5000]: Train loss: 0.9991, Valid loss: 1.0318\n"
     ]
    },
    {
     "name": "stderr",
     "output_type": "stream",
     "text": [
      "Epoch [818/5000]: 100%|██████████| 10/10 [00:00<00:00, 313.54it/s, loss=1.01]\n"
     ]
    },
    {
     "name": "stdout",
     "output_type": "stream",
     "text": [
      "Epoch [818/5000]: Train loss: 0.9974, Valid loss: 0.9750\n"
     ]
    },
    {
     "name": "stderr",
     "output_type": "stream",
     "text": [
      "Epoch [819/5000]: 100%|██████████| 10/10 [00:00<00:00, 336.88it/s, loss=0.825]\n"
     ]
    },
    {
     "name": "stdout",
     "output_type": "stream",
     "text": [
      "Epoch [819/5000]: Train loss: 0.9907, Valid loss: 0.9705\n"
     ]
    },
    {
     "name": "stderr",
     "output_type": "stream",
     "text": [
      "Epoch [820/5000]: 100%|██████████| 10/10 [00:00<00:00, 278.73it/s, loss=1.14]\n"
     ]
    },
    {
     "name": "stdout",
     "output_type": "stream",
     "text": [
      "Epoch [820/5000]: Train loss: 1.0084, Valid loss: 0.9926\n"
     ]
    },
    {
     "name": "stderr",
     "output_type": "stream",
     "text": [
      "Epoch [821/5000]: 100%|██████████| 10/10 [00:00<00:00, 313.11it/s, loss=0.993]\n"
     ]
    },
    {
     "name": "stdout",
     "output_type": "stream",
     "text": [
      "Epoch [821/5000]: Train loss: 1.0099, Valid loss: 1.0307\n"
     ]
    },
    {
     "name": "stderr",
     "output_type": "stream",
     "text": [
      "Epoch [822/5000]: 100%|██████████| 10/10 [00:00<00:00, 327.08it/s, loss=1.44]\n"
     ]
    },
    {
     "name": "stdout",
     "output_type": "stream",
     "text": [
      "Epoch [822/5000]: Train loss: 1.0213, Valid loss: 1.0865\n"
     ]
    },
    {
     "name": "stderr",
     "output_type": "stream",
     "text": [
      "Epoch [823/5000]: 100%|██████████| 10/10 [00:00<00:00, 323.59it/s, loss=0.731]\n"
     ]
    },
    {
     "name": "stdout",
     "output_type": "stream",
     "text": [
      "Epoch [823/5000]: Train loss: 0.9792, Valid loss: 1.0234\n"
     ]
    },
    {
     "name": "stderr",
     "output_type": "stream",
     "text": [
      "Epoch [824/5000]: 100%|██████████| 10/10 [00:00<00:00, 325.59it/s, loss=0.725]\n"
     ]
    },
    {
     "name": "stdout",
     "output_type": "stream",
     "text": [
      "Epoch [824/5000]: Train loss: 0.9788, Valid loss: 0.9950\n"
     ]
    },
    {
     "name": "stderr",
     "output_type": "stream",
     "text": [
      "Epoch [825/5000]: 100%|██████████| 10/10 [00:00<00:00, 324.06it/s, loss=0.806]\n"
     ]
    },
    {
     "name": "stdout",
     "output_type": "stream",
     "text": [
      "Epoch [825/5000]: Train loss: 0.9869, Valid loss: 1.0416\n"
     ]
    },
    {
     "name": "stderr",
     "output_type": "stream",
     "text": [
      "Epoch [826/5000]: 100%|██████████| 10/10 [00:00<00:00, 345.96it/s, loss=0.863]\n"
     ]
    },
    {
     "name": "stdout",
     "output_type": "stream",
     "text": [
      "Epoch [826/5000]: Train loss: 0.9969, Valid loss: 1.1024\n"
     ]
    },
    {
     "name": "stderr",
     "output_type": "stream",
     "text": [
      "Epoch [827/5000]: 100%|██████████| 10/10 [00:00<00:00, 306.45it/s, loss=0.802]\n"
     ]
    },
    {
     "name": "stdout",
     "output_type": "stream",
     "text": [
      "Epoch [827/5000]: Train loss: 0.9946, Valid loss: 1.1107\n"
     ]
    },
    {
     "name": "stderr",
     "output_type": "stream",
     "text": [
      "Epoch [828/5000]: 100%|██████████| 10/10 [00:00<00:00, 295.08it/s, loss=1.1]\n"
     ]
    },
    {
     "name": "stdout",
     "output_type": "stream",
     "text": [
      "Epoch [828/5000]: Train loss: 1.0154, Valid loss: 1.0389\n"
     ]
    },
    {
     "name": "stderr",
     "output_type": "stream",
     "text": [
      "Epoch [829/5000]: 100%|██████████| 10/10 [00:00<00:00, 322.75it/s, loss=1.27]"
     ]
    },
    {
     "name": "stdout",
     "output_type": "stream",
     "text": [
      "Epoch [829/5000]: Train loss: 1.0142, Valid loss: 1.0049\n"
     ]
    },
    {
     "name": "stderr",
     "output_type": "stream",
     "text": [
      "\n",
      "Epoch [830/5000]: 100%|██████████| 10/10 [00:00<00:00, 337.86it/s, loss=1.08]\n"
     ]
    },
    {
     "name": "stdout",
     "output_type": "stream",
     "text": [
      "Epoch [830/5000]: Train loss: 1.0017, Valid loss: 1.0280\n"
     ]
    },
    {
     "name": "stderr",
     "output_type": "stream",
     "text": [
      "Epoch [831/5000]: 100%|██████████| 10/10 [00:00<00:00, 334.40it/s, loss=1.11]\n"
     ]
    },
    {
     "name": "stdout",
     "output_type": "stream",
     "text": [
      "Epoch [831/5000]: Train loss: 1.0007, Valid loss: 1.0061\n"
     ]
    },
    {
     "name": "stderr",
     "output_type": "stream",
     "text": [
      "Epoch [832/5000]: 100%|██████████| 10/10 [00:00<00:00, 322.79it/s, loss=0.95]\n"
     ]
    },
    {
     "name": "stdout",
     "output_type": "stream",
     "text": [
      "Epoch [832/5000]: Train loss: 0.9900, Valid loss: 0.9903\n"
     ]
    },
    {
     "name": "stderr",
     "output_type": "stream",
     "text": [
      "Epoch [833/5000]: 100%|██████████| 10/10 [00:00<00:00, 345.90it/s, loss=0.865]\n"
     ]
    },
    {
     "name": "stdout",
     "output_type": "stream",
     "text": [
      "Epoch [833/5000]: Train loss: 0.9841, Valid loss: 0.9859\n"
     ]
    },
    {
     "name": "stderr",
     "output_type": "stream",
     "text": [
      "Epoch [834/5000]: 100%|██████████| 10/10 [00:00<00:00, 278.47it/s, loss=0.926]\n"
     ]
    },
    {
     "name": "stdout",
     "output_type": "stream",
     "text": [
      "Epoch [834/5000]: Train loss: 0.9885, Valid loss: 0.9722\n"
     ]
    },
    {
     "name": "stderr",
     "output_type": "stream",
     "text": [
      "Epoch [835/5000]: 100%|██████████| 10/10 [00:00<00:00, 325.91it/s, loss=0.98]\n"
     ]
    },
    {
     "name": "stdout",
     "output_type": "stream",
     "text": [
      "Epoch [835/5000]: Train loss: 0.9896, Valid loss: 0.9815\n"
     ]
    },
    {
     "name": "stderr",
     "output_type": "stream",
     "text": [
      "Epoch [836/5000]: 100%|██████████| 10/10 [00:00<00:00, 334.71it/s, loss=0.987]\n"
     ]
    },
    {
     "name": "stdout",
     "output_type": "stream",
     "text": [
      "Epoch [836/5000]: Train loss: 0.9870, Valid loss: 0.9981\n"
     ]
    },
    {
     "name": "stderr",
     "output_type": "stream",
     "text": [
      "Epoch [837/5000]: 100%|██████████| 10/10 [00:00<00:00, 270.48it/s, loss=1.02]\n"
     ]
    },
    {
     "name": "stdout",
     "output_type": "stream",
     "text": [
      "Epoch [837/5000]: Train loss: 0.9922, Valid loss: 1.0836\n"
     ]
    },
    {
     "name": "stderr",
     "output_type": "stream",
     "text": [
      "Epoch [838/5000]: 100%|██████████| 10/10 [00:00<00:00, 306.72it/s, loss=0.752]\n"
     ]
    },
    {
     "name": "stdout",
     "output_type": "stream",
     "text": [
      "Epoch [838/5000]: Train loss: 0.9815, Valid loss: 1.0325\n"
     ]
    },
    {
     "name": "stderr",
     "output_type": "stream",
     "text": [
      "Epoch [839/5000]: 100%|██████████| 10/10 [00:00<00:00, 313.38it/s, loss=1.02]\n"
     ]
    },
    {
     "name": "stdout",
     "output_type": "stream",
     "text": [
      "Epoch [839/5000]: Train loss: 1.0013, Valid loss: 0.9694\n"
     ]
    },
    {
     "name": "stderr",
     "output_type": "stream",
     "text": [
      "Epoch [840/5000]: 100%|██████████| 10/10 [00:00<00:00, 288.50it/s, loss=0.899]\n"
     ]
    },
    {
     "name": "stdout",
     "output_type": "stream",
     "text": [
      "Epoch [840/5000]: Train loss: 0.9854, Valid loss: 1.0335\n"
     ]
    },
    {
     "name": "stderr",
     "output_type": "stream",
     "text": [
      "Epoch [841/5000]: 100%|██████████| 10/10 [00:00<00:00, 314.32it/s, loss=1.06]\n"
     ]
    },
    {
     "name": "stdout",
     "output_type": "stream",
     "text": [
      "Epoch [841/5000]: Train loss: 0.9946, Valid loss: 0.9912\n"
     ]
    },
    {
     "name": "stderr",
     "output_type": "stream",
     "text": [
      "Epoch [842/5000]: 100%|██████████| 10/10 [00:00<00:00, 323.69it/s, loss=0.791]\n"
     ]
    },
    {
     "name": "stdout",
     "output_type": "stream",
     "text": [
      "Epoch [842/5000]: Train loss: 0.9757, Valid loss: 0.9723\n"
     ]
    },
    {
     "name": "stderr",
     "output_type": "stream",
     "text": [
      "Epoch [843/5000]: 100%|██████████| 10/10 [00:00<00:00, 297.43it/s, loss=0.937]\n"
     ]
    },
    {
     "name": "stdout",
     "output_type": "stream",
     "text": [
      "Epoch [843/5000]: Train loss: 0.9843, Valid loss: 1.0359\n"
     ]
    },
    {
     "name": "stderr",
     "output_type": "stream",
     "text": [
      "Epoch [844/5000]: 100%|██████████| 10/10 [00:00<00:00, 311.07it/s, loss=0.994]\n"
     ]
    },
    {
     "name": "stdout",
     "output_type": "stream",
     "text": [
      "Epoch [844/5000]: Train loss: 0.9922, Valid loss: 0.9854\n"
     ]
    },
    {
     "name": "stderr",
     "output_type": "stream",
     "text": [
      "Epoch [845/5000]: 100%|██████████| 10/10 [00:00<00:00, 302.89it/s, loss=0.883]\n"
     ]
    },
    {
     "name": "stdout",
     "output_type": "stream",
     "text": [
      "Epoch [845/5000]: Train loss: 0.9814, Valid loss: 0.9606\n"
     ]
    },
    {
     "name": "stderr",
     "output_type": "stream",
     "text": [
      "Epoch [846/5000]: 100%|██████████| 10/10 [00:00<00:00, 297.87it/s, loss=1.25]\n"
     ]
    },
    {
     "name": "stdout",
     "output_type": "stream",
     "text": [
      "Epoch [846/5000]: Train loss: 1.0257, Valid loss: 0.9942\n"
     ]
    },
    {
     "name": "stderr",
     "output_type": "stream",
     "text": [
      "Epoch [847/5000]: 100%|██████████| 10/10 [00:00<00:00, 328.59it/s, loss=0.977]\n"
     ]
    },
    {
     "name": "stdout",
     "output_type": "stream",
     "text": [
      "Epoch [847/5000]: Train loss: 1.0095, Valid loss: 1.0173\n"
     ]
    },
    {
     "name": "stderr",
     "output_type": "stream",
     "text": [
      "Epoch [848/5000]: 100%|██████████| 10/10 [00:00<00:00, 327.59it/s, loss=0.978]\n"
     ]
    },
    {
     "name": "stdout",
     "output_type": "stream",
     "text": [
      "Epoch [848/5000]: Train loss: 0.9992, Valid loss: 1.0086\n"
     ]
    },
    {
     "name": "stderr",
     "output_type": "stream",
     "text": [
      "Epoch [849/5000]: 100%|██████████| 10/10 [00:00<00:00, 286.63it/s, loss=1.09]\n"
     ]
    },
    {
     "name": "stdout",
     "output_type": "stream",
     "text": [
      "Epoch [849/5000]: Train loss: 1.0056, Valid loss: 0.9459\n",
      "Saving model with loss 0.946...\n"
     ]
    },
    {
     "name": "stderr",
     "output_type": "stream",
     "text": [
      "Epoch [850/5000]: 100%|██████████| 10/10 [00:00<00:00, 295.12it/s, loss=1.19]\n"
     ]
    },
    {
     "name": "stdout",
     "output_type": "stream",
     "text": [
      "Epoch [850/5000]: Train loss: 1.0142, Valid loss: 1.0585\n"
     ]
    },
    {
     "name": "stderr",
     "output_type": "stream",
     "text": [
      "Epoch [851/5000]: 100%|██████████| 10/10 [00:00<00:00, 316.40it/s, loss=1.23]\n"
     ]
    },
    {
     "name": "stdout",
     "output_type": "stream",
     "text": [
      "Epoch [851/5000]: Train loss: 1.0268, Valid loss: 1.0387\n"
     ]
    },
    {
     "name": "stderr",
     "output_type": "stream",
     "text": [
      "Epoch [852/5000]: 100%|██████████| 10/10 [00:00<00:00, 277.15it/s, loss=1.29]\n"
     ]
    },
    {
     "name": "stdout",
     "output_type": "stream",
     "text": [
      "Epoch [852/5000]: Train loss: 1.0092, Valid loss: 1.0000\n"
     ]
    },
    {
     "name": "stderr",
     "output_type": "stream",
     "text": [
      "Epoch [853/5000]: 100%|██████████| 10/10 [00:00<00:00, 288.69it/s, loss=1.02]\n"
     ]
    },
    {
     "name": "stdout",
     "output_type": "stream",
     "text": [
      "Epoch [853/5000]: Train loss: 0.9947, Valid loss: 1.0518\n"
     ]
    },
    {
     "name": "stderr",
     "output_type": "stream",
     "text": [
      "Epoch [854/5000]: 100%|██████████| 10/10 [00:00<00:00, 270.54it/s, loss=0.785]\n"
     ]
    },
    {
     "name": "stdout",
     "output_type": "stream",
     "text": [
      "Epoch [854/5000]: Train loss: 0.9875, Valid loss: 0.9764\n"
     ]
    },
    {
     "name": "stderr",
     "output_type": "stream",
     "text": [
      "Epoch [855/5000]: 100%|██████████| 10/10 [00:00<00:00, 278.37it/s, loss=1.12]\n"
     ]
    },
    {
     "name": "stdout",
     "output_type": "stream",
     "text": [
      "Epoch [855/5000]: Train loss: 0.9927, Valid loss: 0.9424\n",
      "Saving model with loss 0.942...\n"
     ]
    },
    {
     "name": "stderr",
     "output_type": "stream",
     "text": [
      "Epoch [856/5000]: 100%|██████████| 10/10 [00:00<00:00, 294.27it/s, loss=1.06]\n"
     ]
    },
    {
     "name": "stdout",
     "output_type": "stream",
     "text": [
      "Epoch [856/5000]: Train loss: 0.9971, Valid loss: 1.0279\n"
     ]
    },
    {
     "name": "stderr",
     "output_type": "stream",
     "text": [
      "Epoch [857/5000]: 100%|██████████| 10/10 [00:00<00:00, 252.67it/s, loss=1.33]\n"
     ]
    },
    {
     "name": "stdout",
     "output_type": "stream",
     "text": [
      "Epoch [857/5000]: Train loss: 1.0146, Valid loss: 0.9418\n",
      "Saving model with loss 0.942...\n"
     ]
    },
    {
     "name": "stderr",
     "output_type": "stream",
     "text": [
      "Epoch [858/5000]: 100%|██████████| 10/10 [00:00<00:00, 293.92it/s, loss=1.39]\n"
     ]
    },
    {
     "name": "stdout",
     "output_type": "stream",
     "text": [
      "Epoch [858/5000]: Train loss: 1.0099, Valid loss: 0.9568\n"
     ]
    },
    {
     "name": "stderr",
     "output_type": "stream",
     "text": [
      "Epoch [859/5000]: 100%|██████████| 10/10 [00:00<00:00, 305.01it/s, loss=1.02]\n"
     ]
    },
    {
     "name": "stdout",
     "output_type": "stream",
     "text": [
      "Epoch [859/5000]: Train loss: 0.9872, Valid loss: 1.0450\n"
     ]
    },
    {
     "name": "stderr",
     "output_type": "stream",
     "text": [
      "Epoch [860/5000]: 100%|██████████| 10/10 [00:00<00:00, 313.38it/s, loss=1]\n"
     ]
    },
    {
     "name": "stdout",
     "output_type": "stream",
     "text": [
      "Epoch [860/5000]: Train loss: 0.9993, Valid loss: 0.9309\n",
      "Saving model with loss 0.931...\n"
     ]
    },
    {
     "name": "stderr",
     "output_type": "stream",
     "text": [
      "Epoch [861/5000]: 100%|██████████| 10/10 [00:00<00:00, 308.33it/s, loss=1.06]\n"
     ]
    },
    {
     "name": "stdout",
     "output_type": "stream",
     "text": [
      "Epoch [861/5000]: Train loss: 0.9921, Valid loss: 0.9533\n"
     ]
    },
    {
     "name": "stderr",
     "output_type": "stream",
     "text": [
      "Epoch [862/5000]: 100%|██████████| 10/10 [00:00<00:00, 323.65it/s, loss=1.17]\n"
     ]
    },
    {
     "name": "stdout",
     "output_type": "stream",
     "text": [
      "Epoch [862/5000]: Train loss: 0.9940, Valid loss: 0.9541\n"
     ]
    },
    {
     "name": "stderr",
     "output_type": "stream",
     "text": [
      "Epoch [863/5000]: 100%|██████████| 10/10 [00:00<00:00, 290.48it/s, loss=1.07]\n"
     ]
    },
    {
     "name": "stdout",
     "output_type": "stream",
     "text": [
      "Epoch [863/5000]: Train loss: 0.9873, Valid loss: 0.9758\n"
     ]
    },
    {
     "name": "stderr",
     "output_type": "stream",
     "text": [
      "Epoch [864/5000]: 100%|██████████| 10/10 [00:00<00:00, 334.44it/s, loss=0.863]\n"
     ]
    },
    {
     "name": "stdout",
     "output_type": "stream",
     "text": [
      "Epoch [864/5000]: Train loss: 0.9808, Valid loss: 1.0453\n"
     ]
    },
    {
     "name": "stderr",
     "output_type": "stream",
     "text": [
      "Epoch [865/5000]: 100%|██████████| 10/10 [00:00<00:00, 295.10it/s, loss=0.933]\n"
     ]
    },
    {
     "name": "stdout",
     "output_type": "stream",
     "text": [
      "Epoch [865/5000]: Train loss: 0.9813, Valid loss: 0.9981\n"
     ]
    },
    {
     "name": "stderr",
     "output_type": "stream",
     "text": [
      "Epoch [866/5000]: 100%|██████████| 10/10 [00:00<00:00, 298.90it/s, loss=1.17]\n"
     ]
    },
    {
     "name": "stdout",
     "output_type": "stream",
     "text": [
      "Epoch [866/5000]: Train loss: 0.9909, Valid loss: 0.9995\n"
     ]
    },
    {
     "name": "stderr",
     "output_type": "stream",
     "text": [
      "Epoch [867/5000]: 100%|██████████| 10/10 [00:00<00:00, 322.29it/s, loss=0.863]\n"
     ]
    },
    {
     "name": "stdout",
     "output_type": "stream",
     "text": [
      "Epoch [867/5000]: Train loss: 0.9755, Valid loss: 0.9685\n"
     ]
    },
    {
     "name": "stderr",
     "output_type": "stream",
     "text": [
      "Epoch [868/5000]: 100%|██████████| 10/10 [00:00<00:00, 323.49it/s, loss=0.935]\n"
     ]
    },
    {
     "name": "stdout",
     "output_type": "stream",
     "text": [
      "Epoch [868/5000]: Train loss: 0.9802, Valid loss: 0.9548\n"
     ]
    },
    {
     "name": "stderr",
     "output_type": "stream",
     "text": [
      "Epoch [869/5000]: 100%|██████████| 10/10 [00:00<00:00, 282.34it/s, loss=0.636]\n"
     ]
    },
    {
     "name": "stdout",
     "output_type": "stream",
     "text": [
      "Epoch [869/5000]: Train loss: 0.9586, Valid loss: 0.9804\n"
     ]
    },
    {
     "name": "stderr",
     "output_type": "stream",
     "text": [
      "Epoch [870/5000]: 100%|██████████| 10/10 [00:00<00:00, 334.46it/s, loss=0.83]\n"
     ]
    },
    {
     "name": "stdout",
     "output_type": "stream",
     "text": [
      "Epoch [870/5000]: Train loss: 0.9700, Valid loss: 1.1053\n"
     ]
    },
    {
     "name": "stderr",
     "output_type": "stream",
     "text": [
      "Epoch [871/5000]: 100%|██████████| 10/10 [00:00<00:00, 318.01it/s, loss=0.794]\n"
     ]
    },
    {
     "name": "stdout",
     "output_type": "stream",
     "text": [
      "Epoch [871/5000]: Train loss: 0.9811, Valid loss: 1.0023\n"
     ]
    },
    {
     "name": "stderr",
     "output_type": "stream",
     "text": [
      "Epoch [872/5000]: 100%|██████████| 10/10 [00:00<00:00, 293.01it/s, loss=1.05]\n"
     ]
    },
    {
     "name": "stdout",
     "output_type": "stream",
     "text": [
      "Epoch [872/5000]: Train loss: 0.9872, Valid loss: 1.0016\n"
     ]
    },
    {
     "name": "stderr",
     "output_type": "stream",
     "text": [
      "Epoch [873/5000]: 100%|██████████| 10/10 [00:00<00:00, 334.45it/s, loss=0.918]\n"
     ]
    },
    {
     "name": "stdout",
     "output_type": "stream",
     "text": [
      "Epoch [873/5000]: Train loss: 0.9776, Valid loss: 0.9586\n"
     ]
    },
    {
     "name": "stderr",
     "output_type": "stream",
     "text": [
      "Epoch [874/5000]: 100%|██████████| 10/10 [00:00<00:00, 291.38it/s, loss=1.1]\n"
     ]
    },
    {
     "name": "stdout",
     "output_type": "stream",
     "text": [
      "Epoch [874/5000]: Train loss: 0.9861, Valid loss: 0.9535\n"
     ]
    },
    {
     "name": "stderr",
     "output_type": "stream",
     "text": [
      "Epoch [875/5000]: 100%|██████████| 10/10 [00:00<00:00, 323.66it/s, loss=0.855]\n"
     ]
    },
    {
     "name": "stdout",
     "output_type": "stream",
     "text": [
      "Epoch [875/5000]: Train loss: 0.9687, Valid loss: 1.0718\n"
     ]
    },
    {
     "name": "stderr",
     "output_type": "stream",
     "text": [
      "Epoch [876/5000]: 100%|██████████| 10/10 [00:00<00:00, 313.36it/s, loss=0.914]\n"
     ]
    },
    {
     "name": "stdout",
     "output_type": "stream",
     "text": [
      "Epoch [876/5000]: Train loss: 0.9790, Valid loss: 1.0008\n"
     ]
    },
    {
     "name": "stderr",
     "output_type": "stream",
     "text": [
      "Epoch [877/5000]: 100%|██████████| 10/10 [00:00<00:00, 327.35it/s, loss=1.26]\n"
     ]
    },
    {
     "name": "stdout",
     "output_type": "stream",
     "text": [
      "Epoch [877/5000]: Train loss: 1.0004, Valid loss: 0.9839\n"
     ]
    },
    {
     "name": "stderr",
     "output_type": "stream",
     "text": [
      "Epoch [878/5000]: 100%|██████████| 10/10 [00:00<00:00, 323.99it/s, loss=0.803]\n"
     ]
    },
    {
     "name": "stdout",
     "output_type": "stream",
     "text": [
      "Epoch [878/5000]: Train loss: 0.9676, Valid loss: 0.9515\n"
     ]
    },
    {
     "name": "stderr",
     "output_type": "stream",
     "text": [
      "Epoch [879/5000]: 100%|██████████| 10/10 [00:00<00:00, 285.91it/s, loss=0.904]\n"
     ]
    },
    {
     "name": "stdout",
     "output_type": "stream",
     "text": [
      "Epoch [879/5000]: Train loss: 0.9840, Valid loss: 0.9686\n"
     ]
    },
    {
     "name": "stderr",
     "output_type": "stream",
     "text": [
      "Epoch [880/5000]: 100%|██████████| 10/10 [00:00<00:00, 321.46it/s, loss=0.736]\n"
     ]
    },
    {
     "name": "stdout",
     "output_type": "stream",
     "text": [
      "Epoch [880/5000]: Train loss: 0.9638, Valid loss: 1.0243\n"
     ]
    },
    {
     "name": "stderr",
     "output_type": "stream",
     "text": [
      "Epoch [881/5000]: 100%|██████████| 10/10 [00:00<00:00, 323.59it/s, loss=0.893]\n"
     ]
    },
    {
     "name": "stdout",
     "output_type": "stream",
     "text": [
      "Epoch [881/5000]: Train loss: 0.9812, Valid loss: 0.9990\n"
     ]
    },
    {
     "name": "stderr",
     "output_type": "stream",
     "text": [
      "Epoch [882/5000]: 100%|██████████| 10/10 [00:00<00:00, 301.59it/s, loss=0.834]\n"
     ]
    },
    {
     "name": "stdout",
     "output_type": "stream",
     "text": [
      "Epoch [882/5000]: Train loss: 0.9704, Valid loss: 1.0278\n"
     ]
    },
    {
     "name": "stderr",
     "output_type": "stream",
     "text": [
      "Epoch [883/5000]: 100%|██████████| 10/10 [00:00<00:00, 323.66it/s, loss=0.867]\n"
     ]
    },
    {
     "name": "stdout",
     "output_type": "stream",
     "text": [
      "Epoch [883/5000]: Train loss: 0.9702, Valid loss: 1.0016\n"
     ]
    },
    {
     "name": "stderr",
     "output_type": "stream",
     "text": [
      "Epoch [884/5000]: 100%|██████████| 10/10 [00:00<00:00, 323.69it/s, loss=0.889]\n"
     ]
    },
    {
     "name": "stdout",
     "output_type": "stream",
     "text": [
      "Epoch [884/5000]: Train loss: 0.9710, Valid loss: 1.0503\n"
     ]
    },
    {
     "name": "stderr",
     "output_type": "stream",
     "text": [
      "Epoch [885/5000]: 100%|██████████| 10/10 [00:00<00:00, 306.10it/s, loss=0.945]\n"
     ]
    },
    {
     "name": "stdout",
     "output_type": "stream",
     "text": [
      "Epoch [885/5000]: Train loss: 0.9847, Valid loss: 0.9647\n"
     ]
    },
    {
     "name": "stderr",
     "output_type": "stream",
     "text": [
      "Epoch [886/5000]: 100%|██████████| 10/10 [00:00<00:00, 334.14it/s, loss=0.816]\n"
     ]
    },
    {
     "name": "stdout",
     "output_type": "stream",
     "text": [
      "Epoch [886/5000]: Train loss: 0.9653, Valid loss: 0.9810\n"
     ]
    },
    {
     "name": "stderr",
     "output_type": "stream",
     "text": [
      "Epoch [887/5000]: 100%|██████████| 10/10 [00:00<00:00, 333.40it/s, loss=0.902]\n"
     ]
    },
    {
     "name": "stdout",
     "output_type": "stream",
     "text": [
      "Epoch [887/5000]: Train loss: 0.9796, Valid loss: 0.9350\n"
     ]
    },
    {
     "name": "stderr",
     "output_type": "stream",
     "text": [
      "Epoch [888/5000]: 100%|██████████| 10/10 [00:00<00:00, 281.55it/s, loss=0.739]\n"
     ]
    },
    {
     "name": "stdout",
     "output_type": "stream",
     "text": [
      "Epoch [888/5000]: Train loss: 0.9607, Valid loss: 0.9087\n",
      "Saving model with loss 0.909...\n"
     ]
    },
    {
     "name": "stderr",
     "output_type": "stream",
     "text": [
      "Epoch [889/5000]: 100%|██████████| 10/10 [00:00<00:00, 304.04it/s, loss=1.01]\n"
     ]
    },
    {
     "name": "stdout",
     "output_type": "stream",
     "text": [
      "Epoch [889/5000]: Train loss: 0.9762, Valid loss: 1.0217\n"
     ]
    },
    {
     "name": "stderr",
     "output_type": "stream",
     "text": [
      "Epoch [890/5000]: 100%|██████████| 10/10 [00:00<00:00, 343.63it/s, loss=0.946]\n"
     ]
    },
    {
     "name": "stdout",
     "output_type": "stream",
     "text": [
      "Epoch [890/5000]: Train loss: 0.9776, Valid loss: 0.9668\n"
     ]
    },
    {
     "name": "stderr",
     "output_type": "stream",
     "text": [
      "Epoch [891/5000]: 100%|██████████| 10/10 [00:00<00:00, 313.47it/s, loss=0.887]\n"
     ]
    },
    {
     "name": "stdout",
     "output_type": "stream",
     "text": [
      "Epoch [891/5000]: Train loss: 0.9792, Valid loss: 0.9810\n"
     ]
    },
    {
     "name": "stderr",
     "output_type": "stream",
     "text": [
      "Epoch [892/5000]: 100%|██████████| 10/10 [00:00<00:00, 323.61it/s, loss=0.704]\n"
     ]
    },
    {
     "name": "stdout",
     "output_type": "stream",
     "text": [
      "Epoch [892/5000]: Train loss: 0.9570, Valid loss: 0.9854\n"
     ]
    },
    {
     "name": "stderr",
     "output_type": "stream",
     "text": [
      "Epoch [893/5000]: 100%|██████████| 10/10 [00:00<00:00, 336.81it/s, loss=0.79]\n"
     ]
    },
    {
     "name": "stdout",
     "output_type": "stream",
     "text": [
      "Epoch [893/5000]: Train loss: 0.9674, Valid loss: 1.0883\n"
     ]
    },
    {
     "name": "stderr",
     "output_type": "stream",
     "text": [
      "Epoch [894/5000]: 100%|██████████| 10/10 [00:00<00:00, 282.82it/s, loss=0.879]\n"
     ]
    },
    {
     "name": "stdout",
     "output_type": "stream",
     "text": [
      "Epoch [894/5000]: Train loss: 0.9651, Valid loss: 0.9756\n"
     ]
    },
    {
     "name": "stderr",
     "output_type": "stream",
     "text": [
      "Epoch [895/5000]: 100%|██████████| 10/10 [00:00<00:00, 321.92it/s, loss=1.18]\n"
     ]
    },
    {
     "name": "stdout",
     "output_type": "stream",
     "text": [
      "Epoch [895/5000]: Train loss: 0.9864, Valid loss: 1.0352\n"
     ]
    },
    {
     "name": "stderr",
     "output_type": "stream",
     "text": [
      "Epoch [896/5000]: 100%|██████████| 10/10 [00:00<00:00, 327.31it/s, loss=0.896]\n"
     ]
    },
    {
     "name": "stdout",
     "output_type": "stream",
     "text": [
      "Epoch [896/5000]: Train loss: 0.9663, Valid loss: 0.9455\n"
     ]
    },
    {
     "name": "stderr",
     "output_type": "stream",
     "text": [
      "Epoch [897/5000]: 100%|██████████| 10/10 [00:00<00:00, 313.35it/s, loss=0.797]\n"
     ]
    },
    {
     "name": "stdout",
     "output_type": "stream",
     "text": [
      "Epoch [897/5000]: Train loss: 0.9639, Valid loss: 0.9685\n"
     ]
    },
    {
     "name": "stderr",
     "output_type": "stream",
     "text": [
      "Epoch [898/5000]: 100%|██████████| 10/10 [00:00<00:00, 333.50it/s, loss=0.781]\n"
     ]
    },
    {
     "name": "stdout",
     "output_type": "stream",
     "text": [
      "Epoch [898/5000]: Train loss: 0.9637, Valid loss: 1.0158\n"
     ]
    },
    {
     "name": "stderr",
     "output_type": "stream",
     "text": [
      "Epoch [899/5000]: 100%|██████████| 10/10 [00:00<00:00, 349.76it/s, loss=0.931]\n"
     ]
    },
    {
     "name": "stdout",
     "output_type": "stream",
     "text": [
      "Epoch [899/5000]: Train loss: 0.9717, Valid loss: 0.9747\n"
     ]
    },
    {
     "name": "stderr",
     "output_type": "stream",
     "text": [
      "Epoch [900/5000]: 100%|██████████| 10/10 [00:00<00:00, 324.14it/s, loss=0.994]\n"
     ]
    },
    {
     "name": "stdout",
     "output_type": "stream",
     "text": [
      "Epoch [900/5000]: Train loss: 0.9722, Valid loss: 0.9855\n"
     ]
    },
    {
     "name": "stderr",
     "output_type": "stream",
     "text": [
      "Epoch [901/5000]: 100%|██████████| 10/10 [00:00<00:00, 288.46it/s, loss=0.989]\n"
     ]
    },
    {
     "name": "stdout",
     "output_type": "stream",
     "text": [
      "Epoch [901/5000]: Train loss: 0.9699, Valid loss: 1.0191\n"
     ]
    },
    {
     "name": "stderr",
     "output_type": "stream",
     "text": [
      "Epoch [902/5000]: 100%|██████████| 10/10 [00:00<00:00, 313.56it/s, loss=1.08]\n"
     ]
    },
    {
     "name": "stdout",
     "output_type": "stream",
     "text": [
      "Epoch [902/5000]: Train loss: 0.9928, Valid loss: 0.9943\n"
     ]
    },
    {
     "name": "stderr",
     "output_type": "stream",
     "text": [
      "Epoch [903/5000]: 100%|██████████| 10/10 [00:00<00:00, 278.72it/s, loss=1.09]\n"
     ]
    },
    {
     "name": "stdout",
     "output_type": "stream",
     "text": [
      "Epoch [903/5000]: Train loss: 0.9808, Valid loss: 0.9244\n"
     ]
    },
    {
     "name": "stderr",
     "output_type": "stream",
     "text": [
      "Epoch [904/5000]: 100%|██████████| 10/10 [00:00<00:00, 278.95it/s, loss=1.15]\n"
     ]
    },
    {
     "name": "stdout",
     "output_type": "stream",
     "text": [
      "Epoch [904/5000]: Train loss: 0.9820, Valid loss: 0.9789\n"
     ]
    },
    {
     "name": "stderr",
     "output_type": "stream",
     "text": [
      "Epoch [905/5000]: 100%|██████████| 10/10 [00:00<00:00, 341.50it/s, loss=0.852]\n"
     ]
    },
    {
     "name": "stdout",
     "output_type": "stream",
     "text": [
      "Epoch [905/5000]: Train loss: 0.9646, Valid loss: 0.9396\n"
     ]
    },
    {
     "name": "stderr",
     "output_type": "stream",
     "text": [
      "Epoch [906/5000]: 100%|██████████| 10/10 [00:00<00:00, 322.58it/s, loss=1.06]\n"
     ]
    },
    {
     "name": "stdout",
     "output_type": "stream",
     "text": [
      "Epoch [906/5000]: Train loss: 0.9728, Valid loss: 0.9917\n"
     ]
    },
    {
     "name": "stderr",
     "output_type": "stream",
     "text": [
      "Epoch [907/5000]: 100%|██████████| 10/10 [00:00<00:00, 283.50it/s, loss=1.16]\n"
     ]
    },
    {
     "name": "stdout",
     "output_type": "stream",
     "text": [
      "Epoch [907/5000]: Train loss: 0.9786, Valid loss: 0.9307\n"
     ]
    },
    {
     "name": "stderr",
     "output_type": "stream",
     "text": [
      "Epoch [908/5000]: 100%|██████████| 10/10 [00:00<00:00, 323.70it/s, loss=0.911]\n"
     ]
    },
    {
     "name": "stdout",
     "output_type": "stream",
     "text": [
      "Epoch [908/5000]: Train loss: 0.9660, Valid loss: 0.9866\n"
     ]
    },
    {
     "name": "stderr",
     "output_type": "stream",
     "text": [
      "Epoch [909/5000]: 100%|██████████| 10/10 [00:00<00:00, 326.09it/s, loss=0.701]\n"
     ]
    },
    {
     "name": "stdout",
     "output_type": "stream",
     "text": [
      "Epoch [909/5000]: Train loss: 0.9686, Valid loss: 0.9763\n"
     ]
    },
    {
     "name": "stderr",
     "output_type": "stream",
     "text": [
      "Epoch [910/5000]: 100%|██████████| 10/10 [00:00<00:00, 283.11it/s, loss=0.967]\n"
     ]
    },
    {
     "name": "stdout",
     "output_type": "stream",
     "text": [
      "Epoch [910/5000]: Train loss: 0.9898, Valid loss: 1.0529\n"
     ]
    },
    {
     "name": "stderr",
     "output_type": "stream",
     "text": [
      "Epoch [911/5000]: 100%|██████████| 10/10 [00:00<00:00, 334.49it/s, loss=1.14]\n"
     ]
    },
    {
     "name": "stdout",
     "output_type": "stream",
     "text": [
      "Epoch [911/5000]: Train loss: 1.0327, Valid loss: 0.9659\n"
     ]
    },
    {
     "name": "stderr",
     "output_type": "stream",
     "text": [
      "Epoch [912/5000]: 100%|██████████| 10/10 [00:00<00:00, 297.61it/s, loss=0.868]\n"
     ]
    },
    {
     "name": "stdout",
     "output_type": "stream",
     "text": [
      "Epoch [912/5000]: Train loss: 0.9648, Valid loss: 0.9637\n"
     ]
    },
    {
     "name": "stderr",
     "output_type": "stream",
     "text": [
      "Epoch [913/5000]: 100%|██████████| 10/10 [00:00<00:00, 247.45it/s, loss=0.957]\n"
     ]
    },
    {
     "name": "stdout",
     "output_type": "stream",
     "text": [
      "Epoch [913/5000]: Train loss: 0.9674, Valid loss: 0.9495\n"
     ]
    },
    {
     "name": "stderr",
     "output_type": "stream",
     "text": [
      "Epoch [914/5000]: 100%|██████████| 10/10 [00:00<00:00, 313.33it/s, loss=1.03]\n"
     ]
    },
    {
     "name": "stdout",
     "output_type": "stream",
     "text": [
      "Epoch [914/5000]: Train loss: 0.9709, Valid loss: 0.9414\n"
     ]
    },
    {
     "name": "stderr",
     "output_type": "stream",
     "text": [
      "Epoch [915/5000]: 100%|██████████| 10/10 [00:00<00:00, 314.29it/s, loss=1.35]\n"
     ]
    },
    {
     "name": "stdout",
     "output_type": "stream",
     "text": [
      "Epoch [915/5000]: Train loss: 0.9940, Valid loss: 1.0056\n"
     ]
    },
    {
     "name": "stderr",
     "output_type": "stream",
     "text": [
      "Epoch [916/5000]: 100%|██████████| 10/10 [00:00<00:00, 294.73it/s, loss=0.967]\n"
     ]
    },
    {
     "name": "stdout",
     "output_type": "stream",
     "text": [
      "Epoch [916/5000]: Train loss: 0.9759, Valid loss: 0.9618\n"
     ]
    },
    {
     "name": "stderr",
     "output_type": "stream",
     "text": [
      "Epoch [917/5000]: 100%|██████████| 10/10 [00:00<00:00, 328.04it/s, loss=0.99]\n"
     ]
    },
    {
     "name": "stdout",
     "output_type": "stream",
     "text": [
      "Epoch [917/5000]: Train loss: 0.9843, Valid loss: 1.0209\n"
     ]
    },
    {
     "name": "stderr",
     "output_type": "stream",
     "text": [
      "Epoch [918/5000]: 100%|██████████| 10/10 [00:00<00:00, 323.98it/s, loss=1.25]\n"
     ]
    },
    {
     "name": "stdout",
     "output_type": "stream",
     "text": [
      "Epoch [918/5000]: Train loss: 1.0022, Valid loss: 1.0029\n"
     ]
    },
    {
     "name": "stderr",
     "output_type": "stream",
     "text": [
      "Epoch [919/5000]: 100%|██████████| 10/10 [00:00<00:00, 312.63it/s, loss=0.813]\n"
     ]
    },
    {
     "name": "stdout",
     "output_type": "stream",
     "text": [
      "Epoch [919/5000]: Train loss: 0.9792, Valid loss: 0.9779\n"
     ]
    },
    {
     "name": "stderr",
     "output_type": "stream",
     "text": [
      "Epoch [920/5000]: 100%|██████████| 10/10 [00:00<00:00, 306.92it/s, loss=0.863]\n"
     ]
    },
    {
     "name": "stdout",
     "output_type": "stream",
     "text": [
      "Epoch [920/5000]: Train loss: 0.9770, Valid loss: 1.0277\n"
     ]
    },
    {
     "name": "stderr",
     "output_type": "stream",
     "text": [
      "Epoch [921/5000]: 100%|██████████| 10/10 [00:00<00:00, 213.31it/s, loss=1.53]\n"
     ]
    },
    {
     "name": "stdout",
     "output_type": "stream",
     "text": [
      "Epoch [921/5000]: Train loss: 1.0064, Valid loss: 1.0829\n"
     ]
    },
    {
     "name": "stderr",
     "output_type": "stream",
     "text": [
      "Epoch [922/5000]: 100%|██████████| 10/10 [00:00<00:00, 234.82it/s, loss=1.08]\n"
     ]
    },
    {
     "name": "stdout",
     "output_type": "stream",
     "text": [
      "Epoch [922/5000]: Train loss: 0.9751, Valid loss: 0.9953\n"
     ]
    },
    {
     "name": "stderr",
     "output_type": "stream",
     "text": [
      "Epoch [923/5000]: 100%|██████████| 10/10 [00:00<00:00, 250.81it/s, loss=1.36]\n"
     ]
    },
    {
     "name": "stdout",
     "output_type": "stream",
     "text": [
      "Epoch [923/5000]: Train loss: 0.9893, Valid loss: 0.9370\n"
     ]
    },
    {
     "name": "stderr",
     "output_type": "stream",
     "text": [
      "Epoch [924/5000]: 100%|██████████| 10/10 [00:00<00:00, 317.83it/s, loss=0.877]\n"
     ]
    },
    {
     "name": "stdout",
     "output_type": "stream",
     "text": [
      "Epoch [924/5000]: Train loss: 0.9661, Valid loss: 0.9947\n"
     ]
    },
    {
     "name": "stderr",
     "output_type": "stream",
     "text": [
      "Epoch [925/5000]: 100%|██████████| 10/10 [00:00<00:00, 286.68it/s, loss=1.07]\n"
     ]
    },
    {
     "name": "stdout",
     "output_type": "stream",
     "text": [
      "Epoch [925/5000]: Train loss: 0.9801, Valid loss: 0.9391\n"
     ]
    },
    {
     "name": "stderr",
     "output_type": "stream",
     "text": [
      "Epoch [926/5000]: 100%|██████████| 10/10 [00:00<00:00, 333.41it/s, loss=1.14]\n"
     ]
    },
    {
     "name": "stdout",
     "output_type": "stream",
     "text": [
      "Epoch [926/5000]: Train loss: 0.9769, Valid loss: 0.9364\n"
     ]
    },
    {
     "name": "stderr",
     "output_type": "stream",
     "text": [
      "Epoch [927/5000]: 100%|██████████| 10/10 [00:00<00:00, 306.94it/s, loss=0.829]\n"
     ]
    },
    {
     "name": "stdout",
     "output_type": "stream",
     "text": [
      "Epoch [927/5000]: Train loss: 0.9849, Valid loss: 0.9300\n"
     ]
    },
    {
     "name": "stderr",
     "output_type": "stream",
     "text": [
      "Epoch [928/5000]: 100%|██████████| 10/10 [00:00<00:00, 286.24it/s, loss=0.945]\n"
     ]
    },
    {
     "name": "stdout",
     "output_type": "stream",
     "text": [
      "Epoch [928/5000]: Train loss: 0.9753, Valid loss: 0.9513\n"
     ]
    },
    {
     "name": "stderr",
     "output_type": "stream",
     "text": [
      "Epoch [929/5000]: 100%|██████████| 10/10 [00:00<00:00, 316.57it/s, loss=0.905]\n"
     ]
    },
    {
     "name": "stdout",
     "output_type": "stream",
     "text": [
      "Epoch [929/5000]: Train loss: 0.9949, Valid loss: 0.9396\n"
     ]
    },
    {
     "name": "stderr",
     "output_type": "stream",
     "text": [
      "Epoch [930/5000]: 100%|██████████| 10/10 [00:00<00:00, 309.23it/s, loss=0.892]\n"
     ]
    },
    {
     "name": "stdout",
     "output_type": "stream",
     "text": [
      "Epoch [930/5000]: Train loss: 0.9646, Valid loss: 0.9407\n"
     ]
    },
    {
     "name": "stderr",
     "output_type": "stream",
     "text": [
      "Epoch [931/5000]: 100%|██████████| 10/10 [00:00<00:00, 277.01it/s, loss=0.949]\n"
     ]
    },
    {
     "name": "stdout",
     "output_type": "stream",
     "text": [
      "Epoch [931/5000]: Train loss: 0.9637, Valid loss: 0.9632\n"
     ]
    },
    {
     "name": "stderr",
     "output_type": "stream",
     "text": [
      "Epoch [932/5000]: 100%|██████████| 10/10 [00:00<00:00, 289.31it/s, loss=1]\n"
     ]
    },
    {
     "name": "stdout",
     "output_type": "stream",
     "text": [
      "Epoch [932/5000]: Train loss: 0.9639, Valid loss: 1.0287\n"
     ]
    },
    {
     "name": "stderr",
     "output_type": "stream",
     "text": [
      "Epoch [933/5000]: 100%|██████████| 10/10 [00:00<00:00, 287.07it/s, loss=0.797]\n"
     ]
    },
    {
     "name": "stdout",
     "output_type": "stream",
     "text": [
      "Epoch [933/5000]: Train loss: 0.9697, Valid loss: 0.9085\n",
      "Saving model with loss 0.908...\n"
     ]
    },
    {
     "name": "stderr",
     "output_type": "stream",
     "text": [
      "Epoch [934/5000]: 100%|██████████| 10/10 [00:00<00:00, 289.16it/s, loss=0.936]\n"
     ]
    },
    {
     "name": "stdout",
     "output_type": "stream",
     "text": [
      "Epoch [934/5000]: Train loss: 0.9648, Valid loss: 0.9756\n"
     ]
    },
    {
     "name": "stderr",
     "output_type": "stream",
     "text": [
      "Epoch [935/5000]: 100%|██████████| 10/10 [00:00<00:00, 313.53it/s, loss=0.683]\n"
     ]
    },
    {
     "name": "stdout",
     "output_type": "stream",
     "text": [
      "Epoch [935/5000]: Train loss: 0.9475, Valid loss: 1.0025\n"
     ]
    },
    {
     "name": "stderr",
     "output_type": "stream",
     "text": [
      "Epoch [936/5000]: 100%|██████████| 10/10 [00:00<00:00, 304.26it/s, loss=1.17]\n"
     ]
    },
    {
     "name": "stdout",
     "output_type": "stream",
     "text": [
      "Epoch [936/5000]: Train loss: 0.9786, Valid loss: 0.9326\n"
     ]
    },
    {
     "name": "stderr",
     "output_type": "stream",
     "text": [
      "Epoch [937/5000]: 100%|██████████| 10/10 [00:00<00:00, 256.00it/s, loss=0.694]\n"
     ]
    },
    {
     "name": "stdout",
     "output_type": "stream",
     "text": [
      "Epoch [937/5000]: Train loss: 0.9574, Valid loss: 0.9967\n"
     ]
    },
    {
     "name": "stderr",
     "output_type": "stream",
     "text": [
      "Epoch [938/5000]: 100%|██████████| 10/10 [00:00<00:00, 299.62it/s, loss=1.07]\n"
     ]
    },
    {
     "name": "stdout",
     "output_type": "stream",
     "text": [
      "Epoch [938/5000]: Train loss: 0.9703, Valid loss: 0.9052\n",
      "Saving model with loss 0.905...\n"
     ]
    },
    {
     "name": "stderr",
     "output_type": "stream",
     "text": [
      "Epoch [939/5000]: 100%|██████████| 10/10 [00:00<00:00, 265.81it/s, loss=1.04]\n"
     ]
    },
    {
     "name": "stdout",
     "output_type": "stream",
     "text": [
      "Epoch [939/5000]: Train loss: 0.9775, Valid loss: 0.9473\n"
     ]
    },
    {
     "name": "stderr",
     "output_type": "stream",
     "text": [
      "Epoch [940/5000]: 100%|██████████| 10/10 [00:00<00:00, 283.67it/s, loss=0.899]\n"
     ]
    },
    {
     "name": "stdout",
     "output_type": "stream",
     "text": [
      "Epoch [940/5000]: Train loss: 0.9632, Valid loss: 0.9601\n"
     ]
    },
    {
     "name": "stderr",
     "output_type": "stream",
     "text": [
      "Epoch [941/5000]: 100%|██████████| 10/10 [00:00<00:00, 278.75it/s, loss=1.19]\n"
     ]
    },
    {
     "name": "stdout",
     "output_type": "stream",
     "text": [
      "Epoch [941/5000]: Train loss: 0.9806, Valid loss: 0.9560\n"
     ]
    },
    {
     "name": "stderr",
     "output_type": "stream",
     "text": [
      "Epoch [942/5000]: 100%|██████████| 10/10 [00:00<00:00, 337.34it/s, loss=0.879]\n"
     ]
    },
    {
     "name": "stdout",
     "output_type": "stream",
     "text": [
      "Epoch [942/5000]: Train loss: 0.9611, Valid loss: 0.9552\n"
     ]
    },
    {
     "name": "stderr",
     "output_type": "stream",
     "text": [
      "Epoch [943/5000]: 100%|██████████| 10/10 [00:00<00:00, 313.56it/s, loss=0.903]\n"
     ]
    },
    {
     "name": "stdout",
     "output_type": "stream",
     "text": [
      "Epoch [943/5000]: Train loss: 0.9631, Valid loss: 0.9680\n"
     ]
    },
    {
     "name": "stderr",
     "output_type": "stream",
     "text": [
      "Epoch [944/5000]: 100%|██████████| 10/10 [00:00<00:00, 326.02it/s, loss=0.966]\n"
     ]
    },
    {
     "name": "stdout",
     "output_type": "stream",
     "text": [
      "Epoch [944/5000]: Train loss: 0.9690, Valid loss: 0.9444\n"
     ]
    },
    {
     "name": "stderr",
     "output_type": "stream",
     "text": [
      "Epoch [945/5000]: 100%|██████████| 10/10 [00:00<00:00, 287.09it/s, loss=0.844]\n"
     ]
    },
    {
     "name": "stdout",
     "output_type": "stream",
     "text": [
      "Epoch [945/5000]: Train loss: 0.9647, Valid loss: 0.9219\n"
     ]
    },
    {
     "name": "stderr",
     "output_type": "stream",
     "text": [
      "Epoch [946/5000]: 100%|██████████| 10/10 [00:00<00:00, 323.67it/s, loss=0.908]\n"
     ]
    },
    {
     "name": "stdout",
     "output_type": "stream",
     "text": [
      "Epoch [946/5000]: Train loss: 0.9763, Valid loss: 1.0580\n"
     ]
    },
    {
     "name": "stderr",
     "output_type": "stream",
     "text": [
      "Epoch [947/5000]: 100%|██████████| 10/10 [00:00<00:00, 326.03it/s, loss=0.683]\n"
     ]
    },
    {
     "name": "stdout",
     "output_type": "stream",
     "text": [
      "Epoch [947/5000]: Train loss: 0.9896, Valid loss: 1.0121\n"
     ]
    },
    {
     "name": "stderr",
     "output_type": "stream",
     "text": [
      "Epoch [948/5000]: 100%|██████████| 10/10 [00:00<00:00, 304.07it/s, loss=1.08]"
     ]
    },
    {
     "name": "stdout",
     "output_type": "stream",
     "text": [
      "Epoch [948/5000]: Train loss: 0.9763, Valid loss: 0.9646\n"
     ]
    },
    {
     "name": "stderr",
     "output_type": "stream",
     "text": [
      "\n",
      "Epoch [949/5000]: 100%|██████████| 10/10 [00:00<00:00, 322.57it/s, loss=1.03]\n"
     ]
    },
    {
     "name": "stdout",
     "output_type": "stream",
     "text": [
      "Epoch [949/5000]: Train loss: 0.9798, Valid loss: 0.9225\n"
     ]
    },
    {
     "name": "stderr",
     "output_type": "stream",
     "text": [
      "Epoch [950/5000]: 100%|██████████| 10/10 [00:00<00:00, 326.92it/s, loss=1.33]\n"
     ]
    },
    {
     "name": "stdout",
     "output_type": "stream",
     "text": [
      "Epoch [950/5000]: Train loss: 0.9961, Valid loss: 0.9246\n"
     ]
    },
    {
     "name": "stderr",
     "output_type": "stream",
     "text": [
      "Epoch [951/5000]: 100%|██████████| 10/10 [00:00<00:00, 304.75it/s, loss=1.06]\n"
     ]
    },
    {
     "name": "stdout",
     "output_type": "stream",
     "text": [
      "Epoch [951/5000]: Train loss: 0.9760, Valid loss: 0.9681\n"
     ]
    },
    {
     "name": "stderr",
     "output_type": "stream",
     "text": [
      "Epoch [952/5000]: 100%|██████████| 10/10 [00:00<00:00, 297.97it/s, loss=0.813]\n"
     ]
    },
    {
     "name": "stdout",
     "output_type": "stream",
     "text": [
      "Epoch [952/5000]: Train loss: 0.9576, Valid loss: 0.9943\n"
     ]
    },
    {
     "name": "stderr",
     "output_type": "stream",
     "text": [
      "Epoch [953/5000]: 100%|██████████| 10/10 [00:00<00:00, 345.76it/s, loss=1.19]\n"
     ]
    },
    {
     "name": "stdout",
     "output_type": "stream",
     "text": [
      "Epoch [953/5000]: Train loss: 0.9855, Valid loss: 0.8871\n",
      "Saving model with loss 0.887...\n"
     ]
    },
    {
     "name": "stderr",
     "output_type": "stream",
     "text": [
      "Epoch [954/5000]: 100%|██████████| 10/10 [00:00<00:00, 303.57it/s, loss=1.13]\n"
     ]
    },
    {
     "name": "stdout",
     "output_type": "stream",
     "text": [
      "Epoch [954/5000]: Train loss: 0.9719, Valid loss: 0.9368\n"
     ]
    },
    {
     "name": "stderr",
     "output_type": "stream",
     "text": [
      "Epoch [955/5000]: 100%|██████████| 10/10 [00:00<00:00, 326.04it/s, loss=0.827]\n"
     ]
    },
    {
     "name": "stdout",
     "output_type": "stream",
     "text": [
      "Epoch [955/5000]: Train loss: 0.9533, Valid loss: 0.9440\n"
     ]
    },
    {
     "name": "stderr",
     "output_type": "stream",
     "text": [
      "Epoch [956/5000]: 100%|██████████| 10/10 [00:00<00:00, 323.73it/s, loss=1.11]\n"
     ]
    },
    {
     "name": "stdout",
     "output_type": "stream",
     "text": [
      "Epoch [956/5000]: Train loss: 0.9686, Valid loss: 1.0034\n"
     ]
    },
    {
     "name": "stderr",
     "output_type": "stream",
     "text": [
      "Epoch [957/5000]: 100%|██████████| 10/10 [00:00<00:00, 303.29it/s, loss=1.25]\n"
     ]
    },
    {
     "name": "stdout",
     "output_type": "stream",
     "text": [
      "Epoch [957/5000]: Train loss: 0.9811, Valid loss: 0.9544\n"
     ]
    },
    {
     "name": "stderr",
     "output_type": "stream",
     "text": [
      "Epoch [958/5000]: 100%|██████████| 10/10 [00:00<00:00, 327.01it/s, loss=0.803]\n"
     ]
    },
    {
     "name": "stdout",
     "output_type": "stream",
     "text": [
      "Epoch [958/5000]: Train loss: 0.9544, Valid loss: 1.0097\n"
     ]
    },
    {
     "name": "stderr",
     "output_type": "stream",
     "text": [
      "Epoch [959/5000]: 100%|██████████| 10/10 [00:00<00:00, 334.42it/s, loss=0.803]\n"
     ]
    },
    {
     "name": "stdout",
     "output_type": "stream",
     "text": [
      "Epoch [959/5000]: Train loss: 0.9531, Valid loss: 0.9469\n"
     ]
    },
    {
     "name": "stderr",
     "output_type": "stream",
     "text": [
      "Epoch [960/5000]: 100%|██████████| 10/10 [00:00<00:00, 289.92it/s, loss=0.912]\n"
     ]
    },
    {
     "name": "stdout",
     "output_type": "stream",
     "text": [
      "Epoch [960/5000]: Train loss: 0.9627, Valid loss: 0.9494\n"
     ]
    },
    {
     "name": "stderr",
     "output_type": "stream",
     "text": [
      "Epoch [961/5000]: 100%|██████████| 10/10 [00:00<00:00, 294.52it/s, loss=1.1]\n"
     ]
    },
    {
     "name": "stdout",
     "output_type": "stream",
     "text": [
      "Epoch [961/5000]: Train loss: 0.9773, Valid loss: 0.9433\n"
     ]
    },
    {
     "name": "stderr",
     "output_type": "stream",
     "text": [
      "Epoch [962/5000]: 100%|██████████| 10/10 [00:00<00:00, 295.35it/s, loss=0.916]\n"
     ]
    },
    {
     "name": "stdout",
     "output_type": "stream",
     "text": [
      "Epoch [962/5000]: Train loss: 0.9702, Valid loss: 0.9518\n"
     ]
    },
    {
     "name": "stderr",
     "output_type": "stream",
     "text": [
      "Epoch [963/5000]: 100%|██████████| 10/10 [00:00<00:00, 272.79it/s, loss=0.89]\n"
     ]
    },
    {
     "name": "stdout",
     "output_type": "stream",
     "text": [
      "Epoch [963/5000]: Train loss: 0.9527, Valid loss: 0.9632\n"
     ]
    },
    {
     "name": "stderr",
     "output_type": "stream",
     "text": [
      "Epoch [964/5000]: 100%|██████████| 10/10 [00:00<00:00, 278.65it/s, loss=1]\n"
     ]
    },
    {
     "name": "stdout",
     "output_type": "stream",
     "text": [
      "Epoch [964/5000]: Train loss: 0.9584, Valid loss: 0.9483\n"
     ]
    },
    {
     "name": "stderr",
     "output_type": "stream",
     "text": [
      "Epoch [965/5000]: 100%|██████████| 10/10 [00:00<00:00, 280.15it/s, loss=0.881]\n"
     ]
    },
    {
     "name": "stdout",
     "output_type": "stream",
     "text": [
      "Epoch [965/5000]: Train loss: 0.9592, Valid loss: 0.9205\n"
     ]
    },
    {
     "name": "stderr",
     "output_type": "stream",
     "text": [
      "Epoch [966/5000]: 100%|██████████| 10/10 [00:00<00:00, 295.15it/s, loss=0.839]\n"
     ]
    },
    {
     "name": "stdout",
     "output_type": "stream",
     "text": [
      "Epoch [966/5000]: Train loss: 0.9698, Valid loss: 1.0057\n"
     ]
    },
    {
     "name": "stderr",
     "output_type": "stream",
     "text": [
      "Epoch [967/5000]: 100%|██████████| 10/10 [00:00<00:00, 270.49it/s, loss=0.855]\n"
     ]
    },
    {
     "name": "stdout",
     "output_type": "stream",
     "text": [
      "Epoch [967/5000]: Train loss: 1.0097, Valid loss: 1.0573\n"
     ]
    },
    {
     "name": "stderr",
     "output_type": "stream",
     "text": [
      "Epoch [968/5000]: 100%|██████████| 10/10 [00:00<00:00, 273.30it/s, loss=1.17]\n"
     ]
    },
    {
     "name": "stdout",
     "output_type": "stream",
     "text": [
      "Epoch [968/5000]: Train loss: 1.0087, Valid loss: 0.9832\n"
     ]
    },
    {
     "name": "stderr",
     "output_type": "stream",
     "text": [
      "Epoch [969/5000]: 100%|██████████| 10/10 [00:00<00:00, 286.84it/s, loss=0.781]\n"
     ]
    },
    {
     "name": "stdout",
     "output_type": "stream",
     "text": [
      "Epoch [969/5000]: Train loss: 0.9711, Valid loss: 0.9511\n"
     ]
    },
    {
     "name": "stderr",
     "output_type": "stream",
     "text": [
      "Epoch [970/5000]: 100%|██████████| 10/10 [00:00<00:00, 288.41it/s, loss=0.872]\n"
     ]
    },
    {
     "name": "stdout",
     "output_type": "stream",
     "text": [
      "Epoch [970/5000]: Train loss: 0.9760, Valid loss: 0.9622\n"
     ]
    },
    {
     "name": "stderr",
     "output_type": "stream",
     "text": [
      "Epoch [971/5000]: 100%|██████████| 10/10 [00:00<00:00, 286.63it/s, loss=0.678]\n"
     ]
    },
    {
     "name": "stdout",
     "output_type": "stream",
     "text": [
      "Epoch [971/5000]: Train loss: 0.9469, Valid loss: 0.9870\n"
     ]
    },
    {
     "name": "stderr",
     "output_type": "stream",
     "text": [
      "Epoch [972/5000]: 100%|██████████| 10/10 [00:00<00:00, 334.37it/s, loss=0.808]\n"
     ]
    },
    {
     "name": "stdout",
     "output_type": "stream",
     "text": [
      "Epoch [972/5000]: Train loss: 0.9718, Valid loss: 0.9700\n"
     ]
    },
    {
     "name": "stderr",
     "output_type": "stream",
     "text": [
      "Epoch [973/5000]: 100%|██████████| 10/10 [00:00<00:00, 337.92it/s, loss=1.04]\n"
     ]
    },
    {
     "name": "stdout",
     "output_type": "stream",
     "text": [
      "Epoch [973/5000]: Train loss: 0.9619, Valid loss: 0.9911\n"
     ]
    },
    {
     "name": "stderr",
     "output_type": "stream",
     "text": [
      "Epoch [974/5000]: 100%|██████████| 10/10 [00:00<00:00, 303.97it/s, loss=1.1]\n"
     ]
    },
    {
     "name": "stdout",
     "output_type": "stream",
     "text": [
      "Epoch [974/5000]: Train loss: 0.9667, Valid loss: 0.9455\n"
     ]
    },
    {
     "name": "stderr",
     "output_type": "stream",
     "text": [
      "Epoch [975/5000]: 100%|██████████| 10/10 [00:00<00:00, 278.30it/s, loss=1.02]\n"
     ]
    },
    {
     "name": "stdout",
     "output_type": "stream",
     "text": [
      "Epoch [975/5000]: Train loss: 0.9856, Valid loss: 1.0027\n"
     ]
    },
    {
     "name": "stderr",
     "output_type": "stream",
     "text": [
      "Epoch [976/5000]: 100%|██████████| 10/10 [00:00<00:00, 264.11it/s, loss=0.919]\n"
     ]
    },
    {
     "name": "stdout",
     "output_type": "stream",
     "text": [
      "Epoch [976/5000]: Train loss: 0.9983, Valid loss: 0.9794\n"
     ]
    },
    {
     "name": "stderr",
     "output_type": "stream",
     "text": [
      "Epoch [977/5000]: 100%|██████████| 10/10 [00:00<00:00, 263.96it/s, loss=0.651]\n"
     ]
    },
    {
     "name": "stdout",
     "output_type": "stream",
     "text": [
      "Epoch [977/5000]: Train loss: 0.9513, Valid loss: 1.0109\n"
     ]
    },
    {
     "name": "stderr",
     "output_type": "stream",
     "text": [
      "Epoch [978/5000]: 100%|██████████| 10/10 [00:00<00:00, 287.95it/s, loss=0.76]\n"
     ]
    },
    {
     "name": "stdout",
     "output_type": "stream",
     "text": [
      "Epoch [978/5000]: Train loss: 0.9490, Valid loss: 1.0318\n"
     ]
    },
    {
     "name": "stderr",
     "output_type": "stream",
     "text": [
      "Epoch [979/5000]: 100%|██████████| 10/10 [00:00<00:00, 295.07it/s, loss=0.905]\n"
     ]
    },
    {
     "name": "stdout",
     "output_type": "stream",
     "text": [
      "Epoch [979/5000]: Train loss: 0.9602, Valid loss: 0.9477\n"
     ]
    },
    {
     "name": "stderr",
     "output_type": "stream",
     "text": [
      "Epoch [980/5000]: 100%|██████████| 10/10 [00:00<00:00, 297.12it/s, loss=1.04]\n"
     ]
    },
    {
     "name": "stdout",
     "output_type": "stream",
     "text": [
      "Epoch [980/5000]: Train loss: 0.9659, Valid loss: 1.0263\n"
     ]
    },
    {
     "name": "stderr",
     "output_type": "stream",
     "text": [
      "Epoch [981/5000]: 100%|██████████| 10/10 [00:00<00:00, 323.64it/s, loss=0.861]\n"
     ]
    },
    {
     "name": "stdout",
     "output_type": "stream",
     "text": [
      "Epoch [981/5000]: Train loss: 0.9773, Valid loss: 0.9592\n"
     ]
    },
    {
     "name": "stderr",
     "output_type": "stream",
     "text": [
      "Epoch [982/5000]: 100%|██████████| 10/10 [00:00<00:00, 286.57it/s, loss=0.98]\n"
     ]
    },
    {
     "name": "stdout",
     "output_type": "stream",
     "text": [
      "Epoch [982/5000]: Train loss: 0.9571, Valid loss: 0.9831\n"
     ]
    },
    {
     "name": "stderr",
     "output_type": "stream",
     "text": [
      "Epoch [983/5000]: 100%|██████████| 10/10 [00:00<00:00, 81.88it/s, loss=0.854]\n"
     ]
    },
    {
     "name": "stdout",
     "output_type": "stream",
     "text": [
      "Epoch [983/5000]: Train loss: 0.9548, Valid loss: 0.9541\n"
     ]
    },
    {
     "name": "stderr",
     "output_type": "stream",
     "text": [
      "Epoch [984/5000]: 100%|██████████| 10/10 [00:00<00:00, 323.68it/s, loss=1.13]\n"
     ]
    },
    {
     "name": "stdout",
     "output_type": "stream",
     "text": [
      "Epoch [984/5000]: Train loss: 0.9651, Valid loss: 0.9157\n"
     ]
    },
    {
     "name": "stderr",
     "output_type": "stream",
     "text": [
      "Epoch [985/5000]: 100%|██████████| 10/10 [00:00<00:00, 304.06it/s, loss=1.08]\n"
     ]
    },
    {
     "name": "stdout",
     "output_type": "stream",
     "text": [
      "Epoch [985/5000]: Train loss: 0.9603, Valid loss: 0.9298\n"
     ]
    },
    {
     "name": "stderr",
     "output_type": "stream",
     "text": [
      "Epoch [986/5000]: 100%|██████████| 10/10 [00:00<00:00, 316.50it/s, loss=1.18]\n"
     ]
    },
    {
     "name": "stdout",
     "output_type": "stream",
     "text": [
      "Epoch [986/5000]: Train loss: 0.9667, Valid loss: 1.0148\n"
     ]
    },
    {
     "name": "stderr",
     "output_type": "stream",
     "text": [
      "Epoch [987/5000]: 100%|██████████| 10/10 [00:00<00:00, 358.47it/s, loss=0.739]\n"
     ]
    },
    {
     "name": "stdout",
     "output_type": "stream",
     "text": [
      "Epoch [987/5000]: Train loss: 0.9392, Valid loss: 0.9721\n"
     ]
    },
    {
     "name": "stderr",
     "output_type": "stream",
     "text": [
      "Epoch [988/5000]: 100%|██████████| 10/10 [00:00<00:00, 263.45it/s, loss=0.728]\n"
     ]
    },
    {
     "name": "stdout",
     "output_type": "stream",
     "text": [
      "Epoch [988/5000]: Train loss: 0.9415, Valid loss: 0.9757\n"
     ]
    },
    {
     "name": "stderr",
     "output_type": "stream",
     "text": [
      "Epoch [989/5000]: 100%|██████████| 10/10 [00:00<00:00, 314.06it/s, loss=0.671]\n"
     ]
    },
    {
     "name": "stdout",
     "output_type": "stream",
     "text": [
      "Epoch [989/5000]: Train loss: 0.9407, Valid loss: 0.9474\n"
     ]
    },
    {
     "name": "stderr",
     "output_type": "stream",
     "text": [
      "Epoch [990/5000]: 100%|██████████| 10/10 [00:00<00:00, 304.44it/s, loss=0.953]\n"
     ]
    },
    {
     "name": "stdout",
     "output_type": "stream",
     "text": [
      "Epoch [990/5000]: Train loss: 0.9617, Valid loss: 1.0068\n"
     ]
    },
    {
     "name": "stderr",
     "output_type": "stream",
     "text": [
      "Epoch [991/5000]: 100%|██████████| 10/10 [00:00<00:00, 337.08it/s, loss=1.27]\n"
     ]
    },
    {
     "name": "stdout",
     "output_type": "stream",
     "text": [
      "Epoch [991/5000]: Train loss: 0.9749, Valid loss: 0.9065\n"
     ]
    },
    {
     "name": "stderr",
     "output_type": "stream",
     "text": [
      "Epoch [992/5000]: 100%|██████████| 10/10 [00:00<00:00, 323.74it/s, loss=0.893]\n"
     ]
    },
    {
     "name": "stdout",
     "output_type": "stream",
     "text": [
      "Epoch [992/5000]: Train loss: 0.9505, Valid loss: 1.0587\n"
     ]
    },
    {
     "name": "stderr",
     "output_type": "stream",
     "text": [
      "Epoch [993/5000]: 100%|██████████| 10/10 [00:00<00:00, 295.07it/s, loss=0.864]\n"
     ]
    },
    {
     "name": "stdout",
     "output_type": "stream",
     "text": [
      "Epoch [993/5000]: Train loss: 0.9457, Valid loss: 0.9671\n"
     ]
    },
    {
     "name": "stderr",
     "output_type": "stream",
     "text": [
      "Epoch [994/5000]: 100%|██████████| 10/10 [00:00<00:00, 337.81it/s, loss=0.647]\n"
     ]
    },
    {
     "name": "stdout",
     "output_type": "stream",
     "text": [
      "Epoch [994/5000]: Train loss: 0.9396, Valid loss: 0.9994\n"
     ]
    },
    {
     "name": "stderr",
     "output_type": "stream",
     "text": [
      "Epoch [995/5000]: 100%|██████████| 10/10 [00:00<00:00, 334.50it/s, loss=0.956]\n"
     ]
    },
    {
     "name": "stdout",
     "output_type": "stream",
     "text": [
      "Epoch [995/5000]: Train loss: 0.9490, Valid loss: 0.9580\n"
     ]
    },
    {
     "name": "stderr",
     "output_type": "stream",
     "text": [
      "Epoch [996/5000]: 100%|██████████| 10/10 [00:00<00:00, 312.59it/s, loss=0.725]\n"
     ]
    },
    {
     "name": "stdout",
     "output_type": "stream",
     "text": [
      "Epoch [996/5000]: Train loss: 0.9405, Valid loss: 0.9285\n"
     ]
    },
    {
     "name": "stderr",
     "output_type": "stream",
     "text": [
      "Epoch [997/5000]: 100%|██████████| 10/10 [00:00<00:00, 337.96it/s, loss=0.676]\n"
     ]
    },
    {
     "name": "stdout",
     "output_type": "stream",
     "text": [
      "Epoch [997/5000]: Train loss: 0.9400, Valid loss: 0.9123\n"
     ]
    },
    {
     "name": "stderr",
     "output_type": "stream",
     "text": [
      "Epoch [998/5000]: 100%|██████████| 10/10 [00:00<00:00, 334.55it/s, loss=0.847]\n"
     ]
    },
    {
     "name": "stdout",
     "output_type": "stream",
     "text": [
      "Epoch [998/5000]: Train loss: 0.9409, Valid loss: 0.9446\n"
     ]
    },
    {
     "name": "stderr",
     "output_type": "stream",
     "text": [
      "Epoch [999/5000]: 100%|██████████| 10/10 [00:00<00:00, 294.41it/s, loss=0.802]\n"
     ]
    },
    {
     "name": "stdout",
     "output_type": "stream",
     "text": [
      "Epoch [999/5000]: Train loss: 0.9410, Valid loss: 0.9579\n"
     ]
    },
    {
     "name": "stderr",
     "output_type": "stream",
     "text": [
      "Epoch [1000/5000]: 100%|██████████| 10/10 [00:00<00:00, 323.73it/s, loss=0.853]\n"
     ]
    },
    {
     "name": "stdout",
     "output_type": "stream",
     "text": [
      "Epoch [1000/5000]: Train loss: 0.9450, Valid loss: 0.9596\n"
     ]
    },
    {
     "name": "stderr",
     "output_type": "stream",
     "text": [
      "Epoch [1001/5000]: 100%|██████████| 10/10 [00:00<00:00, 334.43it/s, loss=0.981]\n"
     ]
    },
    {
     "name": "stdout",
     "output_type": "stream",
     "text": [
      "Epoch [1001/5000]: Train loss: 0.9640, Valid loss: 0.9751\n"
     ]
    },
    {
     "name": "stderr",
     "output_type": "stream",
     "text": [
      "Epoch [1002/5000]: 100%|██████████| 10/10 [00:00<00:00, 297.24it/s, loss=1.06]\n"
     ]
    },
    {
     "name": "stdout",
     "output_type": "stream",
     "text": [
      "Epoch [1002/5000]: Train loss: 0.9617, Valid loss: 0.9949\n"
     ]
    },
    {
     "name": "stderr",
     "output_type": "stream",
     "text": [
      "Epoch [1003/5000]: 100%|██████████| 10/10 [00:00<00:00, 295.26it/s, loss=0.958]\n"
     ]
    },
    {
     "name": "stdout",
     "output_type": "stream",
     "text": [
      "Epoch [1003/5000]: Train loss: 0.9659, Valid loss: 0.9361\n"
     ]
    },
    {
     "name": "stderr",
     "output_type": "stream",
     "text": [
      "Epoch [1004/5000]: 100%|██████████| 10/10 [00:00<00:00, 263.50it/s, loss=0.969]\n"
     ]
    },
    {
     "name": "stdout",
     "output_type": "stream",
     "text": [
      "Epoch [1004/5000]: Train loss: 0.9504, Valid loss: 0.9388\n"
     ]
    },
    {
     "name": "stderr",
     "output_type": "stream",
     "text": [
      "Epoch [1005/5000]: 100%|██████████| 10/10 [00:00<00:00, 266.13it/s, loss=0.805]\n"
     ]
    },
    {
     "name": "stdout",
     "output_type": "stream",
     "text": [
      "Epoch [1005/5000]: Train loss: 0.9497, Valid loss: 1.0188\n"
     ]
    },
    {
     "name": "stderr",
     "output_type": "stream",
     "text": [
      "Epoch [1006/5000]: 100%|██████████| 10/10 [00:00<00:00, 264.05it/s, loss=0.873]\n"
     ]
    },
    {
     "name": "stdout",
     "output_type": "stream",
     "text": [
      "Epoch [1006/5000]: Train loss: 0.9648, Valid loss: 0.8826\n",
      "Saving model with loss 0.883...\n"
     ]
    },
    {
     "name": "stderr",
     "output_type": "stream",
     "text": [
      "Epoch [1007/5000]: 100%|██████████| 10/10 [00:00<00:00, 273.46it/s, loss=0.781]\n"
     ]
    },
    {
     "name": "stdout",
     "output_type": "stream",
     "text": [
      "Epoch [1007/5000]: Train loss: 0.9590, Valid loss: 0.9532\n"
     ]
    },
    {
     "name": "stderr",
     "output_type": "stream",
     "text": [
      "Epoch [1008/5000]: 100%|██████████| 10/10 [00:00<00:00, 323.63it/s, loss=1.43]\n"
     ]
    },
    {
     "name": "stdout",
     "output_type": "stream",
     "text": [
      "Epoch [1008/5000]: Train loss: 0.9994, Valid loss: 0.9462\n"
     ]
    },
    {
     "name": "stderr",
     "output_type": "stream",
     "text": [
      "Epoch [1009/5000]: 100%|██████████| 10/10 [00:00<00:00, 294.30it/s, loss=1.35]\n"
     ]
    },
    {
     "name": "stdout",
     "output_type": "stream",
     "text": [
      "Epoch [1009/5000]: Train loss: 0.9853, Valid loss: 0.9243\n"
     ]
    },
    {
     "name": "stderr",
     "output_type": "stream",
     "text": [
      "Epoch [1010/5000]: 100%|██████████| 10/10 [00:00<00:00, 345.91it/s, loss=0.894]\n"
     ]
    },
    {
     "name": "stdout",
     "output_type": "stream",
     "text": [
      "Epoch [1010/5000]: Train loss: 0.9523, Valid loss: 0.9331\n"
     ]
    },
    {
     "name": "stderr",
     "output_type": "stream",
     "text": [
      "Epoch [1011/5000]: 100%|██████████| 10/10 [00:00<00:00, 300.41it/s, loss=0.902]\n"
     ]
    },
    {
     "name": "stdout",
     "output_type": "stream",
     "text": [
      "Epoch [1011/5000]: Train loss: 0.9475, Valid loss: 0.9709\n"
     ]
    },
    {
     "name": "stderr",
     "output_type": "stream",
     "text": [
      "Epoch [1012/5000]: 100%|██████████| 10/10 [00:00<00:00, 280.05it/s, loss=0.959]\n"
     ]
    },
    {
     "name": "stdout",
     "output_type": "stream",
     "text": [
      "Epoch [1012/5000]: Train loss: 0.9607, Valid loss: 0.9213\n"
     ]
    },
    {
     "name": "stderr",
     "output_type": "stream",
     "text": [
      "Epoch [1013/5000]: 100%|██████████| 10/10 [00:00<00:00, 286.74it/s, loss=1.4]\n"
     ]
    },
    {
     "name": "stdout",
     "output_type": "stream",
     "text": [
      "Epoch [1013/5000]: Train loss: 0.9782, Valid loss: 0.9408\n"
     ]
    },
    {
     "name": "stderr",
     "output_type": "stream",
     "text": [
      "Epoch [1014/5000]: 100%|██████████| 10/10 [00:00<00:00, 285.58it/s, loss=0.848]\n"
     ]
    },
    {
     "name": "stdout",
     "output_type": "stream",
     "text": [
      "Epoch [1014/5000]: Train loss: 0.9445, Valid loss: 0.9475\n"
     ]
    },
    {
     "name": "stderr",
     "output_type": "stream",
     "text": [
      "Epoch [1015/5000]: 100%|██████████| 10/10 [00:00<00:00, 278.04it/s, loss=0.828]\n"
     ]
    },
    {
     "name": "stdout",
     "output_type": "stream",
     "text": [
      "Epoch [1015/5000]: Train loss: 0.9407, Valid loss: 0.9081\n"
     ]
    },
    {
     "name": "stderr",
     "output_type": "stream",
     "text": [
      "Epoch [1016/5000]: 100%|██████████| 10/10 [00:00<00:00, 304.01it/s, loss=0.934]\n"
     ]
    },
    {
     "name": "stdout",
     "output_type": "stream",
     "text": [
      "Epoch [1016/5000]: Train loss: 0.9461, Valid loss: 0.9606\n"
     ]
    },
    {
     "name": "stderr",
     "output_type": "stream",
     "text": [
      "Epoch [1017/5000]: 100%|██████████| 10/10 [00:00<00:00, 299.93it/s, loss=0.958]\n"
     ]
    },
    {
     "name": "stdout",
     "output_type": "stream",
     "text": [
      "Epoch [1017/5000]: Train loss: 0.9525, Valid loss: 0.9429\n"
     ]
    },
    {
     "name": "stderr",
     "output_type": "stream",
     "text": [
      "Epoch [1018/5000]: 100%|██████████| 10/10 [00:00<00:00, 259.80it/s, loss=0.882]\n"
     ]
    },
    {
     "name": "stdout",
     "output_type": "stream",
     "text": [
      "Epoch [1018/5000]: Train loss: 0.9451, Valid loss: 0.9433\n"
     ]
    },
    {
     "name": "stderr",
     "output_type": "stream",
     "text": [
      "Epoch [1019/5000]: 100%|██████████| 10/10 [00:00<00:00, 290.93it/s, loss=0.779]\n"
     ]
    },
    {
     "name": "stdout",
     "output_type": "stream",
     "text": [
      "Epoch [1019/5000]: Train loss: 0.9363, Valid loss: 0.9715\n"
     ]
    },
    {
     "name": "stderr",
     "output_type": "stream",
     "text": [
      "Epoch [1020/5000]: 100%|██████████| 10/10 [00:00<00:00, 276.47it/s, loss=0.737]\n"
     ]
    },
    {
     "name": "stdout",
     "output_type": "stream",
     "text": [
      "Epoch [1020/5000]: Train loss: 0.9413, Valid loss: 0.9493\n"
     ]
    },
    {
     "name": "stderr",
     "output_type": "stream",
     "text": [
      "Epoch [1021/5000]: 100%|██████████| 10/10 [00:00<00:00, 263.80it/s, loss=0.846]\n"
     ]
    },
    {
     "name": "stdout",
     "output_type": "stream",
     "text": [
      "Epoch [1021/5000]: Train loss: 0.9411, Valid loss: 0.9274\n"
     ]
    },
    {
     "name": "stderr",
     "output_type": "stream",
     "text": [
      "Epoch [1022/5000]: 100%|██████████| 10/10 [00:00<00:00, 272.71it/s, loss=1.06]\n"
     ]
    },
    {
     "name": "stdout",
     "output_type": "stream",
     "text": [
      "Epoch [1022/5000]: Train loss: 0.9544, Valid loss: 0.9896\n"
     ]
    },
    {
     "name": "stderr",
     "output_type": "stream",
     "text": [
      "Epoch [1023/5000]: 100%|██████████| 10/10 [00:00<00:00, 312.73it/s, loss=1.02]\n"
     ]
    },
    {
     "name": "stdout",
     "output_type": "stream",
     "text": [
      "Epoch [1023/5000]: Train loss: 0.9522, Valid loss: 0.9519\n"
     ]
    },
    {
     "name": "stderr",
     "output_type": "stream",
     "text": [
      "Epoch [1024/5000]: 100%|██████████| 10/10 [00:00<00:00, 327.33it/s, loss=0.994]\n"
     ]
    },
    {
     "name": "stdout",
     "output_type": "stream",
     "text": [
      "Epoch [1024/5000]: Train loss: 0.9476, Valid loss: 0.9051\n"
     ]
    },
    {
     "name": "stderr",
     "output_type": "stream",
     "text": [
      "Epoch [1025/5000]: 100%|██████████| 10/10 [00:00<00:00, 278.32it/s, loss=1.08]\n"
     ]
    },
    {
     "name": "stdout",
     "output_type": "stream",
     "text": [
      "Epoch [1025/5000]: Train loss: 0.9623, Valid loss: 0.9837\n"
     ]
    },
    {
     "name": "stderr",
     "output_type": "stream",
     "text": [
      "Epoch [1026/5000]: 100%|██████████| 10/10 [00:00<00:00, 323.64it/s, loss=0.803]\n"
     ]
    },
    {
     "name": "stdout",
     "output_type": "stream",
     "text": [
      "Epoch [1026/5000]: Train loss: 0.9444, Valid loss: 0.9847\n"
     ]
    },
    {
     "name": "stderr",
     "output_type": "stream",
     "text": [
      "Epoch [1027/5000]: 100%|██████████| 10/10 [00:00<00:00, 306.60it/s, loss=0.741]\n"
     ]
    },
    {
     "name": "stdout",
     "output_type": "stream",
     "text": [
      "Epoch [1027/5000]: Train loss: 0.9439, Valid loss: 0.9805\n"
     ]
    },
    {
     "name": "stderr",
     "output_type": "stream",
     "text": [
      "Epoch [1028/5000]: 100%|██████████| 10/10 [00:00<00:00, 270.97it/s, loss=0.961]\n"
     ]
    },
    {
     "name": "stdout",
     "output_type": "stream",
     "text": [
      "Epoch [1028/5000]: Train loss: 0.9521, Valid loss: 0.9657\n"
     ]
    },
    {
     "name": "stderr",
     "output_type": "stream",
     "text": [
      "Epoch [1029/5000]: 100%|██████████| 10/10 [00:00<00:00, 312.63it/s, loss=0.784]\n"
     ]
    },
    {
     "name": "stdout",
     "output_type": "stream",
     "text": [
      "Epoch [1029/5000]: Train loss: 0.9379, Valid loss: 1.0041\n"
     ]
    },
    {
     "name": "stderr",
     "output_type": "stream",
     "text": [
      "Epoch [1030/5000]: 100%|██████████| 10/10 [00:00<00:00, 333.37it/s, loss=0.756]\n"
     ]
    },
    {
     "name": "stdout",
     "output_type": "stream",
     "text": [
      "Epoch [1030/5000]: Train loss: 0.9442, Valid loss: 0.9285\n"
     ]
    },
    {
     "name": "stderr",
     "output_type": "stream",
     "text": [
      "Epoch [1031/5000]: 100%|██████████| 10/10 [00:00<00:00, 254.77it/s, loss=0.908]\n"
     ]
    },
    {
     "name": "stdout",
     "output_type": "stream",
     "text": [
      "Epoch [1031/5000]: Train loss: 0.9495, Valid loss: 0.8935\n"
     ]
    },
    {
     "name": "stderr",
     "output_type": "stream",
     "text": [
      "Epoch [1032/5000]: 100%|██████████| 10/10 [00:00<00:00, 297.03it/s, loss=0.796]\n"
     ]
    },
    {
     "name": "stdout",
     "output_type": "stream",
     "text": [
      "Epoch [1032/5000]: Train loss: 0.9381, Valid loss: 0.9629\n"
     ]
    },
    {
     "name": "stderr",
     "output_type": "stream",
     "text": [
      "Epoch [1033/5000]: 100%|██████████| 10/10 [00:00<00:00, 313.58it/s, loss=1.11]\n"
     ]
    },
    {
     "name": "stdout",
     "output_type": "stream",
     "text": [
      "Epoch [1033/5000]: Train loss: 0.9644, Valid loss: 0.8943\n"
     ]
    },
    {
     "name": "stderr",
     "output_type": "stream",
     "text": [
      "Epoch [1034/5000]: 100%|██████████| 10/10 [00:00<00:00, 313.40it/s, loss=1.25]\n"
     ]
    },
    {
     "name": "stdout",
     "output_type": "stream",
     "text": [
      "Epoch [1034/5000]: Train loss: 0.9671, Valid loss: 1.0203\n"
     ]
    },
    {
     "name": "stderr",
     "output_type": "stream",
     "text": [
      "Epoch [1035/5000]: 100%|██████████| 10/10 [00:00<00:00, 328.18it/s, loss=0.7]\n"
     ]
    },
    {
     "name": "stdout",
     "output_type": "stream",
     "text": [
      "Epoch [1035/5000]: Train loss: 0.9379, Valid loss: 0.9329\n"
     ]
    },
    {
     "name": "stderr",
     "output_type": "stream",
     "text": [
      "Epoch [1036/5000]: 100%|██████████| 10/10 [00:00<00:00, 334.60it/s, loss=0.964]\n"
     ]
    },
    {
     "name": "stdout",
     "output_type": "stream",
     "text": [
      "Epoch [1036/5000]: Train loss: 0.9465, Valid loss: 0.9463\n"
     ]
    },
    {
     "name": "stderr",
     "output_type": "stream",
     "text": [
      "Epoch [1037/5000]: 100%|██████████| 10/10 [00:00<00:00, 322.81it/s, loss=0.924]\n"
     ]
    },
    {
     "name": "stdout",
     "output_type": "stream",
     "text": [
      "Epoch [1037/5000]: Train loss: 0.9424, Valid loss: 0.8945\n"
     ]
    },
    {
     "name": "stderr",
     "output_type": "stream",
     "text": [
      "Epoch [1038/5000]: 100%|██████████| 10/10 [00:00<00:00, 295.19it/s, loss=0.8]\n"
     ]
    },
    {
     "name": "stdout",
     "output_type": "stream",
     "text": [
      "Epoch [1038/5000]: Train loss: 0.9343, Valid loss: 0.9669\n"
     ]
    },
    {
     "name": "stderr",
     "output_type": "stream",
     "text": [
      "Epoch [1039/5000]: 100%|██████████| 10/10 [00:00<00:00, 295.14it/s, loss=1.21]\n"
     ]
    },
    {
     "name": "stdout",
     "output_type": "stream",
     "text": [
      "Epoch [1039/5000]: Train loss: 0.9693, Valid loss: 0.9859\n"
     ]
    },
    {
     "name": "stderr",
     "output_type": "stream",
     "text": [
      "Epoch [1040/5000]: 100%|██████████| 10/10 [00:00<00:00, 326.59it/s, loss=1.19]\n"
     ]
    },
    {
     "name": "stdout",
     "output_type": "stream",
     "text": [
      "Epoch [1040/5000]: Train loss: 0.9754, Valid loss: 0.9737\n"
     ]
    },
    {
     "name": "stderr",
     "output_type": "stream",
     "text": [
      "Epoch [1041/5000]: 100%|██████████| 10/10 [00:00<00:00, 298.98it/s, loss=1.06]\n"
     ]
    },
    {
     "name": "stdout",
     "output_type": "stream",
     "text": [
      "Epoch [1041/5000]: Train loss: 0.9637, Valid loss: 0.9238\n"
     ]
    },
    {
     "name": "stderr",
     "output_type": "stream",
     "text": [
      "Epoch [1042/5000]: 100%|██████████| 10/10 [00:00<00:00, 334.41it/s, loss=0.97]\n"
     ]
    },
    {
     "name": "stdout",
     "output_type": "stream",
     "text": [
      "Epoch [1042/5000]: Train loss: 0.9539, Valid loss: 0.9382\n"
     ]
    },
    {
     "name": "stderr",
     "output_type": "stream",
     "text": [
      "Epoch [1043/5000]: 100%|██████████| 10/10 [00:00<00:00, 327.04it/s, loss=0.931]\n"
     ]
    },
    {
     "name": "stdout",
     "output_type": "stream",
     "text": [
      "Epoch [1043/5000]: Train loss: 0.9520, Valid loss: 0.9579\n"
     ]
    },
    {
     "name": "stderr",
     "output_type": "stream",
     "text": [
      "Epoch [1044/5000]: 100%|██████████| 10/10 [00:00<00:00, 284.52it/s, loss=0.699]\n"
     ]
    },
    {
     "name": "stdout",
     "output_type": "stream",
     "text": [
      "Epoch [1044/5000]: Train loss: 0.9350, Valid loss: 0.9258\n"
     ]
    },
    {
     "name": "stderr",
     "output_type": "stream",
     "text": [
      "Epoch [1045/5000]: 100%|██████████| 10/10 [00:00<00:00, 322.87it/s, loss=0.878]\n"
     ]
    },
    {
     "name": "stdout",
     "output_type": "stream",
     "text": [
      "Epoch [1045/5000]: Train loss: 0.9365, Valid loss: 0.9651\n"
     ]
    },
    {
     "name": "stderr",
     "output_type": "stream",
     "text": [
      "Epoch [1046/5000]: 100%|██████████| 10/10 [00:00<00:00, 313.54it/s, loss=1.03]\n"
     ]
    },
    {
     "name": "stdout",
     "output_type": "stream",
     "text": [
      "Epoch [1046/5000]: Train loss: 0.9553, Valid loss: 0.9713\n"
     ]
    },
    {
     "name": "stderr",
     "output_type": "stream",
     "text": [
      "Epoch [1047/5000]: 100%|██████████| 10/10 [00:00<00:00, 295.07it/s, loss=1.08]\n"
     ]
    },
    {
     "name": "stdout",
     "output_type": "stream",
     "text": [
      "Epoch [1047/5000]: Train loss: 0.9536, Valid loss: 0.8645\n",
      "Saving model with loss 0.864...\n"
     ]
    },
    {
     "name": "stderr",
     "output_type": "stream",
     "text": [
      "Epoch [1048/5000]: 100%|██████████| 10/10 [00:00<00:00, 306.07it/s, loss=0.943]\n"
     ]
    },
    {
     "name": "stdout",
     "output_type": "stream",
     "text": [
      "Epoch [1048/5000]: Train loss: 0.9429, Valid loss: 0.8935\n"
     ]
    },
    {
     "name": "stderr",
     "output_type": "stream",
     "text": [
      "Epoch [1049/5000]: 100%|██████████| 10/10 [00:00<00:00, 300.41it/s, loss=1.28]\n"
     ]
    },
    {
     "name": "stdout",
     "output_type": "stream",
     "text": [
      "Epoch [1049/5000]: Train loss: 0.9730, Valid loss: 0.9301\n"
     ]
    },
    {
     "name": "stderr",
     "output_type": "stream",
     "text": [
      "Epoch [1050/5000]: 100%|██████████| 10/10 [00:00<00:00, 303.37it/s, loss=0.704]\n"
     ]
    },
    {
     "name": "stdout",
     "output_type": "stream",
     "text": [
      "Epoch [1050/5000]: Train loss: 0.9348, Valid loss: 0.9698\n"
     ]
    },
    {
     "name": "stderr",
     "output_type": "stream",
     "text": [
      "Epoch [1051/5000]: 100%|██████████| 10/10 [00:00<00:00, 338.46it/s, loss=1.16]\n"
     ]
    },
    {
     "name": "stdout",
     "output_type": "stream",
     "text": [
      "Epoch [1051/5000]: Train loss: 0.9649, Valid loss: 0.9607\n"
     ]
    },
    {
     "name": "stderr",
     "output_type": "stream",
     "text": [
      "Epoch [1052/5000]: 100%|██████████| 10/10 [00:00<00:00, 334.56it/s, loss=0.769]\n"
     ]
    },
    {
     "name": "stdout",
     "output_type": "stream",
     "text": [
      "Epoch [1052/5000]: Train loss: 0.9371, Valid loss: 0.9511\n"
     ]
    },
    {
     "name": "stderr",
     "output_type": "stream",
     "text": [
      "Epoch [1053/5000]: 100%|██████████| 10/10 [00:00<00:00, 300.63it/s, loss=1.08]\n"
     ]
    },
    {
     "name": "stdout",
     "output_type": "stream",
     "text": [
      "Epoch [1053/5000]: Train loss: 0.9633, Valid loss: 0.9018\n"
     ]
    },
    {
     "name": "stderr",
     "output_type": "stream",
     "text": [
      "Epoch [1054/5000]: 100%|██████████| 10/10 [00:00<00:00, 308.68it/s, loss=0.873]\n"
     ]
    },
    {
     "name": "stdout",
     "output_type": "stream",
     "text": [
      "Epoch [1054/5000]: Train loss: 0.9542, Valid loss: 0.9898\n"
     ]
    },
    {
     "name": "stderr",
     "output_type": "stream",
     "text": [
      "Epoch [1055/5000]: 100%|██████████| 10/10 [00:00<00:00, 334.36it/s, loss=0.762]\n"
     ]
    },
    {
     "name": "stdout",
     "output_type": "stream",
     "text": [
      "Epoch [1055/5000]: Train loss: 0.9353, Valid loss: 0.9368\n"
     ]
    },
    {
     "name": "stderr",
     "output_type": "stream",
     "text": [
      "Epoch [1056/5000]: 100%|██████████| 10/10 [00:00<00:00, 326.11it/s, loss=0.847]\n"
     ]
    },
    {
     "name": "stdout",
     "output_type": "stream",
     "text": [
      "Epoch [1056/5000]: Train loss: 0.9387, Valid loss: 0.9200\n"
     ]
    },
    {
     "name": "stderr",
     "output_type": "stream",
     "text": [
      "Epoch [1057/5000]: 100%|██████████| 10/10 [00:00<00:00, 304.07it/s, loss=0.999]\n"
     ]
    },
    {
     "name": "stdout",
     "output_type": "stream",
     "text": [
      "Epoch [1057/5000]: Train loss: 0.9427, Valid loss: 0.9037\n"
     ]
    },
    {
     "name": "stderr",
     "output_type": "stream",
     "text": [
      "Epoch [1058/5000]: 100%|██████████| 10/10 [00:00<00:00, 334.33it/s, loss=1.37]\n"
     ]
    },
    {
     "name": "stdout",
     "output_type": "stream",
     "text": [
      "Epoch [1058/5000]: Train loss: 0.9720, Valid loss: 0.9663\n"
     ]
    },
    {
     "name": "stderr",
     "output_type": "stream",
     "text": [
      "Epoch [1059/5000]: 100%|██████████| 10/10 [00:00<00:00, 325.97it/s, loss=0.963]\n"
     ]
    },
    {
     "name": "stdout",
     "output_type": "stream",
     "text": [
      "Epoch [1059/5000]: Train loss: 0.9477, Valid loss: 0.9246\n"
     ]
    },
    {
     "name": "stderr",
     "output_type": "stream",
     "text": [
      "Epoch [1060/5000]: 100%|██████████| 10/10 [00:00<00:00, 313.63it/s, loss=0.985]\n"
     ]
    },
    {
     "name": "stdout",
     "output_type": "stream",
     "text": [
      "Epoch [1060/5000]: Train loss: 0.9504, Valid loss: 0.8858\n"
     ]
    },
    {
     "name": "stderr",
     "output_type": "stream",
     "text": [
      "Epoch [1061/5000]: 100%|██████████| 10/10 [00:00<00:00, 333.37it/s, loss=0.716]\n"
     ]
    },
    {
     "name": "stdout",
     "output_type": "stream",
     "text": [
      "Epoch [1061/5000]: Train loss: 0.9295, Valid loss: 0.9705\n"
     ]
    },
    {
     "name": "stderr",
     "output_type": "stream",
     "text": [
      "Epoch [1062/5000]: 100%|██████████| 10/10 [00:00<00:00, 326.75it/s, loss=0.691]\n"
     ]
    },
    {
     "name": "stdout",
     "output_type": "stream",
     "text": [
      "Epoch [1062/5000]: Train loss: 0.9313, Valid loss: 0.9687\n"
     ]
    },
    {
     "name": "stderr",
     "output_type": "stream",
     "text": [
      "Epoch [1063/5000]: 100%|██████████| 10/10 [00:00<00:00, 286.70it/s, loss=1.13]\n"
     ]
    },
    {
     "name": "stdout",
     "output_type": "stream",
     "text": [
      "Epoch [1063/5000]: Train loss: 0.9519, Valid loss: 0.9260\n"
     ]
    },
    {
     "name": "stderr",
     "output_type": "stream",
     "text": [
      "Epoch [1064/5000]: 100%|██████████| 10/10 [00:00<00:00, 322.73it/s, loss=1.43]\n"
     ]
    },
    {
     "name": "stdout",
     "output_type": "stream",
     "text": [
      "Epoch [1064/5000]: Train loss: 0.9888, Valid loss: 0.9856\n"
     ]
    },
    {
     "name": "stderr",
     "output_type": "stream",
     "text": [
      "Epoch [1065/5000]: 100%|██████████| 10/10 [00:00<00:00, 286.63it/s, loss=0.815]\n"
     ]
    },
    {
     "name": "stdout",
     "output_type": "stream",
     "text": [
      "Epoch [1065/5000]: Train loss: 0.9433, Valid loss: 0.9240\n"
     ]
    },
    {
     "name": "stderr",
     "output_type": "stream",
     "text": [
      "Epoch [1066/5000]: 100%|██████████| 10/10 [00:00<00:00, 323.59it/s, loss=0.836]\n"
     ]
    },
    {
     "name": "stdout",
     "output_type": "stream",
     "text": [
      "Epoch [1066/5000]: Train loss: 0.9341, Valid loss: 0.8749\n"
     ]
    },
    {
     "name": "stderr",
     "output_type": "stream",
     "text": [
      "Epoch [1067/5000]: 100%|██████████| 10/10 [00:00<00:00, 288.34it/s, loss=1.12]\n"
     ]
    },
    {
     "name": "stdout",
     "output_type": "stream",
     "text": [
      "Epoch [1067/5000]: Train loss: 0.9502, Valid loss: 0.9419\n"
     ]
    },
    {
     "name": "stderr",
     "output_type": "stream",
     "text": [
      "Epoch [1068/5000]: 100%|██████████| 10/10 [00:00<00:00, 233.38it/s, loss=0.735]\n"
     ]
    },
    {
     "name": "stdout",
     "output_type": "stream",
     "text": [
      "Epoch [1068/5000]: Train loss: 0.9300, Valid loss: 0.9283\n"
     ]
    },
    {
     "name": "stderr",
     "output_type": "stream",
     "text": [
      "Epoch [1069/5000]: 100%|██████████| 10/10 [00:00<00:00, 63.59it/s, loss=0.792]\n"
     ]
    },
    {
     "name": "stdout",
     "output_type": "stream",
     "text": [
      "Epoch [1069/5000]: Train loss: 0.9308, Valid loss: 0.9966\n"
     ]
    },
    {
     "name": "stderr",
     "output_type": "stream",
     "text": [
      "Epoch [1070/5000]: 100%|██████████| 10/10 [00:00<00:00, 218.17it/s, loss=0.761]\n"
     ]
    },
    {
     "name": "stdout",
     "output_type": "stream",
     "text": [
      "Epoch [1070/5000]: Train loss: 0.9406, Valid loss: 0.9063\n"
     ]
    },
    {
     "name": "stderr",
     "output_type": "stream",
     "text": [
      "Epoch [1071/5000]: 100%|██████████| 10/10 [00:00<00:00, 280.40it/s, loss=1.19]\n"
     ]
    },
    {
     "name": "stdout",
     "output_type": "stream",
     "text": [
      "Epoch [1071/5000]: Train loss: 0.9597, Valid loss: 0.9618\n"
     ]
    },
    {
     "name": "stderr",
     "output_type": "stream",
     "text": [
      "Epoch [1072/5000]: 100%|██████████| 10/10 [00:00<00:00, 250.79it/s, loss=0.884]\n"
     ]
    },
    {
     "name": "stdout",
     "output_type": "stream",
     "text": [
      "Epoch [1072/5000]: Train loss: 0.9436, Valid loss: 0.9592\n"
     ]
    },
    {
     "name": "stderr",
     "output_type": "stream",
     "text": [
      "Epoch [1073/5000]: 100%|██████████| 10/10 [00:00<00:00, 280.74it/s, loss=1.27]\n"
     ]
    },
    {
     "name": "stdout",
     "output_type": "stream",
     "text": [
      "Epoch [1073/5000]: Train loss: 0.9613, Valid loss: 0.9376\n"
     ]
    },
    {
     "name": "stderr",
     "output_type": "stream",
     "text": [
      "Epoch [1074/5000]: 100%|██████████| 10/10 [00:00<00:00, 269.25it/s, loss=0.98]\n"
     ]
    },
    {
     "name": "stdout",
     "output_type": "stream",
     "text": [
      "Epoch [1074/5000]: Train loss: 0.9518, Valid loss: 0.9636\n"
     ]
    },
    {
     "name": "stderr",
     "output_type": "stream",
     "text": [
      "Epoch [1075/5000]: 100%|██████████| 10/10 [00:00<00:00, 238.54it/s, loss=1.02]\n"
     ]
    },
    {
     "name": "stdout",
     "output_type": "stream",
     "text": [
      "Epoch [1075/5000]: Train loss: 0.9452, Valid loss: 0.9385\n"
     ]
    },
    {
     "name": "stderr",
     "output_type": "stream",
     "text": [
      "Epoch [1076/5000]: 100%|██████████| 10/10 [00:00<00:00, 286.75it/s, loss=1.14]\n"
     ]
    },
    {
     "name": "stdout",
     "output_type": "stream",
     "text": [
      "Epoch [1076/5000]: Train loss: 0.9511, Valid loss: 0.9252\n"
     ]
    },
    {
     "name": "stderr",
     "output_type": "stream",
     "text": [
      "Epoch [1077/5000]: 100%|██████████| 10/10 [00:00<00:00, 257.19it/s, loss=0.837]\n"
     ]
    },
    {
     "name": "stdout",
     "output_type": "stream",
     "text": [
      "Epoch [1077/5000]: Train loss: 0.9676, Valid loss: 0.9519\n"
     ]
    },
    {
     "name": "stderr",
     "output_type": "stream",
     "text": [
      "Epoch [1078/5000]: 100%|██████████| 10/10 [00:00<00:00, 273.63it/s, loss=0.749]\n"
     ]
    },
    {
     "name": "stdout",
     "output_type": "stream",
     "text": [
      "Epoch [1078/5000]: Train loss: 0.9669, Valid loss: 0.9458\n"
     ]
    },
    {
     "name": "stderr",
     "output_type": "stream",
     "text": [
      "Epoch [1079/5000]: 100%|██████████| 10/10 [00:00<00:00, 233.58it/s, loss=0.613]\n"
     ]
    },
    {
     "name": "stdout",
     "output_type": "stream",
     "text": [
      "Epoch [1079/5000]: Train loss: 0.9189, Valid loss: 0.9426\n"
     ]
    },
    {
     "name": "stderr",
     "output_type": "stream",
     "text": [
      "Epoch [1080/5000]: 100%|██████████| 10/10 [00:00<00:00, 265.46it/s, loss=1.01]\n"
     ]
    },
    {
     "name": "stdout",
     "output_type": "stream",
     "text": [
      "Epoch [1080/5000]: Train loss: 0.9445, Valid loss: 0.8858\n"
     ]
    },
    {
     "name": "stderr",
     "output_type": "stream",
     "text": [
      "Epoch [1081/5000]: 100%|██████████| 10/10 [00:00<00:00, 238.89it/s, loss=0.714]\n"
     ]
    },
    {
     "name": "stdout",
     "output_type": "stream",
     "text": [
      "Epoch [1081/5000]: Train loss: 0.9262, Valid loss: 0.9941\n"
     ]
    },
    {
     "name": "stderr",
     "output_type": "stream",
     "text": [
      "Epoch [1082/5000]: 100%|██████████| 10/10 [00:00<00:00, 205.69it/s, loss=0.67]\n"
     ]
    },
    {
     "name": "stdout",
     "output_type": "stream",
     "text": [
      "Epoch [1082/5000]: Train loss: 0.9311, Valid loss: 0.9411\n"
     ]
    },
    {
     "name": "stderr",
     "output_type": "stream",
     "text": [
      "Epoch [1083/5000]: 100%|██████████| 10/10 [00:00<00:00, 200.62it/s, loss=0.872]\n"
     ]
    },
    {
     "name": "stdout",
     "output_type": "stream",
     "text": [
      "Epoch [1083/5000]: Train loss: 0.9392, Valid loss: 0.8883\n"
     ]
    },
    {
     "name": "stderr",
     "output_type": "stream",
     "text": [
      "Epoch [1084/5000]: 100%|██████████| 10/10 [00:00<00:00, 229.67it/s, loss=0.972]\n"
     ]
    },
    {
     "name": "stdout",
     "output_type": "stream",
     "text": [
      "Epoch [1084/5000]: Train loss: 0.9429, Valid loss: 0.9531\n"
     ]
    },
    {
     "name": "stderr",
     "output_type": "stream",
     "text": [
      "Epoch [1085/5000]: 100%|██████████| 10/10 [00:00<00:00, 217.69it/s, loss=1.29]\n"
     ]
    },
    {
     "name": "stdout",
     "output_type": "stream",
     "text": [
      "Epoch [1085/5000]: Train loss: 0.9694, Valid loss: 0.9350\n"
     ]
    },
    {
     "name": "stderr",
     "output_type": "stream",
     "text": [
      "Epoch [1086/5000]: 100%|██████████| 10/10 [00:00<00:00, 233.27it/s, loss=0.732]\n"
     ]
    },
    {
     "name": "stdout",
     "output_type": "stream",
     "text": [
      "Epoch [1086/5000]: Train loss: 0.9423, Valid loss: 0.9639\n"
     ]
    },
    {
     "name": "stderr",
     "output_type": "stream",
     "text": [
      "Epoch [1087/5000]: 100%|██████████| 10/10 [00:00<00:00, 236.20it/s, loss=1.26]\n"
     ]
    },
    {
     "name": "stdout",
     "output_type": "stream",
     "text": [
      "Epoch [1087/5000]: Train loss: 0.9663, Valid loss: 0.9458\n"
     ]
    },
    {
     "name": "stderr",
     "output_type": "stream",
     "text": [
      "Epoch [1088/5000]: 100%|██████████| 10/10 [00:00<00:00, 285.97it/s, loss=0.844]\n"
     ]
    },
    {
     "name": "stdout",
     "output_type": "stream",
     "text": [
      "Epoch [1088/5000]: Train loss: 0.9333, Valid loss: 0.9009\n"
     ]
    },
    {
     "name": "stderr",
     "output_type": "stream",
     "text": [
      "Epoch [1089/5000]: 100%|██████████| 10/10 [00:00<00:00, 264.25it/s, loss=1.05]\n"
     ]
    },
    {
     "name": "stdout",
     "output_type": "stream",
     "text": [
      "Epoch [1089/5000]: Train loss: 0.9460, Valid loss: 0.9276\n"
     ]
    },
    {
     "name": "stderr",
     "output_type": "stream",
     "text": [
      "Epoch [1090/5000]: 100%|██████████| 10/10 [00:00<00:00, 219.63it/s, loss=1.07]\n"
     ]
    },
    {
     "name": "stdout",
     "output_type": "stream",
     "text": [
      "Epoch [1090/5000]: Train loss: 0.9497, Valid loss: 0.8982\n"
     ]
    },
    {
     "name": "stderr",
     "output_type": "stream",
     "text": [
      "Epoch [1091/5000]: 100%|██████████| 10/10 [00:00<00:00, 250.27it/s, loss=0.807]\n"
     ]
    },
    {
     "name": "stdout",
     "output_type": "stream",
     "text": [
      "Epoch [1091/5000]: Train loss: 0.9282, Valid loss: 0.9179\n"
     ]
    },
    {
     "name": "stderr",
     "output_type": "stream",
     "text": [
      "Epoch [1092/5000]: 100%|██████████| 10/10 [00:00<00:00, 219.67it/s, loss=0.682]\n"
     ]
    },
    {
     "name": "stdout",
     "output_type": "stream",
     "text": [
      "Epoch [1092/5000]: Train loss: 0.9214, Valid loss: 0.8882\n"
     ]
    },
    {
     "name": "stderr",
     "output_type": "stream",
     "text": [
      "Epoch [1093/5000]: 100%|██████████| 10/10 [00:00<00:00, 202.02it/s, loss=0.945]\n"
     ]
    },
    {
     "name": "stdout",
     "output_type": "stream",
     "text": [
      "Epoch [1093/5000]: Train loss: 0.9387, Valid loss: 0.9054\n"
     ]
    },
    {
     "name": "stderr",
     "output_type": "stream",
     "text": [
      "Epoch [1094/5000]: 100%|██████████| 10/10 [00:00<00:00, 244.53it/s, loss=0.777]\n"
     ]
    },
    {
     "name": "stdout",
     "output_type": "stream",
     "text": [
      "Epoch [1094/5000]: Train loss: 0.9311, Valid loss: 0.9138\n"
     ]
    },
    {
     "name": "stderr",
     "output_type": "stream",
     "text": [
      "Epoch [1095/5000]: 100%|██████████| 10/10 [00:00<00:00, 229.61it/s, loss=1.21]\n"
     ]
    },
    {
     "name": "stdout",
     "output_type": "stream",
     "text": [
      "Epoch [1095/5000]: Train loss: 0.9565, Valid loss: 0.9907\n"
     ]
    },
    {
     "name": "stderr",
     "output_type": "stream",
     "text": [
      "Epoch [1096/5000]: 100%|██████████| 10/10 [00:00<00:00, 238.85it/s, loss=0.885]\n"
     ]
    },
    {
     "name": "stdout",
     "output_type": "stream",
     "text": [
      "Epoch [1096/5000]: Train loss: 0.9361, Valid loss: 0.9951\n"
     ]
    },
    {
     "name": "stderr",
     "output_type": "stream",
     "text": [
      "Epoch [1097/5000]: 100%|██████████| 10/10 [00:00<00:00, 222.14it/s, loss=0.802]\n"
     ]
    },
    {
     "name": "stdout",
     "output_type": "stream",
     "text": [
      "Epoch [1097/5000]: Train loss: 0.9253, Valid loss: 1.0005\n"
     ]
    },
    {
     "name": "stderr",
     "output_type": "stream",
     "text": [
      "Epoch [1098/5000]: 100%|██████████| 10/10 [00:00<00:00, 241.90it/s, loss=0.845]\n"
     ]
    },
    {
     "name": "stdout",
     "output_type": "stream",
     "text": [
      "Epoch [1098/5000]: Train loss: 0.9308, Valid loss: 0.9089\n"
     ]
    },
    {
     "name": "stderr",
     "output_type": "stream",
     "text": [
      "Epoch [1099/5000]: 100%|██████████| 10/10 [00:00<00:00, 209.85it/s, loss=0.78]\n"
     ]
    },
    {
     "name": "stdout",
     "output_type": "stream",
     "text": [
      "Epoch [1099/5000]: Train loss: 0.9285, Valid loss: 0.9856\n"
     ]
    },
    {
     "name": "stderr",
     "output_type": "stream",
     "text": [
      "Epoch [1100/5000]: 100%|██████████| 10/10 [00:00<00:00, 250.75it/s, loss=1.24]\n"
     ]
    },
    {
     "name": "stdout",
     "output_type": "stream",
     "text": [
      "Epoch [1100/5000]: Train loss: 0.9619, Valid loss: 0.9696\n"
     ]
    },
    {
     "name": "stderr",
     "output_type": "stream",
     "text": [
      "Epoch [1101/5000]: 100%|██████████| 10/10 [00:00<00:00, 252.11it/s, loss=0.945]\n"
     ]
    },
    {
     "name": "stdout",
     "output_type": "stream",
     "text": [
      "Epoch [1101/5000]: Train loss: 0.9448, Valid loss: 0.9160\n"
     ]
    },
    {
     "name": "stderr",
     "output_type": "stream",
     "text": [
      "Epoch [1102/5000]: 100%|██████████| 10/10 [00:00<00:00, 286.68it/s, loss=0.817]\n"
     ]
    },
    {
     "name": "stdout",
     "output_type": "stream",
     "text": [
      "Epoch [1102/5000]: Train loss: 0.9322, Valid loss: 0.9678\n"
     ]
    },
    {
     "name": "stderr",
     "output_type": "stream",
     "text": [
      "Epoch [1103/5000]: 100%|██████████| 10/10 [00:00<00:00, 285.73it/s, loss=0.856]\n"
     ]
    },
    {
     "name": "stdout",
     "output_type": "stream",
     "text": [
      "Epoch [1103/5000]: Train loss: 0.9341, Valid loss: 0.9854\n"
     ]
    },
    {
     "name": "stderr",
     "output_type": "stream",
     "text": [
      "Epoch [1104/5000]: 100%|██████████| 10/10 [00:00<00:00, 210.45it/s, loss=1]\n"
     ]
    },
    {
     "name": "stdout",
     "output_type": "stream",
     "text": [
      "Epoch [1104/5000]: Train loss: 0.9579, Valid loss: 0.9341\n"
     ]
    },
    {
     "name": "stderr",
     "output_type": "stream",
     "text": [
      "Epoch [1105/5000]: 100%|██████████| 10/10 [00:00<00:00, 152.92it/s, loss=0.999]\n"
     ]
    },
    {
     "name": "stdout",
     "output_type": "stream",
     "text": [
      "Epoch [1105/5000]: Train loss: 0.9450, Valid loss: 0.8745\n"
     ]
    },
    {
     "name": "stderr",
     "output_type": "stream",
     "text": [
      "Epoch [1106/5000]: 100%|██████████| 10/10 [00:00<00:00, 248.97it/s, loss=0.653]\n"
     ]
    },
    {
     "name": "stdout",
     "output_type": "stream",
     "text": [
      "Epoch [1106/5000]: Train loss: 0.9258, Valid loss: 0.9424\n"
     ]
    },
    {
     "name": "stderr",
     "output_type": "stream",
     "text": [
      "Epoch [1107/5000]: 100%|██████████| 10/10 [00:00<00:00, 273.06it/s, loss=0.902]\n"
     ]
    },
    {
     "name": "stdout",
     "output_type": "stream",
     "text": [
      "Epoch [1107/5000]: Train loss: 0.9428, Valid loss: 0.9257\n"
     ]
    },
    {
     "name": "stderr",
     "output_type": "stream",
     "text": [
      "Epoch [1108/5000]: 100%|██████████| 10/10 [00:00<00:00, 286.82it/s, loss=1.2]\n"
     ]
    },
    {
     "name": "stdout",
     "output_type": "stream",
     "text": [
      "Epoch [1108/5000]: Train loss: 0.9642, Valid loss: 0.9331\n"
     ]
    },
    {
     "name": "stderr",
     "output_type": "stream",
     "text": [
      "Epoch [1109/5000]: 100%|██████████| 10/10 [00:00<00:00, 278.33it/s, loss=0.855]\n"
     ]
    },
    {
     "name": "stdout",
     "output_type": "stream",
     "text": [
      "Epoch [1109/5000]: Train loss: 0.9280, Valid loss: 0.9220\n"
     ]
    },
    {
     "name": "stderr",
     "output_type": "stream",
     "text": [
      "Epoch [1110/5000]: 100%|██████████| 10/10 [00:00<00:00, 250.80it/s, loss=1.23]\n"
     ]
    },
    {
     "name": "stdout",
     "output_type": "stream",
     "text": [
      "Epoch [1110/5000]: Train loss: 0.9577, Valid loss: 0.9105\n"
     ]
    },
    {
     "name": "stderr",
     "output_type": "stream",
     "text": [
      "Epoch [1111/5000]: 100%|██████████| 10/10 [00:00<00:00, 295.08it/s, loss=0.761]\n"
     ]
    },
    {
     "name": "stdout",
     "output_type": "stream",
     "text": [
      "Epoch [1111/5000]: Train loss: 0.9259, Valid loss: 0.8732\n"
     ]
    },
    {
     "name": "stderr",
     "output_type": "stream",
     "text": [
      "Epoch [1112/5000]: 100%|██████████| 10/10 [00:00<00:00, 261.53it/s, loss=0.942]\n"
     ]
    },
    {
     "name": "stdout",
     "output_type": "stream",
     "text": [
      "Epoch [1112/5000]: Train loss: 0.9363, Valid loss: 0.9725\n"
     ]
    },
    {
     "name": "stderr",
     "output_type": "stream",
     "text": [
      "Epoch [1113/5000]: 100%|██████████| 10/10 [00:00<00:00, 250.54it/s, loss=0.992]\n"
     ]
    },
    {
     "name": "stdout",
     "output_type": "stream",
     "text": [
      "Epoch [1113/5000]: Train loss: 0.9364, Valid loss: 0.9284\n"
     ]
    },
    {
     "name": "stderr",
     "output_type": "stream",
     "text": [
      "Epoch [1114/5000]: 100%|██████████| 10/10 [00:00<00:00, 266.15it/s, loss=0.91]\n"
     ]
    },
    {
     "name": "stdout",
     "output_type": "stream",
     "text": [
      "Epoch [1114/5000]: Train loss: 0.9379, Valid loss: 0.9284\n"
     ]
    },
    {
     "name": "stderr",
     "output_type": "stream",
     "text": [
      "Epoch [1115/5000]: 100%|██████████| 10/10 [00:00<00:00, 232.42it/s, loss=1.03]\n"
     ]
    },
    {
     "name": "stdout",
     "output_type": "stream",
     "text": [
      "Epoch [1115/5000]: Train loss: 0.9371, Valid loss: 0.9206\n"
     ]
    },
    {
     "name": "stderr",
     "output_type": "stream",
     "text": [
      "Epoch [1116/5000]: 100%|██████████| 10/10 [00:00<00:00, 289.11it/s, loss=0.875]\n"
     ]
    },
    {
     "name": "stdout",
     "output_type": "stream",
     "text": [
      "Epoch [1116/5000]: Train loss: 0.9291, Valid loss: 0.9520\n"
     ]
    },
    {
     "name": "stderr",
     "output_type": "stream",
     "text": [
      "Epoch [1117/5000]: 100%|██████████| 10/10 [00:00<00:00, 238.99it/s, loss=0.802]\n"
     ]
    },
    {
     "name": "stdout",
     "output_type": "stream",
     "text": [
      "Epoch [1117/5000]: Train loss: 0.9331, Valid loss: 0.9061\n"
     ]
    },
    {
     "name": "stderr",
     "output_type": "stream",
     "text": [
      "Epoch [1118/5000]: 100%|██████████| 10/10 [00:00<00:00, 296.47it/s, loss=1.1]\n"
     ]
    },
    {
     "name": "stdout",
     "output_type": "stream",
     "text": [
      "Epoch [1118/5000]: Train loss: 0.9420, Valid loss: 0.9321\n"
     ]
    },
    {
     "name": "stderr",
     "output_type": "stream",
     "text": [
      "Epoch [1119/5000]: 100%|██████████| 10/10 [00:00<00:00, 263.96it/s, loss=0.774]\n"
     ]
    },
    {
     "name": "stdout",
     "output_type": "stream",
     "text": [
      "Epoch [1119/5000]: Train loss: 0.9315, Valid loss: 0.8805\n"
     ]
    },
    {
     "name": "stderr",
     "output_type": "stream",
     "text": [
      "Epoch [1120/5000]: 100%|██████████| 10/10 [00:00<00:00, 250.26it/s, loss=0.946]\n"
     ]
    },
    {
     "name": "stdout",
     "output_type": "stream",
     "text": [
      "Epoch [1120/5000]: Train loss: 0.9334, Valid loss: 0.9143\n"
     ]
    },
    {
     "name": "stderr",
     "output_type": "stream",
     "text": [
      "Epoch [1121/5000]: 100%|██████████| 10/10 [00:00<00:00, 294.38it/s, loss=0.874]\n"
     ]
    },
    {
     "name": "stdout",
     "output_type": "stream",
     "text": [
      "Epoch [1121/5000]: Train loss: 0.9328, Valid loss: 0.9314\n"
     ]
    },
    {
     "name": "stderr",
     "output_type": "stream",
     "text": [
      "Epoch [1122/5000]: 100%|██████████| 10/10 [00:00<00:00, 222.72it/s, loss=0.789]\n"
     ]
    },
    {
     "name": "stdout",
     "output_type": "stream",
     "text": [
      "Epoch [1122/5000]: Train loss: 0.9247, Valid loss: 0.9144\n"
     ]
    },
    {
     "name": "stderr",
     "output_type": "stream",
     "text": [
      "Epoch [1123/5000]: 100%|██████████| 10/10 [00:00<00:00, 281.00it/s, loss=0.905]\n"
     ]
    },
    {
     "name": "stdout",
     "output_type": "stream",
     "text": [
      "Epoch [1123/5000]: Train loss: 0.9331, Valid loss: 0.9419\n"
     ]
    },
    {
     "name": "stderr",
     "output_type": "stream",
     "text": [
      "Epoch [1124/5000]: 100%|██████████| 10/10 [00:00<00:00, 295.10it/s, loss=1.02]\n"
     ]
    },
    {
     "name": "stdout",
     "output_type": "stream",
     "text": [
      "Epoch [1124/5000]: Train loss: 0.9510, Valid loss: 0.9335\n"
     ]
    },
    {
     "name": "stderr",
     "output_type": "stream",
     "text": [
      "Epoch [1125/5000]: 100%|██████████| 10/10 [00:00<00:00, 234.56it/s, loss=1.14]\n"
     ]
    },
    {
     "name": "stdout",
     "output_type": "stream",
     "text": [
      "Epoch [1125/5000]: Train loss: 0.9769, Valid loss: 0.9552\n"
     ]
    },
    {
     "name": "stderr",
     "output_type": "stream",
     "text": [
      "Epoch [1126/5000]: 100%|██████████| 10/10 [00:00<00:00, 260.54it/s, loss=0.805]\n"
     ]
    },
    {
     "name": "stdout",
     "output_type": "stream",
     "text": [
      "Epoch [1126/5000]: Train loss: 0.9365, Valid loss: 0.8978\n"
     ]
    },
    {
     "name": "stderr",
     "output_type": "stream",
     "text": [
      "Epoch [1127/5000]: 100%|██████████| 10/10 [00:00<00:00, 282.89it/s, loss=1.24]\n"
     ]
    },
    {
     "name": "stdout",
     "output_type": "stream",
     "text": [
      "Epoch [1127/5000]: Train loss: 0.9560, Valid loss: 0.8770\n"
     ]
    },
    {
     "name": "stderr",
     "output_type": "stream",
     "text": [
      "Epoch [1128/5000]: 100%|██████████| 10/10 [00:00<00:00, 233.56it/s, loss=1.16]\n"
     ]
    },
    {
     "name": "stdout",
     "output_type": "stream",
     "text": [
      "Epoch [1128/5000]: Train loss: 0.9521, Valid loss: 0.8935\n"
     ]
    },
    {
     "name": "stderr",
     "output_type": "stream",
     "text": [
      "Epoch [1129/5000]: 100%|██████████| 10/10 [00:00<00:00, 246.78it/s, loss=0.867]\n"
     ]
    },
    {
     "name": "stdout",
     "output_type": "stream",
     "text": [
      "Epoch [1129/5000]: Train loss: 0.9316, Valid loss: 0.8594\n",
      "Saving model with loss 0.859...\n"
     ]
    },
    {
     "name": "stderr",
     "output_type": "stream",
     "text": [
      "Epoch [1130/5000]: 100%|██████████| 10/10 [00:00<00:00, 237.85it/s, loss=1.08]\n"
     ]
    },
    {
     "name": "stdout",
     "output_type": "stream",
     "text": [
      "Epoch [1130/5000]: Train loss: 0.9411, Valid loss: 0.9090\n"
     ]
    },
    {
     "name": "stderr",
     "output_type": "stream",
     "text": [
      "Epoch [1131/5000]: 100%|██████████| 10/10 [00:00<00:00, 284.81it/s, loss=0.796]\n"
     ]
    },
    {
     "name": "stdout",
     "output_type": "stream",
     "text": [
      "Epoch [1131/5000]: Train loss: 0.9236, Valid loss: 0.9616\n"
     ]
    },
    {
     "name": "stderr",
     "output_type": "stream",
     "text": [
      "Epoch [1132/5000]: 100%|██████████| 10/10 [00:00<00:00, 240.46it/s, loss=0.924]\n"
     ]
    },
    {
     "name": "stdout",
     "output_type": "stream",
     "text": [
      "Epoch [1132/5000]: Train loss: 0.9377, Valid loss: 1.0112\n"
     ]
    },
    {
     "name": "stderr",
     "output_type": "stream",
     "text": [
      "Epoch [1133/5000]: 100%|██████████| 10/10 [00:00<00:00, 287.36it/s, loss=0.828]\n"
     ]
    },
    {
     "name": "stdout",
     "output_type": "stream",
     "text": [
      "Epoch [1133/5000]: Train loss: 0.9228, Valid loss: 0.8564\n",
      "Saving model with loss 0.856...\n"
     ]
    },
    {
     "name": "stderr",
     "output_type": "stream",
     "text": [
      "Epoch [1134/5000]: 100%|██████████| 10/10 [00:00<00:00, 259.26it/s, loss=0.719]\n"
     ]
    },
    {
     "name": "stdout",
     "output_type": "stream",
     "text": [
      "Epoch [1134/5000]: Train loss: 0.9169, Valid loss: 0.9070\n"
     ]
    },
    {
     "name": "stderr",
     "output_type": "stream",
     "text": [
      "Epoch [1135/5000]: 100%|██████████| 10/10 [00:00<00:00, 271.66it/s, loss=1.21]\n"
     ]
    },
    {
     "name": "stdout",
     "output_type": "stream",
     "text": [
      "Epoch [1135/5000]: Train loss: 0.9452, Valid loss: 0.9153\n"
     ]
    },
    {
     "name": "stderr",
     "output_type": "stream",
     "text": [
      "Epoch [1136/5000]: 100%|██████████| 10/10 [00:00<00:00, 288.36it/s, loss=0.773]\n"
     ]
    },
    {
     "name": "stdout",
     "output_type": "stream",
     "text": [
      "Epoch [1136/5000]: Train loss: 0.9240, Valid loss: 0.9146\n"
     ]
    },
    {
     "name": "stderr",
     "output_type": "stream",
     "text": [
      "Epoch [1137/5000]: 100%|██████████| 10/10 [00:00<00:00, 250.85it/s, loss=0.95]\n"
     ]
    },
    {
     "name": "stdout",
     "output_type": "stream",
     "text": [
      "Epoch [1137/5000]: Train loss: 0.9314, Valid loss: 0.8783\n"
     ]
    },
    {
     "name": "stderr",
     "output_type": "stream",
     "text": [
      "Epoch [1138/5000]: 100%|██████████| 10/10 [00:00<00:00, 303.11it/s, loss=0.919]\n"
     ]
    },
    {
     "name": "stdout",
     "output_type": "stream",
     "text": [
      "Epoch [1138/5000]: Train loss: 0.9335, Valid loss: 0.9401\n"
     ]
    },
    {
     "name": "stderr",
     "output_type": "stream",
     "text": [
      "Epoch [1139/5000]: 100%|██████████| 10/10 [00:00<00:00, 295.26it/s, loss=0.844]\n"
     ]
    },
    {
     "name": "stdout",
     "output_type": "stream",
     "text": [
      "Epoch [1139/5000]: Train loss: 0.9445, Valid loss: 0.9913\n"
     ]
    },
    {
     "name": "stderr",
     "output_type": "stream",
     "text": [
      "Epoch [1140/5000]: 100%|██████████| 10/10 [00:00<00:00, 264.34it/s, loss=1.09]\n"
     ]
    },
    {
     "name": "stdout",
     "output_type": "stream",
     "text": [
      "Epoch [1140/5000]: Train loss: 0.9699, Valid loss: 0.8994\n"
     ]
    },
    {
     "name": "stderr",
     "output_type": "stream",
     "text": [
      "Epoch [1141/5000]: 100%|██████████| 10/10 [00:00<00:00, 252.79it/s, loss=0.935]\n"
     ]
    },
    {
     "name": "stdout",
     "output_type": "stream",
     "text": [
      "Epoch [1141/5000]: Train loss: 0.9413, Valid loss: 0.9195\n"
     ]
    },
    {
     "name": "stderr",
     "output_type": "stream",
     "text": [
      "Epoch [1142/5000]: 100%|██████████| 10/10 [00:00<00:00, 334.71it/s, loss=0.85]\n"
     ]
    },
    {
     "name": "stdout",
     "output_type": "stream",
     "text": [
      "Epoch [1142/5000]: Train loss: 0.9516, Valid loss: 0.8907\n"
     ]
    },
    {
     "name": "stderr",
     "output_type": "stream",
     "text": [
      "Epoch [1143/5000]: 100%|██████████| 10/10 [00:00<00:00, 315.67it/s, loss=0.927]\n"
     ]
    },
    {
     "name": "stdout",
     "output_type": "stream",
     "text": [
      "Epoch [1143/5000]: Train loss: 0.9373, Valid loss: 0.9384\n"
     ]
    },
    {
     "name": "stderr",
     "output_type": "stream",
     "text": [
      "Epoch [1144/5000]: 100%|██████████| 10/10 [00:00<00:00, 323.65it/s, loss=1.2]\n"
     ]
    },
    {
     "name": "stdout",
     "output_type": "stream",
     "text": [
      "Epoch [1144/5000]: Train loss: 0.9496, Valid loss: 0.9678\n"
     ]
    },
    {
     "name": "stderr",
     "output_type": "stream",
     "text": [
      "Epoch [1145/5000]: 100%|██████████| 10/10 [00:00<00:00, 323.66it/s, loss=1.1]\n"
     ]
    },
    {
     "name": "stdout",
     "output_type": "stream",
     "text": [
      "Epoch [1145/5000]: Train loss: 0.9494, Valid loss: 0.8541\n",
      "Saving model with loss 0.854...\n"
     ]
    },
    {
     "name": "stderr",
     "output_type": "stream",
     "text": [
      "Epoch [1146/5000]: 100%|██████████| 10/10 [00:00<00:00, 326.13it/s, loss=0.757]"
     ]
    },
    {
     "name": "stdout",
     "output_type": "stream",
     "text": [
      "Epoch [1146/5000]: Train loss: 0.9275, Valid loss: 0.9111\n"
     ]
    },
    {
     "name": "stderr",
     "output_type": "stream",
     "text": [
      "\n",
      "Epoch [1147/5000]: 100%|██████████| 10/10 [00:00<00:00, 313.60it/s, loss=1.04]\n"
     ]
    },
    {
     "name": "stdout",
     "output_type": "stream",
     "text": [
      "Epoch [1147/5000]: Train loss: 0.9380, Valid loss: 0.9249\n"
     ]
    },
    {
     "name": "stderr",
     "output_type": "stream",
     "text": [
      "Epoch [1148/5000]: 100%|██████████| 10/10 [00:00<00:00, 333.94it/s, loss=1.24]\n"
     ]
    },
    {
     "name": "stdout",
     "output_type": "stream",
     "text": [
      "Epoch [1148/5000]: Train loss: 0.9490, Valid loss: 0.8901\n"
     ]
    },
    {
     "name": "stderr",
     "output_type": "stream",
     "text": [
      "Epoch [1149/5000]: 100%|██████████| 10/10 [00:00<00:00, 306.90it/s, loss=0.773]\n"
     ]
    },
    {
     "name": "stdout",
     "output_type": "stream",
     "text": [
      "Epoch [1149/5000]: Train loss: 0.9206, Valid loss: 0.9396\n"
     ]
    },
    {
     "name": "stderr",
     "output_type": "stream",
     "text": [
      "Epoch [1150/5000]: 100%|██████████| 10/10 [00:00<00:00, 334.49it/s, loss=1.11]\n"
     ]
    },
    {
     "name": "stdout",
     "output_type": "stream",
     "text": [
      "Epoch [1150/5000]: Train loss: 0.9433, Valid loss: 0.8959\n"
     ]
    },
    {
     "name": "stderr",
     "output_type": "stream",
     "text": [
      "Epoch [1151/5000]: 100%|██████████| 10/10 [00:00<00:00, 322.81it/s, loss=0.955]\n"
     ]
    },
    {
     "name": "stdout",
     "output_type": "stream",
     "text": [
      "Epoch [1151/5000]: Train loss: 0.9481, Valid loss: 0.9341\n"
     ]
    },
    {
     "name": "stderr",
     "output_type": "stream",
     "text": [
      "Epoch [1152/5000]: 100%|██████████| 10/10 [00:00<00:00, 322.74it/s, loss=1.23]\n"
     ]
    },
    {
     "name": "stdout",
     "output_type": "stream",
     "text": [
      "Epoch [1152/5000]: Train loss: 0.9710, Valid loss: 0.9875\n"
     ]
    },
    {
     "name": "stderr",
     "output_type": "stream",
     "text": [
      "Epoch [1153/5000]: 100%|██████████| 10/10 [00:00<00:00, 323.37it/s, loss=1.58]\n"
     ]
    },
    {
     "name": "stdout",
     "output_type": "stream",
     "text": [
      "Epoch [1153/5000]: Train loss: 0.9825, Valid loss: 0.9159\n"
     ]
    },
    {
     "name": "stderr",
     "output_type": "stream",
     "text": [
      "Epoch [1154/5000]: 100%|██████████| 10/10 [00:00<00:00, 326.08it/s, loss=0.74]\n"
     ]
    },
    {
     "name": "stdout",
     "output_type": "stream",
     "text": [
      "Epoch [1154/5000]: Train loss: 0.9258, Valid loss: 0.9004\n"
     ]
    },
    {
     "name": "stderr",
     "output_type": "stream",
     "text": [
      "Epoch [1155/5000]: 100%|██████████| 10/10 [00:00<00:00, 78.52it/s, loss=0.829]\n"
     ]
    },
    {
     "name": "stdout",
     "output_type": "stream",
     "text": [
      "Epoch [1155/5000]: Train loss: 0.9227, Valid loss: 0.9870\n"
     ]
    },
    {
     "name": "stderr",
     "output_type": "stream",
     "text": [
      "Epoch [1156/5000]: 100%|██████████| 10/10 [00:00<00:00, 334.51it/s, loss=0.79]\n"
     ]
    },
    {
     "name": "stdout",
     "output_type": "stream",
     "text": [
      "Epoch [1156/5000]: Train loss: 0.9256, Valid loss: 0.9133\n"
     ]
    },
    {
     "name": "stderr",
     "output_type": "stream",
     "text": [
      "Epoch [1157/5000]: 100%|██████████| 10/10 [00:00<00:00, 348.75it/s, loss=0.823]\n"
     ]
    },
    {
     "name": "stdout",
     "output_type": "stream",
     "text": [
      "Epoch [1157/5000]: Train loss: 0.9271, Valid loss: 0.9055\n"
     ]
    },
    {
     "name": "stderr",
     "output_type": "stream",
     "text": [
      "Epoch [1158/5000]: 100%|██████████| 10/10 [00:00<00:00, 286.71it/s, loss=1.1]\n"
     ]
    },
    {
     "name": "stdout",
     "output_type": "stream",
     "text": [
      "Epoch [1158/5000]: Train loss: 0.9429, Valid loss: 0.9374\n"
     ]
    },
    {
     "name": "stderr",
     "output_type": "stream",
     "text": [
      "Epoch [1159/5000]: 100%|██████████| 10/10 [00:00<00:00, 346.25it/s, loss=0.855]\n"
     ]
    },
    {
     "name": "stdout",
     "output_type": "stream",
     "text": [
      "Epoch [1159/5000]: Train loss: 0.9244, Valid loss: 0.8813\n"
     ]
    },
    {
     "name": "stderr",
     "output_type": "stream",
     "text": [
      "Epoch [1160/5000]: 100%|██████████| 10/10 [00:00<00:00, 327.12it/s, loss=0.938]\n"
     ]
    },
    {
     "name": "stdout",
     "output_type": "stream",
     "text": [
      "Epoch [1160/5000]: Train loss: 0.9249, Valid loss: 0.9745\n"
     ]
    },
    {
     "name": "stderr",
     "output_type": "stream",
     "text": [
      "Epoch [1161/5000]: 100%|██████████| 10/10 [00:00<00:00, 304.07it/s, loss=1.06]\n"
     ]
    },
    {
     "name": "stdout",
     "output_type": "stream",
     "text": [
      "Epoch [1161/5000]: Train loss: 0.9380, Valid loss: 0.8849\n"
     ]
    },
    {
     "name": "stderr",
     "output_type": "stream",
     "text": [
      "Epoch [1162/5000]: 100%|██████████| 10/10 [00:00<00:00, 322.52it/s, loss=0.791]\n"
     ]
    },
    {
     "name": "stdout",
     "output_type": "stream",
     "text": [
      "Epoch [1162/5000]: Train loss: 0.9244, Valid loss: 0.9296\n"
     ]
    },
    {
     "name": "stderr",
     "output_type": "stream",
     "text": [
      "Epoch [1163/5000]: 100%|██████████| 10/10 [00:00<00:00, 337.96it/s, loss=0.845]\n"
     ]
    },
    {
     "name": "stdout",
     "output_type": "stream",
     "text": [
      "Epoch [1163/5000]: Train loss: 0.9235, Valid loss: 0.9285\n"
     ]
    },
    {
     "name": "stderr",
     "output_type": "stream",
     "text": [
      "Epoch [1164/5000]: 100%|██████████| 10/10 [00:00<00:00, 304.23it/s, loss=0.927]\n"
     ]
    },
    {
     "name": "stdout",
     "output_type": "stream",
     "text": [
      "Epoch [1164/5000]: Train loss: 0.9282, Valid loss: 0.9202\n"
     ]
    },
    {
     "name": "stderr",
     "output_type": "stream",
     "text": [
      "Epoch [1165/5000]: 100%|██████████| 10/10 [00:00<00:00, 325.97it/s, loss=0.843]\n"
     ]
    },
    {
     "name": "stdout",
     "output_type": "stream",
     "text": [
      "Epoch [1165/5000]: Train loss: 0.9215, Valid loss: 0.8964\n"
     ]
    },
    {
     "name": "stderr",
     "output_type": "stream",
     "text": [
      "Epoch [1166/5000]: 100%|██████████| 10/10 [00:00<00:00, 313.65it/s, loss=0.994]\n"
     ]
    },
    {
     "name": "stdout",
     "output_type": "stream",
     "text": [
      "Epoch [1166/5000]: Train loss: 0.9344, Valid loss: 0.9402\n"
     ]
    },
    {
     "name": "stderr",
     "output_type": "stream",
     "text": [
      "Epoch [1167/5000]: 100%|██████████| 10/10 [00:00<00:00, 303.87it/s, loss=0.808]\n"
     ]
    },
    {
     "name": "stdout",
     "output_type": "stream",
     "text": [
      "Epoch [1167/5000]: Train loss: 0.9198, Valid loss: 0.9224\n"
     ]
    },
    {
     "name": "stderr",
     "output_type": "stream",
     "text": [
      "Epoch [1168/5000]: 100%|██████████| 10/10 [00:00<00:00, 306.98it/s, loss=0.884]\n"
     ]
    },
    {
     "name": "stdout",
     "output_type": "stream",
     "text": [
      "Epoch [1168/5000]: Train loss: 0.9356, Valid loss: 0.9669\n"
     ]
    },
    {
     "name": "stderr",
     "output_type": "stream",
     "text": [
      "Epoch [1169/5000]: 100%|██████████| 10/10 [00:00<00:00, 244.24it/s, loss=0.761]\n"
     ]
    },
    {
     "name": "stdout",
     "output_type": "stream",
     "text": [
      "Epoch [1169/5000]: Train loss: 0.9562, Valid loss: 0.9502\n"
     ]
    },
    {
     "name": "stderr",
     "output_type": "stream",
     "text": [
      "Epoch [1170/5000]: 100%|██████████| 10/10 [00:00<00:00, 296.41it/s, loss=0.865]\n"
     ]
    },
    {
     "name": "stdout",
     "output_type": "stream",
     "text": [
      "Epoch [1170/5000]: Train loss: 0.9432, Valid loss: 0.9502\n"
     ]
    },
    {
     "name": "stderr",
     "output_type": "stream",
     "text": [
      "Epoch [1171/5000]: 100%|██████████| 10/10 [00:00<00:00, 323.78it/s, loss=0.679]\n"
     ]
    },
    {
     "name": "stdout",
     "output_type": "stream",
     "text": [
      "Epoch [1171/5000]: Train loss: 0.9112, Valid loss: 0.9000\n"
     ]
    },
    {
     "name": "stderr",
     "output_type": "stream",
     "text": [
      "Epoch [1172/5000]: 100%|██████████| 10/10 [00:00<00:00, 278.68it/s, loss=0.918]\n"
     ]
    },
    {
     "name": "stdout",
     "output_type": "stream",
     "text": [
      "Epoch [1172/5000]: Train loss: 0.9303, Valid loss: 0.9512\n"
     ]
    },
    {
     "name": "stderr",
     "output_type": "stream",
     "text": [
      "Epoch [1173/5000]: 100%|██████████| 10/10 [00:00<00:00, 315.71it/s, loss=0.96]\n"
     ]
    },
    {
     "name": "stdout",
     "output_type": "stream",
     "text": [
      "Epoch [1173/5000]: Train loss: 0.9298, Valid loss: 0.9016\n"
     ]
    },
    {
     "name": "stderr",
     "output_type": "stream",
     "text": [
      "Epoch [1174/5000]: 100%|██████████| 10/10 [00:00<00:00, 303.98it/s, loss=0.93]"
     ]
    },
    {
     "name": "stdout",
     "output_type": "stream",
     "text": [
      "Epoch [1174/5000]: Train loss: 0.9246, Valid loss: 0.9009\n"
     ]
    },
    {
     "name": "stderr",
     "output_type": "stream",
     "text": [
      "\n",
      "Epoch [1175/5000]: 100%|██████████| 10/10 [00:00<00:00, 286.09it/s, loss=0.938]\n"
     ]
    },
    {
     "name": "stdout",
     "output_type": "stream",
     "text": [
      "Epoch [1175/5000]: Train loss: 0.9452, Valid loss: 0.9730\n"
     ]
    },
    {
     "name": "stderr",
     "output_type": "stream",
     "text": [
      "Epoch [1176/5000]: 100%|██████████| 10/10 [00:00<00:00, 326.88it/s, loss=0.722]\n"
     ]
    },
    {
     "name": "stdout",
     "output_type": "stream",
     "text": [
      "Epoch [1176/5000]: Train loss: 0.9496, Valid loss: 0.9322\n"
     ]
    },
    {
     "name": "stderr",
     "output_type": "stream",
     "text": [
      "Epoch [1177/5000]: 100%|██████████| 10/10 [00:00<00:00, 334.21it/s, loss=1.11]\n"
     ]
    },
    {
     "name": "stdout",
     "output_type": "stream",
     "text": [
      "Epoch [1177/5000]: Train loss: 0.9495, Valid loss: 0.8544\n"
     ]
    },
    {
     "name": "stderr",
     "output_type": "stream",
     "text": [
      "Epoch [1178/5000]: 100%|██████████| 10/10 [00:00<00:00, 297.11it/s, loss=0.907]\n"
     ]
    },
    {
     "name": "stdout",
     "output_type": "stream",
     "text": [
      "Epoch [1178/5000]: Train loss: 0.9288, Valid loss: 0.9174\n"
     ]
    },
    {
     "name": "stderr",
     "output_type": "stream",
     "text": [
      "Epoch [1179/5000]: 100%|██████████| 10/10 [00:00<00:00, 323.72it/s, loss=0.671]\n"
     ]
    },
    {
     "name": "stdout",
     "output_type": "stream",
     "text": [
      "Epoch [1179/5000]: Train loss: 0.9144, Valid loss: 0.9306\n"
     ]
    },
    {
     "name": "stderr",
     "output_type": "stream",
     "text": [
      "Epoch [1180/5000]: 100%|██████████| 10/10 [00:00<00:00, 303.99it/s, loss=0.95]\n"
     ]
    },
    {
     "name": "stdout",
     "output_type": "stream",
     "text": [
      "Epoch [1180/5000]: Train loss: 0.9300, Valid loss: 0.9727\n"
     ]
    },
    {
     "name": "stderr",
     "output_type": "stream",
     "text": [
      "Epoch [1181/5000]: 100%|██████████| 10/10 [00:00<00:00, 305.60it/s, loss=0.939]"
     ]
    },
    {
     "name": "stdout",
     "output_type": "stream",
     "text": [
      "Epoch [1181/5000]: Train loss: 0.9381, Valid loss: 0.9460\n"
     ]
    },
    {
     "name": "stderr",
     "output_type": "stream",
     "text": [
      "\n",
      "Epoch [1182/5000]: 100%|██████████| 10/10 [00:00<00:00, 323.70it/s, loss=1.13]\n"
     ]
    },
    {
     "name": "stdout",
     "output_type": "stream",
     "text": [
      "Epoch [1182/5000]: Train loss: 0.9474, Valid loss: 0.9387\n"
     ]
    },
    {
     "name": "stderr",
     "output_type": "stream",
     "text": [
      "Epoch [1183/5000]: 100%|██████████| 10/10 [00:00<00:00, 322.91it/s, loss=1.06]\n"
     ]
    },
    {
     "name": "stdout",
     "output_type": "stream",
     "text": [
      "Epoch [1183/5000]: Train loss: 0.9398, Valid loss: 0.9994\n"
     ]
    },
    {
     "name": "stderr",
     "output_type": "stream",
     "text": [
      "Epoch [1184/5000]: 100%|██████████| 10/10 [00:00<00:00, 306.97it/s, loss=1.08]\n"
     ]
    },
    {
     "name": "stdout",
     "output_type": "stream",
     "text": [
      "Epoch [1184/5000]: Train loss: 0.9347, Valid loss: 0.9462\n"
     ]
    },
    {
     "name": "stderr",
     "output_type": "stream",
     "text": [
      "Epoch [1185/5000]: 100%|██████████| 10/10 [00:00<00:00, 304.01it/s, loss=0.816]\n"
     ]
    },
    {
     "name": "stdout",
     "output_type": "stream",
     "text": [
      "Epoch [1185/5000]: Train loss: 0.9330, Valid loss: 0.9385\n"
     ]
    },
    {
     "name": "stderr",
     "output_type": "stream",
     "text": [
      "Epoch [1186/5000]: 100%|██████████| 10/10 [00:00<00:00, 312.90it/s, loss=1.01]\n"
     ]
    },
    {
     "name": "stdout",
     "output_type": "stream",
     "text": [
      "Epoch [1186/5000]: Train loss: 0.9435, Valid loss: 0.9344\n"
     ]
    },
    {
     "name": "stderr",
     "output_type": "stream",
     "text": [
      "Epoch [1187/5000]: 100%|██████████| 10/10 [00:00<00:00, 286.68it/s, loss=0.783]\n"
     ]
    },
    {
     "name": "stdout",
     "output_type": "stream",
     "text": [
      "Epoch [1187/5000]: Train loss: 0.9343, Valid loss: 0.9361\n"
     ]
    },
    {
     "name": "stderr",
     "output_type": "stream",
     "text": [
      "Epoch [1188/5000]: 100%|██████████| 10/10 [00:00<00:00, 323.67it/s, loss=1.04]\n"
     ]
    },
    {
     "name": "stdout",
     "output_type": "stream",
     "text": [
      "Epoch [1188/5000]: Train loss: 0.9390, Valid loss: 0.8943\n"
     ]
    },
    {
     "name": "stderr",
     "output_type": "stream",
     "text": [
      "Epoch [1189/5000]: 100%|██████████| 10/10 [00:00<00:00, 315.56it/s, loss=0.846]\n"
     ]
    },
    {
     "name": "stdout",
     "output_type": "stream",
     "text": [
      "Epoch [1189/5000]: Train loss: 0.9264, Valid loss: 0.8634\n"
     ]
    },
    {
     "name": "stderr",
     "output_type": "stream",
     "text": [
      "Epoch [1190/5000]: 100%|██████████| 10/10 [00:00<00:00, 304.09it/s, loss=0.618]\n"
     ]
    },
    {
     "name": "stdout",
     "output_type": "stream",
     "text": [
      "Epoch [1190/5000]: Train loss: 0.9086, Valid loss: 0.9044\n"
     ]
    },
    {
     "name": "stderr",
     "output_type": "stream",
     "text": [
      "Epoch [1191/5000]: 100%|██████████| 10/10 [00:00<00:00, 302.97it/s, loss=0.722]\n"
     ]
    },
    {
     "name": "stdout",
     "output_type": "stream",
     "text": [
      "Epoch [1191/5000]: Train loss: 0.9139, Valid loss: 0.9257\n"
     ]
    },
    {
     "name": "stderr",
     "output_type": "stream",
     "text": [
      "Epoch [1192/5000]: 100%|██████████| 10/10 [00:00<00:00, 317.19it/s, loss=0.828]\n"
     ]
    },
    {
     "name": "stdout",
     "output_type": "stream",
     "text": [
      "Epoch [1192/5000]: Train loss: 0.9221, Valid loss: 0.9521\n"
     ]
    },
    {
     "name": "stderr",
     "output_type": "stream",
     "text": [
      "Epoch [1193/5000]: 100%|██████████| 10/10 [00:00<00:00, 303.74it/s, loss=0.785]\n"
     ]
    },
    {
     "name": "stdout",
     "output_type": "stream",
     "text": [
      "Epoch [1193/5000]: Train loss: 0.9176, Valid loss: 0.9073\n"
     ]
    },
    {
     "name": "stderr",
     "output_type": "stream",
     "text": [
      "Epoch [1194/5000]: 100%|██████████| 10/10 [00:00<00:00, 318.50it/s, loss=0.807]"
     ]
    },
    {
     "name": "stdout",
     "output_type": "stream",
     "text": [
      "Epoch [1194/5000]: Train loss: 0.9172, Valid loss: 0.9255\n"
     ]
    },
    {
     "name": "stderr",
     "output_type": "stream",
     "text": [
      "\n",
      "Epoch [1195/5000]: 100%|██████████| 10/10 [00:00<00:00, 313.49it/s, loss=0.97]\n"
     ]
    },
    {
     "name": "stdout",
     "output_type": "stream",
     "text": [
      "Epoch [1195/5000]: Train loss: 0.9355, Valid loss: 0.8795\n"
     ]
    },
    {
     "name": "stderr",
     "output_type": "stream",
     "text": [
      "Epoch [1196/5000]: 100%|██████████| 10/10 [00:00<00:00, 303.65it/s, loss=1.14]\n"
     ]
    },
    {
     "name": "stdout",
     "output_type": "stream",
     "text": [
      "Epoch [1196/5000]: Train loss: 0.9403, Valid loss: 0.8765\n"
     ]
    },
    {
     "name": "stderr",
     "output_type": "stream",
     "text": [
      "Epoch [1197/5000]: 100%|██████████| 10/10 [00:00<00:00, 325.77it/s, loss=0.868]\n"
     ]
    },
    {
     "name": "stdout",
     "output_type": "stream",
     "text": [
      "Epoch [1197/5000]: Train loss: 0.9224, Valid loss: 0.9983\n"
     ]
    },
    {
     "name": "stderr",
     "output_type": "stream",
     "text": [
      "Epoch [1198/5000]: 100%|██████████| 10/10 [00:00<00:00, 313.60it/s, loss=0.798]\n"
     ]
    },
    {
     "name": "stdout",
     "output_type": "stream",
     "text": [
      "Epoch [1198/5000]: Train loss: 0.9214, Valid loss: 0.8904\n"
     ]
    },
    {
     "name": "stderr",
     "output_type": "stream",
     "text": [
      "Epoch [1199/5000]: 100%|██████████| 10/10 [00:00<00:00, 312.68it/s, loss=1.06]\n"
     ]
    },
    {
     "name": "stdout",
     "output_type": "stream",
     "text": [
      "Epoch [1199/5000]: Train loss: 0.9401, Valid loss: 0.9361\n"
     ]
    },
    {
     "name": "stderr",
     "output_type": "stream",
     "text": [
      "Epoch [1200/5000]: 100%|██████████| 10/10 [00:00<00:00, 338.53it/s, loss=0.831]\n"
     ]
    },
    {
     "name": "stdout",
     "output_type": "stream",
     "text": [
      "Epoch [1200/5000]: Train loss: 0.9263, Valid loss: 0.9157\n"
     ]
    },
    {
     "name": "stderr",
     "output_type": "stream",
     "text": [
      "Epoch [1201/5000]: 100%|██████████| 10/10 [00:00<00:00, 323.59it/s, loss=0.866]\n"
     ]
    },
    {
     "name": "stdout",
     "output_type": "stream",
     "text": [
      "Epoch [1201/5000]: Train loss: 0.9183, Valid loss: 0.9065\n"
     ]
    },
    {
     "name": "stderr",
     "output_type": "stream",
     "text": [
      "Epoch [1202/5000]: 100%|██████████| 10/10 [00:00<00:00, 294.41it/s, loss=0.755]\n"
     ]
    },
    {
     "name": "stdout",
     "output_type": "stream",
     "text": [
      "Epoch [1202/5000]: Train loss: 0.9132, Valid loss: 0.9284\n"
     ]
    },
    {
     "name": "stderr",
     "output_type": "stream",
     "text": [
      "Epoch [1203/5000]: 100%|██████████| 10/10 [00:00<00:00, 304.47it/s, loss=0.954]\n"
     ]
    },
    {
     "name": "stdout",
     "output_type": "stream",
     "text": [
      "Epoch [1203/5000]: Train loss: 0.9250, Valid loss: 0.9424\n"
     ]
    },
    {
     "name": "stderr",
     "output_type": "stream",
     "text": [
      "Epoch [1204/5000]: 100%|██████████| 10/10 [00:00<00:00, 323.31it/s, loss=0.9]\n"
     ]
    },
    {
     "name": "stdout",
     "output_type": "stream",
     "text": [
      "Epoch [1204/5000]: Train loss: 0.9235, Valid loss: 0.8785\n"
     ]
    },
    {
     "name": "stderr",
     "output_type": "stream",
     "text": [
      "Epoch [1205/5000]: 100%|██████████| 10/10 [00:00<00:00, 326.89it/s, loss=1.44]\n"
     ]
    },
    {
     "name": "stdout",
     "output_type": "stream",
     "text": [
      "Epoch [1205/5000]: Train loss: 0.9576, Valid loss: 0.8842\n"
     ]
    },
    {
     "name": "stderr",
     "output_type": "stream",
     "text": [
      "Epoch [1206/5000]: 100%|██████████| 10/10 [00:00<00:00, 304.29it/s, loss=0.978]\n"
     ]
    },
    {
     "name": "stdout",
     "output_type": "stream",
     "text": [
      "Epoch [1206/5000]: Train loss: 0.9355, Valid loss: 0.8938\n"
     ]
    },
    {
     "name": "stderr",
     "output_type": "stream",
     "text": [
      "Epoch [1207/5000]: 100%|██████████| 10/10 [00:00<00:00, 334.24it/s, loss=0.929]\n"
     ]
    },
    {
     "name": "stdout",
     "output_type": "stream",
     "text": [
      "Epoch [1207/5000]: Train loss: 0.9343, Valid loss: 0.9847\n"
     ]
    },
    {
     "name": "stderr",
     "output_type": "stream",
     "text": [
      "Epoch [1208/5000]: 100%|██████████| 10/10 [00:00<00:00, 327.00it/s, loss=0.658]\n"
     ]
    },
    {
     "name": "stdout",
     "output_type": "stream",
     "text": [
      "Epoch [1208/5000]: Train loss: 0.9076, Valid loss: 0.9587\n"
     ]
    },
    {
     "name": "stderr",
     "output_type": "stream",
     "text": [
      "Epoch [1209/5000]: 100%|██████████| 10/10 [00:00<00:00, 323.71it/s, loss=0.884]\n"
     ]
    },
    {
     "name": "stdout",
     "output_type": "stream",
     "text": [
      "Epoch [1209/5000]: Train loss: 0.9213, Valid loss: 0.9022\n"
     ]
    },
    {
     "name": "stderr",
     "output_type": "stream",
     "text": [
      "Epoch [1210/5000]: 100%|██████████| 10/10 [00:00<00:00, 333.48it/s, loss=0.999]\n"
     ]
    },
    {
     "name": "stdout",
     "output_type": "stream",
     "text": [
      "Epoch [1210/5000]: Train loss: 0.9285, Valid loss: 0.8387\n",
      "Saving model with loss 0.839...\n"
     ]
    },
    {
     "name": "stderr",
     "output_type": "stream",
     "text": [
      "Epoch [1211/5000]: 100%|██████████| 10/10 [00:00<00:00, 326.82it/s, loss=1.05]\n"
     ]
    },
    {
     "name": "stdout",
     "output_type": "stream",
     "text": [
      "Epoch [1211/5000]: Train loss: 0.9333, Valid loss: 0.9481\n"
     ]
    },
    {
     "name": "stderr",
     "output_type": "stream",
     "text": [
      "Epoch [1212/5000]: 100%|██████████| 10/10 [00:00<00:00, 323.63it/s, loss=0.874]\n"
     ]
    },
    {
     "name": "stdout",
     "output_type": "stream",
     "text": [
      "Epoch [1212/5000]: Train loss: 0.9191, Valid loss: 0.9800\n"
     ]
    },
    {
     "name": "stderr",
     "output_type": "stream",
     "text": [
      "Epoch [1213/5000]: 100%|██████████| 10/10 [00:00<00:00, 336.91it/s, loss=0.896]\n"
     ]
    },
    {
     "name": "stdout",
     "output_type": "stream",
     "text": [
      "Epoch [1213/5000]: Train loss: 0.9224, Valid loss: 0.9339\n"
     ]
    },
    {
     "name": "stderr",
     "output_type": "stream",
     "text": [
      "Epoch [1214/5000]: 100%|██████████| 10/10 [00:00<00:00, 313.54it/s, loss=0.924]\n"
     ]
    },
    {
     "name": "stdout",
     "output_type": "stream",
     "text": [
      "Epoch [1214/5000]: Train loss: 0.9222, Valid loss: 0.9094\n"
     ]
    },
    {
     "name": "stderr",
     "output_type": "stream",
     "text": [
      "Epoch [1215/5000]: 100%|██████████| 10/10 [00:00<00:00, 323.77it/s, loss=0.937]\n"
     ]
    },
    {
     "name": "stdout",
     "output_type": "stream",
     "text": [
      "Epoch [1215/5000]: Train loss: 0.9285, Valid loss: 0.8936\n"
     ]
    },
    {
     "name": "stderr",
     "output_type": "stream",
     "text": [
      "Epoch [1216/5000]: 100%|██████████| 10/10 [00:00<00:00, 297.15it/s, loss=0.702]\n"
     ]
    },
    {
     "name": "stdout",
     "output_type": "stream",
     "text": [
      "Epoch [1216/5000]: Train loss: 0.9132, Valid loss: 0.8572\n"
     ]
    },
    {
     "name": "stderr",
     "output_type": "stream",
     "text": [
      "Epoch [1217/5000]: 100%|██████████| 10/10 [00:00<00:00, 345.91it/s, loss=0.632]\n"
     ]
    },
    {
     "name": "stdout",
     "output_type": "stream",
     "text": [
      "Epoch [1217/5000]: Train loss: 0.9043, Valid loss: 0.8938\n"
     ]
    },
    {
     "name": "stderr",
     "output_type": "stream",
     "text": [
      "Epoch [1218/5000]: 100%|██████████| 10/10 [00:00<00:00, 322.70it/s, loss=0.99]\n"
     ]
    },
    {
     "name": "stdout",
     "output_type": "stream",
     "text": [
      "Epoch [1218/5000]: Train loss: 0.9261, Valid loss: 0.8972\n"
     ]
    },
    {
     "name": "stderr",
     "output_type": "stream",
     "text": [
      "Epoch [1219/5000]: 100%|██████████| 10/10 [00:00<00:00, 280.88it/s, loss=1.16]\n"
     ]
    },
    {
     "name": "stdout",
     "output_type": "stream",
     "text": [
      "Epoch [1219/5000]: Train loss: 0.9396, Valid loss: 0.9150\n"
     ]
    },
    {
     "name": "stderr",
     "output_type": "stream",
     "text": [
      "Epoch [1220/5000]: 100%|██████████| 10/10 [00:00<00:00, 323.92it/s, loss=1.05]\n"
     ]
    },
    {
     "name": "stdout",
     "output_type": "stream",
     "text": [
      "Epoch [1220/5000]: Train loss: 0.9333, Valid loss: 0.8971\n"
     ]
    },
    {
     "name": "stderr",
     "output_type": "stream",
     "text": [
      "Epoch [1221/5000]: 100%|██████████| 10/10 [00:00<00:00, 326.10it/s, loss=0.881]\n"
     ]
    },
    {
     "name": "stdout",
     "output_type": "stream",
     "text": [
      "Epoch [1221/5000]: Train loss: 0.9320, Valid loss: 0.9081\n"
     ]
    },
    {
     "name": "stderr",
     "output_type": "stream",
     "text": [
      "Epoch [1222/5000]: 100%|██████████| 10/10 [00:00<00:00, 286.65it/s, loss=1.55]\n"
     ]
    },
    {
     "name": "stdout",
     "output_type": "stream",
     "text": [
      "Epoch [1222/5000]: Train loss: 0.9673, Valid loss: 0.9287\n"
     ]
    },
    {
     "name": "stderr",
     "output_type": "stream",
     "text": [
      "Epoch [1223/5000]: 100%|██████████| 10/10 [00:00<00:00, 323.63it/s, loss=0.942]\n"
     ]
    },
    {
     "name": "stdout",
     "output_type": "stream",
     "text": [
      "Epoch [1223/5000]: Train loss: 0.9276, Valid loss: 0.8926\n"
     ]
    },
    {
     "name": "stderr",
     "output_type": "stream",
     "text": [
      "Epoch [1224/5000]: 100%|██████████| 10/10 [00:00<00:00, 316.15it/s, loss=1.02]\n"
     ]
    },
    {
     "name": "stdout",
     "output_type": "stream",
     "text": [
      "Epoch [1224/5000]: Train loss: 0.9448, Valid loss: 0.8869\n"
     ]
    },
    {
     "name": "stderr",
     "output_type": "stream",
     "text": [
      "Epoch [1225/5000]: 100%|██████████| 10/10 [00:00<00:00, 304.09it/s, loss=0.976]\n"
     ]
    },
    {
     "name": "stdout",
     "output_type": "stream",
     "text": [
      "Epoch [1225/5000]: Train loss: 0.9316, Valid loss: 0.8695\n"
     ]
    },
    {
     "name": "stderr",
     "output_type": "stream",
     "text": [
      "Epoch [1226/5000]: 100%|██████████| 10/10 [00:00<00:00, 322.79it/s, loss=1.02]\n"
     ]
    },
    {
     "name": "stdout",
     "output_type": "stream",
     "text": [
      "Epoch [1226/5000]: Train loss: 0.9277, Valid loss: 0.9411\n"
     ]
    },
    {
     "name": "stderr",
     "output_type": "stream",
     "text": [
      "Epoch [1227/5000]: 100%|██████████| 10/10 [00:00<00:00, 326.84it/s, loss=0.755]\n"
     ]
    },
    {
     "name": "stdout",
     "output_type": "stream",
     "text": [
      "Epoch [1227/5000]: Train loss: 0.9093, Valid loss: 0.9490\n"
     ]
    },
    {
     "name": "stderr",
     "output_type": "stream",
     "text": [
      "Epoch [1228/5000]: 100%|██████████| 10/10 [00:00<00:00, 271.20it/s, loss=0.55]\n"
     ]
    },
    {
     "name": "stdout",
     "output_type": "stream",
     "text": [
      "Epoch [1228/5000]: Train loss: 0.9074, Valid loss: 0.9438\n"
     ]
    },
    {
     "name": "stderr",
     "output_type": "stream",
     "text": [
      "Epoch [1229/5000]: 100%|██████████| 10/10 [00:00<00:00, 337.35it/s, loss=0.941]\n"
     ]
    },
    {
     "name": "stdout",
     "output_type": "stream",
     "text": [
      "Epoch [1229/5000]: Train loss: 0.9273, Valid loss: 0.8732\n"
     ]
    },
    {
     "name": "stderr",
     "output_type": "stream",
     "text": [
      "Epoch [1230/5000]: 100%|██████████| 10/10 [00:00<00:00, 228.45it/s, loss=0.827]\n"
     ]
    },
    {
     "name": "stdout",
     "output_type": "stream",
     "text": [
      "Epoch [1230/5000]: Train loss: 0.9224, Valid loss: 0.9355\n"
     ]
    },
    {
     "name": "stderr",
     "output_type": "stream",
     "text": [
      "Epoch [1231/5000]: 100%|██████████| 10/10 [00:00<00:00, 294.00it/s, loss=0.868]\n"
     ]
    },
    {
     "name": "stdout",
     "output_type": "stream",
     "text": [
      "Epoch [1231/5000]: Train loss: 0.9244, Valid loss: 0.8637\n"
     ]
    },
    {
     "name": "stderr",
     "output_type": "stream",
     "text": [
      "Epoch [1232/5000]: 100%|██████████| 10/10 [00:00<00:00, 312.42it/s, loss=0.748]\n"
     ]
    },
    {
     "name": "stdout",
     "output_type": "stream",
     "text": [
      "Epoch [1232/5000]: Train loss: 0.9160, Valid loss: 0.9006\n"
     ]
    },
    {
     "name": "stderr",
     "output_type": "stream",
     "text": [
      "Epoch [1233/5000]: 100%|██████████| 10/10 [00:00<00:00, 333.34it/s, loss=1.15]\n"
     ]
    },
    {
     "name": "stdout",
     "output_type": "stream",
     "text": [
      "Epoch [1233/5000]: Train loss: 0.9389, Valid loss: 0.9361\n"
     ]
    },
    {
     "name": "stderr",
     "output_type": "stream",
     "text": [
      "Epoch [1234/5000]: 100%|██████████| 10/10 [00:00<00:00, 291.59it/s, loss=1.01]\n"
     ]
    },
    {
     "name": "stdout",
     "output_type": "stream",
     "text": [
      "Epoch [1234/5000]: Train loss: 0.9408, Valid loss: 0.8945\n"
     ]
    },
    {
     "name": "stderr",
     "output_type": "stream",
     "text": [
      "Epoch [1235/5000]: 100%|██████████| 10/10 [00:00<00:00, 317.31it/s, loss=0.825]\n"
     ]
    },
    {
     "name": "stdout",
     "output_type": "stream",
     "text": [
      "Epoch [1235/5000]: Train loss: 0.9161, Valid loss: 0.9401\n"
     ]
    },
    {
     "name": "stderr",
     "output_type": "stream",
     "text": [
      "Epoch [1236/5000]: 100%|██████████| 10/10 [00:00<00:00, 294.31it/s, loss=1.03]\n"
     ]
    },
    {
     "name": "stdout",
     "output_type": "stream",
     "text": [
      "Epoch [1236/5000]: Train loss: 0.9277, Valid loss: 0.8864\n"
     ]
    },
    {
     "name": "stderr",
     "output_type": "stream",
     "text": [
      "Epoch [1237/5000]: 100%|██████████| 10/10 [00:00<00:00, 300.57it/s, loss=0.73]\n"
     ]
    },
    {
     "name": "stdout",
     "output_type": "stream",
     "text": [
      "Epoch [1237/5000]: Train loss: 0.9075, Valid loss: 0.9250\n"
     ]
    },
    {
     "name": "stderr",
     "output_type": "stream",
     "text": [
      "Epoch [1238/5000]: 100%|██████████| 10/10 [00:00<00:00, 294.68it/s, loss=1.02]\n"
     ]
    },
    {
     "name": "stdout",
     "output_type": "stream",
     "text": [
      "Epoch [1238/5000]: Train loss: 0.9248, Valid loss: 0.8825\n"
     ]
    },
    {
     "name": "stderr",
     "output_type": "stream",
     "text": [
      "Epoch [1239/5000]: 100%|██████████| 10/10 [00:00<00:00, 312.48it/s, loss=0.967]\n"
     ]
    },
    {
     "name": "stdout",
     "output_type": "stream",
     "text": [
      "Epoch [1239/5000]: Train loss: 0.9265, Valid loss: 0.8825\n"
     ]
    },
    {
     "name": "stderr",
     "output_type": "stream",
     "text": [
      "Epoch [1240/5000]: 100%|██████████| 10/10 [00:00<00:00, 286.64it/s, loss=1.08]\n"
     ]
    },
    {
     "name": "stdout",
     "output_type": "stream",
     "text": [
      "Epoch [1240/5000]: Train loss: 0.9358, Valid loss: 0.9097\n"
     ]
    },
    {
     "name": "stderr",
     "output_type": "stream",
     "text": [
      "Epoch [1241/5000]: 100%|██████████| 10/10 [00:00<00:00, 334.51it/s, loss=0.851]\n"
     ]
    },
    {
     "name": "stdout",
     "output_type": "stream",
     "text": [
      "Epoch [1241/5000]: Train loss: 0.9186, Valid loss: 0.9073\n"
     ]
    },
    {
     "name": "stderr",
     "output_type": "stream",
     "text": [
      "Epoch [1242/5000]: 100%|██████████| 10/10 [00:00<00:00, 297.00it/s, loss=0.847]\n"
     ]
    },
    {
     "name": "stdout",
     "output_type": "stream",
     "text": [
      "Epoch [1242/5000]: Train loss: 0.9274, Valid loss: 0.9415\n"
     ]
    },
    {
     "name": "stderr",
     "output_type": "stream",
     "text": [
      "Epoch [1243/5000]: 100%|██████████| 10/10 [00:00<00:00, 286.67it/s, loss=0.948]\n"
     ]
    },
    {
     "name": "stdout",
     "output_type": "stream",
     "text": [
      "Epoch [1243/5000]: Train loss: 0.9273, Valid loss: 0.8917\n"
     ]
    },
    {
     "name": "stderr",
     "output_type": "stream",
     "text": [
      "Epoch [1244/5000]: 100%|██████████| 10/10 [00:00<00:00, 312.77it/s, loss=1.04]\n"
     ]
    },
    {
     "name": "stdout",
     "output_type": "stream",
     "text": [
      "Epoch [1244/5000]: Train loss: 0.9335, Valid loss: 0.8717\n"
     ]
    },
    {
     "name": "stderr",
     "output_type": "stream",
     "text": [
      "Epoch [1245/5000]: 100%|██████████| 10/10 [00:00<00:00, 326.79it/s, loss=0.952]\n"
     ]
    },
    {
     "name": "stdout",
     "output_type": "stream",
     "text": [
      "Epoch [1245/5000]: Train loss: 0.9224, Valid loss: 0.9097\n"
     ]
    },
    {
     "name": "stderr",
     "output_type": "stream",
     "text": [
      "Epoch [1246/5000]: 100%|██████████| 10/10 [00:00<00:00, 287.10it/s, loss=0.83]\n"
     ]
    },
    {
     "name": "stdout",
     "output_type": "stream",
     "text": [
      "Epoch [1246/5000]: Train loss: 0.9148, Valid loss: 0.9042\n"
     ]
    },
    {
     "name": "stderr",
     "output_type": "stream",
     "text": [
      "Epoch [1247/5000]: 100%|██████████| 10/10 [00:00<00:00, 315.73it/s, loss=0.66]\n"
     ]
    },
    {
     "name": "stdout",
     "output_type": "stream",
     "text": [
      "Epoch [1247/5000]: Train loss: 0.9062, Valid loss: 0.9181\n"
     ]
    },
    {
     "name": "stderr",
     "output_type": "stream",
     "text": [
      "Epoch [1248/5000]: 100%|██████████| 10/10 [00:00<00:00, 304.03it/s, loss=0.892]\n"
     ]
    },
    {
     "name": "stdout",
     "output_type": "stream",
     "text": [
      "Epoch [1248/5000]: Train loss: 0.9142, Valid loss: 0.8710\n"
     ]
    },
    {
     "name": "stderr",
     "output_type": "stream",
     "text": [
      "Epoch [1249/5000]: 100%|██████████| 10/10 [00:00<00:00, 279.87it/s, loss=0.811]\n"
     ]
    },
    {
     "name": "stdout",
     "output_type": "stream",
     "text": [
      "Epoch [1249/5000]: Train loss: 0.9271, Valid loss: 0.9212\n"
     ]
    },
    {
     "name": "stderr",
     "output_type": "stream",
     "text": [
      "Epoch [1250/5000]: 100%|██████████| 10/10 [00:00<00:00, 297.70it/s, loss=1.02]\n"
     ]
    },
    {
     "name": "stdout",
     "output_type": "stream",
     "text": [
      "Epoch [1250/5000]: Train loss: 0.9581, Valid loss: 0.9215\n"
     ]
    },
    {
     "name": "stderr",
     "output_type": "stream",
     "text": [
      "Epoch [1251/5000]: 100%|██████████| 10/10 [00:00<00:00, 294.82it/s, loss=0.732]\n"
     ]
    },
    {
     "name": "stdout",
     "output_type": "stream",
     "text": [
      "Epoch [1251/5000]: Train loss: 0.9140, Valid loss: 0.8872\n"
     ]
    },
    {
     "name": "stderr",
     "output_type": "stream",
     "text": [
      "Epoch [1252/5000]: 100%|██████████| 10/10 [00:00<00:00, 298.59it/s, loss=0.989]\n"
     ]
    },
    {
     "name": "stdout",
     "output_type": "stream",
     "text": [
      "Epoch [1252/5000]: Train loss: 0.9276, Valid loss: 0.8892\n"
     ]
    },
    {
     "name": "stderr",
     "output_type": "stream",
     "text": [
      "Epoch [1253/5000]: 100%|██████████| 10/10 [00:00<00:00, 294.73it/s, loss=0.609]\n"
     ]
    },
    {
     "name": "stdout",
     "output_type": "stream",
     "text": [
      "Epoch [1253/5000]: Train loss: 0.9148, Valid loss: 0.8882\n"
     ]
    },
    {
     "name": "stderr",
     "output_type": "stream",
     "text": [
      "Epoch [1254/5000]: 100%|██████████| 10/10 [00:00<00:00, 295.11it/s, loss=0.784]\n"
     ]
    },
    {
     "name": "stdout",
     "output_type": "stream",
     "text": [
      "Epoch [1254/5000]: Train loss: 0.9289, Valid loss: 0.9484\n"
     ]
    },
    {
     "name": "stderr",
     "output_type": "stream",
     "text": [
      "Epoch [1255/5000]: 100%|██████████| 10/10 [00:00<00:00, 316.59it/s, loss=0.899]\n"
     ]
    },
    {
     "name": "stdout",
     "output_type": "stream",
     "text": [
      "Epoch [1255/5000]: Train loss: 0.9438, Valid loss: 0.9294\n"
     ]
    },
    {
     "name": "stderr",
     "output_type": "stream",
     "text": [
      "Epoch [1256/5000]: 100%|██████████| 10/10 [00:00<00:00, 312.80it/s, loss=0.933]\n"
     ]
    },
    {
     "name": "stdout",
     "output_type": "stream",
     "text": [
      "Epoch [1256/5000]: Train loss: 0.9409, Valid loss: 0.8900\n"
     ]
    },
    {
     "name": "stderr",
     "output_type": "stream",
     "text": [
      "Epoch [1257/5000]: 100%|██████████| 10/10 [00:00<00:00, 294.11it/s, loss=1.2]\n"
     ]
    },
    {
     "name": "stdout",
     "output_type": "stream",
     "text": [
      "Epoch [1257/5000]: Train loss: 0.9519, Valid loss: 0.8883\n"
     ]
    },
    {
     "name": "stderr",
     "output_type": "stream",
     "text": [
      "Epoch [1258/5000]: 100%|██████████| 10/10 [00:00<00:00, 327.16it/s, loss=0.832]\n"
     ]
    },
    {
     "name": "stdout",
     "output_type": "stream",
     "text": [
      "Epoch [1258/5000]: Train loss: 0.9140, Valid loss: 0.8641\n"
     ]
    },
    {
     "name": "stderr",
     "output_type": "stream",
     "text": [
      "Epoch [1259/5000]: 100%|██████████| 10/10 [00:00<00:00, 287.11it/s, loss=0.82]\n"
     ]
    },
    {
     "name": "stdout",
     "output_type": "stream",
     "text": [
      "Epoch [1259/5000]: Train loss: 0.9182, Valid loss: 0.8282\n",
      "Saving model with loss 0.828...\n"
     ]
    },
    {
     "name": "stderr",
     "output_type": "stream",
     "text": [
      "Epoch [1260/5000]: 100%|██████████| 10/10 [00:00<00:00, 237.35it/s, loss=1.23]\n"
     ]
    },
    {
     "name": "stdout",
     "output_type": "stream",
     "text": [
      "Epoch [1260/5000]: Train loss: 0.9347, Valid loss: 0.8758\n"
     ]
    },
    {
     "name": "stderr",
     "output_type": "stream",
     "text": [
      "Epoch [1261/5000]: 100%|██████████| 10/10 [00:00<00:00, 288.64it/s, loss=0.839]\n"
     ]
    },
    {
     "name": "stdout",
     "output_type": "stream",
     "text": [
      "Epoch [1261/5000]: Train loss: 0.9287, Valid loss: 0.9055\n"
     ]
    },
    {
     "name": "stderr",
     "output_type": "stream",
     "text": [
      "Epoch [1262/5000]: 100%|██████████| 10/10 [00:00<00:00, 340.99it/s, loss=0.683]\n"
     ]
    },
    {
     "name": "stdout",
     "output_type": "stream",
     "text": [
      "Epoch [1262/5000]: Train loss: 0.9125, Valid loss: 0.8565\n"
     ]
    },
    {
     "name": "stderr",
     "output_type": "stream",
     "text": [
      "Epoch [1263/5000]: 100%|██████████| 10/10 [00:00<00:00, 281.90it/s, loss=0.803]\n"
     ]
    },
    {
     "name": "stdout",
     "output_type": "stream",
     "text": [
      "Epoch [1263/5000]: Train loss: 0.9207, Valid loss: 0.8909\n"
     ]
    },
    {
     "name": "stderr",
     "output_type": "stream",
     "text": [
      "Epoch [1264/5000]: 100%|██████████| 10/10 [00:00<00:00, 323.64it/s, loss=0.945]\n"
     ]
    },
    {
     "name": "stdout",
     "output_type": "stream",
     "text": [
      "Epoch [1264/5000]: Train loss: 0.9294, Valid loss: 0.9952\n"
     ]
    },
    {
     "name": "stderr",
     "output_type": "stream",
     "text": [
      "Epoch [1265/5000]: 100%|██████████| 10/10 [00:00<00:00, 297.38it/s, loss=0.768]\n"
     ]
    },
    {
     "name": "stdout",
     "output_type": "stream",
     "text": [
      "Epoch [1265/5000]: Train loss: 0.9576, Valid loss: 1.0237\n"
     ]
    },
    {
     "name": "stderr",
     "output_type": "stream",
     "text": [
      "Epoch [1266/5000]: 100%|██████████| 10/10 [00:00<00:00, 313.93it/s, loss=1.06]\n"
     ]
    },
    {
     "name": "stdout",
     "output_type": "stream",
     "text": [
      "Epoch [1266/5000]: Train loss: 0.9632, Valid loss: 0.9220\n"
     ]
    },
    {
     "name": "stderr",
     "output_type": "stream",
     "text": [
      "Epoch [1267/5000]: 100%|██████████| 10/10 [00:00<00:00, 322.78it/s, loss=1.25]\n"
     ]
    },
    {
     "name": "stdout",
     "output_type": "stream",
     "text": [
      "Epoch [1267/5000]: Train loss: 0.9430, Valid loss: 0.9006\n"
     ]
    },
    {
     "name": "stderr",
     "output_type": "stream",
     "text": [
      "Epoch [1268/5000]: 100%|██████████| 10/10 [00:00<00:00, 316.72it/s, loss=0.999]"
     ]
    },
    {
     "name": "stdout",
     "output_type": "stream",
     "text": [
      "Epoch [1268/5000]: Train loss: 0.9235, Valid loss: 0.9049\n"
     ]
    },
    {
     "name": "stderr",
     "output_type": "stream",
     "text": [
      "\n",
      "Epoch [1269/5000]: 100%|██████████| 10/10 [00:00<00:00, 313.67it/s, loss=0.925]\n"
     ]
    },
    {
     "name": "stdout",
     "output_type": "stream",
     "text": [
      "Epoch [1269/5000]: Train loss: 0.9252, Valid loss: 0.8973\n"
     ]
    },
    {
     "name": "stderr",
     "output_type": "stream",
     "text": [
      "Epoch [1270/5000]: 100%|██████████| 10/10 [00:00<00:00, 303.22it/s, loss=0.704]\n"
     ]
    },
    {
     "name": "stdout",
     "output_type": "stream",
     "text": [
      "Epoch [1270/5000]: Train loss: 0.9097, Valid loss: 0.9052\n"
     ]
    },
    {
     "name": "stderr",
     "output_type": "stream",
     "text": [
      "Epoch [1271/5000]: 100%|██████████| 10/10 [00:00<00:00, 313.57it/s, loss=0.885]\n"
     ]
    },
    {
     "name": "stdout",
     "output_type": "stream",
     "text": [
      "Epoch [1271/5000]: Train loss: 0.9170, Valid loss: 0.8983\n"
     ]
    },
    {
     "name": "stderr",
     "output_type": "stream",
     "text": [
      "Epoch [1272/5000]: 100%|██████████| 10/10 [00:00<00:00, 323.59it/s, loss=1.08]\n"
     ]
    },
    {
     "name": "stdout",
     "output_type": "stream",
     "text": [
      "Epoch [1272/5000]: Train loss: 0.9248, Valid loss: 0.8960\n"
     ]
    },
    {
     "name": "stderr",
     "output_type": "stream",
     "text": [
      "Epoch [1273/5000]: 100%|██████████| 10/10 [00:00<00:00, 336.86it/s, loss=0.81]\n"
     ]
    },
    {
     "name": "stdout",
     "output_type": "stream",
     "text": [
      "Epoch [1273/5000]: Train loss: 0.9146, Valid loss: 0.9136\n"
     ]
    },
    {
     "name": "stderr",
     "output_type": "stream",
     "text": [
      "Epoch [1274/5000]: 100%|██████████| 10/10 [00:00<00:00, 304.02it/s, loss=0.936]\n"
     ]
    },
    {
     "name": "stdout",
     "output_type": "stream",
     "text": [
      "Epoch [1274/5000]: Train loss: 0.9203, Valid loss: 0.8575\n"
     ]
    },
    {
     "name": "stderr",
     "output_type": "stream",
     "text": [
      "Epoch [1275/5000]: 100%|██████████| 10/10 [00:00<00:00, 323.75it/s, loss=0.853]\n"
     ]
    },
    {
     "name": "stdout",
     "output_type": "stream",
     "text": [
      "Epoch [1275/5000]: Train loss: 0.9248, Valid loss: 0.8696\n"
     ]
    },
    {
     "name": "stderr",
     "output_type": "stream",
     "text": [
      "Epoch [1276/5000]: 100%|██████████| 10/10 [00:00<00:00, 337.18it/s, loss=0.821]\n"
     ]
    },
    {
     "name": "stdout",
     "output_type": "stream",
     "text": [
      "Epoch [1276/5000]: Train loss: 0.9137, Valid loss: 0.9189\n"
     ]
    },
    {
     "name": "stderr",
     "output_type": "stream",
     "text": [
      "Epoch [1277/5000]: 100%|██████████| 10/10 [00:00<00:00, 271.38it/s, loss=1.1]\n"
     ]
    },
    {
     "name": "stdout",
     "output_type": "stream",
     "text": [
      "Epoch [1277/5000]: Train loss: 0.9277, Valid loss: 0.8920\n"
     ]
    },
    {
     "name": "stderr",
     "output_type": "stream",
     "text": [
      "Epoch [1278/5000]: 100%|██████████| 10/10 [00:00<00:00, 333.17it/s, loss=1.1]"
     ]
    },
    {
     "name": "stdout",
     "output_type": "stream",
     "text": [
      "Epoch [1278/5000]: Train loss: 0.9315, Valid loss: 0.8641\n"
     ]
    },
    {
     "name": "stderr",
     "output_type": "stream",
     "text": [
      "\n",
      "Epoch [1279/5000]: 100%|██████████| 10/10 [00:00<00:00, 334.53it/s, loss=0.903]\n"
     ]
    },
    {
     "name": "stdout",
     "output_type": "stream",
     "text": [
      "Epoch [1279/5000]: Train loss: 0.9205, Valid loss: 0.8372\n"
     ]
    },
    {
     "name": "stderr",
     "output_type": "stream",
     "text": [
      "Epoch [1280/5000]: 100%|██████████| 10/10 [00:00<00:00, 295.10it/s, loss=0.951]\n"
     ]
    },
    {
     "name": "stdout",
     "output_type": "stream",
     "text": [
      "Epoch [1280/5000]: Train loss: 0.9260, Valid loss: 0.9883\n"
     ]
    },
    {
     "name": "stderr",
     "output_type": "stream",
     "text": [
      "Epoch [1281/5000]: 100%|██████████| 10/10 [00:00<00:00, 337.02it/s, loss=0.865]\n"
     ]
    },
    {
     "name": "stdout",
     "output_type": "stream",
     "text": [
      "Epoch [1281/5000]: Train loss: 0.9151, Valid loss: 0.9171\n"
     ]
    },
    {
     "name": "stderr",
     "output_type": "stream",
     "text": [
      "Epoch [1282/5000]: 100%|██████████| 10/10 [00:00<00:00, 323.16it/s, loss=0.678]\n"
     ]
    },
    {
     "name": "stdout",
     "output_type": "stream",
     "text": [
      "Epoch [1282/5000]: Train loss: 0.9047, Valid loss: 0.9093\n"
     ]
    },
    {
     "name": "stderr",
     "output_type": "stream",
     "text": [
      "Epoch [1283/5000]: 100%|██████████| 10/10 [00:00<00:00, 304.04it/s, loss=0.882]\n"
     ]
    },
    {
     "name": "stdout",
     "output_type": "stream",
     "text": [
      "Epoch [1283/5000]: Train loss: 0.9139, Valid loss: 0.9110\n"
     ]
    },
    {
     "name": "stderr",
     "output_type": "stream",
     "text": [
      "Epoch [1284/5000]: 100%|██████████| 10/10 [00:00<00:00, 316.33it/s, loss=0.899]\n"
     ]
    },
    {
     "name": "stdout",
     "output_type": "stream",
     "text": [
      "Epoch [1284/5000]: Train loss: 0.9255, Valid loss: 0.8885\n"
     ]
    },
    {
     "name": "stderr",
     "output_type": "stream",
     "text": [
      "Epoch [1285/5000]: 100%|██████████| 10/10 [00:00<00:00, 335.35it/s, loss=1.14]\n"
     ]
    },
    {
     "name": "stdout",
     "output_type": "stream",
     "text": [
      "Epoch [1285/5000]: Train loss: 0.9448, Valid loss: 0.8614\n"
     ]
    },
    {
     "name": "stderr",
     "output_type": "stream",
     "text": [
      "Epoch [1286/5000]: 100%|██████████| 10/10 [00:00<00:00, 294.26it/s, loss=0.898]\n"
     ]
    },
    {
     "name": "stdout",
     "output_type": "stream",
     "text": [
      "Epoch [1286/5000]: Train loss: 0.9136, Valid loss: 0.8752\n"
     ]
    },
    {
     "name": "stderr",
     "output_type": "stream",
     "text": [
      "Epoch [1287/5000]: 100%|██████████| 10/10 [00:00<00:00, 325.02it/s, loss=1.01]\n"
     ]
    },
    {
     "name": "stdout",
     "output_type": "stream",
     "text": [
      "Epoch [1287/5000]: Train loss: 0.9226, Valid loss: 0.8694\n"
     ]
    },
    {
     "name": "stderr",
     "output_type": "stream",
     "text": [
      "Epoch [1288/5000]: 100%|██████████| 10/10 [00:00<00:00, 286.46it/s, loss=0.772]\n"
     ]
    },
    {
     "name": "stdout",
     "output_type": "stream",
     "text": [
      "Epoch [1288/5000]: Train loss: 0.9066, Valid loss: 0.9019\n"
     ]
    },
    {
     "name": "stderr",
     "output_type": "stream",
     "text": [
      "Epoch [1289/5000]: 100%|██████████| 10/10 [00:00<00:00, 272.38it/s, loss=0.886]\n"
     ]
    },
    {
     "name": "stdout",
     "output_type": "stream",
     "text": [
      "Epoch [1289/5000]: Train loss: 0.9436, Valid loss: 0.8700\n"
     ]
    },
    {
     "name": "stderr",
     "output_type": "stream",
     "text": [
      "Epoch [1290/5000]: 100%|██████████| 10/10 [00:00<00:00, 278.69it/s, loss=0.775]\n"
     ]
    },
    {
     "name": "stdout",
     "output_type": "stream",
     "text": [
      "Epoch [1290/5000]: Train loss: 0.9198, Valid loss: 0.9285\n"
     ]
    },
    {
     "name": "stderr",
     "output_type": "stream",
     "text": [
      "Epoch [1291/5000]: 100%|██████████| 10/10 [00:00<00:00, 322.78it/s, loss=1.28]\n"
     ]
    },
    {
     "name": "stdout",
     "output_type": "stream",
     "text": [
      "Epoch [1291/5000]: Train loss: 0.9499, Valid loss: 0.8898\n"
     ]
    },
    {
     "name": "stderr",
     "output_type": "stream",
     "text": [
      "Epoch [1292/5000]: 100%|██████████| 10/10 [00:00<00:00, 259.17it/s, loss=0.796]\n"
     ]
    },
    {
     "name": "stdout",
     "output_type": "stream",
     "text": [
      "Epoch [1292/5000]: Train loss: 0.9107, Valid loss: 0.8382\n"
     ]
    },
    {
     "name": "stderr",
     "output_type": "stream",
     "text": [
      "Epoch [1293/5000]: 100%|██████████| 10/10 [00:00<00:00, 304.00it/s, loss=0.978]\n"
     ]
    },
    {
     "name": "stdout",
     "output_type": "stream",
     "text": [
      "Epoch [1293/5000]: Train loss: 0.9301, Valid loss: 0.8828\n"
     ]
    },
    {
     "name": "stderr",
     "output_type": "stream",
     "text": [
      "Epoch [1294/5000]: 100%|██████████| 10/10 [00:00<00:00, 287.62it/s, loss=1.19]\n"
     ]
    },
    {
     "name": "stdout",
     "output_type": "stream",
     "text": [
      "Epoch [1294/5000]: Train loss: 0.9329, Valid loss: 0.8720\n"
     ]
    },
    {
     "name": "stderr",
     "output_type": "stream",
     "text": [
      "Epoch [1295/5000]: 100%|██████████| 10/10 [00:00<00:00, 323.79it/s, loss=0.957]\n"
     ]
    },
    {
     "name": "stdout",
     "output_type": "stream",
     "text": [
      "Epoch [1295/5000]: Train loss: 0.9196, Valid loss: 0.8597\n"
     ]
    },
    {
     "name": "stderr",
     "output_type": "stream",
     "text": [
      "Epoch [1296/5000]: 100%|██████████| 10/10 [00:00<00:00, 334.35it/s, loss=0.828]\n"
     ]
    },
    {
     "name": "stdout",
     "output_type": "stream",
     "text": [
      "Epoch [1296/5000]: Train loss: 0.9128, Valid loss: 0.8587\n"
     ]
    },
    {
     "name": "stderr",
     "output_type": "stream",
     "text": [
      "Epoch [1297/5000]: 100%|██████████| 10/10 [00:00<00:00, 326.93it/s, loss=0.959]\n"
     ]
    },
    {
     "name": "stdout",
     "output_type": "stream",
     "text": [
      "Epoch [1297/5000]: Train loss: 0.9184, Valid loss: 0.9117\n"
     ]
    },
    {
     "name": "stderr",
     "output_type": "stream",
     "text": [
      "Epoch [1298/5000]: 100%|██████████| 10/10 [00:00<00:00, 323.66it/s, loss=1.06]\n"
     ]
    },
    {
     "name": "stdout",
     "output_type": "stream",
     "text": [
      "Epoch [1298/5000]: Train loss: 0.9281, Valid loss: 0.8613\n"
     ]
    },
    {
     "name": "stderr",
     "output_type": "stream",
     "text": [
      "Epoch [1299/5000]: 100%|██████████| 10/10 [00:00<00:00, 323.13it/s, loss=1.42]\n"
     ]
    },
    {
     "name": "stdout",
     "output_type": "stream",
     "text": [
      "Epoch [1299/5000]: Train loss: 0.9504, Valid loss: 0.8413\n"
     ]
    },
    {
     "name": "stderr",
     "output_type": "stream",
     "text": [
      "Epoch [1300/5000]: 100%|██████████| 10/10 [00:00<00:00, 327.48it/s, loss=0.799]\n"
     ]
    },
    {
     "name": "stdout",
     "output_type": "stream",
     "text": [
      "Epoch [1300/5000]: Train loss: 0.9074, Valid loss: 0.9192\n"
     ]
    },
    {
     "name": "stderr",
     "output_type": "stream",
     "text": [
      "Epoch [1301/5000]: 100%|██████████| 10/10 [00:00<00:00, 346.55it/s, loss=0.832]\n"
     ]
    },
    {
     "name": "stdout",
     "output_type": "stream",
     "text": [
      "Epoch [1301/5000]: Train loss: 0.9116, Valid loss: 0.8861\n"
     ]
    },
    {
     "name": "stderr",
     "output_type": "stream",
     "text": [
      "Epoch [1302/5000]: 100%|██████████| 10/10 [00:00<00:00, 306.43it/s, loss=0.63]\n"
     ]
    },
    {
     "name": "stdout",
     "output_type": "stream",
     "text": [
      "Epoch [1302/5000]: Train loss: 0.8975, Valid loss: 0.9103\n"
     ]
    },
    {
     "name": "stderr",
     "output_type": "stream",
     "text": [
      "Epoch [1303/5000]: 100%|██████████| 10/10 [00:00<00:00, 257.28it/s, loss=1.02]\n"
     ]
    },
    {
     "name": "stdout",
     "output_type": "stream",
     "text": [
      "Epoch [1303/5000]: Train loss: 0.9223, Valid loss: 0.8890\n"
     ]
    },
    {
     "name": "stderr",
     "output_type": "stream",
     "text": [
      "Epoch [1304/5000]: 100%|██████████| 10/10 [00:00<00:00, 312.54it/s, loss=0.737]\n"
     ]
    },
    {
     "name": "stdout",
     "output_type": "stream",
     "text": [
      "Epoch [1304/5000]: Train loss: 0.9045, Valid loss: 0.9161\n"
     ]
    },
    {
     "name": "stderr",
     "output_type": "stream",
     "text": [
      "Epoch [1305/5000]: 100%|██████████| 10/10 [00:00<00:00, 306.87it/s, loss=0.993]\n"
     ]
    },
    {
     "name": "stdout",
     "output_type": "stream",
     "text": [
      "Epoch [1305/5000]: Train loss: 0.9208, Valid loss: 0.8877\n"
     ]
    },
    {
     "name": "stderr",
     "output_type": "stream",
     "text": [
      "Epoch [1306/5000]: 100%|██████████| 10/10 [00:00<00:00, 264.33it/s, loss=0.755]\n"
     ]
    },
    {
     "name": "stdout",
     "output_type": "stream",
     "text": [
      "Epoch [1306/5000]: Train loss: 0.9047, Valid loss: 0.8784\n"
     ]
    },
    {
     "name": "stderr",
     "output_type": "stream",
     "text": [
      "Epoch [1307/5000]: 100%|██████████| 10/10 [00:00<00:00, 281.39it/s, loss=0.943]\n"
     ]
    },
    {
     "name": "stdout",
     "output_type": "stream",
     "text": [
      "Epoch [1307/5000]: Train loss: 0.9208, Valid loss: 0.9228\n"
     ]
    },
    {
     "name": "stderr",
     "output_type": "stream",
     "text": [
      "Epoch [1308/5000]: 100%|██████████| 10/10 [00:00<00:00, 319.80it/s, loss=0.991]\n"
     ]
    },
    {
     "name": "stdout",
     "output_type": "stream",
     "text": [
      "Epoch [1308/5000]: Train loss: 0.9212, Valid loss: 0.8872\n"
     ]
    },
    {
     "name": "stderr",
     "output_type": "stream",
     "text": [
      "Epoch [1309/5000]: 100%|██████████| 10/10 [00:00<00:00, 293.88it/s, loss=0.859]\n"
     ]
    },
    {
     "name": "stdout",
     "output_type": "stream",
     "text": [
      "Epoch [1309/5000]: Train loss: 0.9107, Valid loss: 0.8632\n"
     ]
    },
    {
     "name": "stderr",
     "output_type": "stream",
     "text": [
      "Epoch [1310/5000]: 100%|██████████| 10/10 [00:00<00:00, 280.98it/s, loss=1.01]\n"
     ]
    },
    {
     "name": "stdout",
     "output_type": "stream",
     "text": [
      "Epoch [1310/5000]: Train loss: 0.9277, Valid loss: 0.9271\n"
     ]
    },
    {
     "name": "stderr",
     "output_type": "stream",
     "text": [
      "Epoch [1311/5000]: 100%|██████████| 10/10 [00:00<00:00, 303.98it/s, loss=0.688]\n"
     ]
    },
    {
     "name": "stdout",
     "output_type": "stream",
     "text": [
      "Epoch [1311/5000]: Train loss: 0.9088, Valid loss: 0.8959\n"
     ]
    },
    {
     "name": "stderr",
     "output_type": "stream",
     "text": [
      "Epoch [1312/5000]: 100%|██████████| 10/10 [00:00<00:00, 306.32it/s, loss=0.818]\n"
     ]
    },
    {
     "name": "stdout",
     "output_type": "stream",
     "text": [
      "Epoch [1312/5000]: Train loss: 0.9176, Valid loss: 0.8845\n"
     ]
    },
    {
     "name": "stderr",
     "output_type": "stream",
     "text": [
      "Epoch [1313/5000]: 100%|██████████| 10/10 [00:00<00:00, 232.11it/s, loss=0.706]\n"
     ]
    },
    {
     "name": "stdout",
     "output_type": "stream",
     "text": [
      "Epoch [1313/5000]: Train loss: 0.9023, Valid loss: 0.8848\n"
     ]
    },
    {
     "name": "stderr",
     "output_type": "stream",
     "text": [
      "Epoch [1314/5000]: 100%|██████████| 10/10 [00:00<00:00, 263.13it/s, loss=0.902]\n"
     ]
    },
    {
     "name": "stdout",
     "output_type": "stream",
     "text": [
      "Epoch [1314/5000]: Train loss: 0.9200, Valid loss: 0.9115\n"
     ]
    },
    {
     "name": "stderr",
     "output_type": "stream",
     "text": [
      "Epoch [1315/5000]: 100%|██████████| 10/10 [00:00<00:00, 264.09it/s, loss=0.857]\n"
     ]
    },
    {
     "name": "stdout",
     "output_type": "stream",
     "text": [
      "Epoch [1315/5000]: Train loss: 0.9134, Valid loss: 0.8751\n"
     ]
    },
    {
     "name": "stderr",
     "output_type": "stream",
     "text": [
      "Epoch [1316/5000]: 100%|██████████| 10/10 [00:00<00:00, 250.73it/s, loss=0.94]\n"
     ]
    },
    {
     "name": "stdout",
     "output_type": "stream",
     "text": [
      "Epoch [1316/5000]: Train loss: 0.9183, Valid loss: 0.9177\n"
     ]
    },
    {
     "name": "stderr",
     "output_type": "stream",
     "text": [
      "Epoch [1317/5000]: 100%|██████████| 10/10 [00:00<00:00, 271.78it/s, loss=0.927]\n"
     ]
    },
    {
     "name": "stdout",
     "output_type": "stream",
     "text": [
      "Epoch [1317/5000]: Train loss: 0.9156, Valid loss: 0.8978\n"
     ]
    },
    {
     "name": "stderr",
     "output_type": "stream",
     "text": [
      "Epoch [1318/5000]: 100%|██████████| 10/10 [00:00<00:00, 260.03it/s, loss=0.865]\n"
     ]
    },
    {
     "name": "stdout",
     "output_type": "stream",
     "text": [
      "Epoch [1318/5000]: Train loss: 0.9124, Valid loss: 0.9138\n"
     ]
    },
    {
     "name": "stderr",
     "output_type": "stream",
     "text": [
      "Epoch [1319/5000]: 100%|██████████| 10/10 [00:00<00:00, 273.62it/s, loss=0.838]\n"
     ]
    },
    {
     "name": "stdout",
     "output_type": "stream",
     "text": [
      "Epoch [1319/5000]: Train loss: 0.9097, Valid loss: 0.9943\n"
     ]
    },
    {
     "name": "stderr",
     "output_type": "stream",
     "text": [
      "Epoch [1320/5000]: 100%|██████████| 10/10 [00:00<00:00, 286.44it/s, loss=0.948]\n"
     ]
    },
    {
     "name": "stdout",
     "output_type": "stream",
     "text": [
      "Epoch [1320/5000]: Train loss: 0.9413, Valid loss: 0.9681\n"
     ]
    },
    {
     "name": "stderr",
     "output_type": "stream",
     "text": [
      "Epoch [1321/5000]: 100%|██████████| 10/10 [00:00<00:00, 266.06it/s, loss=0.879]\n"
     ]
    },
    {
     "name": "stdout",
     "output_type": "stream",
     "text": [
      "Epoch [1321/5000]: Train loss: 0.9594, Valid loss: 0.9141\n"
     ]
    },
    {
     "name": "stderr",
     "output_type": "stream",
     "text": [
      "Epoch [1322/5000]: 100%|██████████| 10/10 [00:00<00:00, 313.18it/s, loss=0.748]\n"
     ]
    },
    {
     "name": "stdout",
     "output_type": "stream",
     "text": [
      "Epoch [1322/5000]: Train loss: 0.9366, Valid loss: 0.8798\n"
     ]
    },
    {
     "name": "stderr",
     "output_type": "stream",
     "text": [
      "Epoch [1323/5000]: 100%|██████████| 10/10 [00:00<00:00, 295.33it/s, loss=0.987]\n"
     ]
    },
    {
     "name": "stdout",
     "output_type": "stream",
     "text": [
      "Epoch [1323/5000]: Train loss: 0.9227, Valid loss: 0.8623\n"
     ]
    },
    {
     "name": "stderr",
     "output_type": "stream",
     "text": [
      "Epoch [1324/5000]: 100%|██████████| 10/10 [00:00<00:00, 317.14it/s, loss=0.898]\n"
     ]
    },
    {
     "name": "stdout",
     "output_type": "stream",
     "text": [
      "Epoch [1324/5000]: Train loss: 0.9160, Valid loss: 0.8564\n"
     ]
    },
    {
     "name": "stderr",
     "output_type": "stream",
     "text": [
      "Epoch [1325/5000]: 100%|██████████| 10/10 [00:00<00:00, 278.32it/s, loss=1.19]\n"
     ]
    },
    {
     "name": "stdout",
     "output_type": "stream",
     "text": [
      "Epoch [1325/5000]: Train loss: 0.9309, Valid loss: 0.8692\n"
     ]
    },
    {
     "name": "stderr",
     "output_type": "stream",
     "text": [
      "Epoch [1326/5000]: 100%|██████████| 10/10 [00:00<00:00, 252.55it/s, loss=0.846]\n"
     ]
    },
    {
     "name": "stdout",
     "output_type": "stream",
     "text": [
      "Epoch [1326/5000]: Train loss: 0.9127, Valid loss: 0.9542\n"
     ]
    },
    {
     "name": "stderr",
     "output_type": "stream",
     "text": [
      "Epoch [1327/5000]: 100%|██████████| 10/10 [00:00<00:00, 257.53it/s, loss=0.878]\n"
     ]
    },
    {
     "name": "stdout",
     "output_type": "stream",
     "text": [
      "Epoch [1327/5000]: Train loss: 0.9291, Valid loss: 0.9280\n"
     ]
    },
    {
     "name": "stderr",
     "output_type": "stream",
     "text": [
      "Epoch [1328/5000]: 100%|██████████| 10/10 [00:00<00:00, 40.66it/s, loss=0.841]\n"
     ]
    },
    {
     "name": "stdout",
     "output_type": "stream",
     "text": [
      "Epoch [1328/5000]: Train loss: 0.9229, Valid loss: 0.8726\n"
     ]
    },
    {
     "name": "stderr",
     "output_type": "stream",
     "text": [
      "Epoch [1329/5000]: 100%|██████████| 10/10 [00:00<00:00, 220.09it/s, loss=0.825]\n"
     ]
    },
    {
     "name": "stdout",
     "output_type": "stream",
     "text": [
      "Epoch [1329/5000]: Train loss: 0.9120, Valid loss: 0.9436\n"
     ]
    },
    {
     "name": "stderr",
     "output_type": "stream",
     "text": [
      "Epoch [1330/5000]: 100%|██████████| 10/10 [00:00<00:00, 260.83it/s, loss=0.952]\n"
     ]
    },
    {
     "name": "stdout",
     "output_type": "stream",
     "text": [
      "Epoch [1330/5000]: Train loss: 0.9385, Valid loss: 0.8754\n"
     ]
    },
    {
     "name": "stderr",
     "output_type": "stream",
     "text": [
      "Epoch [1331/5000]: 100%|██████████| 10/10 [00:00<00:00, 226.13it/s, loss=1.05]\n"
     ]
    },
    {
     "name": "stdout",
     "output_type": "stream",
     "text": [
      "Epoch [1331/5000]: Train loss: 0.9379, Valid loss: 0.9132\n"
     ]
    },
    {
     "name": "stderr",
     "output_type": "stream",
     "text": [
      "Epoch [1332/5000]: 100%|██████████| 10/10 [00:00<00:00, 232.30it/s, loss=1.38]\n"
     ]
    },
    {
     "name": "stdout",
     "output_type": "stream",
     "text": [
      "Epoch [1332/5000]: Train loss: 0.9485, Valid loss: 0.8639\n"
     ]
    },
    {
     "name": "stderr",
     "output_type": "stream",
     "text": [
      "Epoch [1333/5000]: 100%|██████████| 10/10 [00:00<00:00, 200.51it/s, loss=0.868]\n"
     ]
    },
    {
     "name": "stdout",
     "output_type": "stream",
     "text": [
      "Epoch [1333/5000]: Train loss: 0.9128, Valid loss: 0.9446\n"
     ]
    },
    {
     "name": "stderr",
     "output_type": "stream",
     "text": [
      "Epoch [1334/5000]: 100%|██████████| 10/10 [00:00<00:00, 326.55it/s, loss=0.933]\n"
     ]
    },
    {
     "name": "stdout",
     "output_type": "stream",
     "text": [
      "Epoch [1334/5000]: Train loss: 0.9270, Valid loss: 0.9507\n"
     ]
    },
    {
     "name": "stderr",
     "output_type": "stream",
     "text": [
      "Epoch [1335/5000]: 100%|██████████| 10/10 [00:00<00:00, 280.05it/s, loss=1.58]\n"
     ]
    },
    {
     "name": "stdout",
     "output_type": "stream",
     "text": [
      "Epoch [1335/5000]: Train loss: 0.9791, Valid loss: 0.9424\n"
     ]
    },
    {
     "name": "stderr",
     "output_type": "stream",
     "text": [
      "Epoch [1336/5000]: 100%|██████████| 10/10 [00:00<00:00, 306.89it/s, loss=1.22]\n"
     ]
    },
    {
     "name": "stdout",
     "output_type": "stream",
     "text": [
      "Epoch [1336/5000]: Train loss: 0.9530, Valid loss: 0.9594\n"
     ]
    },
    {
     "name": "stderr",
     "output_type": "stream",
     "text": [
      "Epoch [1337/5000]: 100%|██████████| 10/10 [00:00<00:00, 317.93it/s, loss=0.765]\n"
     ]
    },
    {
     "name": "stdout",
     "output_type": "stream",
     "text": [
      "Epoch [1337/5000]: Train loss: 0.9220, Valid loss: 0.9026\n"
     ]
    },
    {
     "name": "stderr",
     "output_type": "stream",
     "text": [
      "Epoch [1338/5000]: 100%|██████████| 10/10 [00:00<00:00, 295.10it/s, loss=0.81]\n"
     ]
    },
    {
     "name": "stdout",
     "output_type": "stream",
     "text": [
      "Epoch [1338/5000]: Train loss: 0.9291, Valid loss: 0.9068\n"
     ]
    },
    {
     "name": "stderr",
     "output_type": "stream",
     "text": [
      "Epoch [1339/5000]: 100%|██████████| 10/10 [00:00<00:00, 243.24it/s, loss=0.857]\n"
     ]
    },
    {
     "name": "stdout",
     "output_type": "stream",
     "text": [
      "Epoch [1339/5000]: Train loss: 0.9100, Valid loss: 0.8841\n"
     ]
    },
    {
     "name": "stderr",
     "output_type": "stream",
     "text": [
      "Epoch [1340/5000]: 100%|██████████| 10/10 [00:00<00:00, 262.24it/s, loss=0.744]\n"
     ]
    },
    {
     "name": "stdout",
     "output_type": "stream",
     "text": [
      "Epoch [1340/5000]: Train loss: 0.9051, Valid loss: 0.9601\n"
     ]
    },
    {
     "name": "stderr",
     "output_type": "stream",
     "text": [
      "Epoch [1341/5000]: 100%|██████████| 10/10 [00:00<00:00, 255.90it/s, loss=1.01]\n"
     ]
    },
    {
     "name": "stdout",
     "output_type": "stream",
     "text": [
      "Epoch [1341/5000]: Train loss: 0.9293, Valid loss: 0.8793\n"
     ]
    },
    {
     "name": "stderr",
     "output_type": "stream",
     "text": [
      "Epoch [1342/5000]: 100%|██████████| 10/10 [00:00<00:00, 242.82it/s, loss=1.14]\n"
     ]
    },
    {
     "name": "stdout",
     "output_type": "stream",
     "text": [
      "Epoch [1342/5000]: Train loss: 0.9289, Valid loss: 0.8800\n"
     ]
    },
    {
     "name": "stderr",
     "output_type": "stream",
     "text": [
      "Epoch [1343/5000]: 100%|██████████| 10/10 [00:00<00:00, 271.22it/s, loss=0.525]\n"
     ]
    },
    {
     "name": "stdout",
     "output_type": "stream",
     "text": [
      "Epoch [1343/5000]: Train loss: 0.8975, Valid loss: 0.9009\n"
     ]
    },
    {
     "name": "stderr",
     "output_type": "stream",
     "text": [
      "Epoch [1344/5000]: 100%|██████████| 10/10 [00:00<00:00, 251.60it/s, loss=0.893]\n"
     ]
    },
    {
     "name": "stdout",
     "output_type": "stream",
     "text": [
      "Epoch [1344/5000]: Train loss: 0.9194, Valid loss: 0.9255\n"
     ]
    },
    {
     "name": "stderr",
     "output_type": "stream",
     "text": [
      "Epoch [1345/5000]: 100%|██████████| 10/10 [00:00<00:00, 232.48it/s, loss=1.01]\n"
     ]
    },
    {
     "name": "stdout",
     "output_type": "stream",
     "text": [
      "Epoch [1345/5000]: Train loss: 0.9272, Valid loss: 0.8672\n"
     ]
    },
    {
     "name": "stderr",
     "output_type": "stream",
     "text": [
      "Epoch [1346/5000]: 100%|██████████| 10/10 [00:00<00:00, 282.15it/s, loss=0.601]\n"
     ]
    },
    {
     "name": "stdout",
     "output_type": "stream",
     "text": [
      "Epoch [1346/5000]: Train loss: 0.8958, Valid loss: 0.8993\n"
     ]
    },
    {
     "name": "stderr",
     "output_type": "stream",
     "text": [
      "Epoch [1347/5000]: 100%|██████████| 10/10 [00:00<00:00, 295.04it/s, loss=0.791]\n"
     ]
    },
    {
     "name": "stdout",
     "output_type": "stream",
     "text": [
      "Epoch [1347/5000]: Train loss: 0.9118, Valid loss: 0.8260\n",
      "Saving model with loss 0.826...\n"
     ]
    },
    {
     "name": "stderr",
     "output_type": "stream",
     "text": [
      "Epoch [1348/5000]: 100%|██████████| 10/10 [00:00<00:00, 280.43it/s, loss=0.897]\n"
     ]
    },
    {
     "name": "stdout",
     "output_type": "stream",
     "text": [
      "Epoch [1348/5000]: Train loss: 0.9135, Valid loss: 0.9535\n"
     ]
    },
    {
     "name": "stderr",
     "output_type": "stream",
     "text": [
      "Epoch [1349/5000]: 100%|██████████| 10/10 [00:00<00:00, 269.11it/s, loss=0.914]\n"
     ]
    },
    {
     "name": "stdout",
     "output_type": "stream",
     "text": [
      "Epoch [1349/5000]: Train loss: 0.9296, Valid loss: 0.8752\n"
     ]
    },
    {
     "name": "stderr",
     "output_type": "stream",
     "text": [
      "Epoch [1350/5000]: 100%|██████████| 10/10 [00:00<00:00, 223.62it/s, loss=0.939]\n"
     ]
    },
    {
     "name": "stdout",
     "output_type": "stream",
     "text": [
      "Epoch [1350/5000]: Train loss: 0.9209, Valid loss: 0.9070\n"
     ]
    },
    {
     "name": "stderr",
     "output_type": "stream",
     "text": [
      "Epoch [1351/5000]: 100%|██████████| 10/10 [00:00<00:00, 295.18it/s, loss=0.964]"
     ]
    },
    {
     "name": "stdout",
     "output_type": "stream",
     "text": [
      "Epoch [1351/5000]: Train loss: 0.9135, Valid loss: 0.9021\n"
     ]
    },
    {
     "name": "stderr",
     "output_type": "stream",
     "text": [
      "\n",
      "Epoch [1352/5000]: 100%|██████████| 10/10 [00:00<00:00, 284.33it/s, loss=0.787]\n"
     ]
    },
    {
     "name": "stdout",
     "output_type": "stream",
     "text": [
      "Epoch [1352/5000]: Train loss: 0.9089, Valid loss: 0.8828\n"
     ]
    },
    {
     "name": "stderr",
     "output_type": "stream",
     "text": [
      "Epoch [1353/5000]: 100%|██████████| 10/10 [00:00<00:00, 288.57it/s, loss=0.849]\n"
     ]
    },
    {
     "name": "stdout",
     "output_type": "stream",
     "text": [
      "Epoch [1353/5000]: Train loss: 0.9361, Valid loss: 0.9058\n"
     ]
    },
    {
     "name": "stderr",
     "output_type": "stream",
     "text": [
      "Epoch [1354/5000]: 100%|██████████| 10/10 [00:00<00:00, 233.16it/s, loss=0.763]\n"
     ]
    },
    {
     "name": "stdout",
     "output_type": "stream",
     "text": [
      "Epoch [1354/5000]: Train loss: 0.9065, Valid loss: 0.8891\n"
     ]
    },
    {
     "name": "stderr",
     "output_type": "stream",
     "text": [
      "Epoch [1355/5000]: 100%|██████████| 10/10 [00:00<00:00, 252.28it/s, loss=1.1]\n"
     ]
    },
    {
     "name": "stdout",
     "output_type": "stream",
     "text": [
      "Epoch [1355/5000]: Train loss: 0.9368, Valid loss: 0.9423\n"
     ]
    },
    {
     "name": "stderr",
     "output_type": "stream",
     "text": [
      "Epoch [1356/5000]: 100%|██████████| 10/10 [00:00<00:00, 278.66it/s, loss=0.921]\n"
     ]
    },
    {
     "name": "stdout",
     "output_type": "stream",
     "text": [
      "Epoch [1356/5000]: Train loss: 0.9215, Valid loss: 0.9047\n"
     ]
    },
    {
     "name": "stderr",
     "output_type": "stream",
     "text": [
      "Epoch [1357/5000]: 100%|██████████| 10/10 [00:00<00:00, 288.27it/s, loss=0.995]\n"
     ]
    },
    {
     "name": "stdout",
     "output_type": "stream",
     "text": [
      "Epoch [1357/5000]: Train loss: 0.9251, Valid loss: 0.8788\n"
     ]
    },
    {
     "name": "stderr",
     "output_type": "stream",
     "text": [
      "Epoch [1358/5000]: 100%|██████████| 10/10 [00:00<00:00, 294.71it/s, loss=1.22]\n"
     ]
    },
    {
     "name": "stdout",
     "output_type": "stream",
     "text": [
      "Epoch [1358/5000]: Train loss: 0.9361, Valid loss: 0.8744\n"
     ]
    },
    {
     "name": "stderr",
     "output_type": "stream",
     "text": [
      "Epoch [1359/5000]: 100%|██████████| 10/10 [00:00<00:00, 238.41it/s, loss=1.1]\n"
     ]
    },
    {
     "name": "stdout",
     "output_type": "stream",
     "text": [
      "Epoch [1359/5000]: Train loss: 0.9216, Valid loss: 0.8664\n"
     ]
    },
    {
     "name": "stderr",
     "output_type": "stream",
     "text": [
      "Epoch [1360/5000]: 100%|██████████| 10/10 [00:00<00:00, 266.14it/s, loss=1.12]\n"
     ]
    },
    {
     "name": "stdout",
     "output_type": "stream",
     "text": [
      "Epoch [1360/5000]: Train loss: 0.9234, Valid loss: 0.8775\n"
     ]
    },
    {
     "name": "stderr",
     "output_type": "stream",
     "text": [
      "Epoch [1361/5000]: 100%|██████████| 10/10 [00:00<00:00, 264.10it/s, loss=1.04]\n"
     ]
    },
    {
     "name": "stdout",
     "output_type": "stream",
     "text": [
      "Epoch [1361/5000]: Train loss: 0.9203, Valid loss: 0.9553\n"
     ]
    },
    {
     "name": "stderr",
     "output_type": "stream",
     "text": [
      "Epoch [1362/5000]: 100%|██████████| 10/10 [00:00<00:00, 289.16it/s, loss=0.927]\n"
     ]
    },
    {
     "name": "stdout",
     "output_type": "stream",
     "text": [
      "Epoch [1362/5000]: Train loss: 0.9221, Valid loss: 0.9199\n"
     ]
    },
    {
     "name": "stderr",
     "output_type": "stream",
     "text": [
      "Epoch [1363/5000]: 100%|██████████| 10/10 [00:00<00:00, 278.76it/s, loss=0.832]\n"
     ]
    },
    {
     "name": "stdout",
     "output_type": "stream",
     "text": [
      "Epoch [1363/5000]: Train loss: 0.9168, Valid loss: 0.9161\n"
     ]
    },
    {
     "name": "stderr",
     "output_type": "stream",
     "text": [
      "Epoch [1364/5000]: 100%|██████████| 10/10 [00:00<00:00, 207.75it/s, loss=0.769]\n"
     ]
    },
    {
     "name": "stdout",
     "output_type": "stream",
     "text": [
      "Epoch [1364/5000]: Train loss: 0.9171, Valid loss: 0.9428\n"
     ]
    },
    {
     "name": "stderr",
     "output_type": "stream",
     "text": [
      "Epoch [1365/5000]: 100%|██████████| 10/10 [00:00<00:00, 294.54it/s, loss=0.781]\n"
     ]
    },
    {
     "name": "stdout",
     "output_type": "stream",
     "text": [
      "Epoch [1365/5000]: Train loss: 0.9245, Valid loss: 0.9519\n"
     ]
    },
    {
     "name": "stderr",
     "output_type": "stream",
     "text": [
      "Epoch [1366/5000]: 100%|██████████| 10/10 [00:00<00:00, 285.23it/s, loss=1.19]\n"
     ]
    },
    {
     "name": "stdout",
     "output_type": "stream",
     "text": [
      "Epoch [1366/5000]: Train loss: 0.9326, Valid loss: 0.8517\n"
     ]
    },
    {
     "name": "stderr",
     "output_type": "stream",
     "text": [
      "Epoch [1367/5000]: 100%|██████████| 10/10 [00:00<00:00, 295.43it/s, loss=0.754]\n"
     ]
    },
    {
     "name": "stdout",
     "output_type": "stream",
     "text": [
      "Epoch [1367/5000]: Train loss: 0.9233, Valid loss: 0.9331\n"
     ]
    },
    {
     "name": "stderr",
     "output_type": "stream",
     "text": [
      "Epoch [1368/5000]: 100%|██████████| 10/10 [00:00<00:00, 257.97it/s, loss=1.16]\n"
     ]
    },
    {
     "name": "stdout",
     "output_type": "stream",
     "text": [
      "Epoch [1368/5000]: Train loss: 0.9378, Valid loss: 0.8637\n"
     ]
    },
    {
     "name": "stderr",
     "output_type": "stream",
     "text": [
      "Epoch [1369/5000]: 100%|██████████| 10/10 [00:00<00:00, 253.14it/s, loss=0.881]\n"
     ]
    },
    {
     "name": "stdout",
     "output_type": "stream",
     "text": [
      "Epoch [1369/5000]: Train loss: 0.9192, Valid loss: 0.8618\n"
     ]
    },
    {
     "name": "stderr",
     "output_type": "stream",
     "text": [
      "Epoch [1370/5000]: 100%|██████████| 10/10 [00:00<00:00, 278.67it/s, loss=0.917]\n"
     ]
    },
    {
     "name": "stdout",
     "output_type": "stream",
     "text": [
      "Epoch [1370/5000]: Train loss: 0.9146, Valid loss: 0.8582\n"
     ]
    },
    {
     "name": "stderr",
     "output_type": "stream",
     "text": [
      "Epoch [1371/5000]: 100%|██████████| 10/10 [00:00<00:00, 248.53it/s, loss=0.928]\n"
     ]
    },
    {
     "name": "stdout",
     "output_type": "stream",
     "text": [
      "Epoch [1371/5000]: Train loss: 0.9108, Valid loss: 0.9522\n"
     ]
    },
    {
     "name": "stderr",
     "output_type": "stream",
     "text": [
      "Epoch [1372/5000]: 100%|██████████| 10/10 [00:00<00:00, 313.56it/s, loss=0.842]\n"
     ]
    },
    {
     "name": "stdout",
     "output_type": "stream",
     "text": [
      "Epoch [1372/5000]: Train loss: 0.9108, Valid loss: 0.9204\n"
     ]
    },
    {
     "name": "stderr",
     "output_type": "stream",
     "text": [
      "Epoch [1373/5000]: 100%|██████████| 10/10 [00:00<00:00, 199.27it/s, loss=0.802]\n"
     ]
    },
    {
     "name": "stdout",
     "output_type": "stream",
     "text": [
      "Epoch [1373/5000]: Train loss: 0.9143, Valid loss: 0.8737\n"
     ]
    },
    {
     "name": "stderr",
     "output_type": "stream",
     "text": [
      "Epoch [1374/5000]: 100%|██████████| 10/10 [00:00<00:00, 313.80it/s, loss=1.1]\n"
     ]
    },
    {
     "name": "stdout",
     "output_type": "stream",
     "text": [
      "Epoch [1374/5000]: Train loss: 0.9232, Valid loss: 0.8577\n"
     ]
    },
    {
     "name": "stderr",
     "output_type": "stream",
     "text": [
      "Epoch [1375/5000]: 100%|██████████| 10/10 [00:00<00:00, 277.69it/s, loss=0.808]\n"
     ]
    },
    {
     "name": "stdout",
     "output_type": "stream",
     "text": [
      "Epoch [1375/5000]: Train loss: 0.9043, Valid loss: 0.8595\n"
     ]
    },
    {
     "name": "stderr",
     "output_type": "stream",
     "text": [
      "Epoch [1376/5000]: 100%|██████████| 10/10 [00:00<00:00, 306.93it/s, loss=0.834]\n"
     ]
    },
    {
     "name": "stdout",
     "output_type": "stream",
     "text": [
      "Epoch [1376/5000]: Train loss: 0.9049, Valid loss: 0.8432\n"
     ]
    },
    {
     "name": "stderr",
     "output_type": "stream",
     "text": [
      "Epoch [1377/5000]: 100%|██████████| 10/10 [00:00<00:00, 278.50it/s, loss=0.679]\n"
     ]
    },
    {
     "name": "stdout",
     "output_type": "stream",
     "text": [
      "Epoch [1377/5000]: Train loss: 0.8964, Valid loss: 0.8593\n"
     ]
    },
    {
     "name": "stderr",
     "output_type": "stream",
     "text": [
      "Epoch [1378/5000]: 100%|██████████| 10/10 [00:00<00:00, 229.26it/s, loss=0.892]\n"
     ]
    },
    {
     "name": "stdout",
     "output_type": "stream",
     "text": [
      "Epoch [1378/5000]: Train loss: 0.9092, Valid loss: 0.9224\n"
     ]
    },
    {
     "name": "stderr",
     "output_type": "stream",
     "text": [
      "Epoch [1379/5000]: 100%|██████████| 10/10 [00:00<00:00, 278.62it/s, loss=0.952]\n"
     ]
    },
    {
     "name": "stdout",
     "output_type": "stream",
     "text": [
      "Epoch [1379/5000]: Train loss: 0.9137, Valid loss: 0.9019\n"
     ]
    },
    {
     "name": "stderr",
     "output_type": "stream",
     "text": [
      "Epoch [1380/5000]: 100%|██████████| 10/10 [00:00<00:00, 269.71it/s, loss=1]\n"
     ]
    },
    {
     "name": "stdout",
     "output_type": "stream",
     "text": [
      "Epoch [1380/5000]: Train loss: 0.9249, Valid loss: 0.9454\n"
     ]
    },
    {
     "name": "stderr",
     "output_type": "stream",
     "text": [
      "Epoch [1381/5000]: 100%|██████████| 10/10 [00:00<00:00, 257.22it/s, loss=0.845]\n"
     ]
    },
    {
     "name": "stdout",
     "output_type": "stream",
     "text": [
      "Epoch [1381/5000]: Train loss: 0.9336, Valid loss: 0.9643\n"
     ]
    },
    {
     "name": "stderr",
     "output_type": "stream",
     "text": [
      "Epoch [1382/5000]: 100%|██████████| 10/10 [00:00<00:00, 291.01it/s, loss=0.787]\n"
     ]
    },
    {
     "name": "stdout",
     "output_type": "stream",
     "text": [
      "Epoch [1382/5000]: Train loss: 0.9176, Valid loss: 0.9475\n"
     ]
    },
    {
     "name": "stderr",
     "output_type": "stream",
     "text": [
      "Epoch [1383/5000]: 100%|██████████| 10/10 [00:00<00:00, 252.59it/s, loss=0.966]\n"
     ]
    },
    {
     "name": "stdout",
     "output_type": "stream",
     "text": [
      "Epoch [1383/5000]: Train loss: 0.9274, Valid loss: 0.9775\n"
     ]
    },
    {
     "name": "stderr",
     "output_type": "stream",
     "text": [
      "Epoch [1384/5000]: 100%|██████████| 10/10 [00:00<00:00, 275.61it/s, loss=0.933]\n"
     ]
    },
    {
     "name": "stdout",
     "output_type": "stream",
     "text": [
      "Epoch [1384/5000]: Train loss: 0.9251, Valid loss: 0.9094\n"
     ]
    },
    {
     "name": "stderr",
     "output_type": "stream",
     "text": [
      "Epoch [1385/5000]: 100%|██████████| 10/10 [00:00<00:00, 230.03it/s, loss=0.775]\n"
     ]
    },
    {
     "name": "stdout",
     "output_type": "stream",
     "text": [
      "Epoch [1385/5000]: Train loss: 0.9107, Valid loss: 0.8687\n"
     ]
    },
    {
     "name": "stderr",
     "output_type": "stream",
     "text": [
      "Epoch [1386/5000]: 100%|██████████| 10/10 [00:00<00:00, 278.72it/s, loss=0.905]\n"
     ]
    },
    {
     "name": "stdout",
     "output_type": "stream",
     "text": [
      "Epoch [1386/5000]: Train loss: 0.9195, Valid loss: 0.8808\n"
     ]
    },
    {
     "name": "stderr",
     "output_type": "stream",
     "text": [
      "Epoch [1387/5000]: 100%|██████████| 10/10 [00:00<00:00, 258.10it/s, loss=0.865]"
     ]
    },
    {
     "name": "stdout",
     "output_type": "stream",
     "text": [
      "Epoch [1387/5000]: Train loss: 0.9137, Valid loss: 0.8863\n"
     ]
    },
    {
     "name": "stderr",
     "output_type": "stream",
     "text": [
      "\n",
      "Epoch [1388/5000]: 100%|██████████| 10/10 [00:00<00:00, 245.12it/s, loss=0.871]\n"
     ]
    },
    {
     "name": "stdout",
     "output_type": "stream",
     "text": [
      "Epoch [1388/5000]: Train loss: 0.9232, Valid loss: 0.8580\n"
     ]
    },
    {
     "name": "stderr",
     "output_type": "stream",
     "text": [
      "Epoch [1389/5000]: 100%|██████████| 10/10 [00:00<00:00, 265.26it/s, loss=0.821]\n"
     ]
    },
    {
     "name": "stdout",
     "output_type": "stream",
     "text": [
      "Epoch [1389/5000]: Train loss: 0.9105, Valid loss: 0.8625\n"
     ]
    },
    {
     "name": "stderr",
     "output_type": "stream",
     "text": [
      "Epoch [1390/5000]: 100%|██████████| 10/10 [00:00<00:00, 278.71it/s, loss=0.725]\n"
     ]
    },
    {
     "name": "stdout",
     "output_type": "stream",
     "text": [
      "Epoch [1390/5000]: Train loss: 0.9063, Valid loss: 0.8852\n"
     ]
    },
    {
     "name": "stderr",
     "output_type": "stream",
     "text": [
      "Epoch [1391/5000]: 100%|██████████| 10/10 [00:00<00:00, 270.55it/s, loss=0.758]\n"
     ]
    },
    {
     "name": "stdout",
     "output_type": "stream",
     "text": [
      "Epoch [1391/5000]: Train loss: 0.9118, Valid loss: 0.8864\n"
     ]
    },
    {
     "name": "stderr",
     "output_type": "stream",
     "text": [
      "Epoch [1392/5000]: 100%|██████████| 10/10 [00:00<00:00, 264.59it/s, loss=0.869]\n"
     ]
    },
    {
     "name": "stdout",
     "output_type": "stream",
     "text": [
      "Epoch [1392/5000]: Train loss: 0.9103, Valid loss: 0.8864\n"
     ]
    },
    {
     "name": "stderr",
     "output_type": "stream",
     "text": [
      "Epoch [1393/5000]: 100%|██████████| 10/10 [00:00<00:00, 303.65it/s, loss=0.871]\n"
     ]
    },
    {
     "name": "stdout",
     "output_type": "stream",
     "text": [
      "Epoch [1393/5000]: Train loss: 0.9222, Valid loss: 0.9323\n"
     ]
    },
    {
     "name": "stderr",
     "output_type": "stream",
     "text": [
      "Epoch [1394/5000]: 100%|██████████| 10/10 [00:00<00:00, 297.34it/s, loss=1.03]\n"
     ]
    },
    {
     "name": "stdout",
     "output_type": "stream",
     "text": [
      "Epoch [1394/5000]: Train loss: 0.9299, Valid loss: 0.8479\n"
     ]
    },
    {
     "name": "stderr",
     "output_type": "stream",
     "text": [
      "Epoch [1395/5000]: 100%|██████████| 10/10 [00:00<00:00, 263.77it/s, loss=1.08]\n"
     ]
    },
    {
     "name": "stdout",
     "output_type": "stream",
     "text": [
      "Epoch [1395/5000]: Train loss: 0.9230, Valid loss: 0.9286\n"
     ]
    },
    {
     "name": "stderr",
     "output_type": "stream",
     "text": [
      "Epoch [1396/5000]: 100%|██████████| 10/10 [00:00<00:00, 289.37it/s, loss=0.668]\n"
     ]
    },
    {
     "name": "stdout",
     "output_type": "stream",
     "text": [
      "Epoch [1396/5000]: Train loss: 0.8990, Valid loss: 0.8154\n",
      "Saving model with loss 0.815...\n"
     ]
    },
    {
     "name": "stderr",
     "output_type": "stream",
     "text": [
      "Epoch [1397/5000]: 100%|██████████| 10/10 [00:00<00:00, 313.54it/s, loss=0.922]\n"
     ]
    },
    {
     "name": "stdout",
     "output_type": "stream",
     "text": [
      "Epoch [1397/5000]: Train loss: 0.9111, Valid loss: 0.9017\n"
     ]
    },
    {
     "name": "stderr",
     "output_type": "stream",
     "text": [
      "Epoch [1398/5000]: 100%|██████████| 10/10 [00:00<00:00, 188.75it/s, loss=0.951]\n"
     ]
    },
    {
     "name": "stdout",
     "output_type": "stream",
     "text": [
      "Epoch [1398/5000]: Train loss: 0.9120, Valid loss: 0.9349\n"
     ]
    },
    {
     "name": "stderr",
     "output_type": "stream",
     "text": [
      "Epoch [1399/5000]: 100%|██████████| 10/10 [00:00<00:00, 284.77it/s, loss=0.707]\n"
     ]
    },
    {
     "name": "stdout",
     "output_type": "stream",
     "text": [
      "Epoch [1399/5000]: Train loss: 0.8991, Valid loss: 0.9156\n"
     ]
    },
    {
     "name": "stderr",
     "output_type": "stream",
     "text": [
      "Epoch [1400/5000]: 100%|██████████| 10/10 [00:00<00:00, 256.14it/s, loss=0.872]\n"
     ]
    },
    {
     "name": "stdout",
     "output_type": "stream",
     "text": [
      "Epoch [1400/5000]: Train loss: 0.9083, Valid loss: 0.8889\n"
     ]
    },
    {
     "name": "stderr",
     "output_type": "stream",
     "text": [
      "Epoch [1401/5000]: 100%|██████████| 10/10 [00:00<00:00, 292.72it/s, loss=0.838]\n"
     ]
    },
    {
     "name": "stdout",
     "output_type": "stream",
     "text": [
      "Epoch [1401/5000]: Train loss: 0.9122, Valid loss: 0.9109\n"
     ]
    },
    {
     "name": "stderr",
     "output_type": "stream",
     "text": [
      "Epoch [1402/5000]: 100%|██████████| 10/10 [00:00<00:00, 279.16it/s, loss=1.07]\n"
     ]
    },
    {
     "name": "stdout",
     "output_type": "stream",
     "text": [
      "Epoch [1402/5000]: Train loss: 0.9327, Valid loss: 0.9426\n"
     ]
    },
    {
     "name": "stderr",
     "output_type": "stream",
     "text": [
      "Epoch [1403/5000]: 100%|██████████| 10/10 [00:00<00:00, 171.19it/s, loss=0.854]\n"
     ]
    },
    {
     "name": "stdout",
     "output_type": "stream",
     "text": [
      "Epoch [1403/5000]: Train loss: 0.9285, Valid loss: 0.9267\n"
     ]
    },
    {
     "name": "stderr",
     "output_type": "stream",
     "text": [
      "Epoch [1404/5000]: 100%|██████████| 10/10 [00:00<00:00, 204.84it/s, loss=0.86]\n"
     ]
    },
    {
     "name": "stdout",
     "output_type": "stream",
     "text": [
      "Epoch [1404/5000]: Train loss: 0.9074, Valid loss: 0.9201\n"
     ]
    },
    {
     "name": "stderr",
     "output_type": "stream",
     "text": [
      "Epoch [1405/5000]: 100%|██████████| 10/10 [00:00<00:00, 250.84it/s, loss=0.994]\n"
     ]
    },
    {
     "name": "stdout",
     "output_type": "stream",
     "text": [
      "Epoch [1405/5000]: Train loss: 0.9150, Valid loss: 0.8762\n"
     ]
    },
    {
     "name": "stderr",
     "output_type": "stream",
     "text": [
      "Epoch [1406/5000]: 100%|██████████| 10/10 [00:00<00:00, 150.14it/s, loss=0.928]\n"
     ]
    },
    {
     "name": "stdout",
     "output_type": "stream",
     "text": [
      "Epoch [1406/5000]: Train loss: 0.9126, Valid loss: 0.8846\n"
     ]
    },
    {
     "name": "stderr",
     "output_type": "stream",
     "text": [
      "Epoch [1407/5000]: 100%|██████████| 10/10 [00:00<00:00, 175.91it/s, loss=0.804]\n"
     ]
    },
    {
     "name": "stdout",
     "output_type": "stream",
     "text": [
      "Epoch [1407/5000]: Train loss: 0.9028, Valid loss: 0.9035\n"
     ]
    },
    {
     "name": "stderr",
     "output_type": "stream",
     "text": [
      "Epoch [1408/5000]: 100%|██████████| 10/10 [00:00<00:00, 199.06it/s, loss=1.01]\n"
     ]
    },
    {
     "name": "stdout",
     "output_type": "stream",
     "text": [
      "Epoch [1408/5000]: Train loss: 0.9140, Valid loss: 0.8607\n"
     ]
    },
    {
     "name": "stderr",
     "output_type": "stream",
     "text": [
      "Epoch [1409/5000]: 100%|██████████| 10/10 [00:00<00:00, 277.03it/s, loss=1.09]\n"
     ]
    },
    {
     "name": "stdout",
     "output_type": "stream",
     "text": [
      "Epoch [1409/5000]: Train loss: 0.9265, Valid loss: 0.9015\n"
     ]
    },
    {
     "name": "stderr",
     "output_type": "stream",
     "text": [
      "Epoch [1410/5000]: 100%|██████████| 10/10 [00:00<00:00, 188.99it/s, loss=1.24]\n"
     ]
    },
    {
     "name": "stdout",
     "output_type": "stream",
     "text": [
      "Epoch [1410/5000]: Train loss: 0.9302, Valid loss: 0.8164\n"
     ]
    },
    {
     "name": "stderr",
     "output_type": "stream",
     "text": [
      "Epoch [1411/5000]: 100%|██████████| 10/10 [00:00<00:00, 235.74it/s, loss=1.42]\n"
     ]
    },
    {
     "name": "stdout",
     "output_type": "stream",
     "text": [
      "Epoch [1411/5000]: Train loss: 0.9460, Valid loss: 0.9584\n"
     ]
    },
    {
     "name": "stderr",
     "output_type": "stream",
     "text": [
      "Epoch [1412/5000]: 100%|██████████| 10/10 [00:00<00:00, 218.12it/s, loss=1.01]\n"
     ]
    },
    {
     "name": "stdout",
     "output_type": "stream",
     "text": [
      "Epoch [1412/5000]: Train loss: 0.9427, Valid loss: 0.8809\n"
     ]
    },
    {
     "name": "stderr",
     "output_type": "stream",
     "text": [
      "Epoch [1413/5000]: 100%|██████████| 10/10 [00:00<00:00, 197.47it/s, loss=0.819]\n"
     ]
    },
    {
     "name": "stdout",
     "output_type": "stream",
     "text": [
      "Epoch [1413/5000]: Train loss: 0.9223, Valid loss: 0.9152\n"
     ]
    },
    {
     "name": "stderr",
     "output_type": "stream",
     "text": [
      "Epoch [1414/5000]: 100%|██████████| 10/10 [00:00<00:00, 78.63it/s, loss=1.21]\n"
     ]
    },
    {
     "name": "stdout",
     "output_type": "stream",
     "text": [
      "Epoch [1414/5000]: Train loss: 0.9284, Valid loss: 0.9023\n"
     ]
    },
    {
     "name": "stderr",
     "output_type": "stream",
     "text": [
      "Epoch [1415/5000]: 100%|██████████| 10/10 [00:00<00:00, 295.07it/s, loss=1.28]\n"
     ]
    },
    {
     "name": "stdout",
     "output_type": "stream",
     "text": [
      "Epoch [1415/5000]: Train loss: 0.9314, Valid loss: 0.8993\n"
     ]
    },
    {
     "name": "stderr",
     "output_type": "stream",
     "text": [
      "Epoch [1416/5000]: 100%|██████████| 10/10 [00:00<00:00, 291.56it/s, loss=0.854]\n"
     ]
    },
    {
     "name": "stdout",
     "output_type": "stream",
     "text": [
      "Epoch [1416/5000]: Train loss: 0.9042, Valid loss: 0.9177\n"
     ]
    },
    {
     "name": "stderr",
     "output_type": "stream",
     "text": [
      "Epoch [1417/5000]: 100%|██████████| 10/10 [00:00<00:00, 282.55it/s, loss=0.977]\n"
     ]
    },
    {
     "name": "stdout",
     "output_type": "stream",
     "text": [
      "Epoch [1417/5000]: Train loss: 0.9104, Valid loss: 0.9320\n"
     ]
    },
    {
     "name": "stderr",
     "output_type": "stream",
     "text": [
      "Epoch [1418/5000]: 100%|██████████| 10/10 [00:00<00:00, 225.08it/s, loss=0.729]"
     ]
    },
    {
     "name": "stdout",
     "output_type": "stream",
     "text": [
      "Epoch [1418/5000]: Train loss: 0.9147, Valid loss: 0.8998\n"
     ]
    },
    {
     "name": "stderr",
     "output_type": "stream",
     "text": [
      "\n",
      "Epoch [1419/5000]: 100%|██████████| 10/10 [00:00<00:00, 219.85it/s, loss=0.766]\n"
     ]
    },
    {
     "name": "stdout",
     "output_type": "stream",
     "text": [
      "Epoch [1419/5000]: Train loss: 0.9121, Valid loss: 0.8719\n"
     ]
    },
    {
     "name": "stderr",
     "output_type": "stream",
     "text": [
      "Epoch [1420/5000]: 100%|██████████| 10/10 [00:00<00:00, 220.80it/s, loss=1.18]\n"
     ]
    },
    {
     "name": "stdout",
     "output_type": "stream",
     "text": [
      "Epoch [1420/5000]: Train loss: 0.9427, Valid loss: 0.9346\n"
     ]
    },
    {
     "name": "stderr",
     "output_type": "stream",
     "text": [
      "Epoch [1421/5000]: 100%|██████████| 10/10 [00:00<00:00, 209.74it/s, loss=1.01]\n"
     ]
    },
    {
     "name": "stdout",
     "output_type": "stream",
     "text": [
      "Epoch [1421/5000]: Train loss: 0.9247, Valid loss: 0.9060\n"
     ]
    },
    {
     "name": "stderr",
     "output_type": "stream",
     "text": [
      "Epoch [1422/5000]: 100%|██████████| 10/10 [00:00<00:00, 238.94it/s, loss=0.839]\n"
     ]
    },
    {
     "name": "stdout",
     "output_type": "stream",
     "text": [
      "Epoch [1422/5000]: Train loss: 0.9093, Valid loss: 0.9121\n"
     ]
    },
    {
     "name": "stderr",
     "output_type": "stream",
     "text": [
      "Epoch [1423/5000]: 100%|██████████| 10/10 [00:00<00:00, 345.95it/s, loss=0.775]\n"
     ]
    },
    {
     "name": "stdout",
     "output_type": "stream",
     "text": [
      "Epoch [1423/5000]: Train loss: 0.9014, Valid loss: 0.9269\n"
     ]
    },
    {
     "name": "stderr",
     "output_type": "stream",
     "text": [
      "Epoch [1424/5000]: 100%|██████████| 10/10 [00:00<00:00, 266.85it/s, loss=0.802]\n"
     ]
    },
    {
     "name": "stdout",
     "output_type": "stream",
     "text": [
      "Epoch [1424/5000]: Train loss: 0.9111, Valid loss: 0.8920\n"
     ]
    },
    {
     "name": "stderr",
     "output_type": "stream",
     "text": [
      "Epoch [1425/5000]: 100%|██████████| 10/10 [00:00<00:00, 277.23it/s, loss=0.743]\n"
     ]
    },
    {
     "name": "stdout",
     "output_type": "stream",
     "text": [
      "Epoch [1425/5000]: Train loss: 0.9142, Valid loss: 0.8812\n"
     ]
    },
    {
     "name": "stderr",
     "output_type": "stream",
     "text": [
      "Epoch [1426/5000]: 100%|██████████| 10/10 [00:00<00:00, 265.83it/s, loss=0.813]\n"
     ]
    },
    {
     "name": "stdout",
     "output_type": "stream",
     "text": [
      "Epoch [1426/5000]: Train loss: 0.9054, Valid loss: 0.8929\n"
     ]
    },
    {
     "name": "stderr",
     "output_type": "stream",
     "text": [
      "Epoch [1427/5000]: 100%|██████████| 10/10 [00:00<00:00, 251.24it/s, loss=1.11]\n"
     ]
    },
    {
     "name": "stdout",
     "output_type": "stream",
     "text": [
      "Epoch [1427/5000]: Train loss: 0.9234, Valid loss: 0.8706\n"
     ]
    },
    {
     "name": "stderr",
     "output_type": "stream",
     "text": [
      "Epoch [1428/5000]: 100%|██████████| 10/10 [00:00<00:00, 272.28it/s, loss=1.23]\n"
     ]
    },
    {
     "name": "stdout",
     "output_type": "stream",
     "text": [
      "Epoch [1428/5000]: Train loss: 0.9285, Valid loss: 0.8260\n"
     ]
    },
    {
     "name": "stderr",
     "output_type": "stream",
     "text": [
      "Epoch [1429/5000]: 100%|██████████| 10/10 [00:00<00:00, 219.82it/s, loss=0.664]\n"
     ]
    },
    {
     "name": "stdout",
     "output_type": "stream",
     "text": [
      "Epoch [1429/5000]: Train loss: 0.8951, Valid loss: 0.8753\n"
     ]
    },
    {
     "name": "stderr",
     "output_type": "stream",
     "text": [
      "Epoch [1430/5000]: 100%|██████████| 10/10 [00:00<00:00, 297.53it/s, loss=1.04]\n"
     ]
    },
    {
     "name": "stdout",
     "output_type": "stream",
     "text": [
      "Epoch [1430/5000]: Train loss: 0.9204, Valid loss: 0.8628\n"
     ]
    },
    {
     "name": "stderr",
     "output_type": "stream",
     "text": [
      "Epoch [1431/5000]: 100%|██████████| 10/10 [00:00<00:00, 195.76it/s, loss=1.03]\n"
     ]
    },
    {
     "name": "stdout",
     "output_type": "stream",
     "text": [
      "Epoch [1431/5000]: Train loss: 0.9303, Valid loss: 0.9772\n"
     ]
    },
    {
     "name": "stderr",
     "output_type": "stream",
     "text": [
      "Epoch [1432/5000]: 100%|██████████| 10/10 [00:00<00:00, 255.92it/s, loss=0.701]\n"
     ]
    },
    {
     "name": "stdout",
     "output_type": "stream",
     "text": [
      "Epoch [1432/5000]: Train loss: 0.9206, Valid loss: 0.8900\n"
     ]
    },
    {
     "name": "stderr",
     "output_type": "stream",
     "text": [
      "Epoch [1433/5000]: 100%|██████████| 10/10 [00:00<00:00, 261.17it/s, loss=1.02]\n"
     ]
    },
    {
     "name": "stdout",
     "output_type": "stream",
     "text": [
      "Epoch [1433/5000]: Train loss: 0.9166, Valid loss: 0.9271\n"
     ]
    },
    {
     "name": "stderr",
     "output_type": "stream",
     "text": [
      "Epoch [1434/5000]: 100%|██████████| 10/10 [00:00<00:00, 234.50it/s, loss=1.25]\n"
     ]
    },
    {
     "name": "stdout",
     "output_type": "stream",
     "text": [
      "Epoch [1434/5000]: Train loss: 0.9502, Valid loss: 0.8665\n"
     ]
    },
    {
     "name": "stderr",
     "output_type": "stream",
     "text": [
      "Epoch [1435/5000]: 100%|██████████| 10/10 [00:00<00:00, 286.65it/s, loss=0.912]\n"
     ]
    },
    {
     "name": "stdout",
     "output_type": "stream",
     "text": [
      "Epoch [1435/5000]: Train loss: 0.9131, Valid loss: 0.8136\n",
      "Saving model with loss 0.814...\n"
     ]
    },
    {
     "name": "stderr",
     "output_type": "stream",
     "text": [
      "Epoch [1436/5000]: 100%|██████████| 10/10 [00:00<00:00, 236.54it/s, loss=0.778]\n"
     ]
    },
    {
     "name": "stdout",
     "output_type": "stream",
     "text": [
      "Epoch [1436/5000]: Train loss: 0.9010, Valid loss: 0.8986\n"
     ]
    },
    {
     "name": "stderr",
     "output_type": "stream",
     "text": [
      "Epoch [1437/5000]: 100%|██████████| 10/10 [00:00<00:00, 271.19it/s, loss=0.982]\n"
     ]
    },
    {
     "name": "stdout",
     "output_type": "stream",
     "text": [
      "Epoch [1437/5000]: Train loss: 0.9121, Valid loss: 0.9396\n"
     ]
    },
    {
     "name": "stderr",
     "output_type": "stream",
     "text": [
      "Epoch [1438/5000]: 100%|██████████| 10/10 [00:00<00:00, 264.01it/s, loss=0.721]\n"
     ]
    },
    {
     "name": "stdout",
     "output_type": "stream",
     "text": [
      "Epoch [1438/5000]: Train loss: 0.8974, Valid loss: 0.9092\n"
     ]
    },
    {
     "name": "stderr",
     "output_type": "stream",
     "text": [
      "Epoch [1439/5000]: 100%|██████████| 10/10 [00:00<00:00, 299.05it/s, loss=1.21]\n"
     ]
    },
    {
     "name": "stdout",
     "output_type": "stream",
     "text": [
      "Epoch [1439/5000]: Train loss: 0.9310, Valid loss: 0.8790\n"
     ]
    },
    {
     "name": "stderr",
     "output_type": "stream",
     "text": [
      "Epoch [1440/5000]: 100%|██████████| 10/10 [00:00<00:00, 295.27it/s, loss=1.16]\n"
     ]
    },
    {
     "name": "stdout",
     "output_type": "stream",
     "text": [
      "Epoch [1440/5000]: Train loss: 0.9207, Valid loss: 0.8520\n"
     ]
    },
    {
     "name": "stderr",
     "output_type": "stream",
     "text": [
      "Epoch [1441/5000]: 100%|██████████| 10/10 [00:00<00:00, 291.09it/s, loss=0.919]\n"
     ]
    },
    {
     "name": "stdout",
     "output_type": "stream",
     "text": [
      "Epoch [1441/5000]: Train loss: 0.9069, Valid loss: 0.8589\n"
     ]
    },
    {
     "name": "stderr",
     "output_type": "stream",
     "text": [
      "Epoch [1442/5000]: 100%|██████████| 10/10 [00:00<00:00, 192.95it/s, loss=0.863]\n"
     ]
    },
    {
     "name": "stdout",
     "output_type": "stream",
     "text": [
      "Epoch [1442/5000]: Train loss: 0.9039, Valid loss: 0.8451\n"
     ]
    },
    {
     "name": "stderr",
     "output_type": "stream",
     "text": [
      "Epoch [1443/5000]: 100%|██████████| 10/10 [00:00<00:00, 247.64it/s, loss=0.821]\n"
     ]
    },
    {
     "name": "stdout",
     "output_type": "stream",
     "text": [
      "Epoch [1443/5000]: Train loss: 0.9024, Valid loss: 0.8731\n"
     ]
    },
    {
     "name": "stderr",
     "output_type": "stream",
     "text": [
      "Epoch [1444/5000]: 100%|██████████| 10/10 [00:00<00:00, 293.48it/s, loss=0.91]\n"
     ]
    },
    {
     "name": "stdout",
     "output_type": "stream",
     "text": [
      "Epoch [1444/5000]: Train loss: 0.9235, Valid loss: 0.8444\n"
     ]
    },
    {
     "name": "stderr",
     "output_type": "stream",
     "text": [
      "Epoch [1445/5000]: 100%|██████████| 10/10 [00:00<00:00, 316.10it/s, loss=0.751]"
     ]
    },
    {
     "name": "stdout",
     "output_type": "stream",
     "text": [
      "Epoch [1445/5000]: Train loss: 0.9044, Valid loss: 0.9057\n"
     ]
    },
    {
     "name": "stderr",
     "output_type": "stream",
     "text": [
      "\n",
      "Epoch [1446/5000]: 100%|██████████| 10/10 [00:00<00:00, 259.02it/s, loss=0.758]\n"
     ]
    },
    {
     "name": "stdout",
     "output_type": "stream",
     "text": [
      "Epoch [1446/5000]: Train loss: 0.9006, Valid loss: 0.8691\n"
     ]
    },
    {
     "name": "stderr",
     "output_type": "stream",
     "text": [
      "Epoch [1447/5000]: 100%|██████████| 10/10 [00:00<00:00, 278.72it/s, loss=1.1]\n"
     ]
    },
    {
     "name": "stdout",
     "output_type": "stream",
     "text": [
      "Epoch [1447/5000]: Train loss: 0.9267, Valid loss: 0.8737\n"
     ]
    },
    {
     "name": "stderr",
     "output_type": "stream",
     "text": [
      "Epoch [1448/5000]: 100%|██████████| 10/10 [00:00<00:00, 288.16it/s, loss=1.05]\n"
     ]
    },
    {
     "name": "stdout",
     "output_type": "stream",
     "text": [
      "Epoch [1448/5000]: Train loss: 0.9166, Valid loss: 0.9486\n"
     ]
    },
    {
     "name": "stderr",
     "output_type": "stream",
     "text": [
      "Epoch [1449/5000]: 100%|██████████| 10/10 [00:00<00:00, 257.23it/s, loss=0.889]\n"
     ]
    },
    {
     "name": "stdout",
     "output_type": "stream",
     "text": [
      "Epoch [1449/5000]: Train loss: 0.9035, Valid loss: 0.9401\n"
     ]
    },
    {
     "name": "stderr",
     "output_type": "stream",
     "text": [
      "Epoch [1450/5000]: 100%|██████████| 10/10 [00:00<00:00, 274.84it/s, loss=1.26]\n"
     ]
    },
    {
     "name": "stdout",
     "output_type": "stream",
     "text": [
      "Epoch [1450/5000]: Train loss: 0.9269, Valid loss: 0.8321\n"
     ]
    },
    {
     "name": "stderr",
     "output_type": "stream",
     "text": [
      "Epoch [1451/5000]: 100%|██████████| 10/10 [00:00<00:00, 290.04it/s, loss=0.757]\n"
     ]
    },
    {
     "name": "stdout",
     "output_type": "stream",
     "text": [
      "Epoch [1451/5000]: Train loss: 0.9005, Valid loss: 0.9210\n"
     ]
    },
    {
     "name": "stderr",
     "output_type": "stream",
     "text": [
      "Epoch [1452/5000]: 100%|██████████| 10/10 [00:00<00:00, 217.45it/s, loss=1.11]\n"
     ]
    },
    {
     "name": "stdout",
     "output_type": "stream",
     "text": [
      "Epoch [1452/5000]: Train loss: 0.9213, Valid loss: 0.8857\n"
     ]
    },
    {
     "name": "stderr",
     "output_type": "stream",
     "text": [
      "Epoch [1453/5000]: 100%|██████████| 10/10 [00:00<00:00, 271.13it/s, loss=1.27]\n"
     ]
    },
    {
     "name": "stdout",
     "output_type": "stream",
     "text": [
      "Epoch [1453/5000]: Train loss: 0.9267, Valid loss: 0.8410\n"
     ]
    },
    {
     "name": "stderr",
     "output_type": "stream",
     "text": [
      "Epoch [1454/5000]: 100%|██████████| 10/10 [00:00<00:00, 257.06it/s, loss=0.755]\n"
     ]
    },
    {
     "name": "stdout",
     "output_type": "stream",
     "text": [
      "Epoch [1454/5000]: Train loss: 0.8962, Valid loss: 0.9111\n"
     ]
    },
    {
     "name": "stderr",
     "output_type": "stream",
     "text": [
      "Epoch [1455/5000]: 100%|██████████| 10/10 [00:00<00:00, 290.71it/s, loss=0.744]\n"
     ]
    },
    {
     "name": "stdout",
     "output_type": "stream",
     "text": [
      "Epoch [1455/5000]: Train loss: 0.9022, Valid loss: 0.9007\n"
     ]
    },
    {
     "name": "stderr",
     "output_type": "stream",
     "text": [
      "Epoch [1456/5000]: 100%|██████████| 10/10 [00:00<00:00, 266.57it/s, loss=1.16]\n"
     ]
    },
    {
     "name": "stdout",
     "output_type": "stream",
     "text": [
      "Epoch [1456/5000]: Train loss: 0.9384, Valid loss: 0.8944\n"
     ]
    },
    {
     "name": "stderr",
     "output_type": "stream",
     "text": [
      "Epoch [1457/5000]: 100%|██████████| 10/10 [00:00<00:00, 315.92it/s, loss=1.09]\n"
     ]
    },
    {
     "name": "stdout",
     "output_type": "stream",
     "text": [
      "Epoch [1457/5000]: Train loss: 0.9241, Valid loss: 0.9688\n"
     ]
    },
    {
     "name": "stderr",
     "output_type": "stream",
     "text": [
      "Epoch [1458/5000]: 100%|██████████| 10/10 [00:00<00:00, 294.27it/s, loss=0.816]\n"
     ]
    },
    {
     "name": "stdout",
     "output_type": "stream",
     "text": [
      "Epoch [1458/5000]: Train loss: 0.9016, Valid loss: 0.9464\n"
     ]
    },
    {
     "name": "stderr",
     "output_type": "stream",
     "text": [
      "Epoch [1459/5000]: 100%|██████████| 10/10 [00:00<00:00, 294.15it/s, loss=1.25]\n"
     ]
    },
    {
     "name": "stdout",
     "output_type": "stream",
     "text": [
      "Epoch [1459/5000]: Train loss: 0.9307, Valid loss: 0.8376\n"
     ]
    },
    {
     "name": "stderr",
     "output_type": "stream",
     "text": [
      "Epoch [1460/5000]: 100%|██████████| 10/10 [00:00<00:00, 244.98it/s, loss=0.74]\n"
     ]
    },
    {
     "name": "stdout",
     "output_type": "stream",
     "text": [
      "Epoch [1460/5000]: Train loss: 0.9031, Valid loss: 0.8541\n"
     ]
    },
    {
     "name": "stderr",
     "output_type": "stream",
     "text": [
      "Epoch [1461/5000]: 100%|██████████| 10/10 [00:00<00:00, 250.30it/s, loss=1.24]\n"
     ]
    },
    {
     "name": "stdout",
     "output_type": "stream",
     "text": [
      "Epoch [1461/5000]: Train loss: 0.9382, Valid loss: 0.8900\n"
     ]
    },
    {
     "name": "stderr",
     "output_type": "stream",
     "text": [
      "Epoch [1462/5000]: 100%|██████████| 10/10 [00:00<00:00, 289.06it/s, loss=0.979]\n"
     ]
    },
    {
     "name": "stdout",
     "output_type": "stream",
     "text": [
      "Epoch [1462/5000]: Train loss: 0.9174, Valid loss: 0.8529\n"
     ]
    },
    {
     "name": "stderr",
     "output_type": "stream",
     "text": [
      "Epoch [1463/5000]: 100%|██████████| 10/10 [00:00<00:00, 271.00it/s, loss=1.13]\n"
     ]
    },
    {
     "name": "stdout",
     "output_type": "stream",
     "text": [
      "Epoch [1463/5000]: Train loss: 0.9230, Valid loss: 0.9072\n"
     ]
    },
    {
     "name": "stderr",
     "output_type": "stream",
     "text": [
      "Epoch [1464/5000]: 100%|██████████| 10/10 [00:00<00:00, 306.33it/s, loss=1.05]\n"
     ]
    },
    {
     "name": "stdout",
     "output_type": "stream",
     "text": [
      "Epoch [1464/5000]: Train loss: 0.9174, Valid loss: 0.8797\n"
     ]
    },
    {
     "name": "stderr",
     "output_type": "stream",
     "text": [
      "Epoch [1465/5000]: 100%|██████████| 10/10 [00:00<00:00, 286.67it/s, loss=0.807]\n"
     ]
    },
    {
     "name": "stdout",
     "output_type": "stream",
     "text": [
      "Epoch [1465/5000]: Train loss: 0.9006, Valid loss: 0.9206\n"
     ]
    },
    {
     "name": "stderr",
     "output_type": "stream",
     "text": [
      "Epoch [1466/5000]: 100%|██████████| 10/10 [00:00<00:00, 270.49it/s, loss=0.744]\n"
     ]
    },
    {
     "name": "stdout",
     "output_type": "stream",
     "text": [
      "Epoch [1466/5000]: Train loss: 0.8969, Valid loss: 0.9140\n"
     ]
    },
    {
     "name": "stderr",
     "output_type": "stream",
     "text": [
      "Epoch [1467/5000]: 100%|██████████| 10/10 [00:00<00:00, 256.96it/s, loss=1]\n"
     ]
    },
    {
     "name": "stdout",
     "output_type": "stream",
     "text": [
      "Epoch [1467/5000]: Train loss: 0.9112, Valid loss: 0.8744\n"
     ]
    },
    {
     "name": "stderr",
     "output_type": "stream",
     "text": [
      "Epoch [1468/5000]: 100%|██████████| 10/10 [00:00<00:00, 295.51it/s, loss=0.79]\n"
     ]
    },
    {
     "name": "stdout",
     "output_type": "stream",
     "text": [
      "Epoch [1468/5000]: Train loss: 0.8974, Valid loss: 0.8376\n"
     ]
    },
    {
     "name": "stderr",
     "output_type": "stream",
     "text": [
      "Epoch [1469/5000]: 100%|██████████| 10/10 [00:00<00:00, 298.11it/s, loss=0.737]\n"
     ]
    },
    {
     "name": "stdout",
     "output_type": "stream",
     "text": [
      "Epoch [1469/5000]: Train loss: 0.8954, Valid loss: 0.8795\n"
     ]
    },
    {
     "name": "stderr",
     "output_type": "stream",
     "text": [
      "Epoch [1470/5000]: 100%|██████████| 10/10 [00:00<00:00, 313.45it/s, loss=1.03]\n"
     ]
    },
    {
     "name": "stdout",
     "output_type": "stream",
     "text": [
      "Epoch [1470/5000]: Train loss: 0.9131, Valid loss: 0.8504\n"
     ]
    },
    {
     "name": "stderr",
     "output_type": "stream",
     "text": [
      "Epoch [1471/5000]: 100%|██████████| 10/10 [00:00<00:00, 273.89it/s, loss=0.956]\n"
     ]
    },
    {
     "name": "stdout",
     "output_type": "stream",
     "text": [
      "Epoch [1471/5000]: Train loss: 0.9095, Valid loss: 0.8625\n"
     ]
    },
    {
     "name": "stderr",
     "output_type": "stream",
     "text": [
      "Epoch [1472/5000]: 100%|██████████| 10/10 [00:00<00:00, 236.06it/s, loss=0.675]\n"
     ]
    },
    {
     "name": "stdout",
     "output_type": "stream",
     "text": [
      "Epoch [1472/5000]: Train loss: 0.8985, Valid loss: 0.8602\n"
     ]
    },
    {
     "name": "stderr",
     "output_type": "stream",
     "text": [
      "Epoch [1473/5000]: 100%|██████████| 10/10 [00:00<00:00, 263.32it/s, loss=0.817]\n"
     ]
    },
    {
     "name": "stdout",
     "output_type": "stream",
     "text": [
      "Epoch [1473/5000]: Train loss: 0.9026, Valid loss: 0.9226\n"
     ]
    },
    {
     "name": "stderr",
     "output_type": "stream",
     "text": [
      "Epoch [1474/5000]: 100%|██████████| 10/10 [00:00<00:00, 264.64it/s, loss=0.759]\n"
     ]
    },
    {
     "name": "stdout",
     "output_type": "stream",
     "text": [
      "Epoch [1474/5000]: Train loss: 0.9116, Valid loss: 0.8939\n"
     ]
    },
    {
     "name": "stderr",
     "output_type": "stream",
     "text": [
      "Epoch [1475/5000]: 100%|██████████| 10/10 [00:00<00:00, 278.70it/s, loss=1.01]\n"
     ]
    },
    {
     "name": "stdout",
     "output_type": "stream",
     "text": [
      "Epoch [1475/5000]: Train loss: 0.9185, Valid loss: 0.8829\n"
     ]
    },
    {
     "name": "stderr",
     "output_type": "stream",
     "text": [
      "Epoch [1476/5000]: 100%|██████████| 10/10 [00:00<00:00, 260.48it/s, loss=1.11]\n"
     ]
    },
    {
     "name": "stdout",
     "output_type": "stream",
     "text": [
      "Epoch [1476/5000]: Train loss: 0.9172, Valid loss: 0.8982\n"
     ]
    },
    {
     "name": "stderr",
     "output_type": "stream",
     "text": [
      "Epoch [1477/5000]: 100%|██████████| 10/10 [00:00<00:00, 268.85it/s, loss=1.07]\n"
     ]
    },
    {
     "name": "stdout",
     "output_type": "stream",
     "text": [
      "Epoch [1477/5000]: Train loss: 0.9188, Valid loss: 0.8175\n"
     ]
    },
    {
     "name": "stderr",
     "output_type": "stream",
     "text": [
      "Epoch [1478/5000]: 100%|██████████| 10/10 [00:00<00:00, 290.30it/s, loss=0.669]\n"
     ]
    },
    {
     "name": "stdout",
     "output_type": "stream",
     "text": [
      "Epoch [1478/5000]: Train loss: 0.8935, Valid loss: 0.9066\n"
     ]
    },
    {
     "name": "stderr",
     "output_type": "stream",
     "text": [
      "Epoch [1479/5000]: 100%|██████████| 10/10 [00:00<00:00, 303.95it/s, loss=0.915]\n"
     ]
    },
    {
     "name": "stdout",
     "output_type": "stream",
     "text": [
      "Epoch [1479/5000]: Train loss: 0.9142, Valid loss: 0.8677\n"
     ]
    },
    {
     "name": "stderr",
     "output_type": "stream",
     "text": [
      "Epoch [1480/5000]: 100%|██████████| 10/10 [00:00<00:00, 309.89it/s, loss=0.727]\n"
     ]
    },
    {
     "name": "stdout",
     "output_type": "stream",
     "text": [
      "Epoch [1480/5000]: Train loss: 0.9018, Valid loss: 0.8994\n"
     ]
    },
    {
     "name": "stderr",
     "output_type": "stream",
     "text": [
      "Epoch [1481/5000]: 100%|██████████| 10/10 [00:00<00:00, 334.18it/s, loss=0.874]\n"
     ]
    },
    {
     "name": "stdout",
     "output_type": "stream",
     "text": [
      "Epoch [1481/5000]: Train loss: 0.9068, Valid loss: 0.9192\n"
     ]
    },
    {
     "name": "stderr",
     "output_type": "stream",
     "text": [
      "Epoch [1482/5000]: 100%|██████████| 10/10 [00:00<00:00, 313.44it/s, loss=1.45]\n"
     ]
    },
    {
     "name": "stdout",
     "output_type": "stream",
     "text": [
      "Epoch [1482/5000]: Train loss: 0.9380, Valid loss: 0.8459\n"
     ]
    },
    {
     "name": "stderr",
     "output_type": "stream",
     "text": [
      "Epoch [1483/5000]: 100%|██████████| 10/10 [00:00<00:00, 229.61it/s, loss=0.826]\n"
     ]
    },
    {
     "name": "stdout",
     "output_type": "stream",
     "text": [
      "Epoch [1483/5000]: Train loss: 0.8997, Valid loss: 0.8896\n"
     ]
    },
    {
     "name": "stderr",
     "output_type": "stream",
     "text": [
      "Epoch [1484/5000]: 100%|██████████| 10/10 [00:00<00:00, 263.05it/s, loss=0.879]\n"
     ]
    },
    {
     "name": "stdout",
     "output_type": "stream",
     "text": [
      "Epoch [1484/5000]: Train loss: 0.9028, Valid loss: 0.8734\n"
     ]
    },
    {
     "name": "stderr",
     "output_type": "stream",
     "text": [
      "Epoch [1485/5000]: 100%|██████████| 10/10 [00:00<00:00, 323.43it/s, loss=0.886]\n"
     ]
    },
    {
     "name": "stdout",
     "output_type": "stream",
     "text": [
      "Epoch [1485/5000]: Train loss: 0.9027, Valid loss: 0.8913\n"
     ]
    },
    {
     "name": "stderr",
     "output_type": "stream",
     "text": [
      "Epoch [1486/5000]: 100%|██████████| 10/10 [00:00<00:00, 362.90it/s, loss=1.29]\n"
     ]
    },
    {
     "name": "stdout",
     "output_type": "stream",
     "text": [
      "Epoch [1486/5000]: Train loss: 0.9283, Valid loss: 0.8708\n"
     ]
    },
    {
     "name": "stderr",
     "output_type": "stream",
     "text": [
      "Epoch [1487/5000]: 100%|██████████| 10/10 [00:00<00:00, 343.24it/s, loss=0.991]\n"
     ]
    },
    {
     "name": "stdout",
     "output_type": "stream",
     "text": [
      "Epoch [1487/5000]: Train loss: 0.9118, Valid loss: 0.8673\n"
     ]
    },
    {
     "name": "stderr",
     "output_type": "stream",
     "text": [
      "Epoch [1488/5000]: 100%|██████████| 10/10 [00:00<00:00, 267.38it/s, loss=0.637]\n"
     ]
    },
    {
     "name": "stdout",
     "output_type": "stream",
     "text": [
      "Epoch [1488/5000]: Train loss: 0.8890, Valid loss: 0.8535\n"
     ]
    },
    {
     "name": "stderr",
     "output_type": "stream",
     "text": [
      "Epoch [1489/5000]: 100%|██████████| 10/10 [00:00<00:00, 267.16it/s, loss=1.13]\n"
     ]
    },
    {
     "name": "stdout",
     "output_type": "stream",
     "text": [
      "Epoch [1489/5000]: Train loss: 0.9173, Valid loss: 0.9229\n"
     ]
    },
    {
     "name": "stderr",
     "output_type": "stream",
     "text": [
      "Epoch [1490/5000]: 100%|██████████| 10/10 [00:00<00:00, 310.88it/s, loss=0.915]\n"
     ]
    },
    {
     "name": "stdout",
     "output_type": "stream",
     "text": [
      "Epoch [1490/5000]: Train loss: 0.9124, Valid loss: 0.8857\n"
     ]
    },
    {
     "name": "stderr",
     "output_type": "stream",
     "text": [
      "Epoch [1491/5000]: 100%|██████████| 10/10 [00:00<00:00, 328.83it/s, loss=1.04]\n"
     ]
    },
    {
     "name": "stdout",
     "output_type": "stream",
     "text": [
      "Epoch [1491/5000]: Train loss: 0.9155, Valid loss: 0.8728\n"
     ]
    },
    {
     "name": "stderr",
     "output_type": "stream",
     "text": [
      "Epoch [1492/5000]: 100%|██████████| 10/10 [00:00<00:00, 334.46it/s, loss=0.693]\n"
     ]
    },
    {
     "name": "stdout",
     "output_type": "stream",
     "text": [
      "Epoch [1492/5000]: Train loss: 0.8993, Valid loss: 0.8406\n"
     ]
    },
    {
     "name": "stderr",
     "output_type": "stream",
     "text": [
      "Epoch [1493/5000]: 100%|██████████| 10/10 [00:00<00:00, 346.30it/s, loss=1.12]\n"
     ]
    },
    {
     "name": "stdout",
     "output_type": "stream",
     "text": [
      "Epoch [1493/5000]: Train loss: 0.9216, Valid loss: 0.8613\n"
     ]
    },
    {
     "name": "stderr",
     "output_type": "stream",
     "text": [
      "Epoch [1494/5000]: 100%|██████████| 10/10 [00:00<00:00, 378.43it/s, loss=0.797]\n"
     ]
    },
    {
     "name": "stdout",
     "output_type": "stream",
     "text": [
      "Epoch [1494/5000]: Train loss: 0.9067, Valid loss: 0.8938\n"
     ]
    },
    {
     "name": "stderr",
     "output_type": "stream",
     "text": [
      "Epoch [1495/5000]: 100%|██████████| 10/10 [00:00<00:00, 312.20it/s, loss=0.904]\n"
     ]
    },
    {
     "name": "stdout",
     "output_type": "stream",
     "text": [
      "Epoch [1495/5000]: Train loss: 0.9105, Valid loss: 0.8559\n"
     ]
    },
    {
     "name": "stderr",
     "output_type": "stream",
     "text": [
      "Epoch [1496/5000]: 100%|██████████| 10/10 [00:00<00:00, 314.43it/s, loss=0.958]\n"
     ]
    },
    {
     "name": "stdout",
     "output_type": "stream",
     "text": [
      "Epoch [1496/5000]: Train loss: 0.9077, Valid loss: 0.8692\n"
     ]
    },
    {
     "name": "stderr",
     "output_type": "stream",
     "text": [
      "Epoch [1497/5000]: 100%|██████████| 10/10 [00:00<00:00, 313.36it/s, loss=0.82]\n"
     ]
    },
    {
     "name": "stdout",
     "output_type": "stream",
     "text": [
      "Epoch [1497/5000]: Train loss: 0.9106, Valid loss: 0.9072\n"
     ]
    },
    {
     "name": "stderr",
     "output_type": "stream",
     "text": [
      "Epoch [1498/5000]: 100%|██████████| 10/10 [00:00<00:00, 286.66it/s, loss=0.737]\n"
     ]
    },
    {
     "name": "stdout",
     "output_type": "stream",
     "text": [
      "Epoch [1498/5000]: Train loss: 0.9046, Valid loss: 0.9329\n"
     ]
    },
    {
     "name": "stderr",
     "output_type": "stream",
     "text": [
      "Epoch [1499/5000]: 100%|██████████| 10/10 [00:00<00:00, 262.99it/s, loss=0.868]\n"
     ]
    },
    {
     "name": "stdout",
     "output_type": "stream",
     "text": [
      "Epoch [1499/5000]: Train loss: 0.9104, Valid loss: 0.8845\n"
     ]
    },
    {
     "name": "stderr",
     "output_type": "stream",
     "text": [
      "Epoch [1500/5000]: 100%|██████████| 10/10 [00:00<00:00, 85.05it/s, loss=0.714]\n"
     ]
    },
    {
     "name": "stdout",
     "output_type": "stream",
     "text": [
      "Epoch [1500/5000]: Train loss: 0.8924, Valid loss: 0.8545\n"
     ]
    },
    {
     "name": "stderr",
     "output_type": "stream",
     "text": [
      "Epoch [1501/5000]: 100%|██████████| 10/10 [00:00<00:00, 314.65it/s, loss=1.03]\n"
     ]
    },
    {
     "name": "stdout",
     "output_type": "stream",
     "text": [
      "Epoch [1501/5000]: Train loss: 0.9116, Valid loss: 0.8641\n"
     ]
    },
    {
     "name": "stderr",
     "output_type": "stream",
     "text": [
      "Epoch [1502/5000]: 100%|██████████| 10/10 [00:00<00:00, 317.86it/s, loss=0.791]\n"
     ]
    },
    {
     "name": "stdout",
     "output_type": "stream",
     "text": [
      "Epoch [1502/5000]: Train loss: 0.8978, Valid loss: 0.8552\n"
     ]
    },
    {
     "name": "stderr",
     "output_type": "stream",
     "text": [
      "Epoch [1503/5000]: 100%|██████████| 10/10 [00:00<00:00, 312.58it/s, loss=0.641]\n"
     ]
    },
    {
     "name": "stdout",
     "output_type": "stream",
     "text": [
      "Epoch [1503/5000]: Train loss: 0.8915, Valid loss: 0.8695\n"
     ]
    },
    {
     "name": "stderr",
     "output_type": "stream",
     "text": [
      "Epoch [1504/5000]: 100%|██████████| 10/10 [00:00<00:00, 334.45it/s, loss=0.819]\n"
     ]
    },
    {
     "name": "stdout",
     "output_type": "stream",
     "text": [
      "Epoch [1504/5000]: Train loss: 0.9061, Valid loss: 0.9056\n"
     ]
    },
    {
     "name": "stderr",
     "output_type": "stream",
     "text": [
      "Epoch [1505/5000]: 100%|██████████| 10/10 [00:00<00:00, 301.42it/s, loss=1.17]\n"
     ]
    },
    {
     "name": "stdout",
     "output_type": "stream",
     "text": [
      "Epoch [1505/5000]: Train loss: 0.9281, Valid loss: 0.8728\n"
     ]
    },
    {
     "name": "stderr",
     "output_type": "stream",
     "text": [
      "Epoch [1506/5000]: 100%|██████████| 10/10 [00:00<00:00, 334.44it/s, loss=0.748]\n"
     ]
    },
    {
     "name": "stdout",
     "output_type": "stream",
     "text": [
      "Epoch [1506/5000]: Train loss: 0.8975, Valid loss: 0.9258\n"
     ]
    },
    {
     "name": "stderr",
     "output_type": "stream",
     "text": [
      "Epoch [1507/5000]: 100%|██████████| 10/10 [00:00<00:00, 323.49it/s, loss=0.947]\n"
     ]
    },
    {
     "name": "stdout",
     "output_type": "stream",
     "text": [
      "Epoch [1507/5000]: Train loss: 0.9159, Valid loss: 0.8945\n"
     ]
    },
    {
     "name": "stderr",
     "output_type": "stream",
     "text": [
      "Epoch [1508/5000]: 100%|██████████| 10/10 [00:00<00:00, 299.21it/s, loss=0.826]\n"
     ]
    },
    {
     "name": "stdout",
     "output_type": "stream",
     "text": [
      "Epoch [1508/5000]: Train loss: 0.9050, Valid loss: 0.9277\n"
     ]
    },
    {
     "name": "stderr",
     "output_type": "stream",
     "text": [
      "Epoch [1509/5000]: 100%|██████████| 10/10 [00:00<00:00, 335.05it/s, loss=0.634]\n"
     ]
    },
    {
     "name": "stdout",
     "output_type": "stream",
     "text": [
      "Epoch [1509/5000]: Train loss: 0.8872, Valid loss: 0.8756\n"
     ]
    },
    {
     "name": "stderr",
     "output_type": "stream",
     "text": [
      "Epoch [1510/5000]: 100%|██████████| 10/10 [00:00<00:00, 308.14it/s, loss=0.969]\n"
     ]
    },
    {
     "name": "stdout",
     "output_type": "stream",
     "text": [
      "Epoch [1510/5000]: Train loss: 0.9147, Valid loss: 0.9497\n"
     ]
    },
    {
     "name": "stderr",
     "output_type": "stream",
     "text": [
      "Epoch [1511/5000]: 100%|██████████| 10/10 [00:00<00:00, 243.64it/s, loss=1.38]\n"
     ]
    },
    {
     "name": "stdout",
     "output_type": "stream",
     "text": [
      "Epoch [1511/5000]: Train loss: 0.9444, Valid loss: 0.8204\n"
     ]
    },
    {
     "name": "stderr",
     "output_type": "stream",
     "text": [
      "Epoch [1512/5000]: 100%|██████████| 10/10 [00:00<00:00, 358.29it/s, loss=0.871]\n"
     ]
    },
    {
     "name": "stdout",
     "output_type": "stream",
     "text": [
      "Epoch [1512/5000]: Train loss: 0.9053, Valid loss: 0.8365\n"
     ]
    },
    {
     "name": "stderr",
     "output_type": "stream",
     "text": [
      "Epoch [1513/5000]: 100%|██████████| 10/10 [00:00<00:00, 278.14it/s, loss=0.932]\n"
     ]
    },
    {
     "name": "stdout",
     "output_type": "stream",
     "text": [
      "Epoch [1513/5000]: Train loss: 0.9069, Valid loss: 0.8846\n"
     ]
    },
    {
     "name": "stderr",
     "output_type": "stream",
     "text": [
      "Epoch [1514/5000]: 100%|██████████| 10/10 [00:00<00:00, 358.32it/s, loss=0.947]\n"
     ]
    },
    {
     "name": "stdout",
     "output_type": "stream",
     "text": [
      "Epoch [1514/5000]: Train loss: 0.9267, Valid loss: 0.8931\n"
     ]
    },
    {
     "name": "stderr",
     "output_type": "stream",
     "text": [
      "Epoch [1515/5000]: 100%|██████████| 10/10 [00:00<00:00, 334.30it/s, loss=0.933]\n"
     ]
    },
    {
     "name": "stdout",
     "output_type": "stream",
     "text": [
      "Epoch [1515/5000]: Train loss: 0.9153, Valid loss: 0.8590\n"
     ]
    },
    {
     "name": "stderr",
     "output_type": "stream",
     "text": [
      "Epoch [1516/5000]: 100%|██████████| 10/10 [00:00<00:00, 333.10it/s, loss=0.982]\n"
     ]
    },
    {
     "name": "stdout",
     "output_type": "stream",
     "text": [
      "Epoch [1516/5000]: Train loss: 0.9088, Valid loss: 0.8847\n"
     ]
    },
    {
     "name": "stderr",
     "output_type": "stream",
     "text": [
      "Epoch [1517/5000]: 100%|██████████| 10/10 [00:00<00:00, 313.51it/s, loss=1.15]\n"
     ]
    },
    {
     "name": "stdout",
     "output_type": "stream",
     "text": [
      "Epoch [1517/5000]: Train loss: 0.9242, Valid loss: 0.9263\n"
     ]
    },
    {
     "name": "stderr",
     "output_type": "stream",
     "text": [
      "Epoch [1518/5000]: 100%|██████████| 10/10 [00:00<00:00, 306.23it/s, loss=0.772]\n"
     ]
    },
    {
     "name": "stdout",
     "output_type": "stream",
     "text": [
      "Epoch [1518/5000]: Train loss: 0.8967, Valid loss: 0.8631\n"
     ]
    },
    {
     "name": "stderr",
     "output_type": "stream",
     "text": [
      "Epoch [1519/5000]: 100%|██████████| 10/10 [00:00<00:00, 313.49it/s, loss=1.43]\n"
     ]
    },
    {
     "name": "stdout",
     "output_type": "stream",
     "text": [
      "Epoch [1519/5000]: Train loss: 0.9384, Valid loss: 0.8555\n"
     ]
    },
    {
     "name": "stderr",
     "output_type": "stream",
     "text": [
      "Epoch [1520/5000]: 100%|██████████| 10/10 [00:00<00:00, 334.47it/s, loss=0.951]\n"
     ]
    },
    {
     "name": "stdout",
     "output_type": "stream",
     "text": [
      "Epoch [1520/5000]: Train loss: 0.9097, Valid loss: 0.8562\n"
     ]
    },
    {
     "name": "stderr",
     "output_type": "stream",
     "text": [
      "Epoch [1521/5000]: 100%|██████████| 10/10 [00:00<00:00, 288.49it/s, loss=0.706]\n"
     ]
    },
    {
     "name": "stdout",
     "output_type": "stream",
     "text": [
      "Epoch [1521/5000]: Train loss: 0.8914, Valid loss: 0.8801\n"
     ]
    },
    {
     "name": "stderr",
     "output_type": "stream",
     "text": [
      "Epoch [1522/5000]: 100%|██████████| 10/10 [00:00<00:00, 333.81it/s, loss=0.814]\n"
     ]
    },
    {
     "name": "stdout",
     "output_type": "stream",
     "text": [
      "Epoch [1522/5000]: Train loss: 0.8985, Valid loss: 0.9136\n"
     ]
    },
    {
     "name": "stderr",
     "output_type": "stream",
     "text": [
      "Epoch [1523/5000]: 100%|██████████| 10/10 [00:00<00:00, 291.28it/s, loss=0.857]\n"
     ]
    },
    {
     "name": "stdout",
     "output_type": "stream",
     "text": [
      "Epoch [1523/5000]: Train loss: 0.9024, Valid loss: 0.9186\n"
     ]
    },
    {
     "name": "stderr",
     "output_type": "stream",
     "text": [
      "Epoch [1524/5000]: 100%|██████████| 10/10 [00:00<00:00, 333.20it/s, loss=0.874]\n"
     ]
    },
    {
     "name": "stdout",
     "output_type": "stream",
     "text": [
      "Epoch [1524/5000]: Train loss: 0.9123, Valid loss: 0.8360\n"
     ]
    },
    {
     "name": "stderr",
     "output_type": "stream",
     "text": [
      "Epoch [1525/5000]: 100%|██████████| 10/10 [00:00<00:00, 303.91it/s, loss=1.05]\n"
     ]
    },
    {
     "name": "stdout",
     "output_type": "stream",
     "text": [
      "Epoch [1525/5000]: Train loss: 0.9120, Valid loss: 0.8597\n"
     ]
    },
    {
     "name": "stderr",
     "output_type": "stream",
     "text": [
      "Epoch [1526/5000]: 100%|██████████| 10/10 [00:00<00:00, 288.24it/s, loss=1.04]\n"
     ]
    },
    {
     "name": "stdout",
     "output_type": "stream",
     "text": [
      "Epoch [1526/5000]: Train loss: 0.9161, Valid loss: 0.8949\n"
     ]
    },
    {
     "name": "stderr",
     "output_type": "stream",
     "text": [
      "Epoch [1527/5000]: 100%|██████████| 10/10 [00:00<00:00, 304.12it/s, loss=1.01]\n"
     ]
    },
    {
     "name": "stdout",
     "output_type": "stream",
     "text": [
      "Epoch [1527/5000]: Train loss: 0.9111, Valid loss: 0.8834\n"
     ]
    },
    {
     "name": "stderr",
     "output_type": "stream",
     "text": [
      "Epoch [1528/5000]: 100%|██████████| 10/10 [00:00<00:00, 249.71it/s, loss=0.852]\n"
     ]
    },
    {
     "name": "stdout",
     "output_type": "stream",
     "text": [
      "Epoch [1528/5000]: Train loss: 0.9026, Valid loss: 0.9126\n"
     ]
    },
    {
     "name": "stderr",
     "output_type": "stream",
     "text": [
      "Epoch [1529/5000]: 100%|██████████| 10/10 [00:00<00:00, 327.05it/s, loss=0.857]\n"
     ]
    },
    {
     "name": "stdout",
     "output_type": "stream",
     "text": [
      "Epoch [1529/5000]: Train loss: 0.9020, Valid loss: 0.8885\n"
     ]
    },
    {
     "name": "stderr",
     "output_type": "stream",
     "text": [
      "Epoch [1530/5000]: 100%|██████████| 10/10 [00:00<00:00, 262.11it/s, loss=0.972]\n"
     ]
    },
    {
     "name": "stdout",
     "output_type": "stream",
     "text": [
      "Epoch [1530/5000]: Train loss: 0.9071, Valid loss: 0.8589\n"
     ]
    },
    {
     "name": "stderr",
     "output_type": "stream",
     "text": [
      "Epoch [1531/5000]: 100%|██████████| 10/10 [00:00<00:00, 338.86it/s, loss=0.925]\n"
     ]
    },
    {
     "name": "stdout",
     "output_type": "stream",
     "text": [
      "Epoch [1531/5000]: Train loss: 0.9065, Valid loss: 0.9662\n"
     ]
    },
    {
     "name": "stderr",
     "output_type": "stream",
     "text": [
      "Epoch [1532/5000]: 100%|██████████| 10/10 [00:00<00:00, 356.91it/s, loss=0.801]\n"
     ]
    },
    {
     "name": "stdout",
     "output_type": "stream",
     "text": [
      "Epoch [1532/5000]: Train loss: 0.9003, Valid loss: 0.8824\n"
     ]
    },
    {
     "name": "stderr",
     "output_type": "stream",
     "text": [
      "Epoch [1533/5000]: 100%|██████████| 10/10 [00:00<00:00, 323.90it/s, loss=0.991]\n"
     ]
    },
    {
     "name": "stdout",
     "output_type": "stream",
     "text": [
      "Epoch [1533/5000]: Train loss: 0.9104, Valid loss: 0.8855\n"
     ]
    },
    {
     "name": "stderr",
     "output_type": "stream",
     "text": [
      "Epoch [1534/5000]: 100%|██████████| 10/10 [00:00<00:00, 307.82it/s, loss=0.76]\n"
     ]
    },
    {
     "name": "stdout",
     "output_type": "stream",
     "text": [
      "Epoch [1534/5000]: Train loss: 0.9027, Valid loss: 0.9219\n"
     ]
    },
    {
     "name": "stderr",
     "output_type": "stream",
     "text": [
      "Epoch [1535/5000]: 100%|██████████| 10/10 [00:00<00:00, 344.35it/s, loss=0.9]\n"
     ]
    },
    {
     "name": "stdout",
     "output_type": "stream",
     "text": [
      "Epoch [1535/5000]: Train loss: 0.9127, Valid loss: 0.8340\n"
     ]
    },
    {
     "name": "stderr",
     "output_type": "stream",
     "text": [
      "Epoch [1536/5000]: 100%|██████████| 10/10 [00:00<00:00, 312.35it/s, loss=1.21]\n"
     ]
    },
    {
     "name": "stdout",
     "output_type": "stream",
     "text": [
      "Epoch [1536/5000]: Train loss: 0.9235, Valid loss: 0.8560\n"
     ]
    },
    {
     "name": "stderr",
     "output_type": "stream",
     "text": [
      "Epoch [1537/5000]: 100%|██████████| 10/10 [00:00<00:00, 290.76it/s, loss=0.723]\n"
     ]
    },
    {
     "name": "stdout",
     "output_type": "stream",
     "text": [
      "Epoch [1537/5000]: Train loss: 0.8985, Valid loss: 0.9292\n"
     ]
    },
    {
     "name": "stderr",
     "output_type": "stream",
     "text": [
      "Epoch [1538/5000]: 100%|██████████| 10/10 [00:00<00:00, 323.63it/s, loss=1.09]\n"
     ]
    },
    {
     "name": "stdout",
     "output_type": "stream",
     "text": [
      "Epoch [1538/5000]: Train loss: 0.9207, Valid loss: 0.8741\n"
     ]
    },
    {
     "name": "stderr",
     "output_type": "stream",
     "text": [
      "Epoch [1539/5000]: 100%|██████████| 10/10 [00:00<00:00, 314.75it/s, loss=1.19]"
     ]
    },
    {
     "name": "stdout",
     "output_type": "stream",
     "text": [
      "Epoch [1539/5000]: Train loss: 0.9176, Valid loss: 0.8686\n"
     ]
    },
    {
     "name": "stderr",
     "output_type": "stream",
     "text": [
      "\n",
      "Epoch [1540/5000]: 100%|██████████| 10/10 [00:00<00:00, 293.93it/s, loss=0.765]\n"
     ]
    },
    {
     "name": "stdout",
     "output_type": "stream",
     "text": [
      "Epoch [1540/5000]: Train loss: 0.9085, Valid loss: 0.8586\n"
     ]
    },
    {
     "name": "stderr",
     "output_type": "stream",
     "text": [
      "Epoch [1541/5000]: 100%|██████████| 10/10 [00:00<00:00, 322.49it/s, loss=1]\n"
     ]
    },
    {
     "name": "stdout",
     "output_type": "stream",
     "text": [
      "Epoch [1541/5000]: Train loss: 0.9219, Valid loss: 0.9085\n"
     ]
    },
    {
     "name": "stderr",
     "output_type": "stream",
     "text": [
      "Epoch [1542/5000]: 100%|██████████| 10/10 [00:00<00:00, 305.93it/s, loss=0.667]\n"
     ]
    },
    {
     "name": "stdout",
     "output_type": "stream",
     "text": [
      "Epoch [1542/5000]: Train loss: 0.8968, Valid loss: 0.9177\n"
     ]
    },
    {
     "name": "stderr",
     "output_type": "stream",
     "text": [
      "Epoch [1543/5000]: 100%|██████████| 10/10 [00:00<00:00, 323.80it/s, loss=0.876]\n"
     ]
    },
    {
     "name": "stdout",
     "output_type": "stream",
     "text": [
      "Epoch [1543/5000]: Train loss: 0.9192, Valid loss: 0.9190\n"
     ]
    },
    {
     "name": "stderr",
     "output_type": "stream",
     "text": [
      "Epoch [1544/5000]: 100%|██████████| 10/10 [00:00<00:00, 233.12it/s, loss=0.83]\n"
     ]
    },
    {
     "name": "stdout",
     "output_type": "stream",
     "text": [
      "Epoch [1544/5000]: Train loss: 0.9304, Valid loss: 0.9423\n"
     ]
    },
    {
     "name": "stderr",
     "output_type": "stream",
     "text": [
      "Epoch [1545/5000]: 100%|██████████| 10/10 [00:00<00:00, 288.46it/s, loss=0.933]\n"
     ]
    },
    {
     "name": "stdout",
     "output_type": "stream",
     "text": [
      "Epoch [1545/5000]: Train loss: 0.9164, Valid loss: 0.8430\n"
     ]
    },
    {
     "name": "stderr",
     "output_type": "stream",
     "text": [
      "Epoch [1546/5000]: 100%|██████████| 10/10 [00:00<00:00, 371.11it/s, loss=0.731]\n"
     ]
    },
    {
     "name": "stdout",
     "output_type": "stream",
     "text": [
      "Epoch [1546/5000]: Train loss: 0.8996, Valid loss: 0.8660\n"
     ]
    },
    {
     "name": "stderr",
     "output_type": "stream",
     "text": [
      "Epoch [1547/5000]: 100%|██████████| 10/10 [00:00<00:00, 334.95it/s, loss=0.915]\n"
     ]
    },
    {
     "name": "stdout",
     "output_type": "stream",
     "text": [
      "Epoch [1547/5000]: Train loss: 0.9077, Valid loss: 0.8851\n"
     ]
    },
    {
     "name": "stderr",
     "output_type": "stream",
     "text": [
      "Epoch [1548/5000]: 100%|██████████| 10/10 [00:00<00:00, 334.15it/s, loss=0.7]\n"
     ]
    },
    {
     "name": "stdout",
     "output_type": "stream",
     "text": [
      "Epoch [1548/5000]: Train loss: 0.8978, Valid loss: 0.8792\n"
     ]
    },
    {
     "name": "stderr",
     "output_type": "stream",
     "text": [
      "Epoch [1549/5000]: 100%|██████████| 10/10 [00:00<00:00, 304.83it/s, loss=0.656]\n"
     ]
    },
    {
     "name": "stdout",
     "output_type": "stream",
     "text": [
      "Epoch [1549/5000]: Train loss: 0.8870, Valid loss: 0.8690\n"
     ]
    },
    {
     "name": "stderr",
     "output_type": "stream",
     "text": [
      "Epoch [1550/5000]: 100%|██████████| 10/10 [00:00<00:00, 275.70it/s, loss=0.705]\n"
     ]
    },
    {
     "name": "stdout",
     "output_type": "stream",
     "text": [
      "Epoch [1550/5000]: Train loss: 0.8949, Valid loss: 0.8264\n"
     ]
    },
    {
     "name": "stderr",
     "output_type": "stream",
     "text": [
      "Epoch [1551/5000]: 100%|██████████| 10/10 [00:00<00:00, 250.62it/s, loss=0.653]\n"
     ]
    },
    {
     "name": "stdout",
     "output_type": "stream",
     "text": [
      "Epoch [1551/5000]: Train loss: 0.8870, Valid loss: 0.9234\n"
     ]
    },
    {
     "name": "stderr",
     "output_type": "stream",
     "text": [
      "Epoch [1552/5000]: 100%|██████████| 10/10 [00:00<00:00, 273.59it/s, loss=0.699]\n"
     ]
    },
    {
     "name": "stdout",
     "output_type": "stream",
     "text": [
      "Epoch [1552/5000]: Train loss: 0.8889, Valid loss: 0.9033\n"
     ]
    },
    {
     "name": "stderr",
     "output_type": "stream",
     "text": [
      "Epoch [1553/5000]: 100%|██████████| 10/10 [00:00<00:00, 254.27it/s, loss=0.916]\n"
     ]
    },
    {
     "name": "stdout",
     "output_type": "stream",
     "text": [
      "Epoch [1553/5000]: Train loss: 0.9039, Valid loss: 0.9246\n"
     ]
    },
    {
     "name": "stderr",
     "output_type": "stream",
     "text": [
      "Epoch [1554/5000]: 100%|██████████| 10/10 [00:00<00:00, 290.95it/s, loss=0.881]\n"
     ]
    },
    {
     "name": "stdout",
     "output_type": "stream",
     "text": [
      "Epoch [1554/5000]: Train loss: 0.9080, Valid loss: 0.9288\n"
     ]
    },
    {
     "name": "stderr",
     "output_type": "stream",
     "text": [
      "Epoch [1555/5000]: 100%|██████████| 10/10 [00:00<00:00, 269.10it/s, loss=0.915]\n"
     ]
    },
    {
     "name": "stdout",
     "output_type": "stream",
     "text": [
      "Epoch [1555/5000]: Train loss: 0.9013, Valid loss: 0.8431\n"
     ]
    },
    {
     "name": "stderr",
     "output_type": "stream",
     "text": [
      "Epoch [1556/5000]: 100%|██████████| 10/10 [00:00<00:00, 279.01it/s, loss=0.978]\n"
     ]
    },
    {
     "name": "stdout",
     "output_type": "stream",
     "text": [
      "Epoch [1556/5000]: Train loss: 0.9053, Valid loss: 0.8602\n"
     ]
    },
    {
     "name": "stderr",
     "output_type": "stream",
     "text": [
      "Epoch [1557/5000]: 100%|██████████| 10/10 [00:00<00:00, 309.40it/s, loss=0.941]\n"
     ]
    },
    {
     "name": "stdout",
     "output_type": "stream",
     "text": [
      "Epoch [1557/5000]: Train loss: 0.9085, Valid loss: 0.9036\n"
     ]
    },
    {
     "name": "stderr",
     "output_type": "stream",
     "text": [
      "Epoch [1558/5000]: 100%|██████████| 10/10 [00:00<00:00, 344.69it/s, loss=1.41]\n"
     ]
    },
    {
     "name": "stdout",
     "output_type": "stream",
     "text": [
      "Epoch [1558/5000]: Train loss: 0.9462, Valid loss: 0.9182\n"
     ]
    },
    {
     "name": "stderr",
     "output_type": "stream",
     "text": [
      "Epoch [1559/5000]: 100%|██████████| 10/10 [00:00<00:00, 333.17it/s, loss=0.902]\n"
     ]
    },
    {
     "name": "stdout",
     "output_type": "stream",
     "text": [
      "Epoch [1559/5000]: Train loss: 0.9088, Valid loss: 0.8671\n"
     ]
    },
    {
     "name": "stderr",
     "output_type": "stream",
     "text": [
      "Epoch [1560/5000]: 100%|██████████| 10/10 [00:00<00:00, 327.03it/s, loss=0.966]\n"
     ]
    },
    {
     "name": "stdout",
     "output_type": "stream",
     "text": [
      "Epoch [1560/5000]: Train loss: 0.9254, Valid loss: 0.8556\n"
     ]
    },
    {
     "name": "stderr",
     "output_type": "stream",
     "text": [
      "Epoch [1561/5000]: 100%|██████████| 10/10 [00:00<00:00, 247.12it/s, loss=0.752]\n"
     ]
    },
    {
     "name": "stdout",
     "output_type": "stream",
     "text": [
      "Epoch [1561/5000]: Train loss: 0.9051, Valid loss: 0.8826\n"
     ]
    },
    {
     "name": "stderr",
     "output_type": "stream",
     "text": [
      "Epoch [1562/5000]: 100%|██████████| 10/10 [00:00<00:00, 364.47it/s, loss=0.818]\n"
     ]
    },
    {
     "name": "stdout",
     "output_type": "stream",
     "text": [
      "Epoch [1562/5000]: Train loss: 0.8971, Valid loss: 0.8423\n"
     ]
    },
    {
     "name": "stderr",
     "output_type": "stream",
     "text": [
      "Epoch [1563/5000]: 100%|██████████| 10/10 [00:00<00:00, 280.12it/s, loss=0.793]\n"
     ]
    },
    {
     "name": "stdout",
     "output_type": "stream",
     "text": [
      "Epoch [1563/5000]: Train loss: 0.9068, Valid loss: 0.9421\n"
     ]
    },
    {
     "name": "stderr",
     "output_type": "stream",
     "text": [
      "Epoch [1564/5000]: 100%|██████████| 10/10 [00:00<00:00, 358.75it/s, loss=0.741]\n"
     ]
    },
    {
     "name": "stdout",
     "output_type": "stream",
     "text": [
      "Epoch [1564/5000]: Train loss: 0.9025, Valid loss: 0.8784\n"
     ]
    },
    {
     "name": "stderr",
     "output_type": "stream",
     "text": [
      "Epoch [1565/5000]: 100%|██████████| 10/10 [00:00<00:00, 336.04it/s, loss=1.02]\n"
     ]
    },
    {
     "name": "stdout",
     "output_type": "stream",
     "text": [
      "Epoch [1565/5000]: Train loss: 0.9123, Valid loss: 0.9144\n"
     ]
    },
    {
     "name": "stderr",
     "output_type": "stream",
     "text": [
      "Epoch [1566/5000]: 100%|██████████| 10/10 [00:00<00:00, 323.03it/s, loss=1.14]\n"
     ]
    },
    {
     "name": "stdout",
     "output_type": "stream",
     "text": [
      "Epoch [1566/5000]: Train loss: 0.9147, Valid loss: 0.9205\n"
     ]
    },
    {
     "name": "stderr",
     "output_type": "stream",
     "text": [
      "Epoch [1567/5000]: 100%|██████████| 10/10 [00:00<00:00, 323.46it/s, loss=0.814]\n"
     ]
    },
    {
     "name": "stdout",
     "output_type": "stream",
     "text": [
      "Epoch [1567/5000]: Train loss: 0.8967, Valid loss: 0.8489\n"
     ]
    },
    {
     "name": "stderr",
     "output_type": "stream",
     "text": [
      "Epoch [1568/5000]: 100%|██████████| 10/10 [00:00<00:00, 305.43it/s, loss=0.832]\n"
     ]
    },
    {
     "name": "stdout",
     "output_type": "stream",
     "text": [
      "Epoch [1568/5000]: Train loss: 0.8948, Valid loss: 0.8937\n"
     ]
    },
    {
     "name": "stderr",
     "output_type": "stream",
     "text": [
      "Epoch [1569/5000]: 100%|██████████| 10/10 [00:00<00:00, 304.72it/s, loss=0.678]\n"
     ]
    },
    {
     "name": "stdout",
     "output_type": "stream",
     "text": [
      "Epoch [1569/5000]: Train loss: 0.8960, Valid loss: 0.8571\n"
     ]
    },
    {
     "name": "stderr",
     "output_type": "stream",
     "text": [
      "Epoch [1570/5000]: 100%|██████████| 10/10 [00:00<00:00, 321.10it/s, loss=0.945]\n"
     ]
    },
    {
     "name": "stdout",
     "output_type": "stream",
     "text": [
      "Epoch [1570/5000]: Train loss: 0.9047, Valid loss: 0.7920\n",
      "Saving model with loss 0.792...\n"
     ]
    },
    {
     "name": "stderr",
     "output_type": "stream",
     "text": [
      "Epoch [1571/5000]: 100%|██████████| 10/10 [00:00<00:00, 313.56it/s, loss=0.923]\n"
     ]
    },
    {
     "name": "stdout",
     "output_type": "stream",
     "text": [
      "Epoch [1571/5000]: Train loss: 0.9021, Valid loss: 0.8817\n"
     ]
    },
    {
     "name": "stderr",
     "output_type": "stream",
     "text": [
      "Epoch [1572/5000]: 100%|██████████| 10/10 [00:00<00:00, 334.45it/s, loss=1.03]\n"
     ]
    },
    {
     "name": "stdout",
     "output_type": "stream",
     "text": [
      "Epoch [1572/5000]: Train loss: 0.9095, Valid loss: 0.9155\n"
     ]
    },
    {
     "name": "stderr",
     "output_type": "stream",
     "text": [
      "Epoch [1573/5000]: 100%|██████████| 10/10 [00:00<00:00, 325.63it/s, loss=0.752]\n"
     ]
    },
    {
     "name": "stdout",
     "output_type": "stream",
     "text": [
      "Epoch [1573/5000]: Train loss: 0.8909, Valid loss: 0.8698\n"
     ]
    },
    {
     "name": "stderr",
     "output_type": "stream",
     "text": [
      "Epoch [1574/5000]: 100%|██████████| 10/10 [00:00<00:00, 335.31it/s, loss=0.81]\n"
     ]
    },
    {
     "name": "stdout",
     "output_type": "stream",
     "text": [
      "Epoch [1574/5000]: Train loss: 0.8957, Valid loss: 0.9055\n"
     ]
    },
    {
     "name": "stderr",
     "output_type": "stream",
     "text": [
      "Epoch [1575/5000]: 100%|██████████| 10/10 [00:00<00:00, 323.76it/s, loss=0.675]\n"
     ]
    },
    {
     "name": "stdout",
     "output_type": "stream",
     "text": [
      "Epoch [1575/5000]: Train loss: 0.8998, Valid loss: 0.9615\n"
     ]
    },
    {
     "name": "stderr",
     "output_type": "stream",
     "text": [
      "Epoch [1576/5000]: 100%|██████████| 10/10 [00:00<00:00, 326.17it/s, loss=0.89]\n"
     ]
    },
    {
     "name": "stdout",
     "output_type": "stream",
     "text": [
      "Epoch [1576/5000]: Train loss: 0.9122, Valid loss: 0.8799\n"
     ]
    },
    {
     "name": "stderr",
     "output_type": "stream",
     "text": [
      "Epoch [1577/5000]: 100%|██████████| 10/10 [00:00<00:00, 243.41it/s, loss=0.718]\n"
     ]
    },
    {
     "name": "stdout",
     "output_type": "stream",
     "text": [
      "Epoch [1577/5000]: Train loss: 0.8984, Valid loss: 0.8809\n"
     ]
    },
    {
     "name": "stderr",
     "output_type": "stream",
     "text": [
      "Epoch [1578/5000]: 100%|██████████| 10/10 [00:00<00:00, 309.91it/s, loss=0.836]\n"
     ]
    },
    {
     "name": "stdout",
     "output_type": "stream",
     "text": [
      "Epoch [1578/5000]: Train loss: 0.8980, Valid loss: 0.8648\n"
     ]
    },
    {
     "name": "stderr",
     "output_type": "stream",
     "text": [
      "Epoch [1579/5000]: 100%|██████████| 10/10 [00:00<00:00, 346.39it/s, loss=0.854]\n"
     ]
    },
    {
     "name": "stdout",
     "output_type": "stream",
     "text": [
      "Epoch [1579/5000]: Train loss: 0.9009, Valid loss: 0.9388\n"
     ]
    },
    {
     "name": "stderr",
     "output_type": "stream",
     "text": [
      "Epoch [1580/5000]: 100%|██████████| 10/10 [00:00<00:00, 344.65it/s, loss=0.733]\n"
     ]
    },
    {
     "name": "stdout",
     "output_type": "stream",
     "text": [
      "Epoch [1580/5000]: Train loss: 0.8920, Valid loss: 0.8696\n"
     ]
    },
    {
     "name": "stderr",
     "output_type": "stream",
     "text": [
      "Epoch [1581/5000]: 100%|██████████| 10/10 [00:00<00:00, 315.99it/s, loss=1.03]\n"
     ]
    },
    {
     "name": "stdout",
     "output_type": "stream",
     "text": [
      "Epoch [1581/5000]: Train loss: 0.9142, Valid loss: 0.8655\n"
     ]
    },
    {
     "name": "stderr",
     "output_type": "stream",
     "text": [
      "Epoch [1582/5000]: 100%|██████████| 10/10 [00:00<00:00, 334.12it/s, loss=0.834]\n"
     ]
    },
    {
     "name": "stdout",
     "output_type": "stream",
     "text": [
      "Epoch [1582/5000]: Train loss: 0.9030, Valid loss: 0.8444\n"
     ]
    },
    {
     "name": "stderr",
     "output_type": "stream",
     "text": [
      "Epoch [1583/5000]: 100%|██████████| 10/10 [00:00<00:00, 322.48it/s, loss=0.828]\n"
     ]
    },
    {
     "name": "stdout",
     "output_type": "stream",
     "text": [
      "Epoch [1583/5000]: Train loss: 0.9074, Valid loss: 0.9032\n"
     ]
    },
    {
     "name": "stderr",
     "output_type": "stream",
     "text": [
      "Epoch [1584/5000]: 100%|██████████| 10/10 [00:00<00:00, 314.61it/s, loss=1.02]\n"
     ]
    },
    {
     "name": "stdout",
     "output_type": "stream",
     "text": [
      "Epoch [1584/5000]: Train loss: 0.9092, Valid loss: 0.8321\n"
     ]
    },
    {
     "name": "stderr",
     "output_type": "stream",
     "text": [
      "Epoch [1585/5000]: 100%|██████████| 10/10 [00:00<00:00, 312.45it/s, loss=0.85]\n"
     ]
    },
    {
     "name": "stdout",
     "output_type": "stream",
     "text": [
      "Epoch [1585/5000]: Train loss: 0.8981, Valid loss: 0.9003\n"
     ]
    },
    {
     "name": "stderr",
     "output_type": "stream",
     "text": [
      "Epoch [1586/5000]: 100%|██████████| 10/10 [00:00<00:00, 313.85it/s, loss=0.936]\n"
     ]
    },
    {
     "name": "stdout",
     "output_type": "stream",
     "text": [
      "Epoch [1586/5000]: Train loss: 0.9093, Valid loss: 0.8529\n"
     ]
    },
    {
     "name": "stderr",
     "output_type": "stream",
     "text": [
      "Epoch [1587/5000]: 100%|██████████| 10/10 [00:00<00:00, 85.55it/s, loss=1.05]\n"
     ]
    },
    {
     "name": "stdout",
     "output_type": "stream",
     "text": [
      "Epoch [1587/5000]: Train loss: 0.9135, Valid loss: 0.8629\n"
     ]
    },
    {
     "name": "stderr",
     "output_type": "stream",
     "text": [
      "Epoch [1588/5000]: 100%|██████████| 10/10 [00:00<00:00, 313.73it/s, loss=0.965]\n"
     ]
    },
    {
     "name": "stdout",
     "output_type": "stream",
     "text": [
      "Epoch [1588/5000]: Train loss: 0.9044, Valid loss: 0.8463\n"
     ]
    },
    {
     "name": "stderr",
     "output_type": "stream",
     "text": [
      "Epoch [1589/5000]: 100%|██████████| 10/10 [00:00<00:00, 237.84it/s, loss=1.24]\n"
     ]
    },
    {
     "name": "stdout",
     "output_type": "stream",
     "text": [
      "Epoch [1589/5000]: Train loss: 0.9234, Valid loss: 0.8881\n"
     ]
    },
    {
     "name": "stderr",
     "output_type": "stream",
     "text": [
      "Epoch [1590/5000]: 100%|██████████| 10/10 [00:00<00:00, 350.27it/s, loss=0.963]\n"
     ]
    },
    {
     "name": "stdout",
     "output_type": "stream",
     "text": [
      "Epoch [1590/5000]: Train loss: 0.9117, Valid loss: 0.9036\n"
     ]
    },
    {
     "name": "stderr",
     "output_type": "stream",
     "text": [
      "Epoch [1591/5000]: 100%|██████████| 10/10 [00:00<00:00, 266.97it/s, loss=0.964]\n"
     ]
    },
    {
     "name": "stdout",
     "output_type": "stream",
     "text": [
      "Epoch [1591/5000]: Train loss: 0.9242, Valid loss: 0.9690\n"
     ]
    },
    {
     "name": "stderr",
     "output_type": "stream",
     "text": [
      "Epoch [1592/5000]: 100%|██████████| 10/10 [00:00<00:00, 357.59it/s, loss=0.96]\n"
     ]
    },
    {
     "name": "stdout",
     "output_type": "stream",
     "text": [
      "Epoch [1592/5000]: Train loss: 0.9334, Valid loss: 0.9023\n"
     ]
    },
    {
     "name": "stderr",
     "output_type": "stream",
     "text": [
      "Epoch [1593/5000]: 100%|██████████| 10/10 [00:00<00:00, 334.94it/s, loss=0.808]\n"
     ]
    },
    {
     "name": "stdout",
     "output_type": "stream",
     "text": [
      "Epoch [1593/5000]: Train loss: 0.9230, Valid loss: 0.8453\n"
     ]
    },
    {
     "name": "stderr",
     "output_type": "stream",
     "text": [
      "Epoch [1594/5000]: 100%|██████████| 10/10 [00:00<00:00, 335.31it/s, loss=0.912]\n"
     ]
    },
    {
     "name": "stdout",
     "output_type": "stream",
     "text": [
      "Epoch [1594/5000]: Train loss: 0.9279, Valid loss: 0.8768\n"
     ]
    },
    {
     "name": "stderr",
     "output_type": "stream",
     "text": [
      "Epoch [1595/5000]: 100%|██████████| 10/10 [00:00<00:00, 326.23it/s, loss=0.869]\n"
     ]
    },
    {
     "name": "stdout",
     "output_type": "stream",
     "text": [
      "Epoch [1595/5000]: Train loss: 0.9041, Valid loss: 0.8484\n"
     ]
    },
    {
     "name": "stderr",
     "output_type": "stream",
     "text": [
      "Epoch [1596/5000]: 100%|██████████| 10/10 [00:00<00:00, 334.38it/s, loss=0.633]\n"
     ]
    },
    {
     "name": "stdout",
     "output_type": "stream",
     "text": [
      "Epoch [1596/5000]: Train loss: 0.8895, Valid loss: 0.8592\n"
     ]
    },
    {
     "name": "stderr",
     "output_type": "stream",
     "text": [
      "Epoch [1597/5000]: 100%|██████████| 10/10 [00:00<00:00, 323.97it/s, loss=0.731]\n"
     ]
    },
    {
     "name": "stdout",
     "output_type": "stream",
     "text": [
      "Epoch [1597/5000]: Train loss: 0.8902, Valid loss: 0.8583\n"
     ]
    },
    {
     "name": "stderr",
     "output_type": "stream",
     "text": [
      "Epoch [1598/5000]: 100%|██████████| 10/10 [00:00<00:00, 315.93it/s, loss=1.14]\n"
     ]
    },
    {
     "name": "stdout",
     "output_type": "stream",
     "text": [
      "Epoch [1598/5000]: Train loss: 0.9151, Valid loss: 0.8338\n"
     ]
    },
    {
     "name": "stderr",
     "output_type": "stream",
     "text": [
      "Epoch [1599/5000]: 100%|██████████| 10/10 [00:00<00:00, 323.63it/s, loss=0.994]\n"
     ]
    },
    {
     "name": "stdout",
     "output_type": "stream",
     "text": [
      "Epoch [1599/5000]: Train loss: 0.9043, Valid loss: 0.8787\n"
     ]
    },
    {
     "name": "stderr",
     "output_type": "stream",
     "text": [
      "Epoch [1600/5000]: 100%|██████████| 10/10 [00:00<00:00, 312.66it/s, loss=0.925]\n"
     ]
    },
    {
     "name": "stdout",
     "output_type": "stream",
     "text": [
      "Epoch [1600/5000]: Train loss: 0.9011, Valid loss: 0.8936\n"
     ]
    },
    {
     "name": "stderr",
     "output_type": "stream",
     "text": [
      "Epoch [1601/5000]: 100%|██████████| 10/10 [00:00<00:00, 337.95it/s, loss=0.933]\n"
     ]
    },
    {
     "name": "stdout",
     "output_type": "stream",
     "text": [
      "Epoch [1601/5000]: Train loss: 0.9147, Valid loss: 0.8769\n"
     ]
    },
    {
     "name": "stderr",
     "output_type": "stream",
     "text": [
      "Epoch [1602/5000]: 100%|██████████| 10/10 [00:00<00:00, 304.86it/s, loss=0.817]\n"
     ]
    },
    {
     "name": "stdout",
     "output_type": "stream",
     "text": [
      "Epoch [1602/5000]: Train loss: 0.8967, Valid loss: 0.8406\n"
     ]
    },
    {
     "name": "stderr",
     "output_type": "stream",
     "text": [
      "Epoch [1603/5000]: 100%|██████████| 10/10 [00:00<00:00, 335.66it/s, loss=0.902]\n"
     ]
    },
    {
     "name": "stdout",
     "output_type": "stream",
     "text": [
      "Epoch [1603/5000]: Train loss: 0.9016, Valid loss: 0.8694\n"
     ]
    },
    {
     "name": "stderr",
     "output_type": "stream",
     "text": [
      "Epoch [1604/5000]: 100%|██████████| 10/10 [00:00<00:00, 244.30it/s, loss=1.09]\n"
     ]
    },
    {
     "name": "stdout",
     "output_type": "stream",
     "text": [
      "Epoch [1604/5000]: Train loss: 0.9127, Valid loss: 0.9261\n"
     ]
    },
    {
     "name": "stderr",
     "output_type": "stream",
     "text": [
      "Epoch [1605/5000]: 100%|██████████| 10/10 [00:00<00:00, 370.90it/s, loss=0.831]\n"
     ]
    },
    {
     "name": "stdout",
     "output_type": "stream",
     "text": [
      "Epoch [1605/5000]: Train loss: 0.9079, Valid loss: 0.8351\n"
     ]
    },
    {
     "name": "stderr",
     "output_type": "stream",
     "text": [
      "Epoch [1606/5000]: 100%|██████████| 10/10 [00:00<00:00, 311.99it/s, loss=0.732]\n"
     ]
    },
    {
     "name": "stdout",
     "output_type": "stream",
     "text": [
      "Epoch [1606/5000]: Train loss: 0.8988, Valid loss: 0.9482\n"
     ]
    },
    {
     "name": "stderr",
     "output_type": "stream",
     "text": [
      "Epoch [1607/5000]: 100%|██████████| 10/10 [00:00<00:00, 370.18it/s, loss=0.746]\n"
     ]
    },
    {
     "name": "stdout",
     "output_type": "stream",
     "text": [
      "Epoch [1607/5000]: Train loss: 0.8940, Valid loss: 0.8933\n"
     ]
    },
    {
     "name": "stderr",
     "output_type": "stream",
     "text": [
      "Epoch [1608/5000]: 100%|██████████| 10/10 [00:00<00:00, 323.22it/s, loss=0.743]\n"
     ]
    },
    {
     "name": "stdout",
     "output_type": "stream",
     "text": [
      "Epoch [1608/5000]: Train loss: 0.8983, Valid loss: 0.8421\n"
     ]
    },
    {
     "name": "stderr",
     "output_type": "stream",
     "text": [
      "Epoch [1609/5000]: 100%|██████████| 10/10 [00:00<00:00, 326.90it/s, loss=0.781]\n"
     ]
    },
    {
     "name": "stdout",
     "output_type": "stream",
     "text": [
      "Epoch [1609/5000]: Train loss: 0.8929, Valid loss: 0.8950\n"
     ]
    },
    {
     "name": "stderr",
     "output_type": "stream",
     "text": [
      "Epoch [1610/5000]: 100%|██████████| 10/10 [00:00<00:00, 323.58it/s, loss=1.17]\n"
     ]
    },
    {
     "name": "stdout",
     "output_type": "stream",
     "text": [
      "Epoch [1610/5000]: Train loss: 0.9154, Valid loss: 0.8677\n"
     ]
    },
    {
     "name": "stderr",
     "output_type": "stream",
     "text": [
      "Epoch [1611/5000]: 100%|██████████| 10/10 [00:00<00:00, 332.26it/s, loss=1.15]\n"
     ]
    },
    {
     "name": "stdout",
     "output_type": "stream",
     "text": [
      "Epoch [1611/5000]: Train loss: 0.9202, Valid loss: 0.8814\n"
     ]
    },
    {
     "name": "stderr",
     "output_type": "stream",
     "text": [
      "Epoch [1612/5000]: 100%|██████████| 10/10 [00:00<00:00, 327.41it/s, loss=0.99]\n"
     ]
    },
    {
     "name": "stdout",
     "output_type": "stream",
     "text": [
      "Epoch [1612/5000]: Train loss: 0.9082, Valid loss: 0.9012\n"
     ]
    },
    {
     "name": "stderr",
     "output_type": "stream",
     "text": [
      "Epoch [1613/5000]: 100%|██████████| 10/10 [00:00<00:00, 323.64it/s, loss=0.694]\n"
     ]
    },
    {
     "name": "stdout",
     "output_type": "stream",
     "text": [
      "Epoch [1613/5000]: Train loss: 0.8876, Valid loss: 0.9171\n"
     ]
    },
    {
     "name": "stderr",
     "output_type": "stream",
     "text": [
      "Epoch [1614/5000]: 100%|██████████| 10/10 [00:00<00:00, 323.62it/s, loss=1.06]\n"
     ]
    },
    {
     "name": "stdout",
     "output_type": "stream",
     "text": [
      "Epoch [1614/5000]: Train loss: 0.9187, Valid loss: 0.8566\n"
     ]
    },
    {
     "name": "stderr",
     "output_type": "stream",
     "text": [
      "Epoch [1615/5000]: 100%|██████████| 10/10 [00:00<00:00, 338.95it/s, loss=0.989]\n"
     ]
    },
    {
     "name": "stdout",
     "output_type": "stream",
     "text": [
      "Epoch [1615/5000]: Train loss: 0.9164, Valid loss: 0.8991\n"
     ]
    },
    {
     "name": "stderr",
     "output_type": "stream",
     "text": [
      "Epoch [1616/5000]: 100%|██████████| 10/10 [00:00<00:00, 330.62it/s, loss=0.836]\n"
     ]
    },
    {
     "name": "stdout",
     "output_type": "stream",
     "text": [
      "Epoch [1616/5000]: Train loss: 0.9102, Valid loss: 0.9542\n"
     ]
    },
    {
     "name": "stderr",
     "output_type": "stream",
     "text": [
      "Epoch [1617/5000]: 100%|██████████| 10/10 [00:00<00:00, 333.47it/s, loss=0.853]\n"
     ]
    },
    {
     "name": "stdout",
     "output_type": "stream",
     "text": [
      "Epoch [1617/5000]: Train loss: 0.8996, Valid loss: 0.8771\n"
     ]
    },
    {
     "name": "stderr",
     "output_type": "stream",
     "text": [
      "Epoch [1618/5000]: 100%|██████████| 10/10 [00:00<00:00, 314.38it/s, loss=0.766]\n"
     ]
    },
    {
     "name": "stdout",
     "output_type": "stream",
     "text": [
      "Epoch [1618/5000]: Train loss: 0.8962, Valid loss: 0.8737\n"
     ]
    },
    {
     "name": "stderr",
     "output_type": "stream",
     "text": [
      "Epoch [1619/5000]: 100%|██████████| 10/10 [00:00<00:00, 303.91it/s, loss=1.08]\n"
     ]
    },
    {
     "name": "stdout",
     "output_type": "stream",
     "text": [
      "Epoch [1619/5000]: Train loss: 0.9214, Valid loss: 0.8556\n"
     ]
    },
    {
     "name": "stderr",
     "output_type": "stream",
     "text": [
      "Epoch [1620/5000]: 100%|██████████| 10/10 [00:00<00:00, 313.21it/s, loss=0.909]\n"
     ]
    },
    {
     "name": "stdout",
     "output_type": "stream",
     "text": [
      "Epoch [1620/5000]: Train loss: 0.9046, Valid loss: 0.8853\n"
     ]
    },
    {
     "name": "stderr",
     "output_type": "stream",
     "text": [
      "Epoch [1621/5000]: 100%|██████████| 10/10 [00:00<00:00, 358.32it/s, loss=0.89]\n"
     ]
    },
    {
     "name": "stdout",
     "output_type": "stream",
     "text": [
      "Epoch [1621/5000]: Train loss: 0.9019, Valid loss: 0.8406\n"
     ]
    },
    {
     "name": "stderr",
     "output_type": "stream",
     "text": [
      "Epoch [1622/5000]: 100%|██████████| 10/10 [00:00<00:00, 345.22it/s, loss=0.608]\n"
     ]
    },
    {
     "name": "stdout",
     "output_type": "stream",
     "text": [
      "Epoch [1622/5000]: Train loss: 0.8823, Valid loss: 0.7953\n"
     ]
    },
    {
     "name": "stderr",
     "output_type": "stream",
     "text": [
      "Epoch [1623/5000]: 100%|██████████| 10/10 [00:00<00:00, 315.48it/s, loss=1.2]\n"
     ]
    },
    {
     "name": "stdout",
     "output_type": "stream",
     "text": [
      "Epoch [1623/5000]: Train loss: 0.9179, Valid loss: 0.9430\n"
     ]
    },
    {
     "name": "stderr",
     "output_type": "stream",
     "text": [
      "Epoch [1624/5000]: 100%|██████████| 10/10 [00:00<00:00, 313.52it/s, loss=0.818]\n"
     ]
    },
    {
     "name": "stdout",
     "output_type": "stream",
     "text": [
      "Epoch [1624/5000]: Train loss: 0.8990, Valid loss: 0.9050\n"
     ]
    },
    {
     "name": "stderr",
     "output_type": "stream",
     "text": [
      "Epoch [1625/5000]: 100%|██████████| 10/10 [00:00<00:00, 323.08it/s, loss=0.852]\n"
     ]
    },
    {
     "name": "stdout",
     "output_type": "stream",
     "text": [
      "Epoch [1625/5000]: Train loss: 0.8998, Valid loss: 0.9186\n"
     ]
    },
    {
     "name": "stderr",
     "output_type": "stream",
     "text": [
      "Epoch [1626/5000]: 100%|██████████| 10/10 [00:00<00:00, 326.86it/s, loss=0.719]\n"
     ]
    },
    {
     "name": "stdout",
     "output_type": "stream",
     "text": [
      "Epoch [1626/5000]: Train loss: 0.8933, Valid loss: 0.8941\n"
     ]
    },
    {
     "name": "stderr",
     "output_type": "stream",
     "text": [
      "Epoch [1627/5000]: 100%|██████████| 10/10 [00:00<00:00, 346.03it/s, loss=0.659]\n"
     ]
    },
    {
     "name": "stdout",
     "output_type": "stream",
     "text": [
      "Epoch [1627/5000]: Train loss: 0.8955, Valid loss: 0.8798\n"
     ]
    },
    {
     "name": "stderr",
     "output_type": "stream",
     "text": [
      "Epoch [1628/5000]: 100%|██████████| 10/10 [00:00<00:00, 343.24it/s, loss=1.07]\n"
     ]
    },
    {
     "name": "stdout",
     "output_type": "stream",
     "text": [
      "Epoch [1628/5000]: Train loss: 0.9133, Valid loss: 0.8867\n"
     ]
    },
    {
     "name": "stderr",
     "output_type": "stream",
     "text": [
      "Epoch [1629/5000]: 100%|██████████| 10/10 [00:00<00:00, 345.94it/s, loss=0.855]\n"
     ]
    },
    {
     "name": "stdout",
     "output_type": "stream",
     "text": [
      "Epoch [1629/5000]: Train loss: 0.9026, Valid loss: 0.8794\n"
     ]
    },
    {
     "name": "stderr",
     "output_type": "stream",
     "text": [
      "Epoch [1630/5000]: 100%|██████████| 10/10 [00:00<00:00, 334.43it/s, loss=1.17]\n"
     ]
    },
    {
     "name": "stdout",
     "output_type": "stream",
     "text": [
      "Epoch [1630/5000]: Train loss: 0.9378, Valid loss: 0.9863\n"
     ]
    },
    {
     "name": "stderr",
     "output_type": "stream",
     "text": [
      "Epoch [1631/5000]: 100%|██████████| 10/10 [00:00<00:00, 315.63it/s, loss=1.04]\n"
     ]
    },
    {
     "name": "stdout",
     "output_type": "stream",
     "text": [
      "Epoch [1631/5000]: Train loss: 0.9335, Valid loss: 1.0055\n"
     ]
    },
    {
     "name": "stderr",
     "output_type": "stream",
     "text": [
      "Epoch [1632/5000]: 100%|██████████| 10/10 [00:00<00:00, 334.47it/s, loss=0.993]\n"
     ]
    },
    {
     "name": "stdout",
     "output_type": "stream",
     "text": [
      "Epoch [1632/5000]: Train loss: 0.9253, Valid loss: 0.8633\n"
     ]
    },
    {
     "name": "stderr",
     "output_type": "stream",
     "text": [
      "Epoch [1633/5000]: 100%|██████████| 10/10 [00:00<00:00, 257.49it/s, loss=1.1]\n"
     ]
    },
    {
     "name": "stdout",
     "output_type": "stream",
     "text": [
      "Epoch [1633/5000]: Train loss: 0.9217, Valid loss: 0.8994\n"
     ]
    },
    {
     "name": "stderr",
     "output_type": "stream",
     "text": [
      "Epoch [1634/5000]: 100%|██████████| 10/10 [00:00<00:00, 392.57it/s, loss=0.868]\n"
     ]
    },
    {
     "name": "stdout",
     "output_type": "stream",
     "text": [
      "Epoch [1634/5000]: Train loss: 0.9099, Valid loss: 0.8557\n"
     ]
    },
    {
     "name": "stderr",
     "output_type": "stream",
     "text": [
      "Epoch [1635/5000]: 100%|██████████| 10/10 [00:00<00:00, 316.23it/s, loss=0.717]\n"
     ]
    },
    {
     "name": "stdout",
     "output_type": "stream",
     "text": [
      "Epoch [1635/5000]: Train loss: 0.8948, Valid loss: 0.9017\n"
     ]
    },
    {
     "name": "stderr",
     "output_type": "stream",
     "text": [
      "Epoch [1636/5000]: 100%|██████████| 10/10 [00:00<00:00, 345.98it/s, loss=0.883]\n"
     ]
    },
    {
     "name": "stdout",
     "output_type": "stream",
     "text": [
      "Epoch [1636/5000]: Train loss: 0.9188, Valid loss: 0.9025\n"
     ]
    },
    {
     "name": "stderr",
     "output_type": "stream",
     "text": [
      "Epoch [1637/5000]: 100%|██████████| 10/10 [00:00<00:00, 347.88it/s, loss=1.03]\n"
     ]
    },
    {
     "name": "stdout",
     "output_type": "stream",
     "text": [
      "Epoch [1637/5000]: Train loss: 0.9090, Valid loss: 0.8765\n"
     ]
    },
    {
     "name": "stderr",
     "output_type": "stream",
     "text": [
      "Epoch [1638/5000]: 100%|██████████| 10/10 [00:00<00:00, 334.50it/s, loss=0.984]\n"
     ]
    },
    {
     "name": "stdout",
     "output_type": "stream",
     "text": [
      "Epoch [1638/5000]: Train loss: 0.9058, Valid loss: 0.8792\n"
     ]
    },
    {
     "name": "stderr",
     "output_type": "stream",
     "text": [
      "Epoch [1639/5000]: 100%|██████████| 10/10 [00:00<00:00, 323.00it/s, loss=0.791]\n"
     ]
    },
    {
     "name": "stdout",
     "output_type": "stream",
     "text": [
      "Epoch [1639/5000]: Train loss: 0.8972, Valid loss: 0.9001\n"
     ]
    },
    {
     "name": "stderr",
     "output_type": "stream",
     "text": [
      "Epoch [1640/5000]: 100%|██████████| 10/10 [00:00<00:00, 326.93it/s, loss=0.879]\n"
     ]
    },
    {
     "name": "stdout",
     "output_type": "stream",
     "text": [
      "Epoch [1640/5000]: Train loss: 0.8982, Valid loss: 0.8819\n"
     ]
    },
    {
     "name": "stderr",
     "output_type": "stream",
     "text": [
      "Epoch [1641/5000]: 100%|██████████| 10/10 [00:00<00:00, 345.90it/s, loss=1.17]\n"
     ]
    },
    {
     "name": "stdout",
     "output_type": "stream",
     "text": [
      "Epoch [1641/5000]: Train loss: 0.9177, Valid loss: 0.8363\n"
     ]
    },
    {
     "name": "stderr",
     "output_type": "stream",
     "text": [
      "Epoch [1642/5000]: 100%|██████████| 10/10 [00:00<00:00, 333.46it/s, loss=1.16]\n"
     ]
    },
    {
     "name": "stdout",
     "output_type": "stream",
     "text": [
      "Epoch [1642/5000]: Train loss: 0.9135, Valid loss: 0.8867\n"
     ]
    },
    {
     "name": "stderr",
     "output_type": "stream",
     "text": [
      "Epoch [1643/5000]: 100%|██████████| 10/10 [00:00<00:00, 345.92it/s, loss=0.906]\n"
     ]
    },
    {
     "name": "stdout",
     "output_type": "stream",
     "text": [
      "Epoch [1643/5000]: Train loss: 0.9068, Valid loss: 0.8876\n"
     ]
    },
    {
     "name": "stderr",
     "output_type": "stream",
     "text": [
      "Epoch [1644/5000]: 100%|██████████| 10/10 [00:00<00:00, 304.03it/s, loss=1.08]\n"
     ]
    },
    {
     "name": "stdout",
     "output_type": "stream",
     "text": [
      "Epoch [1644/5000]: Train loss: 0.9243, Valid loss: 0.8370\n"
     ]
    },
    {
     "name": "stderr",
     "output_type": "stream",
     "text": [
      "Epoch [1645/5000]: 100%|██████████| 10/10 [00:00<00:00, 326.04it/s, loss=0.927]\n"
     ]
    },
    {
     "name": "stdout",
     "output_type": "stream",
     "text": [
      "Epoch [1645/5000]: Train loss: 0.9150, Valid loss: 0.9074\n"
     ]
    },
    {
     "name": "stderr",
     "output_type": "stream",
     "text": [
      "Epoch [1646/5000]: 100%|██████████| 10/10 [00:00<00:00, 334.37it/s, loss=0.866]\n"
     ]
    },
    {
     "name": "stdout",
     "output_type": "stream",
     "text": [
      "Epoch [1646/5000]: Train loss: 0.9180, Valid loss: 0.8989\n"
     ]
    },
    {
     "name": "stderr",
     "output_type": "stream",
     "text": [
      "Epoch [1647/5000]: 100%|██████████| 10/10 [00:00<00:00, 290.91it/s, loss=0.946]\n"
     ]
    },
    {
     "name": "stdout",
     "output_type": "stream",
     "text": [
      "Epoch [1647/5000]: Train loss: 0.9044, Valid loss: 0.9094\n"
     ]
    },
    {
     "name": "stderr",
     "output_type": "stream",
     "text": [
      "Epoch [1648/5000]: 100%|██████████| 10/10 [00:00<00:00, 248.49it/s, loss=1.09]\n"
     ]
    },
    {
     "name": "stdout",
     "output_type": "stream",
     "text": [
      "Epoch [1648/5000]: Train loss: 0.9096, Valid loss: 0.8808\n"
     ]
    },
    {
     "name": "stderr",
     "output_type": "stream",
     "text": [
      "Epoch [1649/5000]: 100%|██████████| 10/10 [00:00<00:00, 371.93it/s, loss=0.825]\n"
     ]
    },
    {
     "name": "stdout",
     "output_type": "stream",
     "text": [
      "Epoch [1649/5000]: Train loss: 0.8994, Valid loss: 0.8491\n"
     ]
    },
    {
     "name": "stderr",
     "output_type": "stream",
     "text": [
      "Epoch [1650/5000]: 100%|██████████| 10/10 [00:00<00:00, 286.26it/s, loss=0.987]\n"
     ]
    },
    {
     "name": "stdout",
     "output_type": "stream",
     "text": [
      "Epoch [1650/5000]: Train loss: 0.9161, Valid loss: 0.8833\n"
     ]
    },
    {
     "name": "stderr",
     "output_type": "stream",
     "text": [
      "Epoch [1651/5000]: 100%|██████████| 10/10 [00:00<00:00, 385.28it/s, loss=0.997]\n"
     ]
    },
    {
     "name": "stdout",
     "output_type": "stream",
     "text": [
      "Epoch [1651/5000]: Train loss: 0.9420, Valid loss: 0.8683\n"
     ]
    },
    {
     "name": "stderr",
     "output_type": "stream",
     "text": [
      "Epoch [1652/5000]: 100%|██████████| 10/10 [00:00<00:00, 345.16it/s, loss=0.883]"
     ]
    },
    {
     "name": "stdout",
     "output_type": "stream",
     "text": [
      "Epoch [1652/5000]: Train loss: 0.9027, Valid loss: 0.9106\n"
     ]
    },
    {
     "name": "stderr",
     "output_type": "stream",
     "text": [
      "\n",
      "Epoch [1653/5000]: 100%|██████████| 10/10 [00:00<00:00, 290.64it/s, loss=0.889]\n"
     ]
    },
    {
     "name": "stdout",
     "output_type": "stream",
     "text": [
      "Epoch [1653/5000]: Train loss: 0.9056, Valid loss: 0.8926\n"
     ]
    },
    {
     "name": "stderr",
     "output_type": "stream",
     "text": [
      "Epoch [1654/5000]: 100%|██████████| 10/10 [00:00<00:00, 320.82it/s, loss=0.711]\n"
     ]
    },
    {
     "name": "stdout",
     "output_type": "stream",
     "text": [
      "Epoch [1654/5000]: Train loss: 0.9111, Valid loss: 0.8556\n"
     ]
    },
    {
     "name": "stderr",
     "output_type": "stream",
     "text": [
      "Epoch [1655/5000]: 100%|██████████| 10/10 [00:00<00:00, 295.09it/s, loss=0.681]\n"
     ]
    },
    {
     "name": "stdout",
     "output_type": "stream",
     "text": [
      "Epoch [1655/5000]: Train loss: 0.8907, Valid loss: 0.9467\n"
     ]
    },
    {
     "name": "stderr",
     "output_type": "stream",
     "text": [
      "Epoch [1656/5000]: 100%|██████████| 10/10 [00:00<00:00, 296.62it/s, loss=1.02]\n"
     ]
    },
    {
     "name": "stdout",
     "output_type": "stream",
     "text": [
      "Epoch [1656/5000]: Train loss: 0.9112, Valid loss: 0.8035\n"
     ]
    },
    {
     "name": "stderr",
     "output_type": "stream",
     "text": [
      "Epoch [1657/5000]: 100%|██████████| 10/10 [00:00<00:00, 284.38it/s, loss=1.14]\n"
     ]
    },
    {
     "name": "stdout",
     "output_type": "stream",
     "text": [
      "Epoch [1657/5000]: Train loss: 0.9221, Valid loss: 0.8718\n"
     ]
    },
    {
     "name": "stderr",
     "output_type": "stream",
     "text": [
      "Epoch [1658/5000]: 100%|██████████| 10/10 [00:00<00:00, 313.47it/s, loss=0.821]\n"
     ]
    },
    {
     "name": "stdout",
     "output_type": "stream",
     "text": [
      "Epoch [1658/5000]: Train loss: 0.8968, Valid loss: 0.9040\n"
     ]
    },
    {
     "name": "stderr",
     "output_type": "stream",
     "text": [
      "Epoch [1659/5000]: 100%|██████████| 10/10 [00:00<00:00, 313.45it/s, loss=0.869]\n"
     ]
    },
    {
     "name": "stdout",
     "output_type": "stream",
     "text": [
      "Epoch [1659/5000]: Train loss: 0.8997, Valid loss: 0.8442\n"
     ]
    },
    {
     "name": "stderr",
     "output_type": "stream",
     "text": [
      "Epoch [1660/5000]: 100%|██████████| 10/10 [00:00<00:00, 300.74it/s, loss=0.767]\n"
     ]
    },
    {
     "name": "stdout",
     "output_type": "stream",
     "text": [
      "Epoch [1660/5000]: Train loss: 0.8978, Valid loss: 0.9048\n"
     ]
    },
    {
     "name": "stderr",
     "output_type": "stream",
     "text": [
      "Epoch [1661/5000]: 100%|██████████| 10/10 [00:00<00:00, 306.00it/s, loss=0.865]\n"
     ]
    },
    {
     "name": "stdout",
     "output_type": "stream",
     "text": [
      "Epoch [1661/5000]: Train loss: 0.9166, Valid loss: 0.8536\n"
     ]
    },
    {
     "name": "stderr",
     "output_type": "stream",
     "text": [
      "Epoch [1662/5000]: 100%|██████████| 10/10 [00:00<00:00, 334.45it/s, loss=1.13]\n"
     ]
    },
    {
     "name": "stdout",
     "output_type": "stream",
     "text": [
      "Epoch [1662/5000]: Train loss: 0.9183, Valid loss: 0.8806\n"
     ]
    },
    {
     "name": "stderr",
     "output_type": "stream",
     "text": [
      "Epoch [1663/5000]: 100%|██████████| 10/10 [00:00<00:00, 319.19it/s, loss=0.801]\n"
     ]
    },
    {
     "name": "stdout",
     "output_type": "stream",
     "text": [
      "Epoch [1663/5000]: Train loss: 0.8909, Valid loss: 0.8784\n"
     ]
    },
    {
     "name": "stderr",
     "output_type": "stream",
     "text": [
      "Epoch [1664/5000]: 100%|██████████| 10/10 [00:00<00:00, 316.60it/s, loss=0.945]\n"
     ]
    },
    {
     "name": "stdout",
     "output_type": "stream",
     "text": [
      "Epoch [1664/5000]: Train loss: 0.9111, Valid loss: 0.8695\n"
     ]
    },
    {
     "name": "stderr",
     "output_type": "stream",
     "text": [
      "Epoch [1665/5000]: 100%|██████████| 10/10 [00:00<00:00, 249.79it/s, loss=0.807]\n"
     ]
    },
    {
     "name": "stdout",
     "output_type": "stream",
     "text": [
      "Epoch [1665/5000]: Train loss: 0.8938, Valid loss: 0.8078\n"
     ]
    },
    {
     "name": "stderr",
     "output_type": "stream",
     "text": [
      "Epoch [1666/5000]: 100%|██████████| 10/10 [00:00<00:00, 370.33it/s, loss=0.793]\n"
     ]
    },
    {
     "name": "stdout",
     "output_type": "stream",
     "text": [
      "Epoch [1666/5000]: Train loss: 0.8913, Valid loss: 0.8548\n"
     ]
    },
    {
     "name": "stderr",
     "output_type": "stream",
     "text": [
      "Epoch [1667/5000]: 100%|██████████| 10/10 [00:00<00:00, 274.41it/s, loss=0.876]\n"
     ]
    },
    {
     "name": "stdout",
     "output_type": "stream",
     "text": [
      "Epoch [1667/5000]: Train loss: 0.8983, Valid loss: 0.8715\n"
     ]
    },
    {
     "name": "stderr",
     "output_type": "stream",
     "text": [
      "Epoch [1668/5000]: 100%|██████████| 10/10 [00:00<00:00, 385.90it/s, loss=1.09]\n"
     ]
    },
    {
     "name": "stdout",
     "output_type": "stream",
     "text": [
      "Epoch [1668/5000]: Train loss: 0.9112, Valid loss: 0.8421\n"
     ]
    },
    {
     "name": "stderr",
     "output_type": "stream",
     "text": [
      "Epoch [1669/5000]: 100%|██████████| 10/10 [00:00<00:00, 313.63it/s, loss=0.773]\n"
     ]
    },
    {
     "name": "stdout",
     "output_type": "stream",
     "text": [
      "Epoch [1669/5000]: Train loss: 0.8901, Valid loss: 0.9478\n"
     ]
    },
    {
     "name": "stderr",
     "output_type": "stream",
     "text": [
      "Epoch [1670/5000]: 100%|██████████| 10/10 [00:00<00:00, 313.82it/s, loss=0.664]\n"
     ]
    },
    {
     "name": "stdout",
     "output_type": "stream",
     "text": [
      "Epoch [1670/5000]: Train loss: 0.8872, Valid loss: 0.9003\n"
     ]
    },
    {
     "name": "stderr",
     "output_type": "stream",
     "text": [
      "Epoch [1671/5000]: 100%|██████████| 10/10 [00:00<00:00, 299.94it/s, loss=0.837]\n"
     ]
    },
    {
     "name": "stdout",
     "output_type": "stream",
     "text": [
      "Epoch [1671/5000]: Train loss: 0.8996, Valid loss: 0.8617\n"
     ]
    },
    {
     "name": "stderr",
     "output_type": "stream",
     "text": [
      "Epoch [1672/5000]: 100%|██████████| 10/10 [00:00<00:00, 338.12it/s, loss=0.95]\n"
     ]
    },
    {
     "name": "stdout",
     "output_type": "stream",
     "text": [
      "Epoch [1672/5000]: Train loss: 0.9071, Valid loss: 0.8806\n"
     ]
    },
    {
     "name": "stderr",
     "output_type": "stream",
     "text": [
      "Epoch [1673/5000]: 100%|██████████| 10/10 [00:00<00:00, 86.66it/s, loss=0.71]\n"
     ]
    },
    {
     "name": "stdout",
     "output_type": "stream",
     "text": [
      "Epoch [1673/5000]: Train loss: 0.8911, Valid loss: 0.8801\n"
     ]
    },
    {
     "name": "stderr",
     "output_type": "stream",
     "text": [
      "Epoch [1674/5000]: 100%|██████████| 10/10 [00:00<00:00, 334.50it/s, loss=0.818]\n"
     ]
    },
    {
     "name": "stdout",
     "output_type": "stream",
     "text": [
      "Epoch [1674/5000]: Train loss: 0.8983, Valid loss: 0.9093\n"
     ]
    },
    {
     "name": "stderr",
     "output_type": "stream",
     "text": [
      "Epoch [1675/5000]: 100%|██████████| 10/10 [00:00<00:00, 295.65it/s, loss=1.22]\n"
     ]
    },
    {
     "name": "stdout",
     "output_type": "stream",
     "text": [
      "Epoch [1675/5000]: Train loss: 0.9234, Valid loss: 0.8862\n"
     ]
    },
    {
     "name": "stderr",
     "output_type": "stream",
     "text": [
      "Epoch [1676/5000]: 100%|██████████| 10/10 [00:00<00:00, 372.11it/s, loss=1.01]\n"
     ]
    },
    {
     "name": "stdout",
     "output_type": "stream",
     "text": [
      "Epoch [1676/5000]: Train loss: 0.9035, Valid loss: 0.9062\n"
     ]
    },
    {
     "name": "stderr",
     "output_type": "stream",
     "text": [
      "Epoch [1677/5000]: 100%|██████████| 10/10 [00:00<00:00, 332.99it/s, loss=1]\n"
     ]
    },
    {
     "name": "stdout",
     "output_type": "stream",
     "text": [
      "Epoch [1677/5000]: Train loss: 0.9059, Valid loss: 0.8684\n"
     ]
    },
    {
     "name": "stderr",
     "output_type": "stream",
     "text": [
      "Epoch [1678/5000]: 100%|██████████| 10/10 [00:00<00:00, 324.75it/s, loss=0.741]\n"
     ]
    },
    {
     "name": "stdout",
     "output_type": "stream",
     "text": [
      "Epoch [1678/5000]: Train loss: 0.8947, Valid loss: 0.8238\n"
     ]
    },
    {
     "name": "stderr",
     "output_type": "stream",
     "text": [
      "Epoch [1679/5000]: 100%|██████████| 10/10 [00:00<00:00, 250.27it/s, loss=0.827]\n"
     ]
    },
    {
     "name": "stdout",
     "output_type": "stream",
     "text": [
      "Epoch [1679/5000]: Train loss: 0.9064, Valid loss: 0.8634\n"
     ]
    },
    {
     "name": "stderr",
     "output_type": "stream",
     "text": [
      "Epoch [1680/5000]: 100%|██████████| 10/10 [00:00<00:00, 287.99it/s, loss=0.583]\n"
     ]
    },
    {
     "name": "stdout",
     "output_type": "stream",
     "text": [
      "Epoch [1680/5000]: Train loss: 0.8798, Valid loss: 0.8659\n"
     ]
    },
    {
     "name": "stderr",
     "output_type": "stream",
     "text": [
      "Epoch [1681/5000]: 100%|██████████| 10/10 [00:00<00:00, 323.67it/s, loss=1.1]\n"
     ]
    },
    {
     "name": "stdout",
     "output_type": "stream",
     "text": [
      "Epoch [1681/5000]: Train loss: 0.9118, Valid loss: 0.9093\n"
     ]
    },
    {
     "name": "stderr",
     "output_type": "stream",
     "text": [
      "Epoch [1682/5000]: 100%|██████████| 10/10 [00:00<00:00, 334.53it/s, loss=0.744]\n"
     ]
    },
    {
     "name": "stdout",
     "output_type": "stream",
     "text": [
      "Epoch [1682/5000]: Train loss: 0.8991, Valid loss: 0.9038\n"
     ]
    },
    {
     "name": "stderr",
     "output_type": "stream",
     "text": [
      "Epoch [1683/5000]: 100%|██████████| 10/10 [00:00<00:00, 325.88it/s, loss=0.91]\n"
     ]
    },
    {
     "name": "stdout",
     "output_type": "stream",
     "text": [
      "Epoch [1683/5000]: Train loss: 0.9021, Valid loss: 0.8679\n"
     ]
    },
    {
     "name": "stderr",
     "output_type": "stream",
     "text": [
      "Epoch [1684/5000]: 100%|██████████| 10/10 [00:00<00:00, 313.51it/s, loss=0.894]\n"
     ]
    },
    {
     "name": "stdout",
     "output_type": "stream",
     "text": [
      "Epoch [1684/5000]: Train loss: 0.9028, Valid loss: 0.8633\n"
     ]
    },
    {
     "name": "stderr",
     "output_type": "stream",
     "text": [
      "Epoch [1685/5000]: 100%|██████████| 10/10 [00:00<00:00, 304.11it/s, loss=0.65]\n"
     ]
    },
    {
     "name": "stdout",
     "output_type": "stream",
     "text": [
      "Epoch [1685/5000]: Train loss: 0.8829, Valid loss: 0.8528\n"
     ]
    },
    {
     "name": "stderr",
     "output_type": "stream",
     "text": [
      "Epoch [1686/5000]: 100%|██████████| 10/10 [00:00<00:00, 306.71it/s, loss=0.813]"
     ]
    },
    {
     "name": "stdout",
     "output_type": "stream",
     "text": [
      "Epoch [1686/5000]: Train loss: 0.8929, Valid loss: 0.8638\n"
     ]
    },
    {
     "name": "stderr",
     "output_type": "stream",
     "text": [
      "\n",
      "Epoch [1687/5000]: 100%|██████████| 10/10 [00:00<00:00, 313.48it/s, loss=0.815]\n"
     ]
    },
    {
     "name": "stdout",
     "output_type": "stream",
     "text": [
      "Epoch [1687/5000]: Train loss: 0.8945, Valid loss: 0.9191\n"
     ]
    },
    {
     "name": "stderr",
     "output_type": "stream",
     "text": [
      "Epoch [1688/5000]: 100%|██████████| 10/10 [00:00<00:00, 312.78it/s, loss=1.16]\n"
     ]
    },
    {
     "name": "stdout",
     "output_type": "stream",
     "text": [
      "Epoch [1688/5000]: Train loss: 0.9170, Valid loss: 0.7852\n",
      "Saving model with loss 0.785...\n"
     ]
    },
    {
     "name": "stderr",
     "output_type": "stream",
     "text": [
      "Epoch [1689/5000]: 100%|██████████| 10/10 [00:00<00:00, 346.94it/s, loss=0.97]\n"
     ]
    },
    {
     "name": "stdout",
     "output_type": "stream",
     "text": [
      "Epoch [1689/5000]: Train loss: 0.9042, Valid loss: 0.8515\n"
     ]
    },
    {
     "name": "stderr",
     "output_type": "stream",
     "text": [
      "Epoch [1690/5000]: 100%|██████████| 10/10 [00:00<00:00, 313.61it/s, loss=0.859]\n"
     ]
    },
    {
     "name": "stdout",
     "output_type": "stream",
     "text": [
      "Epoch [1690/5000]: Train loss: 0.8966, Valid loss: 0.8812\n"
     ]
    },
    {
     "name": "stderr",
     "output_type": "stream",
     "text": [
      "Epoch [1691/5000]: 100%|██████████| 10/10 [00:00<00:00, 307.43it/s, loss=1.07]\n"
     ]
    },
    {
     "name": "stdout",
     "output_type": "stream",
     "text": [
      "Epoch [1691/5000]: Train loss: 0.9073, Valid loss: 0.8384\n"
     ]
    },
    {
     "name": "stderr",
     "output_type": "stream",
     "text": [
      "Epoch [1692/5000]: 100%|██████████| 10/10 [00:00<00:00, 313.52it/s, loss=1.08]\n"
     ]
    },
    {
     "name": "stdout",
     "output_type": "stream",
     "text": [
      "Epoch [1692/5000]: Train loss: 0.9106, Valid loss: 0.9346\n"
     ]
    },
    {
     "name": "stderr",
     "output_type": "stream",
     "text": [
      "Epoch [1693/5000]: 100%|██████████| 10/10 [00:00<00:00, 313.54it/s, loss=0.849]\n"
     ]
    },
    {
     "name": "stdout",
     "output_type": "stream",
     "text": [
      "Epoch [1693/5000]: Train loss: 0.8974, Valid loss: 0.8562\n"
     ]
    },
    {
     "name": "stderr",
     "output_type": "stream",
     "text": [
      "Epoch [1694/5000]: 100%|██████████| 10/10 [00:00<00:00, 316.59it/s, loss=1.21]\n"
     ]
    },
    {
     "name": "stdout",
     "output_type": "stream",
     "text": [
      "Epoch [1694/5000]: Train loss: 0.9135, Valid loss: 0.8259\n"
     ]
    },
    {
     "name": "stderr",
     "output_type": "stream",
     "text": [
      "Epoch [1695/5000]: 100%|██████████| 10/10 [00:00<00:00, 242.44it/s, loss=1.15]\n"
     ]
    },
    {
     "name": "stdout",
     "output_type": "stream",
     "text": [
      "Epoch [1695/5000]: Train loss: 0.9221, Valid loss: 0.9095\n"
     ]
    },
    {
     "name": "stderr",
     "output_type": "stream",
     "text": [
      "Epoch [1696/5000]: 100%|██████████| 10/10 [00:00<00:00, 333.98it/s, loss=0.755]\n"
     ]
    },
    {
     "name": "stdout",
     "output_type": "stream",
     "text": [
      "Epoch [1696/5000]: Train loss: 0.8938, Valid loss: 0.8218\n"
     ]
    },
    {
     "name": "stderr",
     "output_type": "stream",
     "text": [
      "Epoch [1697/5000]: 100%|██████████| 10/10 [00:00<00:00, 274.07it/s, loss=1.02]\n"
     ]
    },
    {
     "name": "stdout",
     "output_type": "stream",
     "text": [
      "Epoch [1697/5000]: Train loss: 0.9042, Valid loss: 0.8242\n"
     ]
    },
    {
     "name": "stderr",
     "output_type": "stream",
     "text": [
      "Epoch [1698/5000]: 100%|██████████| 10/10 [00:00<00:00, 317.81it/s, loss=0.714]\n"
     ]
    },
    {
     "name": "stdout",
     "output_type": "stream",
     "text": [
      "Epoch [1698/5000]: Train loss: 0.8864, Valid loss: 0.8222\n"
     ]
    },
    {
     "name": "stderr",
     "output_type": "stream",
     "text": [
      "Epoch [1699/5000]: 100%|██████████| 10/10 [00:00<00:00, 303.50it/s, loss=0.99]\n"
     ]
    },
    {
     "name": "stdout",
     "output_type": "stream",
     "text": [
      "Epoch [1699/5000]: Train loss: 0.9033, Valid loss: 0.8650\n"
     ]
    },
    {
     "name": "stderr",
     "output_type": "stream",
     "text": [
      "Epoch [1700/5000]: 100%|██████████| 10/10 [00:00<00:00, 304.32it/s, loss=0.717]\n"
     ]
    },
    {
     "name": "stdout",
     "output_type": "stream",
     "text": [
      "Epoch [1700/5000]: Train loss: 0.8931, Valid loss: 0.9080\n"
     ]
    },
    {
     "name": "stderr",
     "output_type": "stream",
     "text": [
      "Epoch [1701/5000]: 100%|██████████| 10/10 [00:00<00:00, 285.94it/s, loss=0.964]\n"
     ]
    },
    {
     "name": "stdout",
     "output_type": "stream",
     "text": [
      "Epoch [1701/5000]: Train loss: 0.9088, Valid loss: 0.8589\n"
     ]
    },
    {
     "name": "stderr",
     "output_type": "stream",
     "text": [
      "Epoch [1702/5000]: 100%|██████████| 10/10 [00:00<00:00, 323.63it/s, loss=1.15]\n"
     ]
    },
    {
     "name": "stdout",
     "output_type": "stream",
     "text": [
      "Epoch [1702/5000]: Train loss: 0.9204, Valid loss: 0.9457\n"
     ]
    },
    {
     "name": "stderr",
     "output_type": "stream",
     "text": [
      "Epoch [1703/5000]: 100%|██████████| 10/10 [00:00<00:00, 312.43it/s, loss=1.15]\n"
     ]
    },
    {
     "name": "stdout",
     "output_type": "stream",
     "text": [
      "Epoch [1703/5000]: Train loss: 0.9315, Valid loss: 0.9135\n"
     ]
    },
    {
     "name": "stderr",
     "output_type": "stream",
     "text": [
      "Epoch [1704/5000]: 100%|██████████| 10/10 [00:00<00:00, 306.87it/s, loss=0.712]\n"
     ]
    },
    {
     "name": "stdout",
     "output_type": "stream",
     "text": [
      "Epoch [1704/5000]: Train loss: 0.8878, Valid loss: 0.8685\n"
     ]
    },
    {
     "name": "stderr",
     "output_type": "stream",
     "text": [
      "Epoch [1705/5000]: 100%|██████████| 10/10 [00:00<00:00, 314.35it/s, loss=0.89]\n"
     ]
    },
    {
     "name": "stdout",
     "output_type": "stream",
     "text": [
      "Epoch [1705/5000]: Train loss: 0.9098, Valid loss: 0.8803\n"
     ]
    },
    {
     "name": "stderr",
     "output_type": "stream",
     "text": [
      "Epoch [1706/5000]: 100%|██████████| 10/10 [00:00<00:00, 300.15it/s, loss=0.906]\n"
     ]
    },
    {
     "name": "stdout",
     "output_type": "stream",
     "text": [
      "Epoch [1706/5000]: Train loss: 0.9133, Valid loss: 0.8288\n"
     ]
    },
    {
     "name": "stderr",
     "output_type": "stream",
     "text": [
      "Epoch [1707/5000]: 100%|██████████| 10/10 [00:00<00:00, 317.42it/s, loss=0.758]\n"
     ]
    },
    {
     "name": "stdout",
     "output_type": "stream",
     "text": [
      "Epoch [1707/5000]: Train loss: 0.9027, Valid loss: 0.8482\n"
     ]
    },
    {
     "name": "stderr",
     "output_type": "stream",
     "text": [
      "Epoch [1708/5000]: 100%|██████████| 10/10 [00:00<00:00, 297.56it/s, loss=0.977]\n"
     ]
    },
    {
     "name": "stdout",
     "output_type": "stream",
     "text": [
      "Epoch [1708/5000]: Train loss: 0.9118, Valid loss: 0.8213\n"
     ]
    },
    {
     "name": "stderr",
     "output_type": "stream",
     "text": [
      "Epoch [1709/5000]: 100%|██████████| 10/10 [00:00<00:00, 325.72it/s, loss=1.14]\n"
     ]
    },
    {
     "name": "stdout",
     "output_type": "stream",
     "text": [
      "Epoch [1709/5000]: Train loss: 0.9143, Valid loss: 0.8295\n"
     ]
    },
    {
     "name": "stderr",
     "output_type": "stream",
     "text": [
      "Epoch [1710/5000]: 100%|██████████| 10/10 [00:00<00:00, 323.73it/s, loss=0.867]\n"
     ]
    },
    {
     "name": "stdout",
     "output_type": "stream",
     "text": [
      "Epoch [1710/5000]: Train loss: 0.8998, Valid loss: 0.8511\n"
     ]
    },
    {
     "name": "stderr",
     "output_type": "stream",
     "text": [
      "Epoch [1711/5000]: 100%|██████████| 10/10 [00:00<00:00, 321.88it/s, loss=0.849]\n"
     ]
    },
    {
     "name": "stdout",
     "output_type": "stream",
     "text": [
      "Epoch [1711/5000]: Train loss: 0.9001, Valid loss: 0.8635\n"
     ]
    },
    {
     "name": "stderr",
     "output_type": "stream",
     "text": [
      "Epoch [1712/5000]: 100%|██████████| 10/10 [00:00<00:00, 283.92it/s, loss=1.15]\n"
     ]
    },
    {
     "name": "stdout",
     "output_type": "stream",
     "text": [
      "Epoch [1712/5000]: Train loss: 0.9165, Valid loss: 0.8871\n"
     ]
    },
    {
     "name": "stderr",
     "output_type": "stream",
     "text": [
      "Epoch [1713/5000]: 100%|██████████| 10/10 [00:00<00:00, 358.44it/s, loss=0.865]\n"
     ]
    },
    {
     "name": "stdout",
     "output_type": "stream",
     "text": [
      "Epoch [1713/5000]: Train loss: 0.8962, Valid loss: 0.9025\n"
     ]
    },
    {
     "name": "stderr",
     "output_type": "stream",
     "text": [
      "Epoch [1714/5000]: 100%|██████████| 10/10 [00:00<00:00, 283.97it/s, loss=0.816]\n"
     ]
    },
    {
     "name": "stdout",
     "output_type": "stream",
     "text": [
      "Epoch [1714/5000]: Train loss: 0.8927, Valid loss: 0.8750\n"
     ]
    },
    {
     "name": "stderr",
     "output_type": "stream",
     "text": [
      "Epoch [1715/5000]: 100%|██████████| 10/10 [00:00<00:00, 327.90it/s, loss=0.887]\n"
     ]
    },
    {
     "name": "stdout",
     "output_type": "stream",
     "text": [
      "Epoch [1715/5000]: Train loss: 0.8980, Valid loss: 0.9417\n"
     ]
    },
    {
     "name": "stderr",
     "output_type": "stream",
     "text": [
      "Epoch [1716/5000]: 100%|██████████| 10/10 [00:00<00:00, 341.97it/s, loss=0.65]\n"
     ]
    },
    {
     "name": "stdout",
     "output_type": "stream",
     "text": [
      "Epoch [1716/5000]: Train loss: 0.8884, Valid loss: 0.8897\n"
     ]
    },
    {
     "name": "stderr",
     "output_type": "stream",
     "text": [
      "Epoch [1717/5000]: 100%|██████████| 10/10 [00:00<00:00, 370.78it/s, loss=1.01]\n"
     ]
    },
    {
     "name": "stdout",
     "output_type": "stream",
     "text": [
      "Epoch [1717/5000]: Train loss: 0.9222, Valid loss: 0.8778\n"
     ]
    },
    {
     "name": "stderr",
     "output_type": "stream",
     "text": [
      "Epoch [1718/5000]: 100%|██████████| 10/10 [00:00<00:00, 337.36it/s, loss=1.26]\n"
     ]
    },
    {
     "name": "stdout",
     "output_type": "stream",
     "text": [
      "Epoch [1718/5000]: Train loss: 0.9335, Valid loss: 0.9101\n"
     ]
    },
    {
     "name": "stderr",
     "output_type": "stream",
     "text": [
      "Epoch [1719/5000]: 100%|██████████| 10/10 [00:00<00:00, 286.98it/s, loss=0.711]\n"
     ]
    },
    {
     "name": "stdout",
     "output_type": "stream",
     "text": [
      "Epoch [1719/5000]: Train loss: 0.8972, Valid loss: 0.8659\n"
     ]
    },
    {
     "name": "stderr",
     "output_type": "stream",
     "text": [
      "Epoch [1720/5000]: 100%|██████████| 10/10 [00:00<00:00, 297.06it/s, loss=0.847]\n"
     ]
    },
    {
     "name": "stdout",
     "output_type": "stream",
     "text": [
      "Epoch [1720/5000]: Train loss: 0.8963, Valid loss: 0.8468\n"
     ]
    },
    {
     "name": "stderr",
     "output_type": "stream",
     "text": [
      "Epoch [1721/5000]: 100%|██████████| 10/10 [00:00<00:00, 313.44it/s, loss=1.2]\n"
     ]
    },
    {
     "name": "stdout",
     "output_type": "stream",
     "text": [
      "Epoch [1721/5000]: Train loss: 0.9173, Valid loss: 0.8682\n"
     ]
    },
    {
     "name": "stderr",
     "output_type": "stream",
     "text": [
      "Epoch [1722/5000]: 100%|██████████| 10/10 [00:00<00:00, 318.78it/s, loss=0.813]\n"
     ]
    },
    {
     "name": "stdout",
     "output_type": "stream",
     "text": [
      "Epoch [1722/5000]: Train loss: 0.8895, Valid loss: 0.9052\n"
     ]
    },
    {
     "name": "stderr",
     "output_type": "stream",
     "text": [
      "Epoch [1723/5000]: 100%|██████████| 10/10 [00:00<00:00, 336.79it/s, loss=0.738]\n"
     ]
    },
    {
     "name": "stdout",
     "output_type": "stream",
     "text": [
      "Epoch [1723/5000]: Train loss: 0.8874, Valid loss: 0.8611\n"
     ]
    },
    {
     "name": "stderr",
     "output_type": "stream",
     "text": [
      "Epoch [1724/5000]: 100%|██████████| 10/10 [00:00<00:00, 334.98it/s, loss=0.858]\n"
     ]
    },
    {
     "name": "stdout",
     "output_type": "stream",
     "text": [
      "Epoch [1724/5000]: Train loss: 0.9063, Valid loss: 0.8477\n"
     ]
    },
    {
     "name": "stderr",
     "output_type": "stream",
     "text": [
      "Epoch [1725/5000]: 100%|██████████| 10/10 [00:00<00:00, 323.35it/s, loss=0.814]\n"
     ]
    },
    {
     "name": "stdout",
     "output_type": "stream",
     "text": [
      "Epoch [1725/5000]: Train loss: 0.9064, Valid loss: 0.8383\n"
     ]
    },
    {
     "name": "stderr",
     "output_type": "stream",
     "text": [
      "Epoch [1726/5000]: 100%|██████████| 10/10 [00:00<00:00, 326.72it/s, loss=0.593]"
     ]
    },
    {
     "name": "stdout",
     "output_type": "stream",
     "text": [
      "Epoch [1726/5000]: Train loss: 0.8810, Valid loss: 0.8824\n"
     ]
    },
    {
     "name": "stderr",
     "output_type": "stream",
     "text": [
      "\n",
      "Epoch [1727/5000]: 100%|██████████| 10/10 [00:00<00:00, 345.57it/s, loss=0.718]\n"
     ]
    },
    {
     "name": "stdout",
     "output_type": "stream",
     "text": [
      "Epoch [1727/5000]: Train loss: 0.8891, Valid loss: 0.9304\n"
     ]
    },
    {
     "name": "stderr",
     "output_type": "stream",
     "text": [
      "Epoch [1728/5000]: 100%|██████████| 10/10 [00:00<00:00, 322.90it/s, loss=0.77]\n"
     ]
    },
    {
     "name": "stdout",
     "output_type": "stream",
     "text": [
      "Epoch [1728/5000]: Train loss: 0.8939, Valid loss: 0.8280\n"
     ]
    },
    {
     "name": "stderr",
     "output_type": "stream",
     "text": [
      "Epoch [1729/5000]: 100%|██████████| 10/10 [00:00<00:00, 253.01it/s, loss=0.832]\n"
     ]
    },
    {
     "name": "stdout",
     "output_type": "stream",
     "text": [
      "Epoch [1729/5000]: Train loss: 0.8945, Valid loss: 0.9353\n"
     ]
    },
    {
     "name": "stderr",
     "output_type": "stream",
     "text": [
      "Epoch [1730/5000]: 100%|██████████| 10/10 [00:00<00:00, 370.62it/s, loss=0.952]\n"
     ]
    },
    {
     "name": "stdout",
     "output_type": "stream",
     "text": [
      "Epoch [1730/5000]: Train loss: 0.9093, Valid loss: 0.9242\n"
     ]
    },
    {
     "name": "stderr",
     "output_type": "stream",
     "text": [
      "Epoch [1731/5000]: 100%|██████████| 10/10 [00:00<00:00, 267.61it/s, loss=0.809]\n"
     ]
    },
    {
     "name": "stdout",
     "output_type": "stream",
     "text": [
      "Epoch [1731/5000]: Train loss: 0.9028, Valid loss: 0.8696\n"
     ]
    },
    {
     "name": "stderr",
     "output_type": "stream",
     "text": [
      "Epoch [1732/5000]: 100%|██████████| 10/10 [00:00<00:00, 295.65it/s, loss=0.915]\n"
     ]
    },
    {
     "name": "stdout",
     "output_type": "stream",
     "text": [
      "Epoch [1732/5000]: Train loss: 0.9027, Valid loss: 0.8430\n"
     ]
    },
    {
     "name": "stderr",
     "output_type": "stream",
     "text": [
      "Epoch [1733/5000]: 100%|██████████| 10/10 [00:00<00:00, 261.22it/s, loss=0.578]\n"
     ]
    },
    {
     "name": "stdout",
     "output_type": "stream",
     "text": [
      "Epoch [1733/5000]: Train loss: 0.8842, Valid loss: 0.8443\n"
     ]
    },
    {
     "name": "stderr",
     "output_type": "stream",
     "text": [
      "Epoch [1734/5000]: 100%|██████████| 10/10 [00:00<00:00, 258.18it/s, loss=0.734]\n"
     ]
    },
    {
     "name": "stdout",
     "output_type": "stream",
     "text": [
      "Epoch [1734/5000]: Train loss: 0.8931, Valid loss: 0.8814\n"
     ]
    },
    {
     "name": "stderr",
     "output_type": "stream",
     "text": [
      "Epoch [1735/5000]: 100%|██████████| 10/10 [00:00<00:00, 294.10it/s, loss=1.36]\n"
     ]
    },
    {
     "name": "stdout",
     "output_type": "stream",
     "text": [
      "Epoch [1735/5000]: Train loss: 0.9235, Valid loss: 0.8724\n"
     ]
    },
    {
     "name": "stderr",
     "output_type": "stream",
     "text": [
      "Epoch [1736/5000]: 100%|██████████| 10/10 [00:00<00:00, 338.54it/s, loss=1.17]\n"
     ]
    },
    {
     "name": "stdout",
     "output_type": "stream",
     "text": [
      "Epoch [1736/5000]: Train loss: 0.9218, Valid loss: 0.9734\n"
     ]
    },
    {
     "name": "stderr",
     "output_type": "stream",
     "text": [
      "Epoch [1737/5000]: 100%|██████████| 10/10 [00:00<00:00, 323.59it/s, loss=0.98]\n"
     ]
    },
    {
     "name": "stdout",
     "output_type": "stream",
     "text": [
      "Epoch [1737/5000]: Train loss: 0.9074, Valid loss: 0.8429\n"
     ]
    },
    {
     "name": "stderr",
     "output_type": "stream",
     "text": [
      "Epoch [1738/5000]: 100%|██████████| 10/10 [00:00<00:00, 320.65it/s, loss=1.01]\n"
     ]
    },
    {
     "name": "stdout",
     "output_type": "stream",
     "text": [
      "Epoch [1738/5000]: Train loss: 0.9061, Valid loss: 0.8451\n"
     ]
    },
    {
     "name": "stderr",
     "output_type": "stream",
     "text": [
      "Epoch [1739/5000]: 100%|██████████| 10/10 [00:00<00:00, 328.79it/s, loss=0.927]\n"
     ]
    },
    {
     "name": "stdout",
     "output_type": "stream",
     "text": [
      "Epoch [1739/5000]: Train loss: 0.9013, Valid loss: 0.8679\n"
     ]
    },
    {
     "name": "stderr",
     "output_type": "stream",
     "text": [
      "Epoch [1740/5000]: 100%|██████████| 10/10 [00:00<00:00, 334.11it/s, loss=0.994]\n"
     ]
    },
    {
     "name": "stdout",
     "output_type": "stream",
     "text": [
      "Epoch [1740/5000]: Train loss: 0.9169, Valid loss: 0.8493\n"
     ]
    },
    {
     "name": "stderr",
     "output_type": "stream",
     "text": [
      "Epoch [1741/5000]: 100%|██████████| 10/10 [00:00<00:00, 333.89it/s, loss=1.07]\n"
     ]
    },
    {
     "name": "stdout",
     "output_type": "stream",
     "text": [
      "Epoch [1741/5000]: Train loss: 0.9072, Valid loss: 0.9250\n"
     ]
    },
    {
     "name": "stderr",
     "output_type": "stream",
     "text": [
      "Epoch [1742/5000]: 100%|██████████| 10/10 [00:00<00:00, 306.53it/s, loss=0.784]\n"
     ]
    },
    {
     "name": "stdout",
     "output_type": "stream",
     "text": [
      "Epoch [1742/5000]: Train loss: 0.8953, Valid loss: 0.9007\n"
     ]
    },
    {
     "name": "stderr",
     "output_type": "stream",
     "text": [
      "Epoch [1743/5000]: 100%|██████████| 10/10 [00:00<00:00, 323.19it/s, loss=0.816]\n"
     ]
    },
    {
     "name": "stdout",
     "output_type": "stream",
     "text": [
      "Epoch [1743/5000]: Train loss: 0.8928, Valid loss: 0.8846\n"
     ]
    },
    {
     "name": "stderr",
     "output_type": "stream",
     "text": [
      "Epoch [1744/5000]: 100%|██████████| 10/10 [00:00<00:00, 319.37it/s, loss=0.698]\n"
     ]
    },
    {
     "name": "stdout",
     "output_type": "stream",
     "text": [
      "Epoch [1744/5000]: Train loss: 0.8918, Valid loss: 0.8171\n"
     ]
    },
    {
     "name": "stderr",
     "output_type": "stream",
     "text": [
      "Epoch [1745/5000]: 100%|██████████| 10/10 [00:00<00:00, 292.89it/s, loss=0.963]\n"
     ]
    },
    {
     "name": "stdout",
     "output_type": "stream",
     "text": [
      "Epoch [1745/5000]: Train loss: 0.9079, Valid loss: 0.8438\n"
     ]
    },
    {
     "name": "stderr",
     "output_type": "stream",
     "text": [
      "Epoch [1746/5000]: 100%|██████████| 10/10 [00:00<00:00, 286.35it/s, loss=1.11]\n"
     ]
    },
    {
     "name": "stdout",
     "output_type": "stream",
     "text": [
      "Epoch [1746/5000]: Train loss: 0.9146, Valid loss: 0.9582\n"
     ]
    },
    {
     "name": "stderr",
     "output_type": "stream",
     "text": [
      "Epoch [1747/5000]: 100%|██████████| 10/10 [00:00<00:00, 278.53it/s, loss=0.873]\n"
     ]
    },
    {
     "name": "stdout",
     "output_type": "stream",
     "text": [
      "Epoch [1747/5000]: Train loss: 0.8978, Valid loss: 0.8550\n"
     ]
    },
    {
     "name": "stderr",
     "output_type": "stream",
     "text": [
      "Epoch [1748/5000]: 100%|██████████| 10/10 [00:00<00:00, 350.52it/s, loss=0.79]\n"
     ]
    },
    {
     "name": "stdout",
     "output_type": "stream",
     "text": [
      "Epoch [1748/5000]: Train loss: 0.8878, Valid loss: 0.8397\n"
     ]
    },
    {
     "name": "stderr",
     "output_type": "stream",
     "text": [
      "Epoch [1749/5000]: 100%|██████████| 10/10 [00:00<00:00, 312.19it/s, loss=0.895]\n"
     ]
    },
    {
     "name": "stdout",
     "output_type": "stream",
     "text": [
      "Epoch [1749/5000]: Train loss: 0.8972, Valid loss: 0.8234\n"
     ]
    },
    {
     "name": "stderr",
     "output_type": "stream",
     "text": [
      "Epoch [1750/5000]: 100%|██████████| 10/10 [00:00<00:00, 328.93it/s, loss=0.848]\n"
     ]
    },
    {
     "name": "stdout",
     "output_type": "stream",
     "text": [
      "Epoch [1750/5000]: Train loss: 0.8934, Valid loss: 0.8972\n"
     ]
    },
    {
     "name": "stderr",
     "output_type": "stream",
     "text": [
      "Epoch [1751/5000]: 100%|██████████| 10/10 [00:00<00:00, 323.46it/s, loss=0.853]\n"
     ]
    },
    {
     "name": "stdout",
     "output_type": "stream",
     "text": [
      "Epoch [1751/5000]: Train loss: 0.8939, Valid loss: 0.8322\n"
     ]
    },
    {
     "name": "stderr",
     "output_type": "stream",
     "text": [
      "Epoch [1752/5000]: 100%|██████████| 10/10 [00:00<00:00, 335.49it/s, loss=0.994]"
     ]
    },
    {
     "name": "stdout",
     "output_type": "stream",
     "text": [
      "Epoch [1752/5000]: Train loss: 0.9052, Valid loss: 0.8737\n"
     ]
    },
    {
     "name": "stderr",
     "output_type": "stream",
     "text": [
      "\n",
      "Epoch [1753/5000]: 100%|██████████| 10/10 [00:00<00:00, 334.66it/s, loss=1.01]\n"
     ]
    },
    {
     "name": "stdout",
     "output_type": "stream",
     "text": [
      "Epoch [1753/5000]: Train loss: 0.9035, Valid loss: 0.9325\n"
     ]
    },
    {
     "name": "stderr",
     "output_type": "stream",
     "text": [
      "Epoch [1754/5000]: 100%|██████████| 10/10 [00:00<00:00, 323.67it/s, loss=0.884]\n"
     ]
    },
    {
     "name": "stdout",
     "output_type": "stream",
     "text": [
      "Epoch [1754/5000]: Train loss: 0.8958, Valid loss: 0.8921\n"
     ]
    },
    {
     "name": "stderr",
     "output_type": "stream",
     "text": [
      "Epoch [1755/5000]: 100%|██████████| 10/10 [00:00<00:00, 298.29it/s, loss=1.14]\n"
     ]
    },
    {
     "name": "stdout",
     "output_type": "stream",
     "text": [
      "Epoch [1755/5000]: Train loss: 0.9227, Valid loss: 0.8287\n"
     ]
    },
    {
     "name": "stderr",
     "output_type": "stream",
     "text": [
      "Epoch [1756/5000]: 100%|██████████| 10/10 [00:00<00:00, 303.71it/s, loss=0.665]\n"
     ]
    },
    {
     "name": "stdout",
     "output_type": "stream",
     "text": [
      "Epoch [1756/5000]: Train loss: 0.8861, Valid loss: 0.9084\n"
     ]
    },
    {
     "name": "stderr",
     "output_type": "stream",
     "text": [
      "Epoch [1757/5000]: 100%|██████████| 10/10 [00:00<00:00, 320.41it/s, loss=1.28]\n"
     ]
    },
    {
     "name": "stdout",
     "output_type": "stream",
     "text": [
      "Epoch [1757/5000]: Train loss: 0.9227, Valid loss: 0.8774\n"
     ]
    },
    {
     "name": "stderr",
     "output_type": "stream",
     "text": [
      "Epoch [1758/5000]: 100%|██████████| 10/10 [00:00<00:00, 324.97it/s, loss=1.05]\n"
     ]
    },
    {
     "name": "stdout",
     "output_type": "stream",
     "text": [
      "Epoch [1758/5000]: Train loss: 0.9076, Valid loss: 0.9019\n"
     ]
    },
    {
     "name": "stderr",
     "output_type": "stream",
     "text": [
      "Epoch [1759/5000]: 100%|██████████| 10/10 [00:00<00:00, 80.54it/s, loss=0.667]\n"
     ]
    },
    {
     "name": "stdout",
     "output_type": "stream",
     "text": [
      "Epoch [1759/5000]: Train loss: 0.8837, Valid loss: 0.8933\n"
     ]
    },
    {
     "name": "stderr",
     "output_type": "stream",
     "text": [
      "Epoch [1760/5000]: 100%|██████████| 10/10 [00:00<00:00, 268.76it/s, loss=0.935]\n"
     ]
    },
    {
     "name": "stdout",
     "output_type": "stream",
     "text": [
      "Epoch [1760/5000]: Train loss: 0.9010, Valid loss: 0.8673\n"
     ]
    },
    {
     "name": "stderr",
     "output_type": "stream",
     "text": [
      "Epoch [1761/5000]: 100%|██████████| 10/10 [00:00<00:00, 222.79it/s, loss=0.91]\n"
     ]
    },
    {
     "name": "stdout",
     "output_type": "stream",
     "text": [
      "Epoch [1761/5000]: Train loss: 0.9082, Valid loss: 0.8541\n"
     ]
    },
    {
     "name": "stderr",
     "output_type": "stream",
     "text": [
      "Epoch [1762/5000]: 100%|██████████| 10/10 [00:00<00:00, 302.89it/s, loss=0.907]\n"
     ]
    },
    {
     "name": "stdout",
     "output_type": "stream",
     "text": [
      "Epoch [1762/5000]: Train loss: 0.9053, Valid loss: 0.8481\n"
     ]
    },
    {
     "name": "stderr",
     "output_type": "stream",
     "text": [
      "Epoch [1763/5000]: 100%|██████████| 10/10 [00:00<00:00, 280.09it/s, loss=1.37]\n"
     ]
    },
    {
     "name": "stdout",
     "output_type": "stream",
     "text": [
      "Epoch [1763/5000]: Train loss: 0.9316, Valid loss: 0.8143\n"
     ]
    },
    {
     "name": "stderr",
     "output_type": "stream",
     "text": [
      "Epoch [1764/5000]: 100%|██████████| 10/10 [00:00<00:00, 286.81it/s, loss=0.811]\n"
     ]
    },
    {
     "name": "stdout",
     "output_type": "stream",
     "text": [
      "Epoch [1764/5000]: Train loss: 0.8910, Valid loss: 0.8807\n"
     ]
    },
    {
     "name": "stderr",
     "output_type": "stream",
     "text": [
      "Epoch [1765/5000]: 100%|██████████| 10/10 [00:00<00:00, 325.55it/s, loss=0.658]\n"
     ]
    },
    {
     "name": "stdout",
     "output_type": "stream",
     "text": [
      "Epoch [1765/5000]: Train loss: 0.8855, Valid loss: 0.8822\n"
     ]
    },
    {
     "name": "stderr",
     "output_type": "stream",
     "text": [
      "Epoch [1766/5000]: 100%|██████████| 10/10 [00:00<00:00, 314.08it/s, loss=1.18]\n"
     ]
    },
    {
     "name": "stdout",
     "output_type": "stream",
     "text": [
      "Epoch [1766/5000]: Train loss: 0.9131, Valid loss: 0.8014\n"
     ]
    },
    {
     "name": "stderr",
     "output_type": "stream",
     "text": [
      "Epoch [1767/5000]: 100%|██████████| 10/10 [00:00<00:00, 313.47it/s, loss=0.946]\n"
     ]
    },
    {
     "name": "stdout",
     "output_type": "stream",
     "text": [
      "Epoch [1767/5000]: Train loss: 0.9085, Valid loss: 0.8796\n"
     ]
    },
    {
     "name": "stderr",
     "output_type": "stream",
     "text": [
      "Epoch [1768/5000]: 100%|██████████| 10/10 [00:00<00:00, 317.58it/s, loss=0.835]\n"
     ]
    },
    {
     "name": "stdout",
     "output_type": "stream",
     "text": [
      "Epoch [1768/5000]: Train loss: 0.8964, Valid loss: 0.8257\n"
     ]
    },
    {
     "name": "stderr",
     "output_type": "stream",
     "text": [
      "Epoch [1769/5000]: 100%|██████████| 10/10 [00:00<00:00, 323.62it/s, loss=0.932]\n"
     ]
    },
    {
     "name": "stdout",
     "output_type": "stream",
     "text": [
      "Epoch [1769/5000]: Train loss: 0.9096, Valid loss: 0.8443\n"
     ]
    },
    {
     "name": "stderr",
     "output_type": "stream",
     "text": [
      "Epoch [1770/5000]: 100%|██████████| 10/10 [00:00<00:00, 345.98it/s, loss=0.808]"
     ]
    },
    {
     "name": "stdout",
     "output_type": "stream",
     "text": [
      "Epoch [1770/5000]: Train loss: 0.8902, Valid loss: 0.8011\n"
     ]
    },
    {
     "name": "stderr",
     "output_type": "stream",
     "text": [
      "\n",
      "Epoch [1771/5000]: 100%|██████████| 10/10 [00:00<00:00, 337.82it/s, loss=1.12]\n"
     ]
    },
    {
     "name": "stdout",
     "output_type": "stream",
     "text": [
      "Epoch [1771/5000]: Train loss: 0.9109, Valid loss: 0.8473\n"
     ]
    },
    {
     "name": "stderr",
     "output_type": "stream",
     "text": [
      "Epoch [1772/5000]: 100%|██████████| 10/10 [00:00<00:00, 303.31it/s, loss=0.932]\n"
     ]
    },
    {
     "name": "stdout",
     "output_type": "stream",
     "text": [
      "Epoch [1772/5000]: Train loss: 0.9130, Valid loss: 0.8324\n"
     ]
    },
    {
     "name": "stderr",
     "output_type": "stream",
     "text": [
      "Epoch [1773/5000]: 100%|██████████| 10/10 [00:00<00:00, 278.03it/s, loss=0.803]\n"
     ]
    },
    {
     "name": "stdout",
     "output_type": "stream",
     "text": [
      "Epoch [1773/5000]: Train loss: 0.9073, Valid loss: 0.8134\n"
     ]
    },
    {
     "name": "stderr",
     "output_type": "stream",
     "text": [
      "Epoch [1774/5000]: 100%|██████████| 10/10 [00:00<00:00, 344.85it/s, loss=0.807]\n"
     ]
    },
    {
     "name": "stdout",
     "output_type": "stream",
     "text": [
      "Epoch [1774/5000]: Train loss: 0.8988, Valid loss: 0.8011\n"
     ]
    },
    {
     "name": "stderr",
     "output_type": "stream",
     "text": [
      "Epoch [1775/5000]: 100%|██████████| 10/10 [00:00<00:00, 238.74it/s, loss=1.21]\n"
     ]
    },
    {
     "name": "stdout",
     "output_type": "stream",
     "text": [
      "Epoch [1775/5000]: Train loss: 0.9177, Valid loss: 0.9567\n"
     ]
    },
    {
     "name": "stderr",
     "output_type": "stream",
     "text": [
      "Epoch [1776/5000]: 100%|██████████| 10/10 [00:00<00:00, 348.87it/s, loss=1.01]\n"
     ]
    },
    {
     "name": "stdout",
     "output_type": "stream",
     "text": [
      "Epoch [1776/5000]: Train loss: 0.9125, Valid loss: 0.9393\n"
     ]
    },
    {
     "name": "stderr",
     "output_type": "stream",
     "text": [
      "Epoch [1777/5000]: 100%|██████████| 10/10 [00:00<00:00, 295.11it/s, loss=0.903]\n"
     ]
    },
    {
     "name": "stdout",
     "output_type": "stream",
     "text": [
      "Epoch [1777/5000]: Train loss: 0.8974, Valid loss: 0.8496\n"
     ]
    },
    {
     "name": "stderr",
     "output_type": "stream",
     "text": [
      "Epoch [1778/5000]: 100%|██████████| 10/10 [00:00<00:00, 384.28it/s, loss=0.685]\n"
     ]
    },
    {
     "name": "stdout",
     "output_type": "stream",
     "text": [
      "Epoch [1778/5000]: Train loss: 0.8837, Valid loss: 0.8612\n"
     ]
    },
    {
     "name": "stderr",
     "output_type": "stream",
     "text": [
      "Epoch [1779/5000]: 100%|██████████| 10/10 [00:00<00:00, 315.69it/s, loss=1.08]\n"
     ]
    },
    {
     "name": "stdout",
     "output_type": "stream",
     "text": [
      "Epoch [1779/5000]: Train loss: 0.9062, Valid loss: 0.8824\n"
     ]
    },
    {
     "name": "stderr",
     "output_type": "stream",
     "text": [
      "Epoch [1780/5000]: 100%|██████████| 10/10 [00:00<00:00, 322.84it/s, loss=0.702]\n"
     ]
    },
    {
     "name": "stdout",
     "output_type": "stream",
     "text": [
      "Epoch [1780/5000]: Train loss: 0.8818, Valid loss: 0.8999\n"
     ]
    },
    {
     "name": "stderr",
     "output_type": "stream",
     "text": [
      "Epoch [1781/5000]: 100%|██████████| 10/10 [00:00<00:00, 312.73it/s, loss=0.84]\n"
     ]
    },
    {
     "name": "stdout",
     "output_type": "stream",
     "text": [
      "Epoch [1781/5000]: Train loss: 0.8941, Valid loss: 0.8538\n"
     ]
    },
    {
     "name": "stderr",
     "output_type": "stream",
     "text": [
      "Epoch [1782/5000]: 100%|██████████| 10/10 [00:00<00:00, 297.65it/s, loss=0.494]\n"
     ]
    },
    {
     "name": "stdout",
     "output_type": "stream",
     "text": [
      "Epoch [1782/5000]: Train loss: 0.8707, Valid loss: 0.9650\n"
     ]
    },
    {
     "name": "stderr",
     "output_type": "stream",
     "text": [
      "Epoch [1783/5000]: 100%|██████████| 10/10 [00:00<00:00, 334.45it/s, loss=0.65]\n"
     ]
    },
    {
     "name": "stdout",
     "output_type": "stream",
     "text": [
      "Epoch [1783/5000]: Train loss: 0.8848, Valid loss: 0.8178\n"
     ]
    },
    {
     "name": "stderr",
     "output_type": "stream",
     "text": [
      "Epoch [1784/5000]: 100%|██████████| 10/10 [00:00<00:00, 321.18it/s, loss=0.914]\n"
     ]
    },
    {
     "name": "stdout",
     "output_type": "stream",
     "text": [
      "Epoch [1784/5000]: Train loss: 0.8962, Valid loss: 0.9277\n"
     ]
    },
    {
     "name": "stderr",
     "output_type": "stream",
     "text": [
      "Epoch [1785/5000]: 100%|██████████| 10/10 [00:00<00:00, 313.84it/s, loss=0.923]\n"
     ]
    },
    {
     "name": "stdout",
     "output_type": "stream",
     "text": [
      "Epoch [1785/5000]: Train loss: 0.9012, Valid loss: 0.8230\n"
     ]
    },
    {
     "name": "stderr",
     "output_type": "stream",
     "text": [
      "Epoch [1786/5000]: 100%|██████████| 10/10 [00:00<00:00, 315.68it/s, loss=0.933]\n"
     ]
    },
    {
     "name": "stdout",
     "output_type": "stream",
     "text": [
      "Epoch [1786/5000]: Train loss: 0.8976, Valid loss: 0.8796\n"
     ]
    },
    {
     "name": "stderr",
     "output_type": "stream",
     "text": [
      "Epoch [1787/5000]: 100%|██████████| 10/10 [00:00<00:00, 306.01it/s, loss=0.898]\n"
     ]
    },
    {
     "name": "stdout",
     "output_type": "stream",
     "text": [
      "Epoch [1787/5000]: Train loss: 0.8952, Valid loss: 0.8605\n"
     ]
    },
    {
     "name": "stderr",
     "output_type": "stream",
     "text": [
      "Epoch [1788/5000]: 100%|██████████| 10/10 [00:00<00:00, 312.68it/s, loss=0.876]\n"
     ]
    },
    {
     "name": "stdout",
     "output_type": "stream",
     "text": [
      "Epoch [1788/5000]: Train loss: 0.8955, Valid loss: 0.8674\n"
     ]
    },
    {
     "name": "stderr",
     "output_type": "stream",
     "text": [
      "Epoch [1789/5000]: 100%|██████████| 10/10 [00:00<00:00, 303.29it/s, loss=0.841]\n"
     ]
    },
    {
     "name": "stdout",
     "output_type": "stream",
     "text": [
      "Epoch [1789/5000]: Train loss: 0.9040, Valid loss: 0.8895\n"
     ]
    },
    {
     "name": "stderr",
     "output_type": "stream",
     "text": [
      "Epoch [1790/5000]: 100%|██████████| 10/10 [00:00<00:00, 316.92it/s, loss=0.85]\n"
     ]
    },
    {
     "name": "stdout",
     "output_type": "stream",
     "text": [
      "Epoch [1790/5000]: Train loss: 0.8948, Valid loss: 0.9114\n"
     ]
    },
    {
     "name": "stderr",
     "output_type": "stream",
     "text": [
      "Epoch [1791/5000]: 100%|██████████| 10/10 [00:00<00:00, 251.28it/s, loss=1]\n"
     ]
    },
    {
     "name": "stdout",
     "output_type": "stream",
     "text": [
      "Epoch [1791/5000]: Train loss: 0.9035, Valid loss: 0.8418\n"
     ]
    },
    {
     "name": "stderr",
     "output_type": "stream",
     "text": [
      "Epoch [1792/5000]: 100%|██████████| 10/10 [00:00<00:00, 315.77it/s, loss=0.879]\n"
     ]
    },
    {
     "name": "stdout",
     "output_type": "stream",
     "text": [
      "Epoch [1792/5000]: Train loss: 0.8946, Valid loss: 0.8179\n"
     ]
    },
    {
     "name": "stderr",
     "output_type": "stream",
     "text": [
      "Epoch [1793/5000]: 100%|██████████| 10/10 [00:00<00:00, 310.17it/s, loss=0.808]\n"
     ]
    },
    {
     "name": "stdout",
     "output_type": "stream",
     "text": [
      "Epoch [1793/5000]: Train loss: 0.8941, Valid loss: 0.9088\n"
     ]
    },
    {
     "name": "stderr",
     "output_type": "stream",
     "text": [
      "Epoch [1794/5000]: 100%|██████████| 10/10 [00:00<00:00, 332.05it/s, loss=0.916]\n"
     ]
    },
    {
     "name": "stdout",
     "output_type": "stream",
     "text": [
      "Epoch [1794/5000]: Train loss: 0.8984, Valid loss: 0.8386\n"
     ]
    },
    {
     "name": "stderr",
     "output_type": "stream",
     "text": [
      "Epoch [1795/5000]: 100%|██████████| 10/10 [00:00<00:00, 305.01it/s, loss=0.756]\n"
     ]
    },
    {
     "name": "stdout",
     "output_type": "stream",
     "text": [
      "Epoch [1795/5000]: Train loss: 0.8900, Valid loss: 0.8920\n"
     ]
    },
    {
     "name": "stderr",
     "output_type": "stream",
     "text": [
      "Epoch [1796/5000]: 100%|██████████| 10/10 [00:00<00:00, 313.70it/s, loss=0.91]\n"
     ]
    },
    {
     "name": "stdout",
     "output_type": "stream",
     "text": [
      "Epoch [1796/5000]: Train loss: 0.8993, Valid loss: 0.8530\n"
     ]
    },
    {
     "name": "stderr",
     "output_type": "stream",
     "text": [
      "Epoch [1797/5000]: 100%|██████████| 10/10 [00:00<00:00, 333.41it/s, loss=0.894]\n"
     ]
    },
    {
     "name": "stdout",
     "output_type": "stream",
     "text": [
      "Epoch [1797/5000]: Train loss: 0.9154, Valid loss: 0.9415\n"
     ]
    },
    {
     "name": "stderr",
     "output_type": "stream",
     "text": [
      "Epoch [1798/5000]: 100%|██████████| 10/10 [00:00<00:00, 316.60it/s, loss=0.828]\n"
     ]
    },
    {
     "name": "stdout",
     "output_type": "stream",
     "text": [
      "Epoch [1798/5000]: Train loss: 0.9165, Valid loss: 0.8495\n"
     ]
    },
    {
     "name": "stderr",
     "output_type": "stream",
     "text": [
      "Epoch [1799/5000]: 100%|██████████| 10/10 [00:00<00:00, 313.18it/s, loss=1.27]\n"
     ]
    },
    {
     "name": "stdout",
     "output_type": "stream",
     "text": [
      "Epoch [1799/5000]: Train loss: 0.9191, Valid loss: 0.9210\n"
     ]
    },
    {
     "name": "stderr",
     "output_type": "stream",
     "text": [
      "Epoch [1800/5000]: 100%|██████████| 10/10 [00:00<00:00, 298.30it/s, loss=0.873]\n"
     ]
    },
    {
     "name": "stdout",
     "output_type": "stream",
     "text": [
      "Epoch [1800/5000]: Train loss: 0.9073, Valid loss: 0.8541\n"
     ]
    },
    {
     "name": "stderr",
     "output_type": "stream",
     "text": [
      "Epoch [1801/5000]: 100%|██████████| 10/10 [00:00<00:00, 313.74it/s, loss=0.924]\n"
     ]
    },
    {
     "name": "stdout",
     "output_type": "stream",
     "text": [
      "Epoch [1801/5000]: Train loss: 0.8959, Valid loss: 0.8062\n"
     ]
    },
    {
     "name": "stderr",
     "output_type": "stream",
     "text": [
      "Epoch [1802/5000]: 100%|██████████| 10/10 [00:00<00:00, 304.07it/s, loss=1.14]\n"
     ]
    },
    {
     "name": "stdout",
     "output_type": "stream",
     "text": [
      "Epoch [1802/5000]: Train loss: 0.9197, Valid loss: 0.8474\n"
     ]
    },
    {
     "name": "stderr",
     "output_type": "stream",
     "text": [
      "Epoch [1803/5000]: 100%|██████████| 10/10 [00:00<00:00, 252.21it/s, loss=1.02]\n"
     ]
    },
    {
     "name": "stdout",
     "output_type": "stream",
     "text": [
      "Epoch [1803/5000]: Train loss: 0.9084, Valid loss: 0.8267\n"
     ]
    },
    {
     "name": "stderr",
     "output_type": "stream",
     "text": [
      "Epoch [1804/5000]: 100%|██████████| 10/10 [00:00<00:00, 278.71it/s, loss=0.845]\n"
     ]
    },
    {
     "name": "stdout",
     "output_type": "stream",
     "text": [
      "Epoch [1804/5000]: Train loss: 0.9068, Valid loss: 0.8980\n"
     ]
    },
    {
     "name": "stderr",
     "output_type": "stream",
     "text": [
      "Epoch [1805/5000]: 100%|██████████| 10/10 [00:00<00:00, 259.26it/s, loss=0.852]\n"
     ]
    },
    {
     "name": "stdout",
     "output_type": "stream",
     "text": [
      "Epoch [1805/5000]: Train loss: 0.9122, Valid loss: 0.9909\n"
     ]
    },
    {
     "name": "stderr",
     "output_type": "stream",
     "text": [
      "Epoch [1806/5000]: 100%|██████████| 10/10 [00:00<00:00, 250.75it/s, loss=0.737]\n"
     ]
    },
    {
     "name": "stdout",
     "output_type": "stream",
     "text": [
      "Epoch [1806/5000]: Train loss: 0.8938, Valid loss: 0.8248\n"
     ]
    },
    {
     "name": "stderr",
     "output_type": "stream",
     "text": [
      "Epoch [1807/5000]: 100%|██████████| 10/10 [00:00<00:00, 202.48it/s, loss=0.938]\n"
     ]
    },
    {
     "name": "stdout",
     "output_type": "stream",
     "text": [
      "Epoch [1807/5000]: Train loss: 0.9129, Valid loss: 0.9022\n"
     ]
    },
    {
     "name": "stderr",
     "output_type": "stream",
     "text": [
      "Epoch [1808/5000]: 100%|██████████| 10/10 [00:00<00:00, 304.28it/s, loss=0.743]\n"
     ]
    },
    {
     "name": "stdout",
     "output_type": "stream",
     "text": [
      "Epoch [1808/5000]: Train loss: 0.8988, Valid loss: 0.8831\n"
     ]
    },
    {
     "name": "stderr",
     "output_type": "stream",
     "text": [
      "Epoch [1809/5000]: 100%|██████████| 10/10 [00:00<00:00, 289.84it/s, loss=1.13]\n"
     ]
    },
    {
     "name": "stdout",
     "output_type": "stream",
     "text": [
      "Epoch [1809/5000]: Train loss: 0.9074, Valid loss: 0.8375\n"
     ]
    },
    {
     "name": "stderr",
     "output_type": "stream",
     "text": [
      "Epoch [1810/5000]: 100%|██████████| 10/10 [00:00<00:00, 351.02it/s, loss=1.46]\n"
     ]
    },
    {
     "name": "stdout",
     "output_type": "stream",
     "text": [
      "Epoch [1810/5000]: Train loss: 0.9272, Valid loss: 0.9139\n"
     ]
    },
    {
     "name": "stderr",
     "output_type": "stream",
     "text": [
      "Epoch [1811/5000]: 100%|██████████| 10/10 [00:00<00:00, 279.49it/s, loss=0.889]\n"
     ]
    },
    {
     "name": "stdout",
     "output_type": "stream",
     "text": [
      "Epoch [1811/5000]: Train loss: 0.8949, Valid loss: 0.8159\n"
     ]
    },
    {
     "name": "stderr",
     "output_type": "stream",
     "text": [
      "Epoch [1812/5000]: 100%|██████████| 10/10 [00:00<00:00, 305.21it/s, loss=0.835]\n"
     ]
    },
    {
     "name": "stdout",
     "output_type": "stream",
     "text": [
      "Epoch [1812/5000]: Train loss: 0.8905, Valid loss: 0.9081\n"
     ]
    },
    {
     "name": "stderr",
     "output_type": "stream",
     "text": [
      "Epoch [1813/5000]: 100%|██████████| 10/10 [00:00<00:00, 314.63it/s, loss=0.939]\n"
     ]
    },
    {
     "name": "stdout",
     "output_type": "stream",
     "text": [
      "Epoch [1813/5000]: Train loss: 0.8984, Valid loss: 0.8518\n"
     ]
    },
    {
     "name": "stderr",
     "output_type": "stream",
     "text": [
      "Epoch [1814/5000]: 100%|██████████| 10/10 [00:00<00:00, 334.46it/s, loss=1.03]\n"
     ]
    },
    {
     "name": "stdout",
     "output_type": "stream",
     "text": [
      "Epoch [1814/5000]: Train loss: 0.9058, Valid loss: 0.8543\n"
     ]
    },
    {
     "name": "stderr",
     "output_type": "stream",
     "text": [
      "Epoch [1815/5000]: 100%|██████████| 10/10 [00:00<00:00, 337.89it/s, loss=0.874]\n"
     ]
    },
    {
     "name": "stdout",
     "output_type": "stream",
     "text": [
      "Epoch [1815/5000]: Train loss: 0.8935, Valid loss: 0.8714\n"
     ]
    },
    {
     "name": "stderr",
     "output_type": "stream",
     "text": [
      "Epoch [1816/5000]: 100%|██████████| 10/10 [00:00<00:00, 304.46it/s, loss=1.02]\n"
     ]
    },
    {
     "name": "stdout",
     "output_type": "stream",
     "text": [
      "Epoch [1816/5000]: Train loss: 0.9035, Valid loss: 0.8488\n"
     ]
    },
    {
     "name": "stderr",
     "output_type": "stream",
     "text": [
      "Epoch [1817/5000]: 100%|██████████| 10/10 [00:00<00:00, 291.72it/s, loss=0.834]\n"
     ]
    },
    {
     "name": "stdout",
     "output_type": "stream",
     "text": [
      "Epoch [1817/5000]: Train loss: 0.8994, Valid loss: 0.8557\n"
     ]
    },
    {
     "name": "stderr",
     "output_type": "stream",
     "text": [
      "Epoch [1818/5000]: 100%|██████████| 10/10 [00:00<00:00, 349.74it/s, loss=0.657]\n"
     ]
    },
    {
     "name": "stdout",
     "output_type": "stream",
     "text": [
      "Epoch [1818/5000]: Train loss: 0.8923, Valid loss: 0.8789\n"
     ]
    },
    {
     "name": "stderr",
     "output_type": "stream",
     "text": [
      "Epoch [1819/5000]: 100%|██████████| 10/10 [00:00<00:00, 333.22it/s, loss=0.733]\n"
     ]
    },
    {
     "name": "stdout",
     "output_type": "stream",
     "text": [
      "Epoch [1819/5000]: Train loss: 0.8842, Valid loss: 0.8950\n"
     ]
    },
    {
     "name": "stderr",
     "output_type": "stream",
     "text": [
      "Epoch [1820/5000]: 100%|██████████| 10/10 [00:00<00:00, 322.26it/s, loss=1]\n"
     ]
    },
    {
     "name": "stdout",
     "output_type": "stream",
     "text": [
      "Epoch [1820/5000]: Train loss: 0.9079, Valid loss: 0.8434\n"
     ]
    },
    {
     "name": "stderr",
     "output_type": "stream",
     "text": [
      "Epoch [1821/5000]: 100%|██████████| 10/10 [00:00<00:00, 312.73it/s, loss=0.9]\n"
     ]
    },
    {
     "name": "stdout",
     "output_type": "stream",
     "text": [
      "Epoch [1821/5000]: Train loss: 0.8965, Valid loss: 0.7994\n"
     ]
    },
    {
     "name": "stderr",
     "output_type": "stream",
     "text": [
      "Epoch [1822/5000]: 100%|██████████| 10/10 [00:00<00:00, 313.23it/s, loss=1.11]\n"
     ]
    },
    {
     "name": "stdout",
     "output_type": "stream",
     "text": [
      "Epoch [1822/5000]: Train loss: 0.9084, Valid loss: 0.8312\n"
     ]
    },
    {
     "name": "stderr",
     "output_type": "stream",
     "text": [
      "Epoch [1823/5000]: 100%|██████████| 10/10 [00:00<00:00, 351.84it/s, loss=1.49]\n"
     ]
    },
    {
     "name": "stdout",
     "output_type": "stream",
     "text": [
      "Epoch [1823/5000]: Train loss: 0.9339, Valid loss: 0.8933\n"
     ]
    },
    {
     "name": "stderr",
     "output_type": "stream",
     "text": [
      "Epoch [1824/5000]: 100%|██████████| 10/10 [00:00<00:00, 269.25it/s, loss=0.794]\n"
     ]
    },
    {
     "name": "stdout",
     "output_type": "stream",
     "text": [
      "Epoch [1824/5000]: Train loss: 0.8903, Valid loss: 0.9291\n"
     ]
    },
    {
     "name": "stderr",
     "output_type": "stream",
     "text": [
      "Epoch [1825/5000]: 100%|██████████| 10/10 [00:00<00:00, 275.47it/s, loss=0.896]\n"
     ]
    },
    {
     "name": "stdout",
     "output_type": "stream",
     "text": [
      "Epoch [1825/5000]: Train loss: 0.8971, Valid loss: 0.8458\n"
     ]
    },
    {
     "name": "stderr",
     "output_type": "stream",
     "text": [
      "Epoch [1826/5000]: 100%|██████████| 10/10 [00:00<00:00, 304.29it/s, loss=1.25]\n"
     ]
    },
    {
     "name": "stdout",
     "output_type": "stream",
     "text": [
      "Epoch [1826/5000]: Train loss: 0.9173, Valid loss: 0.9225\n"
     ]
    },
    {
     "name": "stderr",
     "output_type": "stream",
     "text": [
      "Epoch [1827/5000]: 100%|██████████| 10/10 [00:00<00:00, 323.96it/s, loss=1.08]\n"
     ]
    },
    {
     "name": "stdout",
     "output_type": "stream",
     "text": [
      "Epoch [1827/5000]: Train loss: 0.9161, Valid loss: 0.8964\n"
     ]
    },
    {
     "name": "stderr",
     "output_type": "stream",
     "text": [
      "Epoch [1828/5000]: 100%|██████████| 10/10 [00:00<00:00, 305.79it/s, loss=1.06]\n"
     ]
    },
    {
     "name": "stdout",
     "output_type": "stream",
     "text": [
      "Epoch [1828/5000]: Train loss: 0.9190, Valid loss: 0.8585\n"
     ]
    },
    {
     "name": "stderr",
     "output_type": "stream",
     "text": [
      "Epoch [1829/5000]: 100%|██████████| 10/10 [00:00<00:00, 323.60it/s, loss=1.03]\n"
     ]
    },
    {
     "name": "stdout",
     "output_type": "stream",
     "text": [
      "Epoch [1829/5000]: Train loss: 0.9025, Valid loss: 0.8425\n"
     ]
    },
    {
     "name": "stderr",
     "output_type": "stream",
     "text": [
      "Epoch [1830/5000]: 100%|██████████| 10/10 [00:00<00:00, 335.27it/s, loss=0.762]\n"
     ]
    },
    {
     "name": "stdout",
     "output_type": "stream",
     "text": [
      "Epoch [1830/5000]: Train loss: 0.8862, Valid loss: 0.9172\n"
     ]
    },
    {
     "name": "stderr",
     "output_type": "stream",
     "text": [
      "Epoch [1831/5000]: 100%|██████████| 10/10 [00:00<00:00, 326.08it/s, loss=0.739]\n"
     ]
    },
    {
     "name": "stdout",
     "output_type": "stream",
     "text": [
      "Epoch [1831/5000]: Train loss: 0.8866, Valid loss: 0.9056\n"
     ]
    },
    {
     "name": "stderr",
     "output_type": "stream",
     "text": [
      "Epoch [1832/5000]: 100%|██████████| 10/10 [00:00<00:00, 334.49it/s, loss=0.866]\n"
     ]
    },
    {
     "name": "stdout",
     "output_type": "stream",
     "text": [
      "Epoch [1832/5000]: Train loss: 0.8934, Valid loss: 0.8802\n"
     ]
    },
    {
     "name": "stderr",
     "output_type": "stream",
     "text": [
      "Epoch [1833/5000]: 100%|██████████| 10/10 [00:00<00:00, 313.60it/s, loss=0.823]\n"
     ]
    },
    {
     "name": "stdout",
     "output_type": "stream",
     "text": [
      "Epoch [1833/5000]: Train loss: 0.8919, Valid loss: 0.8601\n"
     ]
    },
    {
     "name": "stderr",
     "output_type": "stream",
     "text": [
      "Epoch [1834/5000]: 100%|██████████| 10/10 [00:00<00:00, 339.15it/s, loss=0.918]\n"
     ]
    },
    {
     "name": "stdout",
     "output_type": "stream",
     "text": [
      "Epoch [1834/5000]: Train loss: 0.9005, Valid loss: 0.8471\n"
     ]
    },
    {
     "name": "stderr",
     "output_type": "stream",
     "text": [
      "Epoch [1835/5000]: 100%|██████████| 10/10 [00:00<00:00, 324.45it/s, loss=0.996]\n"
     ]
    },
    {
     "name": "stdout",
     "output_type": "stream",
     "text": [
      "Epoch [1835/5000]: Train loss: 0.8990, Valid loss: 0.8503\n"
     ]
    },
    {
     "name": "stderr",
     "output_type": "stream",
     "text": [
      "Epoch [1836/5000]: 100%|██████████| 10/10 [00:00<00:00, 355.32it/s, loss=0.701]\n"
     ]
    },
    {
     "name": "stdout",
     "output_type": "stream",
     "text": [
      "Epoch [1836/5000]: Train loss: 0.8996, Valid loss: 0.9277\n"
     ]
    },
    {
     "name": "stderr",
     "output_type": "stream",
     "text": [
      "Epoch [1837/5000]: 100%|██████████| 10/10 [00:00<00:00, 317.76it/s, loss=1.08]\n"
     ]
    },
    {
     "name": "stdout",
     "output_type": "stream",
     "text": [
      "Epoch [1837/5000]: Train loss: 0.9211, Valid loss: 0.9017\n"
     ]
    },
    {
     "name": "stderr",
     "output_type": "stream",
     "text": [
      "Epoch [1838/5000]: 100%|██████████| 10/10 [00:00<00:00, 304.02it/s, loss=1.3]\n"
     ]
    },
    {
     "name": "stdout",
     "output_type": "stream",
     "text": [
      "Epoch [1838/5000]: Train loss: 0.9321, Valid loss: 0.8841\n"
     ]
    },
    {
     "name": "stderr",
     "output_type": "stream",
     "text": [
      "Epoch [1839/5000]: 100%|██████████| 10/10 [00:00<00:00, 322.68it/s, loss=1.12]\n"
     ]
    },
    {
     "name": "stdout",
     "output_type": "stream",
     "text": [
      "Epoch [1839/5000]: Train loss: 0.9068, Valid loss: 0.9028\n"
     ]
    },
    {
     "name": "stderr",
     "output_type": "stream",
     "text": [
      "Epoch [1840/5000]: 100%|██████████| 10/10 [00:00<00:00, 248.35it/s, loss=0.917]\n"
     ]
    },
    {
     "name": "stdout",
     "output_type": "stream",
     "text": [
      "Epoch [1840/5000]: Train loss: 0.8935, Valid loss: 0.8447\n"
     ]
    },
    {
     "name": "stderr",
     "output_type": "stream",
     "text": [
      "Epoch [1841/5000]: 100%|██████████| 10/10 [00:00<00:00, 300.03it/s, loss=1.22]\n"
     ]
    },
    {
     "name": "stdout",
     "output_type": "stream",
     "text": [
      "Epoch [1841/5000]: Train loss: 0.9366, Valid loss: 0.8656\n"
     ]
    },
    {
     "name": "stderr",
     "output_type": "stream",
     "text": [
      "Epoch [1842/5000]: 100%|██████████| 10/10 [00:00<00:00, 362.97it/s, loss=0.908]\n"
     ]
    },
    {
     "name": "stdout",
     "output_type": "stream",
     "text": [
      "Epoch [1842/5000]: Train loss: 0.9179, Valid loss: 0.8365\n"
     ]
    },
    {
     "name": "stderr",
     "output_type": "stream",
     "text": [
      "Epoch [1843/5000]: 100%|██████████| 10/10 [00:00<00:00, 333.56it/s, loss=1.15]\n"
     ]
    },
    {
     "name": "stdout",
     "output_type": "stream",
     "text": [
      "Epoch [1843/5000]: Train loss: 0.9122, Valid loss: 0.8409\n"
     ]
    },
    {
     "name": "stderr",
     "output_type": "stream",
     "text": [
      "Epoch [1844/5000]: 100%|██████████| 10/10 [00:00<00:00, 334.44it/s, loss=0.687]\n"
     ]
    },
    {
     "name": "stdout",
     "output_type": "stream",
     "text": [
      "Epoch [1844/5000]: Train loss: 0.8927, Valid loss: 0.8320\n"
     ]
    },
    {
     "name": "stderr",
     "output_type": "stream",
     "text": [
      "Epoch [1845/5000]: 100%|██████████| 10/10 [00:00<00:00, 312.56it/s, loss=0.993]\n"
     ]
    },
    {
     "name": "stdout",
     "output_type": "stream",
     "text": [
      "Epoch [1845/5000]: Train loss: 0.9009, Valid loss: 0.8685\n"
     ]
    },
    {
     "name": "stderr",
     "output_type": "stream",
     "text": [
      "Epoch [1846/5000]: 100%|██████████| 10/10 [00:00<00:00, 314.18it/s, loss=0.879]\n"
     ]
    },
    {
     "name": "stdout",
     "output_type": "stream",
     "text": [
      "Epoch [1846/5000]: Train loss: 0.8919, Valid loss: 0.8289\n"
     ]
    },
    {
     "name": "stderr",
     "output_type": "stream",
     "text": [
      "Epoch [1847/5000]: 100%|██████████| 10/10 [00:00<00:00, 324.54it/s, loss=0.57]\n"
     ]
    },
    {
     "name": "stdout",
     "output_type": "stream",
     "text": [
      "Epoch [1847/5000]: Train loss: 0.8788, Valid loss: 0.8820\n"
     ]
    },
    {
     "name": "stderr",
     "output_type": "stream",
     "text": [
      "Epoch [1848/5000]: 100%|██████████| 10/10 [00:00<00:00, 327.70it/s, loss=0.748]\n"
     ]
    },
    {
     "name": "stdout",
     "output_type": "stream",
     "text": [
      "Epoch [1848/5000]: Train loss: 0.8885, Valid loss: 0.8117\n"
     ]
    },
    {
     "name": "stderr",
     "output_type": "stream",
     "text": [
      "Epoch [1849/5000]: 100%|██████████| 10/10 [00:00<00:00, 334.43it/s, loss=0.692]\n"
     ]
    },
    {
     "name": "stdout",
     "output_type": "stream",
     "text": [
      "Epoch [1849/5000]: Train loss: 0.8917, Valid loss: 0.8579\n"
     ]
    },
    {
     "name": "stderr",
     "output_type": "stream",
     "text": [
      "Epoch [1850/5000]: 100%|██████████| 10/10 [00:00<00:00, 332.94it/s, loss=1.38]\n"
     ]
    },
    {
     "name": "stdout",
     "output_type": "stream",
     "text": [
      "Epoch [1850/5000]: Train loss: 0.9237, Valid loss: 0.9077\n"
     ]
    },
    {
     "name": "stderr",
     "output_type": "stream",
     "text": [
      "Epoch [1851/5000]: 100%|██████████| 10/10 [00:00<00:00, 327.08it/s, loss=0.921]\n"
     ]
    },
    {
     "name": "stdout",
     "output_type": "stream",
     "text": [
      "Epoch [1851/5000]: Train loss: 0.9049, Valid loss: 0.8714\n"
     ]
    },
    {
     "name": "stderr",
     "output_type": "stream",
     "text": [
      "Epoch [1852/5000]: 100%|██████████| 10/10 [00:00<00:00, 304.94it/s, loss=0.745]\n"
     ]
    },
    {
     "name": "stdout",
     "output_type": "stream",
     "text": [
      "Epoch [1852/5000]: Train loss: 0.8990, Valid loss: 0.8807\n"
     ]
    },
    {
     "name": "stderr",
     "output_type": "stream",
     "text": [
      "Epoch [1853/5000]: 100%|██████████| 10/10 [00:00<00:00, 254.58it/s, loss=0.72]\n"
     ]
    },
    {
     "name": "stdout",
     "output_type": "stream",
     "text": [
      "Epoch [1853/5000]: Train loss: 0.8859, Valid loss: 0.8594\n"
     ]
    },
    {
     "name": "stderr",
     "output_type": "stream",
     "text": [
      "Epoch [1854/5000]: 100%|██████████| 10/10 [00:00<00:00, 321.31it/s, loss=0.89]\n"
     ]
    },
    {
     "name": "stdout",
     "output_type": "stream",
     "text": [
      "Epoch [1854/5000]: Train loss: 0.9020, Valid loss: 0.8717\n"
     ]
    },
    {
     "name": "stderr",
     "output_type": "stream",
     "text": [
      "Epoch [1855/5000]: 100%|██████████| 10/10 [00:00<00:00, 261.52it/s, loss=0.757]\n"
     ]
    },
    {
     "name": "stdout",
     "output_type": "stream",
     "text": [
      "Epoch [1855/5000]: Train loss: 0.9037, Valid loss: 0.8479\n"
     ]
    },
    {
     "name": "stderr",
     "output_type": "stream",
     "text": [
      "Epoch [1856/5000]: 100%|██████████| 10/10 [00:00<00:00, 368.52it/s, loss=1.69]\n"
     ]
    },
    {
     "name": "stdout",
     "output_type": "stream",
     "text": [
      "Epoch [1856/5000]: Train loss: 0.9492, Valid loss: 0.9024\n"
     ]
    },
    {
     "name": "stderr",
     "output_type": "stream",
     "text": [
      "Epoch [1857/5000]: 100%|██████████| 10/10 [00:00<00:00, 313.29it/s, loss=0.825]\n"
     ]
    },
    {
     "name": "stdout",
     "output_type": "stream",
     "text": [
      "Epoch [1857/5000]: Train loss: 0.8899, Valid loss: 0.8023\n"
     ]
    },
    {
     "name": "stderr",
     "output_type": "stream",
     "text": [
      "Epoch [1858/5000]: 100%|██████████| 10/10 [00:00<00:00, 322.38it/s, loss=1.21]\n"
     ]
    },
    {
     "name": "stdout",
     "output_type": "stream",
     "text": [
      "Epoch [1858/5000]: Train loss: 0.9114, Valid loss: 0.8138\n"
     ]
    },
    {
     "name": "stderr",
     "output_type": "stream",
     "text": [
      "Epoch [1859/5000]: 100%|██████████| 10/10 [00:00<00:00, 356.77it/s, loss=0.663]\n"
     ]
    },
    {
     "name": "stdout",
     "output_type": "stream",
     "text": [
      "Epoch [1859/5000]: Train loss: 0.8803, Valid loss: 0.8871\n"
     ]
    },
    {
     "name": "stderr",
     "output_type": "stream",
     "text": [
      "Epoch [1860/5000]: 100%|██████████| 10/10 [00:00<00:00, 313.35it/s, loss=1.08]\n"
     ]
    },
    {
     "name": "stdout",
     "output_type": "stream",
     "text": [
      "Epoch [1860/5000]: Train loss: 0.9046, Valid loss: 0.8738\n"
     ]
    },
    {
     "name": "stderr",
     "output_type": "stream",
     "text": [
      "Epoch [1861/5000]: 100%|██████████| 10/10 [00:00<00:00, 328.51it/s, loss=1.26]\n"
     ]
    },
    {
     "name": "stdout",
     "output_type": "stream",
     "text": [
      "Epoch [1861/5000]: Train loss: 0.9187, Valid loss: 0.8124\n"
     ]
    },
    {
     "name": "stderr",
     "output_type": "stream",
     "text": [
      "Epoch [1862/5000]: 100%|██████████| 10/10 [00:00<00:00, 286.67it/s, loss=0.559]\n"
     ]
    },
    {
     "name": "stdout",
     "output_type": "stream",
     "text": [
      "Epoch [1862/5000]: Train loss: 0.8828, Valid loss: 0.8452\n"
     ]
    },
    {
     "name": "stderr",
     "output_type": "stream",
     "text": [
      "Epoch [1863/5000]: 100%|██████████| 10/10 [00:00<00:00, 324.49it/s, loss=0.806]\n"
     ]
    },
    {
     "name": "stdout",
     "output_type": "stream",
     "text": [
      "Epoch [1863/5000]: Train loss: 0.9030, Valid loss: 0.8998\n"
     ]
    },
    {
     "name": "stderr",
     "output_type": "stream",
     "text": [
      "Epoch [1864/5000]: 100%|██████████| 10/10 [00:00<00:00, 315.35it/s, loss=0.65]\n"
     ]
    },
    {
     "name": "stdout",
     "output_type": "stream",
     "text": [
      "Epoch [1864/5000]: Train loss: 0.9068, Valid loss: 0.8861\n"
     ]
    },
    {
     "name": "stderr",
     "output_type": "stream",
     "text": [
      "Epoch [1865/5000]: 100%|██████████| 10/10 [00:00<00:00, 323.53it/s, loss=0.782]\n"
     ]
    },
    {
     "name": "stdout",
     "output_type": "stream",
     "text": [
      "Epoch [1865/5000]: Train loss: 0.8904, Valid loss: 0.8289\n"
     ]
    },
    {
     "name": "stderr",
     "output_type": "stream",
     "text": [
      "Epoch [1866/5000]: 100%|██████████| 10/10 [00:00<00:00, 312.58it/s, loss=1.01]\n"
     ]
    },
    {
     "name": "stdout",
     "output_type": "stream",
     "text": [
      "Epoch [1866/5000]: Train loss: 0.9077, Valid loss: 0.7942\n"
     ]
    },
    {
     "name": "stderr",
     "output_type": "stream",
     "text": [
      "Epoch [1867/5000]: 100%|██████████| 10/10 [00:00<00:00, 316.47it/s, loss=0.963]\n"
     ]
    },
    {
     "name": "stdout",
     "output_type": "stream",
     "text": [
      "Epoch [1867/5000]: Train loss: 0.8966, Valid loss: 0.9149\n"
     ]
    },
    {
     "name": "stderr",
     "output_type": "stream",
     "text": [
      "Epoch [1868/5000]: 100%|██████████| 10/10 [00:00<00:00, 323.71it/s, loss=0.693]\n"
     ]
    },
    {
     "name": "stdout",
     "output_type": "stream",
     "text": [
      "Epoch [1868/5000]: Train loss: 0.8909, Valid loss: 0.9034\n"
     ]
    },
    {
     "name": "stderr",
     "output_type": "stream",
     "text": [
      "Epoch [1869/5000]: 100%|██████████| 10/10 [00:00<00:00, 245.41it/s, loss=1.06]\n"
     ]
    },
    {
     "name": "stdout",
     "output_type": "stream",
     "text": [
      "Epoch [1869/5000]: Train loss: 0.9120, Valid loss: 0.8559\n"
     ]
    },
    {
     "name": "stderr",
     "output_type": "stream",
     "text": [
      "Epoch [1870/5000]: 100%|██████████| 10/10 [00:00<00:00, 335.29it/s, loss=1.09]\n"
     ]
    },
    {
     "name": "stdout",
     "output_type": "stream",
     "text": [
      "Epoch [1870/5000]: Train loss: 0.9107, Valid loss: 0.8501\n"
     ]
    },
    {
     "name": "stderr",
     "output_type": "stream",
     "text": [
      "Epoch [1871/5000]: 100%|██████████| 10/10 [00:00<00:00, 304.01it/s, loss=0.928]\n"
     ]
    },
    {
     "name": "stdout",
     "output_type": "stream",
     "text": [
      "Epoch [1871/5000]: Train loss: 0.8999, Valid loss: 0.8286\n"
     ]
    },
    {
     "name": "stderr",
     "output_type": "stream",
     "text": [
      "Epoch [1872/5000]: 100%|██████████| 10/10 [00:00<00:00, 361.88it/s, loss=0.789]\n"
     ]
    },
    {
     "name": "stdout",
     "output_type": "stream",
     "text": [
      "Epoch [1872/5000]: Train loss: 0.9056, Valid loss: 0.8709\n"
     ]
    },
    {
     "name": "stderr",
     "output_type": "stream",
     "text": [
      "Epoch [1873/5000]: 100%|██████████| 10/10 [00:00<00:00, 334.59it/s, loss=0.944]\n"
     ]
    },
    {
     "name": "stdout",
     "output_type": "stream",
     "text": [
      "Epoch [1873/5000]: Train loss: 0.8960, Valid loss: 0.9032\n"
     ]
    },
    {
     "name": "stderr",
     "output_type": "stream",
     "text": [
      "Epoch [1874/5000]: 100%|██████████| 10/10 [00:00<00:00, 313.09it/s, loss=0.732]\n"
     ]
    },
    {
     "name": "stdout",
     "output_type": "stream",
     "text": [
      "Epoch [1874/5000]: Train loss: 0.8951, Valid loss: 0.8553\n"
     ]
    },
    {
     "name": "stderr",
     "output_type": "stream",
     "text": [
      "Epoch [1875/5000]: 100%|██████████| 10/10 [00:00<00:00, 264.02it/s, loss=0.912]\n"
     ]
    },
    {
     "name": "stdout",
     "output_type": "stream",
     "text": [
      "Epoch [1875/5000]: Train loss: 0.9005, Valid loss: 0.8632\n"
     ]
    },
    {
     "name": "stderr",
     "output_type": "stream",
     "text": [
      "Epoch [1876/5000]: 100%|██████████| 10/10 [00:00<00:00, 251.48it/s, loss=0.896]\n"
     ]
    },
    {
     "name": "stdout",
     "output_type": "stream",
     "text": [
      "Epoch [1876/5000]: Train loss: 0.8983, Valid loss: 0.8930\n"
     ]
    },
    {
     "name": "stderr",
     "output_type": "stream",
     "text": [
      "Epoch [1877/5000]: 100%|██████████| 10/10 [00:00<00:00, 259.65it/s, loss=1.1]\n"
     ]
    },
    {
     "name": "stdout",
     "output_type": "stream",
     "text": [
      "Epoch [1877/5000]: Train loss: 0.9112, Valid loss: 0.8592\n"
     ]
    },
    {
     "name": "stderr",
     "output_type": "stream",
     "text": [
      "Epoch [1878/5000]: 100%|██████████| 10/10 [00:00<00:00, 267.00it/s, loss=0.59]\n"
     ]
    },
    {
     "name": "stdout",
     "output_type": "stream",
     "text": [
      "Epoch [1878/5000]: Train loss: 0.8817, Valid loss: 0.8230\n"
     ]
    },
    {
     "name": "stderr",
     "output_type": "stream",
     "text": [
      "Epoch [1879/5000]: 100%|██████████| 10/10 [00:00<00:00, 255.55it/s, loss=0.763]\n"
     ]
    },
    {
     "name": "stdout",
     "output_type": "stream",
     "text": [
      "Epoch [1879/5000]: Train loss: 0.8952, Valid loss: 0.8764\n"
     ]
    },
    {
     "name": "stderr",
     "output_type": "stream",
     "text": [
      "Epoch [1880/5000]: 100%|██████████| 10/10 [00:00<00:00, 313.15it/s, loss=0.888]\n"
     ]
    },
    {
     "name": "stdout",
     "output_type": "stream",
     "text": [
      "Epoch [1880/5000]: Train loss: 0.9022, Valid loss: 0.9054\n"
     ]
    },
    {
     "name": "stderr",
     "output_type": "stream",
     "text": [
      "Epoch [1881/5000]: 100%|██████████| 10/10 [00:00<00:00, 303.64it/s, loss=0.67]\n"
     ]
    },
    {
     "name": "stdout",
     "output_type": "stream",
     "text": [
      "Epoch [1881/5000]: Train loss: 0.8980, Valid loss: 0.9250\n"
     ]
    },
    {
     "name": "stderr",
     "output_type": "stream",
     "text": [
      "Epoch [1882/5000]: 100%|██████████| 10/10 [00:00<00:00, 307.06it/s, loss=1.12]\n"
     ]
    },
    {
     "name": "stdout",
     "output_type": "stream",
     "text": [
      "Epoch [1882/5000]: Train loss: 0.9351, Valid loss: 0.9022\n"
     ]
    },
    {
     "name": "stderr",
     "output_type": "stream",
     "text": [
      "Epoch [1883/5000]: 100%|██████████| 10/10 [00:00<00:00, 323.65it/s, loss=0.884]\n"
     ]
    },
    {
     "name": "stdout",
     "output_type": "stream",
     "text": [
      "Epoch [1883/5000]: Train loss: 0.9302, Valid loss: 0.8764\n"
     ]
    },
    {
     "name": "stderr",
     "output_type": "stream",
     "text": [
      "Epoch [1884/5000]: 100%|██████████| 10/10 [00:00<00:00, 322.80it/s, loss=0.894]\n"
     ]
    },
    {
     "name": "stdout",
     "output_type": "stream",
     "text": [
      "Epoch [1884/5000]: Train loss: 0.9089, Valid loss: 0.8872\n"
     ]
    },
    {
     "name": "stderr",
     "output_type": "stream",
     "text": [
      "Epoch [1885/5000]: 100%|██████████| 10/10 [00:00<00:00, 333.30it/s, loss=0.869]\n"
     ]
    },
    {
     "name": "stdout",
     "output_type": "stream",
     "text": [
      "Epoch [1885/5000]: Train loss: 0.8995, Valid loss: 0.8906\n"
     ]
    },
    {
     "name": "stderr",
     "output_type": "stream",
     "text": [
      "Epoch [1886/5000]: 100%|██████████| 10/10 [00:00<00:00, 257.27it/s, loss=0.778]\n"
     ]
    },
    {
     "name": "stdout",
     "output_type": "stream",
     "text": [
      "Epoch [1886/5000]: Train loss: 0.9001, Valid loss: 0.8886\n"
     ]
    },
    {
     "name": "stderr",
     "output_type": "stream",
     "text": [
      "Epoch [1887/5000]: 100%|██████████| 10/10 [00:00<00:00, 314.60it/s, loss=0.748]\n"
     ]
    },
    {
     "name": "stdout",
     "output_type": "stream",
     "text": [
      "Epoch [1887/5000]: Train loss: 0.8866, Valid loss: 0.8807\n"
     ]
    },
    {
     "name": "stderr",
     "output_type": "stream",
     "text": [
      "Epoch [1888/5000]: 100%|██████████| 10/10 [00:00<00:00, 333.14it/s, loss=0.97]\n"
     ]
    },
    {
     "name": "stdout",
     "output_type": "stream",
     "text": [
      "Epoch [1888/5000]: Train loss: 0.9057, Valid loss: 0.8424\n"
     ]
    },
    {
     "name": "stderr",
     "output_type": "stream",
     "text": [
      "Epoch [1889/5000]: 100%|██████████| 10/10 [00:00<00:00, 322.05it/s, loss=1.11]\n"
     ]
    },
    {
     "name": "stdout",
     "output_type": "stream",
     "text": [
      "Epoch [1889/5000]: Train loss: 0.9435, Valid loss: 0.9680\n"
     ]
    },
    {
     "name": "stderr",
     "output_type": "stream",
     "text": [
      "Epoch [1890/5000]: 100%|██████████| 10/10 [00:00<00:00, 337.24it/s, loss=1.43]\n"
     ]
    },
    {
     "name": "stdout",
     "output_type": "stream",
     "text": [
      "Epoch [1890/5000]: Train loss: 0.9777, Valid loss: 0.9582\n"
     ]
    },
    {
     "name": "stderr",
     "output_type": "stream",
     "text": [
      "Epoch [1891/5000]: 100%|██████████| 10/10 [00:00<00:00, 313.54it/s, loss=0.769]\n"
     ]
    },
    {
     "name": "stdout",
     "output_type": "stream",
     "text": [
      "Epoch [1891/5000]: Train loss: 0.9092, Valid loss: 0.8849\n"
     ]
    },
    {
     "name": "stderr",
     "output_type": "stream",
     "text": [
      "Epoch [1892/5000]: 100%|██████████| 10/10 [00:00<00:00, 307.34it/s, loss=1.19]\n"
     ]
    },
    {
     "name": "stdout",
     "output_type": "stream",
     "text": [
      "Epoch [1892/5000]: Train loss: 0.9289, Valid loss: 0.8247\n"
     ]
    },
    {
     "name": "stderr",
     "output_type": "stream",
     "text": [
      "Epoch [1893/5000]: 100%|██████████| 10/10 [00:00<00:00, 322.72it/s, loss=1.07]\n"
     ]
    },
    {
     "name": "stdout",
     "output_type": "stream",
     "text": [
      "Epoch [1893/5000]: Train loss: 0.9092, Valid loss: 0.8019\n"
     ]
    },
    {
     "name": "stderr",
     "output_type": "stream",
     "text": [
      "Epoch [1894/5000]: 100%|██████████| 10/10 [00:00<00:00, 334.45it/s, loss=0.86]\n"
     ]
    },
    {
     "name": "stdout",
     "output_type": "stream",
     "text": [
      "Epoch [1894/5000]: Train loss: 0.8917, Valid loss: 0.9300\n"
     ]
    },
    {
     "name": "stderr",
     "output_type": "stream",
     "text": [
      "Epoch [1895/5000]: 100%|██████████| 10/10 [00:00<00:00, 313.76it/s, loss=0.829]\n"
     ]
    },
    {
     "name": "stdout",
     "output_type": "stream",
     "text": [
      "Epoch [1895/5000]: Train loss: 0.8934, Valid loss: 0.9371\n"
     ]
    },
    {
     "name": "stderr",
     "output_type": "stream",
     "text": [
      "Epoch [1896/5000]: 100%|██████████| 10/10 [00:00<00:00, 334.40it/s, loss=0.928]\n"
     ]
    },
    {
     "name": "stdout",
     "output_type": "stream",
     "text": [
      "Epoch [1896/5000]: Train loss: 0.8968, Valid loss: 0.8218\n"
     ]
    },
    {
     "name": "stderr",
     "output_type": "stream",
     "text": [
      "Epoch [1897/5000]: 100%|██████████| 10/10 [00:00<00:00, 313.55it/s, loss=0.697]\n"
     ]
    },
    {
     "name": "stdout",
     "output_type": "stream",
     "text": [
      "Epoch [1897/5000]: Train loss: 0.8847, Valid loss: 0.8341\n"
     ]
    },
    {
     "name": "stderr",
     "output_type": "stream",
     "text": [
      "Epoch [1898/5000]: 100%|██████████| 10/10 [00:00<00:00, 306.09it/s, loss=0.728]\n"
     ]
    },
    {
     "name": "stdout",
     "output_type": "stream",
     "text": [
      "Epoch [1898/5000]: Train loss: 0.8881, Valid loss: 0.8876\n"
     ]
    },
    {
     "name": "stderr",
     "output_type": "stream",
     "text": [
      "Epoch [1899/5000]: 100%|██████████| 10/10 [00:00<00:00, 323.64it/s, loss=0.83]\n"
     ]
    },
    {
     "name": "stdout",
     "output_type": "stream",
     "text": [
      "Epoch [1899/5000]: Train loss: 0.9047, Valid loss: 0.8799\n"
     ]
    },
    {
     "name": "stderr",
     "output_type": "stream",
     "text": [
      "Epoch [1900/5000]: 100%|██████████| 10/10 [00:00<00:00, 313.19it/s, loss=0.989]\n"
     ]
    },
    {
     "name": "stdout",
     "output_type": "stream",
     "text": [
      "Epoch [1900/5000]: Train loss: 0.9170, Valid loss: 0.8527\n"
     ]
    },
    {
     "name": "stderr",
     "output_type": "stream",
     "text": [
      "Epoch [1901/5000]: 100%|██████████| 10/10 [00:00<00:00, 254.90it/s, loss=0.689]\n"
     ]
    },
    {
     "name": "stdout",
     "output_type": "stream",
     "text": [
      "Epoch [1901/5000]: Train loss: 0.8877, Valid loss: 0.8855\n"
     ]
    },
    {
     "name": "stderr",
     "output_type": "stream",
     "text": [
      "Epoch [1902/5000]: 100%|██████████| 10/10 [00:00<00:00, 357.93it/s, loss=0.87]\n"
     ]
    },
    {
     "name": "stdout",
     "output_type": "stream",
     "text": [
      "Epoch [1902/5000]: Train loss: 0.9237, Valid loss: 0.9033\n"
     ]
    },
    {
     "name": "stderr",
     "output_type": "stream",
     "text": [
      "Epoch [1903/5000]: 100%|██████████| 10/10 [00:00<00:00, 276.56it/s, loss=0.719]\n"
     ]
    },
    {
     "name": "stdout",
     "output_type": "stream",
     "text": [
      "Epoch [1903/5000]: Train loss: 0.9080, Valid loss: 0.8751\n"
     ]
    },
    {
     "name": "stderr",
     "output_type": "stream",
     "text": [
      "Epoch [1904/5000]: 100%|██████████| 10/10 [00:00<00:00, 345.21it/s, loss=0.858]\n"
     ]
    },
    {
     "name": "stdout",
     "output_type": "stream",
     "text": [
      "Epoch [1904/5000]: Train loss: 0.8989, Valid loss: 0.8756\n"
     ]
    },
    {
     "name": "stderr",
     "output_type": "stream",
     "text": [
      "Epoch [1905/5000]: 100%|██████████| 10/10 [00:00<00:00, 322.80it/s, loss=0.993]\n"
     ]
    },
    {
     "name": "stdout",
     "output_type": "stream",
     "text": [
      "Epoch [1905/5000]: Train loss: 0.9011, Valid loss: 0.8388\n"
     ]
    },
    {
     "name": "stderr",
     "output_type": "stream",
     "text": [
      "Epoch [1906/5000]: 100%|██████████| 10/10 [00:00<00:00, 277.15it/s, loss=1.09]\n"
     ]
    },
    {
     "name": "stdout",
     "output_type": "stream",
     "text": [
      "Epoch [1906/5000]: Train loss: 0.9096, Valid loss: 0.8237\n"
     ]
    },
    {
     "name": "stderr",
     "output_type": "stream",
     "text": [
      "Epoch [1907/5000]: 100%|██████████| 10/10 [00:00<00:00, 262.00it/s, loss=0.514]\n"
     ]
    },
    {
     "name": "stdout",
     "output_type": "stream",
     "text": [
      "Epoch [1907/5000]: Train loss: 0.8751, Valid loss: 0.8077\n"
     ]
    },
    {
     "name": "stderr",
     "output_type": "stream",
     "text": [
      "Epoch [1908/5000]: 100%|██████████| 10/10 [00:00<00:00, 275.14it/s, loss=0.781]\n"
     ]
    },
    {
     "name": "stdout",
     "output_type": "stream",
     "text": [
      "Epoch [1908/5000]: Train loss: 0.8852, Valid loss: 0.8576\n"
     ]
    },
    {
     "name": "stderr",
     "output_type": "stream",
     "text": [
      "Epoch [1909/5000]: 100%|██████████| 10/10 [00:00<00:00, 270.76it/s, loss=0.864]\n"
     ]
    },
    {
     "name": "stdout",
     "output_type": "stream",
     "text": [
      "Epoch [1909/5000]: Train loss: 0.8916, Valid loss: 0.8551\n"
     ]
    },
    {
     "name": "stderr",
     "output_type": "stream",
     "text": [
      "Epoch [1910/5000]: 100%|██████████| 10/10 [00:00<00:00, 233.23it/s, loss=0.838]\n"
     ]
    },
    {
     "name": "stdout",
     "output_type": "stream",
     "text": [
      "Epoch [1910/5000]: Train loss: 0.8907, Valid loss: 0.8364\n"
     ]
    },
    {
     "name": "stderr",
     "output_type": "stream",
     "text": [
      "Epoch [1911/5000]: 100%|██████████| 10/10 [00:00<00:00, 283.27it/s, loss=0.951]"
     ]
    },
    {
     "name": "stdout",
     "output_type": "stream",
     "text": [
      "Epoch [1911/5000]: Train loss: 0.8966, Valid loss: 0.8777\n"
     ]
    },
    {
     "name": "stderr",
     "output_type": "stream",
     "text": [
      "\n",
      "Epoch [1912/5000]: 100%|██████████| 10/10 [00:00<00:00, 294.11it/s, loss=0.842]\n"
     ]
    },
    {
     "name": "stdout",
     "output_type": "stream",
     "text": [
      "Epoch [1912/5000]: Train loss: 0.8887, Valid loss: 0.8605\n"
     ]
    },
    {
     "name": "stderr",
     "output_type": "stream",
     "text": [
      "Epoch [1913/5000]: 100%|██████████| 10/10 [00:00<00:00, 309.81it/s, loss=1.07]\n"
     ]
    },
    {
     "name": "stdout",
     "output_type": "stream",
     "text": [
      "Epoch [1913/5000]: Train loss: 0.9521, Valid loss: 0.9011\n"
     ]
    },
    {
     "name": "stderr",
     "output_type": "stream",
     "text": [
      "Epoch [1914/5000]: 100%|██████████| 10/10 [00:00<00:00, 295.36it/s, loss=0.679]\n"
     ]
    },
    {
     "name": "stdout",
     "output_type": "stream",
     "text": [
      "Epoch [1914/5000]: Train loss: 0.8962, Valid loss: 0.8553\n"
     ]
    },
    {
     "name": "stderr",
     "output_type": "stream",
     "text": [
      "Epoch [1915/5000]: 100%|██████████| 10/10 [00:00<00:00, 312.51it/s, loss=0.778]\n"
     ]
    },
    {
     "name": "stdout",
     "output_type": "stream",
     "text": [
      "Epoch [1915/5000]: Train loss: 0.9028, Valid loss: 0.9032\n"
     ]
    },
    {
     "name": "stderr",
     "output_type": "stream",
     "text": [
      "Epoch [1916/5000]: 100%|██████████| 10/10 [00:00<00:00, 313.74it/s, loss=0.766]\n"
     ]
    },
    {
     "name": "stdout",
     "output_type": "stream",
     "text": [
      "Epoch [1916/5000]: Train loss: 0.8887, Valid loss: 0.8222\n"
     ]
    },
    {
     "name": "stderr",
     "output_type": "stream",
     "text": [
      "Epoch [1917/5000]: 100%|██████████| 10/10 [00:00<00:00, 333.79it/s, loss=0.679]\n"
     ]
    },
    {
     "name": "stdout",
     "output_type": "stream",
     "text": [
      "Epoch [1917/5000]: Train loss: 0.8934, Valid loss: 0.8438\n"
     ]
    },
    {
     "name": "stderr",
     "output_type": "stream",
     "text": [
      "Epoch [1918/5000]: 100%|██████████| 10/10 [00:00<00:00, 306.90it/s, loss=0.813]\n"
     ]
    },
    {
     "name": "stdout",
     "output_type": "stream",
     "text": [
      "Epoch [1918/5000]: Train loss: 0.9108, Valid loss: 0.8285\n"
     ]
    },
    {
     "name": "stderr",
     "output_type": "stream",
     "text": [
      "Epoch [1919/5000]: 100%|██████████| 10/10 [00:00<00:00, 340.84it/s, loss=1.07]\n"
     ]
    },
    {
     "name": "stdout",
     "output_type": "stream",
     "text": [
      "Epoch [1919/5000]: Train loss: 0.9075, Valid loss: 0.8589\n"
     ]
    },
    {
     "name": "stderr",
     "output_type": "stream",
     "text": [
      "Epoch [1920/5000]: 100%|██████████| 10/10 [00:00<00:00, 253.62it/s, loss=0.69]\n"
     ]
    },
    {
     "name": "stdout",
     "output_type": "stream",
     "text": [
      "Epoch [1920/5000]: Train loss: 0.8856, Valid loss: 0.8696\n"
     ]
    },
    {
     "name": "stderr",
     "output_type": "stream",
     "text": [
      "Epoch [1921/5000]: 100%|██████████| 10/10 [00:00<00:00, 338.87it/s, loss=0.869]\n"
     ]
    },
    {
     "name": "stdout",
     "output_type": "stream",
     "text": [
      "Epoch [1921/5000]: Train loss: 0.8966, Valid loss: 0.8613\n"
     ]
    },
    {
     "name": "stderr",
     "output_type": "stream",
     "text": [
      "Epoch [1922/5000]: 100%|██████████| 10/10 [00:00<00:00, 288.89it/s, loss=0.91]\n"
     ]
    },
    {
     "name": "stdout",
     "output_type": "stream",
     "text": [
      "Epoch [1922/5000]: Train loss: 0.9025, Valid loss: 0.9523\n"
     ]
    },
    {
     "name": "stderr",
     "output_type": "stream",
     "text": [
      "Epoch [1923/5000]: 100%|██████████| 10/10 [00:00<00:00, 371.06it/s, loss=0.777]\n"
     ]
    },
    {
     "name": "stdout",
     "output_type": "stream",
     "text": [
      "Epoch [1923/5000]: Train loss: 0.8978, Valid loss: 0.8937\n"
     ]
    },
    {
     "name": "stderr",
     "output_type": "stream",
     "text": [
      "Epoch [1924/5000]: 100%|██████████| 10/10 [00:00<00:00, 306.15it/s, loss=0.916]\n"
     ]
    },
    {
     "name": "stdout",
     "output_type": "stream",
     "text": [
      "Epoch [1924/5000]: Train loss: 0.9038, Valid loss: 0.8521\n"
     ]
    },
    {
     "name": "stderr",
     "output_type": "stream",
     "text": [
      "Epoch [1925/5000]: 100%|██████████| 10/10 [00:00<00:00, 318.21it/s, loss=0.647]\n"
     ]
    },
    {
     "name": "stdout",
     "output_type": "stream",
     "text": [
      "Epoch [1925/5000]: Train loss: 0.8853, Valid loss: 0.8510\n"
     ]
    },
    {
     "name": "stderr",
     "output_type": "stream",
     "text": [
      "Epoch [1926/5000]: 100%|██████████| 10/10 [00:00<00:00, 337.20it/s, loss=1.07]\n"
     ]
    },
    {
     "name": "stdout",
     "output_type": "stream",
     "text": [
      "Epoch [1926/5000]: Train loss: 0.9056, Valid loss: 0.8840\n"
     ]
    },
    {
     "name": "stderr",
     "output_type": "stream",
     "text": [
      "Epoch [1927/5000]: 100%|██████████| 10/10 [00:00<00:00, 304.07it/s, loss=0.942]\n"
     ]
    },
    {
     "name": "stdout",
     "output_type": "stream",
     "text": [
      "Epoch [1927/5000]: Train loss: 0.9003, Valid loss: 0.8696\n"
     ]
    },
    {
     "name": "stderr",
     "output_type": "stream",
     "text": [
      "Epoch [1928/5000]: 100%|██████████| 10/10 [00:00<00:00, 302.61it/s, loss=1.04]\n"
     ]
    },
    {
     "name": "stdout",
     "output_type": "stream",
     "text": [
      "Epoch [1928/5000]: Train loss: 0.9064, Valid loss: 0.8989\n"
     ]
    },
    {
     "name": "stderr",
     "output_type": "stream",
     "text": [
      "Epoch [1929/5000]: 100%|██████████| 10/10 [00:00<00:00, 337.99it/s, loss=1.16]\n"
     ]
    },
    {
     "name": "stdout",
     "output_type": "stream",
     "text": [
      "Epoch [1929/5000]: Train loss: 0.9210, Valid loss: 0.9265\n"
     ]
    },
    {
     "name": "stderr",
     "output_type": "stream",
     "text": [
      "Epoch [1930/5000]: 100%|██████████| 10/10 [00:00<00:00, 313.38it/s, loss=0.829]\n"
     ]
    },
    {
     "name": "stdout",
     "output_type": "stream",
     "text": [
      "Epoch [1930/5000]: Train loss: 0.9089, Valid loss: 0.8606\n"
     ]
    },
    {
     "name": "stderr",
     "output_type": "stream",
     "text": [
      "Epoch [1931/5000]: 100%|██████████| 10/10 [00:00<00:00, 322.52it/s, loss=0.981]"
     ]
    },
    {
     "name": "stdout",
     "output_type": "stream",
     "text": [
      "Epoch [1931/5000]: Train loss: 0.9030, Valid loss: 0.8261\n"
     ]
    },
    {
     "name": "stderr",
     "output_type": "stream",
     "text": [
      "\n",
      "Epoch [1932/5000]: 100%|██████████| 10/10 [00:00<00:00, 84.67it/s, loss=0.898]\n"
     ]
    },
    {
     "name": "stdout",
     "output_type": "stream",
     "text": [
      "Epoch [1932/5000]: Train loss: 0.9029, Valid loss: 0.8579\n"
     ]
    },
    {
     "name": "stderr",
     "output_type": "stream",
     "text": [
      "Epoch [1933/5000]: 100%|██████████| 10/10 [00:00<00:00, 303.51it/s, loss=0.73]\n"
     ]
    },
    {
     "name": "stdout",
     "output_type": "stream",
     "text": [
      "Epoch [1933/5000]: Train loss: 0.9084, Valid loss: 0.8707\n"
     ]
    },
    {
     "name": "stderr",
     "output_type": "stream",
     "text": [
      "Epoch [1934/5000]: 100%|██████████| 10/10 [00:00<00:00, 253.30it/s, loss=0.729]\n"
     ]
    },
    {
     "name": "stdout",
     "output_type": "stream",
     "text": [
      "Epoch [1934/5000]: Train loss: 0.8941, Valid loss: 0.8186\n"
     ]
    },
    {
     "name": "stderr",
     "output_type": "stream",
     "text": [
      "Epoch [1935/5000]: 100%|██████████| 10/10 [00:00<00:00, 345.06it/s, loss=0.844]\n"
     ]
    },
    {
     "name": "stdout",
     "output_type": "stream",
     "text": [
      "Epoch [1935/5000]: Train loss: 0.9010, Valid loss: 0.8642\n"
     ]
    },
    {
     "name": "stderr",
     "output_type": "stream",
     "text": [
      "Epoch [1936/5000]: 100%|██████████| 10/10 [00:00<00:00, 293.36it/s, loss=1.14]\n"
     ]
    },
    {
     "name": "stdout",
     "output_type": "stream",
     "text": [
      "Epoch [1936/5000]: Train loss: 0.9219, Valid loss: 0.8547\n"
     ]
    },
    {
     "name": "stderr",
     "output_type": "stream",
     "text": [
      "Epoch [1937/5000]: 100%|██████████| 10/10 [00:00<00:00, 335.39it/s, loss=0.79]\n"
     ]
    },
    {
     "name": "stdout",
     "output_type": "stream",
     "text": [
      "Epoch [1937/5000]: Train loss: 0.9032, Valid loss: 0.9151\n"
     ]
    },
    {
     "name": "stderr",
     "output_type": "stream",
     "text": [
      "Epoch [1938/5000]: 100%|██████████| 10/10 [00:00<00:00, 304.35it/s, loss=0.733]\n"
     ]
    },
    {
     "name": "stdout",
     "output_type": "stream",
     "text": [
      "Epoch [1938/5000]: Train loss: 0.8933, Valid loss: 0.8456\n"
     ]
    },
    {
     "name": "stderr",
     "output_type": "stream",
     "text": [
      "Epoch [1939/5000]: 100%|██████████| 10/10 [00:00<00:00, 334.13it/s, loss=1.07]\n"
     ]
    },
    {
     "name": "stdout",
     "output_type": "stream",
     "text": [
      "Epoch [1939/5000]: Train loss: 0.9122, Valid loss: 0.8410\n"
     ]
    },
    {
     "name": "stderr",
     "output_type": "stream",
     "text": [
      "Epoch [1940/5000]: 100%|██████████| 10/10 [00:00<00:00, 307.03it/s, loss=0.913]\n"
     ]
    },
    {
     "name": "stdout",
     "output_type": "stream",
     "text": [
      "Epoch [1940/5000]: Train loss: 0.8960, Valid loss: 0.8623\n"
     ]
    },
    {
     "name": "stderr",
     "output_type": "stream",
     "text": [
      "Epoch [1941/5000]: 100%|██████████| 10/10 [00:00<00:00, 294.84it/s, loss=1.02]\n"
     ]
    },
    {
     "name": "stdout",
     "output_type": "stream",
     "text": [
      "Epoch [1941/5000]: Train loss: 0.9008, Valid loss: 0.8453\n"
     ]
    },
    {
     "name": "stderr",
     "output_type": "stream",
     "text": [
      "Epoch [1942/5000]: 100%|██████████| 10/10 [00:00<00:00, 312.67it/s, loss=0.818]\n"
     ]
    },
    {
     "name": "stdout",
     "output_type": "stream",
     "text": [
      "Epoch [1942/5000]: Train loss: 0.8961, Valid loss: 0.8552\n"
     ]
    },
    {
     "name": "stderr",
     "output_type": "stream",
     "text": [
      "Epoch [1943/5000]: 100%|██████████| 10/10 [00:00<00:00, 304.23it/s, loss=1.34]\n"
     ]
    },
    {
     "name": "stdout",
     "output_type": "stream",
     "text": [
      "Epoch [1943/5000]: Train loss: 0.9265, Valid loss: 0.8727\n"
     ]
    },
    {
     "name": "stderr",
     "output_type": "stream",
     "text": [
      "Epoch [1944/5000]: 100%|██████████| 10/10 [00:00<00:00, 304.06it/s, loss=0.945]\n"
     ]
    },
    {
     "name": "stdout",
     "output_type": "stream",
     "text": [
      "Epoch [1944/5000]: Train loss: 0.9012, Valid loss: 0.8609\n"
     ]
    },
    {
     "name": "stderr",
     "output_type": "stream",
     "text": [
      "Epoch [1945/5000]: 100%|██████████| 10/10 [00:00<00:00, 284.28it/s, loss=0.9]\n"
     ]
    },
    {
     "name": "stdout",
     "output_type": "stream",
     "text": [
      "Epoch [1945/5000]: Train loss: 0.8995, Valid loss: 0.8411\n"
     ]
    },
    {
     "name": "stderr",
     "output_type": "stream",
     "text": [
      "Epoch [1946/5000]: 100%|██████████| 10/10 [00:00<00:00, 358.29it/s, loss=0.925]\n"
     ]
    },
    {
     "name": "stdout",
     "output_type": "stream",
     "text": [
      "Epoch [1946/5000]: Train loss: 0.9032, Valid loss: 0.9037\n"
     ]
    },
    {
     "name": "stderr",
     "output_type": "stream",
     "text": [
      "Epoch [1947/5000]: 100%|██████████| 10/10 [00:00<00:00, 312.09it/s, loss=0.798]\n"
     ]
    },
    {
     "name": "stdout",
     "output_type": "stream",
     "text": [
      "Epoch [1947/5000]: Train loss: 0.9122, Valid loss: 0.8883\n"
     ]
    },
    {
     "name": "stderr",
     "output_type": "stream",
     "text": [
      "Epoch [1948/5000]: 100%|██████████| 10/10 [00:00<00:00, 321.26it/s, loss=0.82]\n"
     ]
    },
    {
     "name": "stdout",
     "output_type": "stream",
     "text": [
      "Epoch [1948/5000]: Train loss: 0.9048, Valid loss: 0.8569\n"
     ]
    },
    {
     "name": "stderr",
     "output_type": "stream",
     "text": [
      "Epoch [1949/5000]: 100%|██████████| 10/10 [00:00<00:00, 323.45it/s, loss=1.27]\n"
     ]
    },
    {
     "name": "stdout",
     "output_type": "stream",
     "text": [
      "Epoch [1949/5000]: Train loss: 0.9288, Valid loss: 0.8712\n"
     ]
    },
    {
     "name": "stderr",
     "output_type": "stream",
     "text": [
      "Epoch [1950/5000]: 100%|██████████| 10/10 [00:00<00:00, 322.57it/s, loss=0.921]\n"
     ]
    },
    {
     "name": "stdout",
     "output_type": "stream",
     "text": [
      "Epoch [1950/5000]: Train loss: 0.8968, Valid loss: 0.8997\n"
     ]
    },
    {
     "name": "stderr",
     "output_type": "stream",
     "text": [
      "Epoch [1951/5000]: 100%|██████████| 10/10 [00:00<00:00, 248.88it/s, loss=0.68]\n"
     ]
    },
    {
     "name": "stdout",
     "output_type": "stream",
     "text": [
      "Epoch [1951/5000]: Train loss: 0.8809, Valid loss: 0.8251\n"
     ]
    },
    {
     "name": "stderr",
     "output_type": "stream",
     "text": [
      "Epoch [1952/5000]: 100%|██████████| 10/10 [00:00<00:00, 282.92it/s, loss=0.885]\n"
     ]
    },
    {
     "name": "stdout",
     "output_type": "stream",
     "text": [
      "Epoch [1952/5000]: Train loss: 0.8914, Valid loss: 0.9169\n"
     ]
    },
    {
     "name": "stderr",
     "output_type": "stream",
     "text": [
      "Epoch [1953/5000]: 100%|██████████| 10/10 [00:00<00:00, 378.48it/s, loss=1.5]\n"
     ]
    },
    {
     "name": "stdout",
     "output_type": "stream",
     "text": [
      "Epoch [1953/5000]: Train loss: 0.9333, Valid loss: 0.8614\n"
     ]
    },
    {
     "name": "stderr",
     "output_type": "stream",
     "text": [
      "Epoch [1954/5000]: 100%|██████████| 10/10 [00:00<00:00, 303.29it/s, loss=0.959]\n"
     ]
    },
    {
     "name": "stdout",
     "output_type": "stream",
     "text": [
      "Epoch [1954/5000]: Train loss: 0.8966, Valid loss: 0.8544\n"
     ]
    },
    {
     "name": "stderr",
     "output_type": "stream",
     "text": [
      "Epoch [1955/5000]: 100%|██████████| 10/10 [00:00<00:00, 312.63it/s, loss=0.954]\n"
     ]
    },
    {
     "name": "stdout",
     "output_type": "stream",
     "text": [
      "Epoch [1955/5000]: Train loss: 0.8959, Valid loss: 0.8842\n"
     ]
    },
    {
     "name": "stderr",
     "output_type": "stream",
     "text": [
      "Epoch [1956/5000]: 100%|██████████| 10/10 [00:00<00:00, 306.95it/s, loss=0.755]\n"
     ]
    },
    {
     "name": "stdout",
     "output_type": "stream",
     "text": [
      "Epoch [1956/5000]: Train loss: 0.8986, Valid loss: 0.9114\n"
     ]
    },
    {
     "name": "stderr",
     "output_type": "stream",
     "text": [
      "Epoch [1957/5000]: 100%|██████████| 10/10 [00:00<00:00, 295.55it/s, loss=0.809]\n"
     ]
    },
    {
     "name": "stdout",
     "output_type": "stream",
     "text": [
      "Epoch [1957/5000]: Train loss: 0.8999, Valid loss: 0.8338\n"
     ]
    },
    {
     "name": "stderr",
     "output_type": "stream",
     "text": [
      "Epoch [1958/5000]: 100%|██████████| 10/10 [00:00<00:00, 336.08it/s, loss=1.03]\n"
     ]
    },
    {
     "name": "stdout",
     "output_type": "stream",
     "text": [
      "Epoch [1958/5000]: Train loss: 0.9201, Valid loss: 0.8136\n"
     ]
    },
    {
     "name": "stderr",
     "output_type": "stream",
     "text": [
      "Epoch [1959/5000]: 100%|██████████| 10/10 [00:00<00:00, 313.45it/s, loss=1.13]\n"
     ]
    },
    {
     "name": "stdout",
     "output_type": "stream",
     "text": [
      "Epoch [1959/5000]: Train loss: 0.9111, Valid loss: 0.8732\n"
     ]
    },
    {
     "name": "stderr",
     "output_type": "stream",
     "text": [
      "Epoch [1960/5000]: 100%|██████████| 10/10 [00:00<00:00, 304.05it/s, loss=0.835]"
     ]
    },
    {
     "name": "stdout",
     "output_type": "stream",
     "text": [
      "Epoch [1960/5000]: Train loss: 0.8864, Valid loss: 0.8624\n"
     ]
    },
    {
     "name": "stderr",
     "output_type": "stream",
     "text": [
      "\n",
      "Epoch [1961/5000]: 100%|██████████| 10/10 [00:00<00:00, 306.10it/s, loss=1.08]\n"
     ]
    },
    {
     "name": "stdout",
     "output_type": "stream",
     "text": [
      "Epoch [1961/5000]: Train loss: 0.9085, Valid loss: 0.8792\n"
     ]
    },
    {
     "name": "stderr",
     "output_type": "stream",
     "text": [
      "Epoch [1962/5000]: 100%|██████████| 10/10 [00:00<00:00, 313.49it/s, loss=0.474]\n"
     ]
    },
    {
     "name": "stdout",
     "output_type": "stream",
     "text": [
      "Epoch [1962/5000]: Train loss: 0.8697, Valid loss: 0.8457\n"
     ]
    },
    {
     "name": "stderr",
     "output_type": "stream",
     "text": [
      "Epoch [1963/5000]: 100%|██████████| 10/10 [00:00<00:00, 323.50it/s, loss=0.633]\n"
     ]
    },
    {
     "name": "stdout",
     "output_type": "stream",
     "text": [
      "Epoch [1963/5000]: Train loss: 0.8760, Valid loss: 0.8341\n"
     ]
    },
    {
     "name": "stderr",
     "output_type": "stream",
     "text": [
      "Epoch [1964/5000]: 100%|██████████| 10/10 [00:00<00:00, 296.31it/s, loss=0.938]\n"
     ]
    },
    {
     "name": "stdout",
     "output_type": "stream",
     "text": [
      "Epoch [1964/5000]: Train loss: 0.8967, Valid loss: 0.9210\n"
     ]
    },
    {
     "name": "stderr",
     "output_type": "stream",
     "text": [
      "Epoch [1965/5000]: 100%|██████████| 10/10 [00:00<00:00, 304.01it/s, loss=1.07]\n"
     ]
    },
    {
     "name": "stdout",
     "output_type": "stream",
     "text": [
      "Epoch [1965/5000]: Train loss: 0.9027, Valid loss: 0.8360\n"
     ]
    },
    {
     "name": "stderr",
     "output_type": "stream",
     "text": [
      "Epoch [1966/5000]: 100%|██████████| 10/10 [00:00<00:00, 239.14it/s, loss=0.658]\n"
     ]
    },
    {
     "name": "stdout",
     "output_type": "stream",
     "text": [
      "Epoch [1966/5000]: Train loss: 0.8778, Valid loss: 0.8855\n"
     ]
    },
    {
     "name": "stderr",
     "output_type": "stream",
     "text": [
      "Epoch [1967/5000]: 100%|██████████| 10/10 [00:00<00:00, 372.31it/s, loss=0.946]\n"
     ]
    },
    {
     "name": "stdout",
     "output_type": "stream",
     "text": [
      "Epoch [1967/5000]: Train loss: 0.9004, Valid loss: 0.8131\n"
     ]
    },
    {
     "name": "stderr",
     "output_type": "stream",
     "text": [
      "Epoch [1968/5000]: 100%|██████████| 10/10 [00:00<00:00, 267.28it/s, loss=0.993]\n"
     ]
    },
    {
     "name": "stdout",
     "output_type": "stream",
     "text": [
      "Epoch [1968/5000]: Train loss: 0.9150, Valid loss: 0.8785\n"
     ]
    },
    {
     "name": "stderr",
     "output_type": "stream",
     "text": [
      "Epoch [1969/5000]: 100%|██████████| 10/10 [00:00<00:00, 363.63it/s, loss=0.879]\n"
     ]
    },
    {
     "name": "stdout",
     "output_type": "stream",
     "text": [
      "Epoch [1969/5000]: Train loss: 0.8992, Valid loss: 0.8290\n"
     ]
    },
    {
     "name": "stderr",
     "output_type": "stream",
     "text": [
      "Epoch [1970/5000]: 100%|██████████| 10/10 [00:00<00:00, 306.98it/s, loss=0.968]\n"
     ]
    },
    {
     "name": "stdout",
     "output_type": "stream",
     "text": [
      "Epoch [1970/5000]: Train loss: 0.8972, Valid loss: 0.8051\n"
     ]
    },
    {
     "name": "stderr",
     "output_type": "stream",
     "text": [
      "Epoch [1971/5000]: 100%|██████████| 10/10 [00:00<00:00, 322.78it/s, loss=1.1]\n"
     ]
    },
    {
     "name": "stdout",
     "output_type": "stream",
     "text": [
      "Epoch [1971/5000]: Train loss: 0.9021, Valid loss: 0.8639\n"
     ]
    },
    {
     "name": "stderr",
     "output_type": "stream",
     "text": [
      "Epoch [1972/5000]: 100%|██████████| 10/10 [00:00<00:00, 306.24it/s, loss=0.684]\n"
     ]
    },
    {
     "name": "stdout",
     "output_type": "stream",
     "text": [
      "Epoch [1972/5000]: Train loss: 0.8791, Valid loss: 0.9343\n"
     ]
    },
    {
     "name": "stderr",
     "output_type": "stream",
     "text": [
      "Epoch [1973/5000]: 100%|██████████| 10/10 [00:00<00:00, 323.75it/s, loss=1.27]\n"
     ]
    },
    {
     "name": "stdout",
     "output_type": "stream",
     "text": [
      "Epoch [1973/5000]: Train loss: 0.9146, Valid loss: 0.8510\n"
     ]
    },
    {
     "name": "stderr",
     "output_type": "stream",
     "text": [
      "Epoch [1974/5000]: 100%|██████████| 10/10 [00:00<00:00, 300.31it/s, loss=0.761]\n"
     ]
    },
    {
     "name": "stdout",
     "output_type": "stream",
     "text": [
      "Epoch [1974/5000]: Train loss: 0.8851, Valid loss: 0.8998\n"
     ]
    },
    {
     "name": "stderr",
     "output_type": "stream",
     "text": [
      "Epoch [1975/5000]: 100%|██████████| 10/10 [00:00<00:00, 323.63it/s, loss=0.775]\n"
     ]
    },
    {
     "name": "stdout",
     "output_type": "stream",
     "text": [
      "Epoch [1975/5000]: Train loss: 0.8912, Valid loss: 0.8801\n"
     ]
    },
    {
     "name": "stderr",
     "output_type": "stream",
     "text": [
      "Epoch [1976/5000]: 100%|██████████| 10/10 [00:00<00:00, 303.02it/s, loss=0.982]\n"
     ]
    },
    {
     "name": "stdout",
     "output_type": "stream",
     "text": [
      "Epoch [1976/5000]: Train loss: 0.9124, Valid loss: 0.9367\n"
     ]
    },
    {
     "name": "stderr",
     "output_type": "stream",
     "text": [
      "Epoch [1977/5000]: 100%|██████████| 10/10 [00:00<00:00, 281.46it/s, loss=0.993]\n"
     ]
    },
    {
     "name": "stdout",
     "output_type": "stream",
     "text": [
      "Epoch [1977/5000]: Train loss: 0.9030, Valid loss: 0.8382\n"
     ]
    },
    {
     "name": "stderr",
     "output_type": "stream",
     "text": [
      "Epoch [1978/5000]: 100%|██████████| 10/10 [00:00<00:00, 295.05it/s, loss=0.892]\n"
     ]
    },
    {
     "name": "stdout",
     "output_type": "stream",
     "text": [
      "Epoch [1978/5000]: Train loss: 0.8930, Valid loss: 0.9043\n"
     ]
    },
    {
     "name": "stderr",
     "output_type": "stream",
     "text": [
      "Epoch [1979/5000]: 100%|██████████| 10/10 [00:00<00:00, 334.05it/s, loss=0.629]\n"
     ]
    },
    {
     "name": "stdout",
     "output_type": "stream",
     "text": [
      "Epoch [1979/5000]: Train loss: 0.8752, Valid loss: 0.9027\n"
     ]
    },
    {
     "name": "stderr",
     "output_type": "stream",
     "text": [
      "Epoch [1980/5000]: 100%|██████████| 10/10 [00:00<00:00, 323.61it/s, loss=0.803]\n"
     ]
    },
    {
     "name": "stdout",
     "output_type": "stream",
     "text": [
      "Epoch [1980/5000]: Train loss: 0.8941, Valid loss: 0.8744\n"
     ]
    },
    {
     "name": "stderr",
     "output_type": "stream",
     "text": [
      "Epoch [1981/5000]: 100%|██████████| 10/10 [00:00<00:00, 344.78it/s, loss=0.89]\n"
     ]
    },
    {
     "name": "stdout",
     "output_type": "stream",
     "text": [
      "Epoch [1981/5000]: Train loss: 0.9055, Valid loss: 0.8484\n"
     ]
    },
    {
     "name": "stderr",
     "output_type": "stream",
     "text": [
      "Epoch [1982/5000]: 100%|██████████| 10/10 [00:00<00:00, 326.37it/s, loss=0.629]\n"
     ]
    },
    {
     "name": "stdout",
     "output_type": "stream",
     "text": [
      "Epoch [1982/5000]: Train loss: 0.8864, Valid loss: 0.9294\n"
     ]
    },
    {
     "name": "stderr",
     "output_type": "stream",
     "text": [
      "Epoch [1983/5000]: 100%|██████████| 10/10 [00:00<00:00, 271.99it/s, loss=0.765]\n"
     ]
    },
    {
     "name": "stdout",
     "output_type": "stream",
     "text": [
      "Epoch [1983/5000]: Train loss: 0.8839, Valid loss: 0.8385\n"
     ]
    },
    {
     "name": "stderr",
     "output_type": "stream",
     "text": [
      "Epoch [1984/5000]: 100%|██████████| 10/10 [00:00<00:00, 371.61it/s, loss=1.32]\n"
     ]
    },
    {
     "name": "stdout",
     "output_type": "stream",
     "text": [
      "Epoch [1984/5000]: Train loss: 0.9168, Valid loss: 0.8935\n"
     ]
    },
    {
     "name": "stderr",
     "output_type": "stream",
     "text": [
      "Epoch [1985/5000]: 100%|██████████| 10/10 [00:00<00:00, 365.47it/s, loss=0.814]\n"
     ]
    },
    {
     "name": "stdout",
     "output_type": "stream",
     "text": [
      "Epoch [1985/5000]: Train loss: 0.8909, Valid loss: 0.8926\n"
     ]
    },
    {
     "name": "stderr",
     "output_type": "stream",
     "text": [
      "Epoch [1986/5000]: 100%|██████████| 10/10 [00:00<00:00, 299.91it/s, loss=0.728]\n"
     ]
    },
    {
     "name": "stdout",
     "output_type": "stream",
     "text": [
      "Epoch [1986/5000]: Train loss: 0.8818, Valid loss: 0.8667\n"
     ]
    },
    {
     "name": "stderr",
     "output_type": "stream",
     "text": [
      "Epoch [1987/5000]: 100%|██████████| 10/10 [00:00<00:00, 330.76it/s, loss=1.29]\n"
     ]
    },
    {
     "name": "stdout",
     "output_type": "stream",
     "text": [
      "Epoch [1987/5000]: Train loss: 0.9174, Valid loss: 0.8785\n"
     ]
    },
    {
     "name": "stderr",
     "output_type": "stream",
     "text": [
      "Epoch [1988/5000]: 100%|██████████| 10/10 [00:00<00:00, 306.66it/s, loss=0.759]\n"
     ]
    },
    {
     "name": "stdout",
     "output_type": "stream",
     "text": [
      "Epoch [1988/5000]: Train loss: 0.8823, Valid loss: 0.8394\n"
     ]
    },
    {
     "name": "stderr",
     "output_type": "stream",
     "text": [
      "Epoch [1989/5000]: 100%|██████████| 10/10 [00:00<00:00, 310.93it/s, loss=0.964]\n"
     ]
    },
    {
     "name": "stdout",
     "output_type": "stream",
     "text": [
      "Epoch [1989/5000]: Train loss: 0.8961, Valid loss: 0.8897\n"
     ]
    },
    {
     "name": "stderr",
     "output_type": "stream",
     "text": [
      "Epoch [1990/5000]: 100%|██████████| 10/10 [00:00<00:00, 327.52it/s, loss=0.876]\n"
     ]
    },
    {
     "name": "stdout",
     "output_type": "stream",
     "text": [
      "Epoch [1990/5000]: Train loss: 0.9028, Valid loss: 0.8908\n"
     ]
    },
    {
     "name": "stderr",
     "output_type": "stream",
     "text": [
      "Epoch [1991/5000]: 100%|██████████| 10/10 [00:00<00:00, 334.65it/s, loss=0.498]\n"
     ]
    },
    {
     "name": "stdout",
     "output_type": "stream",
     "text": [
      "Epoch [1991/5000]: Train loss: 0.8728, Valid loss: 0.8511\n"
     ]
    },
    {
     "name": "stderr",
     "output_type": "stream",
     "text": [
      "Epoch [1992/5000]: 100%|██████████| 10/10 [00:00<00:00, 334.82it/s, loss=1.07]\n"
     ]
    },
    {
     "name": "stdout",
     "output_type": "stream",
     "text": [
      "Epoch [1992/5000]: Train loss: 0.9037, Valid loss: 0.8487\n"
     ]
    },
    {
     "name": "stderr",
     "output_type": "stream",
     "text": [
      "Epoch [1993/5000]: 100%|██████████| 10/10 [00:00<00:00, 332.93it/s, loss=0.873]\n"
     ]
    },
    {
     "name": "stdout",
     "output_type": "stream",
     "text": [
      "Epoch [1993/5000]: Train loss: 0.8968, Valid loss: 0.8534\n"
     ]
    },
    {
     "name": "stderr",
     "output_type": "stream",
     "text": [
      "Epoch [1994/5000]: 100%|██████████| 10/10 [00:00<00:00, 316.52it/s, loss=0.791]\n"
     ]
    },
    {
     "name": "stdout",
     "output_type": "stream",
     "text": [
      "Epoch [1994/5000]: Train loss: 0.8844, Valid loss: 0.8510\n"
     ]
    },
    {
     "name": "stderr",
     "output_type": "stream",
     "text": [
      "Epoch [1995/5000]: 100%|██████████| 10/10 [00:00<00:00, 351.11it/s, loss=0.983]\n"
     ]
    },
    {
     "name": "stdout",
     "output_type": "stream",
     "text": [
      "Epoch [1995/5000]: Train loss: 0.8962, Valid loss: 0.8996\n"
     ]
    },
    {
     "name": "stderr",
     "output_type": "stream",
     "text": [
      "Epoch [1996/5000]: 100%|██████████| 10/10 [00:00<00:00, 326.24it/s, loss=0.658]\n"
     ]
    },
    {
     "name": "stdout",
     "output_type": "stream",
     "text": [
      "Epoch [1996/5000]: Train loss: 0.8955, Valid loss: 0.8801\n"
     ]
    },
    {
     "name": "stderr",
     "output_type": "stream",
     "text": [
      "Epoch [1997/5000]: 100%|██████████| 10/10 [00:00<00:00, 320.65it/s, loss=0.709]\n"
     ]
    },
    {
     "name": "stdout",
     "output_type": "stream",
     "text": [
      "Epoch [1997/5000]: Train loss: 0.8852, Valid loss: 0.8473\n"
     ]
    },
    {
     "name": "stderr",
     "output_type": "stream",
     "text": [
      "Epoch [1998/5000]: 100%|██████████| 10/10 [00:00<00:00, 323.39it/s, loss=0.768]\n"
     ]
    },
    {
     "name": "stdout",
     "output_type": "stream",
     "text": [
      "Epoch [1998/5000]: Train loss: 0.8890, Valid loss: 0.8446\n"
     ]
    },
    {
     "name": "stderr",
     "output_type": "stream",
     "text": [
      "Epoch [1999/5000]: 100%|██████████| 10/10 [00:00<00:00, 318.94it/s, loss=0.964]\n"
     ]
    },
    {
     "name": "stdout",
     "output_type": "stream",
     "text": [
      "Epoch [1999/5000]: Train loss: 0.9061, Valid loss: 0.8465\n"
     ]
    },
    {
     "name": "stderr",
     "output_type": "stream",
     "text": [
      "Epoch [2000/5000]: 100%|██████████| 10/10 [00:00<00:00, 334.60it/s, loss=0.908]"
     ]
    },
    {
     "name": "stdout",
     "output_type": "stream",
     "text": [
      "Epoch [2000/5000]: Train loss: 0.9322, Valid loss: 0.8673\n"
     ]
    },
    {
     "name": "stderr",
     "output_type": "stream",
     "text": [
      "\n",
      "Epoch [2001/5000]: 100%|██████████| 10/10 [00:00<00:00, 318.86it/s, loss=0.658]\n"
     ]
    },
    {
     "name": "stdout",
     "output_type": "stream",
     "text": [
      "Epoch [2001/5000]: Train loss: 0.8994, Valid loss: 0.8937\n"
     ]
    },
    {
     "name": "stderr",
     "output_type": "stream",
     "text": [
      "Epoch [2002/5000]: 100%|██████████| 10/10 [00:00<00:00, 305.40it/s, loss=1.04]\n"
     ]
    },
    {
     "name": "stdout",
     "output_type": "stream",
     "text": [
      "Epoch [2002/5000]: Train loss: 0.9298, Valid loss: 0.8480\n"
     ]
    },
    {
     "name": "stderr",
     "output_type": "stream",
     "text": [
      "Epoch [2003/5000]: 100%|██████████| 10/10 [00:00<00:00, 346.74it/s, loss=0.875]\n"
     ]
    },
    {
     "name": "stdout",
     "output_type": "stream",
     "text": [
      "Epoch [2003/5000]: Train loss: 0.9168, Valid loss: 0.8398\n"
     ]
    },
    {
     "name": "stderr",
     "output_type": "stream",
     "text": [
      "Epoch [2004/5000]: 100%|██████████| 10/10 [00:00<00:00, 304.83it/s, loss=0.8]\n"
     ]
    },
    {
     "name": "stdout",
     "output_type": "stream",
     "text": [
      "Epoch [2004/5000]: Train loss: 0.9028, Valid loss: 0.8006\n"
     ]
    },
    {
     "name": "stderr",
     "output_type": "stream",
     "text": [
      "Epoch [2005/5000]: 100%|██████████| 10/10 [00:00<00:00, 320.58it/s, loss=0.789]\n"
     ]
    },
    {
     "name": "stdout",
     "output_type": "stream",
     "text": [
      "Epoch [2005/5000]: Train loss: 0.8877, Valid loss: 0.9614\n"
     ]
    },
    {
     "name": "stderr",
     "output_type": "stream",
     "text": [
      "Epoch [2006/5000]: 100%|██████████| 10/10 [00:00<00:00, 334.11it/s, loss=1.01]\n"
     ]
    },
    {
     "name": "stdout",
     "output_type": "stream",
     "text": [
      "Epoch [2006/5000]: Train loss: 0.9075, Valid loss: 0.8972\n"
     ]
    },
    {
     "name": "stderr",
     "output_type": "stream",
     "text": [
      "Epoch [2007/5000]: 100%|██████████| 10/10 [00:00<00:00, 334.68it/s, loss=0.845]\n"
     ]
    },
    {
     "name": "stdout",
     "output_type": "stream",
     "text": [
      "Epoch [2007/5000]: Train loss: 0.8953, Valid loss: 0.9736\n"
     ]
    },
    {
     "name": "stderr",
     "output_type": "stream",
     "text": [
      "Epoch [2008/5000]: 100%|██████████| 10/10 [00:00<00:00, 323.20it/s, loss=0.808]\n"
     ]
    },
    {
     "name": "stdout",
     "output_type": "stream",
     "text": [
      "Epoch [2008/5000]: Train loss: 0.9036, Valid loss: 0.9028\n"
     ]
    },
    {
     "name": "stderr",
     "output_type": "stream",
     "text": [
      "Epoch [2009/5000]: 100%|██████████| 10/10 [00:00<00:00, 343.90it/s, loss=0.973]\n"
     ]
    },
    {
     "name": "stdout",
     "output_type": "stream",
     "text": [
      "Epoch [2009/5000]: Train loss: 0.9058, Valid loss: 0.8871\n"
     ]
    },
    {
     "name": "stderr",
     "output_type": "stream",
     "text": [
      "Epoch [2010/5000]: 100%|██████████| 10/10 [00:00<00:00, 316.57it/s, loss=1.01]\n"
     ]
    },
    {
     "name": "stdout",
     "output_type": "stream",
     "text": [
      "Epoch [2010/5000]: Train loss: 0.9067, Valid loss: 0.8312\n"
     ]
    },
    {
     "name": "stderr",
     "output_type": "stream",
     "text": [
      "Epoch [2011/5000]: 100%|██████████| 10/10 [00:00<00:00, 323.67it/s, loss=0.846]\n"
     ]
    },
    {
     "name": "stdout",
     "output_type": "stream",
     "text": [
      "Epoch [2011/5000]: Train loss: 0.8919, Valid loss: 0.8895\n"
     ]
    },
    {
     "name": "stderr",
     "output_type": "stream",
     "text": [
      "Epoch [2012/5000]: 100%|██████████| 10/10 [00:00<00:00, 334.38it/s, loss=0.773]\n"
     ]
    },
    {
     "name": "stdout",
     "output_type": "stream",
     "text": [
      "Epoch [2012/5000]: Train loss: 0.8913, Valid loss: 0.8759\n"
     ]
    },
    {
     "name": "stderr",
     "output_type": "stream",
     "text": [
      "Epoch [2013/5000]: 100%|██████████| 10/10 [00:00<00:00, 327.90it/s, loss=0.991]\n"
     ]
    },
    {
     "name": "stdout",
     "output_type": "stream",
     "text": [
      "Epoch [2013/5000]: Train loss: 0.9027, Valid loss: 0.9164\n"
     ]
    },
    {
     "name": "stderr",
     "output_type": "stream",
     "text": [
      "Epoch [2014/5000]:   0%|          | 0/10 [00:00<?, ?it/s, loss=0.991]"
     ]
    }
   ],
   "source": [
    "model = My_Model(input_dim=x_train.shape[1]).to(device) # put your model and data on the same computation device.\n",
    "trainer(train_loader, valid_loader, model, config, device)"
   ]
  },
  {
   "cell_type": "code",
   "execution_count": 20,
   "metadata": {
    "tags": []
   },
   "outputs": [
    {
     "name": "stdout",
     "output_type": "stream",
     "text": [
      "0.8569455941518148\n"
     ]
    }
   ],
   "source": [
    "# same_seed(config['seed'])\n",
    "\n",
    "train_data, test_data = pd.read_csv(File_Path_Train).values, pd.read_csv(File_Path_Test).values\n",
    "train_data, valid_data = train_valid_split(train_data, config['valid_ratio'], config['seed'])\n",
    "\n",
    "\n",
    "# # Select features\n",
    "x_train, x_valid, x_test, y_train, y_valid = select_feat(train_data, valid_data, test_data, config['select_all'], config['select_features'])\n",
    "\n",
    "# valid_dataset = COVID19Dataset(x_valid, y_valid)\n",
    "                                            \n",
    "# # Pytorch data loader loads pytorch dataset into batches.\n",
    "# # train_loader = DataLoader(train_dataset, batch_size=config['batch_size'], shuffle=True, pin_memory=True)\n",
    "valid_loader = DataLoader(valid_dataset, batch_size=config['batch_size'], shuffle=True, pin_memory=True)\n",
    "# # test_loader = DataLoader(test_dataset, batch_size=config['batch_size'], shuffle=False, pin_memory=True)\n",
    "\n",
    "criterion = nn.MSELoss(reduction='mean') # Define your loss function, do not modify this.\n",
    "\n",
    "model = My_Model(input_dim=x_train.shape[1]).to(device)\n",
    "model.load_state_dict(torch.load(config['save_path']))\n",
    "loss_record = []\n",
    "for x, y in valid_loader:\n",
    "    x, y = x.to(device), y.to(device)\n",
    "    with torch.no_grad():\n",
    "        pred = model(x)\n",
    "        loss = criterion(pred, y)\n",
    "\n",
    "    loss_record.append(loss.item())\n",
    "\n",
    "mean_valid_loss = sum(loss_record)/len(loss_record)\n",
    "\n",
    "\n",
    "# preds = predict(valid_loader, model, device)\n",
    "# for idx,x, y in enumerate(valid_loader):\n",
    "#     loss=criterion(preds[index],y)\n",
    "#     loss_record.append(loss.item())\n",
    "\n",
    "# mean_valid_loss = sum(loss_record)/len(loss_record)\n",
    "print(mean_valid_loss)"
   ]
  },
  {
   "cell_type": "markdown",
   "metadata": {
    "id": "Ik09KPqU-di-"
   },
   "source": [
    "# Plot learning curves with `tensorboard` (optional)\n",
    "\n",
    "`tensorboard` is a tool that allows you to visualize your training progress.\n",
    "\n",
    "If this block does not display your learning curve, please wait for few minutes, and re-run this block. It might take some time to load your logging information."
   ]
  },
  {
   "cell_type": "code",
   "execution_count": null,
   "metadata": {
    "id": "loA4nKmLGQ-n",
    "outputId": "50d663b9-6dd8-466c-a762-9e585bb8da93",
    "tags": []
   },
   "outputs": [],
   "source": [
    "%reload_ext tensorboard\n",
    "%tensorboard --logdir=./runs/"
   ]
  },
  {
   "cell_type": "markdown",
   "metadata": {
    "id": "yhAHGqC9-woK"
   },
   "source": [
    "# Testing\n",
    "The predictions of your model on testing set will be stored at `pred.csv`."
   ]
  },
  {
   "cell_type": "code",
   "execution_count": null,
   "metadata": {
    "id": "Q5eVdpbvAlAe",
    "outputId": "163c0b7b-afe3-4637-fed0-a1abb632c463",
    "tags": []
   },
   "outputs": [],
   "source": [
    "def save_pred(preds, file):\n",
    "    ''' Save predictions to specified file '''\n",
    "    with open(file, 'w') as fp:\n",
    "        writer = csv.writer(fp)\n",
    "        writer.writerow(['id', 'tested_positive'])\n",
    "        for i, p in enumerate(preds):\n",
    "            writer.writerow([i, p])\n",
    "\n",
    "model = My_Model(input_dim=x_train.shape[1]).to(device)\n",
    "model.load_state_dict(torch.load(config['save_path']))\n",
    "preds = predict(test_loader, model, device)\n",
    "save_pred(preds, 'pred.csv')"
   ]
  },
  {
   "cell_type": "markdown",
   "metadata": {
    "id": "T_N-wBvVahc7"
   },
   "source": [
    "# Download\n",
    "\n",
    "Run this block to download the `pred.csv` automatically."
   ]
  },
  {
   "cell_type": "code",
   "execution_count": null,
   "metadata": {
    "id": "PmMnwrHeavJv",
    "outputId": "9c292652-6c3d-49b1-f4a0-7d9b01fb302d",
    "tags": []
   },
   "outputs": [],
   "source": [
    "# from google.colab import files\n",
    "# files.download('pred.csv')"
   ]
  },
  {
   "cell_type": "markdown",
   "metadata": {
    "id": "IJ_k5rY0GvSV"
   },
   "source": [
    "# Reference\n",
    "This notebook uses code written by Heng-Jui Chang @ NTUEE (https://github.com/ga642381/ML2021-Spring/blob/main/HW01/HW01.ipynb)"
   ]
  }
 ],
 "metadata": {
  "kernelspec": {
   "display_name": "Python 3 (ipykernel)",
   "language": "python",
   "name": "python3"
  },
  "language_info": {
   "codemirror_mode": {
    "name": "ipython",
    "version": 3
   },
   "file_extension": ".py",
   "mimetype": "text/x-python",
   "name": "python",
   "nbconvert_exporter": "python",
   "pygments_lexer": "ipython3",
   "version": "3.11.5"
  }
 },
 "nbformat": 4,
 "nbformat_minor": 4
}
