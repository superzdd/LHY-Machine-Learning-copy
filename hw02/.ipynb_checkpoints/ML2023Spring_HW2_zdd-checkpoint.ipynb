{
 "cells": [
  {
   "cell_type": "markdown",
   "metadata": {
    "id": "OYlaRwNu7ojq"
   },
   "source": [
    "# **Homework 2: Phoneme Classification**\n"
   ]
  },
  {
   "cell_type": "markdown",
   "metadata": {
    "id": "A7DRC5V7_8A5"
   },
   "source": [
    "Objectives:\n",
    "* Solve a classification problem with deep neural networks (DNNs).\n",
    "* Understand recursive neural networks (RNNs).\n",
    "\n",
    "If you have any questions, please contact the TAs via TA hours, NTU COOL, or email to mlta-2023-spring@googlegroups.com"
   ]
  },
  {
   "cell_type": "markdown",
   "metadata": {},
   "source": [
    "# Import Library"
   ]
  },
  {
   "cell_type": "code",
   "execution_count": 39,
   "metadata": {
    "tags": []
   },
   "outputs": [],
   "source": [
    "import os\n",
    "import torch\n",
    "from torch.utils.data import Dataset\n",
    "from torch.utils.data import DataLoader\n",
    "import torch.nn as nn\n",
    "import random\n",
    "import numpy as np\n",
    "from tqdm import tqdm\n",
    "import gc\n",
    "import datetime\n",
    "import math"
   ]
  },
  {
   "cell_type": "markdown",
   "metadata": {},
   "source": [
    "# Environment Confirmation"
   ]
  },
  {
   "cell_type": "code",
   "execution_count": 40,
   "metadata": {
    "tags": []
   },
   "outputs": [
    {
     "name": "stdout",
     "output_type": "stream",
     "text": [
      "Sat Nov 18 21:58:07 2023       \n",
      "+---------------------------------------------------------------------------------------+\n",
      "| NVIDIA-SMI 537.13                 Driver Version: 537.13       CUDA Version: 12.2     |\n",
      "|-----------------------------------------+----------------------+----------------------+\n",
      "| GPU  Name                     TCC/WDDM  | Bus-Id        Disp.A | Volatile Uncorr. ECC |\n",
      "| Fan  Temp   Perf          Pwr:Usage/Cap |         Memory-Usage | GPU-Util  Compute M. |\n",
      "|                                         |                      |               MIG M. |\n",
      "|=========================================+======================+======================|\n",
      "|   0  NVIDIA GeForce RTX 4060 ...  WDDM  | 00000000:01:00.0  On |                  N/A |\n",
      "| N/A   41C    P5               7W /  55W |   2353MiB /  8188MiB |      2%      Default |\n",
      "|                                         |                      |                  N/A |\n",
      "+-----------------------------------------+----------------------+----------------------+\n",
      "                                                                                         \n",
      "+---------------------------------------------------------------------------------------+\n",
      "| Processes:                                                                            |\n",
      "|  GPU   GI   CI        PID   Type   Process name                            GPU Memory |\n",
      "|        ID   ID                                                             Usage      |\n",
      "|=======================================================================================|\n",
      "|    0   N/A  N/A       440    C+G   ...5712\\office6\\promecefpluginhost.exe    N/A      |\n",
      "|    0   N/A  N/A      5044    C+G   ...on\\117.0.2045.41\\msedgewebview2.exe    N/A      |\n",
      "|    0   N/A  N/A      5492      C   C:\\ProgramData\\anaconda3\\python.exe       N/A      |\n",
      "|    0   N/A  N/A      8780    C+G   ...1\\extracted\\runtime\\WeChatAppEx.exe    N/A      |\n",
      "|    0   N/A  N/A      9432    C+G   ...GeForce Experience\\NVIDIA Share.exe    N/A      |\n",
      "|    0   N/A  N/A      9592    C+G   ...5n1h2txyewy\\ShellExperienceHost.exe    N/A      |\n",
      "|    0   N/A  N/A     12580    C+G   C:\\Windows\\explorer.exe                   N/A      |\n",
      "|    0   N/A  N/A     13648    C+G   ...nt.CBS_cw5n1h2txyewy\\SearchHost.exe    N/A      |\n",
      "|    0   N/A  N/A     13656    C+G   ...2txyewy\\StartMenuExperienceHost.exe    N/A      |\n",
      "|    0   N/A  N/A     15032    C+G   ...1.0_x64__8wekyb3d8bbwe\\Video.UI.exe    N/A      |\n",
      "|    0   N/A  N/A     16708    C+G   ...tionsPlus\\logioptionsplus_agent.exe    N/A      |\n",
      "|    0   N/A  N/A     16752    C+G   ...CBS_cw5n1h2txyewy\\TextInputHost.exe    N/A      |\n",
      "|    0   N/A  N/A     16868    C+G   ...81.0_x64__8wekyb3d8bbwe\\GameBar.exe    N/A      |\n",
      "|    0   N/A  N/A     17328    C+G   ...t.LockApp_cw5n1h2txyewy\\LockApp.exe    N/A      |\n",
      "|    0   N/A  N/A     22512    C+G   ...ns\\Software\\Current\\LogiOverlay.exe    N/A      |\n",
      "|    0   N/A  N/A     26260    C+G   ...ft Office\\root\\Office16\\ONENOTE.EXE    N/A      |\n",
      "|    0   N/A  N/A     26432    C+G   ...crosoft\\Edge\\Application\\msedge.exe    N/A      |\n",
      "|    0   N/A  N/A     29880    C+G   ...oogle\\Chrome\\Application\\chrome.exe    N/A      |\n",
      "|    0   N/A  N/A     33912    C+G   C:\\Windows\\explorer.exe                   N/A      |\n",
      "|    0   N/A  N/A     33944    C+G   ...US\\ArmouryDevice\\asus_framework.exe    N/A      |\n",
      "|    0   N/A  N/A     34336    C+G   ...Desktop\\app-3.3.5\\GitHubDesktop.exe    N/A      |\n",
      "+---------------------------------------------------------------------------------------+\n"
     ]
    }
   ],
   "source": [
    "!nvidia-smi"
   ]
  },
  {
   "cell_type": "code",
   "execution_count": 41,
   "metadata": {
    "tags": []
   },
   "outputs": [
    {
     "name": "stdout",
     "output_type": "stream",
     "text": [
      "free memory: param already deleted.\n"
     ]
    },
    {
     "data": {
      "text/plain": [
       "0"
      ]
     },
     "execution_count": 41,
     "metadata": {},
     "output_type": "execute_result"
    }
   ],
   "source": [
    "# 获取当前工作环境\n",
    "def KaggleColabLocal():\n",
    "    env = dict(\n",
    "        inKaggle=False,\n",
    "        inColab=False,\n",
    "        inLocal=False\n",
    "    )\n",
    "\n",
    "    # 检查是否在Kaggle环境中\n",
    "    if 'KAGGLE_KERNEL_RUN_TYPE' in os.environ and os.environ['KAGGLE_KERNEL_RUN_TYPE'] == 'Interactive':\n",
    "        # print(\"在Kaggle环境中运行\")\n",
    "        env['inKaggle'] = True\n",
    "    # 检查是否在Colab环境中\n",
    "    elif 'google.colab' in str(get_ipython()):\n",
    "        # print(\"在Colab环境中运行\")\n",
    "        env['inColab'] = True\n",
    "    # 检查是否在本地JupyterLab环境中\n",
    "    elif 'JPY_PARENT_PID' in os.environ:\n",
    "        # print(\"在本地JupyterLab环境中运行\")\n",
    "        env['inLocal'] = True\n",
    "    else:\n",
    "        print(\"在其他环境中运行\")\n",
    "    return env\n",
    "\n",
    "\n",
    "KaggleColabLocal()\n",
    "\n",
    "try:\n",
    "    del train_set,val_set\n",
    "    del train_loader,val_loader\n",
    "except:\n",
    "    print(\"free memory: param already deleted.\")\n",
    "gc.collect()"
   ]
  },
  {
   "cell_type": "markdown",
   "metadata": {
    "id": "KVUGfWTo7_Oj",
    "tags": []
   },
   "source": [
    "# Download Data\n",
    "Download data from google drive, then unzip it.\n",
    "\n",
    "You should have\n",
    "- `libriphone/train_split.txt`: training metadata\n",
    "- `libriphone/train_labels`: training labels\n",
    "- `libriphone/test_split.txt`: testing metadata\n",
    "- `libriphone/feat/train/*.pt`: training feature\n",
    "- `libriphone/feat/test/*.pt`:  testing feature\n",
    "\n",
    "after running the following block.\n",
    "\n",
    "> **Notes: if the google drive link is dead, you can download the data directly from [Kaggle](https://www.kaggle.com/c/ml2023spring-hw2/data) and upload it to the workspace.**\n"
   ]
  },
  {
   "cell_type": "code",
   "execution_count": 42,
   "metadata": {
    "id": "OzkiMEcC3Foq",
    "tags": []
   },
   "outputs": [
    {
     "name": "stdout",
     "output_type": "stream",
     "text": [
      "Data File already exist.Skip!\n"
     ]
    }
   ],
   "source": [
    "Current_Env = KaggleColabLocal() # 获取当前环境\n",
    "\n",
    "# 如果文件已经下载，那不用重新下载文件\n",
    "commonPath = './libriphone'\n",
    "if Current_Env['inKaggle'] == True:\n",
    "    commonPath = '/kaggle/working/libriphone'\n",
    "\n",
    "filePath = commonPath + '/feat/train/103-1240-0015.pt';\n",
    "\n",
    "if os.path.exists(filePath) == False:\n",
    "    if Current_Env['inKaggle'] or Current_Env['inColab']:\n",
    "        !pip install --upgrade gdown\n",
    "        # Main link\n",
    "        # !gdown --id '1N1eVIDe9hKM5uiNRGmifBlwSDGiVXPJe' --output libriphone.zip\n",
    "        !gdown --id '1qzCRnywKh30mTbWUEjXuNT2isOCAPdO1' --output libriphone.zip\n",
    "\n",
    "        !unzip -q libriphone.zip\n",
    "        !ls libriphone\n",
    "    elif Current_Env['inLocal']:\n",
    "        raise Exception('本地环境中文件不存在，需要重新下载，地址：https://www.kaggle.com/c/ml2023spring-hw2/data')\n",
    "    else:\n",
    "        raise Exception('获取文件失败，无法判断当前运行环境，也无法找到文件路径，需要重新下载，地址：https://www.kaggle.com/c/ml2023spring-hw2/data')\n",
    "else:\n",
    "    print('Data File already exist.Skip!')"
   ]
  },
  {
   "cell_type": "markdown",
   "metadata": {},
   "source": [
    "# Playground"
   ]
  },
  {
   "cell_type": "code",
   "execution_count": 43,
   "metadata": {
    "tags": []
   },
   "outputs": [],
   "source": [
    "# a = torch.load('./libriphone/feat/train/103-1240-0015.pt')\n",
    "# print(len(a))\n",
    "# print(len(a[0]))\n",
    "# print(a)"
   ]
  },
  {
   "cell_type": "markdown",
   "metadata": {
    "id": "pADUiYODJE1O"
   },
   "source": [
    "# Some Utility Functions\n",
    "**Fixes random number generator seeds for reproducibility.**"
   ]
  },
  {
   "cell_type": "code",
   "execution_count": 44,
   "metadata": {
    "id": "BsZKgBZQJjaE",
    "tags": []
   },
   "outputs": [],
   "source": [
    "def same_seeds(seed):\n",
    "    random.seed(seed)\n",
    "    np.random.seed(seed)\n",
    "    torch.manual_seed(seed)\n",
    "    if torch.cuda.is_available():\n",
    "        torch.cuda.manual_seed(seed)\n",
    "        torch.cuda.manual_seed_all(seed)\n",
    "    torch.backends.cudnn.benchmark = False\n",
    "    torch.backends.cudnn.deterministic = True"
   ]
  },
  {
   "cell_type": "markdown",
   "metadata": {
    "id": "_L_4anls8Drv"
   },
   "source": [
    "**Helper functions to pre-process the training data from raw MFCC features of each utterance.**\n",
    "\n",
    "A phoneme may span several frames and is dependent to past and future frames. \\\n",
    "Hence we concatenate neighboring phonemes for training to achieve higher accuracy. The **concat_feat** function concatenates past and future k frames (total 2k+1 = n frames), and we predict the center frame.\n",
    "\n",
    "Feel free to modify the data preprocess functions, but **do not drop any frame** (if you modify the functions, remember to check that the number of frames are the same as mentioned in the slides)"
   ]
  },
  {
   "cell_type": "code",
   "execution_count": 45,
   "metadata": {
    "id": "IJjLT8em-y9G",
    "tags": []
   },
   "outputs": [],
   "source": [
    "def load_feat(path):\n",
    "    feat = torch.load(path)\n",
    "    return feat\n",
    "\n",
    "\n",
    "def shift(x, n):\n",
    "    if n < 0:\n",
    "        left = x[0].repeat(-n, 1)\n",
    "        right = x[:n]\n",
    "    elif n > 0:\n",
    "        right = x[-1].repeat(n, 1)\n",
    "        left = x[n:]\n",
    "    else:\n",
    "        return x\n",
    "\n",
    "    return torch.cat((left, right), dim=0)\n",
    "\n",
    "\n",
    "def concat_feat(x, concat_n):\n",
    "    assert concat_n % 2 == 1  # n must be odd\n",
    "    if concat_n < 2:\n",
    "        return x\n",
    "    seq_len, feature_dim = x.size(0), x.size(1)\n",
    "    x = x.repeat(1, concat_n)\n",
    "    x = x.view(seq_len, concat_n, feature_dim).permute(\n",
    "        1, 0, 2)  # concat_n, seq_len, feature_dim\n",
    "    mid = (concat_n // 2)\n",
    "    for r_idx in range(1, mid+1):\n",
    "        x[mid + r_idx, :] = shift(x[mid + r_idx], r_idx)\n",
    "        x[mid - r_idx, :] = shift(x[mid - r_idx], -r_idx)\n",
    "\n",
    "    return x.permute(1, 0, 2).view(seq_len, concat_n * feature_dim)\n",
    "\n",
    "\n",
    "def preprocess_data(split, feat_dir, phone_path, concat_nframes, train_ratio=0.8, random_seed=1213):\n",
    "    class_num = 41  # NOTE: pre-computed, should not need change\n",
    "\n",
    "    if split == 'train' or split == 'val':\n",
    "        mode = 'train'\n",
    "    elif split == 'test':\n",
    "        mode = 'test'\n",
    "    else:\n",
    "        raise ValueError(\n",
    "            'Invalid \\'split\\' argument for dataset: PhoneDataset!')\n",
    "\n",
    "    label_dict = {}\n",
    "    if mode == 'train':\n",
    "        for line in open(os.path.join(phone_path, f'{mode}_labels.txt')).readlines():\n",
    "            line = line.strip('\\n').split(' ')\n",
    "            label_dict[line[0]] = [int(p) for p in line[1:]]\n",
    "\n",
    "        # split training and validation data\n",
    "        usage_list = open(os.path.join(\n",
    "            phone_path, 'train_split.txt')).readlines()\n",
    "        random.seed(random_seed)\n",
    "        random.shuffle(usage_list)\n",
    "        train_len = int(len(usage_list) * train_ratio)\n",
    "        usage_list = usage_list[:train_len] if split == 'train' else usage_list[train_len:]\n",
    "\n",
    "    elif mode == 'test':\n",
    "        usage_list = open(os.path.join(\n",
    "            phone_path, 'test_split.txt')).readlines()\n",
    "\n",
    "    usage_list = [line.strip('\\n') for line in usage_list]\n",
    "    print('[Dataset] - # phone classes: ' + str(class_num) +\n",
    "          ', number of utterances for ' + split + ': ' + str(len(usage_list)))\n",
    "\n",
    "    max_len = 3000000\n",
    "    X = torch.empty(max_len, 39 * concat_nframes)\n",
    "    if mode == 'train':\n",
    "        y = torch.empty(max_len, dtype=torch.long)\n",
    "\n",
    "    idx = 0\n",
    "    for i, fname in tqdm(enumerate(usage_list)):\n",
    "        feat = load_feat(os.path.join(feat_dir, mode, f'{fname}.pt'))\n",
    "        cur_len = len(feat)\n",
    "        feat = concat_feat(feat, concat_nframes)\n",
    "        if mode == 'train':\n",
    "            label = torch.LongTensor(label_dict[fname])\n",
    "\n",
    "        X[idx: idx + cur_len, :] = feat\n",
    "        if mode == 'train':\n",
    "            y[idx: idx + cur_len] = label\n",
    "\n",
    "        idx += cur_len\n",
    "\n",
    "    X = X[:idx, :]\n",
    "    if mode == 'train':\n",
    "        y = y[:idx]\n",
    "\n",
    "    print(f'[INFO] {split} set')\n",
    "    print(X.shape)\n",
    "    if mode == 'train':\n",
    "        print(y.shape)\n",
    "        return X, y\n",
    "    else:\n",
    "        return X"
   ]
  },
  {
   "cell_type": "markdown",
   "metadata": {
    "id": "us5XW_x6udZQ"
   },
   "source": [
    "# Dataset"
   ]
  },
  {
   "cell_type": "code",
   "execution_count": 46,
   "metadata": {
    "id": "Fjf5EcmJtf4e",
    "tags": []
   },
   "outputs": [],
   "source": [
    "class LibriDataset(Dataset):\n",
    "    def __init__(self, X, y=None):\n",
    "        self.data = X\n",
    "        if y is not None:\n",
    "            self.label = torch.LongTensor(y)\n",
    "        else:\n",
    "            self.label = None\n",
    "\n",
    "    def __getitem__(self, idx):\n",
    "        if self.label is not None:\n",
    "            return self.data[idx], self.label[idx]\n",
    "        else:\n",
    "            return self.data[idx]\n",
    "\n",
    "    def __len__(self):\n",
    "        return len(self.data)"
   ]
  },
  {
   "cell_type": "markdown",
   "metadata": {
    "id": "IRqKNvNZwe3V"
   },
   "source": [
    "# Model\n",
    "Feel free to modify the structure of the model."
   ]
  },
  {
   "cell_type": "code",
   "execution_count": 47,
   "metadata": {
    "id": "Bg-GRd7ywdrL",
    "tags": []
   },
   "outputs": [],
   "source": [
    "class BasicBlock(nn.Module):\n",
    "    def __init__(self, input_dim, output_dim, dropout_p):\n",
    "        super(BasicBlock, self).__init__()\n",
    "\n",
    "        # TODO: apply batch normalization and dropout for strong baseline.\n",
    "        # Reference: https://pytorch.org/docs/stable/generated/torch.nn.BatchNorm1d.html (batch normalization)\n",
    "        #       https://pytorch.org/docs/stable/generated/torch.nn.Dropout.html (dropout)\n",
    "        self.block = nn.Sequential(\n",
    "            nn.Linear(input_dim, output_dim),\n",
    "            nn.BatchNorm1d(output_dim),\n",
    "            nn.ReLU(),\n",
    "            nn.Dropout(p=dropout_p),\n",
    "        )\n",
    "\n",
    "    def forward(self, x):\n",
    "        x = self.block(x)\n",
    "        return x\n",
    "\n",
    "\n",
    "class Classifier(nn.Module):\n",
    "    def __init__(self, input_dim, output_dim=41, hidden_layers=1, hidden_dim=256, dropout_p=0.5):\n",
    "        super(Classifier, self).__init__()\n",
    "\n",
    "        self.fc = nn.Sequential(\n",
    "            BasicBlock(input_dim, hidden_dim, dropout_p),\n",
    "            *[BasicBlock(hidden_dim, hidden_dim, dropout_p)\n",
    "              for _ in range(hidden_layers)],\n",
    "            nn.Linear(hidden_dim, output_dim)\n",
    "        )\n",
    "\n",
    "    def forward(self, x):\n",
    "        x = self.fc(x)\n",
    "        return x"
   ]
  },
  {
   "cell_type": "markdown",
   "metadata": {
    "id": "TlIq8JeqvvHC"
   },
   "source": [
    "# Hyper-parameters"
   ]
  },
  {
   "cell_type": "code",
   "execution_count": 48,
   "metadata": {
    "id": "iIHn79Iav1ri",
    "tags": []
   },
   "outputs": [],
   "source": [
    "# data prarameters\n",
    "# TODO: change the value of \"concat_nframes\" for medium baseline\n",
    "# the number of frames to concat with, n must be odd (total 2k+1 = n frames)\n",
    "concat_nframes = 21\n",
    "# the ratio of data used for training, the rest will be used for validation\n",
    "train_ratio = 0.95\n",
    "# 数据其实只有3429行，但是切片成frame之后，超过了百万\n",
    "# Phoneme Classification\n",
    "# Training data: 3429 preprocessed audio features w/ labels (total 2116794 frames)\n",
    "# Testing data: 857 preprocessed audio features w/o labels (total 527364 frames)\n",
    "# Label: 41 classes, each class represents a phoneme\n",
    "#     百万级数据集的训练集验证集划分\n",
    "#     一种常见的启发式策略是将整体30%的数据用作测试集,这适用于总体数据量规模一般的情况\n",
    "#    （比如100至10,000个样本）。但在大数据时期，分配比例会发生变化，\n",
    "#      如100万数据时，98%(训练)1%（验证)1%（测试），超百万时，95%（训练)/2.5%（验证)2.5%（测试)\n",
    "# -《Machine Learning Yearning》 Andrew Ng\n",
    "\n",
    "\n",
    "# training parameters\n",
    "seed = 19871201          # random seed\n",
    "batch_size = 512        # batch size\n",
    "num_epoch = 600         # the number of training epoch\n",
    "learning_rate = 1e-3      # learning rate\n",
    "model_path = './model.ckpt'  # the path where the checkpoint will be saved\n",
    "\n",
    "# model parameters\n",
    "# TODO: change the value of \"hidden_layers\" or \"hidden_dim\" for medium baseline\n",
    "# the input dim of the model, you should not change the value\n",
    "input_dim = 39 * concat_nframes\n",
    "hidden_layers = 6        # the number of hidden layers\n",
    "hidden_dim = 1024           # the hidden dim\n",
    "dropout_p = 0.25\n",
    "\n",
    "# env related\n",
    "commonPath = './libriphone'\n",
    "if Current_Env['inKaggle'] is True:\n",
    "    commonPath = '/kaggle/working/libriphone'"
   ]
  },
  {
   "cell_type": "markdown",
   "metadata": {
    "id": "IIUFRgG5yoDn"
   },
   "source": [
    "# Dataloader"
   ]
  },
  {
   "cell_type": "code",
   "execution_count": 49,
   "metadata": {
    "id": "c1zI3v5jyrDn"
   },
   "outputs": [
    {
     "name": "stdout",
     "output_type": "stream",
     "text": [
      "DEVICE: cuda\n",
      "[Dataset] - # phone classes: 41, number of utterances for train: 3257\n"
     ]
    },
    {
     "name": "stderr",
     "output_type": "stream",
     "text": [
      "3257it [00:08, 403.95it/s]\n"
     ]
    },
    {
     "name": "stdout",
     "output_type": "stream",
     "text": [
      "[INFO] train set\n",
      "torch.Size([2013325, 819])\n",
      "torch.Size([2013325])\n",
      "[Dataset] - # phone classes: 41, number of utterances for val: 172\n"
     ]
    },
    {
     "name": "stderr",
     "output_type": "stream",
     "text": [
      "172it [00:00, 391.30it/s]"
     ]
    },
    {
     "name": "stdout",
     "output_type": "stream",
     "text": [
      "[INFO] val set\n",
      "torch.Size([103469, 819])\n",
      "torch.Size([103469])\n"
     ]
    },
    {
     "name": "stderr",
     "output_type": "stream",
     "text": [
      "\n"
     ]
    }
   ],
   "source": [
    "same_seeds(seed)\n",
    "device = 'cuda' if torch.cuda.is_available() else 'cpu'\n",
    "print(f'DEVICE: {device}')\n",
    "\n",
    "# preprocess data\n",
    "train_X, train_y = preprocess_data(split='train', feat_dir=commonPath + '/feat', phone_path=commonPath,\n",
    "                                   concat_nframes=concat_nframes, train_ratio=train_ratio, random_seed=seed)\n",
    "val_X, val_y = preprocess_data(split='val', feat_dir=commonPath + '/feat', phone_path=commonPath,\n",
    "                               concat_nframes=concat_nframes, train_ratio=train_ratio, random_seed=seed)\n",
    "\n",
    "# get dataset\n",
    "train_set = LibriDataset(train_X, train_y)\n",
    "val_set = LibriDataset(val_X, val_y)\n",
    "\n",
    "# remove raw feature to save memory\n",
    "del train_X, train_y, val_X, val_y\n",
    "gc.collect()\n",
    "\n",
    "# get dataloader\n",
    "train_loader = DataLoader(train_set, batch_size=batch_size, shuffle=True)\n",
    "val_loader = DataLoader(val_set, batch_size=batch_size, shuffle=False)"
   ]
  },
  {
   "cell_type": "markdown",
   "metadata": {
    "id": "pwWH1KIqzxEr"
   },
   "source": [
    "# Training"
   ]
  },
  {
   "cell_type": "markdown",
   "metadata": {},
   "source": [
    "## 测试默认配置下,各显卡的表现\n",
    "- 本地显卡：168秒\n",
    "- Kaggle: T100 239秒\n",
    "- Colab: 200秒以上\n",
    "\n",
    "结论：本地显卡>Kaggle>Colab"
   ]
  },
  {
   "cell_type": "code",
   "execution_count": 50,
   "metadata": {
    "id": "CdMWsBs7zzNs"
   },
   "outputs": [
    {
     "name": "stderr",
     "output_type": "stream",
     "text": [
      "100%|██████████| 3933/3933 [00:37<00:00, 105.12it/s]\n",
      "100%|██████████| 203/203 [00:00<00:00, 255.12it/s]\n"
     ]
    },
    {
     "name": "stdout",
     "output_type": "stream",
     "text": [
      "[001/600] Train Acc: 0.59277 Loss: 1.32838 | Val Acc: 0.65836 loss: 1.09618\n",
      "saving model with acc 0.65836\n"
     ]
    },
    {
     "name": "stderr",
     "output_type": "stream",
     "text": [
      "100%|██████████| 3933/3933 [00:38<00:00, 103.50it/s]\n",
      "100%|██████████| 203/203 [00:00<00:00, 280.14it/s]\n"
     ]
    },
    {
     "name": "stdout",
     "output_type": "stream",
     "text": [
      "[002/600] Train Acc: 0.65595 Loss: 1.10104 | Val Acc: 0.68798 loss: 0.99986\n",
      "saving model with acc 0.68798\n"
     ]
    },
    {
     "name": "stderr",
     "output_type": "stream",
     "text": [
      "100%|██████████| 3933/3933 [00:37<00:00, 103.89it/s]\n",
      "100%|██████████| 203/203 [00:00<00:00, 280.29it/s]\n"
     ]
    },
    {
     "name": "stdout",
     "output_type": "stream",
     "text": [
      "[003/600] Train Acc: 0.68169 Loss: 1.01208 | Val Acc: 0.70406 loss: 0.94312\n",
      "saving model with acc 0.70406\n"
     ]
    },
    {
     "name": "stderr",
     "output_type": "stream",
     "text": [
      "100%|██████████| 3933/3933 [00:37<00:00, 106.01it/s]\n",
      "100%|██████████| 203/203 [00:00<00:00, 290.16it/s]\n"
     ]
    },
    {
     "name": "stdout",
     "output_type": "stream",
     "text": [
      "[004/600] Train Acc: 0.69826 Loss: 0.95409 | Val Acc: 0.71261 loss: 0.91377\n",
      "saving model with acc 0.71261\n"
     ]
    },
    {
     "name": "stderr",
     "output_type": "stream",
     "text": [
      "100%|██████████| 3933/3933 [00:36<00:00, 107.08it/s]\n",
      "100%|██████████| 203/203 [00:00<00:00, 251.05it/s]\n"
     ]
    },
    {
     "name": "stdout",
     "output_type": "stream",
     "text": [
      "[005/600] Train Acc: 0.71017 Loss: 0.91242 | Val Acc: 0.72162 loss: 0.89082\n",
      "saving model with acc 0.72162\n"
     ]
    },
    {
     "name": "stderr",
     "output_type": "stream",
     "text": [
      "100%|██████████| 3933/3933 [00:36<00:00, 106.88it/s]\n",
      "100%|██████████| 203/203 [00:00<00:00, 261.87it/s]\n"
     ]
    },
    {
     "name": "stdout",
     "output_type": "stream",
     "text": [
      "[006/600] Train Acc: 0.71948 Loss: 0.87951 | Val Acc: 0.72501 loss: 0.87854\n",
      "saving model with acc 0.72501\n"
     ]
    },
    {
     "name": "stderr",
     "output_type": "stream",
     "text": [
      "100%|██████████| 3933/3933 [00:36<00:00, 106.48it/s]\n",
      "100%|██████████| 203/203 [00:00<00:00, 289.84it/s]\n"
     ]
    },
    {
     "name": "stdout",
     "output_type": "stream",
     "text": [
      "[007/600] Train Acc: 0.72745 Loss: 0.85244 | Val Acc: 0.72998 loss: 0.86487\n",
      "saving model with acc 0.72998\n"
     ]
    },
    {
     "name": "stderr",
     "output_type": "stream",
     "text": [
      "100%|██████████| 3933/3933 [00:37<00:00, 105.82it/s]\n",
      "100%|██████████| 203/203 [00:00<00:00, 261.27it/s]\n"
     ]
    },
    {
     "name": "stdout",
     "output_type": "stream",
     "text": [
      "[008/600] Train Acc: 0.73302 Loss: 0.83118 | Val Acc: 0.72972 loss: 0.86039\n"
     ]
    },
    {
     "name": "stderr",
     "output_type": "stream",
     "text": [
      "100%|██████████| 3933/3933 [00:37<00:00, 105.03it/s]\n",
      "100%|██████████| 203/203 [00:00<00:00, 278.33it/s]\n"
     ]
    },
    {
     "name": "stdout",
     "output_type": "stream",
     "text": [
      "[009/600] Train Acc: 0.73856 Loss: 0.81288 | Val Acc: 0.73244 loss: 0.85602\n",
      "saving model with acc 0.73244\n"
     ]
    },
    {
     "name": "stderr",
     "output_type": "stream",
     "text": [
      "100%|██████████| 3933/3933 [00:37<00:00, 105.49it/s]\n",
      "100%|██████████| 203/203 [00:00<00:00, 249.38it/s]\n"
     ]
    },
    {
     "name": "stdout",
     "output_type": "stream",
     "text": [
      "[010/600] Train Acc: 0.74341 Loss: 0.79593 | Val Acc: 0.73513 loss: 0.85050\n",
      "saving model with acc 0.73513\n"
     ]
    },
    {
     "name": "stderr",
     "output_type": "stream",
     "text": [
      "100%|██████████| 3933/3933 [00:37<00:00, 106.20it/s]\n",
      "100%|██████████| 203/203 [00:00<00:00, 288.76it/s]\n"
     ]
    },
    {
     "name": "stdout",
     "output_type": "stream",
     "text": [
      "[011/600] Train Acc: 0.74711 Loss: 0.78143 | Val Acc: 0.73680 loss: 0.84146\n",
      "saving model with acc 0.73680\n"
     ]
    },
    {
     "name": "stderr",
     "output_type": "stream",
     "text": [
      "100%|██████████| 3933/3933 [00:36<00:00, 107.45it/s]\n",
      "100%|██████████| 203/203 [00:00<00:00, 259.05it/s]\n"
     ]
    },
    {
     "name": "stdout",
     "output_type": "stream",
     "text": [
      "[012/600] Train Acc: 0.75119 Loss: 0.76910 | Val Acc: 0.73640 loss: 0.84480\n"
     ]
    },
    {
     "name": "stderr",
     "output_type": "stream",
     "text": [
      "100%|██████████| 3933/3933 [00:37<00:00, 104.89it/s]\n",
      "100%|██████████| 203/203 [00:00<00:00, 253.83it/s]\n"
     ]
    },
    {
     "name": "stdout",
     "output_type": "stream",
     "text": [
      "[013/600] Train Acc: 0.75448 Loss: 0.75651 | Val Acc: 0.73741 loss: 0.84394\n",
      "saving model with acc 0.73741\n"
     ]
    },
    {
     "name": "stderr",
     "output_type": "stream",
     "text": [
      "100%|██████████| 3933/3933 [00:38<00:00, 103.16it/s]\n",
      "100%|██████████| 203/203 [00:00<00:00, 290.76it/s]\n"
     ]
    },
    {
     "name": "stdout",
     "output_type": "stream",
     "text": [
      "[014/600] Train Acc: 0.75709 Loss: 0.74729 | Val Acc: 0.73919 loss: 0.83544\n",
      "saving model with acc 0.73919\n"
     ]
    },
    {
     "name": "stderr",
     "output_type": "stream",
     "text": [
      "100%|██████████| 3933/3933 [00:37<00:00, 105.42it/s]\n",
      "100%|██████████| 203/203 [00:00<00:00, 255.28it/s]\n"
     ]
    },
    {
     "name": "stdout",
     "output_type": "stream",
     "text": [
      "[015/600] Train Acc: 0.75999 Loss: 0.73754 | Val Acc: 0.74100 loss: 0.83402\n",
      "saving model with acc 0.74100\n"
     ]
    },
    {
     "name": "stderr",
     "output_type": "stream",
     "text": [
      "100%|██████████| 3933/3933 [00:37<00:00, 105.93it/s]\n",
      "100%|██████████| 203/203 [00:00<00:00, 267.94it/s]\n"
     ]
    },
    {
     "name": "stdout",
     "output_type": "stream",
     "text": [
      "[016/600] Train Acc: 0.76220 Loss: 0.72880 | Val Acc: 0.74058 loss: 0.83658\n"
     ]
    },
    {
     "name": "stderr",
     "output_type": "stream",
     "text": [
      "100%|██████████| 3933/3933 [00:37<00:00, 105.33it/s]\n",
      "100%|██████████| 203/203 [00:00<00:00, 246.32it/s]\n"
     ]
    },
    {
     "name": "stdout",
     "output_type": "stream",
     "text": [
      "[017/600] Train Acc: 0.76457 Loss: 0.72013 | Val Acc: 0.74145 loss: 0.83197\n",
      "saving model with acc 0.74145\n"
     ]
    },
    {
     "name": "stderr",
     "output_type": "stream",
     "text": [
      "100%|██████████| 3933/3933 [00:37<00:00, 104.81it/s]\n",
      "100%|██████████| 203/203 [00:00<00:00, 283.85it/s]\n"
     ]
    },
    {
     "name": "stdout",
     "output_type": "stream",
     "text": [
      "[018/600] Train Acc: 0.76663 Loss: 0.71347 | Val Acc: 0.74213 loss: 0.83260\n",
      "saving model with acc 0.74213\n"
     ]
    },
    {
     "name": "stderr",
     "output_type": "stream",
     "text": [
      "100%|██████████| 3933/3933 [00:36<00:00, 107.75it/s]\n",
      "100%|██████████| 203/203 [00:00<00:00, 255.19it/s]\n"
     ]
    },
    {
     "name": "stdout",
     "output_type": "stream",
     "text": [
      "[019/600] Train Acc: 0.76933 Loss: 0.70552 | Val Acc: 0.74201 loss: 0.83579\n"
     ]
    },
    {
     "name": "stderr",
     "output_type": "stream",
     "text": [
      "100%|██████████| 3933/3933 [00:38<00:00, 103.16it/s]\n",
      "100%|██████████| 203/203 [00:00<00:00, 265.01it/s]\n"
     ]
    },
    {
     "name": "stdout",
     "output_type": "stream",
     "text": [
      "[020/600] Train Acc: 0.77104 Loss: 0.69905 | Val Acc: 0.74157 loss: 0.83315\n"
     ]
    },
    {
     "name": "stderr",
     "output_type": "stream",
     "text": [
      "100%|██████████| 3933/3933 [00:36<00:00, 107.39it/s]\n",
      "100%|██████████| 203/203 [00:00<00:00, 292.62it/s]\n"
     ]
    },
    {
     "name": "stdout",
     "output_type": "stream",
     "text": [
      "[021/600] Train Acc: 0.77291 Loss: 0.69247 | Val Acc: 0.74440 loss: 0.82882\n",
      "saving model with acc 0.74440\n"
     ]
    },
    {
     "name": "stderr",
     "output_type": "stream",
     "text": [
      "100%|██████████| 3933/3933 [00:36<00:00, 106.62it/s]\n",
      "100%|██████████| 203/203 [00:00<00:00, 293.09it/s]\n"
     ]
    },
    {
     "name": "stdout",
     "output_type": "stream",
     "text": [
      "[022/600] Train Acc: 0.77419 Loss: 0.68757 | Val Acc: 0.74326 loss: 0.83211\n"
     ]
    },
    {
     "name": "stderr",
     "output_type": "stream",
     "text": [
      "100%|██████████| 3933/3933 [00:37<00:00, 105.97it/s]\n",
      "100%|██████████| 203/203 [00:00<00:00, 291.23it/s]\n"
     ]
    },
    {
     "name": "stdout",
     "output_type": "stream",
     "text": [
      "[023/600] Train Acc: 0.77576 Loss: 0.68223 | Val Acc: 0.74446 loss: 0.83130\n",
      "saving model with acc 0.74446\n"
     ]
    },
    {
     "name": "stderr",
     "output_type": "stream",
     "text": [
      "100%|██████████| 3933/3933 [00:36<00:00, 107.75it/s]\n",
      "100%|██████████| 203/203 [00:00<00:00, 258.68it/s]\n"
     ]
    },
    {
     "name": "stdout",
     "output_type": "stream",
     "text": [
      "[024/600] Train Acc: 0.77736 Loss: 0.67671 | Val Acc: 0.74282 loss: 0.83265\n"
     ]
    },
    {
     "name": "stderr",
     "output_type": "stream",
     "text": [
      "100%|██████████| 3933/3933 [00:36<00:00, 107.33it/s]\n",
      "100%|██████████| 203/203 [00:00<00:00, 266.79it/s]\n"
     ]
    },
    {
     "name": "stdout",
     "output_type": "stream",
     "text": [
      "[025/600] Train Acc: 0.77864 Loss: 0.67244 | Val Acc: 0.74585 loss: 0.82794\n",
      "saving model with acc 0.74585\n"
     ]
    },
    {
     "name": "stderr",
     "output_type": "stream",
     "text": [
      "100%|██████████| 3933/3933 [00:36<00:00, 107.38it/s]\n",
      "100%|██████████| 203/203 [00:00<00:00, 259.74it/s]\n"
     ]
    },
    {
     "name": "stdout",
     "output_type": "stream",
     "text": [
      "[026/600] Train Acc: 0.78004 Loss: 0.66730 | Val Acc: 0.74396 loss: 0.83314\n"
     ]
    },
    {
     "name": "stderr",
     "output_type": "stream",
     "text": [
      "100%|██████████| 3933/3933 [00:39<00:00, 99.42it/s] \n",
      "100%|██████████| 203/203 [00:00<00:00, 244.78it/s]\n"
     ]
    },
    {
     "name": "stdout",
     "output_type": "stream",
     "text": [
      "[027/600] Train Acc: 0.78135 Loss: 0.66299 | Val Acc: 0.74523 loss: 0.83159\n"
     ]
    },
    {
     "name": "stderr",
     "output_type": "stream",
     "text": [
      "100%|██████████| 3933/3933 [00:37<00:00, 105.28it/s]\n",
      "100%|██████████| 203/203 [00:00<00:00, 284.06it/s]\n"
     ]
    },
    {
     "name": "stdout",
     "output_type": "stream",
     "text": [
      "[028/600] Train Acc: 0.78245 Loss: 0.65852 | Val Acc: 0.74582 loss: 0.83433\n"
     ]
    },
    {
     "name": "stderr",
     "output_type": "stream",
     "text": [
      "100%|██████████| 3933/3933 [00:37<00:00, 105.15it/s]\n",
      "100%|██████████| 203/203 [00:00<00:00, 286.44it/s]\n"
     ]
    },
    {
     "name": "stdout",
     "output_type": "stream",
     "text": [
      "[029/600] Train Acc: 0.78398 Loss: 0.65409 | Val Acc: 0.74489 loss: 0.83392\n"
     ]
    },
    {
     "name": "stderr",
     "output_type": "stream",
     "text": [
      "100%|██████████| 3933/3933 [00:37<00:00, 105.39it/s]\n",
      "100%|██████████| 203/203 [00:00<00:00, 287.21it/s]\n"
     ]
    },
    {
     "name": "stdout",
     "output_type": "stream",
     "text": [
      "[030/600] Train Acc: 0.78499 Loss: 0.64987 | Val Acc: 0.74622 loss: 0.83288\n",
      "saving model with acc 0.74622\n"
     ]
    },
    {
     "name": "stderr",
     "output_type": "stream",
     "text": [
      "100%|██████████| 3933/3933 [00:37<00:00, 105.89it/s]\n",
      "100%|██████████| 203/203 [00:00<00:00, 260.10it/s]\n"
     ]
    },
    {
     "name": "stdout",
     "output_type": "stream",
     "text": [
      "[031/600] Train Acc: 0.78566 Loss: 0.64705 | Val Acc: 0.74689 loss: 0.82872\n",
      "saving model with acc 0.74689\n"
     ]
    },
    {
     "name": "stderr",
     "output_type": "stream",
     "text": [
      "100%|██████████| 3933/3933 [00:36<00:00, 108.24it/s]\n",
      "100%|██████████| 203/203 [00:00<00:00, 271.11it/s]\n"
     ]
    },
    {
     "name": "stdout",
     "output_type": "stream",
     "text": [
      "[032/600] Train Acc: 0.78685 Loss: 0.64338 | Val Acc: 0.74677 loss: 0.83105\n"
     ]
    },
    {
     "name": "stderr",
     "output_type": "stream",
     "text": [
      "100%|██████████| 3933/3933 [00:36<00:00, 109.07it/s]\n",
      "100%|██████████| 203/203 [00:00<00:00, 300.22it/s]\n"
     ]
    },
    {
     "name": "stdout",
     "output_type": "stream",
     "text": [
      "[033/600] Train Acc: 0.78764 Loss: 0.64011 | Val Acc: 0.74736 loss: 0.82819\n",
      "saving model with acc 0.74736\n"
     ]
    },
    {
     "name": "stderr",
     "output_type": "stream",
     "text": [
      "100%|██████████| 3933/3933 [00:35<00:00, 110.18it/s]\n",
      "100%|██████████| 203/203 [00:00<00:00, 268.83it/s]\n"
     ]
    },
    {
     "name": "stdout",
     "output_type": "stream",
     "text": [
      "[034/600] Train Acc: 0.78869 Loss: 0.63664 | Val Acc: 0.74741 loss: 0.83761\n",
      "saving model with acc 0.74741\n"
     ]
    },
    {
     "name": "stderr",
     "output_type": "stream",
     "text": [
      "100%|██████████| 3933/3933 [00:35<00:00, 110.97it/s]\n",
      "100%|██████████| 203/203 [00:00<00:00, 300.28it/s]\n"
     ]
    },
    {
     "name": "stdout",
     "output_type": "stream",
     "text": [
      "[035/600] Train Acc: 0.79002 Loss: 0.63291 | Val Acc: 0.74741 loss: 0.83356\n"
     ]
    },
    {
     "name": "stderr",
     "output_type": "stream",
     "text": [
      "100%|██████████| 3933/3933 [00:35<00:00, 110.93it/s]\n",
      "100%|██████████| 203/203 [00:00<00:00, 257.44it/s]\n"
     ]
    },
    {
     "name": "stdout",
     "output_type": "stream",
     "text": [
      "[036/600] Train Acc: 0.79093 Loss: 0.62983 | Val Acc: 0.74664 loss: 0.83460\n"
     ]
    },
    {
     "name": "stderr",
     "output_type": "stream",
     "text": [
      "100%|██████████| 3933/3933 [00:35<00:00, 111.69it/s]\n",
      "100%|██████████| 203/203 [00:00<00:00, 310.00it/s]\n"
     ]
    },
    {
     "name": "stdout",
     "output_type": "stream",
     "text": [
      "[037/600] Train Acc: 0.79181 Loss: 0.62734 | Val Acc: 0.74695 loss: 0.83806\n"
     ]
    },
    {
     "name": "stderr",
     "output_type": "stream",
     "text": [
      "100%|██████████| 3933/3933 [00:35<00:00, 110.39it/s]\n",
      "100%|██████████| 203/203 [00:00<00:00, 275.70it/s]\n"
     ]
    },
    {
     "name": "stdout",
     "output_type": "stream",
     "text": [
      "[038/600] Train Acc: 0.79222 Loss: 0.62463 | Val Acc: 0.74762 loss: 0.83784\n",
      "saving model with acc 0.74762\n"
     ]
    },
    {
     "name": "stderr",
     "output_type": "stream",
     "text": [
      "100%|██████████| 3933/3933 [00:35<00:00, 111.19it/s]\n",
      "100%|██████████| 203/203 [00:00<00:00, 264.99it/s]\n"
     ]
    },
    {
     "name": "stdout",
     "output_type": "stream",
     "text": [
      "[039/600] Train Acc: 0.79301 Loss: 0.62167 | Val Acc: 0.74751 loss: 0.83306\n"
     ]
    },
    {
     "name": "stderr",
     "output_type": "stream",
     "text": [
      "100%|██████████| 3933/3933 [00:35<00:00, 111.30it/s]\n",
      "100%|██████████| 203/203 [00:00<00:00, 319.05it/s]\n"
     ]
    },
    {
     "name": "stdout",
     "output_type": "stream",
     "text": [
      "[040/600] Train Acc: 0.79409 Loss: 0.61886 | Val Acc: 0.74731 loss: 0.84228\n"
     ]
    },
    {
     "name": "stderr",
     "output_type": "stream",
     "text": [
      "100%|██████████| 3933/3933 [00:33<00:00, 116.07it/s]\n",
      "100%|██████████| 203/203 [00:00<00:00, 277.89it/s]\n"
     ]
    },
    {
     "name": "stdout",
     "output_type": "stream",
     "text": [
      "[041/600] Train Acc: 0.79467 Loss: 0.61628 | Val Acc: 0.74928 loss: 0.83428\n",
      "saving model with acc 0.74928\n"
     ]
    },
    {
     "name": "stderr",
     "output_type": "stream",
     "text": [
      "100%|██████████| 3933/3933 [00:34<00:00, 114.90it/s]\n",
      "100%|██████████| 203/203 [00:00<00:00, 313.34it/s]\n"
     ]
    },
    {
     "name": "stdout",
     "output_type": "stream",
     "text": [
      "[042/600] Train Acc: 0.79540 Loss: 0.61357 | Val Acc: 0.74792 loss: 0.83837\n"
     ]
    },
    {
     "name": "stderr",
     "output_type": "stream",
     "text": [
      "100%|██████████| 3933/3933 [00:33<00:00, 116.10it/s]\n",
      "100%|██████████| 203/203 [00:00<00:00, 284.61it/s]\n"
     ]
    },
    {
     "name": "stdout",
     "output_type": "stream",
     "text": [
      "[043/600] Train Acc: 0.79625 Loss: 0.61174 | Val Acc: 0.74700 loss: 0.84786\n"
     ]
    },
    {
     "name": "stderr",
     "output_type": "stream",
     "text": [
      "100%|██████████| 3933/3933 [00:33<00:00, 116.07it/s]\n",
      "100%|██████████| 203/203 [00:00<00:00, 290.85it/s]\n"
     ]
    },
    {
     "name": "stdout",
     "output_type": "stream",
     "text": [
      "[044/600] Train Acc: 0.79720 Loss: 0.60865 | Val Acc: 0.74842 loss: 0.84019\n"
     ]
    },
    {
     "name": "stderr",
     "output_type": "stream",
     "text": [
      "100%|██████████| 3933/3933 [00:33<00:00, 116.82it/s]\n",
      "100%|██████████| 203/203 [00:00<00:00, 285.85it/s]\n"
     ]
    },
    {
     "name": "stdout",
     "output_type": "stream",
     "text": [
      "[045/600] Train Acc: 0.79761 Loss: 0.60573 | Val Acc: 0.74919 loss: 0.83607\n"
     ]
    },
    {
     "name": "stderr",
     "output_type": "stream",
     "text": [
      "100%|██████████| 3933/3933 [00:33<00:00, 116.46it/s]\n",
      "100%|██████████| 203/203 [00:00<00:00, 274.77it/s]\n"
     ]
    },
    {
     "name": "stdout",
     "output_type": "stream",
     "text": [
      "[046/600] Train Acc: 0.79811 Loss: 0.60381 | Val Acc: 0.74897 loss: 0.84069\n"
     ]
    },
    {
     "name": "stderr",
     "output_type": "stream",
     "text": [
      "100%|██████████| 3933/3933 [00:33<00:00, 116.75it/s]\n",
      "100%|██████████| 203/203 [00:00<00:00, 313.84it/s]\n"
     ]
    },
    {
     "name": "stdout",
     "output_type": "stream",
     "text": [
      "[047/600] Train Acc: 0.79881 Loss: 0.60165 | Val Acc: 0.74803 loss: 0.84380\n"
     ]
    },
    {
     "name": "stderr",
     "output_type": "stream",
     "text": [
      "100%|██████████| 3933/3933 [00:33<00:00, 116.28it/s]\n",
      "100%|██████████| 203/203 [00:00<00:00, 308.51it/s]\n"
     ]
    },
    {
     "name": "stdout",
     "output_type": "stream",
     "text": [
      "[048/600] Train Acc: 0.79935 Loss: 0.60010 | Val Acc: 0.74956 loss: 0.83948\n",
      "saving model with acc 0.74956\n"
     ]
    },
    {
     "name": "stderr",
     "output_type": "stream",
     "text": [
      "100%|██████████| 3933/3933 [00:33<00:00, 116.30it/s]\n",
      "100%|██████████| 203/203 [00:00<00:00, 303.05it/s]\n"
     ]
    },
    {
     "name": "stdout",
     "output_type": "stream",
     "text": [
      "[049/600] Train Acc: 0.80008 Loss: 0.59739 | Val Acc: 0.74980 loss: 0.84226\n",
      "saving model with acc 0.74980\n"
     ]
    },
    {
     "name": "stderr",
     "output_type": "stream",
     "text": [
      "100%|██████████| 3933/3933 [00:33<00:00, 116.94it/s]\n",
      "100%|██████████| 203/203 [00:00<00:00, 276.39it/s]\n"
     ]
    },
    {
     "name": "stdout",
     "output_type": "stream",
     "text": [
      "[050/600] Train Acc: 0.80065 Loss: 0.59579 | Val Acc: 0.74849 loss: 0.84630\n"
     ]
    },
    {
     "name": "stderr",
     "output_type": "stream",
     "text": [
      "100%|██████████| 3933/3933 [00:33<00:00, 116.59it/s]\n",
      "100%|██████████| 203/203 [00:00<00:00, 284.39it/s]\n"
     ]
    },
    {
     "name": "stdout",
     "output_type": "stream",
     "text": [
      "[051/600] Train Acc: 0.80126 Loss: 0.59348 | Val Acc: 0.74955 loss: 0.83957\n"
     ]
    },
    {
     "name": "stderr",
     "output_type": "stream",
     "text": [
      "100%|██████████| 3933/3933 [00:34<00:00, 114.21it/s]\n",
      "100%|██████████| 203/203 [00:01<00:00, 200.72it/s]\n"
     ]
    },
    {
     "name": "stdout",
     "output_type": "stream",
     "text": [
      "[052/600] Train Acc: 0.80199 Loss: 0.59170 | Val Acc: 0.75037 loss: 0.83822\n",
      "saving model with acc 0.75037\n"
     ]
    },
    {
     "name": "stderr",
     "output_type": "stream",
     "text": [
      "100%|██████████| 3933/3933 [00:33<00:00, 116.28it/s]\n",
      "100%|██████████| 203/203 [00:00<00:00, 284.39it/s]\n"
     ]
    },
    {
     "name": "stdout",
     "output_type": "stream",
     "text": [
      "[053/600] Train Acc: 0.80263 Loss: 0.58926 | Val Acc: 0.74870 loss: 0.84612\n"
     ]
    },
    {
     "name": "stderr",
     "output_type": "stream",
     "text": [
      "100%|██████████| 3933/3933 [00:33<00:00, 116.50it/s]\n",
      "100%|██████████| 203/203 [00:00<00:00, 313.58it/s]\n"
     ]
    },
    {
     "name": "stdout",
     "output_type": "stream",
     "text": [
      "[054/600] Train Acc: 0.80309 Loss: 0.58741 | Val Acc: 0.74920 loss: 0.84375\n"
     ]
    },
    {
     "name": "stderr",
     "output_type": "stream",
     "text": [
      "100%|██████████| 3933/3933 [00:33<00:00, 116.09it/s]\n",
      "100%|██████████| 203/203 [00:00<00:00, 306.83it/s]\n"
     ]
    },
    {
     "name": "stdout",
     "output_type": "stream",
     "text": [
      "[055/600] Train Acc: 0.80399 Loss: 0.58612 | Val Acc: 0.74872 loss: 0.84594\n"
     ]
    },
    {
     "name": "stderr",
     "output_type": "stream",
     "text": [
      "100%|██████████| 3933/3933 [00:33<00:00, 116.16it/s]\n",
      "100%|██████████| 203/203 [00:00<00:00, 307.45it/s]\n"
     ]
    },
    {
     "name": "stdout",
     "output_type": "stream",
     "text": [
      "[056/600] Train Acc: 0.80366 Loss: 0.58451 | Val Acc: 0.74929 loss: 0.85087\n"
     ]
    },
    {
     "name": "stderr",
     "output_type": "stream",
     "text": [
      "100%|██████████| 3933/3933 [00:33<00:00, 116.46it/s]\n",
      "100%|██████████| 203/203 [00:00<00:00, 284.39it/s]\n"
     ]
    },
    {
     "name": "stdout",
     "output_type": "stream",
     "text": [
      "[057/600] Train Acc: 0.80459 Loss: 0.58194 | Val Acc: 0.74843 loss: 0.85469\n"
     ]
    },
    {
     "name": "stderr",
     "output_type": "stream",
     "text": [
      "100%|██████████| 3933/3933 [00:33<00:00, 116.95it/s]\n",
      "100%|██████████| 203/203 [00:00<00:00, 290.47it/s]\n"
     ]
    },
    {
     "name": "stdout",
     "output_type": "stream",
     "text": [
      "[058/600] Train Acc: 0.80465 Loss: 0.58158 | Val Acc: 0.74978 loss: 0.84437\n"
     ]
    },
    {
     "name": "stderr",
     "output_type": "stream",
     "text": [
      "100%|██████████| 3933/3933 [00:34<00:00, 113.40it/s]\n",
      "100%|██████████| 203/203 [00:00<00:00, 318.26it/s]\n"
     ]
    },
    {
     "name": "stdout",
     "output_type": "stream",
     "text": [
      "[059/600] Train Acc: 0.80516 Loss: 0.57942 | Val Acc: 0.74972 loss: 0.84593\n"
     ]
    },
    {
     "name": "stderr",
     "output_type": "stream",
     "text": [
      "100%|██████████| 3933/3933 [00:33<00:00, 115.85it/s]\n",
      "100%|██████████| 203/203 [00:00<00:00, 274.63it/s]\n"
     ]
    },
    {
     "name": "stdout",
     "output_type": "stream",
     "text": [
      "[060/600] Train Acc: 0.80517 Loss: 0.57838 | Val Acc: 0.74909 loss: 0.84940\n"
     ]
    },
    {
     "name": "stderr",
     "output_type": "stream",
     "text": [
      "100%|██████████| 3933/3933 [00:33<00:00, 116.57it/s]\n",
      "100%|██████████| 203/203 [00:00<00:00, 311.96it/s]\n"
     ]
    },
    {
     "name": "stdout",
     "output_type": "stream",
     "text": [
      "[061/600] Train Acc: 0.80624 Loss: 0.57606 | Val Acc: 0.75055 loss: 0.84764\n",
      "saving model with acc 0.75055\n"
     ]
    },
    {
     "name": "stderr",
     "output_type": "stream",
     "text": [
      "100%|██████████| 3933/3933 [00:33<00:00, 116.21it/s]\n",
      "100%|██████████| 203/203 [00:00<00:00, 281.33it/s]\n"
     ]
    },
    {
     "name": "stdout",
     "output_type": "stream",
     "text": [
      "[062/600] Train Acc: 0.80678 Loss: 0.57464 | Val Acc: 0.74960 loss: 0.85227\n"
     ]
    },
    {
     "name": "stderr",
     "output_type": "stream",
     "text": [
      "100%|██████████| 3933/3933 [00:33<00:00, 116.07it/s]\n",
      "100%|██████████| 203/203 [00:00<00:00, 308.69it/s]\n"
     ]
    },
    {
     "name": "stdout",
     "output_type": "stream",
     "text": [
      "[063/600] Train Acc: 0.80714 Loss: 0.57345 | Val Acc: 0.74846 loss: 0.84851\n"
     ]
    },
    {
     "name": "stderr",
     "output_type": "stream",
     "text": [
      "100%|██████████| 3933/3933 [00:33<00:00, 116.53it/s]\n",
      "100%|██████████| 203/203 [00:00<00:00, 290.83it/s]\n"
     ]
    },
    {
     "name": "stdout",
     "output_type": "stream",
     "text": [
      "[064/600] Train Acc: 0.80762 Loss: 0.57104 | Val Acc: 0.74946 loss: 0.85164\n"
     ]
    },
    {
     "name": "stderr",
     "output_type": "stream",
     "text": [
      "100%|██████████| 3933/3933 [00:33<00:00, 116.61it/s]\n",
      "100%|██████████| 203/203 [00:00<00:00, 287.06it/s]\n"
     ]
    },
    {
     "name": "stdout",
     "output_type": "stream",
     "text": [
      "[065/600] Train Acc: 0.80811 Loss: 0.56939 | Val Acc: 0.75075 loss: 0.84621\n",
      "saving model with acc 0.75075\n"
     ]
    },
    {
     "name": "stderr",
     "output_type": "stream",
     "text": [
      "100%|██████████| 3933/3933 [00:33<00:00, 116.87it/s]\n",
      "100%|██████████| 203/203 [00:00<00:00, 312.53it/s]\n"
     ]
    },
    {
     "name": "stdout",
     "output_type": "stream",
     "text": [
      "[066/600] Train Acc: 0.80831 Loss: 0.56891 | Val Acc: 0.75033 loss: 0.85488\n"
     ]
    },
    {
     "name": "stderr",
     "output_type": "stream",
     "text": [
      "100%|██████████| 3933/3933 [00:33<00:00, 116.36it/s]\n",
      "100%|██████████| 203/203 [00:00<00:00, 314.48it/s]\n"
     ]
    },
    {
     "name": "stdout",
     "output_type": "stream",
     "text": [
      "[067/600] Train Acc: 0.80884 Loss: 0.56727 | Val Acc: 0.74956 loss: 0.85415\n"
     ]
    },
    {
     "name": "stderr",
     "output_type": "stream",
     "text": [
      "100%|██████████| 3933/3933 [00:33<00:00, 116.51it/s]\n",
      "100%|██████████| 203/203 [00:00<00:00, 319.16it/s]\n"
     ]
    },
    {
     "name": "stdout",
     "output_type": "stream",
     "text": [
      "[068/600] Train Acc: 0.80899 Loss: 0.56632 | Val Acc: 0.74925 loss: 0.84943\n"
     ]
    },
    {
     "name": "stderr",
     "output_type": "stream",
     "text": [
      "100%|██████████| 3933/3933 [00:33<00:00, 116.43it/s]\n",
      "100%|██████████| 203/203 [00:00<00:00, 285.14it/s]\n"
     ]
    },
    {
     "name": "stdout",
     "output_type": "stream",
     "text": [
      "[069/600] Train Acc: 0.80959 Loss: 0.56463 | Val Acc: 0.75159 loss: 0.85685\n",
      "saving model with acc 0.75159\n"
     ]
    },
    {
     "name": "stderr",
     "output_type": "stream",
     "text": [
      "100%|██████████| 3933/3933 [00:33<00:00, 116.18it/s]\n",
      "100%|██████████| 203/203 [00:00<00:00, 285.05it/s]\n"
     ]
    },
    {
     "name": "stdout",
     "output_type": "stream",
     "text": [
      "[070/600] Train Acc: 0.81047 Loss: 0.56320 | Val Acc: 0.74986 loss: 0.85823\n"
     ]
    },
    {
     "name": "stderr",
     "output_type": "stream",
     "text": [
      "100%|██████████| 3933/3933 [00:33<00:00, 116.90it/s]\n",
      "100%|██████████| 203/203 [00:00<00:00, 266.09it/s]\n"
     ]
    },
    {
     "name": "stdout",
     "output_type": "stream",
     "text": [
      "[071/600] Train Acc: 0.81004 Loss: 0.56185 | Val Acc: 0.75020 loss: 0.85413\n"
     ]
    },
    {
     "name": "stderr",
     "output_type": "stream",
     "text": [
      "100%|██████████| 3933/3933 [00:33<00:00, 116.99it/s]\n",
      "100%|██████████| 203/203 [00:00<00:00, 287.21it/s]\n"
     ]
    },
    {
     "name": "stdout",
     "output_type": "stream",
     "text": [
      "[072/600] Train Acc: 0.81081 Loss: 0.56066 | Val Acc: 0.75009 loss: 0.85737\n"
     ]
    },
    {
     "name": "stderr",
     "output_type": "stream",
     "text": [
      "100%|██████████| 3933/3933 [00:33<00:00, 116.96it/s]\n",
      "100%|██████████| 203/203 [00:00<00:00, 307.91it/s]\n"
     ]
    },
    {
     "name": "stdout",
     "output_type": "stream",
     "text": [
      "[073/600] Train Acc: 0.81137 Loss: 0.55886 | Val Acc: 0.74846 loss: 0.86402\n"
     ]
    },
    {
     "name": "stderr",
     "output_type": "stream",
     "text": [
      "100%|██████████| 3933/3933 [00:33<00:00, 116.59it/s]\n",
      "100%|██████████| 203/203 [00:00<00:00, 309.18it/s]\n"
     ]
    },
    {
     "name": "stdout",
     "output_type": "stream",
     "text": [
      "[074/600] Train Acc: 0.81138 Loss: 0.55850 | Val Acc: 0.75044 loss: 0.85364\n"
     ]
    },
    {
     "name": "stderr",
     "output_type": "stream",
     "text": [
      "100%|██████████| 3933/3933 [00:34<00:00, 113.65it/s]\n",
      "100%|██████████| 203/203 [00:00<00:00, 316.62it/s]\n"
     ]
    },
    {
     "name": "stdout",
     "output_type": "stream",
     "text": [
      "[075/600] Train Acc: 0.81206 Loss: 0.55673 | Val Acc: 0.75027 loss: 0.85359\n"
     ]
    },
    {
     "name": "stderr",
     "output_type": "stream",
     "text": [
      "100%|██████████| 3933/3933 [00:36<00:00, 109.19it/s]\n",
      "100%|██████████| 203/203 [00:00<00:00, 269.25it/s]\n"
     ]
    },
    {
     "name": "stdout",
     "output_type": "stream",
     "text": [
      "[076/600] Train Acc: 0.81213 Loss: 0.55556 | Val Acc: 0.75006 loss: 0.86327\n"
     ]
    },
    {
     "name": "stderr",
     "output_type": "stream",
     "text": [
      "100%|██████████| 3933/3933 [00:35<00:00, 109.72it/s]\n",
      "100%|██████████| 203/203 [00:00<00:00, 272.20it/s]\n"
     ]
    },
    {
     "name": "stdout",
     "output_type": "stream",
     "text": [
      "[077/600] Train Acc: 0.81259 Loss: 0.55426 | Val Acc: 0.74967 loss: 0.85992\n"
     ]
    },
    {
     "name": "stderr",
     "output_type": "stream",
     "text": [
      "100%|██████████| 3933/3933 [00:38<00:00, 101.29it/s]\n",
      "100%|██████████| 203/203 [00:00<00:00, 277.57it/s]\n"
     ]
    },
    {
     "name": "stdout",
     "output_type": "stream",
     "text": [
      "[078/600] Train Acc: 0.81260 Loss: 0.55411 | Val Acc: 0.74992 loss: 0.86453\n"
     ]
    },
    {
     "name": "stderr",
     "output_type": "stream",
     "text": [
      "100%|██████████| 3933/3933 [00:38<00:00, 100.92it/s]\n",
      "100%|██████████| 203/203 [00:00<00:00, 243.02it/s]\n"
     ]
    },
    {
     "name": "stdout",
     "output_type": "stream",
     "text": [
      "[079/600] Train Acc: 0.81287 Loss: 0.55324 | Val Acc: 0.74874 loss: 0.86190\n"
     ]
    },
    {
     "name": "stderr",
     "output_type": "stream",
     "text": [
      "100%|██████████| 3933/3933 [00:40<00:00, 98.32it/s] \n",
      "100%|██████████| 203/203 [00:01<00:00, 188.58it/s]\n"
     ]
    },
    {
     "name": "stdout",
     "output_type": "stream",
     "text": [
      "[080/600] Train Acc: 0.81320 Loss: 0.55174 | Val Acc: 0.75004 loss: 0.86181\n"
     ]
    },
    {
     "name": "stderr",
     "output_type": "stream",
     "text": [
      "100%|██████████| 3933/3933 [00:40<00:00, 97.68it/s] \n",
      "100%|██████████| 203/203 [00:00<00:00, 245.18it/s]\n"
     ]
    },
    {
     "name": "stdout",
     "output_type": "stream",
     "text": [
      "[081/600] Train Acc: 0.81440 Loss: 0.54944 | Val Acc: 0.75034 loss: 0.85841\n"
     ]
    },
    {
     "name": "stderr",
     "output_type": "stream",
     "text": [
      "100%|██████████| 3933/3933 [00:38<00:00, 101.07it/s]\n",
      "100%|██████████| 203/203 [00:00<00:00, 246.85it/s]\n"
     ]
    },
    {
     "name": "stdout",
     "output_type": "stream",
     "text": [
      "[082/600] Train Acc: 0.81413 Loss: 0.54892 | Val Acc: 0.75032 loss: 0.86086\n"
     ]
    },
    {
     "name": "stderr",
     "output_type": "stream",
     "text": [
      "100%|██████████| 3933/3933 [00:38<00:00, 101.13it/s]\n",
      "100%|██████████| 203/203 [00:00<00:00, 255.77it/s]\n"
     ]
    },
    {
     "name": "stdout",
     "output_type": "stream",
     "text": [
      "[083/600] Train Acc: 0.81458 Loss: 0.54714 | Val Acc: 0.75063 loss: 0.86424\n"
     ]
    },
    {
     "name": "stderr",
     "output_type": "stream",
     "text": [
      "100%|██████████| 3933/3933 [00:38<00:00, 102.33it/s]\n",
      "100%|██████████| 203/203 [00:00<00:00, 235.09it/s]\n"
     ]
    },
    {
     "name": "stdout",
     "output_type": "stream",
     "text": [
      "[084/600] Train Acc: 0.81463 Loss: 0.54687 | Val Acc: 0.75028 loss: 0.86600\n"
     ]
    },
    {
     "name": "stderr",
     "output_type": "stream",
     "text": [
      "100%|██████████| 3933/3933 [00:39<00:00, 100.65it/s]\n",
      "100%|██████████| 203/203 [00:00<00:00, 258.67it/s]\n"
     ]
    },
    {
     "name": "stdout",
     "output_type": "stream",
     "text": [
      "[085/600] Train Acc: 0.81491 Loss: 0.54583 | Val Acc: 0.74974 loss: 0.86115\n"
     ]
    },
    {
     "name": "stderr",
     "output_type": "stream",
     "text": [
      "100%|██████████| 3933/3933 [00:38<00:00, 103.39it/s]\n",
      "100%|██████████| 203/203 [00:00<00:00, 253.01it/s]\n"
     ]
    },
    {
     "name": "stdout",
     "output_type": "stream",
     "text": [
      "[086/600] Train Acc: 0.81465 Loss: 0.54622 | Val Acc: 0.75073 loss: 0.86131\n"
     ]
    },
    {
     "name": "stderr",
     "output_type": "stream",
     "text": [
      "100%|██████████| 3933/3933 [00:37<00:00, 105.56it/s]\n",
      "100%|██████████| 203/203 [00:00<00:00, 255.66it/s]\n"
     ]
    },
    {
     "name": "stdout",
     "output_type": "stream",
     "text": [
      "[087/600] Train Acc: 0.81596 Loss: 0.54324 | Val Acc: 0.74925 loss: 0.85449\n"
     ]
    },
    {
     "name": "stderr",
     "output_type": "stream",
     "text": [
      "100%|██████████| 3933/3933 [00:37<00:00, 105.34it/s]\n",
      "100%|██████████| 203/203 [00:00<00:00, 252.92it/s]\n"
     ]
    },
    {
     "name": "stdout",
     "output_type": "stream",
     "text": [
      "[088/600] Train Acc: 0.81610 Loss: 0.54291 | Val Acc: 0.75004 loss: 0.86773\n"
     ]
    },
    {
     "name": "stderr",
     "output_type": "stream",
     "text": [
      "100%|██████████| 3933/3933 [00:38<00:00, 103.50it/s]\n",
      "100%|██████████| 203/203 [00:00<00:00, 284.27it/s]\n"
     ]
    },
    {
     "name": "stdout",
     "output_type": "stream",
     "text": [
      "[089/600] Train Acc: 0.81649 Loss: 0.54143 | Val Acc: 0.74983 loss: 0.86323\n"
     ]
    },
    {
     "name": "stderr",
     "output_type": "stream",
     "text": [
      "100%|██████████| 3933/3933 [00:36<00:00, 106.31it/s]\n",
      "100%|██████████| 203/203 [00:00<00:00, 261.23it/s]\n"
     ]
    },
    {
     "name": "stdout",
     "output_type": "stream",
     "text": [
      "[090/600] Train Acc: 0.81685 Loss: 0.54075 | Val Acc: 0.75001 loss: 0.86575\n"
     ]
    },
    {
     "name": "stderr",
     "output_type": "stream",
     "text": [
      "100%|██████████| 3933/3933 [00:37<00:00, 106.12it/s]\n",
      "100%|██████████| 203/203 [00:00<00:00, 259.13it/s]\n"
     ]
    },
    {
     "name": "stdout",
     "output_type": "stream",
     "text": [
      "[091/600] Train Acc: 0.81690 Loss: 0.53986 | Val Acc: 0.75000 loss: 0.86318\n"
     ]
    },
    {
     "name": "stderr",
     "output_type": "stream",
     "text": [
      "100%|██████████| 3933/3933 [00:37<00:00, 106.07it/s]\n",
      "100%|██████████| 203/203 [00:00<00:00, 282.66it/s]\n"
     ]
    },
    {
     "name": "stdout",
     "output_type": "stream",
     "text": [
      "[092/600] Train Acc: 0.81667 Loss: 0.53991 | Val Acc: 0.75034 loss: 0.86489\n"
     ]
    },
    {
     "name": "stderr",
     "output_type": "stream",
     "text": [
      "100%|██████████| 3933/3933 [00:37<00:00, 104.26it/s]\n",
      "100%|██████████| 203/203 [00:00<00:00, 281.16it/s]\n"
     ]
    },
    {
     "name": "stdout",
     "output_type": "stream",
     "text": [
      "[093/600] Train Acc: 0.81760 Loss: 0.53787 | Val Acc: 0.75024 loss: 0.86483\n"
     ]
    },
    {
     "name": "stderr",
     "output_type": "stream",
     "text": [
      "100%|██████████| 3933/3933 [00:37<00:00, 105.65it/s]\n",
      "100%|██████████| 203/203 [00:00<00:00, 280.24it/s]\n"
     ]
    },
    {
     "name": "stdout",
     "output_type": "stream",
     "text": [
      "[094/600] Train Acc: 0.81795 Loss: 0.53622 | Val Acc: 0.75203 loss: 0.87007\n",
      "saving model with acc 0.75203\n"
     ]
    },
    {
     "name": "stderr",
     "output_type": "stream",
     "text": [
      "100%|██████████| 3933/3933 [00:37<00:00, 105.99it/s]\n",
      "100%|██████████| 203/203 [00:00<00:00, 262.17it/s]\n"
     ]
    },
    {
     "name": "stdout",
     "output_type": "stream",
     "text": [
      "[095/600] Train Acc: 0.81745 Loss: 0.53747 | Val Acc: 0.75035 loss: 0.87140\n"
     ]
    },
    {
     "name": "stderr",
     "output_type": "stream",
     "text": [
      "100%|██████████| 3933/3933 [00:36<00:00, 106.57it/s]\n",
      "100%|██████████| 203/203 [00:00<00:00, 260.21it/s]\n"
     ]
    },
    {
     "name": "stdout",
     "output_type": "stream",
     "text": [
      "[096/600] Train Acc: 0.81814 Loss: 0.53590 | Val Acc: 0.75091 loss: 0.86883\n"
     ]
    },
    {
     "name": "stderr",
     "output_type": "stream",
     "text": [
      "100%|██████████| 3933/3933 [00:36<00:00, 106.64it/s]\n",
      "100%|██████████| 203/203 [00:00<00:00, 261.87it/s]\n"
     ]
    },
    {
     "name": "stdout",
     "output_type": "stream",
     "text": [
      "[097/600] Train Acc: 0.81812 Loss: 0.53481 | Val Acc: 0.75039 loss: 0.86561\n"
     ]
    },
    {
     "name": "stderr",
     "output_type": "stream",
     "text": [
      "100%|██████████| 3933/3933 [00:39<00:00, 100.78it/s]\n",
      "100%|██████████| 203/203 [00:00<00:00, 254.61it/s]\n"
     ]
    },
    {
     "name": "stdout",
     "output_type": "stream",
     "text": [
      "[098/600] Train Acc: 0.81872 Loss: 0.53334 | Val Acc: 0.74970 loss: 0.87585\n"
     ]
    },
    {
     "name": "stderr",
     "output_type": "stream",
     "text": [
      "100%|██████████| 3933/3933 [00:37<00:00, 105.56it/s]\n",
      "100%|██████████| 203/203 [00:00<00:00, 287.66it/s]\n"
     ]
    },
    {
     "name": "stdout",
     "output_type": "stream",
     "text": [
      "[099/600] Train Acc: 0.81890 Loss: 0.53221 | Val Acc: 0.75014 loss: 0.86144\n"
     ]
    },
    {
     "name": "stderr",
     "output_type": "stream",
     "text": [
      "100%|██████████| 3933/3933 [00:37<00:00, 105.42it/s]\n",
      "100%|██████████| 203/203 [00:00<00:00, 264.06it/s]\n"
     ]
    },
    {
     "name": "stdout",
     "output_type": "stream",
     "text": [
      "[100/600] Train Acc: 0.81896 Loss: 0.53212 | Val Acc: 0.74984 loss: 0.86581\n"
     ]
    },
    {
     "name": "stderr",
     "output_type": "stream",
     "text": [
      "100%|██████████| 3933/3933 [00:37<00:00, 105.68it/s]\n",
      "100%|██████████| 203/203 [00:00<00:00, 290.64it/s]\n"
     ]
    },
    {
     "name": "stdout",
     "output_type": "stream",
     "text": [
      "[101/600] Train Acc: 0.81945 Loss: 0.53108 | Val Acc: 0.75068 loss: 0.87886\n"
     ]
    },
    {
     "name": "stderr",
     "output_type": "stream",
     "text": [
      "100%|██████████| 3933/3933 [00:37<00:00, 105.48it/s]\n",
      "100%|██████████| 203/203 [00:00<00:00, 257.36it/s]\n"
     ]
    },
    {
     "name": "stdout",
     "output_type": "stream",
     "text": [
      "[102/600] Train Acc: 0.81965 Loss: 0.53044 | Val Acc: 0.74917 loss: 0.87851\n"
     ]
    },
    {
     "name": "stderr",
     "output_type": "stream",
     "text": [
      "100%|██████████| 3933/3933 [00:36<00:00, 106.72it/s]\n",
      "100%|██████████| 203/203 [00:00<00:00, 252.73it/s]\n"
     ]
    },
    {
     "name": "stdout",
     "output_type": "stream",
     "text": [
      "[103/600] Train Acc: 0.82006 Loss: 0.52956 | Val Acc: 0.74904 loss: 0.87193\n"
     ]
    },
    {
     "name": "stderr",
     "output_type": "stream",
     "text": [
      "100%|██████████| 3933/3933 [00:36<00:00, 106.63it/s]\n",
      "100%|██████████| 203/203 [00:00<00:00, 287.96it/s]\n"
     ]
    },
    {
     "name": "stdout",
     "output_type": "stream",
     "text": [
      "[104/600] Train Acc: 0.82003 Loss: 0.52866 | Val Acc: 0.75064 loss: 0.87089\n"
     ]
    },
    {
     "name": "stderr",
     "output_type": "stream",
     "text": [
      "100%|██████████| 3933/3933 [00:38<00:00, 101.31it/s]\n",
      "100%|██████████| 203/203 [00:00<00:00, 243.08it/s]\n"
     ]
    },
    {
     "name": "stdout",
     "output_type": "stream",
     "text": [
      "[105/600] Train Acc: 0.82034 Loss: 0.52805 | Val Acc: 0.75070 loss: 0.87101\n"
     ]
    },
    {
     "name": "stderr",
     "output_type": "stream",
     "text": [
      "100%|██████████| 3933/3933 [00:37<00:00, 105.62it/s]\n",
      "100%|██████████| 203/203 [00:00<00:00, 288.38it/s]\n"
     ]
    },
    {
     "name": "stdout",
     "output_type": "stream",
     "text": [
      "[106/600] Train Acc: 0.82085 Loss: 0.52730 | Val Acc: 0.74935 loss: 0.89281\n"
     ]
    },
    {
     "name": "stderr",
     "output_type": "stream",
     "text": [
      "100%|██████████| 3933/3933 [00:37<00:00, 105.74it/s]\n",
      "100%|██████████| 203/203 [00:00<00:00, 259.47it/s]\n"
     ]
    },
    {
     "name": "stdout",
     "output_type": "stream",
     "text": [
      "[107/600] Train Acc: 0.82117 Loss: 0.52669 | Val Acc: 0.75081 loss: 0.87087\n"
     ]
    },
    {
     "name": "stderr",
     "output_type": "stream",
     "text": [
      "100%|██████████| 3933/3933 [00:37<00:00, 104.63it/s]\n",
      "100%|██████████| 203/203 [00:00<00:00, 277.42it/s]\n"
     ]
    },
    {
     "name": "stdout",
     "output_type": "stream",
     "text": [
      "[108/600] Train Acc: 0.82134 Loss: 0.52530 | Val Acc: 0.75101 loss: 0.87413\n"
     ]
    },
    {
     "name": "stderr",
     "output_type": "stream",
     "text": [
      "100%|██████████| 3933/3933 [00:37<00:00, 106.16it/s]\n",
      "100%|██████████| 203/203 [00:00<00:00, 265.37it/s]\n"
     ]
    },
    {
     "name": "stdout",
     "output_type": "stream",
     "text": [
      "[109/600] Train Acc: 0.82131 Loss: 0.52548 | Val Acc: 0.75137 loss: 0.87232\n"
     ]
    },
    {
     "name": "stderr",
     "output_type": "stream",
     "text": [
      "100%|██████████| 3933/3933 [00:36<00:00, 106.30it/s]\n",
      "100%|██████████| 203/203 [00:00<00:00, 257.94it/s]\n"
     ]
    },
    {
     "name": "stdout",
     "output_type": "stream",
     "text": [
      "[110/600] Train Acc: 0.82150 Loss: 0.52438 | Val Acc: 0.75041 loss: 0.87432\n"
     ]
    },
    {
     "name": "stderr",
     "output_type": "stream",
     "text": [
      "100%|██████████| 3933/3933 [00:37<00:00, 105.85it/s]\n",
      "100%|██████████| 203/203 [00:00<00:00, 273.41it/s]\n"
     ]
    },
    {
     "name": "stdout",
     "output_type": "stream",
     "text": [
      "[111/600] Train Acc: 0.82188 Loss: 0.52311 | Val Acc: 0.75266 loss: 0.87548\n",
      "saving model with acc 0.75266\n"
     ]
    },
    {
     "name": "stderr",
     "output_type": "stream",
     "text": [
      "100%|██████████| 3933/3933 [00:37<00:00, 105.70it/s]\n",
      "100%|██████████| 203/203 [00:00<00:00, 255.52it/s]\n"
     ]
    },
    {
     "name": "stdout",
     "output_type": "stream",
     "text": [
      "[112/600] Train Acc: 0.82211 Loss: 0.52225 | Val Acc: 0.75206 loss: 0.87829\n"
     ]
    },
    {
     "name": "stderr",
     "output_type": "stream",
     "text": [
      "100%|██████████| 3933/3933 [00:37<00:00, 105.48it/s]\n",
      "100%|██████████| 203/203 [00:00<00:00, 275.35it/s]\n"
     ]
    },
    {
     "name": "stdout",
     "output_type": "stream",
     "text": [
      "[113/600] Train Acc: 0.82243 Loss: 0.52148 | Val Acc: 0.75057 loss: 0.87633\n"
     ]
    },
    {
     "name": "stderr",
     "output_type": "stream",
     "text": [
      "100%|██████████| 3933/3933 [00:37<00:00, 105.98it/s]\n",
      "100%|██████████| 203/203 [00:00<00:00, 255.63it/s]\n"
     ]
    },
    {
     "name": "stdout",
     "output_type": "stream",
     "text": [
      "[114/600] Train Acc: 0.82242 Loss: 0.52157 | Val Acc: 0.75208 loss: 0.87881\n"
     ]
    },
    {
     "name": "stderr",
     "output_type": "stream",
     "text": [
      "100%|██████████| 3933/3933 [00:36<00:00, 106.42it/s]\n",
      "100%|██████████| 203/203 [00:00<00:00, 274.40it/s]\n"
     ]
    },
    {
     "name": "stdout",
     "output_type": "stream",
     "text": [
      "[115/600] Train Acc: 0.82240 Loss: 0.52058 | Val Acc: 0.75194 loss: 0.88002\n"
     ]
    },
    {
     "name": "stderr",
     "output_type": "stream",
     "text": [
      "100%|██████████| 3933/3933 [00:37<00:00, 104.66it/s]\n",
      "100%|██████████| 203/203 [00:00<00:00, 260.38it/s]\n"
     ]
    },
    {
     "name": "stdout",
     "output_type": "stream",
     "text": [
      "[116/600] Train Acc: 0.82243 Loss: 0.52057 | Val Acc: 0.75186 loss: 0.87429\n"
     ]
    },
    {
     "name": "stderr",
     "output_type": "stream",
     "text": [
      "100%|██████████| 3933/3933 [00:37<00:00, 104.93it/s]\n",
      "100%|██████████| 203/203 [00:00<00:00, 262.30it/s]\n"
     ]
    },
    {
     "name": "stdout",
     "output_type": "stream",
     "text": [
      "[117/600] Train Acc: 0.82320 Loss: 0.51858 | Val Acc: 0.75240 loss: 0.88280\n"
     ]
    },
    {
     "name": "stderr",
     "output_type": "stream",
     "text": [
      "100%|██████████| 3933/3933 [00:37<00:00, 105.27it/s]\n",
      "100%|██████████| 203/203 [00:00<00:00, 288.05it/s]\n"
     ]
    },
    {
     "name": "stdout",
     "output_type": "stream",
     "text": [
      "[118/600] Train Acc: 0.82307 Loss: 0.51910 | Val Acc: 0.75137 loss: 0.86669\n"
     ]
    },
    {
     "name": "stderr",
     "output_type": "stream",
     "text": [
      "100%|██████████| 3933/3933 [00:37<00:00, 105.70it/s]\n",
      "100%|██████████| 203/203 [00:00<00:00, 264.97it/s]\n"
     ]
    },
    {
     "name": "stdout",
     "output_type": "stream",
     "text": [
      "[119/600] Train Acc: 0.82344 Loss: 0.51827 | Val Acc: 0.75284 loss: 0.87396\n",
      "saving model with acc 0.75284\n"
     ]
    },
    {
     "name": "stderr",
     "output_type": "stream",
     "text": [
      "100%|██████████| 3933/3933 [00:37<00:00, 104.76it/s]\n",
      "100%|██████████| 203/203 [00:00<00:00, 276.60it/s]\n"
     ]
    },
    {
     "name": "stdout",
     "output_type": "stream",
     "text": [
      "[120/600] Train Acc: 0.82363 Loss: 0.51717 | Val Acc: 0.75117 loss: 0.87951\n"
     ]
    },
    {
     "name": "stderr",
     "output_type": "stream",
     "text": [
      "100%|██████████| 3933/3933 [00:37<00:00, 104.50it/s]\n",
      "100%|██████████| 203/203 [00:00<00:00, 240.48it/s]\n"
     ]
    },
    {
     "name": "stdout",
     "output_type": "stream",
     "text": [
      "[121/600] Train Acc: 0.82367 Loss: 0.51712 | Val Acc: 0.75222 loss: 0.88515\n"
     ]
    },
    {
     "name": "stderr",
     "output_type": "stream",
     "text": [
      "100%|██████████| 3933/3933 [00:40<00:00, 98.20it/s] \n",
      "100%|██████████| 203/203 [00:00<00:00, 265.77it/s]\n"
     ]
    },
    {
     "name": "stdout",
     "output_type": "stream",
     "text": [
      "[122/600] Train Acc: 0.82366 Loss: 0.51637 | Val Acc: 0.75035 loss: 0.88484\n"
     ]
    },
    {
     "name": "stderr",
     "output_type": "stream",
     "text": [
      "100%|██████████| 3933/3933 [00:36<00:00, 107.56it/s]\n",
      "100%|██████████| 203/203 [00:00<00:00, 262.31it/s]\n"
     ]
    },
    {
     "name": "stdout",
     "output_type": "stream",
     "text": [
      "[123/600] Train Acc: 0.82414 Loss: 0.51511 | Val Acc: 0.75111 loss: 0.88886\n"
     ]
    },
    {
     "name": "stderr",
     "output_type": "stream",
     "text": [
      "100%|██████████| 3933/3933 [00:36<00:00, 107.42it/s]\n",
      "100%|██████████| 203/203 [00:00<00:00, 263.45it/s]\n"
     ]
    },
    {
     "name": "stdout",
     "output_type": "stream",
     "text": [
      "[124/600] Train Acc: 0.82423 Loss: 0.51482 | Val Acc: 0.75170 loss: 0.88767\n"
     ]
    },
    {
     "name": "stderr",
     "output_type": "stream",
     "text": [
      "100%|██████████| 3933/3933 [00:38<00:00, 101.36it/s]\n",
      "100%|██████████| 203/203 [00:00<00:00, 277.63it/s]\n"
     ]
    },
    {
     "name": "stdout",
     "output_type": "stream",
     "text": [
      "[125/600] Train Acc: 0.82447 Loss: 0.51441 | Val Acc: 0.75190 loss: 0.87908\n"
     ]
    },
    {
     "name": "stderr",
     "output_type": "stream",
     "text": [
      "100%|██████████| 3933/3933 [00:36<00:00, 106.40it/s]\n",
      "100%|██████████| 203/203 [00:00<00:00, 292.94it/s]\n"
     ]
    },
    {
     "name": "stdout",
     "output_type": "stream",
     "text": [
      "[126/600] Train Acc: 0.82493 Loss: 0.51309 | Val Acc: 0.75054 loss: 0.89583\n"
     ]
    },
    {
     "name": "stderr",
     "output_type": "stream",
     "text": [
      "100%|██████████| 3933/3933 [00:36<00:00, 107.58it/s]\n",
      "100%|██████████| 203/203 [00:00<00:00, 269.23it/s]\n"
     ]
    },
    {
     "name": "stdout",
     "output_type": "stream",
     "text": [
      "[127/600] Train Acc: 0.82515 Loss: 0.51275 | Val Acc: 0.74986 loss: 0.87994\n"
     ]
    },
    {
     "name": "stderr",
     "output_type": "stream",
     "text": [
      "100%|██████████| 3933/3933 [00:36<00:00, 107.96it/s]\n",
      "100%|██████████| 203/203 [00:00<00:00, 262.95it/s]\n"
     ]
    },
    {
     "name": "stdout",
     "output_type": "stream",
     "text": [
      "[128/600] Train Acc: 0.82525 Loss: 0.51231 | Val Acc: 0.75204 loss: 0.87937\n"
     ]
    },
    {
     "name": "stderr",
     "output_type": "stream",
     "text": [
      "100%|██████████| 3933/3933 [00:36<00:00, 107.97it/s]\n",
      "100%|██████████| 203/203 [00:00<00:00, 259.61it/s]\n"
     ]
    },
    {
     "name": "stdout",
     "output_type": "stream",
     "text": [
      "[129/600] Train Acc: 0.82553 Loss: 0.51124 | Val Acc: 0.75233 loss: 0.88340\n"
     ]
    },
    {
     "name": "stderr",
     "output_type": "stream",
     "text": [
      "100%|██████████| 3933/3933 [00:37<00:00, 104.80it/s]\n",
      "100%|██████████| 203/203 [00:00<00:00, 281.02it/s]\n"
     ]
    },
    {
     "name": "stdout",
     "output_type": "stream",
     "text": [
      "[130/600] Train Acc: 0.82554 Loss: 0.51080 | Val Acc: 0.75176 loss: 0.88462\n"
     ]
    },
    {
     "name": "stderr",
     "output_type": "stream",
     "text": [
      "100%|██████████| 3933/3933 [00:38<00:00, 100.99it/s]\n",
      "100%|██████████| 203/203 [00:00<00:00, 251.12it/s]\n"
     ]
    },
    {
     "name": "stdout",
     "output_type": "stream",
     "text": [
      "[131/600] Train Acc: 0.82602 Loss: 0.50993 | Val Acc: 0.75058 loss: 0.88843\n"
     ]
    },
    {
     "name": "stderr",
     "output_type": "stream",
     "text": [
      "100%|██████████| 3933/3933 [00:37<00:00, 103.74it/s]\n",
      "100%|██████████| 203/203 [00:00<00:00, 282.10it/s]\n"
     ]
    },
    {
     "name": "stdout",
     "output_type": "stream",
     "text": [
      "[132/600] Train Acc: 0.82544 Loss: 0.51122 | Val Acc: 0.75117 loss: 0.88011\n"
     ]
    },
    {
     "name": "stderr",
     "output_type": "stream",
     "text": [
      "100%|██████████| 3933/3933 [00:39<00:00, 99.52it/s] \n",
      "100%|██████████| 203/203 [00:00<00:00, 249.51it/s]\n"
     ]
    },
    {
     "name": "stdout",
     "output_type": "stream",
     "text": [
      "[133/600] Train Acc: 0.82595 Loss: 0.50975 | Val Acc: 0.75113 loss: 0.89710\n"
     ]
    },
    {
     "name": "stderr",
     "output_type": "stream",
     "text": [
      "100%|██████████| 3933/3933 [00:38<00:00, 101.64it/s]\n",
      "100%|██████████| 203/203 [00:00<00:00, 262.48it/s]\n"
     ]
    },
    {
     "name": "stdout",
     "output_type": "stream",
     "text": [
      "[134/600] Train Acc: 0.82601 Loss: 0.50870 | Val Acc: 0.75237 loss: 0.89252\n"
     ]
    },
    {
     "name": "stderr",
     "output_type": "stream",
     "text": [
      "100%|██████████| 3933/3933 [00:37<00:00, 103.83it/s]\n",
      "100%|██████████| 203/203 [00:00<00:00, 242.06it/s]\n"
     ]
    },
    {
     "name": "stdout",
     "output_type": "stream",
     "text": [
      "[135/600] Train Acc: 0.82664 Loss: 0.50756 | Val Acc: 0.75053 loss: 0.88308\n"
     ]
    },
    {
     "name": "stderr",
     "output_type": "stream",
     "text": [
      "100%|██████████| 3933/3933 [00:38<00:00, 103.40it/s]\n",
      "100%|██████████| 203/203 [00:00<00:00, 255.07it/s]\n"
     ]
    },
    {
     "name": "stdout",
     "output_type": "stream",
     "text": [
      "[136/600] Train Acc: 0.82633 Loss: 0.50799 | Val Acc: 0.75138 loss: 0.88786\n"
     ]
    },
    {
     "name": "stderr",
     "output_type": "stream",
     "text": [
      "100%|██████████| 3933/3933 [00:37<00:00, 104.29it/s]\n",
      "100%|██████████| 203/203 [00:00<00:00, 279.49it/s]\n"
     ]
    },
    {
     "name": "stdout",
     "output_type": "stream",
     "text": [
      "[137/600] Train Acc: 0.82671 Loss: 0.50702 | Val Acc: 0.75246 loss: 0.88818\n"
     ]
    },
    {
     "name": "stderr",
     "output_type": "stream",
     "text": [
      "100%|██████████| 3933/3933 [00:37<00:00, 103.52it/s]\n",
      "100%|██████████| 203/203 [00:00<00:00, 220.93it/s]\n"
     ]
    },
    {
     "name": "stdout",
     "output_type": "stream",
     "text": [
      "[138/600] Train Acc: 0.82709 Loss: 0.50603 | Val Acc: 0.75224 loss: 0.88235\n"
     ]
    },
    {
     "name": "stderr",
     "output_type": "stream",
     "text": [
      "100%|██████████| 3933/3933 [00:37<00:00, 104.02it/s]\n",
      "100%|██████████| 203/203 [00:00<00:00, 272.19it/s]\n"
     ]
    },
    {
     "name": "stdout",
     "output_type": "stream",
     "text": [
      "[139/600] Train Acc: 0.82689 Loss: 0.50626 | Val Acc: 0.75127 loss: 0.89133\n"
     ]
    },
    {
     "name": "stderr",
     "output_type": "stream",
     "text": [
      "100%|██████████| 3933/3933 [00:38<00:00, 103.43it/s]\n",
      "100%|██████████| 203/203 [00:00<00:00, 259.97it/s]\n"
     ]
    },
    {
     "name": "stdout",
     "output_type": "stream",
     "text": [
      "[140/600] Train Acc: 0.82704 Loss: 0.50591 | Val Acc: 0.75065 loss: 0.87974\n"
     ]
    },
    {
     "name": "stderr",
     "output_type": "stream",
     "text": [
      "100%|██████████| 3933/3933 [00:37<00:00, 104.00it/s]\n",
      "100%|██████████| 203/203 [00:00<00:00, 261.95it/s]\n"
     ]
    },
    {
     "name": "stdout",
     "output_type": "stream",
     "text": [
      "[141/600] Train Acc: 0.82713 Loss: 0.50600 | Val Acc: 0.75137 loss: 0.88625\n"
     ]
    },
    {
     "name": "stderr",
     "output_type": "stream",
     "text": [
      "100%|██████████| 3933/3933 [00:39<00:00, 99.74it/s] \n",
      "100%|██████████| 203/203 [00:00<00:00, 247.55it/s]\n"
     ]
    },
    {
     "name": "stdout",
     "output_type": "stream",
     "text": [
      "[142/600] Train Acc: 0.82791 Loss: 0.50383 | Val Acc: 0.75089 loss: 0.89179\n"
     ]
    },
    {
     "name": "stderr",
     "output_type": "stream",
     "text": [
      "100%|██████████| 3933/3933 [00:38<00:00, 103.14it/s]\n",
      "100%|██████████| 203/203 [00:00<00:00, 249.38it/s]\n"
     ]
    },
    {
     "name": "stdout",
     "output_type": "stream",
     "text": [
      "[143/600] Train Acc: 0.82791 Loss: 0.50332 | Val Acc: 0.75193 loss: 0.89229\n"
     ]
    },
    {
     "name": "stderr",
     "output_type": "stream",
     "text": [
      "100%|██████████| 3933/3933 [00:37<00:00, 103.68it/s]\n",
      "100%|██████████| 203/203 [00:00<00:00, 273.97it/s]\n"
     ]
    },
    {
     "name": "stdout",
     "output_type": "stream",
     "text": [
      "[144/600] Train Acc: 0.82783 Loss: 0.50322 | Val Acc: 0.75191 loss: 0.88787\n"
     ]
    },
    {
     "name": "stderr",
     "output_type": "stream",
     "text": [
      "100%|██████████| 3933/3933 [00:37<00:00, 103.59it/s]\n",
      "100%|██████████| 203/203 [00:00<00:00, 254.12it/s]\n"
     ]
    },
    {
     "name": "stdout",
     "output_type": "stream",
     "text": [
      "[145/600] Train Acc: 0.82809 Loss: 0.50307 | Val Acc: 0.75214 loss: 0.88214\n"
     ]
    },
    {
     "name": "stderr",
     "output_type": "stream",
     "text": [
      "100%|██████████| 3933/3933 [00:38<00:00, 101.43it/s]\n",
      "100%|██████████| 203/203 [00:01<00:00, 161.15it/s]\n"
     ]
    },
    {
     "name": "stdout",
     "output_type": "stream",
     "text": [
      "[146/600] Train Acc: 0.82772 Loss: 0.50341 | Val Acc: 0.75312 loss: 0.89568\n",
      "saving model with acc 0.75312\n"
     ]
    },
    {
     "name": "stderr",
     "output_type": "stream",
     "text": [
      "100%|██████████| 3933/3933 [00:40<00:00, 97.86it/s] \n",
      "100%|██████████| 203/203 [00:00<00:00, 251.15it/s]\n"
     ]
    },
    {
     "name": "stdout",
     "output_type": "stream",
     "text": [
      "[147/600] Train Acc: 0.82774 Loss: 0.50284 | Val Acc: 0.75195 loss: 0.88645\n"
     ]
    },
    {
     "name": "stderr",
     "output_type": "stream",
     "text": [
      "100%|██████████| 3933/3933 [00:38<00:00, 103.09it/s]\n",
      "100%|██████████| 203/203 [00:00<00:00, 241.65it/s]\n"
     ]
    },
    {
     "name": "stdout",
     "output_type": "stream",
     "text": [
      "[148/600] Train Acc: 0.82849 Loss: 0.50183 | Val Acc: 0.75229 loss: 0.89541\n"
     ]
    },
    {
     "name": "stderr",
     "output_type": "stream",
     "text": [
      "100%|██████████| 3933/3933 [00:38<00:00, 103.04it/s]\n",
      "100%|██████████| 203/203 [00:00<00:00, 228.87it/s]\n"
     ]
    },
    {
     "name": "stdout",
     "output_type": "stream",
     "text": [
      "[149/600] Train Acc: 0.82847 Loss: 0.50134 | Val Acc: 0.75157 loss: 0.87674\n"
     ]
    },
    {
     "name": "stderr",
     "output_type": "stream",
     "text": [
      "100%|██████████| 3933/3933 [00:38<00:00, 103.05it/s]\n",
      "100%|██████████| 203/203 [00:00<00:00, 253.54it/s]\n"
     ]
    },
    {
     "name": "stdout",
     "output_type": "stream",
     "text": [
      "[150/600] Train Acc: 0.82910 Loss: 0.49984 | Val Acc: 0.75194 loss: 0.88904\n"
     ]
    },
    {
     "name": "stderr",
     "output_type": "stream",
     "text": [
      "100%|██████████| 3933/3933 [00:40<00:00, 96.21it/s] \n",
      "100%|██████████| 203/203 [00:00<00:00, 225.42it/s]\n"
     ]
    },
    {
     "name": "stdout",
     "output_type": "stream",
     "text": [
      "[151/600] Train Acc: 0.82856 Loss: 0.50059 | Val Acc: 0.75164 loss: 0.89061\n"
     ]
    },
    {
     "name": "stderr",
     "output_type": "stream",
     "text": [
      "100%|██████████| 3933/3933 [00:38<00:00, 102.01it/s]\n",
      "100%|██████████| 203/203 [00:00<00:00, 265.92it/s]\n"
     ]
    },
    {
     "name": "stdout",
     "output_type": "stream",
     "text": [
      "[152/600] Train Acc: 0.82886 Loss: 0.49973 | Val Acc: 0.75140 loss: 0.88674\n"
     ]
    },
    {
     "name": "stderr",
     "output_type": "stream",
     "text": [
      "100%|██████████| 3933/3933 [00:38<00:00, 103.45it/s]\n",
      "100%|██████████| 203/203 [00:00<00:00, 281.84it/s]\n"
     ]
    },
    {
     "name": "stdout",
     "output_type": "stream",
     "text": [
      "[153/600] Train Acc: 0.82906 Loss: 0.49940 | Val Acc: 0.75134 loss: 0.88779\n"
     ]
    },
    {
     "name": "stderr",
     "output_type": "stream",
     "text": [
      "100%|██████████| 3933/3933 [00:37<00:00, 103.61it/s]\n",
      "100%|██████████| 203/203 [00:00<00:00, 231.46it/s]\n"
     ]
    },
    {
     "name": "stdout",
     "output_type": "stream",
     "text": [
      "[154/600] Train Acc: 0.82951 Loss: 0.49810 | Val Acc: 0.75246 loss: 0.87924\n"
     ]
    },
    {
     "name": "stderr",
     "output_type": "stream",
     "text": [
      "100%|██████████| 3933/3933 [00:38<00:00, 102.86it/s]\n",
      "100%|██████████| 203/203 [00:00<00:00, 242.16it/s]\n"
     ]
    },
    {
     "name": "stdout",
     "output_type": "stream",
     "text": [
      "[155/600] Train Acc: 0.82946 Loss: 0.49795 | Val Acc: 0.75236 loss: 0.90139\n"
     ]
    },
    {
     "name": "stderr",
     "output_type": "stream",
     "text": [
      "100%|██████████| 3933/3933 [00:38<00:00, 102.85it/s]\n",
      "100%|██████████| 203/203 [00:00<00:00, 246.07it/s]\n"
     ]
    },
    {
     "name": "stdout",
     "output_type": "stream",
     "text": [
      "[156/600] Train Acc: 0.82951 Loss: 0.49799 | Val Acc: 0.75154 loss: 0.89040\n"
     ]
    },
    {
     "name": "stderr",
     "output_type": "stream",
     "text": [
      "100%|██████████| 3933/3933 [00:37<00:00, 103.52it/s]\n",
      "100%|██████████| 203/203 [00:00<00:00, 254.16it/s]\n"
     ]
    },
    {
     "name": "stdout",
     "output_type": "stream",
     "text": [
      "[157/600] Train Acc: 0.82937 Loss: 0.49795 | Val Acc: 0.75254 loss: 0.88712\n"
     ]
    },
    {
     "name": "stderr",
     "output_type": "stream",
     "text": [
      "100%|██████████| 3933/3933 [00:38<00:00, 102.78it/s]\n",
      "100%|██████████| 203/203 [00:00<00:00, 273.10it/s]\n"
     ]
    },
    {
     "name": "stdout",
     "output_type": "stream",
     "text": [
      "[158/600] Train Acc: 0.83010 Loss: 0.49628 | Val Acc: 0.75164 loss: 0.90190\n"
     ]
    },
    {
     "name": "stderr",
     "output_type": "stream",
     "text": [
      "100%|██████████| 3933/3933 [00:38<00:00, 102.57it/s]\n",
      "100%|██████████| 203/203 [00:00<00:00, 263.85it/s]\n"
     ]
    },
    {
     "name": "stdout",
     "output_type": "stream",
     "text": [
      "[159/600] Train Acc: 0.83012 Loss: 0.49608 | Val Acc: 0.75184 loss: 0.89419\n"
     ]
    },
    {
     "name": "stderr",
     "output_type": "stream",
     "text": [
      "100%|██████████| 3933/3933 [00:41<00:00, 93.84it/s] \n",
      "100%|██████████| 203/203 [00:00<00:00, 294.50it/s]\n"
     ]
    },
    {
     "name": "stdout",
     "output_type": "stream",
     "text": [
      "[160/600] Train Acc: 0.83045 Loss: 0.49531 | Val Acc: 0.75186 loss: 0.88913\n"
     ]
    },
    {
     "name": "stderr",
     "output_type": "stream",
     "text": [
      "100%|██████████| 3933/3933 [00:35<00:00, 111.66it/s]\n",
      "100%|██████████| 203/203 [00:00<00:00, 282.80it/s]\n"
     ]
    },
    {
     "name": "stdout",
     "output_type": "stream",
     "text": [
      "[161/600] Train Acc: 0.83024 Loss: 0.49575 | Val Acc: 0.75118 loss: 0.90022\n"
     ]
    },
    {
     "name": "stderr",
     "output_type": "stream",
     "text": [
      "100%|██████████| 3933/3933 [00:35<00:00, 112.36it/s]\n",
      "100%|██████████| 203/203 [00:00<00:00, 282.60it/s]\n"
     ]
    },
    {
     "name": "stdout",
     "output_type": "stream",
     "text": [
      "[162/600] Train Acc: 0.83058 Loss: 0.49455 | Val Acc: 0.75191 loss: 0.90007\n"
     ]
    },
    {
     "name": "stderr",
     "output_type": "stream",
     "text": [
      "100%|██████████| 3933/3933 [00:34<00:00, 112.40it/s]\n",
      "100%|██████████| 203/203 [00:00<00:00, 306.90it/s]\n"
     ]
    },
    {
     "name": "stdout",
     "output_type": "stream",
     "text": [
      "[163/600] Train Acc: 0.83108 Loss: 0.49359 | Val Acc: 0.75200 loss: 0.90378\n"
     ]
    },
    {
     "name": "stderr",
     "output_type": "stream",
     "text": [
      "100%|██████████| 3933/3933 [00:35<00:00, 109.54it/s]\n",
      "100%|██████████| 203/203 [00:00<00:00, 264.41it/s]\n"
     ]
    },
    {
     "name": "stdout",
     "output_type": "stream",
     "text": [
      "[164/600] Train Acc: 0.83103 Loss: 0.49326 | Val Acc: 0.75135 loss: 0.89030\n"
     ]
    },
    {
     "name": "stderr",
     "output_type": "stream",
     "text": [
      "100%|██████████| 3933/3933 [00:37<00:00, 104.86it/s]\n",
      "100%|██████████| 203/203 [00:00<00:00, 294.13it/s]\n"
     ]
    },
    {
     "name": "stdout",
     "output_type": "stream",
     "text": [
      "[165/600] Train Acc: 0.83069 Loss: 0.49318 | Val Acc: 0.75118 loss: 0.89716\n"
     ]
    },
    {
     "name": "stderr",
     "output_type": "stream",
     "text": [
      " 56%|█████▌    | 2209/3933 [00:19<00:15, 111.53it/s]\n"
     ]
    },
    {
     "ename": "KeyboardInterrupt",
     "evalue": "",
     "output_type": "error",
     "traceback": [
      "\u001b[1;31m---------------------------------------------------------------------------\u001b[0m",
      "\u001b[1;31mKeyboardInterrupt\u001b[0m                         Traceback (most recent call last)",
      "Cell \u001b[1;32mIn[50], line 28\u001b[0m\n\u001b[0;32m     25\u001b[0m outputs \u001b[38;5;241m=\u001b[39m model(features)\n\u001b[0;32m     27\u001b[0m loss \u001b[38;5;241m=\u001b[39m criterion(outputs, labels)\n\u001b[1;32m---> 28\u001b[0m loss\u001b[38;5;241m.\u001b[39mbackward()\n\u001b[0;32m     29\u001b[0m optimizer\u001b[38;5;241m.\u001b[39mstep()\n\u001b[0;32m     31\u001b[0m \u001b[38;5;66;03m# get the index of the class with the highest probability\u001b[39;00m\n",
      "File \u001b[1;32mC:\\ProgramData\\anaconda3\\Lib\\site-packages\\torch\\_tensor.py:492\u001b[0m, in \u001b[0;36mTensor.backward\u001b[1;34m(self, gradient, retain_graph, create_graph, inputs)\u001b[0m\n\u001b[0;32m    482\u001b[0m \u001b[38;5;28;01mif\u001b[39;00m has_torch_function_unary(\u001b[38;5;28mself\u001b[39m):\n\u001b[0;32m    483\u001b[0m     \u001b[38;5;28;01mreturn\u001b[39;00m handle_torch_function(\n\u001b[0;32m    484\u001b[0m         Tensor\u001b[38;5;241m.\u001b[39mbackward,\n\u001b[0;32m    485\u001b[0m         (\u001b[38;5;28mself\u001b[39m,),\n\u001b[1;32m   (...)\u001b[0m\n\u001b[0;32m    490\u001b[0m         inputs\u001b[38;5;241m=\u001b[39minputs,\n\u001b[0;32m    491\u001b[0m     )\n\u001b[1;32m--> 492\u001b[0m torch\u001b[38;5;241m.\u001b[39mautograd\u001b[38;5;241m.\u001b[39mbackward(\n\u001b[0;32m    493\u001b[0m     \u001b[38;5;28mself\u001b[39m, gradient, retain_graph, create_graph, inputs\u001b[38;5;241m=\u001b[39minputs\n\u001b[0;32m    494\u001b[0m )\n",
      "File \u001b[1;32mC:\\ProgramData\\anaconda3\\Lib\\site-packages\\torch\\autograd\\__init__.py:251\u001b[0m, in \u001b[0;36mbackward\u001b[1;34m(tensors, grad_tensors, retain_graph, create_graph, grad_variables, inputs)\u001b[0m\n\u001b[0;32m    246\u001b[0m     retain_graph \u001b[38;5;241m=\u001b[39m create_graph\n\u001b[0;32m    248\u001b[0m \u001b[38;5;66;03m# The reason we repeat the same comment below is that\u001b[39;00m\n\u001b[0;32m    249\u001b[0m \u001b[38;5;66;03m# some Python versions print out the first line of a multi-line function\u001b[39;00m\n\u001b[0;32m    250\u001b[0m \u001b[38;5;66;03m# calls in the traceback and some print out the last line\u001b[39;00m\n\u001b[1;32m--> 251\u001b[0m Variable\u001b[38;5;241m.\u001b[39m_execution_engine\u001b[38;5;241m.\u001b[39mrun_backward(  \u001b[38;5;66;03m# Calls into the C++ engine to run the backward pass\u001b[39;00m\n\u001b[0;32m    252\u001b[0m     tensors,\n\u001b[0;32m    253\u001b[0m     grad_tensors_,\n\u001b[0;32m    254\u001b[0m     retain_graph,\n\u001b[0;32m    255\u001b[0m     create_graph,\n\u001b[0;32m    256\u001b[0m     inputs,\n\u001b[0;32m    257\u001b[0m     allow_unreachable\u001b[38;5;241m=\u001b[39m\u001b[38;5;28;01mTrue\u001b[39;00m,\n\u001b[0;32m    258\u001b[0m     accumulate_grad\u001b[38;5;241m=\u001b[39m\u001b[38;5;28;01mTrue\u001b[39;00m,\n\u001b[0;32m    259\u001b[0m )\n",
      "\u001b[1;31mKeyboardInterrupt\u001b[0m: "
     ]
    }
   ],
   "source": [
    "# log train start time\n",
    "starttime = datetime.datetime.now()\n",
    "\n",
    "# create model, define a loss function, and optimizer\n",
    "model = Classifier(input_dim=input_dim, hidden_layers=hidden_layers,\n",
    "                   hidden_dim=hidden_dim, dropout_p=dropout_p).to(device)\n",
    "criterion = nn.CrossEntropyLoss()\n",
    "optimizer = torch.optim.Adam(model.parameters(), lr=learning_rate)\n",
    "\n",
    "best_acc = 0.0\n",
    "for epoch in range(num_epoch):\n",
    "    train_acc = 0.0\n",
    "    train_loss = 0.0\n",
    "    val_acc = 0.0\n",
    "    val_loss = 0.0\n",
    "\n",
    "    # training\n",
    "    model.train()  # set the model to training mode\n",
    "    for i, batch in enumerate(tqdm(train_loader)):\n",
    "        features, labels = batch\n",
    "        features = features.to(device)\n",
    "        labels = labels.to(device)\n",
    "\n",
    "        optimizer.zero_grad()\n",
    "        outputs = model(features)\n",
    "\n",
    "        loss = criterion(outputs, labels)\n",
    "        loss.backward()\n",
    "        optimizer.step()\n",
    "\n",
    "        # get the index of the class with the highest probability\n",
    "        _, train_pred = torch.max(outputs, 1)\n",
    "        train_acc += (train_pred.detach() == labels.detach()).sum().item()\n",
    "        train_loss += loss.item()\n",
    "\n",
    "    # validation\n",
    "    model.eval()  # set the model to evaluation mode\n",
    "    with torch.no_grad():\n",
    "        for i, batch in enumerate(tqdm(val_loader)):\n",
    "            features, labels = batch\n",
    "            features = features.to(device)\n",
    "            labels = labels.to(device)\n",
    "            outputs = model(features)\n",
    "\n",
    "            loss = criterion(outputs, labels)\n",
    "\n",
    "            _, val_pred = torch.max(outputs, 1)\n",
    "            # get the index of the class with the highest probability\n",
    "            val_acc += (val_pred.cpu() == labels.cpu()).sum().item()\n",
    "            val_loss += loss.item()\n",
    "\n",
    "    print(f'[{epoch+1:03d}/{num_epoch:03d}] Train Acc: {train_acc/len(train_set):3.5f} Loss: {train_loss/len(train_loader):3.5f} | Val Acc: {val_acc/len(val_set):3.5f} loss: {val_loss/len(val_loader):3.5f}')\n",
    "\n",
    "    # if the model improves, save a checkpoint at this epoch\n",
    "    if val_acc > best_acc:\n",
    "        best_acc = val_acc\n",
    "        torch.save(model.state_dict(), model_path)\n",
    "        print(f'saving model with acc {best_acc/len(val_set):.5f}')\n",
    "\n",
    "# log train cost time\n",
    "print('total train start at:', starttime)\n",
    "print('concat_nframes:', concat_nframes, ',num_epoch:',\n",
    "      num_epoch, ',learning_rate:', learning_rate, ',Dropout:',dropout_p)\n",
    "totalseconds = (datetime.datetime.now()-starttime).seconds\n",
    "print('total train cost: ', math.floor(totalseconds/60),\n",
    "      'minutes', totalseconds % 60, 'seconds (total seconds:', totalseconds, 's).')"
   ]
  },
  {
   "cell_type": "code",
   "execution_count": 51,
   "metadata": {
    "id": "ab33MxosWLmG"
   },
   "outputs": [
    {
     "data": {
      "text/plain": [
       "1349"
      ]
     },
     "execution_count": 51,
     "metadata": {},
     "output_type": "execute_result"
    }
   ],
   "source": [
    "del train_set, val_set\n",
    "del train_loader, val_loader\n",
    "gc.collect()"
   ]
  },
  {
   "cell_type": "markdown",
   "metadata": {
    "id": "1Hi7jTn3PX-m"
   },
   "source": [
    "# Testing\n",
    "Create a testing dataset, and load model from the saved checkpoint."
   ]
  },
  {
   "cell_type": "code",
   "execution_count": 163,
   "metadata": {
    "id": "VOG1Ou0PGrhc"
   },
   "outputs": [
    {
     "name": "stdout",
     "output_type": "stream",
     "text": [
      "[Dataset] - # phone classes: 41, number of utterances for test: 857\n"
     ]
    },
    {
     "name": "stderr",
     "output_type": "stream",
     "text": [
      "857it [00:03, 239.62it/s]"
     ]
    },
    {
     "name": "stdout",
     "output_type": "stream",
     "text": [
      "[INFO] test set\n",
      "torch.Size([527364, 819])\n"
     ]
    },
    {
     "name": "stderr",
     "output_type": "stream",
     "text": [
      "\n"
     ]
    }
   ],
   "source": [
    "# load data\n",
    "test_X = preprocess_data(split='test', feat_dir='./libriphone/feat',\n",
    "                         phone_path='./libriphone', concat_nframes=concat_nframes)\n",
    "test_set = LibriDataset(test_X, None)\n",
    "test_loader = DataLoader(test_set, batch_size=batch_size, shuffle=False)"
   ]
  },
  {
   "cell_type": "code",
   "execution_count": 164,
   "metadata": {
    "id": "ay0Fu8Ovkdad"
   },
   "outputs": [
    {
     "data": {
      "text/plain": [
       "<All keys matched successfully>"
      ]
     },
     "execution_count": 164,
     "metadata": {},
     "output_type": "execute_result"
    }
   ],
   "source": [
    "# load model\n",
    "model = Classifier(input_dim=input_dim, hidden_layers=hidden_layers,\n",
    "                   hidden_dim=hidden_dim, dropout_p=dropout_p).to(device)\n",
    "model.load_state_dict(torch.load(model_path))"
   ]
  },
  {
   "cell_type": "markdown",
   "metadata": {
    "id": "zp-DV1p4r7Nz"
   },
   "source": [
    "Make prediction."
   ]
  },
  {
   "cell_type": "code",
   "execution_count": 165,
   "metadata": {
    "id": "84HU5GGjPqR0"
   },
   "outputs": [
    {
     "name": "stderr",
     "output_type": "stream",
     "text": [
      "100%|██████████| 1031/1031 [00:05<00:00, 193.31it/s]\n"
     ]
    }
   ],
   "source": [
    "pred = np.array([], dtype=np.int32)\n",
    "\n",
    "model.eval()\n",
    "with torch.no_grad():\n",
    "    for i, batch in enumerate(tqdm(test_loader)):\n",
    "        features = batch\n",
    "        features = features.to(device)\n",
    "\n",
    "        outputs = model(features)\n",
    "\n",
    "        # get the index of the class with the highest probability\n",
    "        _, test_pred = torch.max(outputs, 1)\n",
    "        pred = np.concatenate((pred, test_pred.cpu().numpy()), axis=0)"
   ]
  },
  {
   "cell_type": "markdown",
   "metadata": {
    "id": "wyZqy40Prz0v"
   },
   "source": [
    "Write prediction to a CSV file.\n",
    "\n",
    "After finish running this block, download the file `prediction.csv` from the files section on the left-hand side and submit it to Kaggle."
   ]
  },
  {
   "cell_type": "code",
   "execution_count": null,
   "metadata": {
    "id": "GuljYSPHcZir"
   },
   "outputs": [],
   "source": [
    "with open('prediction.csv', 'w') as f:\n",
    "    f.write('Id,Class\\n')\n",
    "    for i, y in enumerate(pred):\n",
    "        f.write('{},{}\\n'.format(i, y))"
   ]
  }
 ],
 "metadata": {
  "accelerator": "GPU",
  "colab": {
   "include_colab_link": true,
   "provenance": []
  },
  "kernelspec": {
   "display_name": "Python 3 (ipykernel)",
   "language": "python",
   "name": "python3"
  },
  "language_info": {
   "codemirror_mode": {
    "name": "ipython",
    "version": 3
   },
   "file_extension": ".py",
   "mimetype": "text/x-python",
   "name": "python",
   "nbconvert_exporter": "python",
   "pygments_lexer": "ipython3",
   "version": "3.11.5"
  }
 },
 "nbformat": 4,
 "nbformat_minor": 4
}
