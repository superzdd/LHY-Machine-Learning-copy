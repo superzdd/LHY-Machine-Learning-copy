{
 "cells": [
  {
   "cell_type": "markdown",
   "id": "10ee222f-e508-493f-8d80-dcebb19c76e7",
   "metadata": {},
   "source": [
    "# Report Questions"
   ]
  },
  {
   "cell_type": "markdown",
   "id": "d674ba1f-ff3f-4515-943c-d7c6dfbb1235",
   "metadata": {},
   "source": [
    "## 1 \n",
    "### Implement 2 models with approximately the same number of parameters\n",
    "### - (A) narrower and deeper (e.g. hidden_layers=6, hidden_dim=1024)\n",
    "### - (B) wider and shallower (e.g. hidden_layers=2, hidden_dim=1750)\n",
    "### Report training/validation accuracies for both models\n",
    "\n",
    "#### Experiment 1\n",
    "The following test will be used the same hyper-parameters such as:\n",
    "\n",
    "``` python\n",
    "# concat_nframes = 21\n",
    "# num_epoch = 30 \n",
    "# learning_rate = 1e-3\n",
    "# BatchNorm1d_DID \n",
    "# NO_Dropout Dropout由于会大幅降低训练速度，可能导致对比结果太低看不出区别，所以直接取消\n",
    "```\n",
    "\n",
    "|No|Param|Train Acc|Val Acc|Cost Time|\n",
    "|-----------|-----------|-------------|-------------|-------------|\n",
    "|1-深|hidden_layers=6, hidden_dim=1024|0.98181|<font color=\"red\">0.69268</font>|19 minutes 23 seconds local|\n",
    "|2-宽|hidden_layers=2, hidden_dim=1750|<font color=\"red\">0.98946</font>|0.68692|23 minutes 40 seconds local|\n",
    "\n",
    "#### Experiment 1 Report\n",
    "1-深在验证集表现上要好于2-宽\n",
    "而且由于2-宽在训练集上表现更好，但在验证集上表现更差，我怀疑可能2-宽会在epoch更大时，Train和Valid的反差更明显，所以后续将加大epoch进行实验。\n",
    "\n",
    "#### Experiment 2\n",
    "The following test will be used the same hyper-parameters such as:\n",
    "\n",
    "``` python\n",
    "# concat_nframes = 21\n",
    "# num_epoch = 100 训练时间改为100分钟，大约耗时1.5H \n",
    "# learning_rate = 1e-3\n",
    "# BatchNorm1d_DID \n",
    "# NO_Dropout Dropout由于会大幅降低训练速度，可能导致对比结果太低看不出区别，所以直接取消\n",
    "```\n",
    "\n",
    "|No|Param|Train Acc|Val Acc|Cost Time|\n",
    "|-----------|-----------|-------------|-------------|-------------|\n",
    "|1-深|hidden_layers=6, hidden_dim=1024|0.99493|<font color=\"red\">0.69810</font>|76 minutes 51 seconds colab T4|\n",
    "|2-宽|hidden_layers=2, hidden_dim=1750|<font color=\"red\">0.99684</font>|0.68719|61 minutes 20 seconds local|\n",
    "\n",
    "#### Experiment 2 Report\n",
    "第二次整体实验加大了epoch的数量，1-深的表现仍然更好。\n",
    "2-宽在加大了epoch后，验证集相比上一次，仅增长了0.001，是所有数据中增长最慢的。所以采取1-深的网络结果会更好。\n",
    "\n",
    "#### Conclusion\n",
    "经过两次实验，最终模型<font size=14>1-深</font>在本次实验中结果更好，今后也将使用1-深来进行后续实验。\n"
   ]
  },
  {
   "cell_type": "markdown",
   "id": "38783283-d0e4-41b6-94b2-670ace62d8d0",
   "metadata": {},
   "source": [
    "## 2\n",
    "### Add dropout layers, and report training/validation accuracies with dropout rates equal to:\n",
    "### - (A) 0.25\n",
    "### - (B) 0.5\n",
    "### - (C) 0.75\n",
    "\n",
    "#### Experiment 1\n",
    "\n",
    "The following test will be used the same hyper-parameters such as:\n",
    "\n",
    "``` python\n",
    "# concat_nframes = 21\n",
    "# num_epoch = 30 \n",
    "# learning_rate = 1e-3\n",
    "# BatchNorm1d_DID\n",
    "# hidden_layers = 2\n",
    "# hidden_dim = 1750\n",
    "```\n",
    "\n",
    "|No|Param|Train Acc|Val Acc|Cost Time|\n",
    "|-----------|-----------|-------------|-------------|-------------|\n",
    "|1|dropout=0.25|xxx|xxx|xxx|\n",
    "|2|dropout=0.25|xxx|xxx|xxx|\n",
    "|3|dropout=0.25|xxx|xxx|xxx|"
   ]
  },
  {
   "cell_type": "code",
   "execution_count": 1,
   "id": "ca2801f0-45f1-43fe-ad80-4dbbebb9f7d8",
   "metadata": {
    "tags": []
   },
   "outputs": [],
   "source": [
    "a = 11508/60"
   ]
  },
  {
   "cell_type": "code",
   "execution_count": 2,
   "id": "f97285d8-6a50-48da-bfb2-b353d7f75976",
   "metadata": {
    "tags": []
   },
   "outputs": [
    {
     "data": {
      "text/plain": [
       "191.8"
      ]
     },
     "execution_count": 2,
     "metadata": {},
     "output_type": "execute_result"
    }
   ],
   "source": [
    "a"
   ]
  },
  {
   "cell_type": "code",
   "execution_count": 6,
   "id": "20ee45b2-7b52-4c19-9d32-ccd8515cf7e5",
   "metadata": {
    "tags": []
   },
   "outputs": [
    {
     "name": "stdout",
     "output_type": "stream",
     "text": [
      "total train start at: 2023-11-17 09:45:41.900894  cost:  0 minutes 5 seconds(total seconds: 5 s)\n"
     ]
    }
   ],
   "source": [
    "import datetime\n",
    "import time\n",
    "import math\n",
    "starttime = datetime.datetime.now()\n",
    "time.sleep(5)\n",
    "totalseconds = (datetime.datetime.now()-starttime).seconds;\n",
    "print('total train start at:',starttime,' cost: ', math.floor(totalseconds/60),'minutes', totalseconds%60, 'seconds(total seconds:',totalseconds,'s)')"
   ]
  },
  {
   "cell_type": "code",
   "execution_count": null,
   "id": "b4f9c251-7538-4870-bf77-6fdb0a68305c",
   "metadata": {},
   "outputs": [],
   "source": []
  }
 ],
 "metadata": {
  "kernelspec": {
   "display_name": "Python 3 (ipykernel)",
   "language": "python",
   "name": "python3"
  },
  "language_info": {
   "codemirror_mode": {
    "name": "ipython",
    "version": 3
   },
   "file_extension": ".py",
   "mimetype": "text/x-python",
   "name": "python",
   "nbconvert_exporter": "python",
   "pygments_lexer": "ipython3",
   "version": "3.11.5"
  }
 },
 "nbformat": 4,
 "nbformat_minor": 5
}
