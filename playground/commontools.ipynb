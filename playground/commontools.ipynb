{
 "cells": [
  {
   "cell_type": "code",
   "execution_count": 2,
   "id": "44109dc9-cd32-4462-a7c3-df3c5666c34c",
   "metadata": {
    "tags": []
   },
   "outputs": [
    {
     "name": "stdout",
     "output_type": "stream",
     "text": [
      "{'inKaggle': False, 'inColab': False, 'inLocal': True}\n"
     ]
    }
   ],
   "source": [
    "import os\n",
    "\n",
    "def KaggleColabLocal():\n",
    "    env = dict(\n",
    "        inKaggle=False,\n",
    "        inColab=False,\n",
    "        inLocal=False\n",
    "    )\n",
    "        \n",
    "    # 检查是否在Kaggle环境中\n",
    "    if 'KAGGLE_KERNEL_RUN_TYPE' in os.environ and os.environ['KAGGLE_KERNEL_RUN_TYPE'] == 'Interactive':\n",
    "        # print(\"在Kaggle环境中运行\")\n",
    "        env['inKaggle'] = True\n",
    "    # 检查是否在Colab环境中\n",
    "    elif 'google.colab' in str(get_ipython()):\n",
    "        # print(\"在Colab环境中运行\")\n",
    "        env['inColab'] = True\n",
    "    # 检查是否在本地JupyterLab环境中\n",
    "    elif 'JPY_PARENT_PID' in os.environ:\n",
    "        # print(\"在本地JupyterLab环境中运行\")\n",
    "        env['inLocal'] = True\n",
    "    else:\n",
    "        print(\"在其他环境中运行\")\n",
    "    return env\n",
    "\n",
    "print(KaggleColabLocal())"
   ]
  },
  {
   "cell_type": "code",
   "execution_count": null,
   "id": "5d1863d7-a0e6-4f54-a321-b0c2188b1a4b",
   "metadata": {},
   "outputs": [],
   "source": []
  }
 ],
 "metadata": {
  "kernelspec": {
   "display_name": "Python 3 (ipykernel)",
   "language": "python",
   "name": "python3"
  },
  "language_info": {
   "codemirror_mode": {
    "name": "ipython",
    "version": 3
   },
   "file_extension": ".py",
   "mimetype": "text/x-python",
   "name": "python",
   "nbconvert_exporter": "python",
   "pygments_lexer": "ipython3",
   "version": "3.11.5"
  }
 },
 "nbformat": 4,
 "nbformat_minor": 5
}
